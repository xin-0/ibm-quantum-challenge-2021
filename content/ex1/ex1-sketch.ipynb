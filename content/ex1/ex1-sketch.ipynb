{
 "cells": [
  {
   "cell_type": "code",
   "execution_count": 16,
   "metadata": {},
   "outputs": [],
   "source": [
    "from qiskit import QuantumCircuit, Aer, execute\n",
    "from qiskit.visualization import *\n",
    "from math import pi\n",
    "import numpy as np\n",
    "import matplotlib.pyplot as plt"
   ]
  },
  {
   "cell_type": "code",
   "execution_count": 17,
   "metadata": {},
   "outputs": [],
   "source": [
    "def apply_ctrl_z(qc:QuantumCircuit, q0:int, q1:int):\n",
    "    qc.rz(pi/2,q1)\n",
    "    qc.cx(q0,q1)\n",
    "    qc.rz(-pi/2,q1)\n",
    "    qc.cx(q0,q1)\n",
    "\n",
    "    return\n",
    "\n",
    "def apply_rx_pi_4(qc:QuantumCircuit, q0:int):\n",
    "    qc.rz(pi/2,q0)\n",
    "    qc.sx(q0)\n",
    "    qc.rz(5*pi/4,q0)\n",
    "    qc.sx(q0)\n",
    "    qc.rz(pi/2,q0)\n",
    "\n",
    "    return\n",
    "\n",
    "def apply_rx_neg_pi_4(qc:QuantumCircuit, q0:int):\n",
    "    qc.rz(pi/2,q0)\n",
    "    qc.sx(q0)\n",
    "    qc.rz(3*pi/4,q0)\n",
    "    qc.sx(q0)\n",
    "    qc.rz(pi/2,q0)\n",
    "\n",
    "    return\n",
    "\n",
    "def apply_ctrl_sx(qc:QuantumCircuit, q0:int, q1:int):\n",
    "    apply_rx_pi_4(qc,q1)\n",
    "    apply_ctrl_z(qc, q0, q1)\n",
    "    apply_rx_neg_pi_4(qc,q1)\n",
    "    apply_ctrl_z(qc, q0, q1)\n",
    "\n",
    "def apply_ctrl_sx_dg(qc:QuantumCircuit, q0:int, q1:int):\n",
    "    apply_ctrl_z(qc, q0, q1)\n",
    "    apply_rx_neg_pi_4(qc,q1)\n",
    "    apply_ctrl_z(qc, q0, q1)\n",
    "    apply_rx_pi_4(qc,q1)"
   ]
  },
  {
   "cell_type": "code",
   "execution_count": 18,
   "metadata": {},
   "outputs": [],
   "source": [
    "def construct_toffoli(qc:QuantumCircuit):\n",
    "    qc.rz(pi/2,2)\n",
    "    qc.sx(2)\n",
    "    qc.rz(pi/2,2)\n",
    "    \n",
    "    qc.cx(1,2)\n",
    "    qc.rz(-pi/4,2)\n",
    "    qc.cx(0,2)\n",
    "    qc.rz(pi/4,2)\n",
    "    qc.cx(1,2)\n",
    "    qc.rz(-pi/4,2)\n",
    "    qc.cx(0,2)\n",
    "\n",
    "    qc.rz(-pi/4,1)\n",
    "\n",
    "    qc.cx(0,1)\n",
    "    \n",
    "    qc.rz(3*pi/4,2)\n",
    "    qc.sx(2)\n",
    "    qc.rz(pi/2,2)\n",
    "\n",
    "    qc.rz(-pi/4,1)\n",
    "\n",
    "    qc.cx(0,1)\n",
    "    qc.rz(pi/4,0)\n",
    "    qc.rz(pi/2,1)\n",
    "\n",
    "    return"
   ]
  },
  {
   "cell_type": "code",
   "execution_count": 19,
   "metadata": {},
   "outputs": [],
   "source": [
    "def generateBinaryStrings(ndim:int):\n",
    "    res = [\"0\",\"1\"]\n",
    "    while len(res)<ndim:\n",
    "        s = res.pop()\n",
    "        res.insert(0,s+\"1\")\n",
    "        res.insert(0,s+\"0\")\n",
    "\n",
    "    return res\n",
    "\n",
    "def getSymmetricPairs(bStringArray:list):\n",
    "    pair_list = []\n",
    "    tmp = []\n",
    "    for s in bStringArray:\n",
    "        tmp.append(s[::-1])\n",
    "    d_tmp = bStringArray2DecArray(tmp)\n",
    "    tmp2 = []\n",
    "    \n",
    "    for i in range(len(bStringArray)):\n",
    "        if d_tmp[i]!=i and i not in tmp2:\n",
    "            tmp2.append(i)\n",
    "            tmp2.append(d_tmp[i])\n",
    "    \n",
    "    for i in range(len(tmp2)//2):\n",
    "        pair_list.append([tmp2[2*i],tmp2[2*i+1]])\n",
    "        \n",
    "    return pair_list \n",
    "\n",
    "def bStringArray2DecArray(bArray:list):\n",
    "    dArray =[]\n",
    "    for s in bArray:\n",
    "        l = len(s)\n",
    "        res = 0\n",
    "        for i in range(l):\n",
    "            res += int(s[i])*2**(l-1-i)\n",
    "        dArray.append(res)\n",
    "    return dArray\n",
    "\n",
    "def qiskitU2textU(unitary:np.ndarray):\n",
    "    n,m=unitary.shape\n",
    "    assert m==n\n",
    "    exchange_pairs = getSymmetricPairs(generateBinaryStrings(n))\n",
    "    for pair in exchange_pairs:\n",
    "        reverse_pair = pair[::-1]\n",
    "        unitary[pair] = unitary[reverse_pair]\n",
    "        unitary[:,pair] = unitary[:,reverse_pair]\n",
    "    return unitary"
   ]
  },
  {
   "cell_type": "code",
   "execution_count": 20,
   "metadata": {},
   "outputs": [],
   "source": [
    "def debug_get_unitary(qc:QuantumCircuit):\n",
    "    backend = Aer.get_backend(\"unitary_simulator\")\n",
    "    job = execute(qc, backend=backend)\n",
    "    unitary = job.result().get_unitary()\n",
    "    TextUnitary = qiskitU2textU(unitary)\n",
    "    norm = np.linalg.norm(np.trace(unitary))\n",
    "\n",
    "    return TextUnitary, unitary, norm"
   ]
  },
  {
   "cell_type": "code",
   "execution_count": 21,
   "metadata": {},
   "outputs": [
    {
     "data": {
      "image/png": "[encoded data removed]",
      "text/plain": [
       "<Figure size 929.397x204.68 with 1 Axes>"
      ]
     },
     "execution_count": 21,
     "metadata": {},
     "output_type": "execute_result"
    }
   ],
   "source": [
    "qc = QuantumCircuit(3)\n",
    "\n",
    "construct_toffoli(qc)\n",
    "qc.draw(\"mpl\")"
   ]
  },
  {
   "cell_type": "code",
   "execution_count": 22,
   "metadata": {},
   "outputs": [],
   "source": [
    "textU, _, _ = debug_get_unitary(qc)"
   ]
  },
  {
   "cell_type": "code",
   "execution_count": 23,
   "metadata": {},
   "outputs": [
    {
     "name": "stdout",
     "output_type": "stream",
     "text": [
      "[[-3.82683432e-01-9.23879533e-01j  1.41064721e-16-5.32243083e-17j\n",
      "   0.00000000e+00+0.00000000e+00j  0.00000000e+00+0.00000000e+00j\n",
      "   0.00000000e+00+0.00000000e+00j  0.00000000e+00+0.00000000e+00j\n",
      "   0.00000000e+00+0.00000000e+00j  0.00000000e+00+0.00000000e+00j]\n",
      " [ 1.38777878e-16+8.55535698e-17j -3.82683432e-01-9.23879533e-01j\n",
      "   0.00000000e+00+0.00000000e+00j  0.00000000e+00+0.00000000e+00j\n",
      "   0.00000000e+00+0.00000000e+00j  0.00000000e+00+0.00000000e+00j\n",
      "   0.00000000e+00+0.00000000e+00j  0.00000000e+00+0.00000000e+00j]\n",
      " [ 0.00000000e+00+0.00000000e+00j  0.00000000e+00+0.00000000e+00j\n",
      "  -3.82683432e-01-9.23879533e-01j  1.13309145e-16-1.08735460e-16j\n",
      "   0.00000000e+00+0.00000000e+00j  0.00000000e+00+0.00000000e+00j\n",
      "   0.00000000e+00+0.00000000e+00j  0.00000000e+00+0.00000000e+00j]\n",
      " [ 0.00000000e+00+0.00000000e+00j  0.00000000e+00+0.00000000e+00j\n",
      "   0.00000000e+00+3.00424186e-17j -3.82683432e-01-9.23879533e-01j\n",
      "   0.00000000e+00+0.00000000e+00j  0.00000000e+00+0.00000000e+00j\n",
      "   0.00000000e+00+0.00000000e+00j  0.00000000e+00+0.00000000e+00j]\n",
      " [ 0.00000000e+00+0.00000000e+00j  0.00000000e+00+0.00000000e+00j\n",
      "   0.00000000e+00+0.00000000e+00j  0.00000000e+00+0.00000000e+00j\n",
      "  -3.82683432e-01-9.23879533e-01j  2.52087023e-16-5.32243083e-17j\n",
      "   0.00000000e+00+0.00000000e+00j  0.00000000e+00+0.00000000e+00j]\n",
      " [ 0.00000000e+00+0.00000000e+00j  0.00000000e+00+0.00000000e+00j\n",
      "   0.00000000e+00+0.00000000e+00j  0.00000000e+00+0.00000000e+00j\n",
      "   1.38777878e-16+8.55535698e-17j -3.82683432e-01-9.23879533e-01j\n",
      "   0.00000000e+00+0.00000000e+00j  0.00000000e+00+0.00000000e+00j]\n",
      " [ 0.00000000e+00+0.00000000e+00j  0.00000000e+00+0.00000000e+00j\n",
      "   0.00000000e+00+0.00000000e+00j  0.00000000e+00+0.00000000e+00j\n",
      "   0.00000000e+00+0.00000000e+00j  0.00000000e+00+0.00000000e+00j\n",
      "   1.13309145e-16-1.08735460e-16j -3.82683432e-01-9.23879533e-01j]\n",
      " [ 0.00000000e+00+0.00000000e+00j  0.00000000e+00+0.00000000e+00j\n",
      "   0.00000000e+00+0.00000000e+00j  0.00000000e+00+0.00000000e+00j\n",
      "   0.00000000e+00+0.00000000e+00j  0.00000000e+00+0.00000000e+00j\n",
      "  -3.82683432e-01-9.23879533e-01j  0.00000000e+00+3.00424186e-17j]]\n"
     ]
    }
   ],
   "source": [
    "print(textU)"
   ]
  },
  {
   "cell_type": "code",
   "execution_count": 24,
   "metadata": {},
   "outputs": [
    {
     "name": "stdout",
     "output_type": "stream",
     "text": [
      "[[ 1.00000000e+00-5.24321526e-10j -4.81028249e-18+1.50694869e-16j\n",
      "  -0.00000000e+00-0.00000000e+00j -0.00000000e+00-0.00000000e+00j\n",
      "  -0.00000000e+00-0.00000000e+00j -0.00000000e+00-0.00000000e+00j\n",
      "  -0.00000000e+00-0.00000000e+00j -0.00000000e+00-0.00000000e+00j]\n",
      " [-1.32149187e-16+9.54741074e-17j  1.00000000e+00-5.24321474e-10j\n",
      "  -0.00000000e+00-0.00000000e+00j -0.00000000e+00-0.00000000e+00j\n",
      "  -0.00000000e+00-0.00000000e+00j -0.00000000e+00-0.00000000e+00j\n",
      "  -0.00000000e+00-0.00000000e+00j -0.00000000e+00-0.00000000e+00j]\n",
      " [-0.00000000e+00-0.00000000e+00j -0.00000000e+00-0.00000000e+00j\n",
      "   1.00000000e+00-5.24321782e-10j  5.70969329e-17+1.46295259e-16j\n",
      "  -0.00000000e+00-0.00000000e+00j -0.00000000e+00-0.00000000e+00j\n",
      "  -0.00000000e+00-0.00000000e+00j -0.00000000e+00-0.00000000e+00j]\n",
      " [-0.00000000e+00-0.00000000e+00j -0.00000000e+00-0.00000000e+00j\n",
      "  -2.77555756e-17-1.14967358e-17j  1.00000000e+00-5.24321782e-10j\n",
      "  -0.00000000e+00-0.00000000e+00j -0.00000000e+00-0.00000000e+00j\n",
      "  -0.00000000e+00-0.00000000e+00j -0.00000000e+00-0.00000000e+00j]\n",
      " [-0.00000000e+00-0.00000000e+00j -0.00000000e+00-0.00000000e+00j\n",
      "  -0.00000000e+00-0.00000000e+00j -0.00000000e+00-0.00000000e+00j\n",
      "   1.00000000e+00-5.24321526e-10j -4.72966782e-17+2.53266102e-16j\n",
      "  -0.00000000e+00-0.00000000e+00j -0.00000000e+00-0.00000000e+00j]\n",
      " [-0.00000000e+00-0.00000000e+00j -0.00000000e+00-0.00000000e+00j\n",
      "  -0.00000000e+00-0.00000000e+00j -0.00000000e+00-0.00000000e+00j\n",
      "  -1.32149187e-16+9.54741074e-17j  1.00000000e+00-5.24321577e-10j\n",
      "  -0.00000000e+00-0.00000000e+00j -0.00000000e+00-0.00000000e+00j]\n",
      " [-0.00000000e+00-0.00000000e+00j -0.00000000e+00-0.00000000e+00j\n",
      "  -0.00000000e+00-0.00000000e+00j -0.00000000e+00-0.00000000e+00j\n",
      "  -0.00000000e+00-0.00000000e+00j -0.00000000e+00-0.00000000e+00j\n",
      "   5.70969329e-17+1.46295259e-16j  1.00000000e+00-5.24321782e-10j]\n",
      " [-0.00000000e+00-0.00000000e+00j -0.00000000e+00-0.00000000e+00j\n",
      "  -0.00000000e+00-0.00000000e+00j -0.00000000e+00-0.00000000e+00j\n",
      "  -0.00000000e+00-0.00000000e+00j -0.00000000e+00-0.00000000e+00j\n",
      "   1.00000000e+00-5.24321628e-10j -2.77555756e-17-1.14967358e-17j]]\n"
     ]
    }
   ],
   "source": [
    "res = textU/(-3.82683432e-01-9.23879533e-01j)\n",
    "print(res)"
   ]
  },
  {
   "cell_type": "code",
   "execution_count": 25,
   "metadata": {},
   "outputs": [],
   "source": [
    "simplified = np.zeros((8,8))"
   ]
  },
  {
   "cell_type": "code",
   "execution_count": 26,
   "metadata": {},
   "outputs": [
    {
     "name": "stderr",
     "output_type": "stream",
     "text": [
      "<ipython-input-26-97d26b160d09>:7: ComplexWarning: Casting complex values to real discards the imaginary part\n",
      "  simplified[i,j] = res[i,j]\n"
     ]
    }
   ],
   "source": [
    "for i in range(8):\n",
    "    for j in range(8):\n",
    "        if np.linalg.norm(res[i,j]-1)<0.01:\n",
    "            simplified[i,j] = 1\n",
    "        if np.linalg.norm(res[i,j])<0.01:\n",
    "            continue\n",
    "        simplified[i,j] = res[i,j]"
   ]
  },
  {
   "cell_type": "code",
   "execution_count": 27,
   "metadata": {},
   "outputs": [
    {
     "data": {
      "text/plain": [
       "array([[1., 0., 0., 0., 0., 0., 0., 0.],\n",
       "       [0., 1., 0., 0., 0., 0., 0., 0.],\n",
       "       [0., 0., 1., 0., 0., 0., 0., 0.],\n",
       "       [0., 0., 0., 1., 0., 0., 0., 0.],\n",
       "       [0., 0., 0., 0., 1., 0., 0., 0.],\n",
       "       [0., 0., 0., 0., 0., 1., 0., 0.],\n",
       "       [0., 0., 0., 0., 0., 0., 0., 1.],\n",
       "       [0., 0., 0., 0., 0., 0., 1., 0.]])"
      ]
     },
     "execution_count": 27,
     "metadata": {},
     "output_type": "execute_result"
    }
   ],
   "source": [
    "simplified"
   ]
  },
  {
   "cell_type": "code",
   "execution_count": null,
   "metadata": {},
   "outputs": [],
   "source": []
  }
 ],
 "metadata": {
  "kernelspec": {
   "display_name": "Python 3.8.5 64-bit",
   "language": "python",
   "name": "python38564bitd0bf5d6383924f4a95665f412bf51804"
  },
  "language_info": {
   "codemirror_mode": {
    "name": "ipython",
    "version": 3
   },
   "file_extension": ".py",
   "mimetype": "text/x-python",
   "name": "python",
   "nbconvert_exporter": "python",
   "pygments_lexer": "ipython3",
   "version": "3.8.5"
  },
  "metadata": {
   "interpreter": {
    "hash": "0adcc2737ebf6a4a119f135174df96668767fca1ef1112612db5ecadf2b6d608"
   }
  }
 },
 "nbformat": 4,
 "nbformat_minor": 2
}
