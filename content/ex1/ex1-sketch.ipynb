{
 "metadata": {
  "language_info": {
   "codemirror_mode": {
    "name": "ipython",
    "version": 3
   },
   "file_extension": ".py",
   "mimetype": "text/x-python",
   "name": "python",
   "nbconvert_exporter": "python",
   "pygments_lexer": "ipython3",
   "version": "3.8.2"
  },
  "orig_nbformat": 2,
  "kernelspec": {
   "name": "python38264bit2160f561b03e41aa9a258a14654e4005",
   "display_name": "Python 3.8.2 64-bit"
  },
  "metadata": {
   "interpreter": {
    "hash": "0adcc2737ebf6a4a119f135174df96668767fca1ef1112612db5ecadf2b6d608"
   }
  }
 },
 "nbformat": 4,
 "nbformat_minor": 2,
 "cells": [
  {
   "cell_type": "code",
   "execution_count": 11,
   "metadata": {},
   "outputs": [],
   "source": [
    "from qiskit import QuantumCircuit, Aer, execute\n",
    "from qiskit.visualization import *\n",
    "from math import pi\n",
    "import numpy as np\n",
    "import matplotlib.pyplot as plt"
   ]
  },
  {
   "cell_type": "code",
   "execution_count": 12,
   "metadata": {},
   "outputs": [],
   "source": [
    "def apply_ctrl_z(qc:QuantumCircuit, q0:int, q1:int):\n",
    "    qc.rz(pi/2,q1)\n",
    "    qc.cx(q0,q1)\n",
    "    qc.rz(-pi/2,q1)\n",
    "    qc.cx(q0,q1)\n",
    "\n",
    "    return\n",
    "\n",
    "def apply_rx_pi_4(qc:QuantumCircuit, q0:int):\n",
    "    qc.rz(pi/2,q0)\n",
    "    qc.sx(q0)\n",
    "    qc.rz(5*pi/4,q0)\n",
    "    qc.sx(q0)\n",
    "    qc.rz(pi/2,q0)\n",
    "\n",
    "    return\n",
    "\n",
    "def apply_rx_neg_pi_4(qc:QuantumCircuit, q0:int):\n",
    "    qc.rz(pi/2,q0)\n",
    "    qc.sx(q0)\n",
    "    qc.rz(3*pi/4,q0)\n",
    "    qc.sx(q0)\n",
    "    qc.rz(pi/2,q0)\n",
    "\n",
    "    return\n",
    "\n",
    "def apply_ctrl_sx(qc:QuantumCircuit, q0:int, q1:int):\n",
    "    apply_rx_pi_4(qc,q1)\n",
    "    apply_ctrl_z(qc, q0, q1)\n",
    "    apply_rx_neg_pi_4(qc,q1)\n",
    "    apply_ctrl_z(qc, q0, q1)\n",
    "\n",
    "def apply_ctrl_sx_dg(qc:QuantumCircuit, q0:int, q1:int):\n",
    "    apply_ctrl_z(qc, q0, q1)\n",
    "    apply_rx_neg_pi_4(qc,q1)\n",
    "    apply_ctrl_z(qc, q0, q1)\n",
    "    apply_rx_pi_4(qc,q1)"
   ]
  },
  {
   "cell_type": "code",
   "execution_count": 13,
   "metadata": {},
   "outputs": [],
   "source": [
    "def debug_get_unitary(qc:QuantumCircuit):\n",
    "    backend = Aer.get_backend(\"unitary_simulator\")\n",
    "    job = execute(qc, backend=backend)\n",
    "    unitary = job.result().get_unitary()\n",
    "    norm = np.linalg.norm(np.trace(unitary))\n",
    "\n",
    "    return unitary, norm"
   ]
  },
  {
   "cell_type": "code",
   "execution_count": 14,
   "metadata": {},
   "outputs": [
    {
     "output_type": "execute_result",
     "data": {
      "text/plain": [
       "<Figure size 193.726x84.28 with 1 Axes>"
      ],
      "image/svg+xml": "<?xml version=\"1.0\" encoding=\"utf-8\" standalone=\"no\"?>\n<!DOCTYPE svg PUBLIC \"-//W3C//DTD SVG 1.1//EN\"\n  \"http://www.w3.org/Graphics/SVG/1.1/DTD/svg11.dtd\">\n<!-- Created with matplotlib (https://matplotlib.org/) -->\n<svg height=\"78.0314pt\" version=\"1.1\" viewBox=\"0 0 160.663136 78.0314\" width=\"160.663136pt\" xmlns=\"http://www.w3.org/2000/svg\" xmlns:xlink=\"http://www.w3.org/1999/xlink\">\n <metadata>\n  <rdf:RDF xmlns:cc=\"http://creativecommons.org/ns#\" xmlns:dc=\"http://purl.org/dc/elements/1.1/\" xmlns:rdf=\"http://www.w3.org/1999/02/22-rdf-syntax-ns#\">\n   <cc:Work>\n    <dc:type rdf:resource=\"http://purl.org/dc/dcmitype/StillImage\"/>\n    <dc:date>2021-05-22T20:20:50.284425</dc:date>\n    <dc:format>image/svg+xml</dc:format>\n    <dc:creator>\n     <cc:Agent>\n      <dc:title>Matplotlib v3.3.4, https://matplotlib.org/</dc:title>\n     </cc:Agent>\n    </dc:creator>\n   </cc:Work>\n  </rdf:RDF>\n </metadata>\n <defs>\n  <style type=\"text/css\">*{stroke-linecap:butt;stroke-linejoin:round;}</style>\n </defs>\n <g id=\"figure_1\">\n  <g id=\"patch_1\">\n   <path d=\"M 0 78.0314 \nL 160.663136 78.0314 \nL 160.663136 0 \nL 0 0 \nz\n\" style=\"fill:#ffffff;\"/>\n  </g>\n  <g id=\"axes_1\">\n   <g id=\"line2d_1\">\n    <path clip-path=\"url(#paa73bf034e)\" d=\"M 53.470936 43.5608 \nL 148.918036 43.5608 \n\" style=\"fill:none;stroke:#000000;stroke-linecap:square;stroke-width:2;\"/>\n   </g>\n   <g id=\"patch_2\">\n    <path clip-path=\"url(#paa73bf034e)\" d=\"M 63.242901 58.332375 \nL 92.786051 58.332375 \nL 92.786051 28.789225 \nL 63.242901 28.789225 \nz\n\" style=\"fill:#bb8bff;stroke:#bb8bff;stroke-linejoin:miter;stroke-width:1.5;\"/>\n   </g>\n   <g id=\"patch_3\">\n    <path clip-path=\"url(#paa73bf034e)\" d=\"M 108.693901 58.332375 \nL 138.237051 58.332375 \nL 138.237051 28.789225 \nL 108.693901 28.789225 \nz\n\" style=\"fill:#bb8bff;stroke:#bb8bff;stroke-linejoin:miter;stroke-width:1.5;\"/>\n   </g>\n   <g id=\"text_1\">\n    <g clip-path=\"url(#paa73bf034e)\">\n     <!-- $\\sqrt{\\mathrm{X}}$ -->\n     <g transform=\"translate(68.004476 48.007206)scale(0.13 -0.13)\">\n      <defs>\n       <path d=\"M 108.90625 155.203125 \nL 52.703125 -29.5 \nL 48.5 -29.5 \nL 25.40625 45.59375 \nQ 24.296875 49.203125 22.890625 50.796875 \nQ 21.5 52.40625 19.203125 52.40625 \nQ 15.796875 52.40625 12.40625 49.703125 \nL 11.203125 51.703125 \nL 27.59375 64.296875 \nL 30.09375 64.296875 \nL 52.796875 -9.40625 \nL 53.203125 -9.40625 \nL 103.203125 155.203125 \nz\n\" id=\"STIXSizeOneSym-Regular-8730\"/>\n       <path d=\"M 6.296875 72.90625 \nL 16.890625 72.90625 \nL 35.015625 45.796875 \nL 53.21875 72.90625 \nL 63.8125 72.90625 \nL 40.375 37.890625 \nL 65.375 0 \nL 54.78125 0 \nL 34.28125 31 \nL 13.625 0 \nL 2.984375 0 \nL 29 38.921875 \nz\n\" id=\"DejaVuSans-88\"/>\n      </defs>\n      <use transform=\"translate(0 17.09375)scale(0.563912)\" xlink:href=\"#STIXSizeOneSym-Regular-8730\"/>\n      <use transform=\"translate(72.088364 0.84375)\" xlink:href=\"#DejaVuSans-88\"/>\n      <path d=\"M 59.588364 97.5 \nL 59.588364 103.75 \nL 153.094223 103.75 \nL 153.094223 97.5 \nL 59.588364 97.5 \nz\n\"/>\n     </g>\n    </g>\n   </g>\n   <g id=\"text_2\">\n    <g clip-path=\"url(#paa73bf034e)\">\n     <!-- $\\sqrt{\\mathrm{X}}$ -->\n     <g transform=\"translate(113.455476 48.007206)scale(0.13 -0.13)\">\n      <use transform=\"translate(0 17.09375)scale(0.563912)\" xlink:href=\"#STIXSizeOneSym-Regular-8730\"/>\n      <use transform=\"translate(72.088364 0.84375)\" xlink:href=\"#DejaVuSans-88\"/>\n      <path d=\"M 59.588364 97.5 \nL 59.588364 103.75 \nL 153.094223 103.75 \nL 153.094223 97.5 \nL 59.588364 97.5 \nz\n\"/>\n     </g>\n    </g>\n   </g>\n   <g id=\"text_3\">\n    <g clip-path=\"url(#paa73bf034e)\">\n     <!-- q -->\n     <g transform=\"translate(34.064525 48.044784)scale(0.1625 -0.1625)\">\n      <defs>\n       <path d=\"M 14.796875 27.296875 \nQ 14.796875 17.390625 18.875 11.75 \nQ 22.953125 6.109375 30.078125 6.109375 \nQ 37.203125 6.109375 41.296875 11.75 \nQ 45.40625 17.390625 45.40625 27.296875 \nQ 45.40625 37.203125 41.296875 42.84375 \nQ 37.203125 48.484375 30.078125 48.484375 \nQ 22.953125 48.484375 18.875 42.84375 \nQ 14.796875 37.203125 14.796875 27.296875 \nz\nM 45.40625 8.203125 \nQ 42.578125 3.328125 38.25 0.953125 \nQ 33.9375 -1.421875 27.875 -1.421875 \nQ 17.96875 -1.421875 11.734375 6.484375 \nQ 5.515625 14.40625 5.515625 27.296875 \nQ 5.515625 40.1875 11.734375 48.09375 \nQ 17.96875 56 27.875 56 \nQ 33.9375 56 38.25 53.625 \nQ 42.578125 51.265625 45.40625 46.390625 \nL 45.40625 54.6875 \nL 54.390625 54.6875 \nL 54.390625 -20.796875 \nL 45.40625 -20.796875 \nz\n\" id=\"DejaVuSans-113\"/>\n      </defs>\n      <use xlink:href=\"#DejaVuSans-113\"/>\n     </g>\n    </g>\n   </g>\n  </g>\n </g>\n <defs>\n  <clipPath id=\"paa73bf034e\">\n   <rect height=\"63.6314\" width=\"146.263136\" x=\"7.2\" y=\"7.2\"/>\n  </clipPath>\n </defs>\n</svg>\n",
      "image/png": "[encoded data removed]"
     },
     "metadata": {},
     "execution_count": 14
    }
   ],
   "source": [
    "qc = QuantumCircuit(1)\n",
    "qc.sx(0)\n",
    "qc.sx(0)\n",
    "# qc.sx(0)\n",
    "# qc.sx(0)\n",
    "qc.draw(\"mpl\")"
   ]
  },
  {
   "cell_type": "code",
   "execution_count": 15,
   "metadata": {},
   "outputs": [],
   "source": [
    "unitary, norm = debug_get_unitary(qc)"
   ]
  },
  {
   "cell_type": "code",
   "execution_count": 16,
   "metadata": {},
   "outputs": [
    {
     "output_type": "stream",
     "name": "stdout",
     "text": [
      "[[0.+0.j 1.+0.j]\n [1.+0.j 0.+0.j]]\n"
     ]
    }
   ],
   "source": [
    "print(unitary)"
   ]
  },
  {
   "cell_type": "code",
   "execution_count": null,
   "metadata": {},
   "outputs": [],
   "source": []
  }
 ]
}