{
 "metadata": {
  "language_info": {
   "codemirror_mode": {
    "name": "ipython",
    "version": 3
   },
   "file_extension": ".py",
   "mimetype": "text/x-python",
   "name": "python",
   "nbconvert_exporter": "python",
   "pygments_lexer": "ipython3",
   "version": "3.8.2"
  },
  "orig_nbformat": 2,
  "kernelspec": {
   "name": "python38264bit2160f561b03e41aa9a258a14654e4005",
   "display_name": "Python 3.8.2 64-bit"
  },
  "metadata": {
   "interpreter": {
    "hash": "0adcc2737ebf6a4a119f135174df96668767fca1ef1112612db5ecadf2b6d608"
   }
  }
 },
 "nbformat": 4,
 "nbformat_minor": 2,
 "cells": [
  {
   "cell_type": "code",
   "execution_count": 50,
   "metadata": {},
   "outputs": [],
   "source": [
    "from qiskit import QuantumCircuit, Aer, execute\n",
    "from qiskit.visualization import *\n",
    "from math import pi\n",
    "import numpy as np\n",
    "import matplotlib.pyplot as plt"
   ]
  },
  {
   "cell_type": "code",
   "execution_count": 51,
   "metadata": {},
   "outputs": [],
   "source": [
    "def apply_ctrl_z(qc:QuantumCircuit, q0:int, q1:int):\n",
    "    qc.rz(pi/2,q1)\n",
    "    qc.cx(q0,q1)\n",
    "    qc.rz(-pi/2,q1)\n",
    "    qc.cx(q0,q1)\n",
    "\n",
    "    return\n",
    "\n",
    "def apply_rx_pi_4(qc:QuantumCircuit, q0:int):\n",
    "    qc.rz(pi/2,q0)\n",
    "    qc.sx(q0)\n",
    "    qc.rz(5*pi/4,q0)\n",
    "    qc.sx(q0)\n",
    "    qc.rz(pi/2,q0)\n",
    "\n",
    "    return\n",
    "\n",
    "def apply_rx_neg_pi_4(qc:QuantumCircuit, q0:int):\n",
    "    qc.rz(pi/2,q0)\n",
    "    qc.sx(q0)\n",
    "    qc.rz(3*pi/4,q0)\n",
    "    qc.sx(q0)\n",
    "    qc.rz(pi/2,q0)\n",
    "\n",
    "    return\n",
    "\n",
    "def apply_ctrl_sx(qc:QuantumCircuit, q0:int, q1:int):\n",
    "    apply_rx_pi_4(qc,q1)\n",
    "    apply_ctrl_z(qc, q0, q1)\n",
    "    apply_rx_neg_pi_4(qc,q1)\n",
    "    apply_ctrl_z(qc, q0, q1)\n",
    "\n",
    "def apply_ctrl_sx_dg(qc:QuantumCircuit, q0:int, q1:int):\n",
    "    apply_ctrl_z(qc, q0, q1)\n",
    "    apply_rx_neg_pi_4(qc,q1)\n",
    "    apply_ctrl_z(qc, q0, q1)\n",
    "    apply_rx_pi_4(qc,q1)"
   ]
  },
  {
   "cell_type": "code",
   "execution_count": 52,
   "metadata": {},
   "outputs": [],
   "source": [
    "def generateBinaryStrings(ndim:int):\n",
    "    res = [\"0\",\"1\"]\n",
    "    while len(res)<ndim:\n",
    "        s = res.pop()\n",
    "        res.insert(0,s+\"1\")\n",
    "        res.insert(0,s+\"0\")\n",
    "\n",
    "    return res\n",
    "\n",
    "def getSymmetricPairs(bStringArray:list):\n",
    "    pair_list = []\n",
    "    tmp = []\n",
    "    for s in bStringArray:\n",
    "        tmp.append(s[::-1])\n",
    "    d_tmp = bStringArray2DecArray(tmp)\n",
    "    tmp2 = []\n",
    "    \n",
    "    for i in range(len(bStringArray)):\n",
    "        if d_tmp[i]!=i and i not in tmp2:\n",
    "            tmp2.append(i)\n",
    "            tmp2.append(d_tmp[i])\n",
    "    \n",
    "    for i in range(len(tmp2)//2):\n",
    "        pair_list.append([tmp2[2*i],tmp2[2*i+1]])\n",
    "        \n",
    "    return pair_list \n",
    "\n",
    "def bStringArray2DecArray(bArray:list):\n",
    "    dArray =[]\n",
    "    for s in bArray:\n",
    "        l = len(s)\n",
    "        res = 0\n",
    "        for i in range(l):\n",
    "            res += int(s[i])*2**(l-1-i)\n",
    "        dArray.append(res)\n",
    "    return dArray\n",
    "\n",
    "def qiskitU2textU(unitary:np.ndarray):\n",
    "    n,m=unitary.shape\n",
    "    assert m==n\n",
    "    exchange_pairs = getSymmetricPairs(generateBinaryStrings(n))\n",
    "    for pair in exchange_pairs:\n",
    "        reverse_pair = pair[::-1]\n",
    "        unitary[pair] = unitary[reverse_pair]\n",
    "        unitary[:,pair] = unitary[:,reverse_pair]\n",
    "    return unitary"
   ]
  },
  {
   "cell_type": "code",
   "execution_count": 53,
   "metadata": {},
   "outputs": [],
   "source": [
    "def debug_get_unitary(qc:QuantumCircuit):\n",
    "    backend = Aer.get_backend(\"unitary_simulator\")\n",
    "    job = execute(qc, backend=backend)\n",
    "    unitary = job.result().get_unitary()\n",
    "    TextUnitary = qiskitU2textU(unitary)\n",
    "    norm = np.linalg.norm(np.trace(unitary))\n",
    "\n",
    "    return TextUnitary, unitary, norm"
   ]
  },
  {
   "cell_type": "code",
   "execution_count": 54,
   "metadata": {},
   "outputs": [
    {
     "output_type": "execute_result",
     "data": {
      "text/plain": [
       "           \n",
       "q_0: ──■───\n",
       "     ┌─┴──┐\n",
       "q_1: ┤ √X ├\n",
       "     └────┘"
      ],
      "text/html": "<pre style=\"word-wrap: normal;white-space: pre;background: #fff0;line-height: 1.1;font-family: &quot;Courier New&quot;,Courier,monospace\">           \nq_0: ──■───\n     ┌─┴──┐\nq_1: ┤ √X ├\n     └────┘</pre>"
     },
     "metadata": {},
     "execution_count": 54
    }
   ],
   "source": [
    "qc = QuantumCircuit(2)\n",
    "qc.csx(0,1)\n",
    "qc.draw()"
   ]
  },
  {
   "cell_type": "code",
   "execution_count": 55,
   "metadata": {},
   "outputs": [
    {
     "output_type": "stream",
     "name": "stdout",
     "text": [
      "[[1. +0.j  0. +0.j  0. +0.j  0. +0.j ]\n [0. +0.j  1. +0.j  0. +0.j  0. +0.j ]\n [0. +0.j  0. +0.j  0.5+0.5j 0.5-0.5j]\n [0. +0.j  0. +0.j  0.5-0.5j 0.5+0.5j]]\n"
     ]
    }
   ],
   "source": [
    "unitary,_,_ = debug_get_unitary(qc)\n",
    "print(unitary)"
   ]
  }
 ]
}