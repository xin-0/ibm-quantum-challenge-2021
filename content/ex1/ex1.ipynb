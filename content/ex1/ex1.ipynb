{
 "cells": [
  {
   "cell_type": "markdown",
   "metadata": {},
   "source": [
    "# Exercise 1 - Toffoli gate\n",
    "\n",
    "## Historical background\n",
    "\n",
    "Forty years ago, a ragtag group of 50 thinkers arranged themselves for a photo on the lawn of MIT’s Endicott House. Few at the Physics of Computation Conference, jointly organized by MIT and IBM, thought they were making history in 1981. It was arguably the birthplace of physics of computing, and especially the now-burgeoning field of quantum computing, as a serious subject worthy of a textbook or university course.\n",
    "\n",
    "It was at this conference where Feynman uttered his now-famous quote: “Nature isn’t classical, dammit, and if you want to make a simulation of nature, you’d better make it quantum mechanical, and by golly it’s a wonderful problem, because it doesn’t look so easy.”[1] Earlier this month, we celebrated the 40th anniversary of this important conference. You can read more [here](https://youtu.be/GR6ANm6Z0yk).\n",
    "\n",
    "![](resources/conference-photo.jpeg)\n",
    "\n",
    "One of the theme discussed in the conference was reversible computing, which Tommaso Toffoli and Edward Fredkin in MIT have been thinking about in the past few years prior.[2-3] Toffoli came up with a reversible version of AND/NAND gate (which are now called Toffoli gate, or controlled-controlled-NOT gate). Because NAND gate is universal in classical computing, Toffoli gate is a universal reversible logic gate. Quantum computing is a special form of reversible computing; any reversible gate can be implemented on a quantum computer, and hence the Toffoli gate is also a quantum logic gate. However, Toffoli gate alone is not a universal gate for quantum computing. \n",
    "\n",
    "In this exercise, we will explore the Toffoli gate and universal gate sets for quantum computers.\n",
    "\n",
    "### References\n",
    "1. Feynman, Richard P. \"Simulating physics with computers.\" Int. J. Theor. Phys 21.6/7 (1982).\n",
    "1. Toffoli, Tommaso. \"Reversible computing.\" International colloquium on automata, languages, and programming. Springer, Berlin, Heidelberg, 1980.\n",
    "1. Fredkin, Edward, and Tommaso Toffoli. \"Conservative logic.\" International Journal of theoretical physics 21.3 (1982): 219-253."
   ]
  },
  {
   "cell_type": "markdown",
   "metadata": {},
   "source": [
    "## Classical logic gates\n",
    "\n",
    "In classical computation one often used model is Boolean logic or classical logical gates. Such gates represent Boolean functions, functions with only binary (0,1) input and output. One interesting aspect of Boolean logic is, that all possible binary functions can be formed by only using a combination of only a small number of different logic gates. Such sets are called functionally complete sets. One famous such set is AND and NOT. These two gates are enough to express all possible functions. The same is true for OR and NOT. There exists smaller sets, such as the NAND and NOR which alone are universal, nevertheless the functions AND, NOT and OR are often seen as the basic blocks of classical computation.\n",
    "\n",
    "<div class=\"alert alert-block alert-success\">\n",
    "\n",
    "**Goal**\n",
    "\n",
    "Construct a Toffoli gate using the basis gate set (CX, RZ, SX and X gates) of IBM Quantum systems.\n",
    "\n",
    "</div>\n",
    "\n",
    "<div class=\"alert alert-block alert-danger\">\n",
    "    \n",
    "This exercise aims to teach you the basic concepts of quantum gates and how to construct quantum circuits\n",
    "1. visually using the Circuit Composer widget\n",
    "2. programmatically using Qiskit. \n",
    "\n",
    "If you are already familiar with quantum gates and Qiskit. You can jump directly to <a href=#problem>the problem</a>.\n",
    "</div>"
   ]
  },
  {
   "cell_type": "code",
   "execution_count": 1,
   "metadata": {},
   "outputs": [],
   "source": [
    "# Getting rid of unnecessary warnings\n",
    "import warnings\n",
    "from matplotlib.cbook import MatplotlibDeprecationWarning\n",
    "warnings.filterwarnings('ignore', category=MatplotlibDeprecationWarning)\n",
    "\n",
    "# Importing standard Qiskit libraries\n",
    "from qiskit import QuantumCircuit, execute, Aer, IBMQ, QuantumRegister, ClassicalRegister\n",
    "from qiskit.compiler import transpile, assemble\n",
    "from qiskit.tools.jupyter import *\n",
    "from qiskit.visualization import *\n",
    "from ibm_quantum_widgets import *\n",
    "\n",
    "# Useful to have pi\n",
    "import math\n",
    "pi=math.pi"
   ]
  },
  {
   "source": [
    "```cx(ctrl, target)```: CNOT gate\n",
    "\n",
    "```rz(phi, qubit)```: $R_z(\\theta)$ gate \n",
    "\n",
    "$$\\begin{pmatrix}e^{-i\\theta/2} & 0 \\\\ 0 & e^{i\\theta/2}\\end{pmatrix}$$\n",
    "\n",
    "```sx(qubit)```: sqare root of $X$ gate \n",
    "\n",
    "$$\\sqrt{X} = {1\\over 2}  \\begin{pmatrix} 1+i & 1-i \\\\ 1-i & 1+i \\end{pmatrix}$$\n",
    "\n",
    "```x```: Pauli $X$ gate\n",
    "\n",
    "$$\\begin{pmatrix} 0 & 1 \\\\ 1 & 0 \\end{pmatrix}$$\n",
    "\n",
    "A naive approach based on: ![](resources/HTS_toffoli.png)\n",
    "\n",
    "Using \n",
    "\n",
    "$$ H = R_z(\\pi/2)\\sqrt{X}R_z(\\pi/2)$$\n",
    "$$ T = R_z(\\pi/4)$$\n",
    "$$ S = R_z(\\pi/2)$$"
   ],
   "cell_type": "markdown",
   "metadata": {}
  },
  {
   "cell_type": "code",
   "execution_count": 26,
   "metadata": {},
   "outputs": [],
   "source": [
    "toffoli_cicuit = QuantumCircuit(3)\n",
    "\n",
    "def construct_toffoli(qc:QuantumCircuit):\n",
    "    qc.h(2)\n",
    "    qc.cx(1,2)\n",
    "    qc.rz(-pi/4,2)\n",
    "    qc.cx(0,2)\n",
    "    qc.rz(pi/4,2)\n",
    "    qc.cx(1,2)\n",
    "    qc.rz(-pi/4,2)\n",
    "    qc.cx(0,2)\n",
    "\n",
    "    qc.rz(-pi/4,1)\n",
    "    qc.rz(pi/4,2)\n",
    "\n",
    "    qc.cx(0,1)\n",
    "    qc.h(2)\n",
    "\n",
    "    qc.rz(-pi/4,1)\n",
    "\n",
    "    qc.cx(0,1)\n",
    "    qc.rz(pi/4,0)\n",
    "    qc.rz(pi/2,1)\n",
    "\n",
    "    return\n",
    "    \n",
    "construct_toffoli(toffoli_cicuit)"
   ]
  },
  {
   "cell_type": "code",
   "execution_count": 27,
   "metadata": {},
   "outputs": [
    {
     "output_type": "execute_result",
     "data": {
      "text/plain": [
       "<Figure size 808.997x204.68 with 1 Axes>"
      ],
      "image/svg+xml": "<?xml version=\"1.0\" encoding=\"utf-8\" standalone=\"no\"?>\n<!DOCTYPE svg PUBLIC \"-//W3C//DTD SVG 1.1//EN\"\n  \"http://www.w3.org/Graphics/SVG/1.1/DTD/svg11.dtd\">\n<!-- Created with matplotlib (https://matplotlib.org/) -->\n<svg height=\"168.9334pt\" version=\"1.1\" viewBox=\"0 0 625.193036 168.9334\" width=\"625.193036pt\" xmlns=\"http://www.w3.org/2000/svg\" xmlns:xlink=\"http://www.w3.org/1999/xlink\">\n <metadata>\n  <rdf:RDF xmlns:cc=\"http://creativecommons.org/ns#\" xmlns:dc=\"http://purl.org/dc/elements/1.1/\" xmlns:rdf=\"http://www.w3.org/1999/02/22-rdf-syntax-ns#\">\n   <cc:Work>\n    <dc:type rdf:resource=\"http://purl.org/dc/dcmitype/StillImage\"/>\n    <dc:date>2021-05-21T18:15:40.863084</dc:date>\n    <dc:format>image/svg+xml</dc:format>\n    <dc:creator>\n     <cc:Agent>\n      <dc:title>Matplotlib v3.3.4, https://matplotlib.org/</dc:title>\n     </cc:Agent>\n    </dc:creator>\n   </cc:Work>\n  </rdf:RDF>\n </metadata>\n <defs>\n  <style type=\"text/css\">*{stroke-linecap:butt;stroke-linejoin:round;}</style>\n </defs>\n <g id=\"figure_1\">\n  <g id=\"patch_1\">\n   <path d=\"M 0 168.9334 \nL 625.193036 168.9334 \nL 625.193036 0 \nL 0 0 \nz\n\" style=\"fill:#ffffff;\"/>\n  </g>\n  <g id=\"axes_1\">\n   <g id=\"line2d_1\">\n    <path clip-path=\"url(#p8315b02fa7)\" d=\"M 63.490836 43.5608 \nL 613.447936 43.5608 \n\" style=\"fill:none;stroke:#000000;stroke-linecap:square;stroke-width:2;\"/>\n   </g>\n   <g id=\"line2d_2\">\n    <path clip-path=\"url(#p8315b02fa7)\" d=\"M 63.490836 89.0118 \nL 613.447936 89.0118 \n\" style=\"fill:none;stroke:#000000;stroke-linecap:square;stroke-width:2;\"/>\n   </g>\n   <g id=\"line2d_3\">\n    <path clip-path=\"url(#p8315b02fa7)\" d=\"M 63.490836 134.4628 \nL 613.447936 134.4628 \n\" style=\"fill:none;stroke:#000000;stroke-linecap:square;stroke-width:2;\"/>\n   </g>\n   <g id=\"line2d_4\">\n    <path clip-path=\"url(#p8315b02fa7)\" d=\"M 133.485376 134.4628 \nL 133.485376 89.0118 \n\" style=\"fill:none;stroke:#6fa4ff;stroke-linecap:square;stroke-width:2;\"/>\n   </g>\n   <g id=\"line2d_5\">\n    <path clip-path=\"url(#p8315b02fa7)\" d=\"M 224.387376 134.4628 \nL 224.387376 43.5608 \n\" style=\"fill:none;stroke:#6fa4ff;stroke-linecap:square;stroke-width:2;\"/>\n   </g>\n   <g id=\"line2d_6\">\n    <path clip-path=\"url(#p8315b02fa7)\" d=\"M 315.289376 134.4628 \nL 315.289376 89.0118 \n\" style=\"fill:none;stroke:#6fa4ff;stroke-linecap:square;stroke-width:2;\"/>\n   </g>\n   <g id=\"line2d_7\">\n    <path clip-path=\"url(#p8315b02fa7)\" d=\"M 406.191376 134.4628 \nL 406.191376 43.5608 \n\" style=\"fill:none;stroke:#6fa4ff;stroke-linecap:square;stroke-width:2;\"/>\n   </g>\n   <g id=\"line2d_8\">\n    <path clip-path=\"url(#p8315b02fa7)\" d=\"M 451.642376 89.0118 \nL 451.642376 43.5608 \n\" style=\"fill:none;stroke:#6fa4ff;stroke-linecap:square;stroke-width:2;\"/>\n   </g>\n   <g id=\"line2d_9\">\n    <path clip-path=\"url(#p8315b02fa7)\" d=\"M 542.544376 89.0118 \nL 542.544376 43.5608 \n\" style=\"fill:none;stroke:#6fa4ff;stroke-linecap:square;stroke-width:2;\"/>\n   </g>\n   <g id=\"patch_2\">\n    <path clip-path=\"url(#p8315b02fa7)\" d=\"M 73.262801 149.234375 \nL 102.805951 149.234375 \nL 102.805951 119.691225 \nL 73.262801 119.691225 \nz\n\" style=\"fill:#6fa4ff;stroke:#6fa4ff;stroke-linejoin:miter;stroke-width:1.5;\"/>\n   </g>\n   <g id=\"patch_3\">\n    <path clip-path=\"url(#p8315b02fa7)\" d=\"M 133.485376 93.443273 \nC 134.660616 93.443273 135.78788 92.976345 136.618901 92.145324 \nC 137.449921 91.314304 137.916849 90.18704 137.916849 89.0118 \nC 137.916849 87.83656 137.449921 86.709296 136.618901 85.878276 \nC 135.78788 85.047255 134.660616 84.580328 133.485376 84.580328 \nC 132.310136 84.580328 131.182872 85.047255 130.351852 85.878276 \nC 129.520832 86.709296 129.053904 87.83656 129.053904 89.0118 \nC 129.053904 90.18704 129.520832 91.314304 130.351852 92.145324 \nC 131.182872 92.976345 132.310136 93.443273 133.485376 93.443273 \nz\n\" style=\"fill:#6fa4ff;stroke:#6fa4ff;stroke-linejoin:miter;stroke-width:1.5;\"/>\n   </g>\n   <g id=\"patch_4\">\n    <path clip-path=\"url(#p8315b02fa7)\" d=\"M 133.485376 144.802902 \nC 136.227603 144.802902 138.857885 143.713404 140.796933 141.774357 \nC 142.73598 139.835309 143.825479 137.205027 143.825479 134.4628 \nC 143.825479 131.720573 142.73598 129.090291 140.796933 127.151243 \nC 138.857885 125.212196 136.227603 124.122697 133.485376 124.122697 \nC 130.743149 124.122697 128.112867 125.212196 126.17382 127.151243 \nC 124.234772 129.090291 123.145274 131.720573 123.145274 134.4628 \nC 123.145274 137.205027 124.234772 139.835309 126.17382 141.774357 \nC 128.112867 143.713404 130.743149 144.802902 133.485376 144.802902 \nz\n\" style=\"fill:#6fa4ff;stroke:#6fa4ff;stroke-linejoin:miter;stroke-width:2;\"/>\n   </g>\n   <g id=\"patch_5\">\n    <path clip-path=\"url(#p8315b02fa7)\" d=\"M 164.164801 149.234375 \nL 193.707951 149.234375 \nL 193.707951 119.691225 \nL 164.164801 119.691225 \nz\n\" style=\"fill:#bb8bff;stroke:#bb8bff;stroke-linejoin:miter;stroke-width:1.5;\"/>\n   </g>\n   <g id=\"patch_6\">\n    <path clip-path=\"url(#p8315b02fa7)\" d=\"M 224.387376 47.992273 \nC 225.562616 47.992273 226.68988 47.525345 227.520901 46.694324 \nC 228.351921 45.863304 228.818849 44.73604 228.818849 43.5608 \nC 228.818849 42.38556 228.351921 41.258296 227.520901 40.427276 \nC 226.68988 39.596255 225.562616 39.129328 224.387376 39.129328 \nC 223.212136 39.129328 222.084872 39.596255 221.253852 40.427276 \nC 220.422832 41.258296 219.955904 42.38556 219.955904 43.5608 \nC 219.955904 44.73604 220.422832 45.863304 221.253852 46.694324 \nC 222.084872 47.525345 223.212136 47.992273 224.387376 47.992273 \nz\n\" style=\"fill:#6fa4ff;stroke:#6fa4ff;stroke-linejoin:miter;stroke-width:1.5;\"/>\n   </g>\n   <g id=\"patch_7\">\n    <path clip-path=\"url(#p8315b02fa7)\" d=\"M 224.387376 144.802902 \nC 227.129603 144.802902 229.759885 143.713404 231.698933 141.774357 \nC 233.63798 139.835309 234.727479 137.205027 234.727479 134.4628 \nC 234.727479 131.720573 233.63798 129.090291 231.698933 127.151243 \nC 229.759885 125.212196 227.129603 124.122697 224.387376 124.122697 \nC 221.645149 124.122697 219.014867 125.212196 217.07582 127.151243 \nC 215.136772 129.090291 214.047274 131.720573 214.047274 134.4628 \nC 214.047274 137.205027 215.136772 139.835309 217.07582 141.774357 \nC 219.014867 143.713404 221.645149 144.802902 224.387376 144.802902 \nz\n\" style=\"fill:#6fa4ff;stroke:#6fa4ff;stroke-linejoin:miter;stroke-width:2;\"/>\n   </g>\n   <g id=\"patch_8\">\n    <path clip-path=\"url(#p8315b02fa7)\" d=\"M 255.066801 149.234375 \nL 284.609951 149.234375 \nL 284.609951 119.691225 \nL 255.066801 119.691225 \nz\n\" style=\"fill:#bb8bff;stroke:#bb8bff;stroke-linejoin:miter;stroke-width:1.5;\"/>\n   </g>\n   <g id=\"patch_9\">\n    <path clip-path=\"url(#p8315b02fa7)\" d=\"M 315.289376 93.443273 \nC 316.464616 93.443273 317.59188 92.976345 318.422901 92.145324 \nC 319.253921 91.314304 319.720849 90.18704 319.720849 89.0118 \nC 319.720849 87.83656 319.253921 86.709296 318.422901 85.878276 \nC 317.59188 85.047255 316.464616 84.580328 315.289376 84.580328 \nC 314.114136 84.580328 312.986872 85.047255 312.155852 85.878276 \nC 311.324832 86.709296 310.857904 87.83656 310.857904 89.0118 \nC 310.857904 90.18704 311.324832 91.314304 312.155852 92.145324 \nC 312.986872 92.976345 314.114136 93.443273 315.289376 93.443273 \nz\n\" style=\"fill:#6fa4ff;stroke:#6fa4ff;stroke-linejoin:miter;stroke-width:1.5;\"/>\n   </g>\n   <g id=\"patch_10\">\n    <path clip-path=\"url(#p8315b02fa7)\" d=\"M 315.289376 144.802902 \nC 318.031603 144.802902 320.661885 143.713404 322.600933 141.774357 \nC 324.53998 139.835309 325.629479 137.205027 325.629479 134.4628 \nC 325.629479 131.720573 324.53998 129.090291 322.600933 127.151243 \nC 320.661885 125.212196 318.031603 124.122697 315.289376 124.122697 \nC 312.547149 124.122697 309.916867 125.212196 307.97782 127.151243 \nC 306.038772 129.090291 304.949274 131.720573 304.949274 134.4628 \nC 304.949274 137.205027 306.038772 139.835309 307.97782 141.774357 \nC 309.916867 143.713404 312.547149 144.802902 315.289376 144.802902 \nz\n\" style=\"fill:#6fa4ff;stroke:#6fa4ff;stroke-linejoin:miter;stroke-width:2;\"/>\n   </g>\n   <g id=\"patch_11\">\n    <path clip-path=\"url(#p8315b02fa7)\" d=\"M 345.968801 149.234375 \nL 375.511951 149.234375 \nL 375.511951 119.691225 \nL 345.968801 119.691225 \nz\n\" style=\"fill:#bb8bff;stroke:#bb8bff;stroke-linejoin:miter;stroke-width:1.5;\"/>\n   </g>\n   <g id=\"patch_12\">\n    <path clip-path=\"url(#p8315b02fa7)\" d=\"M 345.968801 103.783375 \nL 375.511951 103.783375 \nL 375.511951 74.240225 \nL 345.968801 74.240225 \nz\n\" style=\"fill:#bb8bff;stroke:#bb8bff;stroke-linejoin:miter;stroke-width:1.5;\"/>\n   </g>\n   <g id=\"patch_13\">\n    <path clip-path=\"url(#p8315b02fa7)\" d=\"M 406.191376 47.992273 \nC 407.366616 47.992273 408.49388 47.525345 409.324901 46.694324 \nC 410.155921 45.863304 410.622849 44.73604 410.622849 43.5608 \nC 410.622849 42.38556 410.155921 41.258296 409.324901 40.427276 \nC 408.49388 39.596255 407.366616 39.129328 406.191376 39.129328 \nC 405.016136 39.129328 403.888872 39.596255 403.057852 40.427276 \nC 402.226832 41.258296 401.759904 42.38556 401.759904 43.5608 \nC 401.759904 44.73604 402.226832 45.863304 403.057852 46.694324 \nC 403.888872 47.525345 405.016136 47.992273 406.191376 47.992273 \nz\n\" style=\"fill:#6fa4ff;stroke:#6fa4ff;stroke-linejoin:miter;stroke-width:1.5;\"/>\n   </g>\n   <g id=\"patch_14\">\n    <path clip-path=\"url(#p8315b02fa7)\" d=\"M 406.191376 144.802902 \nC 408.933603 144.802902 411.563885 143.713404 413.502933 141.774357 \nC 415.44198 139.835309 416.531479 137.205027 416.531479 134.4628 \nC 416.531479 131.720573 415.44198 129.090291 413.502933 127.151243 \nC 411.563885 125.212196 408.933603 124.122697 406.191376 124.122697 \nC 403.449149 124.122697 400.818867 125.212196 398.87982 127.151243 \nC 396.940772 129.090291 395.851274 131.720573 395.851274 134.4628 \nC 395.851274 137.205027 396.940772 139.835309 398.87982 141.774357 \nC 400.818867 143.713404 403.449149 144.802902 406.191376 144.802902 \nz\n\" style=\"fill:#6fa4ff;stroke:#6fa4ff;stroke-linejoin:miter;stroke-width:2;\"/>\n   </g>\n   <g id=\"patch_15\">\n    <path clip-path=\"url(#p8315b02fa7)\" d=\"M 436.870801 149.234375 \nL 466.413951 149.234375 \nL 466.413951 119.691225 \nL 436.870801 119.691225 \nz\n\" style=\"fill:#bb8bff;stroke:#bb8bff;stroke-linejoin:miter;stroke-width:1.5;\"/>\n   </g>\n   <g id=\"patch_16\">\n    <path clip-path=\"url(#p8315b02fa7)\" d=\"M 451.642376 47.992273 \nC 452.817616 47.992273 453.94488 47.525345 454.775901 46.694324 \nC 455.606921 45.863304 456.073849 44.73604 456.073849 43.5608 \nC 456.073849 42.38556 455.606921 41.258296 454.775901 40.427276 \nC 453.94488 39.596255 452.817616 39.129328 451.642376 39.129328 \nC 450.467136 39.129328 449.339872 39.596255 448.508852 40.427276 \nC 447.677832 41.258296 447.210904 42.38556 447.210904 43.5608 \nC 447.210904 44.73604 447.677832 45.863304 448.508852 46.694324 \nC 449.339872 47.525345 450.467136 47.992273 451.642376 47.992273 \nz\n\" style=\"fill:#6fa4ff;stroke:#6fa4ff;stroke-linejoin:miter;stroke-width:1.5;\"/>\n   </g>\n   <g id=\"patch_17\">\n    <path clip-path=\"url(#p8315b02fa7)\" d=\"M 451.642376 99.351903 \nC 454.384603 99.351903 457.014885 98.262404 458.953933 96.323357 \nC 460.89298 94.384309 461.982479 91.754027 461.982479 89.0118 \nC 461.982479 86.269573 460.89298 83.639291 458.953933 81.700243 \nC 457.014885 79.761196 454.384603 78.671698 451.642376 78.671698 \nC 448.900149 78.671698 446.269867 79.761196 444.33082 81.700243 \nC 442.391772 83.639291 441.302274 86.269573 441.302274 89.0118 \nC 441.302274 91.754027 442.391772 94.384309 444.33082 96.323357 \nC 446.269867 98.262404 448.900149 99.351903 451.642376 99.351903 \nz\n\" style=\"fill:#6fa4ff;stroke:#6fa4ff;stroke-linejoin:miter;stroke-width:2;\"/>\n   </g>\n   <g id=\"patch_18\">\n    <path clip-path=\"url(#p8315b02fa7)\" d=\"M 482.321801 149.234375 \nL 511.864951 149.234375 \nL 511.864951 119.691225 \nL 482.321801 119.691225 \nz\n\" style=\"fill:#6fa4ff;stroke:#6fa4ff;stroke-linejoin:miter;stroke-width:1.5;\"/>\n   </g>\n   <g id=\"patch_19\">\n    <path clip-path=\"url(#p8315b02fa7)\" d=\"M 482.321801 103.783375 \nL 511.864951 103.783375 \nL 511.864951 74.240225 \nL 482.321801 74.240225 \nz\n\" style=\"fill:#bb8bff;stroke:#bb8bff;stroke-linejoin:miter;stroke-width:1.5;\"/>\n   </g>\n   <g id=\"patch_20\">\n    <path clip-path=\"url(#p8315b02fa7)\" d=\"M 542.544376 47.992273 \nC 543.719616 47.992273 544.84688 47.525345 545.677901 46.694324 \nC 546.508921 45.863304 546.975849 44.73604 546.975849 43.5608 \nC 546.975849 42.38556 546.508921 41.258296 545.677901 40.427276 \nC 544.84688 39.596255 543.719616 39.129328 542.544376 39.129328 \nC 541.369136 39.129328 540.241872 39.596255 539.410852 40.427276 \nC 538.579832 41.258296 538.112904 42.38556 538.112904 43.5608 \nC 538.112904 44.73604 538.579832 45.863304 539.410852 46.694324 \nC 540.241872 47.525345 541.369136 47.992273 542.544376 47.992273 \nz\n\" style=\"fill:#6fa4ff;stroke:#6fa4ff;stroke-linejoin:miter;stroke-width:1.5;\"/>\n   </g>\n   <g id=\"patch_21\">\n    <path clip-path=\"url(#p8315b02fa7)\" d=\"M 542.544376 99.351903 \nC 545.286603 99.351903 547.916885 98.262404 549.855933 96.323357 \nC 551.79498 94.384309 552.884479 91.754027 552.884479 89.0118 \nC 552.884479 86.269573 551.79498 83.639291 549.855933 81.700243 \nC 547.916885 79.761196 545.286603 78.671698 542.544376 78.671698 \nC 539.802149 78.671698 537.171867 79.761196 535.23282 81.700243 \nC 533.293772 83.639291 532.204274 86.269573 532.204274 89.0118 \nC 532.204274 91.754027 533.293772 94.384309 535.23282 96.323357 \nC 537.171867 98.262404 539.802149 99.351903 542.544376 99.351903 \nz\n\" style=\"fill:#6fa4ff;stroke:#6fa4ff;stroke-linejoin:miter;stroke-width:2;\"/>\n   </g>\n   <g id=\"patch_22\">\n    <path clip-path=\"url(#p8315b02fa7)\" d=\"M 573.223801 58.332375 \nL 602.766951 58.332375 \nL 602.766951 28.789225 \nL 573.223801 28.789225 \nz\n\" style=\"fill:#bb8bff;stroke:#bb8bff;stroke-linejoin:miter;stroke-width:1.5;\"/>\n   </g>\n   <g id=\"patch_23\">\n    <path clip-path=\"url(#p8315b02fa7)\" d=\"M 573.223801 103.783375 \nL 602.766951 103.783375 \nL 602.766951 74.240225 \nL 573.223801 74.240225 \nz\n\" style=\"fill:#bb8bff;stroke:#bb8bff;stroke-linejoin:miter;stroke-width:1.5;\"/>\n   </g>\n   <g id=\"line2d_10\">\n    <path clip-path=\"url(#p8315b02fa7)\" d=\"M 133.485376 140.37143 \nL 133.485376 128.55417 \n\" style=\"fill:none;stroke:#ffffff;stroke-linecap:square;stroke-width:2;\"/>\n   </g>\n   <g id=\"line2d_11\">\n    <path clip-path=\"url(#p8315b02fa7)\" d=\"M 127.576746 134.4628 \nL 139.394006 134.4628 \n\" style=\"fill:none;stroke:#ffffff;stroke-linecap:square;stroke-width:2;\"/>\n   </g>\n   <g id=\"line2d_12\">\n    <path clip-path=\"url(#p8315b02fa7)\" d=\"M 224.387376 140.37143 \nL 224.387376 128.55417 \n\" style=\"fill:none;stroke:#ffffff;stroke-linecap:square;stroke-width:2;\"/>\n   </g>\n   <g id=\"line2d_13\">\n    <path clip-path=\"url(#p8315b02fa7)\" d=\"M 218.478746 134.4628 \nL 230.296006 134.4628 \n\" style=\"fill:none;stroke:#ffffff;stroke-linecap:square;stroke-width:2;\"/>\n   </g>\n   <g id=\"line2d_14\">\n    <path clip-path=\"url(#p8315b02fa7)\" d=\"M 315.289376 140.37143 \nL 315.289376 128.55417 \n\" style=\"fill:none;stroke:#ffffff;stroke-linecap:square;stroke-width:2;\"/>\n   </g>\n   <g id=\"line2d_15\">\n    <path clip-path=\"url(#p8315b02fa7)\" d=\"M 309.380746 134.4628 \nL 321.198006 134.4628 \n\" style=\"fill:none;stroke:#ffffff;stroke-linecap:square;stroke-width:2;\"/>\n   </g>\n   <g id=\"line2d_16\">\n    <path clip-path=\"url(#p8315b02fa7)\" d=\"M 406.191376 140.37143 \nL 406.191376 128.55417 \n\" style=\"fill:none;stroke:#ffffff;stroke-linecap:square;stroke-width:2;\"/>\n   </g>\n   <g id=\"line2d_17\">\n    <path clip-path=\"url(#p8315b02fa7)\" d=\"M 400.282746 134.4628 \nL 412.100006 134.4628 \n\" style=\"fill:none;stroke:#ffffff;stroke-linecap:square;stroke-width:2;\"/>\n   </g>\n   <g id=\"line2d_18\">\n    <path clip-path=\"url(#p8315b02fa7)\" d=\"M 451.642376 94.92043 \nL 451.642376 83.10317 \n\" style=\"fill:none;stroke:#ffffff;stroke-linecap:square;stroke-width:2;\"/>\n   </g>\n   <g id=\"line2d_19\">\n    <path clip-path=\"url(#p8315b02fa7)\" d=\"M 445.733746 89.0118 \nL 457.551006 89.0118 \n\" style=\"fill:none;stroke:#ffffff;stroke-linecap:square;stroke-width:2;\"/>\n   </g>\n   <g id=\"line2d_20\">\n    <path clip-path=\"url(#p8315b02fa7)\" d=\"M 542.544376 94.92043 \nL 542.544376 83.10317 \n\" style=\"fill:none;stroke:#ffffff;stroke-linecap:square;stroke-width:2;\"/>\n   </g>\n   <g id=\"line2d_21\">\n    <path clip-path=\"url(#p8315b02fa7)\" d=\"M 536.635746 89.0118 \nL 548.453006 89.0118 \n\" style=\"fill:none;stroke:#ffffff;stroke-linecap:square;stroke-width:2;\"/>\n   </g>\n   <g id=\"text_1\">\n    <g clip-path=\"url(#p8315b02fa7)\">\n     <!-- H -->\n     <g transform=\"translate(83.146173 138.049987)scale(0.13 -0.13)\">\n      <defs>\n       <path d=\"M 9.8125 72.90625 \nL 19.671875 72.90625 \nL 19.671875 43.015625 \nL 55.515625 43.015625 \nL 55.515625 72.90625 \nL 65.375 72.90625 \nL 65.375 0 \nL 55.515625 0 \nL 55.515625 34.71875 \nL 19.671875 34.71875 \nL 19.671875 0 \nL 9.8125 0 \nz\n\" id=\"DejaVuSans-72\"/>\n      </defs>\n      <use xlink:href=\"#DejaVuSans-72\"/>\n     </g>\n    </g>\n   </g>\n   <g id=\"text_2\">\n    <g clip-path=\"url(#p8315b02fa7)\">\n     <!-- $\\mathrm{R}_\\mathrm{Z}$ -->\n     <g transform=\"translate(171.006376 133.618515)scale(0.13 -0.13)\">\n      <defs>\n       <path d=\"M 44.390625 34.1875 \nQ 47.5625 33.109375 50.5625 29.59375 \nQ 53.5625 26.078125 56.59375 19.921875 \nL 66.609375 0 \nL 56 0 \nL 46.6875 18.703125 \nQ 43.0625 26.03125 39.671875 28.421875 \nQ 36.28125 30.8125 30.421875 30.8125 \nL 19.671875 30.8125 \nL 19.671875 0 \nL 9.8125 0 \nL 9.8125 72.90625 \nL 32.078125 72.90625 \nQ 44.578125 72.90625 50.734375 67.671875 \nQ 56.890625 62.453125 56.890625 51.90625 \nQ 56.890625 45.015625 53.6875 40.46875 \nQ 50.484375 35.9375 44.390625 34.1875 \nz\nM 19.671875 64.796875 \nL 19.671875 38.921875 \nL 32.078125 38.921875 \nQ 39.203125 38.921875 42.84375 42.21875 \nQ 46.484375 45.515625 46.484375 51.90625 \nQ 46.484375 58.296875 42.84375 61.546875 \nQ 39.203125 64.796875 32.078125 64.796875 \nz\n\" id=\"DejaVuSans-82\"/>\n       <path d=\"M 5.609375 72.90625 \nL 62.890625 72.90625 \nL 62.890625 65.375 \nL 16.796875 8.296875 \nL 64.015625 8.296875 \nL 64.015625 0 \nL 4.5 0 \nL 4.5 7.515625 \nL 50.59375 64.59375 \nL 5.609375 64.59375 \nz\n\" id=\"DejaVuSans-90\"/>\n      </defs>\n      <use transform=\"translate(0 0.09375)\" xlink:href=\"#DejaVuSans-82\"/>\n      <use transform=\"translate(70.439453 -16.3125)scale(0.7)\" xlink:href=\"#DejaVuSans-90\"/>\n     </g>\n    </g>\n   </g>\n   <g id=\"text_3\">\n    <g clip-path=\"url(#p8315b02fa7)\">\n     <!-- $-$$\\pi$/4 -->\n     <g transform=\"translate(169.256376 145.533245)scale(0.08 -0.08)\">\n      <defs>\n       <path d=\"M 10.59375 35.5 \nL 73.1875 35.5 \nL 73.1875 27.203125 \nL 10.59375 27.203125 \nz\n\" id=\"DejaVuSans-8722\"/>\n       <path d=\"M 9.125 54.6875 \nL 61.53125 54.6875 \nL 59.765625 45.703125 \nL 52.875 45.703125 \nL 46.34375 12.109375 \nQ 45.65625 8.59375 46.578125 7.03125 \nQ 47.46875 5.515625 50.140625 5.515625 \nQ 50.875 5.515625 51.953125 5.671875 \nQ 53.078125 5.765625 53.421875 5.8125 \nL 52.15625 -0.6875 \nQ 50.34375 -1.3125 48.484375 -1.609375 \nQ 46.578125 -1.90625 44.78125 -1.90625 \nQ 38.921875 -1.90625 37.3125 1.265625 \nQ 35.6875 4.5 37.359375 13.09375 \nL 43.703125 45.703125 \nL 23.53125 45.703125 \nL 14.65625 0 \nL 5.46875 0 \nL 14.359375 45.703125 \nL 7.375 45.703125 \nz\n\" id=\"DejaVuSans-Oblique-960\"/>\n       <path d=\"M 25.390625 72.90625 \nL 33.6875 72.90625 \nL 8.296875 -9.28125 \nL 0 -9.28125 \nz\n\" id=\"DejaVuSans-47\"/>\n       <path d=\"M 37.796875 64.3125 \nL 12.890625 25.390625 \nL 37.796875 25.390625 \nz\nM 35.203125 72.90625 \nL 47.609375 72.90625 \nL 47.609375 25.390625 \nL 58.015625 25.390625 \nL 58.015625 17.1875 \nL 47.609375 17.1875 \nL 47.609375 0 \nL 37.796875 0 \nL 37.796875 17.1875 \nL 4.890625 17.1875 \nL 4.890625 26.703125 \nz\n\" id=\"DejaVuSans-52\"/>\n      </defs>\n      <use transform=\"translate(0 0.09375)\" xlink:href=\"#DejaVuSans-8722\"/>\n      <use transform=\"translate(83.789062 0.09375)\" xlink:href=\"#DejaVuSans-Oblique-960\"/>\n      <use transform=\"translate(143.994141 0.09375)\" xlink:href=\"#DejaVuSans-47\"/>\n      <use transform=\"translate(177.685547 0.09375)\" xlink:href=\"#DejaVuSans-52\"/>\n     </g>\n    </g>\n   </g>\n   <g id=\"text_4\">\n    <g clip-path=\"url(#p8315b02fa7)\">\n     <!-- $\\mathrm{R}_\\mathrm{Z}$ -->\n     <g transform=\"translate(261.908376 133.618515)scale(0.13 -0.13)\">\n      <use transform=\"translate(0 0.09375)\" xlink:href=\"#DejaVuSans-82\"/>\n      <use transform=\"translate(70.439453 -16.3125)scale(0.7)\" xlink:href=\"#DejaVuSans-90\"/>\n     </g>\n    </g>\n   </g>\n   <g id=\"text_5\">\n    <g clip-path=\"url(#p8315b02fa7)\">\n     <!-- $\\pi$/4 -->\n     <g transform=\"translate(263.518376 145.533245)scale(0.08 -0.08)\">\n      <use transform=\"translate(0 0.09375)\" xlink:href=\"#DejaVuSans-Oblique-960\"/>\n      <use transform=\"translate(60.205078 0.09375)\" xlink:href=\"#DejaVuSans-47\"/>\n      <use transform=\"translate(93.896484 0.09375)\" xlink:href=\"#DejaVuSans-52\"/>\n     </g>\n    </g>\n   </g>\n   <g id=\"text_6\">\n    <g clip-path=\"url(#p8315b02fa7)\">\n     <!-- $\\mathrm{R}_\\mathrm{Z}$ -->\n     <g transform=\"translate(352.810376 133.618515)scale(0.13 -0.13)\">\n      <use transform=\"translate(0 0.09375)\" xlink:href=\"#DejaVuSans-82\"/>\n      <use transform=\"translate(70.439453 -16.3125)scale(0.7)\" xlink:href=\"#DejaVuSans-90\"/>\n     </g>\n    </g>\n   </g>\n   <g id=\"text_7\">\n    <g clip-path=\"url(#p8315b02fa7)\">\n     <!-- $-$$\\pi$/4 -->\n     <g transform=\"translate(351.060376 145.533245)scale(0.08 -0.08)\">\n      <use transform=\"translate(0 0.09375)\" xlink:href=\"#DejaVuSans-8722\"/>\n      <use transform=\"translate(83.789062 0.09375)\" xlink:href=\"#DejaVuSans-Oblique-960\"/>\n      <use transform=\"translate(143.994141 0.09375)\" xlink:href=\"#DejaVuSans-47\"/>\n      <use transform=\"translate(177.685547 0.09375)\" xlink:href=\"#DejaVuSans-52\"/>\n     </g>\n    </g>\n   </g>\n   <g id=\"text_8\">\n    <g clip-path=\"url(#p8315b02fa7)\">\n     <!-- $\\mathrm{R}_\\mathrm{Z}$ -->\n     <g transform=\"translate(352.810376 88.167515)scale(0.13 -0.13)\">\n      <use transform=\"translate(0 0.09375)\" xlink:href=\"#DejaVuSans-82\"/>\n      <use transform=\"translate(70.439453 -16.3125)scale(0.7)\" xlink:href=\"#DejaVuSans-90\"/>\n     </g>\n    </g>\n   </g>\n   <g id=\"text_9\">\n    <g clip-path=\"url(#p8315b02fa7)\">\n     <!-- $-$$\\pi$/4 -->\n     <g transform=\"translate(351.060376 100.082245)scale(0.08 -0.08)\">\n      <use transform=\"translate(0 0.09375)\" xlink:href=\"#DejaVuSans-8722\"/>\n      <use transform=\"translate(83.789062 0.09375)\" xlink:href=\"#DejaVuSans-Oblique-960\"/>\n      <use transform=\"translate(143.994141 0.09375)\" xlink:href=\"#DejaVuSans-47\"/>\n      <use transform=\"translate(177.685547 0.09375)\" xlink:href=\"#DejaVuSans-52\"/>\n     </g>\n    </g>\n   </g>\n   <g id=\"text_10\">\n    <g clip-path=\"url(#p8315b02fa7)\">\n     <!-- $\\mathrm{R}_\\mathrm{Z}$ -->\n     <g transform=\"translate(443.712376 133.618515)scale(0.13 -0.13)\">\n      <use transform=\"translate(0 0.09375)\" xlink:href=\"#DejaVuSans-82\"/>\n      <use transform=\"translate(70.439453 -16.3125)scale(0.7)\" xlink:href=\"#DejaVuSans-90\"/>\n     </g>\n    </g>\n   </g>\n   <g id=\"text_11\">\n    <g clip-path=\"url(#p8315b02fa7)\">\n     <!-- $\\pi$/4 -->\n     <g transform=\"translate(445.322376 145.533245)scale(0.08 -0.08)\">\n      <use transform=\"translate(0 0.09375)\" xlink:href=\"#DejaVuSans-Oblique-960\"/>\n      <use transform=\"translate(60.205078 0.09375)\" xlink:href=\"#DejaVuSans-47\"/>\n      <use transform=\"translate(93.896484 0.09375)\" xlink:href=\"#DejaVuSans-52\"/>\n     </g>\n    </g>\n   </g>\n   <g id=\"text_12\">\n    <g clip-path=\"url(#p8315b02fa7)\">\n     <!-- H -->\n     <g transform=\"translate(492.205173 138.049987)scale(0.13 -0.13)\">\n      <use xlink:href=\"#DejaVuSans-72\"/>\n     </g>\n    </g>\n   </g>\n   <g id=\"text_13\">\n    <g clip-path=\"url(#p8315b02fa7)\">\n     <!-- $\\mathrm{R}_\\mathrm{Z}$ -->\n     <g transform=\"translate(489.163376 88.167515)scale(0.13 -0.13)\">\n      <use transform=\"translate(0 0.09375)\" xlink:href=\"#DejaVuSans-82\"/>\n      <use transform=\"translate(70.439453 -16.3125)scale(0.7)\" xlink:href=\"#DejaVuSans-90\"/>\n     </g>\n    </g>\n   </g>\n   <g id=\"text_14\">\n    <g clip-path=\"url(#p8315b02fa7)\">\n     <!-- $-$$\\pi$/4 -->\n     <g transform=\"translate(487.413376 100.082245)scale(0.08 -0.08)\">\n      <use transform=\"translate(0 0.09375)\" xlink:href=\"#DejaVuSans-8722\"/>\n      <use transform=\"translate(83.789062 0.09375)\" xlink:href=\"#DejaVuSans-Oblique-960\"/>\n      <use transform=\"translate(143.994141 0.09375)\" xlink:href=\"#DejaVuSans-47\"/>\n      <use transform=\"translate(177.685547 0.09375)\" xlink:href=\"#DejaVuSans-52\"/>\n     </g>\n    </g>\n   </g>\n   <g id=\"text_15\">\n    <g clip-path=\"url(#p8315b02fa7)\">\n     <!-- $\\mathrm{R}_\\mathrm{Z}$ -->\n     <g transform=\"translate(580.065376 42.716515)scale(0.13 -0.13)\">\n      <use transform=\"translate(0 0.09375)\" xlink:href=\"#DejaVuSans-82\"/>\n      <use transform=\"translate(70.439453 -16.3125)scale(0.7)\" xlink:href=\"#DejaVuSans-90\"/>\n     </g>\n    </g>\n   </g>\n   <g id=\"text_16\">\n    <g clip-path=\"url(#p8315b02fa7)\">\n     <!-- $\\pi$/4 -->\n     <g transform=\"translate(581.675376 54.631245)scale(0.08 -0.08)\">\n      <use transform=\"translate(0 0.09375)\" xlink:href=\"#DejaVuSans-Oblique-960\"/>\n      <use transform=\"translate(60.205078 0.09375)\" xlink:href=\"#DejaVuSans-47\"/>\n      <use transform=\"translate(93.896484 0.09375)\" xlink:href=\"#DejaVuSans-52\"/>\n     </g>\n    </g>\n   </g>\n   <g id=\"text_17\">\n    <g clip-path=\"url(#p8315b02fa7)\">\n     <!-- $\\mathrm{R}_\\mathrm{Z}$ -->\n     <g transform=\"translate(580.065376 88.167515)scale(0.13 -0.13)\">\n      <use transform=\"translate(0 0.09375)\" xlink:href=\"#DejaVuSans-82\"/>\n      <use transform=\"translate(70.439453 -16.3125)scale(0.7)\" xlink:href=\"#DejaVuSans-90\"/>\n     </g>\n    </g>\n   </g>\n   <g id=\"text_18\">\n    <g clip-path=\"url(#p8315b02fa7)\">\n     <!-- $\\pi$/2 -->\n     <g transform=\"translate(581.835376 100.082245)scale(0.08 -0.08)\">\n      <defs>\n       <path d=\"M 19.1875 8.296875 \nL 53.609375 8.296875 \nL 53.609375 0 \nL 7.328125 0 \nL 7.328125 8.296875 \nQ 12.9375 14.109375 22.625 23.890625 \nQ 32.328125 33.6875 34.8125 36.53125 \nQ 39.546875 41.84375 41.421875 45.53125 \nQ 43.3125 49.21875 43.3125 52.78125 \nQ 43.3125 58.59375 39.234375 62.25 \nQ 35.15625 65.921875 28.609375 65.921875 \nQ 23.96875 65.921875 18.8125 64.3125 \nQ 13.671875 62.703125 7.8125 59.421875 \nL 7.8125 69.390625 \nQ 13.765625 71.78125 18.9375 73 \nQ 24.125 74.21875 28.421875 74.21875 \nQ 39.75 74.21875 46.484375 68.546875 \nQ 53.21875 62.890625 53.21875 53.421875 \nQ 53.21875 48.921875 51.53125 44.890625 \nQ 49.859375 40.875 45.40625 35.40625 \nQ 44.1875 33.984375 37.640625 27.21875 \nQ 31.109375 20.453125 19.1875 8.296875 \nz\n\" id=\"DejaVuSans-50\"/>\n      </defs>\n      <use transform=\"translate(0 0.78125)\" xlink:href=\"#DejaVuSans-Oblique-960\"/>\n      <use transform=\"translate(60.205078 0.78125)\" xlink:href=\"#DejaVuSans-47\"/>\n      <use transform=\"translate(90.271484 0.78125)\" xlink:href=\"#DejaVuSans-50\"/>\n     </g>\n    </g>\n   </g>\n   <g id=\"text_19\">\n    <g clip-path=\"url(#p8315b02fa7)\">\n     <!-- ${q}_{0}$ -->\n     <g transform=\"translate(36.363136 48.011777)scale(0.1625 -0.1625)\">\n      <defs>\n       <path d=\"M 41.703125 8.203125 \nQ 38.09375 3.46875 33.171875 1.015625 \nQ 28.265625 -1.421875 22.3125 -1.421875 \nQ 14.015625 -1.421875 9.296875 4.171875 \nQ 4.59375 9.765625 4.59375 19.578125 \nQ 4.59375 27.484375 7.5 34.859375 \nQ 10.40625 42.234375 15.828125 48.09375 \nQ 19.34375 51.90625 23.90625 53.953125 \nQ 28.46875 56 33.5 56 \nQ 39.546875 56 43.453125 53.609375 \nQ 47.359375 51.21875 49.125 46.390625 \nL 50.6875 54.59375 \nL 59.71875 54.59375 \nL 45.125 -20.609375 \nL 36.078125 -20.609375 \nz\nM 13.921875 20.90625 \nQ 13.921875 13.671875 16.9375 9.890625 \nQ 19.96875 6.109375 25.6875 6.109375 \nQ 34.1875 6.109375 40.1875 14.234375 \nQ 46.1875 22.359375 46.1875 33.984375 \nQ 46.1875 41.015625 43.078125 44.75 \nQ 39.984375 48.484375 34.1875 48.484375 \nQ 29.9375 48.484375 26.3125 46.5 \nQ 22.703125 44.53125 20.015625 40.71875 \nQ 17.1875 36.71875 15.546875 31.34375 \nQ 13.921875 25.984375 13.921875 20.90625 \nz\n\" id=\"DejaVuSans-Oblique-113\"/>\n       <path d=\"M 31.78125 66.40625 \nQ 24.171875 66.40625 20.328125 58.90625 \nQ 16.5 51.421875 16.5 36.375 \nQ 16.5 21.390625 20.328125 13.890625 \nQ 24.171875 6.390625 31.78125 6.390625 \nQ 39.453125 6.390625 43.28125 13.890625 \nQ 47.125 21.390625 47.125 36.375 \nQ 47.125 51.421875 43.28125 58.90625 \nQ 39.453125 66.40625 31.78125 66.40625 \nz\nM 31.78125 74.21875 \nQ 44.046875 74.21875 50.515625 64.515625 \nQ 56.984375 54.828125 56.984375 36.375 \nQ 56.984375 17.96875 50.515625 8.265625 \nQ 44.046875 -1.421875 31.78125 -1.421875 \nQ 19.53125 -1.421875 13.0625 8.265625 \nQ 6.59375 17.96875 6.59375 36.375 \nQ 6.59375 54.828125 13.0625 64.515625 \nQ 19.53125 74.21875 31.78125 74.21875 \nz\n\" id=\"DejaVuSans-48\"/>\n      </defs>\n      <use xlink:href=\"#DejaVuSans-Oblique-113\"/>\n      <use transform=\"translate(63.476562 -16.40625)scale(0.7)\" xlink:href=\"#DejaVuSans-48\"/>\n     </g>\n    </g>\n   </g>\n   <g id=\"text_20\">\n    <g clip-path=\"url(#p8315b02fa7)\">\n     <!-- ${q}_{1}$ -->\n     <g transform=\"translate(36.363136 93.462777)scale(0.1625 -0.1625)\">\n      <defs>\n       <path d=\"M 12.40625 8.296875 \nL 28.515625 8.296875 \nL 28.515625 63.921875 \nL 10.984375 60.40625 \nL 10.984375 69.390625 \nL 28.421875 72.90625 \nL 38.28125 72.90625 \nL 38.28125 8.296875 \nL 54.390625 8.296875 \nL 54.390625 0 \nL 12.40625 0 \nz\n\" id=\"DejaVuSans-49\"/>\n      </defs>\n      <use xlink:href=\"#DejaVuSans-Oblique-113\"/>\n      <use transform=\"translate(63.476562 -16.40625)scale(0.7)\" xlink:href=\"#DejaVuSans-49\"/>\n     </g>\n    </g>\n   </g>\n   <g id=\"text_21\">\n    <g clip-path=\"url(#p8315b02fa7)\">\n     <!-- ${q}_{2}$ -->\n     <g transform=\"translate(36.363136 138.913777)scale(0.1625 -0.1625)\">\n      <use xlink:href=\"#DejaVuSans-Oblique-113\"/>\n      <use transform=\"translate(63.476562 -16.40625)scale(0.7)\" xlink:href=\"#DejaVuSans-50\"/>\n     </g>\n    </g>\n   </g>\n  </g>\n </g>\n <defs>\n  <clipPath id=\"p8315b02fa7\">\n   <rect height=\"154.5334\" width=\"610.793036\" x=\"7.2\" y=\"7.2\"/>\n  </clipPath>\n </defs>\n</svg>\n",
      "image/png": "[encoded data removed]"
     },
     "metadata": {},
     "execution_count": 27
    }
   ],
   "source": [
    "\n",
    "toffoli_cicuit.draw('mpl')"
   ]
  },
  {
   "cell_type": "code",
   "execution_count": 30,
   "metadata": {},
   "outputs": [
    {
     "output_type": "stream",
     "name": "stdout",
     "text": [
      "[[ 1.00000000e+00-5.24321474e-10j  0.00000000e+00+0.00000000e+00j\n   0.00000000e+00+0.00000000e+00j  0.00000000e+00+0.00000000e+00j\n   1.87966534e-16+5.74135456e-17j  0.00000000e+00+0.00000000e+00j\n   0.00000000e+00+0.00000000e+00j  0.00000000e+00+0.00000000e+00j]\n [ 0.00000000e+00+0.00000000e+00j  1.00000000e+00-5.24321320e-10j\n   0.00000000e+00+0.00000000e+00j  0.00000000e+00+0.00000000e+00j\n   0.00000000e+00+0.00000000e+00j  1.87966534e-16+5.74135456e-17j\n   0.00000000e+00+0.00000000e+00j  0.00000000e+00+0.00000000e+00j]\n [ 0.00000000e+00+0.00000000e+00j  0.00000000e+00+0.00000000e+00j\n   1.00000000e+00-5.24321628e-10j  0.00000000e+00+0.00000000e+00j\n   0.00000000e+00+0.00000000e+00j  0.00000000e+00+0.00000000e+00j\n   1.74767703e-16+8.92783424e-17j  0.00000000e+00+0.00000000e+00j]\n [ 0.00000000e+00+0.00000000e+00j  0.00000000e+00+0.00000000e+00j\n   0.00000000e+00+0.00000000e+00j  1.89788912e-16+5.30139352e-17j\n   0.00000000e+00+0.00000000e+00j  0.00000000e+00+0.00000000e+00j\n   0.00000000e+00+0.00000000e+00j  1.00000000e+00-5.24321679e-10j]\n [-3.73092119e-18+4.05699581e-17j  0.00000000e+00+0.00000000e+00j\n   0.00000000e+00+0.00000000e+00j  0.00000000e+00+0.00000000e+00j\n   1.00000000e+00-5.24321474e-10j  0.00000000e+00+0.00000000e+00j\n   0.00000000e+00+0.00000000e+00j  0.00000000e+00+0.00000000e+00j]\n [ 0.00000000e+00+0.00000000e+00j  6.69755149e-17+1.59984778e-16j\n   0.00000000e+00+0.00000000e+00j  0.00000000e+00+0.00000000e+00j\n   0.00000000e+00+0.00000000e+00j  1.00000000e+00-5.24321474e-10j\n   0.00000000e+00+0.00000000e+00j  0.00000000e+00+0.00000000e+00j]\n [ 0.00000000e+00+0.00000000e+00j  0.00000000e+00+0.00000000e+00j\n  -1.90854292e-18+3.61703478e-17j  0.00000000e+00+0.00000000e+00j\n   0.00000000e+00+0.00000000e+00j  0.00000000e+00+0.00000000e+00j\n   1.00000000e+00-5.24321628e-10j  0.00000000e+00+0.00000000e+00j]\n [ 0.00000000e+00+0.00000000e+00j  0.00000000e+00+0.00000000e+00j\n   0.00000000e+00+0.00000000e+00j  1.00000000e+00-5.24321628e-10j\n   0.00000000e+00+0.00000000e+00j  0.00000000e+00+0.00000000e+00j\n   0.00000000e+00+0.00000000e+00j -1.96429410e-16-7.44452519e-17j]]\n"
     ]
    }
   ],
   "source": [
    "unitary_back = Aer.get_backend(\"unitary_simulator\")\n",
    "job_unitary = execute(toffoli_cicuit, backend=unitary_back)\n",
    "unitary = job_unitary.result().get_unitary()\n",
    "print(unitary/(9.23879533e-01-3.82683432e-01j))"
   ]
  },
  {
   "source": [
    "Thus the circuit above generate a CNOT gate with a global phase $e^{i\\theta}$ where $e^{i\\theta}=0.923879533-0.382683432i$"
   ],
   "cell_type": "markdown",
   "metadata": {}
  },
  {
   "cell_type": "code",
   "execution_count": 8,
   "metadata": {},
   "outputs": [
    {
     "output_type": "execute_result",
     "data": {
      "text/plain": [
       "<Figure size 864x288 with 3 Axes>"
      ],
      "image/svg+xml": "<?xml version=\"1.0\" encoding=\"utf-8\" standalone=\"no\"?>\n<!DOCTYPE svg PUBLIC \"-//W3C//DTD SVG 1.1//EN\"\n  \"http://www.w3.org/Graphics/SVG/1.1/DTD/svg11.dtd\">\n<!-- Created with matplotlib (https://matplotlib.org/) -->\n<svg height=\"231.277628pt\" version=\"1.1\" viewBox=\"0 0 684 231.277628\" width=\"684pt\" xmlns=\"http://www.w3.org/2000/svg\" xmlns:xlink=\"http://www.w3.org/1999/xlink\">\n <metadata>\n  <rdf:RDF xmlns:cc=\"http://creativecommons.org/ns#\" xmlns:dc=\"http://purl.org/dc/elements/1.1/\" xmlns:rdf=\"http://www.w3.org/1999/02/22-rdf-syntax-ns#\">\n   <cc:Work>\n    <dc:type rdf:resource=\"http://purl.org/dc/dcmitype/StillImage\"/>\n    <dc:date>2021-05-21T18:05:52.927900</dc:date>\n    <dc:format>image/svg+xml</dc:format>\n    <dc:creator>\n     <cc:Agent>\n      <dc:title>Matplotlib v3.3.4, https://matplotlib.org/</dc:title>\n     </cc:Agent>\n    </dc:creator>\n   </cc:Work>\n  </rdf:RDF>\n </metadata>\n <defs>\n  <style type=\"text/css\">*{stroke-linecap:butt;stroke-linejoin:round;}</style>\n </defs>\n <g id=\"figure_1\">\n  <g id=\"patch_1\">\n   <path d=\"M 0 231.277628 \nL 684 231.277628 \nL 684 0 \nL 0 0 \nz\n\" style=\"fill:none;\"/>\n  </g>\n  <g id=\"patch_2\">\n   <path d=\"M 7.2 224.077628 \nL 204.141176 224.077628 \nL 204.141176 27.136451 \nL 7.2 27.136451 \nz\n\" style=\"fill:#ffffff;\"/>\n  </g>\n  <g id=\"axes_1\">\n   <g id=\"patch_3\">\n    <path clip-path=\"url(#pa0d20e3216)\" d=\"M 108.331955 120.947151 \nQ 108.331955 86.807043 108.331955 58.257106 \n\" style=\"fill:none;stroke:#dc267f;stroke-linecap:round;stroke-width:5;\"/>\n    <path clip-path=\"url(#pa0d20e3216)\" d=\"M 104.331955 66.257106 \nL 108.331955 58.257106 \nL 112.331955 66.257106 \nL 104.331955 66.257106 \nz\n\" style=\"fill:#dc267f;stroke:#dc267f;stroke-linecap:round;stroke-width:5;\"/>\n   </g>\n   <g id=\"line2d_1\">\n    <path clip-path=\"url(#pa0d20e3216)\" d=\"M 40.977006 103.501973 \nL 180.236369 143.702689 \n\" style=\"fill:none;stroke:#808080;stroke-linecap:square;\"/>\n   </g>\n   <g id=\"line2d_2\">\n    <path clip-path=\"url(#pa0d20e3216)\" d=\"M 65.765552 159.809259 \nL 146.339153 90.030474 \n\" style=\"fill:none;stroke:#808080;stroke-linecap:square;\"/>\n   </g>\n   <g id=\"line2d_3\">\n    <path clip-path=\"url(#pa0d20e3216)\" d=\"M 108.331955 189.97259 \nL 108.331955 50.663615 \n\" style=\"fill:none;stroke:#808080;stroke-linecap:square;\"/>\n   </g>\n   <g id=\"line2d_4\">\n    <path clip-path=\"url(#pa0d20e3216)\" d=\"M 180.236369 143.702689 \nL 184.436823 138.707507 \nL 187.245371 133.518065 \nL 188.645404 128.232406 \nL 188.647576 122.945672 \nL 187.28711 117.748351 \nL 184.620789 112.724907 \nL 180.723844 107.952822 \nL 175.686905 103.501973 \nL 169.613147 99.434317 \nL 162.615715 95.803793 \nL 154.815482 92.656417 \nL 146.339153 90.030474 \nL 137.317704 87.956778 \nL 127.885134 86.458944 \nL 118.177465 85.553637 \nL 108.331955 85.250772 \nL 98.486446 85.553637 \nL 88.778777 86.458944 \nL 79.346207 87.956778 \nL 70.324758 90.030474 \nL 61.848429 92.656417 \nL 54.048196 95.803793 \nL 47.050764 99.434317 \nL 40.977006 103.501973 \n\" style=\"fill:none;stroke:#808080;stroke-linecap:square;\"/>\n   </g>\n   <g id=\"line2d_5\">\n    <path clip-path=\"url(#pa0d20e3216)\" d=\"M 146.339153 90.030474 \nL 146.207856 81.507384 \nL 145.454867 73.567485 \nL 144.080179 66.339636 \nL 142.092041 59.948494 \nL 139.507694 54.512597 \nL 136.354083 50.14205 \nL 132.66851 46.935848 \nL 128.499129 44.978868 \nL 123.905213 44.338629 \nL 118.95711 45.061944 \nL 113.735795 47.171646 \nL 108.331955 50.663615 \nL 102.844551 55.504336 \nL 97.378835 61.629269 \nL 92.043863 68.942254 \nL 86.949554 77.31617 \nL 82.203432 86.594961 \nL 77.907212 96.597071 \nL 74.153415 107.120191 \nL 71.02225 117.94712 \nL 68.57893 128.852434 \nL 66.871627 139.609565 \nL 65.930169 149.997867 \nL 65.765552 159.809259 \n\" style=\"fill:none;stroke:#808080;stroke-linecap:square;\"/>\n   </g>\n   <g id=\"line2d_6\">\n    <path clip-path=\"url(#pa0d20e3216)\" d=\"M 40.977006 103.501973 \nL 35.940067 107.952822 \nL 32.043122 112.724907 \nL 29.376801 117.748351 \nL 28.016335 122.945672 \nL 28.018507 128.232406 \nL 29.41854 133.518065 \nL 32.227088 138.707507 \nL 36.427542 143.702689 \nL 41.97388 148.404844 \nL 48.789309 152.716996 \nL 56.76592 156.546755 \nL 65.765552 159.809259 \nL 75.621978 162.430108 \nL 86.144453 164.348116 \nL 97.122527 165.517702 \nL 108.331955 165.910734 \nL 119.541384 165.517702 \nL 130.519458 164.348116 \nL 141.041933 162.430108 \nL 150.898359 159.809259 \nL 159.897991 156.546755 \nL 167.874602 152.716996 \nL 174.690031 148.404844 \nL 180.236369 143.702689 \n\" style=\"fill:none;stroke:#808080;stroke-linecap:square;\"/>\n   </g>\n   <g id=\"line2d_7\">\n    <path clip-path=\"url(#pa0d20e3216)\" d=\"M 65.765552 159.809259 \nL 66.370249 168.854054 \nL 67.719268 176.965705 \nL 69.771814 184.004281 \nL 72.473422 189.858607 \nL 75.758377 194.447112 \nL 79.552259 197.717518 \nL 83.774459 199.645559 \nL 88.340549 200.232958 \nL 93.164401 199.504904 \nL 98.16002 197.507248 \nL 103.24305 194.303614 \nL 108.331955 189.97259 \nL 113.348912 184.605111 \nL 118.220432 178.302118 \nL 122.877768 171.172535 \nL 127.257158 163.331574 \nL 131.299941 154.899358 \nL 134.952609 145.999835 \nL 138.166824 136.75993 \nL 140.899448 127.308889 \nL 143.11261 117.777738 \nL 144.773846 108.29881 \nL 145.856319 99.005256 \nL 146.339153 90.030474 \n\" style=\"fill:none;stroke:#808080;stroke-linecap:square;\"/>\n   </g>\n   <g id=\"Poly3DCollection_1\">\n    <path clip-path=\"url(#pa0d20e3216)\" d=\"M 125.10136 124.049539 \nL 123.701089 133.727131 \nL 122.052452 143.252553 \nL 115.243794 142.554566 \nL 108.331955 142.320913 \nL 108.331955 132.699383 \nL 108.331955 122.945672 \nL 116.777649 123.222452 \nz\n\" style=\"fill:#776767;fill-opacity:0.2;\"/>\n    <path clip-path=\"url(#pa0d20e3216)\" d=\"M 108.331955 122.945672 \nL 108.331955 132.699383 \nL 108.331955 142.320913 \nL 101.420117 142.554566 \nL 94.611459 143.252553 \nL 92.962822 133.727131 \nL 91.562551 124.049539 \nL 99.886262 123.222452 \nz\n\" style=\"fill:#887575;fill-opacity:0.2;\"/>\n    <path clip-path=\"url(#pa0d20e3216)\" d=\"M 108.331955 103.570432 \nL 108.331955 113.191962 \nL 108.331955 122.945672 \nL 99.886262 123.222452 \nL 91.562551 124.049539 \nL 90.429372 114.35172 \nL 89.579323 104.765934 \nL 98.888935 103.870141 \nz\n\" style=\"fill:#8d7a7a;fill-opacity:0.2;\"/>\n    <path clip-path=\"url(#pa0d20e3216)\" d=\"M 127.084588 104.765934 \nL 126.234539 114.35172 \nL 125.10136 124.049539 \nL 116.777649 123.222452 \nL 108.331955 122.945672 \nL 108.331955 113.191962 \nL 108.331955 103.570432 \nL 117.774976 103.870141 \nz\n\" style=\"fill:#7a6a6a;fill-opacity:0.2;\"/>\n    <path clip-path=\"url(#pa0d20e3216)\" d=\"M 140.899448 127.308889 \nL 138.166824 136.75993 \nL 134.952609 145.999835 \nL 128.655594 144.405944 \nL 122.052452 143.252553 \nL 123.701089 133.727131 \nL 125.10136 124.049539 \nL 133.181855 125.417149 \nz\n\" style=\"fill:#685a5a;fill-opacity:0.2;\"/>\n    <path clip-path=\"url(#pa0d20e3216)\" d=\"M 91.562551 124.049539 \nL 92.962822 133.727131 \nL 94.611459 143.252553 \nL 88.008317 144.405944 \nL 81.711302 145.999835 \nL 78.497087 136.75993 \nL 75.764463 127.308889 \nL 83.482056 125.417149 \nz\n\" style=\"fill:#998585;fill-opacity:0.2;\"/>\n    <path clip-path=\"url(#pa0d20e3216)\" d=\"M 89.579323 104.765934 \nL 90.429372 114.35172 \nL 91.562551 124.049539 \nL 83.482056 125.417149 \nL 75.764463 127.308889 \nL 73.551301 117.777738 \nL 71.890065 108.29881 \nL 80.535889 106.247775 \nz\n\" style=\"fill:#a28c8c;fill-opacity:0.2;\"/>\n    <path clip-path=\"url(#pa0d20e3216)\" d=\"M 144.773846 108.29881 \nL 143.11261 117.777738 \nL 140.899448 127.308889 \nL 133.181855 125.417149 \nL 125.10136 124.049539 \nL 126.234539 114.35172 \nL 127.084588 104.765934 \nL 136.128022 106.247775 \nz\n\" style=\"fill:#695b5b;fill-opacity:0.2;\"/>\n    <path clip-path=\"url(#pa0d20e3216)\" d=\"M 108.331955 142.320913 \nL 108.331955 151.678378 \nL 108.331955 160.640573 \nL 103.410492 160.81175 \nL 98.565592 161.322885 \nL 96.487071 152.494533 \nL 94.611459 143.252553 \nL 101.420117 142.554566 \nz\n\" style=\"fill:#837272;fill-opacity:0.2;\"/>\n    <path clip-path=\"url(#pa0d20e3216)\" d=\"M 122.052452 143.252553 \nL 120.17684 152.494533 \nL 118.098319 161.322885 \nL 113.253419 160.81175 \nL 108.331955 160.640573 \nL 108.331955 151.678378 \nL 108.331955 142.320913 \nL 115.243794 142.554566 \nz\n\" style=\"fill:#766767;fill-opacity:0.2;\"/>\n    <path clip-path=\"url(#pa0d20e3216)\" d=\"M 127.885134 86.458944 \nL 127.638242 95.424416 \nL 127.084588 104.765934 \nL 117.774976 103.870141 \nL 108.331955 103.570432 \nL 108.331955 94.212967 \nL 108.331955 85.250772 \nL 118.177465 85.553637 \nz\n\" style=\"fill:#7f6e6e;fill-opacity:0.2;\"/>\n    <path clip-path=\"url(#pa0d20e3216)\" d=\"M 108.331955 85.250772 \nL 108.331955 94.212967 \nL 108.331955 103.570432 \nL 98.888935 103.870141 \nL 89.579323 104.765934 \nL 89.025669 95.424416 \nL 88.778777 86.458944 \nL 98.486446 85.553637 \nz\n\" style=\"fill:#948080;fill-opacity:0.2;\"/>\n    <path clip-path=\"url(#pa0d20e3216)\" d=\"M 134.952609 145.999835 \nL 131.299941 154.899358 \nL 127.257158 163.331574 \nL 122.790921 162.166803 \nL 118.098319 161.322885 \nL 120.17684 152.494533 \nL 122.052452 143.252553 \nL 128.655594 144.405944 \nz\n\" style=\"fill:#6b5d5d;fill-opacity:0.2;\"/>\n    <path clip-path=\"url(#pa0d20e3216)\" d=\"M 94.611459 143.252553 \nL 96.487071 152.494533 \nL 98.565592 161.322885 \nL 93.87299 162.166803 \nL 89.406753 163.331574 \nL 85.36397 154.899358 \nL 81.711302 145.999835 \nL 88.008317 144.405944 \nz\n\" style=\"fill:#907d7d;fill-opacity:0.2;\"/>\n    <path clip-path=\"url(#pa0d20e3216)\" d=\"M 146.339153 90.030474 \nL 145.856319 99.005256 \nL 144.773846 108.29881 \nL 136.128022 106.247775 \nL 127.084588 104.765934 \nL 127.638242 95.424416 \nL 127.885134 86.458944 \nL 137.317704 87.956778 \nz\n\" style=\"fill:#6d5e5e;fill-opacity:0.2;\"/>\n    <path clip-path=\"url(#pa0d20e3216)\" d=\"M 88.778777 86.458944 \nL 89.025669 95.424416 \nL 89.579323 104.765934 \nL 80.535889 106.247775 \nL 71.890065 108.29881 \nL 70.807592 99.005256 \nL 70.324758 90.030474 \nL 79.346207 87.956778 \nz\n\" style=\"fill:#aa9393;fill-opacity:0.2;\"/>\n    <path clip-path=\"url(#pa0d20e3216)\" d=\"M 154.78048 132.565477 \nL 150.852849 141.645502 \nL 146.240174 150.419459 \nL 140.84555 148.013316 \nL 134.952609 145.999835 \nL 138.166824 136.75993 \nL 140.899448 127.308889 \nL 148.136902 129.701652 \nz\n\" style=\"fill:#5d5050;fill-opacity:0.2;\"/>\n    <path clip-path=\"url(#pa0d20e3216)\" d=\"M 75.764463 127.308889 \nL 78.497087 136.75993 \nL 81.711302 145.999835 \nL 75.818361 148.013316 \nL 70.423737 150.419459 \nL 65.811062 141.645502 \nL 61.883431 132.565477 \nL 68.527009 129.701652 \nz\n\" style=\"fill:#aa9393;fill-opacity:0.2;\"/>\n    <path clip-path=\"url(#pa0d20e3216)\" d=\"M 160.3588 114.005869 \nL 157.965588 123.308293 \nL 154.78048 132.565477 \nL 148.136902 129.701652 \nL 140.899448 127.308889 \nL 143.11261 117.777738 \nL 144.773846 108.29881 \nL 152.892797 110.895193 \nz\n\" style=\"fill:#5b4f4f;fill-opacity:0.2;\"/>\n    <path clip-path=\"url(#pa0d20e3216)\" d=\"M 71.890065 108.29881 \nL 73.551301 117.777738 \nL 75.764463 127.308889 \nL 68.527009 129.701652 \nL 61.883431 132.565477 \nL 58.698323 123.308293 \nL 56.305111 114.005869 \nL 63.771114 110.895193 \nz\n\" style=\"fill:#b59d9d;fill-opacity:0.2;\"/>\n    <path clip-path=\"url(#pa0d20e3216)\" d=\"M 146.240174 150.419459 \nL 141.007644 158.762102 \nL 135.227846 166.552527 \nL 131.425499 164.800566 \nL 127.257158 163.331574 \nL 131.299941 154.899358 \nL 134.952609 145.999835 \nL 140.84555 148.013316 \nz\n\" style=\"fill:#635656;fill-opacity:0.2;\"/>\n    <path clip-path=\"url(#pa0d20e3216)\" d=\"M 81.711302 145.999835 \nL 85.36397 154.899358 \nL 89.406753 163.331574 \nL 85.238412 164.800566 \nL 81.436065 166.552527 \nL 75.656267 158.762102 \nL 70.423737 150.419459 \nL 75.818361 148.013316 \nz\n\" style=\"fill:#9e8989;fill-opacity:0.2;\"/>\n    <path clip-path=\"url(#pa0d20e3216)\" d=\"M 118.098319 161.322885 \nL 115.843662 169.609076 \nL 113.442394 177.22701 \nL 110.908167 176.952932 \nL 108.331955 176.861099 \nL 108.331955 169.077495 \nL 108.331955 160.640573 \nL 113.253419 160.81175 \nz\n\" style=\"fill:#786868;fill-opacity:0.2;\"/>\n    <path clip-path=\"url(#pa0d20e3216)\" d=\"M 108.331955 160.640573 \nL 108.331955 169.077495 \nL 108.331955 176.861099 \nL 105.755744 176.952932 \nL 103.221517 177.22701 \nL 100.820249 169.609076 \nL 98.565592 161.322885 \nL 103.410492 160.81175 \nz\n\" style=\"fill:#7f6e6e;fill-opacity:0.2;\"/>\n    <path clip-path=\"url(#pa0d20e3216)\" d=\"M 127.432933 70.177295 \nL 127.818001 78.000267 \nL 127.885134 86.458944 \nL 118.177465 85.553637 \nL 108.331955 85.250772 \nL 108.331955 76.81385 \nL 108.331955 69.030246 \nL 117.950119 69.3178 \nz\n\" style=\"fill:#877575;fill-opacity:0.2;\"/>\n    <path clip-path=\"url(#pa0d20e3216)\" d=\"M 108.331955 69.030246 \nL 108.331955 76.81385 \nL 108.331955 85.250772 \nL 98.486446 85.553637 \nL 88.778777 86.458944 \nL 88.84591 78.000267 \nL 89.230978 70.177295 \nL 98.713792 69.3178 \nz\n\" style=\"fill:#9c8787;fill-opacity:0.2;\"/>\n    <path clip-path=\"url(#pa0d20e3216)\" d=\"M 127.257158 163.331574 \nL 122.877768 171.172535 \nL 118.220432 178.302118 \nL 115.89323 177.679083 \nL 113.442394 177.22701 \nL 115.843662 169.609076 \nL 118.098319 161.322885 \nL 122.790921 162.166803 \nz\n\" style=\"fill:#716262;fill-opacity:0.2;\"/>\n    <path clip-path=\"url(#pa0d20e3216)\" d=\"M 98.565592 161.322885 \nL 100.820249 169.609076 \nL 103.221517 177.22701 \nL 100.770681 177.679083 \nL 98.443479 178.302118 \nL 93.786143 171.172535 \nL 89.406753 163.331574 \nL 93.87299 162.166803 \nz\n\" style=\"fill:#877575;fill-opacity:0.2;\"/>\n    <path clip-path=\"url(#pa0d20e3216)\" d=\"M 70.324758 90.030474 \nL 70.807592 99.005256 \nL 71.890065 108.29881 \nL 63.771114 110.895193 \nL 56.305111 114.005869 \nL 54.744559 104.792445 \nL 54.048196 95.803793 \nL 61.848429 92.656417 \nz\n\" style=\"fill:#bfa6a6;fill-opacity:0.2;\"/>\n    <path clip-path=\"url(#pa0d20e3216)\" d=\"M 162.615715 95.803793 \nL 161.919352 104.792445 \nL 160.3588 114.005869 \nL 152.892797 110.895193 \nL 144.773846 108.29881 \nL 145.856319 99.005256 \nL 146.339153 90.030474 \nL 154.815482 92.656417 \nz\n\" style=\"fill:#5e5252;fill-opacity:0.2;\"/>\n    <path clip-path=\"url(#pa0d20e3216)\" d=\"M 135.227846 166.552527 \nL 128.980501 173.674931 \nL 122.35222 180.019509 \nL 120.385495 179.086374 \nL 118.220432 178.302118 \nL 122.877768 171.172535 \nL 127.257158 163.331574 \nL 131.425499 164.800566 \nz\n\" style=\"fill:#6d5e5e;fill-opacity:0.2;\"/>\n    <path clip-path=\"url(#pa0d20e3216)\" d=\"M 89.406753 163.331574 \nL 93.786143 171.172535 \nL 98.443479 178.302118 \nL 96.278416 179.086374 \nL 94.311691 180.019509 \nL 87.68341 173.674931 \nL 81.436065 166.552527 \nL 85.238412 164.800566 \nz\n\" style=\"fill:#907d7d;fill-opacity:0.2;\"/>\n    <path clip-path=\"url(#pa0d20e3216)\" d=\"M 145.454867 73.567485 \nL 146.207856 81.507384 \nL 146.339153 90.030474 \nL 137.317704 87.956778 \nL 127.885134 86.458944 \nL 127.818001 78.000267 \nL 127.432933 70.177295 \nL 136.645662 71.599196 \nz\n\" style=\"fill:#756565;fill-opacity:0.2;\"/>\n    <path clip-path=\"url(#pa0d20e3216)\" d=\"M 89.230978 70.177295 \nL 88.84591 78.000267 \nL 88.778777 86.458944 \nL 79.346207 87.956778 \nL 70.324758 90.030474 \nL 70.456055 81.507384 \nL 71.209044 73.567485 \nL 80.018249 71.599196 \nz\n\" style=\"fill:#b29a9a;fill-opacity:0.2;\"/>\n    <path clip-path=\"url(#pa0d20e3216)\" d=\"M 165.856194 139.55149 \nL 160.942227 148.127677 \nL 155.183034 156.27201 \nL 151.047089 153.185323 \nL 146.240174 150.419459 \nL 150.852849 141.645502 \nL 154.78048 132.565477 \nL 160.721183 135.863426 \nz\n\" style=\"fill:#554949;fill-opacity:0.2;\"/>\n    <path clip-path=\"url(#pa0d20e3216)\" d=\"M 61.883431 132.565477 \nL 65.811062 141.645502 \nL 70.423737 150.419459 \nL 65.616822 153.185323 \nL 61.480877 156.27201 \nL 55.721684 148.127677 \nL 50.807717 139.55149 \nL 55.942728 135.863426 \nz\n\" style=\"fill:#baa1a1;fill-opacity:0.2;\"/>\n    <path clip-path=\"url(#pa0d20e3216)\" d=\"M 155.183034 156.27201 \nL 148.665363 163.865941 \nL 141.485023 170.798004 \nL 138.600477 168.5617 \nL 135.227846 166.552527 \nL 141.007644 158.762102 \nL 146.240174 150.419459 \nL 151.047089 153.185323 \nz\n\" style=\"fill:#5d5151;fill-opacity:0.2;\"/>\n    <path clip-path=\"url(#pa0d20e3216)\" d=\"M 70.423737 150.419459 \nL 75.656267 158.762102 \nL 81.436065 166.552527 \nL 78.063434 168.5617 \nL 75.178888 170.798004 \nL 67.998548 163.865941 \nL 61.480877 156.27201 \nL 65.616822 153.185323 \nz\n\" style=\"fill:#aa9393;fill-opacity:0.2;\"/>\n    <path clip-path=\"url(#pa0d20e3216)\" d=\"M 172.851388 121.608446 \nL 169.848004 130.6683 \nL 165.856194 139.55149 \nL 160.721183 135.863426 \nL 154.78048 132.565477 \nL 157.965588 123.308293 \nL 160.3588 114.005869 \nL 167.050218 117.592337 \nz\n\" style=\"fill:#514747;fill-opacity:0.2;\"/>\n    <path clip-path=\"url(#pa0d20e3216)\" d=\"M 56.305111 114.005869 \nL 58.698323 123.308293 \nL 61.883431 132.565477 \nL 55.942728 135.863426 \nL 50.807717 139.55149 \nL 46.815907 130.6683 \nL 43.812523 121.608446 \nL 49.613693 117.592337 \nz\n\" style=\"fill:#c7adad;fill-opacity:0.2;\"/>\n    <path clip-path=\"url(#pa0d20e3216)\" d=\"M 81.436065 166.552527 \nL 87.68341 173.674931 \nL 94.311691 180.019509 \nL 92.576631 181.086717 \nL 91.103152 182.270914 \nL 82.917717 176.964613 \nL 75.178888 170.798004 \nL 78.063434 168.5617 \nz\n\" style=\"fill:#988484;fill-opacity:0.2;\"/>\n    <path clip-path=\"url(#pa0d20e3216)\" d=\"M 141.485023 170.798004 \nL 133.746194 176.964613 \nL 125.560759 182.270914 \nL 124.08728 181.086717 \nL 122.35222 180.019509 \nL 128.980501 173.674931 \nL 135.227846 166.552527 \nL 138.600477 168.5617 \nz\n\" style=\"fill:#6a5c5c;fill-opacity:0.2;\"/>\n    <path clip-path=\"url(#pa0d20e3216)\" d=\"M 161.340493 79.045623 \nL 162.426336 87.176265 \nL 162.615715 95.803793 \nL 154.815482 92.656417 \nL 146.339153 90.030474 \nL 146.207856 81.507384 \nL 145.454867 73.567485 \nL 153.729215 76.059481 \nz\n\" style=\"fill:#665858;fill-opacity:0.2;\"/>\n    <path clip-path=\"url(#pa0d20e3216)\" d=\"M 71.209044 73.567485 \nL 70.456055 81.507384 \nL 70.324758 90.030474 \nL 61.848429 92.656417 \nL 54.048196 95.803793 \nL 54.237575 87.176265 \nL 55.323418 79.045623 \nL 62.934696 76.059481 \nz\n\" style=\"fill:#c7acac;fill-opacity:0.2;\"/>\n    <path clip-path=\"url(#pa0d20e3216)\" d=\"M 113.442394 177.22701 \nL 110.926808 184.054083 \nL 108.331955 189.97259 \nL 108.331955 189.97259 \nL 108.331955 189.97259 \nL 108.331955 183.866343 \nL 108.331955 176.861099 \nL 110.908167 176.952932 \nz\n\" style=\"fill:#736464;fill-opacity:0.2;\"/>\n    <path clip-path=\"url(#pa0d20e3216)\" d=\"M 108.331955 176.861099 \nL 108.331955 183.866343 \nL 108.331955 189.97259 \nL 108.331955 189.97259 \nL 108.331955 189.97259 \nL 105.737103 184.054083 \nL 103.221517 177.22701 \nL 105.755744 176.952932 \nz\n\" style=\"fill:#746464;fill-opacity:0.2;\"/>\n    <path clip-path=\"url(#pa0d20e3216)\" d=\"M 118.220432 178.302118 \nL 113.348912 184.605111 \nL 108.331955 189.97259 \nL 108.331955 189.97259 \nL 108.331955 189.97259 \nL 110.926808 184.054083 \nL 113.442394 177.22701 \nL 115.89323 177.679083 \nz\n\" style=\"fill:#746464;fill-opacity:0.2;\"/>\n    <path clip-path=\"url(#pa0d20e3216)\" d=\"M 103.221517 177.22701 \nL 105.737103 184.054083 \nL 108.331955 189.97259 \nL 108.331955 189.97259 \nL 108.331955 189.97259 \nL 103.314998 184.605111 \nL 98.443479 178.302118 \nL 100.770681 177.679083 \nz\n\" style=\"fill:#766666;fill-opacity:0.2;\"/>\n    <path clip-path=\"url(#pa0d20e3216)\" d=\"M 161.148159 163.223356 \nL 153.732892 169.911366 \nL 145.58924 175.811511 \nL 143.82948 173.22726 \nL 141.485023 170.798004 \nL 148.665363 163.865941 \nL 155.183034 156.27201 \nL 158.572281 159.634793 \nz\n\" style=\"fill:#5b4f4f;fill-opacity:0.2;\"/>\n    <path clip-path=\"url(#pa0d20e3216)\" d=\"M 125.71209 56.938058 \nL 126.729696 63.116017 \nL 127.432933 70.177295 \nL 117.950119 69.3178 \nL 108.331955 69.030246 \nL 108.331955 62.025002 \nL 108.331955 55.918755 \nL 117.084807 56.174319 \nz\n\" style=\"fill:#917d7d;fill-opacity:0.2;\"/>\n    <path clip-path=\"url(#pa0d20e3216)\" d=\"M 108.331955 55.918755 \nL 108.331955 62.025002 \nL 108.331955 69.030246 \nL 98.713792 69.3178 \nL 89.230978 70.177295 \nL 89.934215 63.116017 \nL 90.951821 56.938058 \nL 99.579104 56.174319 \nz\n\" style=\"fill:#a48e8e;fill-opacity:0.2;\"/>\n    <path clip-path=\"url(#pa0d20e3216)\" d=\"M 145.58924 175.811511 \nL 136.84201 180.836766 \nL 127.623489 184.911827 \nL 126.746678 183.552941 \nL 125.560759 182.270914 \nL 133.746194 176.964613 \nL 141.485023 170.798004 \nL 143.82948 173.22726 \nz\n\" style=\"fill:#6a5c5c;fill-opacity:0.2;\"/>\n    <path clip-path=\"url(#pa0d20e3216)\" d=\"M 122.35222 180.019509 \nL 115.43622 185.483523 \nL 108.331955 189.97259 \nL 108.331955 189.97259 \nL 108.331955 189.97259 \nL 113.348912 184.605111 \nL 118.220432 178.302118 \nL 120.385495 179.086374 \nz\n\" style=\"fill:#766666;fill-opacity:0.2;\"/>\n    <path clip-path=\"url(#pa0d20e3216)\" d=\"M 98.443479 178.302118 \nL 103.314998 184.605111 \nL 108.331955 189.97259 \nL 108.331955 189.97259 \nL 108.331955 189.97259 \nL 101.227691 185.483523 \nL 94.311691 180.019509 \nL 96.278416 179.086374 \nz\n\" style=\"fill:#796969;fill-opacity:0.2;\"/>\n    <path clip-path=\"url(#pa0d20e3216)\" d=\"M 175.686905 103.501973 \nL 174.811687 112.50685 \nL 172.851388 121.608446 \nL 167.050218 117.592337 \nL 160.3588 114.005869 \nL 161.919352 104.792445 \nL 162.615715 95.803793 \nL 169.613147 99.434317 \nz\n\" style=\"fill:#544949;fill-opacity:0.2;\"/>\n    <path clip-path=\"url(#pa0d20e3216)\" d=\"M 54.048196 95.803793 \nL 54.744559 104.792445 \nL 56.305111 114.005869 \nL 49.613693 117.592337 \nL 43.812523 121.608446 \nL 41.852224 112.50685 \nL 40.977006 103.501973 \nL 47.050764 99.434317 \nz\n\" style=\"fill:#d2b6b6;fill-opacity:0.2;\"/>\n    <path clip-path=\"url(#pa0d20e3216)\" d=\"M 173.339115 147.886546 \nL 167.718937 155.845583 \nL 161.148159 163.223356 \nL 158.572281 159.634793 \nL 155.183034 156.27201 \nL 160.942227 148.127677 \nL 165.856194 139.55149 \nL 170.090564 143.578564 \nz\n\" style=\"fill:#514646;fill-opacity:0.2;\"/>\n    <path clip-path=\"url(#pa0d20e3216)\" d=\"M 125.560759 182.270914 \nL 117.04762 186.631724 \nL 108.331955 189.97259 \nL 108.331955 189.97259 \nL 108.331955 189.97259 \nL 115.43622 185.483523 \nL 122.35222 180.019509 \nL 124.08728 181.086717 \nz\n\" style=\"fill:#7a6969;fill-opacity:0.2;\"/>\n    <path clip-path=\"url(#pa0d20e3216)\" d=\"M 94.311691 180.019509 \nL 101.227691 185.483523 \nL 108.331955 189.97259 \nL 108.331955 189.97259 \nL 108.331955 189.97259 \nL 99.616291 186.631724 \nL 91.103152 182.270914 \nL 92.576631 181.086717 \nz\n\" style=\"fill:#7e6d6d;fill-opacity:0.2;\"/>\n    <path clip-path=\"url(#pa0d20e3216)\" d=\"M 142.092041 59.948494 \nL 144.080179 66.339636 \nL 145.454867 73.567485 \nL 136.645662 71.599196 \nL 127.432933 70.177295 \nL 126.729696 63.116017 \nL 125.71209 56.938058 \nL 134.088955 58.201083 \nz\n\" style=\"fill:#7f6e6e;fill-opacity:0.2;\"/>\n    <path clip-path=\"url(#pa0d20e3216)\" d=\"M 90.951821 56.938058 \nL 89.934215 63.116017 \nL 89.230978 70.177295 \nL 80.018249 71.599196 \nL 71.209044 73.567485 \nL 72.583732 66.339636 \nL 74.571869 59.948494 \nL 82.574956 58.201083 \nz\n\" style=\"fill:#b8a0a0;fill-opacity:0.2;\"/>\n    <path clip-path=\"url(#pa0d20e3216)\" d=\"M 127.623489 184.911827 \nL 118.07225 187.973749 \nL 108.331955 189.97259 \nL 108.331955 189.97259 \nL 108.331955 189.97259 \nL 117.04762 186.631724 \nL 125.560759 182.270914 \nL 126.746678 183.552941 \nz\n\" style=\"fill:#7e6e6e;fill-opacity:0.2;\"/>\n    <path clip-path=\"url(#pa0d20e3216)\" d=\"M 128.388362 187.768997 \nL 118.437306 189.419838 \nL 108.331955 189.97259 \nL 108.331955 189.97259 \nL 108.331955 189.97259 \nL 118.07225 187.973749 \nL 127.623489 184.911827 \nL 128.174518 186.325075 \nz\n\" style=\"fill:#847272;fill-opacity:0.2;\"/>\n    <path clip-path=\"url(#pa0d20e3216)\" d=\"M 147.219354 181.27677 \nL 138.032313 185.042297 \nL 128.388362 187.768997 \nL 128.174518 186.325075 \nL 127.623489 184.911827 \nL 136.84201 180.836766 \nL 145.58924 175.811511 \nL 146.728119 178.50942 \nz\n\" style=\"fill:#6c5e5e;fill-opacity:0.2;\"/>\n    <path clip-path=\"url(#pa0d20e3216)\" d=\"M 181.361531 130.705947 \nL 177.91395 139.464377 \nL 173.339115 147.886546 \nL 170.090564 143.578564 \nL 165.856194 139.55149 \nL 169.848004 130.6683 \nL 172.851388 121.608446 \nL 177.654457 126.000244 \nz\n\" style=\"fill:#4d4343;fill-opacity:0.2;\"/>\n    <path clip-path=\"url(#pa0d20e3216)\" d=\"M 127.787114 190.6504 \nL 118.113787 190.872095 \nL 108.331955 189.97259 \nL 108.331955 189.97259 \nL 108.331955 189.97259 \nL 118.437306 189.419838 \nL 128.388362 187.768997 \nL 128.259215 189.219082 \nz\n\" style=\"fill:#897777;fill-opacity:0.2;\"/>\n    <path clip-path=\"url(#pa0d20e3216)\" d=\"M 163.648164 170.850914 \nL 155.804275 176.52418 \nL 147.219354 181.27677 \nL 146.728119 178.50942 \nL 145.58924 175.811511 \nL 153.732892 169.911366 \nL 161.148159 163.223356 \nL 162.854673 166.982148 \nz\n\" style=\"fill:#5c5050;fill-opacity:0.2;\"/>\n    <path clip-path=\"url(#pa0d20e3216)\" d=\"M 174.084377 86.346275 \nL 175.448856 94.734585 \nL 175.686905 103.501973 \nL 169.613147 99.434317 \nL 162.615715 95.803793 \nL 162.426336 87.176265 \nL 161.340493 79.045623 \nL 168.164857 82.489229 \nz\n\" style=\"fill:#5c4f4f;fill-opacity:0.2;\"/>\n    <path clip-path=\"url(#pa0d20e3216)\" d=\"M 55.323418 79.045623 \nL 54.237575 87.176265 \nL 54.048196 95.803793 \nL 47.050764 99.434317 \nL 40.977006 103.501973 \nL 41.215055 94.734585 \nL 42.579534 86.346275 \nL 48.499054 82.489229 \nz\n\" style=\"fill:#dabdbd;fill-opacity:0.2;\"/>\n    <path clip-path=\"url(#pa0d20e3216)\" d=\"M 125.844179 193.357525 \nL 117.119566 192.230968 \nL 108.331955 189.97259 \nL 108.331955 189.97259 \nL 108.331955 189.97259 \nL 118.113787 190.872095 \nL 127.787114 190.6504 \nL 126.978084 192.038032 \nz\n\" style=\"fill:#8f7c7c;fill-opacity:0.2;\"/>\n    <path clip-path=\"url(#pa0d20e3216)\" d=\"M 74.571869 59.948494 \nL 72.583732 66.339636 \nL 71.209044 73.567485 \nL 62.934696 76.059481 \nL 55.323418 79.045623 \nL 57.304675 71.54559 \nL 60.167548 64.806089 \nL 67.063545 62.159263 \nz\n\" style=\"fill:#ccb1b1;fill-opacity:0.2;\"/>\n    <path clip-path=\"url(#pa0d20e3216)\" d=\"M 156.496363 64.806089 \nL 159.359236 71.54559 \nL 161.340493 79.045623 \nL 153.729215 76.059481 \nL 145.454867 73.567485 \nL 144.080179 66.339636 \nL 142.092041 59.948494 \nL 149.600366 62.159263 \nz\n\" style=\"fill:#726262;fill-opacity:0.2;\"/>\n    <path clip-path=\"url(#pa0d20e3216)\" d=\"M 146.204392 186.832264 \nL 137.20083 189.300759 \nL 127.787114 190.6504 \nL 128.259215 189.219082 \nL 128.388362 187.768997 \nL 138.032313 185.042297 \nL 147.219354 181.27677 \nL 147.046529 184.067068 \nz\n\" style=\"fill:#706161;fill-opacity:0.2;\"/>\n    <path clip-path=\"url(#pa0d20e3216)\" d=\"M 176.599695 157.079542 \nL 170.620218 164.337759 \nL 163.648164 170.850914 \nL 162.854673 166.982148 \nL 161.148159 163.223356 \nL 167.718937 155.845583 \nL 173.339115 147.886546 \nL 175.528545 152.410586 \nz\n\" style=\"fill:#524747;fill-opacity:0.2;\"/>\n    <path clip-path=\"url(#pa0d20e3216)\" d=\"M 184.620789 112.724907 \nL 183.614324 121.745807 \nL 181.361531 130.705947 \nL 177.654457 126.000244 \nL 172.851388 121.608446 \nL 174.811687 112.50685 \nL 175.686905 103.501973 \nL 180.723844 107.952822 \nz\n\" style=\"fill:#4f4444;fill-opacity:0.2;\"/>\n    <path clip-path=\"url(#pa0d20e3216)\" d=\"M 122.771507 47.685419 \nL 124.388342 51.758856 \nL 125.71209 56.938058 \nL 117.084807 56.174319 \nL 108.331955 55.918755 \nL 108.331955 50.825945 \nL 108.331955 46.852595 \nL 115.605606 47.061454 \nz\n\" style=\"fill:#9b8686;fill-opacity:0.2;\"/>\n    <path clip-path=\"url(#pa0d20e3216)\" d=\"M 108.331955 46.852595 \nL 108.331955 50.825945 \nL 108.331955 55.918755 \nL 99.579104 56.174319 \nL 90.951821 56.938058 \nL 92.275569 51.758856 \nL 93.892404 47.685419 \nL 101.058305 47.061454 \nz\n\" style=\"fill:#ac9595;fill-opacity:0.2;\"/>\n    <path clip-path=\"url(#pa0d20e3216)\" d=\"M 142.550694 192.092364 \nL 134.367754 193.317539 \nL 125.844179 193.357525 \nL 126.978084 192.038032 \nL 127.787114 190.6504 \nL 137.20083 189.300759 \nL 146.204392 186.832264 \nL 144.699506 189.523568 \nz\n\" style=\"fill:#766666;fill-opacity:0.2;\"/>\n    <path clip-path=\"url(#pa0d20e3216)\" d=\"M 162.392959 178.658243 \nL 154.649662 183.270524 \nL 146.204392 186.832264 \nL 147.046529 184.067068 \nL 147.219354 181.27677 \nL 155.804275 176.52418 \nL 163.648164 170.850914 \nL 163.498964 174.765398 \nz\n\" style=\"fill:#615454;fill-opacity:0.2;\"/>\n    <path clip-path=\"url(#pa0d20e3216)\" d=\"M 136.354083 50.14205 \nL 139.507694 54.512597 \nL 142.092041 59.948494 \nL 134.088955 58.201083 \nL 125.71209 56.938058 \nL 124.388342 51.758856 \nL 122.771507 47.685419 \nL 129.72274 48.716651 \nz\n\" style=\"fill:#8c7a7a;fill-opacity:0.2;\"/>\n    <path clip-path=\"url(#pa0d20e3216)\" d=\"M 93.892404 47.685419 \nL 92.275569 51.758856 \nL 90.951821 56.938058 \nL 82.574956 58.201083 \nL 74.571869 59.948494 \nL 77.156217 54.512597 \nL 80.309828 50.14205 \nL 86.941171 48.716651 \nz\n\" style=\"fill:#bda4a4;fill-opacity:0.2;\"/>\n    <path clip-path=\"url(#pa0d20e3216)\" d=\"M 185.160777 140.773863 \nL 181.477983 149.184576 \nL 176.599695 157.079542 \nL 175.528545 152.410586 \nL 173.339115 147.886546 \nL 177.91395 139.464377 \nL 181.361531 130.705947 \nL 183.887111 135.656083 \nz\n\" style=\"fill:#4e4343;fill-opacity:0.2;\"/>\n    <path clip-path=\"url(#pa0d20e3216)\" d=\"M 60.167548 64.806089 \nL 57.304675 71.54559 \nL 55.323418 79.045623 \nL 48.499054 82.489229 \nL 42.579534 86.346275 \nL 45.067357 78.477701 \nL 48.658009 71.266518 \nL 53.996782 67.855256 \nz\n\" style=\"fill:#dec0c0;fill-opacity:0.2;\"/>\n    <path clip-path=\"url(#pa0d20e3216)\" d=\"M 168.005902 71.266518 \nL 171.596554 78.477701 \nL 174.084377 86.346275 \nL 168.164857 82.489229 \nL 161.340493 79.045623 \nL 159.359236 71.54559 \nL 156.496363 64.806089 \nL 162.667129 67.855256 \nz\n\" style=\"fill:#685a5a;fill-opacity:0.2;\"/>\n    <path clip-path=\"url(#pa0d20e3216)\" d=\"M 182.778257 95.087028 \nL 184.347003 103.789045 \nL 184.620789 112.724907 \nL 180.723844 107.952822 \nL 175.686905 103.501973 \nL 175.448856 94.734585 \nL 174.084377 86.346275 \nL 178.988904 90.565234 \nz\n\" style=\"fill:#574b4b;fill-opacity:0.2;\"/>\n    <path clip-path=\"url(#pa0d20e3216)\" d=\"M 148.25046 54.096437 \nL 152.779397 58.951145 \nL 156.496363 64.806089 \nL 149.600366 62.159263 \nL 142.092041 59.948494 \nL 139.507694 54.512597 \nL 136.354083 50.14205 \nL 142.562954 51.943222 \nz\n\" style=\"fill:#817070;fill-opacity:0.2;\"/>\n    <path clip-path=\"url(#pa0d20e3216)\" d=\"M 80.309828 50.14205 \nL 77.156217 54.512597 \nL 74.571869 59.948494 \nL 67.063545 62.159263 \nL 60.167548 64.806089 \nL 63.884514 58.951145 \nL 68.413451 54.096437 \nL 74.100957 51.943222 \nz\n\" style=\"fill:#ceb3b3;fill-opacity:0.2;\"/>\n    <path clip-path=\"url(#pa0d20e3216)\" d=\"M 175.235195 166.540672 \nL 169.297358 173.055646 \nL 162.392959 178.658243 \nL 163.498964 174.765398 \nL 163.648164 170.850914 \nL 170.620218 164.337759 \nL 176.599695 157.079542 \nL 176.509877 161.816683 \nz\n\" style=\"fill:#574c4c;fill-opacity:0.2;\"/>\n    <path clip-path=\"url(#pa0d20e3216)\" d=\"M 157.33989 186.10098 \nL 150.253688 189.680899 \nL 142.550694 192.092364 \nL 144.699506 189.523568 \nL 146.204392 186.832264 \nL 154.649662 183.270524 \nL 162.392959 178.658243 \nL 160.332977 182.46011 \nz\n\" style=\"fill:#685a5a;fill-opacity:0.2;\"/>\n    <path clip-path=\"url(#pa0d20e3216)\" d=\"M 188.647576 122.945672 \nL 187.570309 131.979986 \nL 185.160777 140.773863 \nL 183.887111 135.656083 \nL 181.361531 130.705947 \nL 183.614324 121.745807 \nL 184.620789 112.724907 \nL 187.28711 117.748351 \nz\n\" style=\"fill:#504545;fill-opacity:0.2;\"/>\n    <path clip-path=\"url(#pa0d20e3216)\" d=\"M 108.331955 42.630051 \nL 108.331955 44.09367 \nL 108.331955 46.852595 \nL 101.058305 47.061454 \nL 93.892404 47.685419 \nL 95.784063 44.813682 \nL 97.926767 43.225482 \nL 103.088844 42.779424 \nz\n\" style=\"fill:#b29a9a;fill-opacity:0.2;\"/>\n    <path clip-path=\"url(#pa0d20e3216)\" d=\"M 118.737144 43.225482 \nL 120.879848 44.813682 \nL 122.771507 47.685419 \nL 115.605606 47.061454 \nL 108.331955 46.852595 \nL 108.331955 44.09367 \nL 108.331955 42.630051 \nL 113.575067 42.779424 \nz\n\" style=\"fill:#a69090;fill-opacity:0.2;\"/>\n    <path clip-path=\"url(#pa0d20e3216)\" d=\"M 175.801758 78.981493 \nL 179.92053 86.768507 \nL 182.778257 95.087028 \nL 178.988904 90.565234 \nL 174.084377 86.346275 \nL 171.596554 78.477701 \nL 168.005902 71.266518 \nL 172.413791 74.99305 \nz\n\" style=\"fill:#645656;fill-opacity:0.2;\"/>\n    <path clip-path=\"url(#pa0d20e3216)\" d=\"M 157.691422 59.337356 \nL 163.351422 64.844999 \nL 168.005902 71.266518 \nL 162.667129 67.855256 \nL 156.496363 64.806089 \nL 152.779397 58.951145 \nL 148.25046 54.096437 \nL 153.322565 56.572618 \nz\n\" style=\"fill:#796969;fill-opacity:0.2;\"/>\n    <path clip-path=\"url(#pa0d20e3216)\" d=\"M 68.413451 54.096437 \nL 63.884514 58.951145 \nL 60.167548 64.806089 \nL 53.996782 67.855256 \nL 48.658009 71.266518 \nL 53.312489 64.844999 \nL 58.972489 59.337356 \nL 63.341346 56.572618 \nz\n\" style=\"fill:#dec0c0;fill-opacity:0.2;\"/>\n    <path clip-path=\"url(#pa0d20e3216)\" d=\"M 183.763115 151.172862 \nL 180.090759 159.208863 \nL 175.235195 166.540672 \nL 176.509877 161.816683 \nL 176.599695 157.079542 \nL 181.477983 149.184576 \nL 185.160777 140.773863 \nL 185.13002 145.975831 \nz\n\" style=\"fill:#544949;fill-opacity:0.2;\"/>\n    <path clip-path=\"url(#pa0d20e3216)\" d=\"M 97.926767 43.225482 \nL 95.784063 44.813682 \nL 93.892404 47.685419 \nL 86.941171 48.716651 \nL 80.309828 50.14205 \nL 83.995401 46.935848 \nL 88.164782 44.978868 \nL 92.925915 43.962052 \nz\n\" style=\"fill:#c0a6a6;fill-opacity:0.2;\"/>\n    <path clip-path=\"url(#pa0d20e3216)\" d=\"M 128.499129 44.978868 \nL 132.66851 46.935848 \nL 136.354083 50.14205 \nL 129.72274 48.716651 \nL 122.771507 47.685419 \nL 120.879848 44.813682 \nL 118.737144 43.225482 \nL 123.737996 43.962052 \nz\n\" style=\"fill:#9b8686;fill-opacity:0.2;\"/>\n    <path clip-path=\"url(#pa0d20e3216)\" d=\"M 186.675791 104.765922 \nL 188.354482 113.821951 \nL 188.647576 122.945672 \nL 187.28711 117.748351 \nL 184.620789 112.724907 \nL 184.347003 103.789045 \nL 182.778257 95.087028 \nL 185.364717 99.845133 \nz\n\" style=\"fill:#574c4c;fill-opacity:0.2;\"/>\n    <path clip-path=\"url(#pa0d20e3216)\" d=\"M 169.142156 175.608851 \nL 163.677419 181.390599 \nL 157.33989 186.10098 \nL 160.332977 182.46011 \nL 162.392959 178.658243 \nL 169.297358 173.055646 \nL 175.235195 166.540672 \nL 172.772684 171.166855 \nz\n\" style=\"fill:#615454;fill-opacity:0.2;\"/>\n    <path clip-path=\"url(#pa0d20e3216)\" d=\"M 88.164782 44.978868 \nL 83.995401 46.935848 \nL 80.309828 50.14205 \nL 74.100957 51.943222 \nL 68.413451 54.096437 \nL 73.696926 50.346543 \nL 79.661764 47.791916 \nL 83.719271 46.261601 \nz\n\" style=\"fill:#cdb1b1;fill-opacity:0.2;\"/>\n    <path clip-path=\"url(#pa0d20e3216)\" d=\"M 137.002147 47.791916 \nL 142.966985 50.346543 \nL 148.25046 54.096437 \nL 142.562954 51.943222 \nL 136.354083 50.14205 \nL 132.66851 46.935848 \nL 128.499129 44.978868 \nL 132.94464 46.261601 \nz\n\" style=\"fill:#927f7f;fill-opacity:0.2;\"/>\n    <path clip-path=\"url(#pa0d20e3216)\" d=\"M 164.007897 65.568828 \nL 170.472786 71.869566 \nL 175.801758 78.981493 \nL 172.413791 74.99305 \nL 168.005902 71.266518 \nL 163.351422 64.844999 \nL 157.691422 59.337356 \nL 161.276839 62.350999 \nz\n\" style=\"fill:#756666;fill-opacity:0.2;\"/>\n    <path clip-path=\"url(#pa0d20e3216)\" d=\"M 187.245371 133.518065 \nL 186.168952 142.561452 \nL 183.763115 151.172862 \nL 185.13002 145.975831 \nL 185.160777 140.773863 \nL 187.570309 131.979986 \nL 188.647576 122.945672 \nL 188.645404 128.232406 \nz\n\" style=\"fill:#564a4a;fill-opacity:0.2;\"/>\n    <path clip-path=\"url(#pa0d20e3216)\" d=\"M 79.661764 47.791916 \nL 73.696926 50.346543 \nL 68.413451 54.096437 \nL 63.341346 56.572618 \nL 58.972489 59.337356 \nL 65.5599 54.856816 \nL 72.976762 51.502516 \nL 76.060144 49.547565 \nz\n\" style=\"fill:#d9bcbc;fill-opacity:0.2;\"/>\n    <path clip-path=\"url(#pa0d20e3216)\" d=\"M 143.687149 51.502516 \nL 151.104011 54.856816 \nL 157.691422 59.337356 \nL 153.322565 56.572618 \nL 148.25046 54.096437 \nL 142.966985 50.346543 \nL 137.002147 47.791916 \nL 140.603767 49.547565 \nz\n\" style=\"fill:#8c7a7a;fill-opacity:0.2;\"/>\n    <path clip-path=\"url(#pa0d20e3216)\" d=\"M 179.224459 87.49942 \nL 183.620778 95.938106 \nL 186.675791 104.765922 \nL 185.364717 99.845133 \nL 182.778257 95.087028 \nL 179.92053 86.768507 \nL 175.801758 78.981493 \nL 178.092824 83.17216 \nz\n\" style=\"fill:#645757;fill-opacity:0.2;\"/>\n    <path clip-path=\"url(#pa0d20e3216)\" d=\"M 177.014031 161.175786 \nL 173.620793 168.836459 \nL 169.142156 175.608851 \nL 172.772684 171.166855 \nL 175.235195 166.540672 \nL 180.090759 159.208863 \nL 183.763115 151.172862 \nL 181.051865 156.271517 \nz\n\" style=\"fill:#5f5252;fill-opacity:0.2;\"/>\n    <path clip-path=\"url(#pa0d20e3216)\" d=\"M 113.822458 44.136592 \nL 116.372913 42.985258 \nL 118.737144 43.225482 \nL 113.575067 42.779424 \nL 108.331955 42.630051 \nL 108.331955 42.52521 \nL 108.331955 43.821701 \nL 111.099676 43.900727 \nz\n\" style=\"fill:#af9797;fill-opacity:0.2;\"/>\n    <path clip-path=\"url(#pa0d20e3216)\" d=\"M 108.331955 43.821701 \nL 108.331955 42.52521 \nL 108.331955 42.630051 \nL 103.088844 42.779424 \nL 97.926767 43.225482 \nL 100.290998 42.985258 \nL 102.841453 44.136592 \nL 105.564235 43.900727 \nz\n\" style=\"fill:#b69e9e;fill-opacity:0.2;\"/>\n    <path clip-path=\"url(#pa0d20e3216)\" d=\"M 118.95711 45.061944 \nL 123.905213 44.338629 \nL 128.499129 44.978868 \nL 123.737996 43.962052 \nL 118.737144 43.225482 \nL 116.372913 42.985258 \nL 113.822458 44.136592 \nL 116.455971 44.525667 \nz\n\" style=\"fill:#a89292;fill-opacity:0.2;\"/>\n    <path clip-path=\"url(#pa0d20e3216)\" d=\"M 102.841453 44.136592 \nL 100.290998 42.985258 \nL 97.926767 43.225482 \nL 92.925915 43.962052 \nL 88.164782 44.978868 \nL 92.758698 44.338629 \nL 97.706801 45.061944 \nL 100.20794 44.525667 \nz\n\" style=\"fill:#bea5a5;fill-opacity:0.2;\"/>\n    <path clip-path=\"url(#pa0d20e3216)\" d=\"M 185.275516 114.76949 \nL 186.952458 124.198741 \nL 187.245371 133.518065 \nL 188.645404 128.232406 \nL 188.647576 122.945672 \nL 188.354482 113.821951 \nL 186.675791 104.765922 \nL 186.657131 109.76927 \nz\n\" style=\"fill:#5e5151;fill-opacity:0.2;\"/>\n    <path clip-path=\"url(#pa0d20e3216)\" d=\"M 148.083963 55.888454 \nL 156.504795 60.204668 \nL 164.007897 65.568828 \nL 161.276839 62.350999 \nL 157.691422 59.337356 \nL 151.104011 54.856816 \nL 143.687149 51.502516 \nL 146.196554 53.627137 \nz\n\" style=\"fill:#8a7878;fill-opacity:0.2;\"/>\n    <path clip-path=\"url(#pa0d20e3216)\" d=\"M 123.399588 46.540571 \nL 130.444909 46.505709 \nL 137.002147 47.791916 \nL 132.94464 46.261601 \nL 128.499129 44.978868 \nL 123.905213 44.338629 \nL 118.95711 45.061944 \nL 121.284596 45.737097 \nz\n\" style=\"fill:#a48e8e;fill-opacity:0.2;\"/>\n    <path clip-path=\"url(#pa0d20e3216)\" d=\"M 97.706801 45.061944 \nL 92.758698 44.338629 \nL 88.164782 44.978868 \nL 83.719271 46.261601 \nL 79.661764 47.791916 \nL 86.219002 46.505709 \nL 93.264323 46.540571 \nL 95.379315 45.737097 \nz\n\" style=\"fill:#c7acac;fill-opacity:0.2;\"/>\n    <path clip-path=\"url(#pa0d20e3216)\" d=\"M 166.680061 72.414731 \nL 173.548266 79.607826 \nL 179.224459 87.49942 \nL 178.092824 83.17216 \nL 175.801758 78.981493 \nL 170.472786 71.869566 \nL 164.007897 65.568828 \nL 165.824677 68.941348 \nz\n\" style=\"fill:#766666;fill-opacity:0.2;\"/>\n    <path clip-path=\"url(#pa0d20e3216)\" d=\"M 93.264323 46.540571 \nL 86.219002 46.505709 \nL 79.661764 47.791916 \nL 76.060144 49.547565 \nL 72.976762 51.502516 \nL 81.105776 49.356339 \nL 89.811458 48.479827 \nL 91.397638 47.459694 \nz\n\" style=\"fill:#cfb3b3;fill-opacity:0.2;\"/>\n    <path clip-path=\"url(#pa0d20e3216)\" d=\"M 126.852453 48.479827 \nL 135.558135 49.356339 \nL 143.687149 51.502516 \nL 140.603767 49.547565 \nL 137.002147 47.791916 \nL 130.444909 46.505709 \nL 123.399588 46.540571 \nL 125.266273 47.459694 \nz\n\" style=\"fill:#a18c8c;fill-opacity:0.2;\"/>\n    <path clip-path=\"url(#pa0d20e3216)\" d=\"M 180.236369 143.702689 \nL 179.2398 152.750199 \nL 177.014031 161.175786 \nL 181.051865 156.271517 \nL 183.763115 151.172862 \nL 186.168952 142.561452 \nL 187.245371 133.518065 \nL 184.436823 138.707507 \nz\n\" style=\"fill:#615454;fill-opacity:0.2;\"/>\n    <path clip-path=\"url(#pa0d20e3216)\" d=\"M 177.846475 96.275489 \nL 182.226778 105.403106 \nL 185.275516 114.76949 \nL 186.657131 109.76927 \nL 186.675791 104.765922 \nL 183.620778 95.938106 \nL 179.224459 87.49942 \nL 179.151071 91.892324 \nz\n\" style=\"fill:#6a5c5c;fill-opacity:0.2;\"/>\n    <path clip-path=\"url(#pa0d20e3216)\" d=\"M 149.845988 60.674624 \nL 158.733402 66.061275 \nL 166.680061 72.414731 \nL 165.824677 68.941348 \nL 164.007897 65.568828 \nL 156.504795 60.204668 \nL 148.083963 55.888454 \nL 149.310191 58.250477 \nz\n\" style=\"fill:#8b7979;fill-opacity:0.2;\"/>\n    <path clip-path=\"url(#pa0d20e3216)\" d=\"M 129.075927 50.755824 \nL 138.887287 52.714265 \nL 148.083963 55.888454 \nL 146.196554 53.627137 \nL 143.687149 51.502516 \nL 135.558135 49.356339 \nL 126.852453 48.479827 \nL 128.130109 49.584539 \nz\n\" style=\"fill:#a18c8c;fill-opacity:0.2;\"/>\n    <path clip-path=\"url(#pa0d20e3216)\" d=\"M 108.331955 50.663615 \nL 111.126734 46.698771 \nL 113.822458 44.136592 \nL 111.099676 43.900727 \nL 108.331955 43.821701 \nL 108.331955 46.537672 \nL 108.331955 50.663615 \nL 108.331955 50.663615 \nz\n\" style=\"fill:#ac9595;fill-opacity:0.2;\"/>\n    <path clip-path=\"url(#pa0d20e3216)\" d=\"M 108.331955 50.663615 \nL 108.331955 46.537672 \nL 108.331955 43.821701 \nL 105.564235 43.900727 \nL 102.841453 44.136592 \nL 105.537177 46.698771 \nL 108.331955 50.663615 \nL 108.331955 50.663615 \nz\n\" style=\"fill:#ad9696;fill-opacity:0.2;\"/>\n    <path clip-path=\"url(#pa0d20e3216)\" d=\"M 178.412976 124.398168 \nL 179.965141 134.193704 \nL 180.236369 143.702689 \nL 184.436823 138.707507 \nL 187.245371 133.518065 \nL 186.952458 124.198741 \nL 185.275516 114.76949 \nL 182.521703 119.676635 \nz\n\" style=\"fill:#695b5b;fill-opacity:0.2;\"/>\n    <path clip-path=\"url(#pa0d20e3216)\" d=\"M 108.331955 50.663615 \nL 113.735795 47.171646 \nL 118.95711 45.061944 \nL 116.455971 44.525667 \nL 113.822458 44.136592 \nL 111.126734 46.698771 \nL 108.331955 50.663615 \nL 108.331955 50.663615 \nz\n\" style=\"fill:#ad9696;fill-opacity:0.2;\"/>\n    <path clip-path=\"url(#pa0d20e3216)\" d=\"M 108.331955 50.663615 \nL 105.537177 46.698771 \nL 102.841453 44.136592 \nL 100.20794 44.525667 \nL 97.706801 45.061944 \nL 102.928116 47.171646 \nL 108.331955 50.663615 \nL 108.331955 50.663615 \nz\n\" style=\"fill:#af9898;fill-opacity:0.2;\"/>\n    <path clip-path=\"url(#pa0d20e3216)\" d=\"M 165.392913 79.430936 \nL 172.203121 87.56156 \nL 177.846475 96.275489 \nL 179.151071 91.892324 \nL 179.224459 87.49942 \nL 173.548266 79.607826 \nL 166.680061 72.414731 \nL 166.541533 75.931423 \nz\n\" style=\"fill:#7b6b6b;fill-opacity:0.2;\"/>\n    <path clip-path=\"url(#pa0d20e3216)\" d=\"M 108.331955 50.663615 \nL 115.984831 47.925595 \nL 123.399588 46.540571 \nL 121.284596 45.737097 \nL 118.95711 45.061944 \nL 113.735795 47.171646 \nL 108.331955 50.663615 \nL 108.331955 50.663615 \nz\n\" style=\"fill:#b09898;fill-opacity:0.2;\"/>\n    <path clip-path=\"url(#pa0d20e3216)\" d=\"M 108.331955 50.663615 \nL 102.928116 47.171646 \nL 97.706801 45.061944 \nL 95.379315 45.737097 \nL 93.264323 46.540571 \nL 100.67908 47.925595 \nL 108.331955 50.663615 \nL 108.331955 50.663615 \nz\n\" style=\"fill:#b39b9b;fill-opacity:0.2;\"/>\n    <path clip-path=\"url(#pa0d20e3216)\" d=\"M 129.905245 53.219704 \nL 140.177268 56.364441 \nL 149.845988 60.674624 \nL 149.310191 58.250477 \nL 148.083963 55.888454 \nL 138.887287 52.714265 \nL 129.075927 50.755824 \nL 129.671798 51.974342 \nz\n\" style=\"fill:#a38d8d;fill-opacity:0.2;\"/>\n    <path clip-path=\"url(#pa0d20e3216)\" d=\"M 108.331955 50.663615 \nL 117.721898 48.911333 \nL 126.852453 48.479827 \nL 125.266273 47.459694 \nL 123.399588 46.540571 \nL 115.984831 47.925595 \nL 108.331955 50.663615 \nL 108.331955 50.663615 \nz\n\" style=\"fill:#b39b9b;fill-opacity:0.2;\"/>\n    <path clip-path=\"url(#pa0d20e3216)\" d=\"M 108.331955 50.663615 \nL 100.67908 47.925595 \nL 93.264323 46.540571 \nL 91.397638 47.459694 \nL 89.811458 48.479827 \nL 98.942013 48.911333 \nL 108.331955 50.663615 \nL 108.331955 50.663615 \nz\n\" style=\"fill:#b79f9f;fill-opacity:0.2;\"/>\n    <path clip-path=\"url(#pa0d20e3216)\" d=\"M 108.331955 50.663615 \nL 118.827403 50.063798 \nL 129.075927 50.755824 \nL 128.130109 49.584539 \nL 126.852453 48.479827 \nL 117.721898 48.911333 \nL 108.331955 50.663615 \nL 108.331955 50.663615 \nz\n\" style=\"fill:#b89f9f;fill-opacity:0.2;\"/>\n    <path clip-path=\"url(#pa0d20e3216)\" d=\"M 148.785029 65.545202 \nL 157.5382 72.043519 \nL 165.392913 79.430936 \nL 166.541533 75.931423 \nL 166.680061 72.414731 \nL 158.733402 66.061275 \nL 149.845988 60.674624 \nL 149.673068 63.120237 \nz\n\" style=\"fill:#907d7d;fill-opacity:0.2;\"/>\n    <path clip-path=\"url(#pa0d20e3216)\" d=\"M 108.331955 50.663615 \nL 119.222558 51.306024 \nL 129.905245 53.219704 \nL 129.671798 51.974342 \nL 129.075927 50.755824 \nL 118.827403 50.063798 \nL 108.331955 50.663615 \nL 108.331955 50.663615 \nz\n\" style=\"fill:#bda4a4;fill-opacity:0.2;\"/>\n    <path clip-path=\"url(#pa0d20e3216)\" d=\"M 171.549614 104.696306 \nL 175.593838 114.501722 \nL 178.412976 124.398168 \nL 182.521703 119.676635 \nL 185.275516 114.76949 \nL 182.226778 105.403106 \nL 177.846475 96.275489 \nL 175.306223 100.570285 \nz\n\" style=\"fill:#756666;fill-opacity:0.2;\"/>\n    <path clip-path=\"url(#pa0d20e3216)\" d=\"M 129.265239 55.706068 \nL 139.299809 60.063896 \nL 148.785029 65.545202 \nL 149.673068 63.120237 \nL 149.845988 60.674624 \nL 140.177268 56.364441 \nL 129.905245 53.219704 \nL 129.769792 54.470784 \nz\n\" style=\"fill:#a79191;fill-opacity:0.2;\"/>\n    <path clip-path=\"url(#pa0d20e3216)\" d=\"M 108.331955 50.663615 \nL 118.875647 52.55396 \nL 129.265239 55.706068 \nL 129.769792 54.470784 \nL 129.905245 53.219704 \nL 119.222558 51.306024 \nL 108.331955 50.663615 \nL 108.331955 50.663615 \nz\n\" style=\"fill:#c3a9a9;fill-opacity:0.2;\"/>\n    <path clip-path=\"url(#pa0d20e3216)\" d=\"M 108.331955 50.663615 \nL 117.80546 53.722025 \nL 127.180369 58.043503 \nL 128.397842 56.904027 \nL 129.265239 55.706068 \nL 118.875647 52.55396 \nL 108.331955 50.663615 \nL 108.331955 50.663615 \nz\n\" style=\"fill:#c9aeae;fill-opacity:0.2;\"/>\n    <path clip-path=\"url(#pa0d20e3216)\" d=\"M 160.09133 86.127942 \nL 166.349995 95.17523 \nL 171.549614 104.696306 \nL 175.306223 100.570285 \nL 177.846475 96.275489 \nL 172.203121 87.56156 \nL 165.392913 79.430936 \nL 163.235898 82.85084 \nz\n\" style=\"fill:#857373;fill-opacity:0.2;\"/>\n    <path clip-path=\"url(#pa0d20e3216)\" d=\"M 127.180369 58.043503 \nL 136.272731 63.556481 \nL 144.901684 70.161816 \nL 147.188101 67.90666 \nL 148.785029 65.545202 \nL 139.299809 60.063896 \nL 129.265239 55.706068 \nL 128.397842 56.904027 \nz\n\" style=\"fill:#ad9696;fill-opacity:0.2;\"/>\n    <path clip-path=\"url(#pa0d20e3216)\" d=\"M 144.901684 70.161816 \nL 152.894473 77.73476 \nL 160.09133 86.127942 \nL 163.235898 82.85084 \nL 165.392913 79.430936 \nL 157.5382 72.043519 \nL 148.785029 65.545202 \nL 147.188101 67.90666 \nz\n\" style=\"fill:#988383;fill-opacity:0.2;\"/>\n   </g>\n   <g id=\"text_1\">\n    <!-- $x$ -->\n    <g transform=\"translate(50.632098 173.237812)scale(0.2 -0.2)\">\n     <defs>\n      <path d=\"M 60.015625 54.6875 \nL 34.90625 27.875 \nL 50.296875 0 \nL 39.984375 0 \nL 28.421875 21.6875 \nL 8.296875 0 \nL -2.59375 0 \nL 24.3125 28.8125 \nL 10.015625 54.6875 \nL 20.3125 54.6875 \nL 30.8125 34.90625 \nL 49.125 54.6875 \nz\n\" id=\"DejaVuSans-Oblique-120\"/>\n     </defs>\n     <use transform=\"translate(0 0.3125)\" xlink:href=\"#DejaVuSans-Oblique-120\"/>\n    </g>\n   </g>\n   <g id=\"text_2\">\n    <!-- $y$ -->\n    <g transform=\"translate(189.204026 153.501604)scale(0.2 -0.2)\">\n     <defs>\n      <path d=\"M 24.8125 -5.078125 \nQ 18.5625 -15.578125 14.625 -18.1875 \nQ 10.6875 -20.796875 4.59375 -20.796875 \nL -2.484375 -20.796875 \nL -0.984375 -13.28125 \nL 4.203125 -13.28125 \nQ 7.953125 -13.28125 10.59375 -11.234375 \nQ 13.234375 -9.1875 16.5 -3.21875 \nL 19.28125 2 \nL 7.171875 54.6875 \nL 16.703125 54.6875 \nL 25.78125 12.796875 \nL 50.875 54.6875 \nL 60.296875 54.6875 \nz\n\" id=\"DejaVuSans-Oblique-121\"/>\n     </defs>\n     <use transform=\"translate(0 0.3125)\" xlink:href=\"#DejaVuSans-Oblique-121\"/>\n    </g>\n   </g>\n   <g id=\"text_3\">\n    <!-- $\\left|0\\right&gt;$ -->\n    <g transform=\"translate(94.631955 40.82177)scale(0.2 -0.2)\">\n     <defs>\n      <path d=\"M 21 76.421875 \nL 21 -23.578125 \nL 12.703125 -23.578125 \nL 12.703125 76.421875 \nz\n\" id=\"DejaVuSans-124\"/>\n      <path d=\"M 31.78125 66.40625 \nQ 24.171875 66.40625 20.328125 58.90625 \nQ 16.5 51.421875 16.5 36.375 \nQ 16.5 21.390625 20.328125 13.890625 \nQ 24.171875 6.390625 31.78125 6.390625 \nQ 39.453125 6.390625 43.28125 13.890625 \nQ 47.125 21.390625 47.125 36.375 \nQ 47.125 51.421875 43.28125 58.90625 \nQ 39.453125 66.40625 31.78125 66.40625 \nz\nM 31.78125 74.21875 \nQ 44.046875 74.21875 50.515625 64.515625 \nQ 56.984375 54.828125 56.984375 36.375 \nQ 56.984375 17.96875 50.515625 8.265625 \nQ 44.046875 -1.421875 31.78125 -1.421875 \nQ 19.53125 -1.421875 13.0625 8.265625 \nQ 6.59375 17.96875 6.59375 36.375 \nQ 6.59375 54.828125 13.0625 64.515625 \nQ 19.53125 74.21875 31.78125 74.21875 \nz\n\" id=\"DejaVuSans-48\"/>\n      <path d=\"M 30.078125 31.34375 \nL 16.3125 -13.1875 \nL 8.015625 -13.1875 \nL 21.78125 31.34375 \nL 8.015625 75.875 \nL 16.3125 75.875 \nz\n\" id=\"DejaVuSans-10217\"/>\n     </defs>\n     <use transform=\"translate(0 0.578125)\" xlink:href=\"#DejaVuSans-124\"/>\n     <use transform=\"translate(33.691406 0.578125)\" xlink:href=\"#DejaVuSans-48\"/>\n     <use transform=\"translate(97.314453 0.578125)\" xlink:href=\"#DejaVuSans-10217\"/>\n    </g>\n   </g>\n   <g id=\"text_4\">\n    <!-- $\\left|1\\right&gt;$ -->\n    <g transform=\"translate(94.631955 208.097425)scale(0.2 -0.2)\">\n     <defs>\n      <path d=\"M 12.40625 8.296875 \nL 28.515625 8.296875 \nL 28.515625 63.921875 \nL 10.984375 60.40625 \nL 10.984375 69.390625 \nL 28.421875 72.90625 \nL 38.28125 72.90625 \nL 38.28125 8.296875 \nL 54.390625 8.296875 \nL 54.390625 0 \nL 12.40625 0 \nz\n\" id=\"DejaVuSans-49\"/>\n     </defs>\n     <use transform=\"translate(0 0.578125)\" xlink:href=\"#DejaVuSans-124\"/>\n     <use transform=\"translate(33.691406 0.578125)\" xlink:href=\"#DejaVuSans-49\"/>\n     <use transform=\"translate(97.314453 0.578125)\" xlink:href=\"#DejaVuSans-10217\"/>\n    </g>\n   </g>\n   <g id=\"text_5\">\n    <!-- qubit 0 -->\n    <g transform=\"translate(70.397151 22.396875)scale(0.2 -0.2)\">\n     <defs>\n      <path d=\"M 14.796875 27.296875 \nQ 14.796875 17.390625 18.875 11.75 \nQ 22.953125 6.109375 30.078125 6.109375 \nQ 37.203125 6.109375 41.296875 11.75 \nQ 45.40625 17.390625 45.40625 27.296875 \nQ 45.40625 37.203125 41.296875 42.84375 \nQ 37.203125 48.484375 30.078125 48.484375 \nQ 22.953125 48.484375 18.875 42.84375 \nQ 14.796875 37.203125 14.796875 27.296875 \nz\nM 45.40625 8.203125 \nQ 42.578125 3.328125 38.25 0.953125 \nQ 33.9375 -1.421875 27.875 -1.421875 \nQ 17.96875 -1.421875 11.734375 6.484375 \nQ 5.515625 14.40625 5.515625 27.296875 \nQ 5.515625 40.1875 11.734375 48.09375 \nQ 17.96875 56 27.875 56 \nQ 33.9375 56 38.25 53.625 \nQ 42.578125 51.265625 45.40625 46.390625 \nL 45.40625 54.6875 \nL 54.390625 54.6875 \nL 54.390625 -20.796875 \nL 45.40625 -20.796875 \nz\n\" id=\"DejaVuSans-113\"/>\n      <path d=\"M 8.5 21.578125 \nL 8.5 54.6875 \nL 17.484375 54.6875 \nL 17.484375 21.921875 \nQ 17.484375 14.15625 20.5 10.265625 \nQ 23.53125 6.390625 29.59375 6.390625 \nQ 36.859375 6.390625 41.078125 11.03125 \nQ 45.3125 15.671875 45.3125 23.6875 \nL 45.3125 54.6875 \nL 54.296875 54.6875 \nL 54.296875 0 \nL 45.3125 0 \nL 45.3125 8.40625 \nQ 42.046875 3.421875 37.71875 1 \nQ 33.40625 -1.421875 27.6875 -1.421875 \nQ 18.265625 -1.421875 13.375 4.4375 \nQ 8.5 10.296875 8.5 21.578125 \nz\nM 31.109375 56 \nz\n\" id=\"DejaVuSans-117\"/>\n      <path d=\"M 48.6875 27.296875 \nQ 48.6875 37.203125 44.609375 42.84375 \nQ 40.53125 48.484375 33.40625 48.484375 \nQ 26.265625 48.484375 22.1875 42.84375 \nQ 18.109375 37.203125 18.109375 27.296875 \nQ 18.109375 17.390625 22.1875 11.75 \nQ 26.265625 6.109375 33.40625 6.109375 \nQ 40.53125 6.109375 44.609375 11.75 \nQ 48.6875 17.390625 48.6875 27.296875 \nz\nM 18.109375 46.390625 \nQ 20.953125 51.265625 25.265625 53.625 \nQ 29.59375 56 35.59375 56 \nQ 45.5625 56 51.78125 48.09375 \nQ 58.015625 40.1875 58.015625 27.296875 \nQ 58.015625 14.40625 51.78125 6.484375 \nQ 45.5625 -1.421875 35.59375 -1.421875 \nQ 29.59375 -1.421875 25.265625 0.953125 \nQ 20.953125 3.328125 18.109375 8.203125 \nL 18.109375 0 \nL 9.078125 0 \nL 9.078125 75.984375 \nL 18.109375 75.984375 \nz\n\" id=\"DejaVuSans-98\"/>\n      <path d=\"M 9.421875 54.6875 \nL 18.40625 54.6875 \nL 18.40625 0 \nL 9.421875 0 \nz\nM 9.421875 75.984375 \nL 18.40625 75.984375 \nL 18.40625 64.59375 \nL 9.421875 64.59375 \nz\n\" id=\"DejaVuSans-105\"/>\n      <path d=\"M 18.3125 70.21875 \nL 18.3125 54.6875 \nL 36.8125 54.6875 \nL 36.8125 47.703125 \nL 18.3125 47.703125 \nL 18.3125 18.015625 \nQ 18.3125 11.328125 20.140625 9.421875 \nQ 21.96875 7.515625 27.59375 7.515625 \nL 36.8125 7.515625 \nL 36.8125 0 \nL 27.59375 0 \nQ 17.1875 0 13.234375 3.875 \nQ 9.28125 7.765625 9.28125 18.015625 \nL 9.28125 47.703125 \nL 2.6875 47.703125 \nL 2.6875 54.6875 \nL 9.28125 54.6875 \nL 9.28125 70.21875 \nz\n\" id=\"DejaVuSans-116\"/>\n      <path id=\"DejaVuSans-32\"/>\n     </defs>\n     <use xlink:href=\"#DejaVuSans-113\"/>\n     <use x=\"63.476562\" xlink:href=\"#DejaVuSans-117\"/>\n     <use x=\"126.855469\" xlink:href=\"#DejaVuSans-98\"/>\n     <use x=\"190.332031\" xlink:href=\"#DejaVuSans-105\"/>\n     <use x=\"218.115234\" xlink:href=\"#DejaVuSans-116\"/>\n     <use x=\"257.324219\" xlink:href=\"#DejaVuSans-32\"/>\n     <use x=\"289.111328\" xlink:href=\"#DejaVuSans-48\"/>\n    </g>\n   </g>\n   <g id=\"Line3DCollection_1\">\n    <path clip-path=\"url(#pa0d20e3216)\" d=\"M 108.331955 50.663615 \nL 117.80546 53.722025 \nL 127.180369 58.043503 \nL 136.272731 63.556481 \nL 144.901684 70.161816 \nL 152.894473 77.73476 \nL 160.09133 86.127942 \nL 166.349995 95.17523 \nL 171.549614 104.696306 \nL 175.593838 114.501722 \nL 178.412976 124.398168 \nL 179.965141 134.193704 \nL 180.236369 143.702689 \nL 179.2398 152.750199 \nL 177.014031 161.175786 \nL 173.620793 168.836459 \nL 169.142156 175.608851 \nL 163.677419 181.390599 \nL 157.33989 186.10098 \nL 150.253688 189.680899 \nL 142.550694 192.092364 \nL 134.367754 193.317539 \nL 125.844179 193.357525 \nL 117.119566 192.230968 \nL 108.331955 189.97259 \n\" style=\"fill:none;stroke:#808080;stroke-opacity:0.2;stroke-width:1.5;\"/>\n    <path clip-path=\"url(#pa0d20e3216)\" d=\"M 108.331955 50.663615 \nL 119.116916 50.67884 \nL 129.671798 51.974342 \nL 139.798423 54.517506 \nL 149.310191 58.250477 \nL 158.036199 63.092249 \nL 165.824677 68.941348 \nL 172.545651 75.67893 \nL 178.092824 83.17216 \nL 182.384654 91.277696 \nL 185.364717 99.845133 \nL 187.001409 108.720309 \nL 187.28711 117.748351 \nL 186.236927 126.776415 \nL 183.887111 135.656083 \nL 180.293283 144.245405 \nL 175.528545 152.410586 \nL 169.681562 160.027373 \nL 162.854673 166.982148 \nL 155.162079 173.172802 \nL 146.728119 178.50942 \nL 137.685649 182.914833 \nL 128.174518 186.325075 \nL 118.340114 188.689786 \nL 108.331955 189.97259 \n\" style=\"fill:none;stroke:#808080;stroke-opacity:0.2;stroke-width:1.5;\"/>\n    <path clip-path=\"url(#pa0d20e3216)\" d=\"M 108.331955 50.663615 \nL 115.984831 47.925595 \nL 123.399588 46.540571 \nL 130.444909 46.505709 \nL 137.002147 47.791916 \nL 142.966985 50.346543 \nL 148.25046 54.096437 \nL 152.779397 58.951145 \nL 156.496363 64.806089 \nL 159.359236 71.54559 \nL 161.340493 79.045623 \nL 162.426336 87.176265 \nL 162.615715 95.803793 \nL 161.919352 104.792445 \nL 160.3588 114.005869 \nL 157.965588 123.308293 \nL 154.78048 132.565477 \nL 150.852849 141.645502 \nL 146.240174 150.419459 \nL 141.007644 158.762102 \nL 135.227846 166.552527 \nL 128.980501 173.674931 \nL 122.35222 180.019509 \nL 115.43622 185.483523 \nL 108.331955 189.97259 \n\" style=\"fill:none;stroke:#808080;stroke-opacity:0.2;stroke-width:1.5;\"/>\n    <path clip-path=\"url(#pa0d20e3216)\" d=\"M 108.331955 50.663615 \nL 109.741087 46.578111 \nL 111.099676 43.900727 \nL 112.384513 42.640641 \nL 113.575067 42.779424 \nL 114.653676 44.274265 \nL 115.605606 47.061454 \nL 116.419008 51.059874 \nL 117.084807 56.174319 \nL 117.596531 62.298524 \nL 117.950119 69.3178 \nL 118.143714 77.111263 \nL 118.177465 85.553637 \nL 118.053341 94.51666 \nL 117.774976 103.870141 \nL 117.347541 113.482729 \nL 116.777649 123.222452 \nL 116.073289 132.957106 \nL 115.243794 142.554566 \nL 114.299832 151.883099 \nL 113.253419 160.81175 \nL 112.117937 169.210881 \nL 110.908167 176.952932 \nL 109.640305 183.91347 \nL 108.331955 189.97259 \n\" style=\"fill:none;stroke:#808080;stroke-opacity:0.2;stroke-width:1.5;\"/>\n    <path clip-path=\"url(#pa0d20e3216)\" d=\"M 108.331955 50.663615 \nL 102.928116 47.171646 \nL 97.706801 45.061944 \nL 92.758698 44.338629 \nL 88.164782 44.978868 \nL 83.995401 46.935848 \nL 80.309828 50.14205 \nL 77.156217 54.512597 \nL 74.571869 59.948494 \nL 72.583732 66.339636 \nL 71.209044 73.567485 \nL 70.456055 81.507384 \nL 70.324758 90.030474 \nL 70.807592 99.005256 \nL 71.890065 108.29881 \nL 73.551301 117.777738 \nL 75.764463 127.308889 \nL 78.497087 136.75993 \nL 81.711302 145.999835 \nL 85.36397 154.899358 \nL 89.406753 163.331574 \nL 93.786143 171.172535 \nL 98.443479 178.302118 \nL 103.314998 184.605111 \nL 108.331955 189.97259 \n\" style=\"fill:none;stroke:#808080;stroke-opacity:0.2;stroke-width:1.5;\"/>\n    <path clip-path=\"url(#pa0d20e3216)\" d=\"M 108.331955 50.663615 \nL 98.942013 48.911333 \nL 89.811458 48.479827 \nL 81.105776 49.356339 \nL 72.976762 51.502516 \nL 65.5599 54.856816 \nL 58.972489 59.337356 \nL 53.312489 64.844999 \nL 48.658009 71.266518 \nL 45.067357 78.477701 \nL 42.579534 86.346275 \nL 41.215055 94.734585 \nL 40.977006 103.501973 \nL 41.852224 112.50685 \nL 43.812523 121.608446 \nL 46.815907 130.6683 \nL 50.807717 139.55149 \nL 55.721684 148.127677 \nL 61.480877 156.27201 \nL 67.998548 163.865941 \nL 75.178888 170.798004 \nL 82.917717 176.964613 \nL 91.103152 182.270914 \nL 99.616291 186.631724 \nL 108.331955 189.97259 \n\" style=\"fill:none;stroke:#808080;stroke-opacity:0.2;stroke-width:1.5;\"/>\n    <path clip-path=\"url(#pa0d20e3216)\" d=\"M 108.331955 50.663615 \nL 108.331955 50.663615 \nL 108.331955 50.663615 \nL 108.331955 50.663615 \nL 108.331955 50.663615 \nL 108.331955 50.663615 \nL 108.331955 50.663615 \nL 108.331955 50.663615 \nL 108.331955 50.663615 \nL 108.331955 50.663615 \nL 108.331955 50.663615 \nL 108.331955 50.663615 \nL 108.331955 50.663615 \nL 108.331955 50.663615 \nL 108.331955 50.663615 \nL 108.331955 50.663615 \nL 108.331955 50.663615 \nL 108.331955 50.663615 \nL 108.331955 50.663615 \nL 108.331955 50.663615 \nL 108.331955 50.663615 \nL 108.331955 50.663615 \nL 108.331955 50.663615 \nL 108.331955 50.663615 \nL 108.331955 50.663615 \n\" style=\"fill:none;stroke:#808080;stroke-opacity:0.2;stroke-width:1.5;\"/>\n    <path clip-path=\"url(#pa0d20e3216)\" d=\"M 152.894473 77.73476 \nL 155.639113 74.952111 \nL 157.5382 72.043519 \nL 158.571084 69.062252 \nL 158.733402 66.061275 \nL 158.036199 63.092249 \nL 156.504795 60.204668 \nL 154.177462 57.44514 \nL 151.104011 54.856816 \nL 147.344337 52.478943 \nL 142.966985 50.346543 \nL 138.047776 48.490187 \nL 132.66851 46.935848 \nL 126.915776 45.704822 \nL 120.879848 44.813682 \nL 114.653676 44.274265 \nL 108.331955 44.09367 \nL 102.010235 44.274265 \nL 95.784063 44.813682 \nL 89.748135 45.704822 \nL 83.995401 46.935848 \nL 78.616135 48.490187 \nL 73.696926 50.346543 \nL 69.319574 52.478943 \nL 65.5599 54.856816 \n\" style=\"fill:none;stroke:#808080;stroke-opacity:0.2;stroke-width:1.5;\"/>\n    <path clip-path=\"url(#pa0d20e3216)\" d=\"M 178.412976 124.398168 \nL 182.521703 119.676635 \nL 185.275516 114.76949 \nL 186.657131 109.76927 \nL 186.675791 104.765922 \nL 185.364717 99.845133 \nL 182.778257 95.087028 \nL 178.988904 90.565234 \nL 174.084377 86.346275 \nL 168.164857 82.489229 \nL 161.340493 79.045623 \nL 153.729215 76.059481 \nL 145.454867 73.567485 \nL 136.645662 71.599196 \nL 127.432933 70.177295 \nL 117.950119 69.3178 \nL 108.331955 69.030246 \nL 98.713792 69.3178 \nL 89.230978 70.177295 \nL 80.018249 71.599196 \nL 71.209044 73.567485 \nL 62.934696 76.059481 \nL 55.323418 79.045623 \nL 48.499054 82.489229 \nL 42.579534 86.346275 \n\" style=\"fill:none;stroke:#808080;stroke-opacity:0.2;stroke-width:1.5;\"/>\n    <path clip-path=\"url(#pa0d20e3216)\" d=\"M 173.620793 168.836459 \nL 177.484804 164.118029 \nL 180.090759 159.208863 \nL 181.419883 154.201074 \nL 181.477983 149.184576 \nL 180.293283 144.245405 \nL 177.91395 139.464377 \nL 174.405464 134.916102 \nL 169.848004 130.6683 \nL 164.33395 126.781389 \nL 157.965588 123.308293 \nL 150.853064 120.294417 \nL 143.11261 117.777738 \nL 134.865049 115.788964 \nL 126.234539 114.35172 \nL 117.347541 113.482729 \nL 108.331955 113.191962 \nL 99.31637 113.482729 \nL 90.429372 114.35172 \nL 81.798862 115.788964 \nL 73.551301 117.777738 \nL 65.810847 120.294417 \nL 58.698323 123.308293 \nL 52.329961 126.781389 \nL 46.815907 130.6683 \n\" style=\"fill:none;stroke:#808080;stroke-opacity:0.2;stroke-width:1.5;\"/>\n    <path clip-path=\"url(#pa0d20e3216)\" d=\"M 142.550694 192.092364 \nL 144.699506 189.523568 \nL 146.204392 186.832264 \nL 147.046529 184.067068 \nL 147.219354 181.27677 \nL 146.728119 178.50942 \nL 145.58924 175.811511 \nL 143.82948 173.22726 \nL 141.485023 170.798004 \nL 138.600477 168.5617 \nL 135.227846 166.552527 \nL 131.425499 164.800566 \nL 127.257158 163.331574 \nL 122.790921 162.166803 \nL 118.098319 161.322885 \nL 113.253419 160.81175 \nL 108.331955 160.640573 \nL 103.410492 160.81175 \nL 98.565592 161.322885 \nL 93.87299 162.166803 \nL 89.406753 163.331574 \nL 85.238412 164.800566 \nL 81.436065 166.552527 \nL 78.063434 168.5617 \nL 75.178888 170.798004 \n\" style=\"fill:none;stroke:#808080;stroke-opacity:0.2;stroke-width:1.5;\"/>\n    <path clip-path=\"url(#pa0d20e3216)\" d=\"M 108.331955 189.97259 \nL 108.331955 189.97259 \nL 108.331955 189.97259 \nL 108.331955 189.97259 \nL 108.331955 189.97259 \nL 108.331955 189.97259 \nL 108.331955 189.97259 \nL 108.331955 189.97259 \nL 108.331955 189.97259 \nL 108.331955 189.97259 \nL 108.331955 189.97259 \nL 108.331955 189.97259 \nL 108.331955 189.97259 \nL 108.331955 189.97259 \nL 108.331955 189.97259 \nL 108.331955 189.97259 \nL 108.331955 189.97259 \nL 108.331955 189.97259 \nL 108.331955 189.97259 \nL 108.331955 189.97259 \nL 108.331955 189.97259 \nL 108.331955 189.97259 \nL 108.331955 189.97259 \nL 108.331955 189.97259 \nL 108.331955 189.97259 \n\" style=\"fill:none;stroke:#808080;stroke-opacity:0.2;stroke-width:1.5;\"/>\n   </g>\n   <g id=\"Line3DCollection_2\">\n    <path clip-path=\"url(#pa0d20e3216)\" d=\"M 108.331955 50.663615 \nL 98.942013 48.911333 \nL 89.811458 48.479827 \nL 81.105776 49.356339 \nL 72.976762 51.502516 \nL 65.5599 54.856816 \nL 58.972489 59.337356 \nL 53.312489 64.844999 \nL 48.658009 71.266518 \nL 45.067357 78.477701 \nL 42.579534 86.346275 \nL 41.215055 94.734585 \nL 40.977006 103.501973 \nL 41.852224 112.50685 \nL 43.812523 121.608446 \nL 46.815907 130.6683 \nL 50.807717 139.55149 \nL 55.721684 148.127677 \nL 61.480877 156.27201 \nL 67.998548 163.865941 \nL 75.178888 170.798004 \nL 82.917717 176.964613 \nL 91.103152 182.270914 \nL 99.616291 186.631724 \nL 108.331955 189.97259 \n\" style=\"fill:none;stroke:#808080;stroke-opacity:0.2;stroke-width:1.5;\"/>\n    <path clip-path=\"url(#pa0d20e3216)\" d=\"M 108.331955 50.663615 \nL 97.522023 51.93466 \nL 86.894119 54.470784 \nL 76.651959 58.223908 \nL 66.990843 63.120237 \nL 58.092826 69.062252 \nL 50.122378 75.931423 \nL 43.222698 83.591517 \nL 37.51284 91.892324 \nL 33.085679 100.673633 \nL 30.006779 109.76927 \nL 28.314105 119.011036 \nL 28.018507 128.232406 \nL 29.104886 137.271866 \nL 31.533891 145.975831 \nL 35.244028 154.201074 \nL 40.154034 161.816683 \nL 46.165403 168.705544 \nL 53.164947 174.765398 \nL 61.027312 179.909517 \nL 69.617382 184.067068 \nL 78.792529 187.183223 \nL 88.404696 189.219082 \nL 98.302296 190.151459 \nL 108.331955 189.97259 \n\" style=\"fill:none;stroke:#808080;stroke-opacity:0.2;stroke-width:1.5;\"/>\n    <path clip-path=\"url(#pa0d20e3216)\" d=\"M 108.331955 50.663615 \nL 100.582589 54.729074 \nL 92.885649 60.066693 \nL 85.393719 66.591112 \nL 78.258939 74.187679 \nL 71.628609 82.714452 \nL 65.640713 92.005413 \nL 60.41962 101.874796 \nL 56.072214 112.122326 \nL 52.684672 122.539117 \nL 50.320096 132.913885 \nL 49.017081 143.039136 \nL 48.789309 152.716996 \nL 49.626091 161.76438 \nL 51.493802 170.017292 \nL 54.338017 177.334087 \nL 58.086199 183.597666 \nL 62.650705 188.716614 \nL 67.931952 192.625371 \nL 73.821543 195.28359 \nL 80.205227 196.674839 \nL 86.965589 196.804836 \nL 93.984403 195.699388 \nL 101.144614 193.402185 \nL 108.331955 189.97259 \n\" style=\"fill:none;stroke:#808080;stroke-opacity:0.2;stroke-width:1.5;\"/>\n    <path clip-path=\"url(#pa0d20e3216)\" d=\"M 108.331955 50.663615 \nL 106.89785 56.117731 \nL 105.466212 62.868725 \nL 104.06573 70.811817 \nL 102.725566 79.809723 \nL 101.474479 89.694698 \nL 100.339885 100.272157 \nL 99.3469 111.325802 \nL 98.517445 122.624034 \nL 97.869461 133.927321 \nL 97.416286 144.996053 \nL 97.166256 155.598406 \nL 97.122527 165.517702 \nL 97.283144 174.55882 \nL 97.641318 182.553324 \nL 98.185903 189.363088 \nL 98.901998 194.88235 \nL 99.771645 199.038261 \nL 100.774564 201.790091 \nL 101.888875 203.127356 \nL 103.091774 203.067123 \nL 104.360136 201.650812 \nL 105.671024 198.94075 \nL 107.002104 195.016704 \nL 108.331955 189.97259 \n\" style=\"fill:none;stroke:#808080;stroke-opacity:0.2;stroke-width:1.5;\"/>\n    <path clip-path=\"url(#pa0d20e3216)\" d=\"M 108.331955 50.663615 \nL 113.81936 55.504336 \nL 119.285076 61.629269 \nL 124.620048 68.942254 \nL 129.714357 77.31617 \nL 134.460479 86.594961 \nL 138.756699 96.597071 \nL 142.510496 107.120191 \nL 145.641661 117.94712 \nL 148.084981 128.852434 \nL 149.792284 139.609565 \nL 150.733742 149.997867 \nL 150.898359 159.809259 \nL 150.293662 168.854054 \nL 148.944643 176.965705 \nL 146.892097 184.004281 \nL 144.190489 189.858607 \nL 140.905534 194.447112 \nL 137.111652 197.717518 \nL 132.889452 199.645559 \nL 128.323362 200.232958 \nL 123.49951 199.504904 \nL 118.503891 197.507248 \nL 113.420861 194.303614 \nL 108.331955 189.97259 \n\" style=\"fill:none;stroke:#808080;stroke-opacity:0.2;stroke-width:1.5;\"/>\n    <path clip-path=\"url(#pa0d20e3216)\" d=\"M 108.331955 50.663615 \nL 117.80546 53.722025 \nL 127.180369 58.043503 \nL 136.272731 63.556481 \nL 144.901684 70.161816 \nL 152.894473 77.73476 \nL 160.09133 86.127942 \nL 166.349995 95.17523 \nL 171.549614 104.696306 \nL 175.593838 114.501722 \nL 178.412976 124.398168 \nL 179.965141 134.193704 \nL 180.236369 143.702689 \nL 179.2398 152.750199 \nL 177.014031 161.175786 \nL 173.620793 168.836459 \nL 169.142156 175.608851 \nL 163.677419 181.390599 \nL 157.33989 186.10098 \nL 150.253688 189.680899 \nL 142.550694 192.092364 \nL 134.367754 193.317539 \nL 125.844179 193.357525 \nL 117.119566 192.230968 \nL 108.331955 189.97259 \n\" style=\"fill:none;stroke:#808080;stroke-opacity:0.2;stroke-width:1.5;\"/>\n    <path clip-path=\"url(#pa0d20e3216)\" d=\"M 108.331955 50.663615 \nL 108.331955 50.663615 \nL 108.331955 50.663615 \nL 108.331955 50.663615 \nL 108.331955 50.663615 \nL 108.331955 50.663615 \nL 108.331955 50.663615 \nL 108.331955 50.663615 \nL 108.331955 50.663615 \nL 108.331955 50.663615 \nL 108.331955 50.663615 \nL 108.331955 50.663615 \nL 108.331955 50.663615 \nL 108.331955 50.663615 \nL 108.331955 50.663615 \nL 108.331955 50.663615 \nL 108.331955 50.663615 \nL 108.331955 50.663615 \nL 108.331955 50.663615 \nL 108.331955 50.663615 \nL 108.331955 50.663615 \nL 108.331955 50.663615 \nL 108.331955 50.663615 \nL 108.331955 50.663615 \nL 108.331955 50.663615 \n\" style=\"fill:none;stroke:#808080;stroke-opacity:0.2;stroke-width:1.5;\"/>\n    <path clip-path=\"url(#pa0d20e3216)\" d=\"M 65.5599 54.856816 \nL 62.486449 57.44514 \nL 60.159116 60.204668 \nL 58.627712 63.092249 \nL 57.930509 66.061275 \nL 58.092826 69.062252 \nL 59.125711 72.043519 \nL 61.024798 74.952111 \nL 63.769438 77.73476 \nL 67.322168 80.339014 \nL 71.628609 82.714452 \nL 76.61786 84.813953 \nL 82.203432 86.594961 \nL 88.284744 88.020707 \nL 94.749151 89.061307 \nL 101.474479 89.694698 \nL 108.331955 89.90735 \nL 115.189432 89.694698 \nL 121.91476 89.061307 \nL 128.379167 88.020707 \nL 134.460479 86.594961 \nL 140.046051 84.813953 \nL 145.035302 82.714452 \nL 149.341743 80.339014 \nL 152.894473 77.73476 \n\" style=\"fill:none;stroke:#808080;stroke-opacity:0.2;stroke-width:1.5;\"/>\n    <path clip-path=\"url(#pa0d20e3216)\" d=\"M 42.579534 86.346275 \nL 37.675007 90.565234 \nL 33.885654 95.087028 \nL 31.299194 99.845133 \nL 29.98812 104.765922 \nL 30.006779 109.76927 \nL 31.388395 114.76949 \nL 34.142208 119.676635 \nL 38.250935 124.398168 \nL 43.668761 128.841006 \nL 50.320096 132.913885 \nL 58.099311 136.529964 \nL 66.871627 139.609565 \nL 76.475267 142.082903 \nL 86.7249 143.892631 \nL 97.416286 144.996053 \nL 108.331955 145.366828 \nL 119.247625 144.996053 \nL 129.939011 143.892631 \nL 140.188644 142.082903 \nL 149.792284 139.609565 \nL 158.5646 136.529964 \nL 166.343815 132.913885 \nL 172.99515 128.841006 \nL 178.412976 124.398168 \n\" style=\"fill:none;stroke:#808080;stroke-opacity:0.2;stroke-width:1.5;\"/>\n    <path clip-path=\"url(#pa0d20e3216)\" d=\"M 46.815907 130.6683 \nL 42.258447 134.916102 \nL 38.749961 139.464377 \nL 36.370628 144.245405 \nL 35.185928 149.184576 \nL 35.244028 154.201074 \nL 36.573152 159.208863 \nL 39.179107 164.118029 \nL 43.043118 168.836459 \nL 48.120162 173.271863 \nL 54.338017 177.334087 \nL 61.597182 180.937631 \nL 69.771814 184.004281 \nL 78.711789 186.465702 \nL 88.245866 188.265857 \nL 98.185903 189.363088 \nL 108.331955 189.731722 \nL 118.478008 189.363088 \nL 128.418045 188.265857 \nL 137.952122 186.465702 \nL 146.892097 184.004281 \nL 155.066729 180.937631 \nL 162.325894 177.334087 \nL 168.543749 173.271863 \nL 173.620793 168.836459 \n\" style=\"fill:none;stroke:#808080;stroke-opacity:0.2;stroke-width:1.5;\"/>\n    <path clip-path=\"url(#pa0d20e3216)\" d=\"M 75.178888 170.798004 \nL 72.834431 173.22726 \nL 71.074671 175.811511 \nL 69.935792 178.50942 \nL 69.444557 181.27677 \nL 69.617382 184.067068 \nL 70.459519 186.832264 \nL 71.964405 189.523568 \nL 74.113217 192.092364 \nL 76.874689 194.491201 \nL 80.205227 196.674839 \nL 84.04936 198.601308 \nL 88.340549 200.232958 \nL 93.002348 201.537437 \nL 97.949906 202.488577 \nL 103.091774 203.067123 \nL 108.331955 203.261293 \nL 113.572137 203.067123 \nL 118.714005 202.488577 \nL 123.661563 201.537437 \nL 128.323362 200.232958 \nL 132.614551 198.601308 \nL 136.458684 196.674839 \nL 139.789222 194.491201 \nL 142.550694 192.092364 \n\" style=\"fill:none;stroke:#808080;stroke-opacity:0.2;stroke-width:1.5;\"/>\n    <path clip-path=\"url(#pa0d20e3216)\" d=\"M 108.331955 189.97259 \nL 108.331955 189.97259 \nL 108.331955 189.97259 \nL 108.331955 189.97259 \nL 108.331955 189.97259 \nL 108.331955 189.97259 \nL 108.331955 189.97259 \nL 108.331955 189.97259 \nL 108.331955 189.97259 \nL 108.331955 189.97259 \nL 108.331955 189.97259 \nL 108.331955 189.97259 \nL 108.331955 189.97259 \nL 108.331955 189.97259 \nL 108.331955 189.97259 \nL 108.331955 189.97259 \nL 108.331955 189.97259 \nL 108.331955 189.97259 \nL 108.331955 189.97259 \nL 108.331955 189.97259 \nL 108.331955 189.97259 \nL 108.331955 189.97259 \nL 108.331955 189.97259 \nL 108.331955 189.97259 \nL 108.331955 189.97259 \n\" style=\"fill:none;stroke:#808080;stroke-opacity:0.2;stroke-width:1.5;\"/>\n   </g>\n   <g id=\"Poly3DCollection_2\">\n    <path clip-path=\"url(#pa0d20e3216)\" d=\"M 61.480877 156.27201 \nL 67.998548 163.865941 \nL 75.178888 170.798004 \nL 72.834431 173.22726 \nL 71.074671 175.811511 \nL 62.931019 169.911366 \nL 55.515752 163.223356 \nL 58.09163 159.634793 \nz\n\" style=\"fill:#b49c9c;fill-opacity:0.2;\"/>\n    <path clip-path=\"url(#pa0d20e3216)\" d=\"M 75.178888 170.798004 \nL 82.917717 176.964613 \nL 91.103152 182.270914 \nL 89.917233 183.552941 \nL 89.040422 184.911827 \nL 79.821901 180.836766 \nL 71.074671 175.811511 \nL 72.834431 173.22726 \nz\n\" style=\"fill:#9f8a8a;fill-opacity:0.2;\"/>\n    <path clip-path=\"url(#pa0d20e3216)\" d=\"M 50.807717 139.55149 \nL 55.721684 148.127677 \nL 61.480877 156.27201 \nL 58.09163 159.634793 \nL 55.515752 163.223356 \nL 48.944974 155.845583 \nL 43.324796 147.886546 \nL 46.573347 143.578564 \nz\n\" style=\"fill:#c7acac;fill-opacity:0.2;\"/>\n    <path clip-path=\"url(#pa0d20e3216)\" d=\"M 91.103152 182.270914 \nL 99.616291 186.631724 \nL 108.331955 189.97259 \nL 108.331955 189.97259 \nL 108.331955 189.97259 \nL 98.591661 187.973749 \nL 89.040422 184.911827 \nL 89.917233 183.552941 \nz\n\" style=\"fill:#837171;fill-opacity:0.2;\"/>\n    <path clip-path=\"url(#pa0d20e3216)\" d=\"M 89.040422 184.911827 \nL 98.591661 187.973749 \nL 108.331955 189.97259 \nL 108.331955 189.97259 \nL 108.331955 189.97259 \nL 98.226605 189.419838 \nL 88.275549 187.768997 \nL 88.489393 186.325075 \nz\n\" style=\"fill:#897676;fill-opacity:0.2;\"/>\n    <path clip-path=\"url(#pa0d20e3216)\" d=\"M 71.074671 175.811511 \nL 79.821901 180.836766 \nL 89.040422 184.911827 \nL 88.489393 186.325075 \nL 88.275549 187.768997 \nL 78.631598 185.042297 \nL 69.444557 181.27677 \nL 69.935792 178.50942 \nz\n\" style=\"fill:#a58f8f;fill-opacity:0.2;\"/>\n    <path clip-path=\"url(#pa0d20e3216)\" d=\"M 43.812523 121.608446 \nL 46.815907 130.6683 \nL 50.807717 139.55149 \nL 46.573347 143.578564 \nL 43.324796 147.886546 \nL 38.749961 139.464377 \nL 35.30238 130.705947 \nL 39.009454 126.000244 \nz\n\" style=\"fill:#d6baba;fill-opacity:0.2;\"/>\n    <path clip-path=\"url(#pa0d20e3216)\" d=\"M 88.275549 187.768997 \nL 98.226605 189.419838 \nL 108.331955 189.97259 \nL 108.331955 189.97259 \nL 108.331955 189.97259 \nL 98.550124 190.872095 \nL 88.876797 190.6504 \nL 88.404696 189.219082 \nz\n\" style=\"fill:#8e7b7b;fill-opacity:0.2;\"/>\n    <path clip-path=\"url(#pa0d20e3216)\" d=\"M 55.515752 163.223356 \nL 62.931019 169.911366 \nL 71.074671 175.811511 \nL 69.935792 178.50942 \nL 69.444557 181.27677 \nL 60.859636 176.52418 \nL 53.015747 170.850914 \nL 53.809238 166.982148 \nz\n\" style=\"fill:#bca3a3;fill-opacity:0.2;\"/>\n    <path clip-path=\"url(#pa0d20e3216)\" d=\"M 88.876797 190.6504 \nL 98.550124 190.872095 \nL 108.331955 189.97259 \nL 108.331955 189.97259 \nL 108.331955 189.97259 \nL 99.544345 192.230968 \nL 90.819732 193.357525 \nL 89.685827 192.038032 \nz\n\" style=\"fill:#948080;fill-opacity:0.2;\"/>\n    <path clip-path=\"url(#pa0d20e3216)\" d=\"M 90.819732 193.357525 \nL 99.544345 192.230968 \nL 108.331955 189.97259 \nL 108.331955 189.97259 \nL 108.331955 189.97259 \nL 101.144614 193.402185 \nL 93.984403 195.699388 \nL 92.260506 194.585353 \nz\n\" style=\"fill:#988484;fill-opacity:0.2;\"/>\n    <path clip-path=\"url(#pa0d20e3216)\" d=\"M 122.679508 195.699388 \nL 115.519297 193.402185 \nL 108.331955 189.97259 \nL 108.331955 189.97259 \nL 108.331955 189.97259 \nL 117.119566 192.230968 \nL 125.844179 193.357525 \nL 124.403405 194.585353 \nz\n\" style=\"fill:#948181;fill-opacity:0.2;\"/>\n    <path clip-path=\"url(#pa0d20e3216)\" d=\"M 69.444557 181.27677 \nL 78.631598 185.042297 \nL 88.275549 187.768997 \nL 88.404696 189.219082 \nL 88.876797 190.6504 \nL 79.463081 189.300759 \nL 70.459519 186.832264 \nL 69.617382 184.067068 \nz\n\" style=\"fill:#a99292;fill-opacity:0.2;\"/>\n    <path clip-path=\"url(#pa0d20e3216)\" d=\"M 93.984403 195.699388 \nL 101.144614 193.402185 \nL 108.331955 189.97259 \nL 108.331955 189.97259 \nL 108.331955 189.97259 \nL 103.24305 194.303614 \nL 98.16002 197.507248 \nL 95.962269 196.679351 \nz\n\" style=\"fill:#9c8787;fill-opacity:0.2;\"/>\n    <path clip-path=\"url(#pa0d20e3216)\" d=\"M 118.503891 197.507248 \nL 113.420861 194.303614 \nL 108.331955 189.97259 \nL 108.331955 189.97259 \nL 108.331955 189.97259 \nL 115.519297 193.402185 \nL 122.679508 195.699388 \nL 120.701642 196.679351 \nz\n\" style=\"fill:#998585;fill-opacity:0.2;\"/>\n    <path clip-path=\"url(#pa0d20e3216)\" d=\"M 43.324796 147.886546 \nL 48.944974 155.845583 \nL 55.515752 163.223356 \nL 53.809238 166.982148 \nL 53.015747 170.850914 \nL 46.043693 164.337759 \nL 40.064216 157.079542 \nL 41.135365 152.410586 \nz\n\" style=\"fill:#d0b4b4;fill-opacity:0.2;\"/>\n    <path clip-path=\"url(#pa0d20e3216)\" d=\"M 98.16002 197.507248 \nL 103.24305 194.303614 \nL 108.331955 189.97259 \nL 108.331955 189.97259 \nL 108.331955 189.97259 \nL 105.695563 194.871492 \nL 103.057854 198.648593 \nL 100.539232 198.167761 \nz\n\" style=\"fill:#9e8989;fill-opacity:0.2;\"/>\n    <path clip-path=\"url(#pa0d20e3216)\" d=\"M 113.606056 198.648593 \nL 110.968347 194.871492 \nL 108.331955 189.97259 \nL 108.331955 189.97259 \nL 108.331955 189.97259 \nL 113.420861 194.303614 \nL 118.503891 197.507248 \nL 116.124679 198.167761 \nz\n\" style=\"fill:#9c8888;fill-opacity:0.2;\"/>\n    <path clip-path=\"url(#pa0d20e3216)\" d=\"M 40.977006 103.501973 \nL 41.852224 112.50685 \nL 43.812523 121.608446 \nL 39.009454 126.000244 \nL 35.30238 130.705947 \nL 33.049587 121.745807 \nL 32.043122 112.724907 \nL 35.940067 107.952822 \nz\n\" style=\"fill:#e2c4c4;fill-opacity:0.2;\"/>\n    <path clip-path=\"url(#pa0d20e3216)\" d=\"M 103.057854 198.648593 \nL 105.695563 194.871492 \nL 108.331955 189.97259 \nL 108.331955 189.97259 \nL 108.331955 189.97259 \nL 108.331955 195.0654 \nL 108.331955 199.038749 \nL 105.671024 198.94075 \nz\n\" style=\"fill:#9f8a8a;fill-opacity:0.2;\"/>\n    <path clip-path=\"url(#pa0d20e3216)\" d=\"M 108.331955 199.038749 \nL 108.331955 195.0654 \nL 108.331955 189.97259 \nL 108.331955 189.97259 \nL 108.331955 189.97259 \nL 110.968347 194.871492 \nL 113.606056 198.648593 \nL 110.992887 198.94075 \nz\n\" style=\"fill:#9e8989;fill-opacity:0.2;\"/>\n    <path clip-path=\"url(#pa0d20e3216)\" d=\"M 70.459519 186.832264 \nL 79.463081 189.300759 \nL 88.876797 190.6504 \nL 89.685827 192.038032 \nL 90.819732 193.357525 \nL 82.296157 193.317539 \nL 74.113217 192.092364 \nL 71.964405 189.523568 \nz\n\" style=\"fill:#aa9494;fill-opacity:0.2;\"/>\n    <path clip-path=\"url(#pa0d20e3216)\" d=\"M 53.015747 170.850914 \nL 60.859636 176.52418 \nL 69.444557 181.27677 \nL 69.617382 184.067068 \nL 70.459519 186.832264 \nL 62.014249 183.270524 \nL 54.270952 178.658243 \nL 53.164947 174.765398 \nz\n\" style=\"fill:#c0a7a7;fill-opacity:0.2;\"/>\n    <path clip-path=\"url(#pa0d20e3216)\" d=\"M 35.30238 130.705947 \nL 38.749961 139.464377 \nL 43.324796 147.886546 \nL 41.135365 152.410586 \nL 40.064216 157.079542 \nL 35.185928 149.184576 \nL 31.503134 140.773863 \nL 32.7768 135.656083 \nz\n\" style=\"fill:#e1c3c3;fill-opacity:0.2;\"/>\n    <path clip-path=\"url(#pa0d20e3216)\" d=\"M 74.113217 192.092364 \nL 82.296157 193.317539 \nL 90.819732 193.357525 \nL 92.260506 194.585353 \nL 93.984403 195.699388 \nL 86.965589 196.804836 \nL 80.205227 196.674839 \nL 76.874689 194.491201 \nz\n\" style=\"fill:#aa9393;fill-opacity:0.2;\"/>\n    <path clip-path=\"url(#pa0d20e3216)\" d=\"M 136.458684 196.674839 \nL 129.698322 196.804836 \nL 122.679508 195.699388 \nL 124.403405 194.585353 \nL 125.844179 193.357525 \nL 134.367754 193.317539 \nL 142.550694 192.092364 \nL 139.789222 194.491201 \nz\n\" style=\"fill:#7d6c6c;fill-opacity:0.2;\"/>\n    <path clip-path=\"url(#pa0d20e3216)\" d=\"M 42.579534 86.346275 \nL 41.215055 94.734585 \nL 40.977006 103.501973 \nL 35.940067 107.952822 \nL 32.043122 112.724907 \nL 32.316908 103.789045 \nL 33.885654 95.087028 \nL 37.675007 90.565234 \nz\n\" style=\"fill:#eacbcb;fill-opacity:0.2;\"/>\n    <path clip-path=\"url(#pa0d20e3216)\" d=\"M 40.064216 157.079542 \nL 46.043693 164.337759 \nL 53.015747 170.850914 \nL 53.164947 174.765398 \nL 54.270952 178.658243 \nL 47.366553 173.055646 \nL 41.428716 166.540672 \nL 40.154034 161.816683 \nz\n\" style=\"fill:#d5b9b9;fill-opacity:0.2;\"/>\n    <path clip-path=\"url(#pa0d20e3216)\" d=\"M 128.323362 200.232958 \nL 123.49951 199.504904 \nL 118.503891 197.507248 \nL 120.701642 196.679351 \nL 122.679508 195.699388 \nL 129.698322 196.804836 \nL 136.458684 196.674839 \nL 132.614551 198.601308 \nz\n\" style=\"fill:#857373;fill-opacity:0.2;\"/>\n    <path clip-path=\"url(#pa0d20e3216)\" d=\"M 80.205227 196.674839 \nL 86.965589 196.804836 \nL 93.984403 195.699388 \nL 95.962269 196.679351 \nL 98.16002 197.507248 \nL 93.164401 199.504904 \nL 88.340549 200.232958 \nL 84.04936 198.601308 \nz\n\" style=\"fill:#a89191;fill-opacity:0.2;\"/>\n    <path clip-path=\"url(#pa0d20e3216)\" d=\"M 54.270952 178.658243 \nL 62.014249 183.270524 \nL 70.459519 186.832264 \nL 71.964405 189.523568 \nL 74.113217 192.092364 \nL 66.410223 189.680899 \nL 59.324021 186.10098 \nL 56.330934 182.46011 \nz\n\" style=\"fill:#c1a8a8;fill-opacity:0.2;\"/>\n    <path clip-path=\"url(#pa0d20e3216)\" d=\"M 32.043122 112.724907 \nL 33.049587 121.745807 \nL 35.30238 130.705947 \nL 32.7768 135.656083 \nL 31.503134 140.773863 \nL 29.093602 131.979986 \nL 28.016335 122.945672 \nL 29.376801 117.748351 \nz\n\" style=\"fill:#eecece;fill-opacity:0.2;\"/>\n    <path clip-path=\"url(#pa0d20e3216)\" d=\"M 88.340549 200.232958 \nL 93.164401 199.504904 \nL 98.16002 197.507248 \nL 100.539232 198.167761 \nL 103.057854 198.648593 \nL 100.461247 201.213106 \nL 97.949906 202.488577 \nL 93.002348 201.537437 \nz\n\" style=\"fill:#a38d8d;fill-opacity:0.2;\"/>\n    <path clip-path=\"url(#pa0d20e3216)\" d=\"M 118.714005 202.488577 \nL 116.202664 201.213106 \nL 113.606056 198.648593 \nL 116.124679 198.167761 \nL 118.503891 197.507248 \nL 123.49951 199.504904 \nL 128.323362 200.232958 \nL 123.661563 201.537437 \nz\n\" style=\"fill:#8d7a7a;fill-opacity:0.2;\"/>\n    <path clip-path=\"url(#pa0d20e3216)\" d=\"M 97.949906 202.488577 \nL 100.461247 201.213106 \nL 103.057854 198.648593 \nL 105.671024 198.94075 \nL 108.331955 199.038749 \nL 108.331955 201.797675 \nL 108.331955 203.261293 \nL 103.091774 203.067123 \nz\n\" style=\"fill:#9d8888;fill-opacity:0.2;\"/>\n    <path clip-path=\"url(#pa0d20e3216)\" d=\"M 108.331955 203.261293 \nL 108.331955 201.797675 \nL 108.331955 199.038749 \nL 110.992887 198.94075 \nL 113.606056 198.648593 \nL 116.202664 201.213106 \nL 118.714005 202.488577 \nL 113.572137 203.067123 \nz\n\" style=\"fill:#968282;fill-opacity:0.2;\"/>\n    <path clip-path=\"url(#pa0d20e3216)\" d=\"M 48.658009 71.266518 \nL 45.067357 78.477701 \nL 42.579534 86.346275 \nL 37.675007 90.565234 \nL 33.885654 95.087028 \nL 36.743381 86.768507 \nL 40.862153 78.981493 \nL 44.250119 74.99305 \nz\n\" style=\"fill:#edcdcd;fill-opacity:0.2;\"/>\n    <path clip-path=\"url(#pa0d20e3216)\" d=\"M 31.503134 140.773863 \nL 35.185928 149.184576 \nL 40.064216 157.079542 \nL 40.154034 161.816683 \nL 41.428716 166.540672 \nL 36.573152 159.208863 \nL 32.900796 151.172862 \nL 31.533891 145.975831 \nz\n\" style=\"fill:#e7c8c8;fill-opacity:0.2;\"/>\n    <path clip-path=\"url(#pa0d20e3216)\" d=\"M 59.324021 186.10098 \nL 66.410223 189.680899 \nL 74.113217 192.092364 \nL 76.874689 194.491201 \nL 80.205227 196.674839 \nL 73.821543 195.28359 \nL 67.931952 192.625371 \nL 63.210573 189.511652 \nz\n\" style=\"fill:#bfa6a6;fill-opacity:0.2;\"/>\n    <path clip-path=\"url(#pa0d20e3216)\" d=\"M 148.731959 192.625371 \nL 142.842368 195.28359 \nL 136.458684 196.674839 \nL 139.789222 194.491201 \nL 142.550694 192.092364 \nL 150.253688 189.680899 \nL 157.33989 186.10098 \nL 153.453338 189.511652 \nz\n\" style=\"fill:#736363;fill-opacity:0.2;\"/>\n    <path clip-path=\"url(#pa0d20e3216)\" d=\"M 33.885654 95.087028 \nL 32.316908 103.789045 \nL 32.043122 112.724907 \nL 29.376801 117.748351 \nL 28.016335 122.945672 \nL 28.309429 113.821951 \nL 29.98812 104.765922 \nL 31.299194 99.845133 \nz\n\" style=\"fill:#f6d5d5;fill-opacity:0.2;\"/>\n    <path clip-path=\"url(#pa0d20e3216)\" d=\"M 41.428716 166.540672 \nL 47.366553 173.055646 \nL 54.270952 178.658243 \nL 56.330934 182.46011 \nL 59.324021 186.10098 \nL 52.986492 181.390599 \nL 47.521755 175.608851 \nL 43.891227 171.166855 \nz\n\" style=\"fill:#d6baba;fill-opacity:0.2;\"/>\n    <path clip-path=\"url(#pa0d20e3216)\" d=\"M 67.931952 192.625371 \nL 73.821543 195.28359 \nL 80.205227 196.674839 \nL 84.04936 198.601308 \nL 88.340549 200.232958 \nL 83.774459 199.645559 \nL 79.552259 197.717518 \nL 73.41085 195.379553 \nz\n\" style=\"fill:#b9a1a1;fill-opacity:0.2;\"/>\n    <path clip-path=\"url(#pa0d20e3216)\" d=\"M 137.111652 197.717518 \nL 132.889452 199.645559 \nL 128.323362 200.232958 \nL 132.614551 198.601308 \nL 136.458684 196.674839 \nL 142.842368 195.28359 \nL 148.731959 192.625371 \nL 143.253061 195.379553 \nz\n\" style=\"fill:#7f6e6e;fill-opacity:0.2;\"/>\n    <path clip-path=\"url(#pa0d20e3216)\" d=\"M 58.972489 59.337356 \nL 53.312489 64.844999 \nL 48.658009 71.266518 \nL 44.250119 74.99305 \nL 40.862153 78.981493 \nL 46.191125 71.869566 \nL 52.656014 65.568828 \nL 55.387072 62.350999 \nz\n\" style=\"fill:#ebcbcb;fill-opacity:0.2;\"/>\n    <path clip-path=\"url(#pa0d20e3216)\" d=\"M 28.016335 122.945672 \nL 29.093602 131.979986 \nL 31.503134 140.773863 \nL 31.533891 145.975831 \nL 32.900796 151.172862 \nL 30.494959 142.561452 \nL 29.41854 133.518065 \nL 28.018507 128.232406 \nz\n\" style=\"fill:#f4d4d4;fill-opacity:0.2;\"/>\n    <path clip-path=\"url(#pa0d20e3216)\" d=\"M 79.552259 197.717518 \nL 83.774459 199.645559 \nL 88.340549 200.232958 \nL 93.002348 201.537437 \nL 97.949906 202.488577 \nL 95.569116 202.416077 \nL 93.364472 200.957552 \nL 86.245095 199.590176 \nz\n\" style=\"fill:#b19999;fill-opacity:0.2;\"/>\n    <path clip-path=\"url(#pa0d20e3216)\" d=\"M 123.299439 200.957552 \nL 121.094795 202.416077 \nL 118.714005 202.488577 \nL 123.661563 201.537437 \nL 128.323362 200.232958 \nL 132.889452 199.645559 \nL 137.111652 197.717518 \nL 130.418816 199.590176 \nz\n\" style=\"fill:#8c7979;fill-opacity:0.2;\"/>\n    <path clip-path=\"url(#pa0d20e3216)\" d=\"M 40.862153 78.981493 \nL 36.743381 86.768507 \nL 33.885654 95.087028 \nL 31.299194 99.845133 \nL 29.98812 104.765922 \nL 33.043133 95.938106 \nL 37.439452 87.49942 \nL 38.571087 83.17216 \nz\n\" style=\"fill:#f8d7d7;fill-opacity:0.2;\"/>\n    <path clip-path=\"url(#pa0d20e3216)\" d=\"M 158.577712 183.597666 \nL 154.013206 188.716614 \nL 148.731959 192.625371 \nL 153.453338 189.511652 \nL 157.33989 186.10098 \nL 163.677419 181.390599 \nL 169.142156 175.608851 \nL 164.387562 179.780435 \nz\n\" style=\"fill:#6e5f5f;fill-opacity:0.2;\"/>\n    <path clip-path=\"url(#pa0d20e3216)\" d=\"M 47.521755 175.608851 \nL 52.986492 181.390599 \nL 59.324021 186.10098 \nL 63.210573 189.511652 \nL 67.931952 192.625371 \nL 62.650705 188.716614 \nL 58.086199 183.597666 \nL 52.276349 179.780435 \nz\n\" style=\"fill:#d3b7b7;fill-opacity:0.2;\"/>\n    <path clip-path=\"url(#pa0d20e3216)\" d=\"M 32.900796 151.172862 \nL 36.573152 159.208863 \nL 41.428716 166.540672 \nL 43.891227 171.166855 \nL 47.521755 175.608851 \nL 43.043118 168.836459 \nL 39.64988 161.175786 \nL 35.612046 156.271517 \nz\n\" style=\"fill:#e8c9c9;fill-opacity:0.2;\"/>\n    <path clip-path=\"url(#pa0d20e3216)\" d=\"M 93.364472 200.957552 \nL 95.569116 202.416077 \nL 97.949906 202.488577 \nL 103.091774 203.067123 \nL 108.331955 203.261293 \nL 108.331955 203.366135 \nL 108.331955 202.069644 \nL 100.774564 201.790091 \nz\n\" style=\"fill:#a69090;fill-opacity:0.2;\"/>\n    <path clip-path=\"url(#pa0d20e3216)\" d=\"M 108.331955 202.069644 \nL 108.331955 203.366135 \nL 108.331955 203.261293 \nL 113.572137 203.067123 \nL 118.714005 202.488577 \nL 121.094795 202.416077 \nL 123.299439 200.957552 \nL 115.889347 201.790091 \nz\n\" style=\"fill:#998585;fill-opacity:0.2;\"/>\n    <path clip-path=\"url(#pa0d20e3216)\" d=\"M 29.98812 104.765922 \nL 28.309429 113.821951 \nL 28.016335 122.945672 \nL 28.018507 128.232406 \nL 29.41854 133.518065 \nL 29.711453 124.198741 \nL 31.388395 114.76949 \nL 30.006779 109.76927 \nz\n\" style=\"fill:#fcdada;fill-opacity:0.2;\"/>\n    <path clip-path=\"url(#pa0d20e3216)\" d=\"M 72.976762 51.502516 \nL 65.5599 54.856816 \nL 58.972489 59.337356 \nL 55.387072 62.350999 \nL 52.656014 65.568828 \nL 60.159116 60.204668 \nL 68.579948 55.888454 \nL 70.467357 53.627137 \nz\n\" style=\"fill:#e3c5c5;fill-opacity:0.2;\"/>\n    <path clip-path=\"url(#pa0d20e3216)\" d=\"M 52.656014 65.568828 \nL 46.191125 71.869566 \nL 40.862153 78.981493 \nL 38.571087 83.17216 \nL 37.439452 87.49942 \nL 43.115645 79.607826 \nL 49.98385 72.414731 \nL 50.839234 68.941348 \nz\n\" style=\"fill:#f4d4d4;fill-opacity:0.2;\"/>\n    <path clip-path=\"url(#pa0d20e3216)\" d=\"M 58.086199 183.597666 \nL 62.650705 188.716614 \nL 67.931952 192.625371 \nL 73.41085 195.379553 \nL 79.552259 197.717518 \nL 75.758377 194.447112 \nL 72.473422 189.858607 \nL 64.857698 186.981189 \nz\n\" style=\"fill:#cbb0b0;fill-opacity:0.2;\"/>\n    <path clip-path=\"url(#pa0d20e3216)\" d=\"M 144.190489 189.858607 \nL 140.905534 194.447112 \nL 137.111652 197.717518 \nL 143.253061 195.379553 \nL 148.731959 192.625371 \nL 154.013206 188.716614 \nL 158.577712 183.597666 \nL 151.806213 186.981189 \nz\n\" style=\"fill:#7d6d6d;fill-opacity:0.2;\"/>\n    <path clip-path=\"url(#pa0d20e3216)\" d=\"M 29.41854 133.518065 \nL 30.494959 142.561452 \nL 32.900796 151.172862 \nL 35.612046 156.271517 \nL 39.64988 161.175786 \nL 37.424111 152.750199 \nL 36.427542 143.702689 \nL 32.227088 138.707507 \nz\n\" style=\"fill:#f5d4d4;fill-opacity:0.2;\"/>\n    <path clip-path=\"url(#pa0d20e3216)\" d=\"M 39.64988 161.175786 \nL 43.043118 168.836459 \nL 47.521755 175.608851 \nL 52.276349 179.780435 \nL 58.086199 183.597666 \nL 54.338017 177.334087 \nL 51.493802 170.017292 \nL 44.968678 165.789205 \nz\n\" style=\"fill:#e3c5c5;fill-opacity:0.2;\"/>\n    <path clip-path=\"url(#pa0d20e3216)\" d=\"M 165.170109 170.017292 \nL 162.325894 177.334087 \nL 158.577712 183.597666 \nL 164.387562 179.780435 \nL 169.142156 175.608851 \nL 173.620793 168.836459 \nL 177.014031 161.175786 \nL 171.695233 165.789205 \nz\n\" style=\"fill:#6d5f5f;fill-opacity:0.2;\"/>\n    <path clip-path=\"url(#pa0d20e3216)\" d=\"M 37.439452 87.49942 \nL 33.043133 95.938106 \nL 29.98812 104.765922 \nL 30.006779 109.76927 \nL 31.388395 114.76949 \nL 34.437133 105.403106 \nL 38.817436 96.275489 \nL 37.51284 91.892324 \nz\n\" style=\"fill:#fedcdc;fill-opacity:0.2;\"/>\n    <path clip-path=\"url(#pa0d20e3216)\" d=\"M 72.473422 189.858607 \nL 75.758377 194.447112 \nL 79.552259 197.717518 \nL 86.245095 199.590176 \nL 93.364472 200.957552 \nL 91.380882 198.09913 \nL 89.661392 193.854179 \nL 80.794071 192.166819 \nz\n\" style=\"fill:#bfa6a6;fill-opacity:0.2;\"/>\n    <path clip-path=\"url(#pa0d20e3216)\" d=\"M 127.002519 193.854179 \nL 125.283029 198.09913 \nL 123.299439 200.957552 \nL 130.418816 199.590176 \nL 137.111652 197.717518 \nL 140.905534 194.447112 \nL 144.190489 189.858607 \nL 135.86984 192.166819 \nz\n\" style=\"fill:#8e7b7b;fill-opacity:0.2;\"/>\n    <path clip-path=\"url(#pa0d20e3216)\" d=\"M 68.579948 55.888454 \nL 60.159116 60.204668 \nL 52.656014 65.568828 \nL 50.839234 68.941348 \nL 49.98385 72.414731 \nL 57.930509 66.061275 \nL 66.817923 60.674624 \nL 67.35372 58.250477 \nz\n\" style=\"fill:#ebcbcb;fill-opacity:0.2;\"/>\n    <path clip-path=\"url(#pa0d20e3216)\" d=\"M 89.811458 48.479827 \nL 81.105776 49.356339 \nL 72.976762 51.502516 \nL 70.467357 53.627137 \nL 68.579948 55.888454 \nL 77.776624 52.714265 \nL 87.587984 50.755824 \nL 88.533802 49.584539 \nz\n\" style=\"fill:#d6b9b9;fill-opacity:0.2;\"/>\n    <path clip-path=\"url(#pa0d20e3216)\" d=\"M 89.661392 193.854179 \nL 91.380882 198.09913 \nL 93.364472 200.957552 \nL 100.774564 201.790091 \nL 108.331955 202.069644 \nL 108.331955 199.353673 \nL 108.331955 195.22773 \nL 98.901998 194.88235 \nz\n\" style=\"fill:#b09999;fill-opacity:0.2;\"/>\n    <path clip-path=\"url(#pa0d20e3216)\" d=\"M 108.331955 195.22773 \nL 108.331955 199.353673 \nL 108.331955 202.069644 \nL 115.889347 201.790091 \nL 123.299439 200.957552 \nL 125.283029 198.09913 \nL 127.002519 193.854179 \nL 117.761913 194.88235 \nz\n\" style=\"fill:#a08b8b;fill-opacity:0.2;\"/>\n    <path clip-path=\"url(#pa0d20e3216)\" d=\"M 31.388395 114.76949 \nL 29.711453 124.198741 \nL 29.41854 133.518065 \nL 32.227088 138.707507 \nL 36.427542 143.702689 \nL 36.69877 134.193704 \nL 38.250935 124.398168 \nL 34.142208 119.676635 \nz\n\" style=\"fill:#fddbdb;fill-opacity:0.2;\"/>\n    <path clip-path=\"url(#pa0d20e3216)\" d=\"M 49.98385 72.414731 \nL 43.115645 79.607826 \nL 37.439452 87.49942 \nL 37.51284 91.892324 \nL 38.817436 96.275489 \nL 44.46079 87.56156 \nL 51.270998 79.430936 \nL 50.122378 75.931423 \nz\n\" style=\"fill:#fad8d8;fill-opacity:0.2;\"/>\n    <path clip-path=\"url(#pa0d20e3216)\" d=\"M 87.587984 50.755824 \nL 77.776624 52.714265 \nL 68.579948 55.888454 \nL 67.35372 58.250477 \nL 66.817923 60.674624 \nL 76.486643 56.364441 \nL 86.758666 53.219704 \nL 86.992113 51.974342 \nz\n\" style=\"fill:#dcbebe;fill-opacity:0.2;\"/>\n    <path clip-path=\"url(#pa0d20e3216)\" d=\"M 148.944643 176.965705 \nL 146.892097 184.004281 \nL 144.190489 189.858607 \nL 151.806213 186.981189 \nL 158.577712 183.597666 \nL 162.325894 177.334087 \nL 165.170109 170.017292 \nL 157.54252 173.770236 \nz\n\" style=\"fill:#7f6e6e;fill-opacity:0.2;\"/>\n    <path clip-path=\"url(#pa0d20e3216)\" d=\"M 51.493802 170.017292 \nL 54.338017 177.334087 \nL 58.086199 183.597666 \nL 64.857698 186.981189 \nL 72.473422 189.858607 \nL 69.771814 184.004281 \nL 67.719268 176.965705 \nL 59.121391 173.770236 \nz\n\" style=\"fill:#dabdbd;fill-opacity:0.2;\"/>\n    <path clip-path=\"url(#pa0d20e3216)\" d=\"M 108.331955 50.663615 \nL 98.942013 48.911333 \nL 89.811458 48.479827 \nL 88.533802 49.584539 \nL 87.587984 50.755824 \nL 97.836508 50.063798 \nL 108.331955 50.663615 \nL 108.331955 50.663615 \nz\n\" style=\"fill:#bca3a3;fill-opacity:0.2;\"/>\n    <path clip-path=\"url(#pa0d20e3216)\" d=\"M 36.427542 143.702689 \nL 37.424111 152.750199 \nL 39.64988 161.175786 \nL 44.968678 165.789205 \nL 51.493802 170.017292 \nL 49.626091 161.76438 \nL 48.789309 152.716996 \nL 41.97388 148.404844 \nz\n\" style=\"fill:#f0d0d0;fill-opacity:0.2;\"/>\n    <path clip-path=\"url(#pa0d20e3216)\" d=\"M 167.874602 152.716996 \nL 167.03782 161.76438 \nL 165.170109 170.017292 \nL 171.695233 165.789205 \nL 177.014031 161.175786 \nL 179.2398 152.750199 \nL 180.236369 143.702689 \nL 174.690031 148.404844 \nz\n\" style=\"fill:#716262;fill-opacity:0.2;\"/>\n    <path clip-path=\"url(#pa0d20e3216)\" d=\"M 66.817923 60.674624 \nL 57.930509 66.061275 \nL 49.98385 72.414731 \nL 50.122378 75.931423 \nL 51.270998 79.430936 \nL 59.125711 72.043519 \nL 67.878882 65.545202 \nL 66.990843 63.120237 \nz\n\" style=\"fill:#efcfcf;fill-opacity:0.2;\"/>\n    <path clip-path=\"url(#pa0d20e3216)\" d=\"M 108.331955 50.663615 \nL 97.836508 50.063798 \nL 87.587984 50.755824 \nL 86.992113 51.974342 \nL 86.758666 53.219704 \nL 97.441353 51.306024 \nL 108.331955 50.663615 \nL 108.331955 50.663615 \nz\n\" style=\"fill:#c2a8a8;fill-opacity:0.2;\"/>\n    <path clip-path=\"url(#pa0d20e3216)\" d=\"M 38.817436 96.275489 \nL 34.437133 105.403106 \nL 31.388395 114.76949 \nL 34.142208 119.676635 \nL 38.250935 124.398168 \nL 41.070073 114.501722 \nL 45.114297 104.696306 \nL 41.357688 100.570285 \nz\n\" style=\"fill:#ffdddd;fill-opacity:0.2;\"/>\n    <path clip-path=\"url(#pa0d20e3216)\" d=\"M 86.758666 53.219704 \nL 76.486643 56.364441 \nL 66.817923 60.674624 \nL 66.990843 63.120237 \nL 67.878882 65.545202 \nL 77.364102 60.063896 \nL 87.398672 55.706068 \nL 86.894119 54.470784 \nz\n\" style=\"fill:#e0c2c2;fill-opacity:0.2;\"/>\n    <path clip-path=\"url(#pa0d20e3216)\" d=\"M 108.331955 50.663615 \nL 97.441353 51.306024 \nL 86.758666 53.219704 \nL 86.894119 54.470784 \nL 87.398672 55.706068 \nL 97.788264 52.55396 \nL 108.331955 50.663615 \nL 108.331955 50.663615 \nz\n\" style=\"fill:#c8adad;fill-opacity:0.2;\"/>\n    <path clip-path=\"url(#pa0d20e3216)\" d=\"M 108.331955 50.663615 \nL 97.788264 52.55396 \nL 87.398672 55.706068 \nL 88.266069 56.904027 \nL 89.483542 58.043503 \nL 98.858451 53.722025 \nL 108.331955 50.663615 \nL 108.331955 50.663615 \nz\n\" style=\"fill:#cdb2b2;fill-opacity:0.2;\"/>\n    <path clip-path=\"url(#pa0d20e3216)\" d=\"M 67.719268 176.965705 \nL 69.771814 184.004281 \nL 72.473422 189.858607 \nL 80.794071 192.166819 \nL 89.661392 193.854179 \nL 88.245866 188.265857 \nL 87.169584 181.408859 \nL 77.129065 179.531639 \nz\n\" style=\"fill:#ccb1b1;fill-opacity:0.2;\"/>\n    <path clip-path=\"url(#pa0d20e3216)\" d=\"M 129.494327 181.408859 \nL 128.418045 188.265857 \nL 127.002519 193.854179 \nL 135.86984 192.166819 \nL 144.190489 189.858607 \nL 146.892097 184.004281 \nL 148.944643 176.965705 \nL 139.534846 179.531639 \nz\n\" style=\"fill:#938080;fill-opacity:0.2;\"/>\n    <path clip-path=\"url(#pa0d20e3216)\" d=\"M 108.331955 50.663615 \nL 98.858451 53.722025 \nL 89.483542 58.043503 \nL 91.031882 59.104121 \nL 92.885649 60.066693 \nL 100.582589 54.729074 \nL 108.331955 50.663615 \nL 108.331955 50.663615 \nz\n\" style=\"fill:#d2b6b6;fill-opacity:0.2;\"/>\n    <path clip-path=\"url(#pa0d20e3216)\" d=\"M 108.331955 50.663615 \nL 116.081322 54.729074 \nL 123.778262 60.066693 \nL 125.632029 59.104121 \nL 127.180369 58.043503 \nL 117.80546 53.722025 \nL 108.331955 50.663615 \nL 108.331955 50.663615 \nz\n\" style=\"fill:#ceb2b2;fill-opacity:0.2;\"/>\n    <path clip-path=\"url(#pa0d20e3216)\" d=\"M 51.270998 79.430936 \nL 44.46079 87.56156 \nL 38.817436 96.275489 \nL 41.357688 100.570285 \nL 45.114297 104.696306 \nL 50.313916 95.17523 \nL 56.572581 86.127942 \nL 53.428013 82.85084 \nz\n\" style=\"fill:#fad9d9;fill-opacity:0.2;\"/>\n    <path clip-path=\"url(#pa0d20e3216)\" d=\"M 108.331955 50.663615 \nL 100.582589 54.729074 \nL 92.885649 60.066693 \nL 95.013529 60.91362 \nL 97.378835 61.629269 \nL 102.844551 55.504336 \nL 108.331955 50.663615 \nL 108.331955 50.663615 \nz\n\" style=\"fill:#d5b9b9;fill-opacity:0.2;\"/>\n    <path clip-path=\"url(#pa0d20e3216)\" d=\"M 108.331955 50.663615 \nL 113.81936 55.504336 \nL 119.285076 61.629269 \nL 121.650382 60.91362 \nL 123.778262 60.066693 \nL 116.081322 54.729074 \nL 108.331955 50.663615 \nL 108.331955 50.663615 \nz\n\" style=\"fill:#d2b6b6;fill-opacity:0.2;\"/>\n    <path clip-path=\"url(#pa0d20e3216)\" d=\"M 38.250935 124.398168 \nL 36.69877 134.193704 \nL 36.427542 143.702689 \nL 41.97388 148.404844 \nL 48.789309 152.716996 \nL 49.017081 143.039136 \nL 50.320096 132.913885 \nL 43.668761 128.841006 \nz\n\" style=\"fill:#f8d7d7;fill-opacity:0.2;\"/>\n    <path clip-path=\"url(#pa0d20e3216)\" d=\"M 166.343815 132.913885 \nL 167.64683 143.039136 \nL 167.874602 152.716996 \nL 174.690031 148.404844 \nL 180.236369 143.702689 \nL 179.965141 134.193704 \nL 178.412976 124.398168 \nL 172.99515 128.841006 \nz\n\" style=\"fill:#796969;fill-opacity:0.2;\"/>\n    <path clip-path=\"url(#pa0d20e3216)\" d=\"M 87.398672 55.706068 \nL 77.364102 60.063896 \nL 67.878882 65.545202 \nL 69.47581 67.90666 \nL 71.762227 70.161816 \nL 80.39118 63.556481 \nL 89.483542 58.043503 \nL 88.266069 56.904027 \nz\n\" style=\"fill:#e1c3c3;fill-opacity:0.2;\"/>\n    <path clip-path=\"url(#pa0d20e3216)\" d=\"M 67.878882 65.545202 \nL 59.125711 72.043519 \nL 51.270998 79.430936 \nL 53.428013 82.85084 \nL 56.572581 86.127942 \nL 63.769438 77.73476 \nL 71.762227 70.161816 \nL 69.47581 67.90666 \nz\n\" style=\"fill:#f1d0d0;fill-opacity:0.2;\"/>\n    <path clip-path=\"url(#pa0d20e3216)\" d=\"M 87.169584 181.408859 \nL 88.245866 188.265857 \nL 89.661392 193.854179 \nL 98.901998 194.88235 \nL 108.331955 195.22773 \nL 108.331955 189.731722 \nL 108.331955 182.937872 \nL 97.641318 182.553324 \nz\n\" style=\"fill:#bba2a2;fill-opacity:0.2;\"/>\n    <path clip-path=\"url(#pa0d20e3216)\" d=\"M 108.331955 182.937872 \nL 108.331955 189.731722 \nL 108.331955 195.22773 \nL 117.761913 194.88235 \nL 127.002519 193.854179 \nL 128.418045 188.265857 \nL 129.494327 181.408859 \nL 119.022593 182.553324 \nz\n\" style=\"fill:#a89191;fill-opacity:0.2;\"/>\n    <path clip-path=\"url(#pa0d20e3216)\" d=\"M 108.331955 50.663615 \nL 102.844551 55.504336 \nL 97.378835 61.629269 \nL 99.940148 62.200322 \nL 102.652091 62.616083 \nL 105.48893 55.992813 \nL 108.331955 50.663615 \nL 108.331955 50.663615 \nz\n\" style=\"fill:#d8bbbb;fill-opacity:0.2;\"/>\n    <path clip-path=\"url(#pa0d20e3216)\" d=\"M 108.331955 50.663615 \nL 111.174981 55.992813 \nL 114.01182 62.616083 \nL 116.723763 62.200322 \nL 119.285076 61.629269 \nL 113.81936 55.504336 \nL 108.331955 50.663615 \nL 108.331955 50.663615 \nz\n\" style=\"fill:#d6b9b9;fill-opacity:0.2;\"/>\n    <path clip-path=\"url(#pa0d20e3216)\" d=\"M 108.331955 50.663615 \nL 105.48893 55.992813 \nL 102.652091 62.616083 \nL 105.466212 62.868725 \nL 108.331955 62.953473 \nL 108.331955 56.159623 \nL 108.331955 50.663615 \nL 108.331955 50.663615 \nz\n\" style=\"fill:#d9bcbc;fill-opacity:0.2;\"/>\n    <path clip-path=\"url(#pa0d20e3216)\" d=\"M 108.331955 50.663615 \nL 108.331955 56.159623 \nL 108.331955 62.953473 \nL 111.197699 62.868725 \nL 114.01182 62.616083 \nL 111.174981 55.992813 \nL 108.331955 50.663615 \nL 108.331955 50.663615 \nz\n\" style=\"fill:#d8bbbb;fill-opacity:0.2;\"/>\n    <path clip-path=\"url(#pa0d20e3216)\" d=\"M 48.789309 152.716996 \nL 49.626091 161.76438 \nL 51.493802 170.017292 \nL 59.121391 173.770236 \nL 67.719268 176.965705 \nL 66.370249 168.854054 \nL 65.765552 159.809259 \nL 56.76592 156.546755 \nz\n\" style=\"fill:#e6c7c7;fill-opacity:0.2;\"/>\n    <path clip-path=\"url(#pa0d20e3216)\" d=\"M 150.898359 159.809259 \nL 150.293662 168.854054 \nL 148.944643 176.965705 \nL 157.54252 173.770236 \nL 165.170109 170.017292 \nL 167.03782 161.76438 \nL 167.874602 152.716996 \nL 159.897991 156.546755 \nz\n\" style=\"fill:#857373;fill-opacity:0.2;\"/>\n    <path clip-path=\"url(#pa0d20e3216)\" d=\"M 89.483542 58.043503 \nL 80.39118 63.556481 \nL 71.762227 70.161816 \nL 74.70532 72.268815 \nL 78.258939 74.187679 \nL 85.393719 66.591112 \nL 92.885649 60.066693 \nL 91.031882 59.104121 \nz\n\" style=\"fill:#e1c3c3;fill-opacity:0.2;\"/>\n    <path clip-path=\"url(#pa0d20e3216)\" d=\"M 123.778262 60.066693 \nL 131.270192 66.591112 \nL 138.404972 74.187679 \nL 141.958591 72.268815 \nL 144.901684 70.161816 \nL 136.272731 63.556481 \nL 127.180369 58.043503 \nL 125.632029 59.104121 \nz\n\" style=\"fill:#b49c9c;fill-opacity:0.2;\"/>\n    <path clip-path=\"url(#pa0d20e3216)\" d=\"M 45.114297 104.696306 \nL 41.070073 114.501722 \nL 38.250935 124.398168 \nL 43.668761 128.841006 \nL 50.320096 132.913885 \nL 52.684672 122.539117 \nL 56.072214 112.122326 \nL 50.042698 108.573132 \nz\n\" style=\"fill:#fad9d9;fill-opacity:0.2;\"/>\n    <path clip-path=\"url(#pa0d20e3216)\" d=\"M 160.591697 112.122326 \nL 163.979239 122.539117 \nL 166.343815 132.913885 \nL 172.99515 128.841006 \nL 178.412976 124.398168 \nL 175.593838 114.501722 \nL 171.549614 104.696306 \nL 166.621213 108.573132 \nz\n\" style=\"fill:#847373;fill-opacity:0.2;\"/>\n    <path clip-path=\"url(#pa0d20e3216)\" d=\"M 71.762227 70.161816 \nL 63.769438 77.73476 \nL 56.572581 86.127942 \nL 60.663868 89.199639 \nL 65.640713 92.005413 \nL 71.628609 82.714452 \nL 78.258939 74.187679 \nL 74.70532 72.268815 \nz\n\" style=\"fill:#eecece;fill-opacity:0.2;\"/>\n    <path clip-path=\"url(#pa0d20e3216)\" d=\"M 138.404972 74.187679 \nL 145.035302 82.714452 \nL 151.023198 92.005413 \nL 156.000043 89.199639 \nL 160.09133 86.127942 \nL 152.894473 77.73476 \nL 144.901684 70.161816 \nL 141.958591 72.268815 \nz\n\" style=\"fill:#a28c8c;fill-opacity:0.2;\"/>\n    <path clip-path=\"url(#pa0d20e3216)\" d=\"M 56.572581 86.127942 \nL 50.313916 95.17523 \nL 45.114297 104.696306 \nL 50.042698 108.573132 \nL 56.072214 112.122326 \nL 60.41962 101.874796 \nL 65.640713 92.005413 \nL 60.663868 89.199639 \nz\n\" style=\"fill:#f7d6d6;fill-opacity:0.2;\"/>\n    <path clip-path=\"url(#pa0d20e3216)\" d=\"M 151.023198 92.005413 \nL 156.244291 101.874796 \nL 160.591697 112.122326 \nL 166.621213 108.573132 \nL 171.549614 104.696306 \nL 166.349995 95.17523 \nL 160.09133 86.127942 \nL 156.000043 89.199639 \nz\n\" style=\"fill:#927e7e;fill-opacity:0.2;\"/>\n    <path clip-path=\"url(#pa0d20e3216)\" d=\"M 65.765552 159.809259 \nL 66.370249 168.854054 \nL 67.719268 176.965705 \nL 77.129065 179.531639 \nL 87.169584 181.408859 \nL 86.461813 173.390103 \nL 86.144453 164.348116 \nL 75.621978 162.430108 \nz\n\" style=\"fill:#d7baba;fill-opacity:0.2;\"/>\n    <path clip-path=\"url(#pa0d20e3216)\" d=\"M 130.519458 164.348116 \nL 130.202098 173.390103 \nL 129.494327 181.408859 \nL 139.534846 179.531639 \nL 148.944643 176.965705 \nL 150.293662 168.854054 \nL 150.898359 159.809259 \nL 141.041933 162.430108 \nz\n\" style=\"fill:#9a8585;fill-opacity:0.2;\"/>\n    <path clip-path=\"url(#pa0d20e3216)\" d=\"M 92.885649 60.066693 \nL 85.393719 66.591112 \nL 78.258939 74.187679 \nL 82.364046 75.881257 \nL 86.949554 77.31617 \nL 92.043863 68.942254 \nL 97.378835 61.629269 \nL 95.013529 60.91362 \nz\n\" style=\"fill:#dfc1c1;fill-opacity:0.2;\"/>\n    <path clip-path=\"url(#pa0d20e3216)\" d=\"M 119.285076 61.629269 \nL 124.620048 68.942254 \nL 129.714357 77.31617 \nL 134.299865 75.881257 \nL 138.404972 74.187679 \nL 131.270192 66.591112 \nL 123.778262 60.066693 \nL 121.650382 60.91362 \nz\n\" style=\"fill:#bca3a3;fill-opacity:0.2;\"/>\n    <path clip-path=\"url(#pa0d20e3216)\" d=\"M 50.320096 132.913885 \nL 49.017081 143.039136 \nL 48.789309 152.716996 \nL 56.76592 156.546755 \nL 65.765552 159.809259 \nL 65.930169 149.997867 \nL 66.871627 139.609565 \nL 58.099311 136.529964 \nz\n\" style=\"fill:#edcece;fill-opacity:0.2;\"/>\n    <path clip-path=\"url(#pa0d20e3216)\" d=\"M 149.792284 139.609565 \nL 150.733742 149.997867 \nL 150.898359 159.809259 \nL 159.897991 156.546755 \nL 167.874602 152.716996 \nL 167.64683 143.039136 \nL 166.343815 132.913885 \nL 158.5646 136.529964 \nz\n\" style=\"fill:#8c7a7a;fill-opacity:0.2;\"/>\n    <path clip-path=\"url(#pa0d20e3216)\" d=\"M 97.378835 61.629269 \nL 92.043863 68.942254 \nL 86.949554 77.31617 \nL 91.933568 78.4637 \nL 97.225007 79.300592 \nL 99.878237 70.430408 \nL 102.652091 62.616083 \nL 99.940148 62.200322 \nz\n\" style=\"fill:#dabdbd;fill-opacity:0.2;\"/>\n    <path clip-path=\"url(#pa0d20e3216)\" d=\"M 114.01182 62.616083 \nL 116.785674 70.430408 \nL 119.438904 79.300592 \nL 124.730343 78.4637 \nL 129.714357 77.31617 \nL 124.620048 68.942254 \nL 119.285076 61.629269 \nL 116.723763 62.200322 \nz\n\" style=\"fill:#c4aaaa;fill-opacity:0.2;\"/>\n    <path clip-path=\"url(#pa0d20e3216)\" d=\"M 108.331955 165.910734 \nL 108.331955 174.951547 \nL 108.331955 182.937872 \nL 119.022593 182.553324 \nL 129.494327 181.408859 \nL 130.202098 173.390103 \nL 130.519458 164.348116 \nL 119.541384 165.517702 \nz\n\" style=\"fill:#b09898;fill-opacity:0.2;\"/>\n    <path clip-path=\"url(#pa0d20e3216)\" d=\"M 86.144453 164.348116 \nL 86.461813 173.390103 \nL 87.169584 181.408859 \nL 97.641318 182.553324 \nL 108.331955 182.937872 \nL 108.331955 174.951547 \nL 108.331955 165.910734 \nL 97.122527 165.517702 \nz\n\" style=\"fill:#c4aaaa;fill-opacity:0.2;\"/>\n    <path clip-path=\"url(#pa0d20e3216)\" d=\"M 102.652091 62.616083 \nL 99.878237 70.430408 \nL 97.225007 79.300592 \nL 102.725566 79.809723 \nL 108.331955 79.980611 \nL 108.331955 70.939798 \nL 108.331955 62.953473 \nL 105.466212 62.868725 \nz\n\" style=\"fill:#d4b8b8;fill-opacity:0.2;\"/>\n    <path clip-path=\"url(#pa0d20e3216)\" d=\"M 108.331955 62.953473 \nL 108.331955 70.939798 \nL 108.331955 79.980611 \nL 113.938345 79.809723 \nL 119.438904 79.300592 \nL 116.785674 70.430408 \nL 114.01182 62.616083 \nL 111.197699 62.868725 \nz\n\" style=\"fill:#ccb1b1;fill-opacity:0.2;\"/>\n    <path clip-path=\"url(#pa0d20e3216)\" d=\"M 78.258939 74.187679 \nL 71.628609 82.714452 \nL 65.640713 92.005413 \nL 71.421915 94.488415 \nL 77.907212 96.597071 \nL 82.203432 86.594961 \nL 86.949554 77.31617 \nL 82.364046 75.881257 \nz\n\" style=\"fill:#e9caca;fill-opacity:0.2;\"/>\n    <path clip-path=\"url(#pa0d20e3216)\" d=\"M 129.714357 77.31617 \nL 134.460479 86.594961 \nL 138.756699 96.597071 \nL 145.241996 94.488415 \nL 151.023198 92.005413 \nL 145.035302 82.714452 \nL 138.404972 74.187679 \nL 134.299865 75.881257 \nz\n\" style=\"fill:#ae9797;fill-opacity:0.2;\"/>\n    <path clip-path=\"url(#pa0d20e3216)\" d=\"M 56.072214 112.122326 \nL 52.684672 122.539117 \nL 50.320096 132.913885 \nL 58.099311 136.529964 \nL 66.871627 139.609565 \nL 68.57893 128.852434 \nL 71.02225 117.94712 \nL 63.10605 115.269609 \nz\n\" style=\"fill:#f1d0d0;fill-opacity:0.2;\"/>\n    <path clip-path=\"url(#pa0d20e3216)\" d=\"M 145.641661 117.94712 \nL 148.084981 128.852434 \nL 149.792284 139.609565 \nL 158.5646 136.529964 \nL 166.343815 132.913885 \nL 163.979239 122.539117 \nL 160.591697 112.122326 \nL 153.557861 115.269609 \nz\n\" style=\"fill:#968282;fill-opacity:0.2;\"/>\n    <path clip-path=\"url(#pa0d20e3216)\" d=\"M 65.640713 92.005413 \nL 60.41962 101.874796 \nL 56.072214 112.122326 \nL 63.10605 115.269609 \nL 71.02225 117.94712 \nL 74.153415 107.120191 \nL 77.907212 96.597071 \nL 71.421915 94.488415 \nz\n\" style=\"fill:#efcfcf;fill-opacity:0.2;\"/>\n    <path clip-path=\"url(#pa0d20e3216)\" d=\"M 138.756699 96.597071 \nL 142.510496 107.120191 \nL 145.641661 117.94712 \nL 153.557861 115.269609 \nL 160.591697 112.122326 \nL 156.244291 101.874796 \nL 151.023198 92.005413 \nL 145.241996 94.488415 \nz\n\" style=\"fill:#a18c8c;fill-opacity:0.2;\"/>\n    <path clip-path=\"url(#pa0d20e3216)\" d=\"M 66.871627 139.609565 \nL 65.930169 149.997867 \nL 65.765552 159.809259 \nL 75.621978 162.430108 \nL 86.144453 164.348116 \nL 86.230854 154.450959 \nL 86.7249 143.892631 \nL 76.475267 142.082903 \nz\n\" style=\"fill:#dfc1c1;fill-opacity:0.2;\"/>\n    <path clip-path=\"url(#pa0d20e3216)\" d=\"M 129.939011 143.892631 \nL 130.433057 154.450959 \nL 130.519458 164.348116 \nL 141.041933 162.430108 \nL 150.898359 159.809259 \nL 150.733742 149.997867 \nL 149.792284 139.609565 \nL 140.188644 142.082903 \nz\n\" style=\"fill:#a18c8c;fill-opacity:0.2;\"/>\n    <path clip-path=\"url(#pa0d20e3216)\" d=\"M 86.949554 77.31617 \nL 82.203432 86.594961 \nL 77.907212 96.597071 \nL 84.978984 98.286648 \nL 92.504679 99.520673 \nL 94.749151 89.061307 \nL 97.225007 79.300592 \nL 91.933568 78.4637 \nz\n\" style=\"fill:#e0c2c2;fill-opacity:0.2;\"/>\n    <path clip-path=\"url(#pa0d20e3216)\" d=\"M 119.438904 79.300592 \nL 121.91476 89.061307 \nL 124.159232 99.520673 \nL 131.684927 98.286648 \nL 138.756699 96.597071 \nL 134.460479 86.594961 \nL 129.714357 77.31617 \nL 124.730343 78.4637 \nz\n\" style=\"fill:#bba2a2;fill-opacity:0.2;\"/>\n    <path clip-path=\"url(#pa0d20e3216)\" d=\"M 86.7249 143.892631 \nL 86.230854 154.450959 \nL 86.144453 164.348116 \nL 97.122527 165.517702 \nL 108.331955 165.910734 \nL 108.331955 155.983995 \nL 108.331955 145.366828 \nL 97.416286 144.996053 \nz\n\" style=\"fill:#ccb1b1;fill-opacity:0.2;\"/>\n    <path clip-path=\"url(#pa0d20e3216)\" d=\"M 108.331955 145.366828 \nL 108.331955 155.983995 \nL 108.331955 165.910734 \nL 119.541384 165.517702 \nL 130.519458 164.348116 \nL 130.433057 154.450959 \nL 129.939011 143.892631 \nL 119.247625 144.996053 \nz\n\" style=\"fill:#b79f9f;fill-opacity:0.2;\"/>\n    <path clip-path=\"url(#pa0d20e3216)\" d=\"M 108.331955 79.980611 \nL 108.331955 89.90735 \nL 108.331955 100.524517 \nL 116.324026 100.272157 \nL 124.159232 99.520673 \nL 121.91476 89.061307 \nL 119.438904 79.300592 \nL 113.938345 79.809723 \nz\n\" style=\"fill:#c8aeae;fill-opacity:0.2;\"/>\n    <path clip-path=\"url(#pa0d20e3216)\" d=\"M 97.225007 79.300592 \nL 94.749151 89.061307 \nL 92.504679 99.520673 \nL 100.339885 100.272157 \nL 108.331955 100.524517 \nL 108.331955 89.90735 \nL 108.331955 79.980611 \nL 102.725566 79.809723 \nz\n\" style=\"fill:#d5b9b9;fill-opacity:0.2;\"/>\n    <path clip-path=\"url(#pa0d20e3216)\" d=\"M 71.02225 117.94712 \nL 68.57893 128.852434 \nL 66.871627 139.609565 \nL 76.475267 142.082903 \nL 86.7249 143.892631 \nL 87.620448 132.888021 \nL 88.901196 121.666618 \nL 79.675703 120.095631 \nz\n\" style=\"fill:#e3c5c5;fill-opacity:0.2;\"/>\n    <path clip-path=\"url(#pa0d20e3216)\" d=\"M 127.762715 121.666618 \nL 129.043463 132.888021 \nL 129.939011 143.892631 \nL 140.188644 142.082903 \nL 149.792284 139.609565 \nL 148.084981 128.852434 \nL 145.641661 117.94712 \nL 136.988208 120.095631 \nz\n\" style=\"fill:#aa9393;fill-opacity:0.2;\"/>\n    <path clip-path=\"url(#pa0d20e3216)\" d=\"M 77.907212 96.597071 \nL 74.153415 107.120191 \nL 71.02225 117.94712 \nL 79.675703 120.095631 \nL 88.901196 121.666618 \nL 90.541005 110.465308 \nL 92.504679 99.520673 \nL 84.978984 98.286648 \nz\n\" style=\"fill:#e3c5c5;fill-opacity:0.2;\"/>\n    <path clip-path=\"url(#pa0d20e3216)\" d=\"M 124.159232 99.520673 \nL 126.122906 110.465308 \nL 127.762715 121.666618 \nL 136.988208 120.095631 \nL 145.641661 117.94712 \nL 142.510496 107.120191 \nL 138.756699 96.597071 \nL 131.684927 98.286648 \nz\n\" style=\"fill:#b39b9b;fill-opacity:0.2;\"/>\n    <path clip-path=\"url(#pa0d20e3216)\" d=\"M 88.901196 121.666618 \nL 87.620448 132.888021 \nL 86.7249 143.892631 \nL 97.416286 144.996053 \nL 108.331955 145.366828 \nL 108.331955 134.276516 \nL 108.331955 122.945672 \nL 98.517445 122.624034 \nz\n\" style=\"fill:#d2b6b6;fill-opacity:0.2;\"/>\n    <path clip-path=\"url(#pa0d20e3216)\" d=\"M 108.331955 122.945672 \nL 108.331955 134.276516 \nL 108.331955 145.366828 \nL 119.247625 144.996053 \nL 129.939011 143.892631 \nL 129.043463 132.888021 \nL 127.762715 121.666618 \nL 118.146466 122.624034 \nz\n\" style=\"fill:#bea5a5;fill-opacity:0.2;\"/>\n    <path clip-path=\"url(#pa0d20e3216)\" d=\"M 92.504679 99.520673 \nL 90.541005 110.465308 \nL 88.901196 121.666618 \nL 98.517445 122.624034 \nL 108.331955 122.945672 \nL 108.331955 111.614829 \nL 108.331955 100.524517 \nL 100.339885 100.272157 \nz\n\" style=\"fill:#d5b8b8;fill-opacity:0.2;\"/>\n    <path clip-path=\"url(#pa0d20e3216)\" d=\"M 108.331955 100.524517 \nL 108.331955 111.614829 \nL 108.331955 122.945672 \nL 118.146466 122.624034 \nL 127.762715 121.666618 \nL 126.122906 110.465308 \nL 124.159232 99.520673 \nL 116.324026 100.272157 \nz\n\" style=\"fill:#c4aaaa;fill-opacity:0.2;\"/>\n   </g>\n  </g>\n  <g id=\"patch_4\">\n   <path d=\"M 243.529412 224.077628 \nL 440.470588 224.077628 \nL 440.470588 27.136451 \nL 243.529412 27.136451 \nz\n\" style=\"fill:#ffffff;\"/>\n  </g>\n  <g id=\"axes_2\">\n   <g id=\"patch_5\">\n    <path clip-path=\"url(#p1cf457e3f2)\" d=\"M 344.661367 120.947151 \nQ 344.661367 86.807043 344.661367 58.257106 \n\" style=\"fill:none;stroke:#dc267f;stroke-linecap:round;stroke-width:5;\"/>\n    <path clip-path=\"url(#p1cf457e3f2)\" d=\"M 340.661367 66.257106 \nL 344.661367 58.257106 \nL 348.661367 66.257106 \nL 340.661367 66.257106 \nz\n\" style=\"fill:#dc267f;stroke:#dc267f;stroke-linecap:round;stroke-width:5;\"/>\n   </g>\n   <g id=\"line2d_8\">\n    <path clip-path=\"url(#p1cf457e3f2)\" d=\"M 277.306418 103.501973 \nL 416.565781 143.702689 \n\" style=\"fill:none;stroke:#808080;stroke-linecap:square;\"/>\n   </g>\n   <g id=\"line2d_9\">\n    <path clip-path=\"url(#p1cf457e3f2)\" d=\"M 302.094964 159.809259 \nL 382.668564 90.030474 \n\" style=\"fill:none;stroke:#808080;stroke-linecap:square;\"/>\n   </g>\n   <g id=\"line2d_10\">\n    <path clip-path=\"url(#p1cf457e3f2)\" d=\"M 344.661367 189.97259 \nL 344.661367 50.663615 \n\" style=\"fill:none;stroke:#808080;stroke-linecap:square;\"/>\n   </g>\n   <g id=\"line2d_11\">\n    <path clip-path=\"url(#p1cf457e3f2)\" d=\"M 416.565781 143.702689 \nL 420.766234 138.707507 \nL 423.574782 133.518065 \nL 424.974816 128.232406 \nL 424.976988 122.945672 \nL 423.616522 117.748351 \nL 420.950201 112.724907 \nL 417.053255 107.952822 \nL 412.016316 103.501973 \nL 405.942558 99.434317 \nL 398.945127 95.803793 \nL 391.144894 92.656417 \nL 382.668564 90.030474 \nL 373.647116 87.956778 \nL 364.214546 86.458944 \nL 354.506877 85.553637 \nL 344.661367 85.250772 \nL 334.815858 85.553637 \nL 325.108189 86.458944 \nL 315.675618 87.956778 \nL 306.65417 90.030474 \nL 298.177841 92.656417 \nL 290.377608 95.803793 \nL 283.380176 99.434317 \nL 277.306418 103.501973 \n\" style=\"fill:none;stroke:#808080;stroke-linecap:square;\"/>\n   </g>\n   <g id=\"line2d_12\">\n    <path clip-path=\"url(#p1cf457e3f2)\" d=\"M 382.668564 90.030474 \nL 382.537268 81.507384 \nL 381.784279 73.567485 \nL 380.40959 66.339636 \nL 378.421453 59.948494 \nL 375.837105 54.512597 \nL 372.683494 50.14205 \nL 368.997922 46.935848 \nL 364.828541 44.978868 \nL 360.234624 44.338629 \nL 355.286521 45.061944 \nL 350.065207 47.171646 \nL 344.661367 50.663615 \nL 339.173963 55.504336 \nL 333.708247 61.629269 \nL 328.373274 68.942254 \nL 323.278965 77.31617 \nL 318.532844 86.594961 \nL 314.236623 96.597071 \nL 310.482827 107.120191 \nL 307.351662 117.94712 \nL 304.908341 128.852434 \nL 303.201039 139.609565 \nL 302.259581 149.997867 \nL 302.094964 159.809259 \n\" style=\"fill:none;stroke:#808080;stroke-linecap:square;\"/>\n   </g>\n   <g id=\"line2d_13\">\n    <path clip-path=\"url(#p1cf457e3f2)\" d=\"M 277.306418 103.501973 \nL 272.269479 107.952822 \nL 268.372534 112.724907 \nL 265.706212 117.748351 \nL 264.345746 122.945672 \nL 264.347919 128.232406 \nL 265.747952 133.518065 \nL 268.5565 138.707507 \nL 272.756954 143.702689 \nL 278.303292 148.404844 \nL 285.11872 152.716996 \nL 293.095332 156.546755 \nL 302.094964 159.809259 \nL 311.95139 162.430108 \nL 322.473865 164.348116 \nL 333.451939 165.517702 \nL 344.661367 165.910734 \nL 355.870795 165.517702 \nL 366.84887 164.348116 \nL 377.371344 162.430108 \nL 387.227771 159.809259 \nL 396.227403 156.546755 \nL 404.204014 152.716996 \nL 411.019443 148.404844 \nL 416.565781 143.702689 \n\" style=\"fill:none;stroke:#808080;stroke-linecap:square;\"/>\n   </g>\n   <g id=\"line2d_14\">\n    <path clip-path=\"url(#p1cf457e3f2)\" d=\"M 302.094964 159.809259 \nL 302.699661 168.854054 \nL 304.04868 176.965705 \nL 306.101226 184.004281 \nL 308.802834 189.858607 \nL 312.087789 194.447112 \nL 315.88167 197.717518 \nL 320.103871 199.645559 \nL 324.669961 200.232958 \nL 329.493813 199.504904 \nL 334.489432 197.507248 \nL 339.572462 194.303614 \nL 344.661367 189.97259 \nL 349.678324 184.605111 \nL 354.549844 178.302118 \nL 359.20718 171.172535 \nL 363.58657 163.331574 \nL 367.629353 154.899358 \nL 371.282021 145.999835 \nL 374.496236 136.75993 \nL 377.22886 127.308889 \nL 379.442022 117.777738 \nL 381.103257 108.29881 \nL 382.185731 99.005256 \nL 382.668564 90.030474 \n\" style=\"fill:none;stroke:#808080;stroke-linecap:square;\"/>\n   </g>\n   <g id=\"Poly3DCollection_3\">\n    <path clip-path=\"url(#p1cf457e3f2)\" d=\"M 361.430772 124.049539 \nL 360.030501 133.727131 \nL 358.381864 143.252553 \nL 351.573205 142.554566 \nL 344.661367 142.320913 \nL 344.661367 132.699383 \nL 344.661367 122.945672 \nL 353.107061 123.222452 \nz\n\" style=\"fill:#776767;fill-opacity:0.2;\"/>\n    <path clip-path=\"url(#p1cf457e3f2)\" d=\"M 344.661367 122.945672 \nL 344.661367 132.699383 \nL 344.661367 142.320913 \nL 337.749529 142.554566 \nL 330.940871 143.252553 \nL 329.292234 133.727131 \nL 327.891962 124.049539 \nL 336.215674 123.222452 \nz\n\" style=\"fill:#887575;fill-opacity:0.2;\"/>\n    <path clip-path=\"url(#p1cf457e3f2)\" d=\"M 344.661367 103.570432 \nL 344.661367 113.191962 \nL 344.661367 122.945672 \nL 336.215674 123.222452 \nL 327.891962 124.049539 \nL 326.758784 114.35172 \nL 325.908734 104.765934 \nL 335.218347 103.870141 \nz\n\" style=\"fill:#8d7a7a;fill-opacity:0.2;\"/>\n    <path clip-path=\"url(#p1cf457e3f2)\" d=\"M 363.414 104.765934 \nL 362.563951 114.35172 \nL 361.430772 124.049539 \nL 353.107061 123.222452 \nL 344.661367 122.945672 \nL 344.661367 113.191962 \nL 344.661367 103.570432 \nL 354.104388 103.870141 \nz\n\" style=\"fill:#7a6a6a;fill-opacity:0.2;\"/>\n    <path clip-path=\"url(#p1cf457e3f2)\" d=\"M 377.22886 127.308889 \nL 374.496236 136.75993 \nL 371.282021 145.999835 \nL 364.985006 144.405944 \nL 358.381864 143.252553 \nL 360.030501 133.727131 \nL 361.430772 124.049539 \nL 369.511267 125.417149 \nz\n\" style=\"fill:#685a5a;fill-opacity:0.2;\"/>\n    <path clip-path=\"url(#p1cf457e3f2)\" d=\"M 327.891962 124.049539 \nL 329.292234 133.727131 \nL 330.940871 143.252553 \nL 324.337729 144.405944 \nL 318.040714 145.999835 \nL 314.826499 136.75993 \nL 312.093875 127.308889 \nL 319.811467 125.417149 \nz\n\" style=\"fill:#998585;fill-opacity:0.2;\"/>\n    <path clip-path=\"url(#p1cf457e3f2)\" d=\"M 325.908734 104.765934 \nL 326.758784 114.35172 \nL 327.891962 124.049539 \nL 319.811467 125.417149 \nL 312.093875 127.308889 \nL 309.880713 117.777738 \nL 308.219477 108.29881 \nL 316.865301 106.247775 \nz\n\" style=\"fill:#a28c8c;fill-opacity:0.2;\"/>\n    <path clip-path=\"url(#p1cf457e3f2)\" d=\"M 381.103257 108.29881 \nL 379.442022 117.777738 \nL 377.22886 127.308889 \nL 369.511267 125.417149 \nL 361.430772 124.049539 \nL 362.563951 114.35172 \nL 363.414 104.765934 \nL 372.457434 106.247775 \nz\n\" style=\"fill:#695b5b;fill-opacity:0.2;\"/>\n    <path clip-path=\"url(#p1cf457e3f2)\" d=\"M 344.661367 142.320913 \nL 344.661367 151.678378 \nL 344.661367 160.640573 \nL 339.739904 160.81175 \nL 334.895004 161.322885 \nL 332.816483 152.494533 \nL 330.940871 143.252553 \nL 337.749529 142.554566 \nz\n\" style=\"fill:#837272;fill-opacity:0.2;\"/>\n    <path clip-path=\"url(#p1cf457e3f2)\" d=\"M 358.381864 143.252553 \nL 356.506252 152.494533 \nL 354.42773 161.322885 \nL 349.58283 160.81175 \nL 344.661367 160.640573 \nL 344.661367 151.678378 \nL 344.661367 142.320913 \nL 351.573205 142.554566 \nz\n\" style=\"fill:#766767;fill-opacity:0.2;\"/>\n    <path clip-path=\"url(#p1cf457e3f2)\" d=\"M 364.214546 86.458944 \nL 363.967653 95.424416 \nL 363.414 104.765934 \nL 354.104388 103.870141 \nL 344.661367 103.570432 \nL 344.661367 94.212967 \nL 344.661367 85.250772 \nL 354.506877 85.553637 \nz\n\" style=\"fill:#7f6e6e;fill-opacity:0.2;\"/>\n    <path clip-path=\"url(#p1cf457e3f2)\" d=\"M 344.661367 85.250772 \nL 344.661367 94.212967 \nL 344.661367 103.570432 \nL 335.218347 103.870141 \nL 325.908734 104.765934 \nL 325.355081 95.424416 \nL 325.108189 86.458944 \nL 334.815858 85.553637 \nz\n\" style=\"fill:#948080;fill-opacity:0.2;\"/>\n    <path clip-path=\"url(#p1cf457e3f2)\" d=\"M 371.282021 145.999835 \nL 367.629353 154.899358 \nL 363.58657 163.331574 \nL 359.120332 162.166803 \nL 354.42773 161.322885 \nL 356.506252 152.494533 \nL 358.381864 143.252553 \nL 364.985006 144.405944 \nz\n\" style=\"fill:#6b5d5d;fill-opacity:0.2;\"/>\n    <path clip-path=\"url(#p1cf457e3f2)\" d=\"M 330.940871 143.252553 \nL 332.816483 152.494533 \nL 334.895004 161.322885 \nL 330.202402 162.166803 \nL 325.736165 163.331574 \nL 321.693382 154.899358 \nL 318.040714 145.999835 \nL 324.337729 144.405944 \nz\n\" style=\"fill:#907d7d;fill-opacity:0.2;\"/>\n    <path clip-path=\"url(#p1cf457e3f2)\" d=\"M 382.668564 90.030474 \nL 382.185731 99.005256 \nL 381.103257 108.29881 \nL 372.457434 106.247775 \nL 363.414 104.765934 \nL 363.967653 95.424416 \nL 364.214546 86.458944 \nL 373.647116 87.956778 \nz\n\" style=\"fill:#6d5e5e;fill-opacity:0.2;\"/>\n    <path clip-path=\"url(#p1cf457e3f2)\" d=\"M 325.108189 86.458944 \nL 325.355081 95.424416 \nL 325.908734 104.765934 \nL 316.865301 106.247775 \nL 308.219477 108.29881 \nL 307.137003 99.005256 \nL 306.65417 90.030474 \nL 315.675618 87.956778 \nz\n\" style=\"fill:#aa9393;fill-opacity:0.2;\"/>\n    <path clip-path=\"url(#p1cf457e3f2)\" d=\"M 391.109892 132.565477 \nL 387.182261 141.645502 \nL 382.569585 150.419459 \nL 377.174962 148.013316 \nL 371.282021 145.999835 \nL 374.496236 136.75993 \nL 377.22886 127.308889 \nL 384.466314 129.701652 \nz\n\" style=\"fill:#5d5050;fill-opacity:0.2;\"/>\n    <path clip-path=\"url(#p1cf457e3f2)\" d=\"M 312.093875 127.308889 \nL 314.826499 136.75993 \nL 318.040714 145.999835 \nL 312.147773 148.013316 \nL 306.753149 150.419459 \nL 302.140474 141.645502 \nL 298.212842 132.565477 \nL 304.856421 129.701652 \nz\n\" style=\"fill:#aa9393;fill-opacity:0.2;\"/>\n    <path clip-path=\"url(#p1cf457e3f2)\" d=\"M 396.688212 114.005869 \nL 394.295 123.308293 \nL 391.109892 132.565477 \nL 384.466314 129.701652 \nL 377.22886 127.308889 \nL 379.442022 117.777738 \nL 381.103257 108.29881 \nL 389.222209 110.895193 \nz\n\" style=\"fill:#5b4f4f;fill-opacity:0.2;\"/>\n    <path clip-path=\"url(#p1cf457e3f2)\" d=\"M 308.219477 108.29881 \nL 309.880713 117.777738 \nL 312.093875 127.308889 \nL 304.856421 129.701652 \nL 298.212842 132.565477 \nL 295.027734 123.308293 \nL 292.634523 114.005869 \nL 300.100526 110.895193 \nz\n\" style=\"fill:#b59d9d;fill-opacity:0.2;\"/>\n    <path clip-path=\"url(#p1cf457e3f2)\" d=\"M 382.569585 150.419459 \nL 377.337056 158.762102 \nL 371.557258 166.552527 \nL 367.75491 164.800566 \nL 363.58657 163.331574 \nL 367.629353 154.899358 \nL 371.282021 145.999835 \nL 377.174962 148.013316 \nz\n\" style=\"fill:#635656;fill-opacity:0.2;\"/>\n    <path clip-path=\"url(#p1cf457e3f2)\" d=\"M 318.040714 145.999835 \nL 321.693382 154.899358 \nL 325.736165 163.331574 \nL 321.567824 164.800566 \nL 317.765477 166.552527 \nL 311.985679 158.762102 \nL 306.753149 150.419459 \nL 312.147773 148.013316 \nz\n\" style=\"fill:#9e8989;fill-opacity:0.2;\"/>\n    <path clip-path=\"url(#p1cf457e3f2)\" d=\"M 354.42773 161.322885 \nL 352.173074 169.609076 \nL 349.771805 177.22701 \nL 347.237579 176.952932 \nL 344.661367 176.861099 \nL 344.661367 169.077495 \nL 344.661367 160.640573 \nL 349.58283 160.81175 \nz\n\" style=\"fill:#786868;fill-opacity:0.2;\"/>\n    <path clip-path=\"url(#p1cf457e3f2)\" d=\"M 344.661367 160.640573 \nL 344.661367 169.077495 \nL 344.661367 176.861099 \nL 342.085155 176.952932 \nL 339.550929 177.22701 \nL 337.14966 169.609076 \nL 334.895004 161.322885 \nL 339.739904 160.81175 \nz\n\" style=\"fill:#7f6e6e;fill-opacity:0.2;\"/>\n    <path clip-path=\"url(#p1cf457e3f2)\" d=\"M 363.762345 70.177295 \nL 364.147412 78.000267 \nL 364.214546 86.458944 \nL 354.506877 85.553637 \nL 344.661367 85.250772 \nL 344.661367 76.81385 \nL 344.661367 69.030246 \nL 354.279531 69.3178 \nz\n\" style=\"fill:#877575;fill-opacity:0.2;\"/>\n    <path clip-path=\"url(#p1cf457e3f2)\" d=\"M 344.661367 69.030246 \nL 344.661367 76.81385 \nL 344.661367 85.250772 \nL 334.815858 85.553637 \nL 325.108189 86.458944 \nL 325.175322 78.000267 \nL 325.56039 70.177295 \nL 335.043204 69.3178 \nz\n\" style=\"fill:#9c8787;fill-opacity:0.2;\"/>\n    <path clip-path=\"url(#p1cf457e3f2)\" d=\"M 363.58657 163.331574 \nL 359.20718 171.172535 \nL 354.549844 178.302118 \nL 352.222641 177.679083 \nL 349.771805 177.22701 \nL 352.173074 169.609076 \nL 354.42773 161.322885 \nL 359.120332 162.166803 \nz\n\" style=\"fill:#716262;fill-opacity:0.2;\"/>\n    <path clip-path=\"url(#p1cf457e3f2)\" d=\"M 334.895004 161.322885 \nL 337.14966 169.609076 \nL 339.550929 177.22701 \nL 337.100093 177.679083 \nL 334.772891 178.302118 \nL 330.115554 171.172535 \nL 325.736165 163.331574 \nL 330.202402 162.166803 \nz\n\" style=\"fill:#877575;fill-opacity:0.2;\"/>\n    <path clip-path=\"url(#p1cf457e3f2)\" d=\"M 306.65417 90.030474 \nL 307.137003 99.005256 \nL 308.219477 108.29881 \nL 300.100526 110.895193 \nL 292.634523 114.005869 \nL 291.073971 104.792445 \nL 290.377608 95.803793 \nL 298.177841 92.656417 \nz\n\" style=\"fill:#bfa6a6;fill-opacity:0.2;\"/>\n    <path clip-path=\"url(#p1cf457e3f2)\" d=\"M 398.945127 95.803793 \nL 398.248764 104.792445 \nL 396.688212 114.005869 \nL 389.222209 110.895193 \nL 381.103257 108.29881 \nL 382.185731 99.005256 \nL 382.668564 90.030474 \nL 391.144894 92.656417 \nz\n\" style=\"fill:#5e5252;fill-opacity:0.2;\"/>\n    <path clip-path=\"url(#p1cf457e3f2)\" d=\"M 371.557258 166.552527 \nL 365.309913 173.674931 \nL 358.681632 180.019509 \nL 356.714907 179.086374 \nL 354.549844 178.302118 \nL 359.20718 171.172535 \nL 363.58657 163.331574 \nL 367.75491 164.800566 \nz\n\" style=\"fill:#6d5e5e;fill-opacity:0.2;\"/>\n    <path clip-path=\"url(#p1cf457e3f2)\" d=\"M 325.736165 163.331574 \nL 330.115554 171.172535 \nL 334.772891 178.302118 \nL 332.607828 179.086374 \nL 330.641102 180.019509 \nL 324.012821 173.674931 \nL 317.765477 166.552527 \nL 321.567824 164.800566 \nz\n\" style=\"fill:#907d7d;fill-opacity:0.2;\"/>\n    <path clip-path=\"url(#p1cf457e3f2)\" d=\"M 381.784279 73.567485 \nL 382.537268 81.507384 \nL 382.668564 90.030474 \nL 373.647116 87.956778 \nL 364.214546 86.458944 \nL 364.147412 78.000267 \nL 363.762345 70.177295 \nL 372.975074 71.599196 \nz\n\" style=\"fill:#756565;fill-opacity:0.2;\"/>\n    <path clip-path=\"url(#p1cf457e3f2)\" d=\"M 325.56039 70.177295 \nL 325.175322 78.000267 \nL 325.108189 86.458944 \nL 315.675618 87.956778 \nL 306.65417 90.030474 \nL 306.785467 81.507384 \nL 307.538456 73.567485 \nL 316.34766 71.599196 \nz\n\" style=\"fill:#b29a9a;fill-opacity:0.2;\"/>\n    <path clip-path=\"url(#p1cf457e3f2)\" d=\"M 402.185606 139.55149 \nL 397.271639 148.127677 \nL 391.512446 156.27201 \nL 387.376501 153.185323 \nL 382.569585 150.419459 \nL 387.182261 141.645502 \nL 391.109892 132.565477 \nL 397.050594 135.863426 \nz\n\" style=\"fill:#554949;fill-opacity:0.2;\"/>\n    <path clip-path=\"url(#p1cf457e3f2)\" d=\"M 298.212842 132.565477 \nL 302.140474 141.645502 \nL 306.753149 150.419459 \nL 301.946233 153.185323 \nL 297.810289 156.27201 \nL 292.051096 148.127677 \nL 287.137129 139.55149 \nL 292.27214 135.863426 \nz\n\" style=\"fill:#baa1a1;fill-opacity:0.2;\"/>\n    <path clip-path=\"url(#p1cf457e3f2)\" d=\"M 391.512446 156.27201 \nL 384.994775 163.865941 \nL 377.814435 170.798004 \nL 374.929889 168.5617 \nL 371.557258 166.552527 \nL 377.337056 158.762102 \nL 382.569585 150.419459 \nL 387.376501 153.185323 \nz\n\" style=\"fill:#5d5151;fill-opacity:0.2;\"/>\n    <path clip-path=\"url(#p1cf457e3f2)\" d=\"M 306.753149 150.419459 \nL 311.985679 158.762102 \nL 317.765477 166.552527 \nL 314.392846 168.5617 \nL 311.5083 170.798004 \nL 304.32796 163.865941 \nL 297.810289 156.27201 \nL 301.946233 153.185323 \nz\n\" style=\"fill:#aa9393;fill-opacity:0.2;\"/>\n    <path clip-path=\"url(#p1cf457e3f2)\" d=\"M 409.1808 121.608446 \nL 406.177416 130.6683 \nL 402.185606 139.55149 \nL 397.050594 135.863426 \nL 391.109892 132.565477 \nL 394.295 123.308293 \nL 396.688212 114.005869 \nL 403.37963 117.592337 \nz\n\" style=\"fill:#514747;fill-opacity:0.2;\"/>\n    <path clip-path=\"url(#p1cf457e3f2)\" d=\"M 292.634523 114.005869 \nL 295.027734 123.308293 \nL 298.212842 132.565477 \nL 292.27214 135.863426 \nL 287.137129 139.55149 \nL 283.145319 130.6683 \nL 280.141935 121.608446 \nL 285.943105 117.592337 \nz\n\" style=\"fill:#c7adad;fill-opacity:0.2;\"/>\n    <path clip-path=\"url(#p1cf457e3f2)\" d=\"M 317.765477 166.552527 \nL 324.012821 173.674931 \nL 330.641102 180.019509 \nL 328.906043 181.086717 \nL 327.432564 182.270914 \nL 319.247129 176.964613 \nL 311.5083 170.798004 \nL 314.392846 168.5617 \nz\n\" style=\"fill:#988484;fill-opacity:0.2;\"/>\n    <path clip-path=\"url(#p1cf457e3f2)\" d=\"M 377.814435 170.798004 \nL 370.075606 176.964613 \nL 361.89017 182.270914 \nL 360.416692 181.086717 \nL 358.681632 180.019509 \nL 365.309913 173.674931 \nL 371.557258 166.552527 \nL 374.929889 168.5617 \nz\n\" style=\"fill:#6a5c5c;fill-opacity:0.2;\"/>\n    <path clip-path=\"url(#p1cf457e3f2)\" d=\"M 397.669905 79.045623 \nL 398.755748 87.176265 \nL 398.945127 95.803793 \nL 391.144894 92.656417 \nL 382.668564 90.030474 \nL 382.537268 81.507384 \nL 381.784279 73.567485 \nL 390.058627 76.059481 \nz\n\" style=\"fill:#665858;fill-opacity:0.2;\"/>\n    <path clip-path=\"url(#p1cf457e3f2)\" d=\"M 307.538456 73.567485 \nL 306.785467 81.507384 \nL 306.65417 90.030474 \nL 298.177841 92.656417 \nL 290.377608 95.803793 \nL 290.566987 87.176265 \nL 291.652829 79.045623 \nL 299.264107 76.059481 \nz\n\" style=\"fill:#c7acac;fill-opacity:0.2;\"/>\n    <path clip-path=\"url(#p1cf457e3f2)\" d=\"M 349.771805 177.22701 \nL 347.256219 184.054083 \nL 344.661367 189.97259 \nL 344.661367 189.97259 \nL 344.661367 189.97259 \nL 344.661367 183.866343 \nL 344.661367 176.861099 \nL 347.237579 176.952932 \nz\n\" style=\"fill:#736464;fill-opacity:0.2;\"/>\n    <path clip-path=\"url(#p1cf457e3f2)\" d=\"M 344.661367 176.861099 \nL 344.661367 183.866343 \nL 344.661367 189.97259 \nL 344.661367 189.97259 \nL 344.661367 189.97259 \nL 342.066515 184.054083 \nL 339.550929 177.22701 \nL 342.085155 176.952932 \nz\n\" style=\"fill:#746464;fill-opacity:0.2;\"/>\n    <path clip-path=\"url(#p1cf457e3f2)\" d=\"M 354.549844 178.302118 \nL 349.678324 184.605111 \nL 344.661367 189.97259 \nL 344.661367 189.97259 \nL 344.661367 189.97259 \nL 347.256219 184.054083 \nL 349.771805 177.22701 \nL 352.222641 177.679083 \nz\n\" style=\"fill:#746464;fill-opacity:0.2;\"/>\n    <path clip-path=\"url(#p1cf457e3f2)\" d=\"M 339.550929 177.22701 \nL 342.066515 184.054083 \nL 344.661367 189.97259 \nL 344.661367 189.97259 \nL 344.661367 189.97259 \nL 339.64441 184.605111 \nL 334.772891 178.302118 \nL 337.100093 177.679083 \nz\n\" style=\"fill:#766666;fill-opacity:0.2;\"/>\n    <path clip-path=\"url(#p1cf457e3f2)\" d=\"M 397.477571 163.223356 \nL 390.062304 169.911366 \nL 381.918652 175.811511 \nL 380.158892 173.22726 \nL 377.814435 170.798004 \nL 384.994775 163.865941 \nL 391.512446 156.27201 \nL 394.901692 159.634793 \nz\n\" style=\"fill:#5b4f4f;fill-opacity:0.2;\"/>\n    <path clip-path=\"url(#p1cf457e3f2)\" d=\"M 362.041502 56.938058 \nL 363.059108 63.116017 \nL 363.762345 70.177295 \nL 354.279531 69.3178 \nL 344.661367 69.030246 \nL 344.661367 62.025002 \nL 344.661367 55.918755 \nL 353.414219 56.174319 \nz\n\" style=\"fill:#917d7d;fill-opacity:0.2;\"/>\n    <path clip-path=\"url(#p1cf457e3f2)\" d=\"M 344.661367 55.918755 \nL 344.661367 62.025002 \nL 344.661367 69.030246 \nL 335.043204 69.3178 \nL 325.56039 70.177295 \nL 326.263626 63.116017 \nL 327.281233 56.938058 \nL 335.908516 56.174319 \nz\n\" style=\"fill:#a48e8e;fill-opacity:0.2;\"/>\n    <path clip-path=\"url(#p1cf457e3f2)\" d=\"M 381.918652 175.811511 \nL 373.171422 180.836766 \nL 363.952901 184.911827 \nL 363.07609 183.552941 \nL 361.89017 182.270914 \nL 370.075606 176.964613 \nL 377.814435 170.798004 \nL 380.158892 173.22726 \nz\n\" style=\"fill:#6a5c5c;fill-opacity:0.2;\"/>\n    <path clip-path=\"url(#p1cf457e3f2)\" d=\"M 358.681632 180.019509 \nL 351.765632 185.483523 \nL 344.661367 189.97259 \nL 344.661367 189.97259 \nL 344.661367 189.97259 \nL 349.678324 184.605111 \nL 354.549844 178.302118 \nL 356.714907 179.086374 \nz\n\" style=\"fill:#766666;fill-opacity:0.2;\"/>\n    <path clip-path=\"url(#p1cf457e3f2)\" d=\"M 334.772891 178.302118 \nL 339.64441 184.605111 \nL 344.661367 189.97259 \nL 344.661367 189.97259 \nL 344.661367 189.97259 \nL 337.557103 185.483523 \nL 330.641102 180.019509 \nL 332.607828 179.086374 \nz\n\" style=\"fill:#796969;fill-opacity:0.2;\"/>\n    <path clip-path=\"url(#p1cf457e3f2)\" d=\"M 412.016316 103.501973 \nL 411.141099 112.50685 \nL 409.1808 121.608446 \nL 403.37963 117.592337 \nL 396.688212 114.005869 \nL 398.248764 104.792445 \nL 398.945127 95.803793 \nL 405.942558 99.434317 \nz\n\" style=\"fill:#544949;fill-opacity:0.2;\"/>\n    <path clip-path=\"url(#p1cf457e3f2)\" d=\"M 290.377608 95.803793 \nL 291.073971 104.792445 \nL 292.634523 114.005869 \nL 285.943105 117.592337 \nL 280.141935 121.608446 \nL 278.181636 112.50685 \nL 277.306418 103.501973 \nL 283.380176 99.434317 \nz\n\" style=\"fill:#d2b6b6;fill-opacity:0.2;\"/>\n    <path clip-path=\"url(#p1cf457e3f2)\" d=\"M 409.668527 147.886546 \nL 404.048349 155.845583 \nL 397.477571 163.223356 \nL 394.901692 159.634793 \nL 391.512446 156.27201 \nL 397.271639 148.127677 \nL 402.185606 139.55149 \nL 406.419976 143.578564 \nz\n\" style=\"fill:#514646;fill-opacity:0.2;\"/>\n    <path clip-path=\"url(#p1cf457e3f2)\" d=\"M 361.89017 182.270914 \nL 353.377032 186.631724 \nL 344.661367 189.97259 \nL 344.661367 189.97259 \nL 344.661367 189.97259 \nL 351.765632 185.483523 \nL 358.681632 180.019509 \nL 360.416692 181.086717 \nz\n\" style=\"fill:#7a6969;fill-opacity:0.2;\"/>\n    <path clip-path=\"url(#p1cf457e3f2)\" d=\"M 330.641102 180.019509 \nL 337.557103 185.483523 \nL 344.661367 189.97259 \nL 344.661367 189.97259 \nL 344.661367 189.97259 \nL 335.945702 186.631724 \nL 327.432564 182.270914 \nL 328.906043 181.086717 \nz\n\" style=\"fill:#7e6d6d;fill-opacity:0.2;\"/>\n    <path clip-path=\"url(#p1cf457e3f2)\" d=\"M 378.421453 59.948494 \nL 380.40959 66.339636 \nL 381.784279 73.567485 \nL 372.975074 71.599196 \nL 363.762345 70.177295 \nL 363.059108 63.116017 \nL 362.041502 56.938058 \nL 370.418366 58.201083 \nz\n\" style=\"fill:#7f6e6e;fill-opacity:0.2;\"/>\n    <path clip-path=\"url(#p1cf457e3f2)\" d=\"M 327.281233 56.938058 \nL 326.263626 63.116017 \nL 325.56039 70.177295 \nL 316.34766 71.599196 \nL 307.538456 73.567485 \nL 308.913144 66.339636 \nL 310.901281 59.948494 \nL 318.904368 58.201083 \nz\n\" style=\"fill:#b8a0a0;fill-opacity:0.2;\"/>\n    <path clip-path=\"url(#p1cf457e3f2)\" d=\"M 363.952901 184.911827 \nL 354.401661 187.973749 \nL 344.661367 189.97259 \nL 344.661367 189.97259 \nL 344.661367 189.97259 \nL 353.377032 186.631724 \nL 361.89017 182.270914 \nL 363.07609 183.552941 \nz\n\" style=\"fill:#7e6e6e;fill-opacity:0.2;\"/>\n    <path clip-path=\"url(#p1cf457e3f2)\" d=\"M 364.717774 187.768997 \nL 354.766717 189.419838 \nL 344.661367 189.97259 \nL 344.661367 189.97259 \nL 344.661367 189.97259 \nL 354.401661 187.973749 \nL 363.952901 184.911827 \nL 364.50393 186.325075 \nz\n\" style=\"fill:#847272;fill-opacity:0.2;\"/>\n    <path clip-path=\"url(#p1cf457e3f2)\" d=\"M 383.548765 181.27677 \nL 374.361725 185.042297 \nL 364.717774 187.768997 \nL 364.50393 186.325075 \nL 363.952901 184.911827 \nL 373.171422 180.836766 \nL 381.918652 175.811511 \nL 383.05753 178.50942 \nz\n\" style=\"fill:#6c5e5e;fill-opacity:0.2;\"/>\n    <path clip-path=\"url(#p1cf457e3f2)\" d=\"M 417.690943 130.705947 \nL 414.243362 139.464377 \nL 409.668527 147.886546 \nL 406.419976 143.578564 \nL 402.185606 139.55149 \nL 406.177416 130.6683 \nL 409.1808 121.608446 \nL 413.983869 126.000244 \nz\n\" style=\"fill:#4d4343;fill-opacity:0.2;\"/>\n    <path clip-path=\"url(#p1cf457e3f2)\" d=\"M 364.116526 190.6504 \nL 354.443199 190.872095 \nL 344.661367 189.97259 \nL 344.661367 189.97259 \nL 344.661367 189.97259 \nL 354.766717 189.419838 \nL 364.717774 187.768997 \nL 364.588627 189.219082 \nz\n\" style=\"fill:#897777;fill-opacity:0.2;\"/>\n    <path clip-path=\"url(#p1cf457e3f2)\" d=\"M 399.977576 170.850914 \nL 392.133687 176.52418 \nL 383.548765 181.27677 \nL 383.05753 178.50942 \nL 381.918652 175.811511 \nL 390.062304 169.911366 \nL 397.477571 163.223356 \nL 399.184085 166.982148 \nz\n\" style=\"fill:#5c5050;fill-opacity:0.2;\"/>\n    <path clip-path=\"url(#p1cf457e3f2)\" d=\"M 410.413789 86.346275 \nL 411.778268 94.734585 \nL 412.016316 103.501973 \nL 405.942558 99.434317 \nL 398.945127 95.803793 \nL 398.755748 87.176265 \nL 397.669905 79.045623 \nL 404.494269 82.489229 \nz\n\" style=\"fill:#5c4f4f;fill-opacity:0.2;\"/>\n    <path clip-path=\"url(#p1cf457e3f2)\" d=\"M 291.652829 79.045623 \nL 290.566987 87.176265 \nL 290.377608 95.803793 \nL 283.380176 99.434317 \nL 277.306418 103.501973 \nL 277.544467 94.734585 \nL 278.908945 86.346275 \nL 284.828466 82.489229 \nz\n\" style=\"fill:#dabdbd;fill-opacity:0.2;\"/>\n    <path clip-path=\"url(#p1cf457e3f2)\" d=\"M 362.173591 193.357525 \nL 353.448978 192.230968 \nL 344.661367 189.97259 \nL 344.661367 189.97259 \nL 344.661367 189.97259 \nL 354.443199 190.872095 \nL 364.116526 190.6504 \nL 363.307496 192.038032 \nz\n\" style=\"fill:#8f7c7c;fill-opacity:0.2;\"/>\n    <path clip-path=\"url(#p1cf457e3f2)\" d=\"M 310.901281 59.948494 \nL 308.913144 66.339636 \nL 307.538456 73.567485 \nL 299.264107 76.059481 \nL 291.652829 79.045623 \nL 293.634087 71.54559 \nL 296.496959 64.806089 \nL 303.392956 62.159263 \nz\n\" style=\"fill:#ccb1b1;fill-opacity:0.2;\"/>\n    <path clip-path=\"url(#p1cf457e3f2)\" d=\"M 392.825775 64.806089 \nL 395.688648 71.54559 \nL 397.669905 79.045623 \nL 390.058627 76.059481 \nL 381.784279 73.567485 \nL 380.40959 66.339636 \nL 378.421453 59.948494 \nL 385.929778 62.159263 \nz\n\" style=\"fill:#726262;fill-opacity:0.2;\"/>\n    <path clip-path=\"url(#p1cf457e3f2)\" d=\"M 382.533804 186.832264 \nL 373.530241 189.300759 \nL 364.116526 190.6504 \nL 364.588627 189.219082 \nL 364.717774 187.768997 \nL 374.361725 185.042297 \nL 383.548765 181.27677 \nL 383.375941 184.067068 \nz\n\" style=\"fill:#706161;fill-opacity:0.2;\"/>\n    <path clip-path=\"url(#p1cf457e3f2)\" d=\"M 412.929106 157.079542 \nL 406.94963 164.337759 \nL 399.977576 170.850914 \nL 399.184085 166.982148 \nL 397.477571 163.223356 \nL 404.048349 155.845583 \nL 409.668527 147.886546 \nL 411.857957 152.410586 \nz\n\" style=\"fill:#524747;fill-opacity:0.2;\"/>\n    <path clip-path=\"url(#p1cf457e3f2)\" d=\"M 420.950201 112.724907 \nL 419.943736 121.745807 \nL 417.690943 130.705947 \nL 413.983869 126.000244 \nL 409.1808 121.608446 \nL 411.141099 112.50685 \nL 412.016316 103.501973 \nL 417.053255 107.952822 \nz\n\" style=\"fill:#4f4444;fill-opacity:0.2;\"/>\n    <path clip-path=\"url(#p1cf457e3f2)\" d=\"M 359.100919 47.685419 \nL 360.717754 51.758856 \nL 362.041502 56.938058 \nL 353.414219 56.174319 \nL 344.661367 55.918755 \nL 344.661367 50.825945 \nL 344.661367 46.852595 \nL 351.935018 47.061454 \nz\n\" style=\"fill:#9b8686;fill-opacity:0.2;\"/>\n    <path clip-path=\"url(#p1cf457e3f2)\" d=\"M 344.661367 46.852595 \nL 344.661367 50.825945 \nL 344.661367 55.918755 \nL 335.908516 56.174319 \nL 327.281233 56.938058 \nL 328.604981 51.758856 \nL 330.221815 47.685419 \nL 337.387717 47.061454 \nz\n\" style=\"fill:#ac9595;fill-opacity:0.2;\"/>\n    <path clip-path=\"url(#p1cf457e3f2)\" d=\"M 378.880105 192.092364 \nL 370.697166 193.317539 \nL 362.173591 193.357525 \nL 363.307496 192.038032 \nL 364.116526 190.6504 \nL 373.530241 189.300759 \nL 382.533804 186.832264 \nL 381.028918 189.523568 \nz\n\" style=\"fill:#766666;fill-opacity:0.2;\"/>\n    <path clip-path=\"url(#p1cf457e3f2)\" d=\"M 398.722371 178.658243 \nL 390.979073 183.270524 \nL 382.533804 186.832264 \nL 383.375941 184.067068 \nL 383.548765 181.27677 \nL 392.133687 176.52418 \nL 399.977576 170.850914 \nL 399.828376 174.765398 \nz\n\" style=\"fill:#615454;fill-opacity:0.2;\"/>\n    <path clip-path=\"url(#p1cf457e3f2)\" d=\"M 372.683494 50.14205 \nL 375.837105 54.512597 \nL 378.421453 59.948494 \nL 370.418366 58.201083 \nL 362.041502 56.938058 \nL 360.717754 51.758856 \nL 359.100919 47.685419 \nL 366.052152 48.716651 \nz\n\" style=\"fill:#8c7a7a;fill-opacity:0.2;\"/>\n    <path clip-path=\"url(#p1cf457e3f2)\" d=\"M 330.221815 47.685419 \nL 328.604981 51.758856 \nL 327.281233 56.938058 \nL 318.904368 58.201083 \nL 310.901281 59.948494 \nL 313.485629 54.512597 \nL 316.63924 50.14205 \nL 323.270583 48.716651 \nz\n\" style=\"fill:#bda4a4;fill-opacity:0.2;\"/>\n    <path clip-path=\"url(#p1cf457e3f2)\" d=\"M 421.490189 140.773863 \nL 417.807394 149.184576 \nL 412.929106 157.079542 \nL 411.857957 152.410586 \nL 409.668527 147.886546 \nL 414.243362 139.464377 \nL 417.690943 130.705947 \nL 420.216523 135.656083 \nz\n\" style=\"fill:#4e4343;fill-opacity:0.2;\"/>\n    <path clip-path=\"url(#p1cf457e3f2)\" d=\"M 296.496959 64.806089 \nL 293.634087 71.54559 \nL 291.652829 79.045623 \nL 284.828466 82.489229 \nL 278.908945 86.346275 \nL 281.396769 78.477701 \nL 284.98742 71.266518 \nL 290.326193 67.855256 \nz\n\" style=\"fill:#dec0c0;fill-opacity:0.2;\"/>\n    <path clip-path=\"url(#p1cf457e3f2)\" d=\"M 404.335314 71.266518 \nL 407.925966 78.477701 \nL 410.413789 86.346275 \nL 404.494269 82.489229 \nL 397.669905 79.045623 \nL 395.688648 71.54559 \nL 392.825775 64.806089 \nL 398.996541 67.855256 \nz\n\" style=\"fill:#685a5a;fill-opacity:0.2;\"/>\n    <path clip-path=\"url(#p1cf457e3f2)\" d=\"M 419.107668 95.087028 \nL 420.676415 103.789045 \nL 420.950201 112.724907 \nL 417.053255 107.952822 \nL 412.016316 103.501973 \nL 411.778268 94.734585 \nL 410.413789 86.346275 \nL 415.318316 90.565234 \nz\n\" style=\"fill:#574b4b;fill-opacity:0.2;\"/>\n    <path clip-path=\"url(#p1cf457e3f2)\" d=\"M 384.579871 54.096437 \nL 389.108809 58.951145 \nL 392.825775 64.806089 \nL 385.929778 62.159263 \nL 378.421453 59.948494 \nL 375.837105 54.512597 \nL 372.683494 50.14205 \nL 378.892366 51.943222 \nz\n\" style=\"fill:#817070;fill-opacity:0.2;\"/>\n    <path clip-path=\"url(#p1cf457e3f2)\" d=\"M 316.63924 50.14205 \nL 313.485629 54.512597 \nL 310.901281 59.948494 \nL 303.392956 62.159263 \nL 296.496959 64.806089 \nL 300.213926 58.951145 \nL 304.742863 54.096437 \nL 310.430368 51.943222 \nz\n\" style=\"fill:#ceb3b3;fill-opacity:0.2;\"/>\n    <path clip-path=\"url(#p1cf457e3f2)\" d=\"M 411.564607 166.540672 \nL 405.62677 173.055646 \nL 398.722371 178.658243 \nL 399.828376 174.765398 \nL 399.977576 170.850914 \nL 406.94963 164.337759 \nL 412.929106 157.079542 \nL 412.839289 161.816683 \nz\n\" style=\"fill:#574c4c;fill-opacity:0.2;\"/>\n    <path clip-path=\"url(#p1cf457e3f2)\" d=\"M 393.669302 186.10098 \nL 386.5831 189.680899 \nL 378.880105 192.092364 \nL 381.028918 189.523568 \nL 382.533804 186.832264 \nL 390.979073 183.270524 \nL 398.722371 178.658243 \nL 396.662389 182.46011 \nz\n\" style=\"fill:#685a5a;fill-opacity:0.2;\"/>\n    <path clip-path=\"url(#p1cf457e3f2)\" d=\"M 424.976988 122.945672 \nL 423.899721 131.979986 \nL 421.490189 140.773863 \nL 420.216523 135.656083 \nL 417.690943 130.705947 \nL 419.943736 121.745807 \nL 420.950201 112.724907 \nL 423.616522 117.748351 \nz\n\" style=\"fill:#504545;fill-opacity:0.2;\"/>\n    <path clip-path=\"url(#p1cf457e3f2)\" d=\"M 344.661367 42.630051 \nL 344.661367 44.09367 \nL 344.661367 46.852595 \nL 337.387717 47.061454 \nL 330.221815 47.685419 \nL 332.113475 44.813682 \nL 334.256178 43.225482 \nL 339.418256 42.779424 \nz\n\" style=\"fill:#b29a9a;fill-opacity:0.2;\"/>\n    <path clip-path=\"url(#p1cf457e3f2)\" d=\"M 355.066556 43.225482 \nL 357.209259 44.813682 \nL 359.100919 47.685419 \nL 351.935018 47.061454 \nL 344.661367 46.852595 \nL 344.661367 44.09367 \nL 344.661367 42.630051 \nL 349.904479 42.779424 \nz\n\" style=\"fill:#a69090;fill-opacity:0.2;\"/>\n    <path clip-path=\"url(#p1cf457e3f2)\" d=\"M 412.13117 78.981493 \nL 416.249941 86.768507 \nL 419.107668 95.087028 \nL 415.318316 90.565234 \nL 410.413789 86.346275 \nL 407.925966 78.477701 \nL 404.335314 71.266518 \nL 408.743203 74.99305 \nz\n\" style=\"fill:#645656;fill-opacity:0.2;\"/>\n    <path clip-path=\"url(#p1cf457e3f2)\" d=\"M 394.020833 59.337356 \nL 399.680834 64.844999 \nL 404.335314 71.266518 \nL 398.996541 67.855256 \nL 392.825775 64.806089 \nL 389.108809 58.951145 \nL 384.579871 54.096437 \nL 389.651977 56.572618 \nz\n\" style=\"fill:#796969;fill-opacity:0.2;\"/>\n    <path clip-path=\"url(#p1cf457e3f2)\" d=\"M 304.742863 54.096437 \nL 300.213926 58.951145 \nL 296.496959 64.806089 \nL 290.326193 67.855256 \nL 284.98742 71.266518 \nL 289.641901 64.844999 \nL 295.301901 59.337356 \nL 299.670758 56.572618 \nz\n\" style=\"fill:#dec0c0;fill-opacity:0.2;\"/>\n    <path clip-path=\"url(#p1cf457e3f2)\" d=\"M 420.092527 151.172862 \nL 416.420171 159.208863 \nL 411.564607 166.540672 \nL 412.839289 161.816683 \nL 412.929106 157.079542 \nL 417.807394 149.184576 \nL 421.490189 140.773863 \nL 421.459432 145.975831 \nz\n\" style=\"fill:#544949;fill-opacity:0.2;\"/>\n    <path clip-path=\"url(#p1cf457e3f2)\" d=\"M 334.256178 43.225482 \nL 332.113475 44.813682 \nL 330.221815 47.685419 \nL 323.270583 48.716651 \nL 316.63924 50.14205 \nL 320.324813 46.935848 \nL 324.494194 44.978868 \nL 329.255327 43.962052 \nz\n\" style=\"fill:#c0a6a6;fill-opacity:0.2;\"/>\n    <path clip-path=\"url(#p1cf457e3f2)\" d=\"M 364.828541 44.978868 \nL 368.997922 46.935848 \nL 372.683494 50.14205 \nL 366.052152 48.716651 \nL 359.100919 47.685419 \nL 357.209259 44.813682 \nL 355.066556 43.225482 \nL 360.067407 43.962052 \nz\n\" style=\"fill:#9b8686;fill-opacity:0.2;\"/>\n    <path clip-path=\"url(#p1cf457e3f2)\" d=\"M 423.005203 104.765922 \nL 424.683894 113.821951 \nL 424.976988 122.945672 \nL 423.616522 117.748351 \nL 420.950201 112.724907 \nL 420.676415 103.789045 \nL 419.107668 95.087028 \nL 421.694129 99.845133 \nz\n\" style=\"fill:#574c4c;fill-opacity:0.2;\"/>\n    <path clip-path=\"url(#p1cf457e3f2)\" d=\"M 405.471567 175.608851 \nL 400.006831 181.390599 \nL 393.669302 186.10098 \nL 396.662389 182.46011 \nL 398.722371 178.658243 \nL 405.62677 173.055646 \nL 411.564607 166.540672 \nL 409.102095 171.166855 \nz\n\" style=\"fill:#615454;fill-opacity:0.2;\"/>\n    <path clip-path=\"url(#p1cf457e3f2)\" d=\"M 324.494194 44.978868 \nL 320.324813 46.935848 \nL 316.63924 50.14205 \nL 310.430368 51.943222 \nL 304.742863 54.096437 \nL 310.026338 50.346543 \nL 315.991176 47.791916 \nL 320.048682 46.261601 \nz\n\" style=\"fill:#cdb1b1;fill-opacity:0.2;\"/>\n    <path clip-path=\"url(#p1cf457e3f2)\" d=\"M 373.331559 47.791916 \nL 379.296397 50.346543 \nL 384.579871 54.096437 \nL 378.892366 51.943222 \nL 372.683494 50.14205 \nL 368.997922 46.935848 \nL 364.828541 44.978868 \nL 369.274052 46.261601 \nz\n\" style=\"fill:#927f7f;fill-opacity:0.2;\"/>\n    <path clip-path=\"url(#p1cf457e3f2)\" d=\"M 400.337308 65.568828 \nL 406.802198 71.869566 \nL 412.13117 78.981493 \nL 408.743203 74.99305 \nL 404.335314 71.266518 \nL 399.680834 64.844999 \nL 394.020833 59.337356 \nL 397.60625 62.350999 \nz\n\" style=\"fill:#756666;fill-opacity:0.2;\"/>\n    <path clip-path=\"url(#p1cf457e3f2)\" d=\"M 423.574782 133.518065 \nL 422.498364 142.561452 \nL 420.092527 151.172862 \nL 421.459432 145.975831 \nL 421.490189 140.773863 \nL 423.899721 131.979986 \nL 424.976988 122.945672 \nL 424.974816 128.232406 \nz\n\" style=\"fill:#564a4a;fill-opacity:0.2;\"/>\n    <path clip-path=\"url(#p1cf457e3f2)\" d=\"M 315.991176 47.791916 \nL 310.026338 50.346543 \nL 304.742863 54.096437 \nL 299.670758 56.572618 \nL 295.301901 59.337356 \nL 301.889312 54.856816 \nL 309.306174 51.502516 \nL 312.389556 49.547565 \nz\n\" style=\"fill:#d9bcbc;fill-opacity:0.2;\"/>\n    <path clip-path=\"url(#p1cf457e3f2)\" d=\"M 380.016561 51.502516 \nL 387.433423 54.856816 \nL 394.020833 59.337356 \nL 389.651977 56.572618 \nL 384.579871 54.096437 \nL 379.296397 50.346543 \nL 373.331559 47.791916 \nL 376.933178 49.547565 \nz\n\" style=\"fill:#8c7a7a;fill-opacity:0.2;\"/>\n    <path clip-path=\"url(#p1cf457e3f2)\" d=\"M 415.553871 87.49942 \nL 419.95019 95.938106 \nL 423.005203 104.765922 \nL 421.694129 99.845133 \nL 419.107668 95.087028 \nL 416.249941 86.768507 \nL 412.13117 78.981493 \nL 414.422235 83.17216 \nz\n\" style=\"fill:#645757;fill-opacity:0.2;\"/>\n    <path clip-path=\"url(#p1cf457e3f2)\" d=\"M 413.343443 161.175786 \nL 409.950205 168.836459 \nL 405.471567 175.608851 \nL 409.102095 171.166855 \nL 411.564607 166.540672 \nL 416.420171 159.208863 \nL 420.092527 151.172862 \nL 417.381277 156.271517 \nz\n\" style=\"fill:#5f5252;fill-opacity:0.2;\"/>\n    <path clip-path=\"url(#p1cf457e3f2)\" d=\"M 350.151869 44.136592 \nL 352.702324 42.985258 \nL 355.066556 43.225482 \nL 349.904479 42.779424 \nL 344.661367 42.630051 \nL 344.661367 42.52521 \nL 344.661367 43.821701 \nL 347.429088 43.900727 \nz\n\" style=\"fill:#af9797;fill-opacity:0.2;\"/>\n    <path clip-path=\"url(#p1cf457e3f2)\" d=\"M 344.661367 43.821701 \nL 344.661367 42.52521 \nL 344.661367 42.630051 \nL 339.418256 42.779424 \nL 334.256178 43.225482 \nL 336.62041 42.985258 \nL 339.170865 44.136592 \nL 341.893646 43.900727 \nz\n\" style=\"fill:#b69e9e;fill-opacity:0.2;\"/>\n    <path clip-path=\"url(#p1cf457e3f2)\" d=\"M 355.286521 45.061944 \nL 360.234624 44.338629 \nL 364.828541 44.978868 \nL 360.067407 43.962052 \nL 355.066556 43.225482 \nL 352.702324 42.985258 \nL 350.151869 44.136592 \nL 352.785383 44.525667 \nz\n\" style=\"fill:#a89292;fill-opacity:0.2;\"/>\n    <path clip-path=\"url(#p1cf457e3f2)\" d=\"M 339.170865 44.136592 \nL 336.62041 42.985258 \nL 334.256178 43.225482 \nL 329.255327 43.962052 \nL 324.494194 44.978868 \nL 329.08811 44.338629 \nL 334.036213 45.061944 \nL 336.537352 44.525667 \nz\n\" style=\"fill:#bea5a5;fill-opacity:0.2;\"/>\n    <path clip-path=\"url(#p1cf457e3f2)\" d=\"M 421.604928 114.76949 \nL 423.28187 124.198741 \nL 423.574782 133.518065 \nL 424.974816 128.232406 \nL 424.976988 122.945672 \nL 424.683894 113.821951 \nL 423.005203 104.765922 \nL 422.986543 109.76927 \nz\n\" style=\"fill:#5e5151;fill-opacity:0.2;\"/>\n    <path clip-path=\"url(#p1cf457e3f2)\" d=\"M 384.413374 55.888454 \nL 392.834207 60.204668 \nL 400.337308 65.568828 \nL 397.60625 62.350999 \nL 394.020833 59.337356 \nL 387.433423 54.856816 \nL 380.016561 51.502516 \nL 382.525966 53.627137 \nz\n\" style=\"fill:#8a7878;fill-opacity:0.2;\"/>\n    <path clip-path=\"url(#p1cf457e3f2)\" d=\"M 359.728999 46.540571 \nL 366.774321 46.505709 \nL 373.331559 47.791916 \nL 369.274052 46.261601 \nL 364.828541 44.978868 \nL 360.234624 44.338629 \nL 355.286521 45.061944 \nL 357.614008 45.737097 \nz\n\" style=\"fill:#a48e8e;fill-opacity:0.2;\"/>\n    <path clip-path=\"url(#p1cf457e3f2)\" d=\"M 334.036213 45.061944 \nL 329.08811 44.338629 \nL 324.494194 44.978868 \nL 320.048682 46.261601 \nL 315.991176 47.791916 \nL 322.548413 46.505709 \nL 329.593735 46.540571 \nL 331.708727 45.737097 \nz\n\" style=\"fill:#c7acac;fill-opacity:0.2;\"/>\n    <path clip-path=\"url(#p1cf457e3f2)\" d=\"M 403.009472 72.414731 \nL 409.877677 79.607826 \nL 415.553871 87.49942 \nL 414.422235 83.17216 \nL 412.13117 78.981493 \nL 406.802198 71.869566 \nL 400.337308 65.568828 \nL 402.154089 68.941348 \nz\n\" style=\"fill:#766666;fill-opacity:0.2;\"/>\n    <path clip-path=\"url(#p1cf457e3f2)\" d=\"M 329.593735 46.540571 \nL 322.548413 46.505709 \nL 315.991176 47.791916 \nL 312.389556 49.547565 \nL 309.306174 51.502516 \nL 317.435188 49.356339 \nL 326.140869 48.479827 \nL 327.72705 47.459694 \nz\n\" style=\"fill:#cfb3b3;fill-opacity:0.2;\"/>\n    <path clip-path=\"url(#p1cf457e3f2)\" d=\"M 363.181865 48.479827 \nL 371.887547 49.356339 \nL 380.016561 51.502516 \nL 376.933178 49.547565 \nL 373.331559 47.791916 \nL 366.774321 46.505709 \nL 359.728999 46.540571 \nL 361.595684 47.459694 \nz\n\" style=\"fill:#a18c8c;fill-opacity:0.2;\"/>\n    <path clip-path=\"url(#p1cf457e3f2)\" d=\"M 416.565781 143.702689 \nL 415.569212 152.750199 \nL 413.343443 161.175786 \nL 417.381277 156.271517 \nL 420.092527 151.172862 \nL 422.498364 142.561452 \nL 423.574782 133.518065 \nL 420.766234 138.707507 \nz\n\" style=\"fill:#615454;fill-opacity:0.2;\"/>\n    <path clip-path=\"url(#p1cf457e3f2)\" d=\"M 414.175887 96.275489 \nL 418.556189 105.403106 \nL 421.604928 114.76949 \nL 422.986543 109.76927 \nL 423.005203 104.765922 \nL 419.95019 95.938106 \nL 415.553871 87.49942 \nL 415.480483 91.892324 \nz\n\" style=\"fill:#6a5c5c;fill-opacity:0.2;\"/>\n    <path clip-path=\"url(#p1cf457e3f2)\" d=\"M 386.1754 60.674624 \nL 395.062814 66.061275 \nL 403.009472 72.414731 \nL 402.154089 68.941348 \nL 400.337308 65.568828 \nL 392.834207 60.204668 \nL 384.413374 55.888454 \nL 385.639602 58.250477 \nz\n\" style=\"fill:#8b7979;fill-opacity:0.2;\"/>\n    <path clip-path=\"url(#p1cf457e3f2)\" d=\"M 365.405339 50.755824 \nL 375.216699 52.714265 \nL 384.413374 55.888454 \nL 382.525966 53.627137 \nL 380.016561 51.502516 \nL 371.887547 49.356339 \nL 363.181865 48.479827 \nL 364.45952 49.584539 \nz\n\" style=\"fill:#a18c8c;fill-opacity:0.2;\"/>\n    <path clip-path=\"url(#p1cf457e3f2)\" d=\"M 344.661367 50.663615 \nL 347.456146 46.698771 \nL 350.151869 44.136592 \nL 347.429088 43.900727 \nL 344.661367 43.821701 \nL 344.661367 46.537672 \nL 344.661367 50.663615 \nL 344.661367 50.663615 \nz\n\" style=\"fill:#ac9595;fill-opacity:0.2;\"/>\n    <path clip-path=\"url(#p1cf457e3f2)\" d=\"M 344.661367 50.663615 \nL 344.661367 46.537672 \nL 344.661367 43.821701 \nL 341.893646 43.900727 \nL 339.170865 44.136592 \nL 341.866589 46.698771 \nL 344.661367 50.663615 \nL 344.661367 50.663615 \nz\n\" style=\"fill:#ad9696;fill-opacity:0.2;\"/>\n    <path clip-path=\"url(#p1cf457e3f2)\" d=\"M 414.742388 124.398168 \nL 416.294553 134.193704 \nL 416.565781 143.702689 \nL 420.766234 138.707507 \nL 423.574782 133.518065 \nL 423.28187 124.198741 \nL 421.604928 114.76949 \nL 418.851115 119.676635 \nz\n\" style=\"fill:#695b5b;fill-opacity:0.2;\"/>\n    <path clip-path=\"url(#p1cf457e3f2)\" d=\"M 344.661367 50.663615 \nL 350.065207 47.171646 \nL 355.286521 45.061944 \nL 352.785383 44.525667 \nL 350.151869 44.136592 \nL 347.456146 46.698771 \nL 344.661367 50.663615 \nL 344.661367 50.663615 \nz\n\" style=\"fill:#ad9696;fill-opacity:0.2;\"/>\n    <path clip-path=\"url(#p1cf457e3f2)\" d=\"M 344.661367 50.663615 \nL 341.866589 46.698771 \nL 339.170865 44.136592 \nL 336.537352 44.525667 \nL 334.036213 45.061944 \nL 339.257528 47.171646 \nL 344.661367 50.663615 \nL 344.661367 50.663615 \nz\n\" style=\"fill:#af9898;fill-opacity:0.2;\"/>\n    <path clip-path=\"url(#p1cf457e3f2)\" d=\"M 401.722325 79.430936 \nL 408.532533 87.56156 \nL 414.175887 96.275489 \nL 415.480483 91.892324 \nL 415.553871 87.49942 \nL 409.877677 79.607826 \nL 403.009472 72.414731 \nL 402.870945 75.931423 \nz\n\" style=\"fill:#7b6b6b;fill-opacity:0.2;\"/>\n    <path clip-path=\"url(#p1cf457e3f2)\" d=\"M 344.661367 50.663615 \nL 352.314243 47.925595 \nL 359.728999 46.540571 \nL 357.614008 45.737097 \nL 355.286521 45.061944 \nL 350.065207 47.171646 \nL 344.661367 50.663615 \nL 344.661367 50.663615 \nz\n\" style=\"fill:#b09898;fill-opacity:0.2;\"/>\n    <path clip-path=\"url(#p1cf457e3f2)\" d=\"M 344.661367 50.663615 \nL 339.257528 47.171646 \nL 334.036213 45.061944 \nL 331.708727 45.737097 \nL 329.593735 46.540571 \nL 337.008491 47.925595 \nL 344.661367 50.663615 \nL 344.661367 50.663615 \nz\n\" style=\"fill:#b39b9b;fill-opacity:0.2;\"/>\n    <path clip-path=\"url(#p1cf457e3f2)\" d=\"M 366.234657 53.219704 \nL 376.506679 56.364441 \nL 386.1754 60.674624 \nL 385.639602 58.250477 \nL 384.413374 55.888454 \nL 375.216699 52.714265 \nL 365.405339 50.755824 \nL 366.00121 51.974342 \nz\n\" style=\"fill:#a38d8d;fill-opacity:0.2;\"/>\n    <path clip-path=\"url(#p1cf457e3f2)\" d=\"M 344.661367 50.663615 \nL 354.05131 48.911333 \nL 363.181865 48.479827 \nL 361.595684 47.459694 \nL 359.728999 46.540571 \nL 352.314243 47.925595 \nL 344.661367 50.663615 \nL 344.661367 50.663615 \nz\n\" style=\"fill:#b39b9b;fill-opacity:0.2;\"/>\n    <path clip-path=\"url(#p1cf457e3f2)\" d=\"M 344.661367 50.663615 \nL 337.008491 47.925595 \nL 329.593735 46.540571 \nL 327.72705 47.459694 \nL 326.140869 48.479827 \nL 335.271424 48.911333 \nL 344.661367 50.663615 \nL 344.661367 50.663615 \nz\n\" style=\"fill:#b79f9f;fill-opacity:0.2;\"/>\n    <path clip-path=\"url(#p1cf457e3f2)\" d=\"M 344.661367 50.663615 \nL 355.156815 50.063798 \nL 365.405339 50.755824 \nL 364.45952 49.584539 \nL 363.181865 48.479827 \nL 354.05131 48.911333 \nL 344.661367 50.663615 \nL 344.661367 50.663615 \nz\n\" style=\"fill:#b89f9f;fill-opacity:0.2;\"/>\n    <path clip-path=\"url(#p1cf457e3f2)\" d=\"M 385.11444 65.545202 \nL 393.867612 72.043519 \nL 401.722325 79.430936 \nL 402.870945 75.931423 \nL 403.009472 72.414731 \nL 395.062814 66.061275 \nL 386.1754 60.674624 \nL 386.00248 63.120237 \nz\n\" style=\"fill:#907d7d;fill-opacity:0.2;\"/>\n    <path clip-path=\"url(#p1cf457e3f2)\" d=\"M 344.661367 50.663615 \nL 355.55197 51.306024 \nL 366.234657 53.219704 \nL 366.00121 51.974342 \nL 365.405339 50.755824 \nL 355.156815 50.063798 \nL 344.661367 50.663615 \nL 344.661367 50.663615 \nz\n\" style=\"fill:#bda4a4;fill-opacity:0.2;\"/>\n    <path clip-path=\"url(#p1cf457e3f2)\" d=\"M 407.879026 104.696306 \nL 411.923249 114.501722 \nL 414.742388 124.398168 \nL 418.851115 119.676635 \nL 421.604928 114.76949 \nL 418.556189 105.403106 \nL 414.175887 96.275489 \nL 411.635635 100.570285 \nz\n\" style=\"fill:#756666;fill-opacity:0.2;\"/>\n    <path clip-path=\"url(#p1cf457e3f2)\" d=\"M 365.594651 55.706068 \nL 375.62922 60.063896 \nL 385.11444 65.545202 \nL 386.00248 63.120237 \nL 386.1754 60.674624 \nL 376.506679 56.364441 \nL 366.234657 53.219704 \nL 366.099204 54.470784 \nz\n\" style=\"fill:#a79191;fill-opacity:0.2;\"/>\n    <path clip-path=\"url(#p1cf457e3f2)\" d=\"M 344.661367 50.663615 \nL 355.205059 52.55396 \nL 365.594651 55.706068 \nL 366.099204 54.470784 \nL 366.234657 53.219704 \nL 355.55197 51.306024 \nL 344.661367 50.663615 \nL 344.661367 50.663615 \nz\n\" style=\"fill:#c3a9a9;fill-opacity:0.2;\"/>\n    <path clip-path=\"url(#p1cf457e3f2)\" d=\"M 344.661367 50.663615 \nL 354.134872 53.722025 \nL 363.509781 58.043503 \nL 364.727254 56.904027 \nL 365.594651 55.706068 \nL 355.205059 52.55396 \nL 344.661367 50.663615 \nL 344.661367 50.663615 \nz\n\" style=\"fill:#c9aeae;fill-opacity:0.2;\"/>\n    <path clip-path=\"url(#p1cf457e3f2)\" d=\"M 396.420742 86.127942 \nL 402.679407 95.17523 \nL 407.879026 104.696306 \nL 411.635635 100.570285 \nL 414.175887 96.275489 \nL 408.532533 87.56156 \nL 401.722325 79.430936 \nL 399.56531 82.85084 \nz\n\" style=\"fill:#857373;fill-opacity:0.2;\"/>\n    <path clip-path=\"url(#p1cf457e3f2)\" d=\"M 363.509781 58.043503 \nL 372.602143 63.556481 \nL 381.231096 70.161816 \nL 383.517513 67.90666 \nL 385.11444 65.545202 \nL 375.62922 60.063896 \nL 365.594651 55.706068 \nL 364.727254 56.904027 \nz\n\" style=\"fill:#ad9696;fill-opacity:0.2;\"/>\n    <path clip-path=\"url(#p1cf457e3f2)\" d=\"M 381.231096 70.161816 \nL 389.223884 77.73476 \nL 396.420742 86.127942 \nL 399.56531 82.85084 \nL 401.722325 79.430936 \nL 393.867612 72.043519 \nL 385.11444 65.545202 \nL 383.517513 67.90666 \nz\n\" style=\"fill:#988383;fill-opacity:0.2;\"/>\n   </g>\n   <g id=\"text_6\">\n    <!-- $x$ -->\n    <g transform=\"translate(286.96151 173.237812)scale(0.2 -0.2)\">\n     <use transform=\"translate(0 0.3125)\" xlink:href=\"#DejaVuSans-Oblique-120\"/>\n    </g>\n   </g>\n   <g id=\"text_7\">\n    <!-- $y$ -->\n    <g transform=\"translate(425.533437 153.501604)scale(0.2 -0.2)\">\n     <use transform=\"translate(0 0.3125)\" xlink:href=\"#DejaVuSans-Oblique-121\"/>\n    </g>\n   </g>\n   <g id=\"text_8\">\n    <!-- $\\left|0\\right&gt;$ -->\n    <g transform=\"translate(330.961367 40.82177)scale(0.2 -0.2)\">\n     <use transform=\"translate(0 0.578125)\" xlink:href=\"#DejaVuSans-124\"/>\n     <use transform=\"translate(33.691406 0.578125)\" xlink:href=\"#DejaVuSans-48\"/>\n     <use transform=\"translate(97.314453 0.578125)\" xlink:href=\"#DejaVuSans-10217\"/>\n    </g>\n   </g>\n   <g id=\"text_9\">\n    <!-- $\\left|1\\right&gt;$ -->\n    <g transform=\"translate(330.961367 208.097425)scale(0.2 -0.2)\">\n     <use transform=\"translate(0 0.578125)\" xlink:href=\"#DejaVuSans-124\"/>\n     <use transform=\"translate(33.691406 0.578125)\" xlink:href=\"#DejaVuSans-49\"/>\n     <use transform=\"translate(97.314453 0.578125)\" xlink:href=\"#DejaVuSans-10217\"/>\n    </g>\n   </g>\n   <g id=\"text_10\">\n    <!-- qubit 1 -->\n    <g transform=\"translate(306.726562 22.396875)scale(0.2 -0.2)\">\n     <use xlink:href=\"#DejaVuSans-113\"/>\n     <use x=\"63.476562\" xlink:href=\"#DejaVuSans-117\"/>\n     <use x=\"126.855469\" xlink:href=\"#DejaVuSans-98\"/>\n     <use x=\"190.332031\" xlink:href=\"#DejaVuSans-105\"/>\n     <use x=\"218.115234\" xlink:href=\"#DejaVuSans-116\"/>\n     <use x=\"257.324219\" xlink:href=\"#DejaVuSans-32\"/>\n     <use x=\"289.111328\" xlink:href=\"#DejaVuSans-49\"/>\n    </g>\n   </g>\n   <g id=\"Line3DCollection_3\">\n    <path clip-path=\"url(#p1cf457e3f2)\" d=\"M 344.661367 50.663615 \nL 354.134872 53.722025 \nL 363.509781 58.043503 \nL 372.602143 63.556481 \nL 381.231096 70.161816 \nL 389.223884 77.73476 \nL 396.420742 86.127942 \nL 402.679407 95.17523 \nL 407.879026 104.696306 \nL 411.923249 114.501722 \nL 414.742388 124.398168 \nL 416.294553 134.193704 \nL 416.565781 143.702689 \nL 415.569212 152.750199 \nL 413.343443 161.175786 \nL 409.950205 168.836459 \nL 405.471567 175.608851 \nL 400.006831 181.390599 \nL 393.669302 186.10098 \nL 386.5831 189.680899 \nL 378.880105 192.092364 \nL 370.697166 193.317539 \nL 362.173591 193.357525 \nL 353.448978 192.230968 \nL 344.661367 189.97259 \n\" style=\"fill:none;stroke:#808080;stroke-opacity:0.2;stroke-width:1.5;\"/>\n    <path clip-path=\"url(#p1cf457e3f2)\" d=\"M 344.661367 50.663615 \nL 355.446327 50.67884 \nL 366.00121 51.974342 \nL 376.127835 54.517506 \nL 385.639602 58.250477 \nL 394.365611 63.092249 \nL 402.154089 68.941348 \nL 408.875063 75.67893 \nL 414.422235 83.17216 \nL 418.714066 91.277696 \nL 421.694129 99.845133 \nL 423.33082 108.720309 \nL 423.616522 117.748351 \nL 422.566339 126.776415 \nL 420.216523 135.656083 \nL 416.622695 144.245405 \nL 411.857957 152.410586 \nL 406.010974 160.027373 \nL 399.184085 166.982148 \nL 391.491491 173.172802 \nL 383.05753 178.50942 \nL 374.01506 182.914833 \nL 364.50393 186.325075 \nL 354.669526 188.689786 \nL 344.661367 189.97259 \n\" style=\"fill:none;stroke:#808080;stroke-opacity:0.2;stroke-width:1.5;\"/>\n    <path clip-path=\"url(#p1cf457e3f2)\" d=\"M 344.661367 50.663615 \nL 352.314243 47.925595 \nL 359.728999 46.540571 \nL 366.774321 46.505709 \nL 373.331559 47.791916 \nL 379.296397 50.346543 \nL 384.579871 54.096437 \nL 389.108809 58.951145 \nL 392.825775 64.806089 \nL 395.688648 71.54559 \nL 397.669905 79.045623 \nL 398.755748 87.176265 \nL 398.945127 95.803793 \nL 398.248764 104.792445 \nL 396.688212 114.005869 \nL 394.295 123.308293 \nL 391.109892 132.565477 \nL 387.182261 141.645502 \nL 382.569585 150.419459 \nL 377.337056 158.762102 \nL 371.557258 166.552527 \nL 365.309913 173.674931 \nL 358.681632 180.019509 \nL 351.765632 185.483523 \nL 344.661367 189.97259 \n\" style=\"fill:none;stroke:#808080;stroke-opacity:0.2;stroke-width:1.5;\"/>\n    <path clip-path=\"url(#p1cf457e3f2)\" d=\"M 344.661367 50.663615 \nL 346.070499 46.578111 \nL 347.429088 43.900727 \nL 348.713925 42.640641 \nL 349.904479 42.779424 \nL 350.983088 44.274265 \nL 351.935018 47.061454 \nL 352.74842 51.059874 \nL 353.414219 56.174319 \nL 353.925943 62.298524 \nL 354.279531 69.3178 \nL 354.473126 77.111263 \nL 354.506877 85.553637 \nL 354.382753 94.51666 \nL 354.104388 103.870141 \nL 353.676953 113.482729 \nL 353.107061 123.222452 \nL 352.4027 132.957106 \nL 351.573205 142.554566 \nL 350.629244 151.883099 \nL 349.58283 160.81175 \nL 348.447349 169.210881 \nL 347.237579 176.952932 \nL 345.969716 183.91347 \nL 344.661367 189.97259 \n\" style=\"fill:none;stroke:#808080;stroke-opacity:0.2;stroke-width:1.5;\"/>\n    <path clip-path=\"url(#p1cf457e3f2)\" d=\"M 344.661367 50.663615 \nL 339.257528 47.171646 \nL 334.036213 45.061944 \nL 329.08811 44.338629 \nL 324.494194 44.978868 \nL 320.324813 46.935848 \nL 316.63924 50.14205 \nL 313.485629 54.512597 \nL 310.901281 59.948494 \nL 308.913144 66.339636 \nL 307.538456 73.567485 \nL 306.785467 81.507384 \nL 306.65417 90.030474 \nL 307.137003 99.005256 \nL 308.219477 108.29881 \nL 309.880713 117.777738 \nL 312.093875 127.308889 \nL 314.826499 136.75993 \nL 318.040714 145.999835 \nL 321.693382 154.899358 \nL 325.736165 163.331574 \nL 330.115554 171.172535 \nL 334.772891 178.302118 \nL 339.64441 184.605111 \nL 344.661367 189.97259 \n\" style=\"fill:none;stroke:#808080;stroke-opacity:0.2;stroke-width:1.5;\"/>\n    <path clip-path=\"url(#p1cf457e3f2)\" d=\"M 344.661367 50.663615 \nL 335.271424 48.911333 \nL 326.140869 48.479827 \nL 317.435188 49.356339 \nL 309.306174 51.502516 \nL 301.889312 54.856816 \nL 295.301901 59.337356 \nL 289.641901 64.844999 \nL 284.98742 71.266518 \nL 281.396769 78.477701 \nL 278.908945 86.346275 \nL 277.544467 94.734585 \nL 277.306418 103.501973 \nL 278.181636 112.50685 \nL 280.141935 121.608446 \nL 283.145319 130.6683 \nL 287.137129 139.55149 \nL 292.051096 148.127677 \nL 297.810289 156.27201 \nL 304.32796 163.865941 \nL 311.5083 170.798004 \nL 319.247129 176.964613 \nL 327.432564 182.270914 \nL 335.945702 186.631724 \nL 344.661367 189.97259 \n\" style=\"fill:none;stroke:#808080;stroke-opacity:0.2;stroke-width:1.5;\"/>\n    <path clip-path=\"url(#p1cf457e3f2)\" d=\"M 344.661367 50.663615 \nL 344.661367 50.663615 \nL 344.661367 50.663615 \nL 344.661367 50.663615 \nL 344.661367 50.663615 \nL 344.661367 50.663615 \nL 344.661367 50.663615 \nL 344.661367 50.663615 \nL 344.661367 50.663615 \nL 344.661367 50.663615 \nL 344.661367 50.663615 \nL 344.661367 50.663615 \nL 344.661367 50.663615 \nL 344.661367 50.663615 \nL 344.661367 50.663615 \nL 344.661367 50.663615 \nL 344.661367 50.663615 \nL 344.661367 50.663615 \nL 344.661367 50.663615 \nL 344.661367 50.663615 \nL 344.661367 50.663615 \nL 344.661367 50.663615 \nL 344.661367 50.663615 \nL 344.661367 50.663615 \nL 344.661367 50.663615 \n\" style=\"fill:none;stroke:#808080;stroke-opacity:0.2;stroke-width:1.5;\"/>\n    <path clip-path=\"url(#p1cf457e3f2)\" d=\"M 389.223884 77.73476 \nL 391.968525 74.952111 \nL 393.867612 72.043519 \nL 394.900496 69.062252 \nL 395.062814 66.061275 \nL 394.365611 63.092249 \nL 392.834207 60.204668 \nL 390.506874 57.44514 \nL 387.433423 54.856816 \nL 383.673749 52.478943 \nL 379.296397 50.346543 \nL 374.377187 48.490187 \nL 368.997922 46.935848 \nL 363.245188 45.704822 \nL 357.209259 44.813682 \nL 350.983088 44.274265 \nL 344.661367 44.09367 \nL 338.339646 44.274265 \nL 332.113475 44.813682 \nL 326.077547 45.704822 \nL 320.324813 46.935848 \nL 314.945547 48.490187 \nL 310.026338 50.346543 \nL 305.648986 52.478943 \nL 301.889312 54.856816 \n\" style=\"fill:none;stroke:#808080;stroke-opacity:0.2;stroke-width:1.5;\"/>\n    <path clip-path=\"url(#p1cf457e3f2)\" d=\"M 414.742388 124.398168 \nL 418.851115 119.676635 \nL 421.604928 114.76949 \nL 422.986543 109.76927 \nL 423.005203 104.765922 \nL 421.694129 99.845133 \nL 419.107668 95.087028 \nL 415.318316 90.565234 \nL 410.413789 86.346275 \nL 404.494269 82.489229 \nL 397.669905 79.045623 \nL 390.058627 76.059481 \nL 381.784279 73.567485 \nL 372.975074 71.599196 \nL 363.762345 70.177295 \nL 354.279531 69.3178 \nL 344.661367 69.030246 \nL 335.043204 69.3178 \nL 325.56039 70.177295 \nL 316.34766 71.599196 \nL 307.538456 73.567485 \nL 299.264107 76.059481 \nL 291.652829 79.045623 \nL 284.828466 82.489229 \nL 278.908945 86.346275 \n\" style=\"fill:none;stroke:#808080;stroke-opacity:0.2;stroke-width:1.5;\"/>\n    <path clip-path=\"url(#p1cf457e3f2)\" d=\"M 409.950205 168.836459 \nL 413.814215 164.118029 \nL 416.420171 159.208863 \nL 417.749295 154.201074 \nL 417.807394 149.184576 \nL 416.622695 144.245405 \nL 414.243362 139.464377 \nL 410.734876 134.916102 \nL 406.177416 130.6683 \nL 400.663362 126.781389 \nL 394.295 123.308293 \nL 387.182476 120.294417 \nL 379.442022 117.777738 \nL 371.194461 115.788964 \nL 362.563951 114.35172 \nL 353.676953 113.482729 \nL 344.661367 113.191962 \nL 335.645782 113.482729 \nL 326.758784 114.35172 \nL 318.128274 115.788964 \nL 309.880713 117.777738 \nL 302.140259 120.294417 \nL 295.027734 123.308293 \nL 288.659373 126.781389 \nL 283.145319 130.6683 \n\" style=\"fill:none;stroke:#808080;stroke-opacity:0.2;stroke-width:1.5;\"/>\n    <path clip-path=\"url(#p1cf457e3f2)\" d=\"M 378.880105 192.092364 \nL 381.028918 189.523568 \nL 382.533804 186.832264 \nL 383.375941 184.067068 \nL 383.548765 181.27677 \nL 383.05753 178.50942 \nL 381.918652 175.811511 \nL 380.158892 173.22726 \nL 377.814435 170.798004 \nL 374.929889 168.5617 \nL 371.557258 166.552527 \nL 367.75491 164.800566 \nL 363.58657 163.331574 \nL 359.120332 162.166803 \nL 354.42773 161.322885 \nL 349.58283 160.81175 \nL 344.661367 160.640573 \nL 339.739904 160.81175 \nL 334.895004 161.322885 \nL 330.202402 162.166803 \nL 325.736165 163.331574 \nL 321.567824 164.800566 \nL 317.765477 166.552527 \nL 314.392846 168.5617 \nL 311.5083 170.798004 \n\" style=\"fill:none;stroke:#808080;stroke-opacity:0.2;stroke-width:1.5;\"/>\n    <path clip-path=\"url(#p1cf457e3f2)\" d=\"M 344.661367 189.97259 \nL 344.661367 189.97259 \nL 344.661367 189.97259 \nL 344.661367 189.97259 \nL 344.661367 189.97259 \nL 344.661367 189.97259 \nL 344.661367 189.97259 \nL 344.661367 189.97259 \nL 344.661367 189.97259 \nL 344.661367 189.97259 \nL 344.661367 189.97259 \nL 344.661367 189.97259 \nL 344.661367 189.97259 \nL 344.661367 189.97259 \nL 344.661367 189.97259 \nL 344.661367 189.97259 \nL 344.661367 189.97259 \nL 344.661367 189.97259 \nL 344.661367 189.97259 \nL 344.661367 189.97259 \nL 344.661367 189.97259 \nL 344.661367 189.97259 \nL 344.661367 189.97259 \nL 344.661367 189.97259 \nL 344.661367 189.97259 \n\" style=\"fill:none;stroke:#808080;stroke-opacity:0.2;stroke-width:1.5;\"/>\n   </g>\n   <g id=\"Line3DCollection_4\">\n    <path clip-path=\"url(#p1cf457e3f2)\" d=\"M 344.661367 50.663615 \nL 335.271424 48.911333 \nL 326.140869 48.479827 \nL 317.435188 49.356339 \nL 309.306174 51.502516 \nL 301.889312 54.856816 \nL 295.301901 59.337356 \nL 289.641901 64.844999 \nL 284.98742 71.266518 \nL 281.396769 78.477701 \nL 278.908945 86.346275 \nL 277.544467 94.734585 \nL 277.306418 103.501973 \nL 278.181636 112.50685 \nL 280.141935 121.608446 \nL 283.145319 130.6683 \nL 287.137129 139.55149 \nL 292.051096 148.127677 \nL 297.810289 156.27201 \nL 304.32796 163.865941 \nL 311.5083 170.798004 \nL 319.247129 176.964613 \nL 327.432564 182.270914 \nL 335.945702 186.631724 \nL 344.661367 189.97259 \n\" style=\"fill:none;stroke:#808080;stroke-opacity:0.2;stroke-width:1.5;\"/>\n    <path clip-path=\"url(#p1cf457e3f2)\" d=\"M 344.661367 50.663615 \nL 333.851434 51.93466 \nL 323.223531 54.470784 \nL 312.98137 58.223908 \nL 303.320254 63.120237 \nL 294.422238 69.062252 \nL 286.451789 75.931423 \nL 279.55211 83.591517 \nL 273.842252 91.892324 \nL 269.415091 100.673633 \nL 266.336191 109.76927 \nL 264.643517 119.011036 \nL 264.347919 128.232406 \nL 265.434298 137.271866 \nL 267.863303 145.975831 \nL 271.573439 154.201074 \nL 276.483445 161.816683 \nL 282.494815 168.705544 \nL 289.494359 174.765398 \nL 297.356724 179.909517 \nL 305.946794 184.067068 \nL 315.121941 187.183223 \nL 324.734107 189.219082 \nL 334.631708 190.151459 \nL 344.661367 189.97259 \n\" style=\"fill:none;stroke:#808080;stroke-opacity:0.2;stroke-width:1.5;\"/>\n    <path clip-path=\"url(#p1cf457e3f2)\" d=\"M 344.661367 50.663615 \nL 336.912 54.729074 \nL 329.215061 60.066693 \nL 321.723131 66.591112 \nL 314.588351 74.187679 \nL 307.958021 82.714452 \nL 301.970125 92.005413 \nL 296.749032 101.874796 \nL 292.401625 112.122326 \nL 289.014084 122.539117 \nL 286.649507 132.913885 \nL 285.346493 143.039136 \nL 285.11872 152.716996 \nL 285.955503 161.76438 \nL 287.823214 170.017292 \nL 290.667429 177.334087 \nL 294.41561 183.597666 \nL 298.980117 188.716614 \nL 304.261364 192.625371 \nL 310.150955 195.28359 \nL 316.534639 196.674839 \nL 323.295001 196.804836 \nL 330.313814 195.699388 \nL 337.474025 193.402185 \nL 344.661367 189.97259 \n\" style=\"fill:none;stroke:#808080;stroke-opacity:0.2;stroke-width:1.5;\"/>\n    <path clip-path=\"url(#p1cf457e3f2)\" d=\"M 344.661367 50.663615 \nL 343.227261 56.117731 \nL 341.795624 62.868725 \nL 340.395142 70.811817 \nL 339.054978 79.809723 \nL 337.803891 89.694698 \nL 336.669296 100.272157 \nL 335.676311 111.325802 \nL 334.846857 122.624034 \nL 334.198873 133.927321 \nL 333.745698 144.996053 \nL 333.495668 155.598406 \nL 333.451939 165.517702 \nL 333.612555 174.55882 \nL 333.97073 182.553324 \nL 334.515315 189.363088 \nL 335.231409 194.88235 \nL 336.101056 199.038261 \nL 337.103976 201.790091 \nL 338.218287 203.127356 \nL 339.421186 203.067123 \nL 340.689548 201.650812 \nL 342.000436 198.94075 \nL 343.331515 195.016704 \nL 344.661367 189.97259 \n\" style=\"fill:none;stroke:#808080;stroke-opacity:0.2;stroke-width:1.5;\"/>\n    <path clip-path=\"url(#p1cf457e3f2)\" d=\"M 344.661367 50.663615 \nL 350.148772 55.504336 \nL 355.614488 61.629269 \nL 360.94946 68.942254 \nL 366.043769 77.31617 \nL 370.78989 86.594961 \nL 375.086111 96.597071 \nL 378.839908 107.120191 \nL 381.971073 117.94712 \nL 384.414393 128.852434 \nL 386.121696 139.609565 \nL 387.063153 149.997867 \nL 387.227771 159.809259 \nL 386.623073 168.854054 \nL 385.274055 176.965705 \nL 383.221509 184.004281 \nL 380.519901 189.858607 \nL 377.234946 194.447112 \nL 373.441064 197.717518 \nL 369.218863 199.645559 \nL 364.652774 200.232958 \nL 359.828922 199.504904 \nL 354.833302 197.507248 \nL 349.750273 194.303614 \nL 344.661367 189.97259 \n\" style=\"fill:none;stroke:#808080;stroke-opacity:0.2;stroke-width:1.5;\"/>\n    <path clip-path=\"url(#p1cf457e3f2)\" d=\"M 344.661367 50.663615 \nL 354.134872 53.722025 \nL 363.509781 58.043503 \nL 372.602143 63.556481 \nL 381.231096 70.161816 \nL 389.223884 77.73476 \nL 396.420742 86.127942 \nL 402.679407 95.17523 \nL 407.879026 104.696306 \nL 411.923249 114.501722 \nL 414.742388 124.398168 \nL 416.294553 134.193704 \nL 416.565781 143.702689 \nL 415.569212 152.750199 \nL 413.343443 161.175786 \nL 409.950205 168.836459 \nL 405.471567 175.608851 \nL 400.006831 181.390599 \nL 393.669302 186.10098 \nL 386.5831 189.680899 \nL 378.880105 192.092364 \nL 370.697166 193.317539 \nL 362.173591 193.357525 \nL 353.448978 192.230968 \nL 344.661367 189.97259 \n\" style=\"fill:none;stroke:#808080;stroke-opacity:0.2;stroke-width:1.5;\"/>\n    <path clip-path=\"url(#p1cf457e3f2)\" d=\"M 344.661367 50.663615 \nL 344.661367 50.663615 \nL 344.661367 50.663615 \nL 344.661367 50.663615 \nL 344.661367 50.663615 \nL 344.661367 50.663615 \nL 344.661367 50.663615 \nL 344.661367 50.663615 \nL 344.661367 50.663615 \nL 344.661367 50.663615 \nL 344.661367 50.663615 \nL 344.661367 50.663615 \nL 344.661367 50.663615 \nL 344.661367 50.663615 \nL 344.661367 50.663615 \nL 344.661367 50.663615 \nL 344.661367 50.663615 \nL 344.661367 50.663615 \nL 344.661367 50.663615 \nL 344.661367 50.663615 \nL 344.661367 50.663615 \nL 344.661367 50.663615 \nL 344.661367 50.663615 \nL 344.661367 50.663615 \nL 344.661367 50.663615 \n\" style=\"fill:none;stroke:#808080;stroke-opacity:0.2;stroke-width:1.5;\"/>\n    <path clip-path=\"url(#p1cf457e3f2)\" d=\"M 301.889312 54.856816 \nL 298.815861 57.44514 \nL 296.488528 60.204668 \nL 294.957123 63.092249 \nL 294.259921 66.061275 \nL 294.422238 69.062252 \nL 295.455122 72.043519 \nL 297.354209 74.952111 \nL 300.09885 77.73476 \nL 303.65158 80.339014 \nL 307.958021 82.714452 \nL 312.947271 84.813953 \nL 318.532844 86.594961 \nL 324.614155 88.020707 \nL 331.078563 89.061307 \nL 337.803891 89.694698 \nL 344.661367 89.90735 \nL 351.518843 89.694698 \nL 358.244172 89.061307 \nL 364.708579 88.020707 \nL 370.78989 86.594961 \nL 376.375463 84.813953 \nL 381.364714 82.714452 \nL 385.671154 80.339014 \nL 389.223884 77.73476 \n\" style=\"fill:none;stroke:#808080;stroke-opacity:0.2;stroke-width:1.5;\"/>\n    <path clip-path=\"url(#p1cf457e3f2)\" d=\"M 278.908945 86.346275 \nL 274.004418 90.565234 \nL 270.215066 95.087028 \nL 267.628606 99.845133 \nL 266.317532 104.765922 \nL 266.336191 109.76927 \nL 267.717807 114.76949 \nL 270.471619 119.676635 \nL 274.580346 124.398168 \nL 279.998172 128.841006 \nL 286.649507 132.913885 \nL 294.428723 136.529964 \nL 303.201039 139.609565 \nL 312.804679 142.082903 \nL 323.054312 143.892631 \nL 333.745698 144.996053 \nL 344.661367 145.366828 \nL 355.577036 144.996053 \nL 366.268423 143.892631 \nL 376.518056 142.082903 \nL 386.121696 139.609565 \nL 394.894012 136.529964 \nL 402.673227 132.913885 \nL 409.324562 128.841006 \nL 414.742388 124.398168 \n\" style=\"fill:none;stroke:#808080;stroke-opacity:0.2;stroke-width:1.5;\"/>\n    <path clip-path=\"url(#p1cf457e3f2)\" d=\"M 283.145319 130.6683 \nL 278.587859 134.916102 \nL 275.079372 139.464377 \nL 272.700039 144.245405 \nL 271.51534 149.184576 \nL 271.573439 154.201074 \nL 272.902563 159.208863 \nL 275.508519 164.118029 \nL 279.372529 168.836459 \nL 284.449574 173.271863 \nL 290.667429 177.334087 \nL 297.926593 180.937631 \nL 306.101226 184.004281 \nL 315.041201 186.465702 \nL 324.575278 188.265857 \nL 334.515315 189.363088 \nL 344.661367 189.731722 \nL 354.80742 189.363088 \nL 364.747457 188.265857 \nL 374.281534 186.465702 \nL 383.221509 184.004281 \nL 391.396141 180.937631 \nL 398.655305 177.334087 \nL 404.873161 173.271863 \nL 409.950205 168.836459 \n\" style=\"fill:none;stroke:#808080;stroke-opacity:0.2;stroke-width:1.5;\"/>\n    <path clip-path=\"url(#p1cf457e3f2)\" d=\"M 311.5083 170.798004 \nL 309.163843 173.22726 \nL 307.404083 175.811511 \nL 306.265204 178.50942 \nL 305.773969 181.27677 \nL 305.946794 184.067068 \nL 306.788931 186.832264 \nL 308.293817 189.523568 \nL 310.442629 192.092364 \nL 313.204101 194.491201 \nL 316.534639 196.674839 \nL 320.378771 198.601308 \nL 324.669961 200.232958 \nL 329.33176 201.537437 \nL 334.279318 202.488577 \nL 339.421186 203.067123 \nL 344.661367 203.261293 \nL 349.901549 203.067123 \nL 355.043416 202.488577 \nL 359.990975 201.537437 \nL 364.652774 200.232958 \nL 368.943963 198.601308 \nL 372.788096 196.674839 \nL 376.118633 194.491201 \nL 378.880105 192.092364 \n\" style=\"fill:none;stroke:#808080;stroke-opacity:0.2;stroke-width:1.5;\"/>\n    <path clip-path=\"url(#p1cf457e3f2)\" d=\"M 344.661367 189.97259 \nL 344.661367 189.97259 \nL 344.661367 189.97259 \nL 344.661367 189.97259 \nL 344.661367 189.97259 \nL 344.661367 189.97259 \nL 344.661367 189.97259 \nL 344.661367 189.97259 \nL 344.661367 189.97259 \nL 344.661367 189.97259 \nL 344.661367 189.97259 \nL 344.661367 189.97259 \nL 344.661367 189.97259 \nL 344.661367 189.97259 \nL 344.661367 189.97259 \nL 344.661367 189.97259 \nL 344.661367 189.97259 \nL 344.661367 189.97259 \nL 344.661367 189.97259 \nL 344.661367 189.97259 \nL 344.661367 189.97259 \nL 344.661367 189.97259 \nL 344.661367 189.97259 \nL 344.661367 189.97259 \nL 344.661367 189.97259 \n\" style=\"fill:none;stroke:#808080;stroke-opacity:0.2;stroke-width:1.5;\"/>\n   </g>\n   <g id=\"Poly3DCollection_4\">\n    <path clip-path=\"url(#p1cf457e3f2)\" d=\"M 297.810289 156.27201 \nL 304.32796 163.865941 \nL 311.5083 170.798004 \nL 309.163843 173.22726 \nL 307.404083 175.811511 \nL 299.260431 169.911366 \nL 291.845164 163.223356 \nL 294.421042 159.634793 \nz\n\" style=\"fill:#b49c9c;fill-opacity:0.2;\"/>\n    <path clip-path=\"url(#p1cf457e3f2)\" d=\"M 311.5083 170.798004 \nL 319.247129 176.964613 \nL 327.432564 182.270914 \nL 326.246644 183.552941 \nL 325.369833 184.911827 \nL 316.151313 180.836766 \nL 307.404083 175.811511 \nL 309.163843 173.22726 \nz\n\" style=\"fill:#9f8a8a;fill-opacity:0.2;\"/>\n    <path clip-path=\"url(#p1cf457e3f2)\" d=\"M 287.137129 139.55149 \nL 292.051096 148.127677 \nL 297.810289 156.27201 \nL 294.421042 159.634793 \nL 291.845164 163.223356 \nL 285.274386 155.845583 \nL 279.654208 147.886546 \nL 282.902758 143.578564 \nz\n\" style=\"fill:#c7acac;fill-opacity:0.2;\"/>\n    <path clip-path=\"url(#p1cf457e3f2)\" d=\"M 327.432564 182.270914 \nL 335.945702 186.631724 \nL 344.661367 189.97259 \nL 344.661367 189.97259 \nL 344.661367 189.97259 \nL 334.921073 187.973749 \nL 325.369833 184.911827 \nL 326.246644 183.552941 \nz\n\" style=\"fill:#837171;fill-opacity:0.2;\"/>\n    <path clip-path=\"url(#p1cf457e3f2)\" d=\"M 325.369833 184.911827 \nL 334.921073 187.973749 \nL 344.661367 189.97259 \nL 344.661367 189.97259 \nL 344.661367 189.97259 \nL 334.556017 189.419838 \nL 324.604961 187.768997 \nL 324.818805 186.325075 \nz\n\" style=\"fill:#897676;fill-opacity:0.2;\"/>\n    <path clip-path=\"url(#p1cf457e3f2)\" d=\"M 307.404083 175.811511 \nL 316.151313 180.836766 \nL 325.369833 184.911827 \nL 324.818805 186.325075 \nL 324.604961 187.768997 \nL 314.96101 185.042297 \nL 305.773969 181.27677 \nL 306.265204 178.50942 \nz\n\" style=\"fill:#a58f8f;fill-opacity:0.2;\"/>\n    <path clip-path=\"url(#p1cf457e3f2)\" d=\"M 280.141935 121.608446 \nL 283.145319 130.6683 \nL 287.137129 139.55149 \nL 282.902758 143.578564 \nL 279.654208 147.886546 \nL 275.079372 139.464377 \nL 271.631792 130.705947 \nL 275.338866 126.000244 \nz\n\" style=\"fill:#d6baba;fill-opacity:0.2;\"/>\n    <path clip-path=\"url(#p1cf457e3f2)\" d=\"M 324.604961 187.768997 \nL 334.556017 189.419838 \nL 344.661367 189.97259 \nL 344.661367 189.97259 \nL 344.661367 189.97259 \nL 334.879536 190.872095 \nL 325.206208 190.6504 \nL 324.734107 189.219082 \nz\n\" style=\"fill:#8e7b7b;fill-opacity:0.2;\"/>\n    <path clip-path=\"url(#p1cf457e3f2)\" d=\"M 291.845164 163.223356 \nL 299.260431 169.911366 \nL 307.404083 175.811511 \nL 306.265204 178.50942 \nL 305.773969 181.27677 \nL 297.189048 176.52418 \nL 289.345159 170.850914 \nL 290.13865 166.982148 \nz\n\" style=\"fill:#bca3a3;fill-opacity:0.2;\"/>\n    <path clip-path=\"url(#p1cf457e3f2)\" d=\"M 325.206208 190.6504 \nL 334.879536 190.872095 \nL 344.661367 189.97259 \nL 344.661367 189.97259 \nL 344.661367 189.97259 \nL 335.873756 192.230968 \nL 327.149143 193.357525 \nL 326.015239 192.038032 \nz\n\" style=\"fill:#948080;fill-opacity:0.2;\"/>\n    <path clip-path=\"url(#p1cf457e3f2)\" d=\"M 327.149143 193.357525 \nL 335.873756 192.230968 \nL 344.661367 189.97259 \nL 344.661367 189.97259 \nL 344.661367 189.97259 \nL 337.474025 193.402185 \nL 330.313814 195.699388 \nL 328.589918 194.585353 \nz\n\" style=\"fill:#988484;fill-opacity:0.2;\"/>\n    <path clip-path=\"url(#p1cf457e3f2)\" d=\"M 359.00892 195.699388 \nL 351.848709 193.402185 \nL 344.661367 189.97259 \nL 344.661367 189.97259 \nL 344.661367 189.97259 \nL 353.448978 192.230968 \nL 362.173591 193.357525 \nL 360.732817 194.585353 \nz\n\" style=\"fill:#948181;fill-opacity:0.2;\"/>\n    <path clip-path=\"url(#p1cf457e3f2)\" d=\"M 305.773969 181.27677 \nL 314.96101 185.042297 \nL 324.604961 187.768997 \nL 324.734107 189.219082 \nL 325.206208 190.6504 \nL 315.792493 189.300759 \nL 306.788931 186.832264 \nL 305.946794 184.067068 \nz\n\" style=\"fill:#a99292;fill-opacity:0.2;\"/>\n    <path clip-path=\"url(#p1cf457e3f2)\" d=\"M 330.313814 195.699388 \nL 337.474025 193.402185 \nL 344.661367 189.97259 \nL 344.661367 189.97259 \nL 344.661367 189.97259 \nL 339.572462 194.303614 \nL 334.489432 197.507248 \nL 332.291681 196.679351 \nz\n\" style=\"fill:#9c8787;fill-opacity:0.2;\"/>\n    <path clip-path=\"url(#p1cf457e3f2)\" d=\"M 354.833302 197.507248 \nL 349.750273 194.303614 \nL 344.661367 189.97259 \nL 344.661367 189.97259 \nL 344.661367 189.97259 \nL 351.848709 193.402185 \nL 359.00892 195.699388 \nL 357.031053 196.679351 \nz\n\" style=\"fill:#998585;fill-opacity:0.2;\"/>\n    <path clip-path=\"url(#p1cf457e3f2)\" d=\"M 279.654208 147.886546 \nL 285.274386 155.845583 \nL 291.845164 163.223356 \nL 290.13865 166.982148 \nL 289.345159 170.850914 \nL 282.373105 164.337759 \nL 276.393628 157.079542 \nL 277.464777 152.410586 \nz\n\" style=\"fill:#d0b4b4;fill-opacity:0.2;\"/>\n    <path clip-path=\"url(#p1cf457e3f2)\" d=\"M 334.489432 197.507248 \nL 339.572462 194.303614 \nL 344.661367 189.97259 \nL 344.661367 189.97259 \nL 344.661367 189.97259 \nL 342.024975 194.871492 \nL 339.387266 198.648593 \nL 336.868644 198.167761 \nz\n\" style=\"fill:#9e8989;fill-opacity:0.2;\"/>\n    <path clip-path=\"url(#p1cf457e3f2)\" d=\"M 349.935468 198.648593 \nL 347.297759 194.871492 \nL 344.661367 189.97259 \nL 344.661367 189.97259 \nL 344.661367 189.97259 \nL 349.750273 194.303614 \nL 354.833302 197.507248 \nL 352.454091 198.167761 \nz\n\" style=\"fill:#9c8888;fill-opacity:0.2;\"/>\n    <path clip-path=\"url(#p1cf457e3f2)\" d=\"M 277.306418 103.501973 \nL 278.181636 112.50685 \nL 280.141935 121.608446 \nL 275.338866 126.000244 \nL 271.631792 130.705947 \nL 269.378998 121.745807 \nL 268.372534 112.724907 \nL 272.269479 107.952822 \nz\n\" style=\"fill:#e2c4c4;fill-opacity:0.2;\"/>\n    <path clip-path=\"url(#p1cf457e3f2)\" d=\"M 339.387266 198.648593 \nL 342.024975 194.871492 \nL 344.661367 189.97259 \nL 344.661367 189.97259 \nL 344.661367 189.97259 \nL 344.661367 195.0654 \nL 344.661367 199.038749 \nL 342.000436 198.94075 \nz\n\" style=\"fill:#9f8a8a;fill-opacity:0.2;\"/>\n    <path clip-path=\"url(#p1cf457e3f2)\" d=\"M 344.661367 199.038749 \nL 344.661367 195.0654 \nL 344.661367 189.97259 \nL 344.661367 189.97259 \nL 344.661367 189.97259 \nL 347.297759 194.871492 \nL 349.935468 198.648593 \nL 347.322298 198.94075 \nz\n\" style=\"fill:#9e8989;fill-opacity:0.2;\"/>\n    <path clip-path=\"url(#p1cf457e3f2)\" d=\"M 306.788931 186.832264 \nL 315.792493 189.300759 \nL 325.206208 190.6504 \nL 326.015239 192.038032 \nL 327.149143 193.357525 \nL 318.625568 193.317539 \nL 310.442629 192.092364 \nL 308.293817 189.523568 \nz\n\" style=\"fill:#aa9494;fill-opacity:0.2;\"/>\n    <path clip-path=\"url(#p1cf457e3f2)\" d=\"M 289.345159 170.850914 \nL 297.189048 176.52418 \nL 305.773969 181.27677 \nL 305.946794 184.067068 \nL 306.788931 186.832264 \nL 298.343661 183.270524 \nL 290.600364 178.658243 \nL 289.494359 174.765398 \nz\n\" style=\"fill:#c0a7a7;fill-opacity:0.2;\"/>\n    <path clip-path=\"url(#p1cf457e3f2)\" d=\"M 271.631792 130.705947 \nL 275.079372 139.464377 \nL 279.654208 147.886546 \nL 277.464777 152.410586 \nL 276.393628 157.079542 \nL 271.51534 149.184576 \nL 267.832546 140.773863 \nL 269.106212 135.656083 \nz\n\" style=\"fill:#e1c3c3;fill-opacity:0.2;\"/>\n    <path clip-path=\"url(#p1cf457e3f2)\" d=\"M 310.442629 192.092364 \nL 318.625568 193.317539 \nL 327.149143 193.357525 \nL 328.589918 194.585353 \nL 330.313814 195.699388 \nL 323.295001 196.804836 \nL 316.534639 196.674839 \nL 313.204101 194.491201 \nz\n\" style=\"fill:#aa9393;fill-opacity:0.2;\"/>\n    <path clip-path=\"url(#p1cf457e3f2)\" d=\"M 372.788096 196.674839 \nL 366.027734 196.804836 \nL 359.00892 195.699388 \nL 360.732817 194.585353 \nL 362.173591 193.357525 \nL 370.697166 193.317539 \nL 378.880105 192.092364 \nL 376.118633 194.491201 \nz\n\" style=\"fill:#7d6c6c;fill-opacity:0.2;\"/>\n    <path clip-path=\"url(#p1cf457e3f2)\" d=\"M 278.908945 86.346275 \nL 277.544467 94.734585 \nL 277.306418 103.501973 \nL 272.269479 107.952822 \nL 268.372534 112.724907 \nL 268.64632 103.789045 \nL 270.215066 95.087028 \nL 274.004418 90.565234 \nz\n\" style=\"fill:#eacbcb;fill-opacity:0.2;\"/>\n    <path clip-path=\"url(#p1cf457e3f2)\" d=\"M 276.393628 157.079542 \nL 282.373105 164.337759 \nL 289.345159 170.850914 \nL 289.494359 174.765398 \nL 290.600364 178.658243 \nL 283.695964 173.055646 \nL 277.758128 166.540672 \nL 276.483445 161.816683 \nz\n\" style=\"fill:#d5b9b9;fill-opacity:0.2;\"/>\n    <path clip-path=\"url(#p1cf457e3f2)\" d=\"M 364.652774 200.232958 \nL 359.828922 199.504904 \nL 354.833302 197.507248 \nL 357.031053 196.679351 \nL 359.00892 195.699388 \nL 366.027734 196.804836 \nL 372.788096 196.674839 \nL 368.943963 198.601308 \nz\n\" style=\"fill:#857373;fill-opacity:0.2;\"/>\n    <path clip-path=\"url(#p1cf457e3f2)\" d=\"M 316.534639 196.674839 \nL 323.295001 196.804836 \nL 330.313814 195.699388 \nL 332.291681 196.679351 \nL 334.489432 197.507248 \nL 329.493813 199.504904 \nL 324.669961 200.232958 \nL 320.378771 198.601308 \nz\n\" style=\"fill:#a89191;fill-opacity:0.2;\"/>\n    <path clip-path=\"url(#p1cf457e3f2)\" d=\"M 290.600364 178.658243 \nL 298.343661 183.270524 \nL 306.788931 186.832264 \nL 308.293817 189.523568 \nL 310.442629 192.092364 \nL 302.739635 189.680899 \nL 295.653432 186.10098 \nL 292.660346 182.46011 \nz\n\" style=\"fill:#c1a8a8;fill-opacity:0.2;\"/>\n    <path clip-path=\"url(#p1cf457e3f2)\" d=\"M 268.372534 112.724907 \nL 269.378998 121.745807 \nL 271.631792 130.705947 \nL 269.106212 135.656083 \nL 267.832546 140.773863 \nL 265.423014 131.979986 \nL 264.345746 122.945672 \nL 265.706212 117.748351 \nz\n\" style=\"fill:#eecece;fill-opacity:0.2;\"/>\n    <path clip-path=\"url(#p1cf457e3f2)\" d=\"M 324.669961 200.232958 \nL 329.493813 199.504904 \nL 334.489432 197.507248 \nL 336.868644 198.167761 \nL 339.387266 198.648593 \nL 336.790659 201.213106 \nL 334.279318 202.488577 \nL 329.33176 201.537437 \nz\n\" style=\"fill:#a38d8d;fill-opacity:0.2;\"/>\n    <path clip-path=\"url(#p1cf457e3f2)\" d=\"M 355.043416 202.488577 \nL 352.532075 201.213106 \nL 349.935468 198.648593 \nL 352.454091 198.167761 \nL 354.833302 197.507248 \nL 359.828922 199.504904 \nL 364.652774 200.232958 \nL 359.990975 201.537437 \nz\n\" style=\"fill:#8d7a7a;fill-opacity:0.2;\"/>\n    <path clip-path=\"url(#p1cf457e3f2)\" d=\"M 334.279318 202.488577 \nL 336.790659 201.213106 \nL 339.387266 198.648593 \nL 342.000436 198.94075 \nL 344.661367 199.038749 \nL 344.661367 201.797675 \nL 344.661367 203.261293 \nL 339.421186 203.067123 \nz\n\" style=\"fill:#9d8888;fill-opacity:0.2;\"/>\n    <path clip-path=\"url(#p1cf457e3f2)\" d=\"M 344.661367 203.261293 \nL 344.661367 201.797675 \nL 344.661367 199.038749 \nL 347.322298 198.94075 \nL 349.935468 198.648593 \nL 352.532075 201.213106 \nL 355.043416 202.488577 \nL 349.901549 203.067123 \nz\n\" style=\"fill:#968282;fill-opacity:0.2;\"/>\n    <path clip-path=\"url(#p1cf457e3f2)\" d=\"M 284.98742 71.266518 \nL 281.396769 78.477701 \nL 278.908945 86.346275 \nL 274.004418 90.565234 \nL 270.215066 95.087028 \nL 273.072793 86.768507 \nL 277.191565 78.981493 \nL 280.579531 74.99305 \nz\n\" style=\"fill:#edcdcd;fill-opacity:0.2;\"/>\n    <path clip-path=\"url(#p1cf457e3f2)\" d=\"M 267.832546 140.773863 \nL 271.51534 149.184576 \nL 276.393628 157.079542 \nL 276.483445 161.816683 \nL 277.758128 166.540672 \nL 272.902563 159.208863 \nL 269.230208 151.172862 \nL 267.863303 145.975831 \nz\n\" style=\"fill:#e7c8c8;fill-opacity:0.2;\"/>\n    <path clip-path=\"url(#p1cf457e3f2)\" d=\"M 295.653432 186.10098 \nL 302.739635 189.680899 \nL 310.442629 192.092364 \nL 313.204101 194.491201 \nL 316.534639 196.674839 \nL 310.150955 195.28359 \nL 304.261364 192.625371 \nL 299.539985 189.511652 \nz\n\" style=\"fill:#bfa6a6;fill-opacity:0.2;\"/>\n    <path clip-path=\"url(#p1cf457e3f2)\" d=\"M 385.061371 192.625371 \nL 379.17178 195.28359 \nL 372.788096 196.674839 \nL 376.118633 194.491201 \nL 378.880105 192.092364 \nL 386.5831 189.680899 \nL 393.669302 186.10098 \nL 389.782749 189.511652 \nz\n\" style=\"fill:#736363;fill-opacity:0.2;\"/>\n    <path clip-path=\"url(#p1cf457e3f2)\" d=\"M 270.215066 95.087028 \nL 268.64632 103.789045 \nL 268.372534 112.724907 \nL 265.706212 117.748351 \nL 264.345746 122.945672 \nL 264.63884 113.821951 \nL 266.317532 104.765922 \nL 267.628606 99.845133 \nz\n\" style=\"fill:#f6d5d5;fill-opacity:0.2;\"/>\n    <path clip-path=\"url(#p1cf457e3f2)\" d=\"M 277.758128 166.540672 \nL 283.695964 173.055646 \nL 290.600364 178.658243 \nL 292.660346 182.46011 \nL 295.653432 186.10098 \nL 289.315904 181.390599 \nL 283.851167 175.608851 \nL 280.220639 171.166855 \nz\n\" style=\"fill:#d6baba;fill-opacity:0.2;\"/>\n    <path clip-path=\"url(#p1cf457e3f2)\" d=\"M 304.261364 192.625371 \nL 310.150955 195.28359 \nL 316.534639 196.674839 \nL 320.378771 198.601308 \nL 324.669961 200.232958 \nL 320.103871 199.645559 \nL 315.88167 197.717518 \nL 309.740262 195.379553 \nz\n\" style=\"fill:#b9a1a1;fill-opacity:0.2;\"/>\n    <path clip-path=\"url(#p1cf457e3f2)\" d=\"M 373.441064 197.717518 \nL 369.218863 199.645559 \nL 364.652774 200.232958 \nL 368.943963 198.601308 \nL 372.788096 196.674839 \nL 379.17178 195.28359 \nL 385.061371 192.625371 \nL 379.582473 195.379553 \nz\n\" style=\"fill:#7f6e6e;fill-opacity:0.2;\"/>\n    <path clip-path=\"url(#p1cf457e3f2)\" d=\"M 295.301901 59.337356 \nL 289.641901 64.844999 \nL 284.98742 71.266518 \nL 280.579531 74.99305 \nL 277.191565 78.981493 \nL 282.520536 71.869566 \nL 288.985426 65.568828 \nL 291.716484 62.350999 \nz\n\" style=\"fill:#ebcbcb;fill-opacity:0.2;\"/>\n    <path clip-path=\"url(#p1cf457e3f2)\" d=\"M 264.345746 122.945672 \nL 265.423014 131.979986 \nL 267.832546 140.773863 \nL 267.863303 145.975831 \nL 269.230208 151.172862 \nL 266.824371 142.561452 \nL 265.747952 133.518065 \nL 264.347919 128.232406 \nz\n\" style=\"fill:#f4d4d4;fill-opacity:0.2;\"/>\n    <path clip-path=\"url(#p1cf457e3f2)\" d=\"M 315.88167 197.717518 \nL 320.103871 199.645559 \nL 324.669961 200.232958 \nL 329.33176 201.537437 \nL 334.279318 202.488577 \nL 331.898528 202.416077 \nL 329.693884 200.957552 \nL 322.574507 199.590176 \nz\n\" style=\"fill:#b19999;fill-opacity:0.2;\"/>\n    <path clip-path=\"url(#p1cf457e3f2)\" d=\"M 359.628851 200.957552 \nL 357.424207 202.416077 \nL 355.043416 202.488577 \nL 359.990975 201.537437 \nL 364.652774 200.232958 \nL 369.218863 199.645559 \nL 373.441064 197.717518 \nL 366.748228 199.590176 \nz\n\" style=\"fill:#8c7979;fill-opacity:0.2;\"/>\n    <path clip-path=\"url(#p1cf457e3f2)\" d=\"M 277.191565 78.981493 \nL 273.072793 86.768507 \nL 270.215066 95.087028 \nL 267.628606 99.845133 \nL 266.317532 104.765922 \nL 269.372544 95.938106 \nL 273.768863 87.49942 \nL 274.900499 83.17216 \nz\n\" style=\"fill:#f8d7d7;fill-opacity:0.2;\"/>\n    <path clip-path=\"url(#p1cf457e3f2)\" d=\"M 394.907124 183.597666 \nL 390.342618 188.716614 \nL 385.061371 192.625371 \nL 389.782749 189.511652 \nL 393.669302 186.10098 \nL 400.006831 181.390599 \nL 405.471567 175.608851 \nL 400.716973 179.780435 \nz\n\" style=\"fill:#6e5f5f;fill-opacity:0.2;\"/>\n    <path clip-path=\"url(#p1cf457e3f2)\" d=\"M 283.851167 175.608851 \nL 289.315904 181.390599 \nL 295.653432 186.10098 \nL 299.539985 189.511652 \nL 304.261364 192.625371 \nL 298.980117 188.716614 \nL 294.41561 183.597666 \nL 288.605761 179.780435 \nz\n\" style=\"fill:#d3b7b7;fill-opacity:0.2;\"/>\n    <path clip-path=\"url(#p1cf457e3f2)\" d=\"M 269.230208 151.172862 \nL 272.902563 159.208863 \nL 277.758128 166.540672 \nL 280.220639 171.166855 \nL 283.851167 175.608851 \nL 279.372529 168.836459 \nL 275.979292 161.175786 \nL 271.941458 156.271517 \nz\n\" style=\"fill:#e8c9c9;fill-opacity:0.2;\"/>\n    <path clip-path=\"url(#p1cf457e3f2)\" d=\"M 329.693884 200.957552 \nL 331.898528 202.416077 \nL 334.279318 202.488577 \nL 339.421186 203.067123 \nL 344.661367 203.261293 \nL 344.661367 203.366135 \nL 344.661367 202.069644 \nL 337.103976 201.790091 \nz\n\" style=\"fill:#a69090;fill-opacity:0.2;\"/>\n    <path clip-path=\"url(#p1cf457e3f2)\" d=\"M 344.661367 202.069644 \nL 344.661367 203.366135 \nL 344.661367 203.261293 \nL 349.901549 203.067123 \nL 355.043416 202.488577 \nL 357.424207 202.416077 \nL 359.628851 200.957552 \nL 352.218759 201.790091 \nz\n\" style=\"fill:#998585;fill-opacity:0.2;\"/>\n    <path clip-path=\"url(#p1cf457e3f2)\" d=\"M 266.317532 104.765922 \nL 264.63884 113.821951 \nL 264.345746 122.945672 \nL 264.347919 128.232406 \nL 265.747952 133.518065 \nL 266.040864 124.198741 \nL 267.717807 114.76949 \nL 266.336191 109.76927 \nz\n\" style=\"fill:#fcdada;fill-opacity:0.2;\"/>\n    <path clip-path=\"url(#p1cf457e3f2)\" d=\"M 309.306174 51.502516 \nL 301.889312 54.856816 \nL 295.301901 59.337356 \nL 291.716484 62.350999 \nL 288.985426 65.568828 \nL 296.488528 60.204668 \nL 304.90936 55.888454 \nL 306.796768 53.627137 \nz\n\" style=\"fill:#e3c5c5;fill-opacity:0.2;\"/>\n    <path clip-path=\"url(#p1cf457e3f2)\" d=\"M 288.985426 65.568828 \nL 282.520536 71.869566 \nL 277.191565 78.981493 \nL 274.900499 83.17216 \nL 273.768863 87.49942 \nL 279.445057 79.607826 \nL 286.313262 72.414731 \nL 287.168646 68.941348 \nz\n\" style=\"fill:#f4d4d4;fill-opacity:0.2;\"/>\n    <path clip-path=\"url(#p1cf457e3f2)\" d=\"M 294.41561 183.597666 \nL 298.980117 188.716614 \nL 304.261364 192.625371 \nL 309.740262 195.379553 \nL 315.88167 197.717518 \nL 312.087789 194.447112 \nL 308.802834 189.858607 \nL 301.18711 186.981189 \nz\n\" style=\"fill:#cbb0b0;fill-opacity:0.2;\"/>\n    <path clip-path=\"url(#p1cf457e3f2)\" d=\"M 380.519901 189.858607 \nL 377.234946 194.447112 \nL 373.441064 197.717518 \nL 379.582473 195.379553 \nL 385.061371 192.625371 \nL 390.342618 188.716614 \nL 394.907124 183.597666 \nL 388.135625 186.981189 \nz\n\" style=\"fill:#7d6d6d;fill-opacity:0.2;\"/>\n    <path clip-path=\"url(#p1cf457e3f2)\" d=\"M 265.747952 133.518065 \nL 266.824371 142.561452 \nL 269.230208 151.172862 \nL 271.941458 156.271517 \nL 275.979292 161.175786 \nL 273.753522 152.750199 \nL 272.756954 143.702689 \nL 268.5565 138.707507 \nz\n\" style=\"fill:#f5d4d4;fill-opacity:0.2;\"/>\n    <path clip-path=\"url(#p1cf457e3f2)\" d=\"M 275.979292 161.175786 \nL 279.372529 168.836459 \nL 283.851167 175.608851 \nL 288.605761 179.780435 \nL 294.41561 183.597666 \nL 290.667429 177.334087 \nL 287.823214 170.017292 \nL 281.29809 165.789205 \nz\n\" style=\"fill:#e3c5c5;fill-opacity:0.2;\"/>\n    <path clip-path=\"url(#p1cf457e3f2)\" d=\"M 401.499521 170.017292 \nL 398.655305 177.334087 \nL 394.907124 183.597666 \nL 400.716973 179.780435 \nL 405.471567 175.608851 \nL 409.950205 168.836459 \nL 413.343443 161.175786 \nL 408.024645 165.789205 \nz\n\" style=\"fill:#6d5f5f;fill-opacity:0.2;\"/>\n    <path clip-path=\"url(#p1cf457e3f2)\" d=\"M 273.768863 87.49942 \nL 269.372544 95.938106 \nL 266.317532 104.765922 \nL 266.336191 109.76927 \nL 267.717807 114.76949 \nL 270.766545 105.403106 \nL 275.146848 96.275489 \nL 273.842252 91.892324 \nz\n\" style=\"fill:#fedcdc;fill-opacity:0.2;\"/>\n    <path clip-path=\"url(#p1cf457e3f2)\" d=\"M 308.802834 189.858607 \nL 312.087789 194.447112 \nL 315.88167 197.717518 \nL 322.574507 199.590176 \nL 329.693884 200.957552 \nL 327.710294 198.09913 \nL 325.990803 193.854179 \nL 317.123483 192.166819 \nz\n\" style=\"fill:#bfa6a6;fill-opacity:0.2;\"/>\n    <path clip-path=\"url(#p1cf457e3f2)\" d=\"M 363.331931 193.854179 \nL 361.612441 198.09913 \nL 359.628851 200.957552 \nL 366.748228 199.590176 \nL 373.441064 197.717518 \nL 377.234946 194.447112 \nL 380.519901 189.858607 \nL 372.199252 192.166819 \nz\n\" style=\"fill:#8e7b7b;fill-opacity:0.2;\"/>\n    <path clip-path=\"url(#p1cf457e3f2)\" d=\"M 304.90936 55.888454 \nL 296.488528 60.204668 \nL 288.985426 65.568828 \nL 287.168646 68.941348 \nL 286.313262 72.414731 \nL 294.259921 66.061275 \nL 303.147335 60.674624 \nL 303.683132 58.250477 \nz\n\" style=\"fill:#ebcbcb;fill-opacity:0.2;\"/>\n    <path clip-path=\"url(#p1cf457e3f2)\" d=\"M 326.140869 48.479827 \nL 317.435188 49.356339 \nL 309.306174 51.502516 \nL 306.796768 53.627137 \nL 304.90936 55.888454 \nL 314.106035 52.714265 \nL 323.917395 50.755824 \nL 324.863214 49.584539 \nz\n\" style=\"fill:#d6b9b9;fill-opacity:0.2;\"/>\n    <path clip-path=\"url(#p1cf457e3f2)\" d=\"M 325.990803 193.854179 \nL 327.710294 198.09913 \nL 329.693884 200.957552 \nL 337.103976 201.790091 \nL 344.661367 202.069644 \nL 344.661367 199.353673 \nL 344.661367 195.22773 \nL 335.231409 194.88235 \nz\n\" style=\"fill:#b09999;fill-opacity:0.2;\"/>\n    <path clip-path=\"url(#p1cf457e3f2)\" d=\"M 344.661367 195.22773 \nL 344.661367 199.353673 \nL 344.661367 202.069644 \nL 352.218759 201.790091 \nL 359.628851 200.957552 \nL 361.612441 198.09913 \nL 363.331931 193.854179 \nL 354.091325 194.88235 \nz\n\" style=\"fill:#a08b8b;fill-opacity:0.2;\"/>\n    <path clip-path=\"url(#p1cf457e3f2)\" d=\"M 267.717807 114.76949 \nL 266.040864 124.198741 \nL 265.747952 133.518065 \nL 268.5565 138.707507 \nL 272.756954 143.702689 \nL 273.028181 134.193704 \nL 274.580346 124.398168 \nL 270.471619 119.676635 \nz\n\" style=\"fill:#fddbdb;fill-opacity:0.2;\"/>\n    <path clip-path=\"url(#p1cf457e3f2)\" d=\"M 286.313262 72.414731 \nL 279.445057 79.607826 \nL 273.768863 87.49942 \nL 273.842252 91.892324 \nL 275.146848 96.275489 \nL 280.790201 87.56156 \nL 287.60041 79.430936 \nL 286.451789 75.931423 \nz\n\" style=\"fill:#fad8d8;fill-opacity:0.2;\"/>\n    <path clip-path=\"url(#p1cf457e3f2)\" d=\"M 323.917395 50.755824 \nL 314.106035 52.714265 \nL 304.90936 55.888454 \nL 303.683132 58.250477 \nL 303.147335 60.674624 \nL 312.816055 56.364441 \nL 323.088077 53.219704 \nL 323.321524 51.974342 \nz\n\" style=\"fill:#dcbebe;fill-opacity:0.2;\"/>\n    <path clip-path=\"url(#p1cf457e3f2)\" d=\"M 385.274055 176.965705 \nL 383.221509 184.004281 \nL 380.519901 189.858607 \nL 388.135625 186.981189 \nL 394.907124 183.597666 \nL 398.655305 177.334087 \nL 401.499521 170.017292 \nL 393.871932 173.770236 \nz\n\" style=\"fill:#7f6e6e;fill-opacity:0.2;\"/>\n    <path clip-path=\"url(#p1cf457e3f2)\" d=\"M 287.823214 170.017292 \nL 290.667429 177.334087 \nL 294.41561 183.597666 \nL 301.18711 186.981189 \nL 308.802834 189.858607 \nL 306.101226 184.004281 \nL 304.04868 176.965705 \nL 295.450803 173.770236 \nz\n\" style=\"fill:#dabdbd;fill-opacity:0.2;\"/>\n    <path clip-path=\"url(#p1cf457e3f2)\" d=\"M 344.661367 50.663615 \nL 335.271424 48.911333 \nL 326.140869 48.479827 \nL 324.863214 49.584539 \nL 323.917395 50.755824 \nL 334.165919 50.063798 \nL 344.661367 50.663615 \nL 344.661367 50.663615 \nz\n\" style=\"fill:#bca3a3;fill-opacity:0.2;\"/>\n    <path clip-path=\"url(#p1cf457e3f2)\" d=\"M 272.756954 143.702689 \nL 273.753522 152.750199 \nL 275.979292 161.175786 \nL 281.29809 165.789205 \nL 287.823214 170.017292 \nL 285.955503 161.76438 \nL 285.11872 152.716996 \nL 278.303292 148.404844 \nz\n\" style=\"fill:#f0d0d0;fill-opacity:0.2;\"/>\n    <path clip-path=\"url(#p1cf457e3f2)\" d=\"M 404.204014 152.716996 \nL 403.367231 161.76438 \nL 401.499521 170.017292 \nL 408.024645 165.789205 \nL 413.343443 161.175786 \nL 415.569212 152.750199 \nL 416.565781 143.702689 \nL 411.019443 148.404844 \nz\n\" style=\"fill:#716262;fill-opacity:0.2;\"/>\n    <path clip-path=\"url(#p1cf457e3f2)\" d=\"M 303.147335 60.674624 \nL 294.259921 66.061275 \nL 286.313262 72.414731 \nL 286.451789 75.931423 \nL 287.60041 79.430936 \nL 295.455122 72.043519 \nL 304.208294 65.545202 \nL 303.320254 63.120237 \nz\n\" style=\"fill:#efcfcf;fill-opacity:0.2;\"/>\n    <path clip-path=\"url(#p1cf457e3f2)\" d=\"M 344.661367 50.663615 \nL 334.165919 50.063798 \nL 323.917395 50.755824 \nL 323.321524 51.974342 \nL 323.088077 53.219704 \nL 333.770764 51.306024 \nL 344.661367 50.663615 \nL 344.661367 50.663615 \nz\n\" style=\"fill:#c2a8a8;fill-opacity:0.2;\"/>\n    <path clip-path=\"url(#p1cf457e3f2)\" d=\"M 275.146848 96.275489 \nL 270.766545 105.403106 \nL 267.717807 114.76949 \nL 270.471619 119.676635 \nL 274.580346 124.398168 \nL 277.399485 114.501722 \nL 281.443709 104.696306 \nL 277.6871 100.570285 \nz\n\" style=\"fill:#ffdddd;fill-opacity:0.2;\"/>\n    <path clip-path=\"url(#p1cf457e3f2)\" d=\"M 323.088077 53.219704 \nL 312.816055 56.364441 \nL 303.147335 60.674624 \nL 303.320254 63.120237 \nL 304.208294 65.545202 \nL 313.693514 60.063896 \nL 323.728084 55.706068 \nL 323.223531 54.470784 \nz\n\" style=\"fill:#e0c2c2;fill-opacity:0.2;\"/>\n    <path clip-path=\"url(#p1cf457e3f2)\" d=\"M 344.661367 50.663615 \nL 333.770764 51.306024 \nL 323.088077 53.219704 \nL 323.223531 54.470784 \nL 323.728084 55.706068 \nL 334.117676 52.55396 \nL 344.661367 50.663615 \nL 344.661367 50.663615 \nz\n\" style=\"fill:#c8adad;fill-opacity:0.2;\"/>\n    <path clip-path=\"url(#p1cf457e3f2)\" d=\"M 344.661367 50.663615 \nL 334.117676 52.55396 \nL 323.728084 55.706068 \nL 324.59548 56.904027 \nL 325.812953 58.043503 \nL 335.187862 53.722025 \nL 344.661367 50.663615 \nL 344.661367 50.663615 \nz\n\" style=\"fill:#cdb2b2;fill-opacity:0.2;\"/>\n    <path clip-path=\"url(#p1cf457e3f2)\" d=\"M 304.04868 176.965705 \nL 306.101226 184.004281 \nL 308.802834 189.858607 \nL 317.123483 192.166819 \nL 325.990803 193.854179 \nL 324.575278 188.265857 \nL 323.498996 181.408859 \nL 313.458477 179.531639 \nz\n\" style=\"fill:#ccb1b1;fill-opacity:0.2;\"/>\n    <path clip-path=\"url(#p1cf457e3f2)\" d=\"M 365.823739 181.408859 \nL 364.747457 188.265857 \nL 363.331931 193.854179 \nL 372.199252 192.166819 \nL 380.519901 189.858607 \nL 383.221509 184.004281 \nL 385.274055 176.965705 \nL 375.864258 179.531639 \nz\n\" style=\"fill:#938080;fill-opacity:0.2;\"/>\n    <path clip-path=\"url(#p1cf457e3f2)\" d=\"M 344.661367 50.663615 \nL 335.187862 53.722025 \nL 325.812953 58.043503 \nL 327.361294 59.104121 \nL 329.215061 60.066693 \nL 336.912 54.729074 \nL 344.661367 50.663615 \nL 344.661367 50.663615 \nz\n\" style=\"fill:#d2b6b6;fill-opacity:0.2;\"/>\n    <path clip-path=\"url(#p1cf457e3f2)\" d=\"M 344.661367 50.663615 \nL 352.410734 54.729074 \nL 360.107673 60.066693 \nL 361.961441 59.104121 \nL 363.509781 58.043503 \nL 354.134872 53.722025 \nL 344.661367 50.663615 \nL 344.661367 50.663615 \nz\n\" style=\"fill:#ceb2b2;fill-opacity:0.2;\"/>\n    <path clip-path=\"url(#p1cf457e3f2)\" d=\"M 287.60041 79.430936 \nL 280.790201 87.56156 \nL 275.146848 96.275489 \nL 277.6871 100.570285 \nL 281.443709 104.696306 \nL 286.643327 95.17523 \nL 292.901993 86.127942 \nL 289.757424 82.85084 \nz\n\" style=\"fill:#fad9d9;fill-opacity:0.2;\"/>\n    <path clip-path=\"url(#p1cf457e3f2)\" d=\"M 344.661367 50.663615 \nL 336.912 54.729074 \nL 329.215061 60.066693 \nL 331.342941 60.91362 \nL 333.708247 61.629269 \nL 339.173963 55.504336 \nL 344.661367 50.663615 \nL 344.661367 50.663615 \nz\n\" style=\"fill:#d5b9b9;fill-opacity:0.2;\"/>\n    <path clip-path=\"url(#p1cf457e3f2)\" d=\"M 344.661367 50.663615 \nL 350.148772 55.504336 \nL 355.614488 61.629269 \nL 357.979793 60.91362 \nL 360.107673 60.066693 \nL 352.410734 54.729074 \nL 344.661367 50.663615 \nL 344.661367 50.663615 \nz\n\" style=\"fill:#d2b6b6;fill-opacity:0.2;\"/>\n    <path clip-path=\"url(#p1cf457e3f2)\" d=\"M 274.580346 124.398168 \nL 273.028181 134.193704 \nL 272.756954 143.702689 \nL 278.303292 148.404844 \nL 285.11872 152.716996 \nL 285.346493 143.039136 \nL 286.649507 132.913885 \nL 279.998172 128.841006 \nz\n\" style=\"fill:#f8d7d7;fill-opacity:0.2;\"/>\n    <path clip-path=\"url(#p1cf457e3f2)\" d=\"M 402.673227 132.913885 \nL 403.976241 143.039136 \nL 404.204014 152.716996 \nL 411.019443 148.404844 \nL 416.565781 143.702689 \nL 416.294553 134.193704 \nL 414.742388 124.398168 \nL 409.324562 128.841006 \nz\n\" style=\"fill:#796969;fill-opacity:0.2;\"/>\n    <path clip-path=\"url(#p1cf457e3f2)\" d=\"M 323.728084 55.706068 \nL 313.693514 60.063896 \nL 304.208294 65.545202 \nL 305.805222 67.90666 \nL 308.091638 70.161816 \nL 316.720592 63.556481 \nL 325.812953 58.043503 \nL 324.59548 56.904027 \nz\n\" style=\"fill:#e1c3c3;fill-opacity:0.2;\"/>\n    <path clip-path=\"url(#p1cf457e3f2)\" d=\"M 304.208294 65.545202 \nL 295.455122 72.043519 \nL 287.60041 79.430936 \nL 289.757424 82.85084 \nL 292.901993 86.127942 \nL 300.09885 77.73476 \nL 308.091638 70.161816 \nL 305.805222 67.90666 \nz\n\" style=\"fill:#f1d0d0;fill-opacity:0.2;\"/>\n    <path clip-path=\"url(#p1cf457e3f2)\" d=\"M 323.498996 181.408859 \nL 324.575278 188.265857 \nL 325.990803 193.854179 \nL 335.231409 194.88235 \nL 344.661367 195.22773 \nL 344.661367 189.731722 \nL 344.661367 182.937872 \nL 333.97073 182.553324 \nz\n\" style=\"fill:#bba2a2;fill-opacity:0.2;\"/>\n    <path clip-path=\"url(#p1cf457e3f2)\" d=\"M 344.661367 182.937872 \nL 344.661367 189.731722 \nL 344.661367 195.22773 \nL 354.091325 194.88235 \nL 363.331931 193.854179 \nL 364.747457 188.265857 \nL 365.823739 181.408859 \nL 355.352005 182.553324 \nz\n\" style=\"fill:#a89191;fill-opacity:0.2;\"/>\n    <path clip-path=\"url(#p1cf457e3f2)\" d=\"M 344.661367 50.663615 \nL 339.173963 55.504336 \nL 333.708247 61.629269 \nL 336.26956 62.200322 \nL 338.981503 62.616083 \nL 341.818342 55.992813 \nL 344.661367 50.663615 \nL 344.661367 50.663615 \nz\n\" style=\"fill:#d8bbbb;fill-opacity:0.2;\"/>\n    <path clip-path=\"url(#p1cf457e3f2)\" d=\"M 344.661367 50.663615 \nL 347.504393 55.992813 \nL 350.341232 62.616083 \nL 353.053175 62.200322 \nL 355.614488 61.629269 \nL 350.148772 55.504336 \nL 344.661367 50.663615 \nL 344.661367 50.663615 \nz\n\" style=\"fill:#d6b9b9;fill-opacity:0.2;\"/>\n    <path clip-path=\"url(#p1cf457e3f2)\" d=\"M 344.661367 50.663615 \nL 341.818342 55.992813 \nL 338.981503 62.616083 \nL 341.795624 62.868725 \nL 344.661367 62.953473 \nL 344.661367 56.159623 \nL 344.661367 50.663615 \nL 344.661367 50.663615 \nz\n\" style=\"fill:#d9bcbc;fill-opacity:0.2;\"/>\n    <path clip-path=\"url(#p1cf457e3f2)\" d=\"M 344.661367 50.663615 \nL 344.661367 56.159623 \nL 344.661367 62.953473 \nL 347.527111 62.868725 \nL 350.341232 62.616083 \nL 347.504393 55.992813 \nL 344.661367 50.663615 \nL 344.661367 50.663615 \nz\n\" style=\"fill:#d8bbbb;fill-opacity:0.2;\"/>\n    <path clip-path=\"url(#p1cf457e3f2)\" d=\"M 285.11872 152.716996 \nL 285.955503 161.76438 \nL 287.823214 170.017292 \nL 295.450803 173.770236 \nL 304.04868 176.965705 \nL 302.699661 168.854054 \nL 302.094964 159.809259 \nL 293.095332 156.546755 \nz\n\" style=\"fill:#e6c7c7;fill-opacity:0.2;\"/>\n    <path clip-path=\"url(#p1cf457e3f2)\" d=\"M 387.227771 159.809259 \nL 386.623073 168.854054 \nL 385.274055 176.965705 \nL 393.871932 173.770236 \nL 401.499521 170.017292 \nL 403.367231 161.76438 \nL 404.204014 152.716996 \nL 396.227403 156.546755 \nz\n\" style=\"fill:#857373;fill-opacity:0.2;\"/>\n    <path clip-path=\"url(#p1cf457e3f2)\" d=\"M 325.812953 58.043503 \nL 316.720592 63.556481 \nL 308.091638 70.161816 \nL 311.034732 72.268815 \nL 314.588351 74.187679 \nL 321.723131 66.591112 \nL 329.215061 60.066693 \nL 327.361294 59.104121 \nz\n\" style=\"fill:#e1c3c3;fill-opacity:0.2;\"/>\n    <path clip-path=\"url(#p1cf457e3f2)\" d=\"M 360.107673 60.066693 \nL 367.599604 66.591112 \nL 374.734384 74.187679 \nL 378.288003 72.268815 \nL 381.231096 70.161816 \nL 372.602143 63.556481 \nL 363.509781 58.043503 \nL 361.961441 59.104121 \nz\n\" style=\"fill:#b49c9c;fill-opacity:0.2;\"/>\n    <path clip-path=\"url(#p1cf457e3f2)\" d=\"M 281.443709 104.696306 \nL 277.399485 114.501722 \nL 274.580346 124.398168 \nL 279.998172 128.841006 \nL 286.649507 132.913885 \nL 289.014084 122.539117 \nL 292.401625 112.122326 \nL 286.372109 108.573132 \nz\n\" style=\"fill:#fad9d9;fill-opacity:0.2;\"/>\n    <path clip-path=\"url(#p1cf457e3f2)\" d=\"M 396.921109 112.122326 \nL 400.30865 122.539117 \nL 402.673227 132.913885 \nL 409.324562 128.841006 \nL 414.742388 124.398168 \nL 411.923249 114.501722 \nL 407.879026 104.696306 \nL 402.950625 108.573132 \nz\n\" style=\"fill:#847373;fill-opacity:0.2;\"/>\n    <path clip-path=\"url(#p1cf457e3f2)\" d=\"M 308.091638 70.161816 \nL 300.09885 77.73476 \nL 292.901993 86.127942 \nL 296.99328 89.199639 \nL 301.970125 92.005413 \nL 307.958021 82.714452 \nL 314.588351 74.187679 \nL 311.034732 72.268815 \nz\n\" style=\"fill:#eecece;fill-opacity:0.2;\"/>\n    <path clip-path=\"url(#p1cf457e3f2)\" d=\"M 374.734384 74.187679 \nL 381.364714 82.714452 \nL 387.35261 92.005413 \nL 392.329455 89.199639 \nL 396.420742 86.127942 \nL 389.223884 77.73476 \nL 381.231096 70.161816 \nL 378.288003 72.268815 \nz\n\" style=\"fill:#a28c8c;fill-opacity:0.2;\"/>\n    <path clip-path=\"url(#p1cf457e3f2)\" d=\"M 292.901993 86.127942 \nL 286.643327 95.17523 \nL 281.443709 104.696306 \nL 286.372109 108.573132 \nL 292.401625 112.122326 \nL 296.749032 101.874796 \nL 301.970125 92.005413 \nL 296.99328 89.199639 \nz\n\" style=\"fill:#f7d6d6;fill-opacity:0.2;\"/>\n    <path clip-path=\"url(#p1cf457e3f2)\" d=\"M 387.35261 92.005413 \nL 392.573702 101.874796 \nL 396.921109 112.122326 \nL 402.950625 108.573132 \nL 407.879026 104.696306 \nL 402.679407 95.17523 \nL 396.420742 86.127942 \nL 392.329455 89.199639 \nz\n\" style=\"fill:#927e7e;fill-opacity:0.2;\"/>\n    <path clip-path=\"url(#p1cf457e3f2)\" d=\"M 302.094964 159.809259 \nL 302.699661 168.854054 \nL 304.04868 176.965705 \nL 313.458477 179.531639 \nL 323.498996 181.408859 \nL 322.791224 173.390103 \nL 322.473865 164.348116 \nL 311.95139 162.430108 \nz\n\" style=\"fill:#d7baba;fill-opacity:0.2;\"/>\n    <path clip-path=\"url(#p1cf457e3f2)\" d=\"M 366.84887 164.348116 \nL 366.53151 173.390103 \nL 365.823739 181.408859 \nL 375.864258 179.531639 \nL 385.274055 176.965705 \nL 386.623073 168.854054 \nL 387.227771 159.809259 \nL 377.371344 162.430108 \nz\n\" style=\"fill:#9a8585;fill-opacity:0.2;\"/>\n    <path clip-path=\"url(#p1cf457e3f2)\" d=\"M 329.215061 60.066693 \nL 321.723131 66.591112 \nL 314.588351 74.187679 \nL 318.693458 75.881257 \nL 323.278965 77.31617 \nL 328.373274 68.942254 \nL 333.708247 61.629269 \nL 331.342941 60.91362 \nz\n\" style=\"fill:#dfc1c1;fill-opacity:0.2;\"/>\n    <path clip-path=\"url(#p1cf457e3f2)\" d=\"M 355.614488 61.629269 \nL 360.94946 68.942254 \nL 366.043769 77.31617 \nL 370.629277 75.881257 \nL 374.734384 74.187679 \nL 367.599604 66.591112 \nL 360.107673 60.066693 \nL 357.979793 60.91362 \nz\n\" style=\"fill:#bca3a3;fill-opacity:0.2;\"/>\n    <path clip-path=\"url(#p1cf457e3f2)\" d=\"M 286.649507 132.913885 \nL 285.346493 143.039136 \nL 285.11872 152.716996 \nL 293.095332 156.546755 \nL 302.094964 159.809259 \nL 302.259581 149.997867 \nL 303.201039 139.609565 \nL 294.428723 136.529964 \nz\n\" style=\"fill:#edcece;fill-opacity:0.2;\"/>\n    <path clip-path=\"url(#p1cf457e3f2)\" d=\"M 386.121696 139.609565 \nL 387.063153 149.997867 \nL 387.227771 159.809259 \nL 396.227403 156.546755 \nL 404.204014 152.716996 \nL 403.976241 143.039136 \nL 402.673227 132.913885 \nL 394.894012 136.529964 \nz\n\" style=\"fill:#8c7a7a;fill-opacity:0.2;\"/>\n    <path clip-path=\"url(#p1cf457e3f2)\" d=\"M 333.708247 61.629269 \nL 328.373274 68.942254 \nL 323.278965 77.31617 \nL 328.26298 78.4637 \nL 333.554419 79.300592 \nL 336.207649 70.430408 \nL 338.981503 62.616083 \nL 336.26956 62.200322 \nz\n\" style=\"fill:#dabdbd;fill-opacity:0.2;\"/>\n    <path clip-path=\"url(#p1cf457e3f2)\" d=\"M 350.341232 62.616083 \nL 353.115086 70.430408 \nL 355.768315 79.300592 \nL 361.059755 78.4637 \nL 366.043769 77.31617 \nL 360.94946 68.942254 \nL 355.614488 61.629269 \nL 353.053175 62.200322 \nz\n\" style=\"fill:#c4aaaa;fill-opacity:0.2;\"/>\n    <path clip-path=\"url(#p1cf457e3f2)\" d=\"M 344.661367 165.910734 \nL 344.661367 174.951547 \nL 344.661367 182.937872 \nL 355.352005 182.553324 \nL 365.823739 181.408859 \nL 366.53151 173.390103 \nL 366.84887 164.348116 \nL 355.870795 165.517702 \nz\n\" style=\"fill:#b09898;fill-opacity:0.2;\"/>\n    <path clip-path=\"url(#p1cf457e3f2)\" d=\"M 322.473865 164.348116 \nL 322.791224 173.390103 \nL 323.498996 181.408859 \nL 333.97073 182.553324 \nL 344.661367 182.937872 \nL 344.661367 174.951547 \nL 344.661367 165.910734 \nL 333.451939 165.517702 \nz\n\" style=\"fill:#c4aaaa;fill-opacity:0.2;\"/>\n    <path clip-path=\"url(#p1cf457e3f2)\" d=\"M 338.981503 62.616083 \nL 336.207649 70.430408 \nL 333.554419 79.300592 \nL 339.054978 79.809723 \nL 344.661367 79.980611 \nL 344.661367 70.939798 \nL 344.661367 62.953473 \nL 341.795624 62.868725 \nz\n\" style=\"fill:#d4b8b8;fill-opacity:0.2;\"/>\n    <path clip-path=\"url(#p1cf457e3f2)\" d=\"M 344.661367 62.953473 \nL 344.661367 70.939798 \nL 344.661367 79.980611 \nL 350.267757 79.809723 \nL 355.768315 79.300592 \nL 353.115086 70.430408 \nL 350.341232 62.616083 \nL 347.527111 62.868725 \nz\n\" style=\"fill:#ccb1b1;fill-opacity:0.2;\"/>\n    <path clip-path=\"url(#p1cf457e3f2)\" d=\"M 314.588351 74.187679 \nL 307.958021 82.714452 \nL 301.970125 92.005413 \nL 307.751327 94.488415 \nL 314.236623 96.597071 \nL 318.532844 86.594961 \nL 323.278965 77.31617 \nL 318.693458 75.881257 \nz\n\" style=\"fill:#e9caca;fill-opacity:0.2;\"/>\n    <path clip-path=\"url(#p1cf457e3f2)\" d=\"M 366.043769 77.31617 \nL 370.78989 86.594961 \nL 375.086111 96.597071 \nL 381.571408 94.488415 \nL 387.35261 92.005413 \nL 381.364714 82.714452 \nL 374.734384 74.187679 \nL 370.629277 75.881257 \nz\n\" style=\"fill:#ae9797;fill-opacity:0.2;\"/>\n    <path clip-path=\"url(#p1cf457e3f2)\" d=\"M 292.401625 112.122326 \nL 289.014084 122.539117 \nL 286.649507 132.913885 \nL 294.428723 136.529964 \nL 303.201039 139.609565 \nL 304.908341 128.852434 \nL 307.351662 117.94712 \nL 299.435461 115.269609 \nz\n\" style=\"fill:#f1d0d0;fill-opacity:0.2;\"/>\n    <path clip-path=\"url(#p1cf457e3f2)\" d=\"M 381.971073 117.94712 \nL 384.414393 128.852434 \nL 386.121696 139.609565 \nL 394.894012 136.529964 \nL 402.673227 132.913885 \nL 400.30865 122.539117 \nL 396.921109 112.122326 \nL 389.887273 115.269609 \nz\n\" style=\"fill:#968282;fill-opacity:0.2;\"/>\n    <path clip-path=\"url(#p1cf457e3f2)\" d=\"M 301.970125 92.005413 \nL 296.749032 101.874796 \nL 292.401625 112.122326 \nL 299.435461 115.269609 \nL 307.351662 117.94712 \nL 310.482827 107.120191 \nL 314.236623 96.597071 \nL 307.751327 94.488415 \nz\n\" style=\"fill:#efcfcf;fill-opacity:0.2;\"/>\n    <path clip-path=\"url(#p1cf457e3f2)\" d=\"M 375.086111 96.597071 \nL 378.839908 107.120191 \nL 381.971073 117.94712 \nL 389.887273 115.269609 \nL 396.921109 112.122326 \nL 392.573702 101.874796 \nL 387.35261 92.005413 \nL 381.571408 94.488415 \nz\n\" style=\"fill:#a18c8c;fill-opacity:0.2;\"/>\n    <path clip-path=\"url(#p1cf457e3f2)\" d=\"M 303.201039 139.609565 \nL 302.259581 149.997867 \nL 302.094964 159.809259 \nL 311.95139 162.430108 \nL 322.473865 164.348116 \nL 322.560266 154.450959 \nL 323.054312 143.892631 \nL 312.804679 142.082903 \nz\n\" style=\"fill:#dfc1c1;fill-opacity:0.2;\"/>\n    <path clip-path=\"url(#p1cf457e3f2)\" d=\"M 366.268423 143.892631 \nL 366.762468 154.450959 \nL 366.84887 164.348116 \nL 377.371344 162.430108 \nL 387.227771 159.809259 \nL 387.063153 149.997867 \nL 386.121696 139.609565 \nL 376.518056 142.082903 \nz\n\" style=\"fill:#a18c8c;fill-opacity:0.2;\"/>\n    <path clip-path=\"url(#p1cf457e3f2)\" d=\"M 323.278965 77.31617 \nL 318.532844 86.594961 \nL 314.236623 96.597071 \nL 321.308396 98.286648 \nL 328.834091 99.520673 \nL 331.078563 89.061307 \nL 333.554419 79.300592 \nL 328.26298 78.4637 \nz\n\" style=\"fill:#e0c2c2;fill-opacity:0.2;\"/>\n    <path clip-path=\"url(#p1cf457e3f2)\" d=\"M 355.768315 79.300592 \nL 358.244172 89.061307 \nL 360.488644 99.520673 \nL 368.014339 98.286648 \nL 375.086111 96.597071 \nL 370.78989 86.594961 \nL 366.043769 77.31617 \nL 361.059755 78.4637 \nz\n\" style=\"fill:#bba2a2;fill-opacity:0.2;\"/>\n    <path clip-path=\"url(#p1cf457e3f2)\" d=\"M 323.054312 143.892631 \nL 322.560266 154.450959 \nL 322.473865 164.348116 \nL 333.451939 165.517702 \nL 344.661367 165.910734 \nL 344.661367 155.983995 \nL 344.661367 145.366828 \nL 333.745698 144.996053 \nz\n\" style=\"fill:#ccb1b1;fill-opacity:0.2;\"/>\n    <path clip-path=\"url(#p1cf457e3f2)\" d=\"M 344.661367 145.366828 \nL 344.661367 155.983995 \nL 344.661367 165.910734 \nL 355.870795 165.517702 \nL 366.84887 164.348116 \nL 366.762468 154.450959 \nL 366.268423 143.892631 \nL 355.577036 144.996053 \nz\n\" style=\"fill:#b79f9f;fill-opacity:0.2;\"/>\n    <path clip-path=\"url(#p1cf457e3f2)\" d=\"M 344.661367 79.980611 \nL 344.661367 89.90735 \nL 344.661367 100.524517 \nL 352.653438 100.272157 \nL 360.488644 99.520673 \nL 358.244172 89.061307 \nL 355.768315 79.300592 \nL 350.267757 79.809723 \nz\n\" style=\"fill:#c8aeae;fill-opacity:0.2;\"/>\n    <path clip-path=\"url(#p1cf457e3f2)\" d=\"M 333.554419 79.300592 \nL 331.078563 89.061307 \nL 328.834091 99.520673 \nL 336.669296 100.272157 \nL 344.661367 100.524517 \nL 344.661367 89.90735 \nL 344.661367 79.980611 \nL 339.054978 79.809723 \nz\n\" style=\"fill:#d5b9b9;fill-opacity:0.2;\"/>\n    <path clip-path=\"url(#p1cf457e3f2)\" d=\"M 307.351662 117.94712 \nL 304.908341 128.852434 \nL 303.201039 139.609565 \nL 312.804679 142.082903 \nL 323.054312 143.892631 \nL 323.949859 132.888021 \nL 325.230607 121.666618 \nL 316.005115 120.095631 \nz\n\" style=\"fill:#e3c5c5;fill-opacity:0.2;\"/>\n    <path clip-path=\"url(#p1cf457e3f2)\" d=\"M 364.092127 121.666618 \nL 365.372875 132.888021 \nL 366.268423 143.892631 \nL 376.518056 142.082903 \nL 386.121696 139.609565 \nL 384.414393 128.852434 \nL 381.971073 117.94712 \nL 373.31762 120.095631 \nz\n\" style=\"fill:#aa9393;fill-opacity:0.2;\"/>\n    <path clip-path=\"url(#p1cf457e3f2)\" d=\"M 314.236623 96.597071 \nL 310.482827 107.120191 \nL 307.351662 117.94712 \nL 316.005115 120.095631 \nL 325.230607 121.666618 \nL 326.870417 110.465308 \nL 328.834091 99.520673 \nL 321.308396 98.286648 \nz\n\" style=\"fill:#e3c5c5;fill-opacity:0.2;\"/>\n    <path clip-path=\"url(#p1cf457e3f2)\" d=\"M 360.488644 99.520673 \nL 362.452318 110.465308 \nL 364.092127 121.666618 \nL 373.31762 120.095631 \nL 381.971073 117.94712 \nL 378.839908 107.120191 \nL 375.086111 96.597071 \nL 368.014339 98.286648 \nz\n\" style=\"fill:#b39b9b;fill-opacity:0.2;\"/>\n    <path clip-path=\"url(#p1cf457e3f2)\" d=\"M 325.230607 121.666618 \nL 323.949859 132.888021 \nL 323.054312 143.892631 \nL 333.745698 144.996053 \nL 344.661367 145.366828 \nL 344.661367 134.276516 \nL 344.661367 122.945672 \nL 334.846857 122.624034 \nz\n\" style=\"fill:#d2b6b6;fill-opacity:0.2;\"/>\n    <path clip-path=\"url(#p1cf457e3f2)\" d=\"M 344.661367 122.945672 \nL 344.661367 134.276516 \nL 344.661367 145.366828 \nL 355.577036 144.996053 \nL 366.268423 143.892631 \nL 365.372875 132.888021 \nL 364.092127 121.666618 \nL 354.475877 122.624034 \nz\n\" style=\"fill:#bea5a5;fill-opacity:0.2;\"/>\n    <path clip-path=\"url(#p1cf457e3f2)\" d=\"M 328.834091 99.520673 \nL 326.870417 110.465308 \nL 325.230607 121.666618 \nL 334.846857 122.624034 \nL 344.661367 122.945672 \nL 344.661367 111.614829 \nL 344.661367 100.524517 \nL 336.669296 100.272157 \nz\n\" style=\"fill:#d5b8b8;fill-opacity:0.2;\"/>\n    <path clip-path=\"url(#p1cf457e3f2)\" d=\"M 344.661367 100.524517 \nL 344.661367 111.614829 \nL 344.661367 122.945672 \nL 354.475877 122.624034 \nL 364.092127 121.666618 \nL 362.452318 110.465308 \nL 360.488644 99.520673 \nL 352.653438 100.272157 \nz\n\" style=\"fill:#c4aaaa;fill-opacity:0.2;\"/>\n   </g>\n  </g>\n  <g id=\"patch_6\">\n   <path d=\"M 479.858824 224.077628 \nL 676.8 224.077628 \nL 676.8 27.136451 \nL 479.858824 27.136451 \nz\n\" style=\"fill:#ffffff;\"/>\n  </g>\n  <g id=\"axes_3\">\n   <g id=\"patch_7\">\n    <path clip-path=\"url(#p6e8c57ca6c)\" d=\"M 580.990779 120.947151 \nQ 580.990779 86.807043 580.990779 58.257106 \n\" style=\"fill:none;stroke:#dc267f;stroke-linecap:round;stroke-width:5;\"/>\n    <path clip-path=\"url(#p6e8c57ca6c)\" d=\"M 576.990779 66.257106 \nL 580.990779 58.257106 \nL 584.990779 66.257106 \nL 576.990779 66.257106 \nz\n\" style=\"fill:#dc267f;stroke:#dc267f;stroke-linecap:round;stroke-width:5;\"/>\n   </g>\n   <g id=\"line2d_15\">\n    <path clip-path=\"url(#p6e8c57ca6c)\" d=\"M 513.63583 103.501973 \nL 652.895192 143.702689 \n\" style=\"fill:none;stroke:#808080;stroke-linecap:square;\"/>\n   </g>\n   <g id=\"line2d_16\">\n    <path clip-path=\"url(#p6e8c57ca6c)\" d=\"M 538.424375 159.809259 \nL 618.997976 90.030474 \n\" style=\"fill:none;stroke:#808080;stroke-linecap:square;\"/>\n   </g>\n   <g id=\"line2d_17\">\n    <path clip-path=\"url(#p6e8c57ca6c)\" d=\"M 580.990779 189.97259 \nL 580.990779 50.663615 \n\" style=\"fill:none;stroke:#808080;stroke-linecap:square;\"/>\n   </g>\n   <g id=\"line2d_18\">\n    <path clip-path=\"url(#p6e8c57ca6c)\" d=\"M 652.895192 143.702689 \nL 657.095646 138.707507 \nL 659.904194 133.518065 \nL 661.304228 128.232406 \nL 661.3064 122.945672 \nL 659.945934 117.748351 \nL 657.279613 112.724907 \nL 653.382667 107.952822 \nL 648.345728 103.501973 \nL 642.27197 99.434317 \nL 635.274538 95.803793 \nL 627.474305 92.656417 \nL 618.997976 90.030474 \nL 609.976528 87.956778 \nL 600.543958 86.458944 \nL 590.836289 85.553637 \nL 580.990779 85.250772 \nL 571.145269 85.553637 \nL 561.4376 86.458944 \nL 552.00503 87.956778 \nL 542.983582 90.030474 \nL 534.507253 92.656417 \nL 526.70702 95.803793 \nL 519.709588 99.434317 \nL 513.63583 103.501973 \n\" style=\"fill:none;stroke:#808080;stroke-linecap:square;\"/>\n   </g>\n   <g id=\"line2d_19\">\n    <path clip-path=\"url(#p6e8c57ca6c)\" d=\"M 618.997976 90.030474 \nL 618.86668 81.507384 \nL 618.11369 73.567485 \nL 616.739002 66.339636 \nL 614.750865 59.948494 \nL 612.166517 54.512597 \nL 609.012906 50.14205 \nL 605.327334 46.935848 \nL 601.157952 44.978868 \nL 596.564036 44.338629 \nL 591.615933 45.061944 \nL 586.394618 47.171646 \nL 580.990779 50.663615 \nL 575.503374 55.504336 \nL 570.037658 61.629269 \nL 564.702686 68.942254 \nL 559.608377 77.31617 \nL 554.862256 86.594961 \nL 550.566035 96.597071 \nL 546.812239 107.120191 \nL 543.681073 117.94712 \nL 541.237753 128.852434 \nL 539.53045 139.609565 \nL 538.588993 149.997867 \nL 538.424375 159.809259 \n\" style=\"fill:none;stroke:#808080;stroke-linecap:square;\"/>\n   </g>\n   <g id=\"line2d_20\">\n    <path clip-path=\"url(#p6e8c57ca6c)\" d=\"M 513.63583 103.501973 \nL 508.598891 107.952822 \nL 504.701946 112.724907 \nL 502.035624 117.748351 \nL 500.675158 122.945672 \nL 500.67733 128.232406 \nL 502.077364 133.518065 \nL 504.885912 138.707507 \nL 509.086366 143.702689 \nL 514.632703 148.404844 \nL 521.448132 152.716996 \nL 529.424743 156.546755 \nL 538.424375 159.809259 \nL 548.280802 162.430108 \nL 558.803276 164.348116 \nL 569.781351 165.517702 \nL 580.990779 165.910734 \nL 592.200207 165.517702 \nL 603.178282 164.348116 \nL 613.700756 162.430108 \nL 623.557183 159.809259 \nL 632.556815 156.546755 \nL 640.533426 152.716996 \nL 647.348855 148.404844 \nL 652.895192 143.702689 \n\" style=\"fill:none;stroke:#808080;stroke-linecap:square;\"/>\n   </g>\n   <g id=\"line2d_21\">\n    <path clip-path=\"url(#p6e8c57ca6c)\" d=\"M 538.424375 159.809259 \nL 539.029073 168.854054 \nL 540.378092 176.965705 \nL 542.430638 184.004281 \nL 545.132245 189.858607 \nL 548.4172 194.447112 \nL 552.211082 197.717518 \nL 556.433283 199.645559 \nL 560.999372 200.232958 \nL 565.823224 199.504904 \nL 570.818844 197.507248 \nL 575.901874 194.303614 \nL 580.990779 189.97259 \nL 586.007736 184.605111 \nL 590.879256 178.302118 \nL 595.536592 171.172535 \nL 599.915981 163.331574 \nL 603.958764 154.899358 \nL 607.611432 145.999835 \nL 610.825648 136.75993 \nL 613.558272 127.308889 \nL 615.771434 117.777738 \nL 617.432669 108.29881 \nL 618.515143 99.005256 \nL 618.997976 90.030474 \n\" style=\"fill:none;stroke:#808080;stroke-linecap:square;\"/>\n   </g>\n   <g id=\"Poly3DCollection_5\">\n    <path clip-path=\"url(#p6e8c57ca6c)\" d=\"M 597.760184 124.049539 \nL 596.359912 133.727131 \nL 594.711275 143.252553 \nL 587.902617 142.554566 \nL 580.990779 142.320913 \nL 580.990779 132.699383 \nL 580.990779 122.945672 \nL 589.436472 123.222452 \nz\n\" style=\"fill:#776767;fill-opacity:0.2;\"/>\n    <path clip-path=\"url(#p6e8c57ca6c)\" d=\"M 580.990779 122.945672 \nL 580.990779 132.699383 \nL 580.990779 142.320913 \nL 574.078941 142.554566 \nL 567.270283 143.252553 \nL 565.621646 133.727131 \nL 564.221374 124.049539 \nL 572.545086 123.222452 \nz\n\" style=\"fill:#887575;fill-opacity:0.2;\"/>\n    <path clip-path=\"url(#p6e8c57ca6c)\" d=\"M 580.990779 103.570432 \nL 580.990779 113.191962 \nL 580.990779 122.945672 \nL 572.545086 123.222452 \nL 564.221374 124.049539 \nL 563.088196 114.35172 \nL 562.238146 104.765934 \nL 571.547759 103.870141 \nz\n\" style=\"fill:#8d7a7a;fill-opacity:0.2;\"/>\n    <path clip-path=\"url(#p6e8c57ca6c)\" d=\"M 599.743412 104.765934 \nL 598.893362 114.35172 \nL 597.760184 124.049539 \nL 589.436472 123.222452 \nL 580.990779 122.945672 \nL 580.990779 113.191962 \nL 580.990779 103.570432 \nL 590.433799 103.870141 \nz\n\" style=\"fill:#7a6a6a;fill-opacity:0.2;\"/>\n    <path clip-path=\"url(#p6e8c57ca6c)\" d=\"M 613.558272 127.308889 \nL 610.825648 136.75993 \nL 607.611432 145.999835 \nL 601.314418 144.405944 \nL 594.711275 143.252553 \nL 596.359912 133.727131 \nL 597.760184 124.049539 \nL 605.840679 125.417149 \nz\n\" style=\"fill:#685a5a;fill-opacity:0.2;\"/>\n    <path clip-path=\"url(#p6e8c57ca6c)\" d=\"M 564.221374 124.049539 \nL 565.621646 133.727131 \nL 567.270283 143.252553 \nL 560.66714 144.405944 \nL 554.370126 145.999835 \nL 551.15591 136.75993 \nL 548.423287 127.308889 \nL 556.140879 125.417149 \nz\n\" style=\"fill:#998585;fill-opacity:0.2;\"/>\n    <path clip-path=\"url(#p6e8c57ca6c)\" d=\"M 562.238146 104.765934 \nL 563.088196 114.35172 \nL 564.221374 124.049539 \nL 556.140879 125.417149 \nL 548.423287 127.308889 \nL 546.210124 117.777738 \nL 544.548889 108.29881 \nL 553.194712 106.247775 \nz\n\" style=\"fill:#a28c8c;fill-opacity:0.2;\"/>\n    <path clip-path=\"url(#p6e8c57ca6c)\" d=\"M 617.432669 108.29881 \nL 615.771434 117.777738 \nL 613.558272 127.308889 \nL 605.840679 125.417149 \nL 597.760184 124.049539 \nL 598.893362 114.35172 \nL 599.743412 104.765934 \nL 608.786846 106.247775 \nz\n\" style=\"fill:#695b5b;fill-opacity:0.2;\"/>\n    <path clip-path=\"url(#p6e8c57ca6c)\" d=\"M 580.990779 142.320913 \nL 580.990779 151.678378 \nL 580.990779 160.640573 \nL 576.069316 160.81175 \nL 571.224416 161.322885 \nL 569.145895 152.494533 \nL 567.270283 143.252553 \nL 574.078941 142.554566 \nz\n\" style=\"fill:#837272;fill-opacity:0.2;\"/>\n    <path clip-path=\"url(#p6e8c57ca6c)\" d=\"M 594.711275 143.252553 \nL 592.835663 152.494533 \nL 590.757142 161.322885 \nL 585.912242 160.81175 \nL 580.990779 160.640573 \nL 580.990779 151.678378 \nL 580.990779 142.320913 \nL 587.902617 142.554566 \nz\n\" style=\"fill:#766767;fill-opacity:0.2;\"/>\n    <path clip-path=\"url(#p6e8c57ca6c)\" d=\"M 600.543958 86.458944 \nL 600.297065 95.424416 \nL 599.743412 104.765934 \nL 590.433799 103.870141 \nL 580.990779 103.570432 \nL 580.990779 94.212967 \nL 580.990779 85.250772 \nL 590.836289 85.553637 \nz\n\" style=\"fill:#7f6e6e;fill-opacity:0.2;\"/>\n    <path clip-path=\"url(#p6e8c57ca6c)\" d=\"M 580.990779 85.250772 \nL 580.990779 94.212967 \nL 580.990779 103.570432 \nL 571.547759 103.870141 \nL 562.238146 104.765934 \nL 561.684493 95.424416 \nL 561.4376 86.458944 \nL 571.145269 85.553637 \nz\n\" style=\"fill:#948080;fill-opacity:0.2;\"/>\n    <path clip-path=\"url(#p6e8c57ca6c)\" d=\"M 607.611432 145.999835 \nL 603.958764 154.899358 \nL 599.915981 163.331574 \nL 595.449744 162.166803 \nL 590.757142 161.322885 \nL 592.835663 152.494533 \nL 594.711275 143.252553 \nL 601.314418 144.405944 \nz\n\" style=\"fill:#6b5d5d;fill-opacity:0.2;\"/>\n    <path clip-path=\"url(#p6e8c57ca6c)\" d=\"M 567.270283 143.252553 \nL 569.145895 152.494533 \nL 571.224416 161.322885 \nL 566.531814 162.166803 \nL 562.065577 163.331574 \nL 558.022794 154.899358 \nL 554.370126 145.999835 \nL 560.66714 144.405944 \nz\n\" style=\"fill:#907d7d;fill-opacity:0.2;\"/>\n    <path clip-path=\"url(#p6e8c57ca6c)\" d=\"M 618.997976 90.030474 \nL 618.515143 99.005256 \nL 617.432669 108.29881 \nL 608.786846 106.247775 \nL 599.743412 104.765934 \nL 600.297065 95.424416 \nL 600.543958 86.458944 \nL 609.976528 87.956778 \nz\n\" style=\"fill:#6d5e5e;fill-opacity:0.2;\"/>\n    <path clip-path=\"url(#p6e8c57ca6c)\" d=\"M 561.4376 86.458944 \nL 561.684493 95.424416 \nL 562.238146 104.765934 \nL 553.194712 106.247775 \nL 544.548889 108.29881 \nL 543.466415 99.005256 \nL 542.983582 90.030474 \nL 552.00503 87.956778 \nz\n\" style=\"fill:#aa9393;fill-opacity:0.2;\"/>\n    <path clip-path=\"url(#p6e8c57ca6c)\" d=\"M 627.439304 132.565477 \nL 623.511672 141.645502 \nL 618.898997 150.419459 \nL 613.504373 148.013316 \nL 607.611432 145.999835 \nL 610.825648 136.75993 \nL 613.558272 127.308889 \nL 620.795725 129.701652 \nz\n\" style=\"fill:#5d5050;fill-opacity:0.2;\"/>\n    <path clip-path=\"url(#p6e8c57ca6c)\" d=\"M 548.423287 127.308889 \nL 551.15591 136.75993 \nL 554.370126 145.999835 \nL 548.477185 148.013316 \nL 543.082561 150.419459 \nL 538.469886 141.645502 \nL 534.542254 132.565477 \nL 541.185833 129.701652 \nz\n\" style=\"fill:#aa9393;fill-opacity:0.2;\"/>\n    <path clip-path=\"url(#p6e8c57ca6c)\" d=\"M 633.017623 114.005869 \nL 630.624412 123.308293 \nL 627.439304 132.565477 \nL 620.795725 129.701652 \nL 613.558272 127.308889 \nL 615.771434 117.777738 \nL 617.432669 108.29881 \nL 625.551621 110.895193 \nz\n\" style=\"fill:#5b4f4f;fill-opacity:0.2;\"/>\n    <path clip-path=\"url(#p6e8c57ca6c)\" d=\"M 544.548889 108.29881 \nL 546.210124 117.777738 \nL 548.423287 127.308889 \nL 541.185833 129.701652 \nL 534.542254 132.565477 \nL 531.357146 123.308293 \nL 528.963935 114.005869 \nL 536.429937 110.895193 \nz\n\" style=\"fill:#b59d9d;fill-opacity:0.2;\"/>\n    <path clip-path=\"url(#p6e8c57ca6c)\" d=\"M 618.898997 150.419459 \nL 613.666468 158.762102 \nL 607.886669 166.552527 \nL 604.084322 164.800566 \nL 599.915981 163.331574 \nL 603.958764 154.899358 \nL 607.611432 145.999835 \nL 613.504373 148.013316 \nz\n\" style=\"fill:#635656;fill-opacity:0.2;\"/>\n    <path clip-path=\"url(#p6e8c57ca6c)\" d=\"M 554.370126 145.999835 \nL 558.022794 154.899358 \nL 562.065577 163.331574 \nL 557.897236 164.800566 \nL 554.094889 166.552527 \nL 548.31509 158.762102 \nL 543.082561 150.419459 \nL 548.477185 148.013316 \nz\n\" style=\"fill:#9e8989;fill-opacity:0.2;\"/>\n    <path clip-path=\"url(#p6e8c57ca6c)\" d=\"M 590.757142 161.322885 \nL 588.502486 169.609076 \nL 586.101217 177.22701 \nL 583.566991 176.952932 \nL 580.990779 176.861099 \nL 580.990779 169.077495 \nL 580.990779 160.640573 \nL 585.912242 160.81175 \nz\n\" style=\"fill:#786868;fill-opacity:0.2;\"/>\n    <path clip-path=\"url(#p6e8c57ca6c)\" d=\"M 580.990779 160.640573 \nL 580.990779 169.077495 \nL 580.990779 176.861099 \nL 578.414567 176.952932 \nL 575.880341 177.22701 \nL 573.479072 169.609076 \nL 571.224416 161.322885 \nL 576.069316 160.81175 \nz\n\" style=\"fill:#7f6e6e;fill-opacity:0.2;\"/>\n    <path clip-path=\"url(#p6e8c57ca6c)\" d=\"M 600.091757 70.177295 \nL 600.476824 78.000267 \nL 600.543958 86.458944 \nL 590.836289 85.553637 \nL 580.990779 85.250772 \nL 580.990779 76.81385 \nL 580.990779 69.030246 \nL 590.608943 69.3178 \nz\n\" style=\"fill:#877575;fill-opacity:0.2;\"/>\n    <path clip-path=\"url(#p6e8c57ca6c)\" d=\"M 580.990779 69.030246 \nL 580.990779 76.81385 \nL 580.990779 85.250772 \nL 571.145269 85.553637 \nL 561.4376 86.458944 \nL 561.504734 78.000267 \nL 561.889801 70.177295 \nL 571.372615 69.3178 \nz\n\" style=\"fill:#9c8787;fill-opacity:0.2;\"/>\n    <path clip-path=\"url(#p6e8c57ca6c)\" d=\"M 599.915981 163.331574 \nL 595.536592 171.172535 \nL 590.879256 178.302118 \nL 588.552053 177.679083 \nL 586.101217 177.22701 \nL 588.502486 169.609076 \nL 590.757142 161.322885 \nL 595.449744 162.166803 \nz\n\" style=\"fill:#716262;fill-opacity:0.2;\"/>\n    <path clip-path=\"url(#p6e8c57ca6c)\" d=\"M 571.224416 161.322885 \nL 573.479072 169.609076 \nL 575.880341 177.22701 \nL 573.429505 177.679083 \nL 571.102302 178.302118 \nL 566.444966 171.172535 \nL 562.065577 163.331574 \nL 566.531814 162.166803 \nz\n\" style=\"fill:#877575;fill-opacity:0.2;\"/>\n    <path clip-path=\"url(#p6e8c57ca6c)\" d=\"M 542.983582 90.030474 \nL 543.466415 99.005256 \nL 544.548889 108.29881 \nL 536.429937 110.895193 \nL 528.963935 114.005869 \nL 527.403383 104.792445 \nL 526.70702 95.803793 \nL 534.507253 92.656417 \nz\n\" style=\"fill:#bfa6a6;fill-opacity:0.2;\"/>\n    <path clip-path=\"url(#p6e8c57ca6c)\" d=\"M 635.274538 95.803793 \nL 634.578175 104.792445 \nL 633.017623 114.005869 \nL 625.551621 110.895193 \nL 617.432669 108.29881 \nL 618.515143 99.005256 \nL 618.997976 90.030474 \nL 627.474305 92.656417 \nz\n\" style=\"fill:#5e5252;fill-opacity:0.2;\"/>\n    <path clip-path=\"url(#p6e8c57ca6c)\" d=\"M 607.886669 166.552527 \nL 601.639325 173.674931 \nL 595.011044 180.019509 \nL 593.044318 179.086374 \nL 590.879256 178.302118 \nL 595.536592 171.172535 \nL 599.915981 163.331574 \nL 604.084322 164.800566 \nz\n\" style=\"fill:#6d5e5e;fill-opacity:0.2;\"/>\n    <path clip-path=\"url(#p6e8c57ca6c)\" d=\"M 562.065577 163.331574 \nL 566.444966 171.172535 \nL 571.102302 178.302118 \nL 568.93724 179.086374 \nL 566.970514 180.019509 \nL 560.342233 173.674931 \nL 554.094889 166.552527 \nL 557.897236 164.800566 \nz\n\" style=\"fill:#907d7d;fill-opacity:0.2;\"/>\n    <path clip-path=\"url(#p6e8c57ca6c)\" d=\"M 618.11369 73.567485 \nL 618.86668 81.507384 \nL 618.997976 90.030474 \nL 609.976528 87.956778 \nL 600.543958 86.458944 \nL 600.476824 78.000267 \nL 600.091757 70.177295 \nL 609.304486 71.599196 \nz\n\" style=\"fill:#756565;fill-opacity:0.2;\"/>\n    <path clip-path=\"url(#p6e8c57ca6c)\" d=\"M 561.889801 70.177295 \nL 561.504734 78.000267 \nL 561.4376 86.458944 \nL 552.00503 87.956778 \nL 542.983582 90.030474 \nL 543.114878 81.507384 \nL 543.867868 73.567485 \nL 552.677072 71.599196 \nz\n\" style=\"fill:#b29a9a;fill-opacity:0.2;\"/>\n    <path clip-path=\"url(#p6e8c57ca6c)\" d=\"M 638.515017 139.55149 \nL 633.601051 148.127677 \nL 627.841858 156.27201 \nL 623.705913 153.185323 \nL 618.898997 150.419459 \nL 623.511672 141.645502 \nL 627.439304 132.565477 \nL 633.380006 135.863426 \nz\n\" style=\"fill:#554949;fill-opacity:0.2;\"/>\n    <path clip-path=\"url(#p6e8c57ca6c)\" d=\"M 534.542254 132.565477 \nL 538.469886 141.645502 \nL 543.082561 150.419459 \nL 538.275645 153.185323 \nL 534.1397 156.27201 \nL 528.380507 148.127677 \nL 523.466541 139.55149 \nL 528.601552 135.863426 \nz\n\" style=\"fill:#baa1a1;fill-opacity:0.2;\"/>\n    <path clip-path=\"url(#p6e8c57ca6c)\" d=\"M 627.841858 156.27201 \nL 621.324186 163.865941 \nL 614.143847 170.798004 \nL 611.259301 168.5617 \nL 607.886669 166.552527 \nL 613.666468 158.762102 \nL 618.898997 150.419459 \nL 623.705913 153.185323 \nz\n\" style=\"fill:#5d5151;fill-opacity:0.2;\"/>\n    <path clip-path=\"url(#p6e8c57ca6c)\" d=\"M 543.082561 150.419459 \nL 548.31509 158.762102 \nL 554.094889 166.552527 \nL 550.722257 168.5617 \nL 547.837711 170.798004 \nL 540.657372 163.865941 \nL 534.1397 156.27201 \nL 538.275645 153.185323 \nz\n\" style=\"fill:#aa9393;fill-opacity:0.2;\"/>\n    <path clip-path=\"url(#p6e8c57ca6c)\" d=\"M 645.510211 121.608446 \nL 642.506827 130.6683 \nL 638.515017 139.55149 \nL 633.380006 135.863426 \nL 627.439304 132.565477 \nL 630.624412 123.308293 \nL 633.017623 114.005869 \nL 639.709041 117.592337 \nz\n\" style=\"fill:#514747;fill-opacity:0.2;\"/>\n    <path clip-path=\"url(#p6e8c57ca6c)\" d=\"M 528.963935 114.005869 \nL 531.357146 123.308293 \nL 534.542254 132.565477 \nL 528.601552 135.863426 \nL 523.466541 139.55149 \nL 519.474731 130.6683 \nL 516.471347 121.608446 \nL 522.272517 117.592337 \nz\n\" style=\"fill:#c7adad;fill-opacity:0.2;\"/>\n    <path clip-path=\"url(#p6e8c57ca6c)\" d=\"M 554.094889 166.552527 \nL 560.342233 173.674931 \nL 566.970514 180.019509 \nL 565.235455 181.086717 \nL 563.761976 182.270914 \nL 555.57654 176.964613 \nL 547.837711 170.798004 \nL 550.722257 168.5617 \nz\n\" style=\"fill:#988484;fill-opacity:0.2;\"/>\n    <path clip-path=\"url(#p6e8c57ca6c)\" d=\"M 614.143847 170.798004 \nL 606.405018 176.964613 \nL 598.219582 182.270914 \nL 596.746103 181.086717 \nL 595.011044 180.019509 \nL 601.639325 173.674931 \nL 607.886669 166.552527 \nL 611.259301 168.5617 \nz\n\" style=\"fill:#6a5c5c;fill-opacity:0.2;\"/>\n    <path clip-path=\"url(#p6e8c57ca6c)\" d=\"M 633.999317 79.045623 \nL 635.085159 87.176265 \nL 635.274538 95.803793 \nL 627.474305 92.656417 \nL 618.997976 90.030474 \nL 618.86668 81.507384 \nL 618.11369 73.567485 \nL 626.388039 76.059481 \nz\n\" style=\"fill:#665858;fill-opacity:0.2;\"/>\n    <path clip-path=\"url(#p6e8c57ca6c)\" d=\"M 543.867868 73.567485 \nL 543.114878 81.507384 \nL 542.983582 90.030474 \nL 534.507253 92.656417 \nL 526.70702 95.803793 \nL 526.896399 87.176265 \nL 527.982241 79.045623 \nL 535.593519 76.059481 \nz\n\" style=\"fill:#c7acac;fill-opacity:0.2;\"/>\n    <path clip-path=\"url(#p6e8c57ca6c)\" d=\"M 586.101217 177.22701 \nL 583.585631 184.054083 \nL 580.990779 189.97259 \nL 580.990779 189.97259 \nL 580.990779 189.97259 \nL 580.990779 183.866343 \nL 580.990779 176.861099 \nL 583.566991 176.952932 \nz\n\" style=\"fill:#736464;fill-opacity:0.2;\"/>\n    <path clip-path=\"url(#p6e8c57ca6c)\" d=\"M 580.990779 176.861099 \nL 580.990779 183.866343 \nL 580.990779 189.97259 \nL 580.990779 189.97259 \nL 580.990779 189.97259 \nL 578.395927 184.054083 \nL 575.880341 177.22701 \nL 578.414567 176.952932 \nz\n\" style=\"fill:#746464;fill-opacity:0.2;\"/>\n    <path clip-path=\"url(#p6e8c57ca6c)\" d=\"M 590.879256 178.302118 \nL 586.007736 184.605111 \nL 580.990779 189.97259 \nL 580.990779 189.97259 \nL 580.990779 189.97259 \nL 583.585631 184.054083 \nL 586.101217 177.22701 \nL 588.552053 177.679083 \nz\n\" style=\"fill:#746464;fill-opacity:0.2;\"/>\n    <path clip-path=\"url(#p6e8c57ca6c)\" d=\"M 575.880341 177.22701 \nL 578.395927 184.054083 \nL 580.990779 189.97259 \nL 580.990779 189.97259 \nL 580.990779 189.97259 \nL 575.973822 184.605111 \nL 571.102302 178.302118 \nL 573.429505 177.679083 \nz\n\" style=\"fill:#766666;fill-opacity:0.2;\"/>\n    <path clip-path=\"url(#p6e8c57ca6c)\" d=\"M 633.806983 163.223356 \nL 626.391716 169.911366 \nL 618.248063 175.811511 \nL 616.488304 173.22726 \nL 614.143847 170.798004 \nL 621.324186 163.865941 \nL 627.841858 156.27201 \nL 631.231104 159.634793 \nz\n\" style=\"fill:#5b4f4f;fill-opacity:0.2;\"/>\n    <path clip-path=\"url(#p6e8c57ca6c)\" d=\"M 598.370914 56.938058 \nL 599.38852 63.116017 \nL 600.091757 70.177295 \nL 590.608943 69.3178 \nL 580.990779 69.030246 \nL 580.990779 62.025002 \nL 580.990779 55.918755 \nL 589.74363 56.174319 \nz\n\" style=\"fill:#917d7d;fill-opacity:0.2;\"/>\n    <path clip-path=\"url(#p6e8c57ca6c)\" d=\"M 580.990779 55.918755 \nL 580.990779 62.025002 \nL 580.990779 69.030246 \nL 571.372615 69.3178 \nL 561.889801 70.177295 \nL 562.593038 63.116017 \nL 563.610644 56.938058 \nL 572.237928 56.174319 \nz\n\" style=\"fill:#a48e8e;fill-opacity:0.2;\"/>\n    <path clip-path=\"url(#p6e8c57ca6c)\" d=\"M 618.248063 175.811511 \nL 609.500834 180.836766 \nL 600.282313 184.911827 \nL 599.405502 183.552941 \nL 598.219582 182.270914 \nL 606.405018 176.964613 \nL 614.143847 170.798004 \nL 616.488304 173.22726 \nz\n\" style=\"fill:#6a5c5c;fill-opacity:0.2;\"/>\n    <path clip-path=\"url(#p6e8c57ca6c)\" d=\"M 595.011044 180.019509 \nL 588.095043 185.483523 \nL 580.990779 189.97259 \nL 580.990779 189.97259 \nL 580.990779 189.97259 \nL 586.007736 184.605111 \nL 590.879256 178.302118 \nL 593.044318 179.086374 \nz\n\" style=\"fill:#766666;fill-opacity:0.2;\"/>\n    <path clip-path=\"url(#p6e8c57ca6c)\" d=\"M 571.102302 178.302118 \nL 575.973822 184.605111 \nL 580.990779 189.97259 \nL 580.990779 189.97259 \nL 580.990779 189.97259 \nL 573.886515 185.483523 \nL 566.970514 180.019509 \nL 568.93724 179.086374 \nz\n\" style=\"fill:#796969;fill-opacity:0.2;\"/>\n    <path clip-path=\"url(#p6e8c57ca6c)\" d=\"M 648.345728 103.501973 \nL 647.47051 112.50685 \nL 645.510211 121.608446 \nL 639.709041 117.592337 \nL 633.017623 114.005869 \nL 634.578175 104.792445 \nL 635.274538 95.803793 \nL 642.27197 99.434317 \nz\n\" style=\"fill:#544949;fill-opacity:0.2;\"/>\n    <path clip-path=\"url(#p6e8c57ca6c)\" d=\"M 526.70702 95.803793 \nL 527.403383 104.792445 \nL 528.963935 114.005869 \nL 522.272517 117.592337 \nL 516.471347 121.608446 \nL 514.511048 112.50685 \nL 513.63583 103.501973 \nL 519.709588 99.434317 \nz\n\" style=\"fill:#d2b6b6;fill-opacity:0.2;\"/>\n    <path clip-path=\"url(#p6e8c57ca6c)\" d=\"M 645.997939 147.886546 \nL 640.37776 155.845583 \nL 633.806983 163.223356 \nL 631.231104 159.634793 \nL 627.841858 156.27201 \nL 633.601051 148.127677 \nL 638.515017 139.55149 \nL 642.749388 143.578564 \nz\n\" style=\"fill:#514646;fill-opacity:0.2;\"/>\n    <path clip-path=\"url(#p6e8c57ca6c)\" d=\"M 598.219582 182.270914 \nL 589.706444 186.631724 \nL 580.990779 189.97259 \nL 580.990779 189.97259 \nL 580.990779 189.97259 \nL 588.095043 185.483523 \nL 595.011044 180.019509 \nL 596.746103 181.086717 \nz\n\" style=\"fill:#7a6969;fill-opacity:0.2;\"/>\n    <path clip-path=\"url(#p6e8c57ca6c)\" d=\"M 566.970514 180.019509 \nL 573.886515 185.483523 \nL 580.990779 189.97259 \nL 580.990779 189.97259 \nL 580.990779 189.97259 \nL 572.275114 186.631724 \nL 563.761976 182.270914 \nL 565.235455 181.086717 \nz\n\" style=\"fill:#7e6d6d;fill-opacity:0.2;\"/>\n    <path clip-path=\"url(#p6e8c57ca6c)\" d=\"M 614.750865 59.948494 \nL 616.739002 66.339636 \nL 618.11369 73.567485 \nL 609.304486 71.599196 \nL 600.091757 70.177295 \nL 599.38852 63.116017 \nL 598.370914 56.938058 \nL 606.747778 58.201083 \nz\n\" style=\"fill:#7f6e6e;fill-opacity:0.2;\"/>\n    <path clip-path=\"url(#p6e8c57ca6c)\" d=\"M 563.610644 56.938058 \nL 562.593038 63.116017 \nL 561.889801 70.177295 \nL 552.677072 71.599196 \nL 543.867868 73.567485 \nL 545.242556 66.339636 \nL 547.230693 59.948494 \nL 555.23378 58.201083 \nz\n\" style=\"fill:#b8a0a0;fill-opacity:0.2;\"/>\n    <path clip-path=\"url(#p6e8c57ca6c)\" d=\"M 600.282313 184.911827 \nL 590.731073 187.973749 \nL 580.990779 189.97259 \nL 580.990779 189.97259 \nL 580.990779 189.97259 \nL 589.706444 186.631724 \nL 598.219582 182.270914 \nL 599.405502 183.552941 \nz\n\" style=\"fill:#7e6e6e;fill-opacity:0.2;\"/>\n    <path clip-path=\"url(#p6e8c57ca6c)\" d=\"M 601.047185 187.768997 \nL 591.096129 189.419838 \nL 580.990779 189.97259 \nL 580.990779 189.97259 \nL 580.990779 189.97259 \nL 590.731073 187.973749 \nL 600.282313 184.911827 \nL 600.833341 186.325075 \nz\n\" style=\"fill:#847272;fill-opacity:0.2;\"/>\n    <path clip-path=\"url(#p6e8c57ca6c)\" d=\"M 619.878177 181.27677 \nL 610.691137 185.042297 \nL 601.047185 187.768997 \nL 600.833341 186.325075 \nL 600.282313 184.911827 \nL 609.500834 180.836766 \nL 618.248063 175.811511 \nL 619.386942 178.50942 \nz\n\" style=\"fill:#6c5e5e;fill-opacity:0.2;\"/>\n    <path clip-path=\"url(#p6e8c57ca6c)\" d=\"M 654.020354 130.705947 \nL 650.572774 139.464377 \nL 645.997939 147.886546 \nL 642.749388 143.578564 \nL 638.515017 139.55149 \nL 642.506827 130.6683 \nL 645.510211 121.608446 \nL 650.313281 126.000244 \nz\n\" style=\"fill:#4d4343;fill-opacity:0.2;\"/>\n    <path clip-path=\"url(#p6e8c57ca6c)\" d=\"M 600.445938 190.6504 \nL 590.772611 190.872095 \nL 580.990779 189.97259 \nL 580.990779 189.97259 \nL 580.990779 189.97259 \nL 591.096129 189.419838 \nL 601.047185 187.768997 \nL 600.918039 189.219082 \nz\n\" style=\"fill:#897777;fill-opacity:0.2;\"/>\n    <path clip-path=\"url(#p6e8c57ca6c)\" d=\"M 636.306988 170.850914 \nL 628.463099 176.52418 \nL 619.878177 181.27677 \nL 619.386942 178.50942 \nL 618.248063 175.811511 \nL 626.391716 169.911366 \nL 633.806983 163.223356 \nL 635.513497 166.982148 \nz\n\" style=\"fill:#5c5050;fill-opacity:0.2;\"/>\n    <path clip-path=\"url(#p6e8c57ca6c)\" d=\"M 646.743201 86.346275 \nL 648.10768 94.734585 \nL 648.345728 103.501973 \nL 642.27197 99.434317 \nL 635.274538 95.803793 \nL 635.085159 87.176265 \nL 633.999317 79.045623 \nL 640.82368 82.489229 \nz\n\" style=\"fill:#5c4f4f;fill-opacity:0.2;\"/>\n    <path clip-path=\"url(#p6e8c57ca6c)\" d=\"M 527.982241 79.045623 \nL 526.896399 87.176265 \nL 526.70702 95.803793 \nL 519.709588 99.434317 \nL 513.63583 103.501973 \nL 513.873878 94.734585 \nL 515.238357 86.346275 \nL 521.157878 82.489229 \nz\n\" style=\"fill:#dabdbd;fill-opacity:0.2;\"/>\n    <path clip-path=\"url(#p6e8c57ca6c)\" d=\"M 598.503003 193.357525 \nL 589.77839 192.230968 \nL 580.990779 189.97259 \nL 580.990779 189.97259 \nL 580.990779 189.97259 \nL 590.772611 190.872095 \nL 600.445938 190.6504 \nL 599.636908 192.038032 \nz\n\" style=\"fill:#8f7c7c;fill-opacity:0.2;\"/>\n    <path clip-path=\"url(#p6e8c57ca6c)\" d=\"M 547.230693 59.948494 \nL 545.242556 66.339636 \nL 543.867868 73.567485 \nL 535.593519 76.059481 \nL 527.982241 79.045623 \nL 529.963499 71.54559 \nL 532.826371 64.806089 \nL 539.722368 62.159263 \nz\n\" style=\"fill:#ccb1b1;fill-opacity:0.2;\"/>\n    <path clip-path=\"url(#p6e8c57ca6c)\" d=\"M 629.155187 64.806089 \nL 632.018059 71.54559 \nL 633.999317 79.045623 \nL 626.388039 76.059481 \nL 618.11369 73.567485 \nL 616.739002 66.339636 \nL 614.750865 59.948494 \nL 622.25919 62.159263 \nz\n\" style=\"fill:#726262;fill-opacity:0.2;\"/>\n    <path clip-path=\"url(#p6e8c57ca6c)\" d=\"M 618.863216 186.832264 \nL 609.859653 189.300759 \nL 600.445938 190.6504 \nL 600.918039 189.219082 \nL 601.047185 187.768997 \nL 610.691137 185.042297 \nL 619.878177 181.27677 \nL 619.705353 184.067068 \nz\n\" style=\"fill:#706161;fill-opacity:0.2;\"/>\n    <path clip-path=\"url(#p6e8c57ca6c)\" d=\"M 649.258518 157.079542 \nL 643.279042 164.337759 \nL 636.306988 170.850914 \nL 635.513497 166.982148 \nL 633.806983 163.223356 \nL 640.37776 155.845583 \nL 645.997939 147.886546 \nL 648.187369 152.410586 \nz\n\" style=\"fill:#524747;fill-opacity:0.2;\"/>\n    <path clip-path=\"url(#p6e8c57ca6c)\" d=\"M 657.279613 112.724907 \nL 656.273148 121.745807 \nL 654.020354 130.705947 \nL 650.313281 126.000244 \nL 645.510211 121.608446 \nL 647.47051 112.50685 \nL 648.345728 103.501973 \nL 653.382667 107.952822 \nz\n\" style=\"fill:#4f4444;fill-opacity:0.2;\"/>\n    <path clip-path=\"url(#p6e8c57ca6c)\" d=\"M 595.430331 47.685419 \nL 597.047165 51.758856 \nL 598.370914 56.938058 \nL 589.74363 56.174319 \nL 580.990779 55.918755 \nL 580.990779 50.825945 \nL 580.990779 46.852595 \nL 588.26443 47.061454 \nz\n\" style=\"fill:#9b8686;fill-opacity:0.2;\"/>\n    <path clip-path=\"url(#p6e8c57ca6c)\" d=\"M 580.990779 46.852595 \nL 580.990779 50.825945 \nL 580.990779 55.918755 \nL 572.237928 56.174319 \nL 563.610644 56.938058 \nL 564.934393 51.758856 \nL 566.551227 47.685419 \nL 573.717128 47.061454 \nz\n\" style=\"fill:#ac9595;fill-opacity:0.2;\"/>\n    <path clip-path=\"url(#p6e8c57ca6c)\" d=\"M 615.209517 192.092364 \nL 607.026578 193.317539 \nL 598.503003 193.357525 \nL 599.636908 192.038032 \nL 600.445938 190.6504 \nL 609.859653 189.300759 \nL 618.863216 186.832264 \nL 617.35833 189.523568 \nz\n\" style=\"fill:#766666;fill-opacity:0.2;\"/>\n    <path clip-path=\"url(#p6e8c57ca6c)\" d=\"M 635.051783 178.658243 \nL 627.308485 183.270524 \nL 618.863216 186.832264 \nL 619.705353 184.067068 \nL 619.878177 181.27677 \nL 628.463099 176.52418 \nL 636.306988 170.850914 \nL 636.157787 174.765398 \nz\n\" style=\"fill:#615454;fill-opacity:0.2;\"/>\n    <path clip-path=\"url(#p6e8c57ca6c)\" d=\"M 609.012906 50.14205 \nL 612.166517 54.512597 \nL 614.750865 59.948494 \nL 606.747778 58.201083 \nL 598.370914 56.938058 \nL 597.047165 51.758856 \nL 595.430331 47.685419 \nL 602.381563 48.716651 \nz\n\" style=\"fill:#8c7a7a;fill-opacity:0.2;\"/>\n    <path clip-path=\"url(#p6e8c57ca6c)\" d=\"M 566.551227 47.685419 \nL 564.934393 51.758856 \nL 563.610644 56.938058 \nL 555.23378 58.201083 \nL 547.230693 59.948494 \nL 549.815041 54.512597 \nL 552.968652 50.14205 \nL 559.599995 48.716651 \nz\n\" style=\"fill:#bda4a4;fill-opacity:0.2;\"/>\n    <path clip-path=\"url(#p6e8c57ca6c)\" d=\"M 657.8196 140.773863 \nL 654.136806 149.184576 \nL 649.258518 157.079542 \nL 648.187369 152.410586 \nL 645.997939 147.886546 \nL 650.572774 139.464377 \nL 654.020354 130.705947 \nL 656.545935 135.656083 \nz\n\" style=\"fill:#4e4343;fill-opacity:0.2;\"/>\n    <path clip-path=\"url(#p6e8c57ca6c)\" d=\"M 532.826371 64.806089 \nL 529.963499 71.54559 \nL 527.982241 79.045623 \nL 521.157878 82.489229 \nL 515.238357 86.346275 \nL 517.726181 78.477701 \nL 521.316832 71.266518 \nL 526.655605 67.855256 \nz\n\" style=\"fill:#dec0c0;fill-opacity:0.2;\"/>\n    <path clip-path=\"url(#p6e8c57ca6c)\" d=\"M 640.664726 71.266518 \nL 644.255377 78.477701 \nL 646.743201 86.346275 \nL 640.82368 82.489229 \nL 633.999317 79.045623 \nL 632.018059 71.54559 \nL 629.155187 64.806089 \nL 635.325953 67.855256 \nz\n\" style=\"fill:#685a5a;fill-opacity:0.2;\"/>\n    <path clip-path=\"url(#p6e8c57ca6c)\" d=\"M 655.43708 95.087028 \nL 657.005826 103.789045 \nL 657.279613 112.724907 \nL 653.382667 107.952822 \nL 648.345728 103.501973 \nL 648.10768 94.734585 \nL 646.743201 86.346275 \nL 651.647728 90.565234 \nz\n\" style=\"fill:#574b4b;fill-opacity:0.2;\"/>\n    <path clip-path=\"url(#p6e8c57ca6c)\" d=\"M 620.909283 54.096437 \nL 625.43822 58.951145 \nL 629.155187 64.806089 \nL 622.25919 62.159263 \nL 614.750865 59.948494 \nL 612.166517 54.512597 \nL 609.012906 50.14205 \nL 615.221778 51.943222 \nz\n\" style=\"fill:#817070;fill-opacity:0.2;\"/>\n    <path clip-path=\"url(#p6e8c57ca6c)\" d=\"M 552.968652 50.14205 \nL 549.815041 54.512597 \nL 547.230693 59.948494 \nL 539.722368 62.159263 \nL 532.826371 64.806089 \nL 536.543338 58.951145 \nL 541.072275 54.096437 \nL 546.75978 51.943222 \nz\n\" style=\"fill:#ceb3b3;fill-opacity:0.2;\"/>\n    <path clip-path=\"url(#p6e8c57ca6c)\" d=\"M 647.894018 166.540672 \nL 641.956182 173.055646 \nL 635.051783 178.658243 \nL 636.157787 174.765398 \nL 636.306988 170.850914 \nL 643.279042 164.337759 \nL 649.258518 157.079542 \nL 649.168701 161.816683 \nz\n\" style=\"fill:#574c4c;fill-opacity:0.2;\"/>\n    <path clip-path=\"url(#p6e8c57ca6c)\" d=\"M 629.998714 186.10098 \nL 622.912511 189.680899 \nL 615.209517 192.092364 \nL 617.35833 189.523568 \nL 618.863216 186.832264 \nL 627.308485 183.270524 \nL 635.051783 178.658243 \nL 632.991801 182.46011 \nz\n\" style=\"fill:#685a5a;fill-opacity:0.2;\"/>\n    <path clip-path=\"url(#p6e8c57ca6c)\" d=\"M 661.3064 122.945672 \nL 660.229133 131.979986 \nL 657.8196 140.773863 \nL 656.545935 135.656083 \nL 654.020354 130.705947 \nL 656.273148 121.745807 \nL 657.279613 112.724907 \nL 659.945934 117.748351 \nz\n\" style=\"fill:#504545;fill-opacity:0.2;\"/>\n    <path clip-path=\"url(#p6e8c57ca6c)\" d=\"M 580.990779 42.630051 \nL 580.990779 44.09367 \nL 580.990779 46.852595 \nL 573.717128 47.061454 \nL 566.551227 47.685419 \nL 568.442887 44.813682 \nL 570.58559 43.225482 \nL 575.747668 42.779424 \nz\n\" style=\"fill:#b29a9a;fill-opacity:0.2;\"/>\n    <path clip-path=\"url(#p6e8c57ca6c)\" d=\"M 591.395968 43.225482 \nL 593.538671 44.813682 \nL 595.430331 47.685419 \nL 588.26443 47.061454 \nL 580.990779 46.852595 \nL 580.990779 44.09367 \nL 580.990779 42.630051 \nL 586.23389 42.779424 \nz\n\" style=\"fill:#a69090;fill-opacity:0.2;\"/>\n    <path clip-path=\"url(#p6e8c57ca6c)\" d=\"M 648.460581 78.981493 \nL 652.579353 86.768507 \nL 655.43708 95.087028 \nL 651.647728 90.565234 \nL 646.743201 86.346275 \nL 644.255377 78.477701 \nL 640.664726 71.266518 \nL 645.072615 74.99305 \nz\n\" style=\"fill:#645656;fill-opacity:0.2;\"/>\n    <path clip-path=\"url(#p6e8c57ca6c)\" d=\"M 630.350245 59.337356 \nL 636.010246 64.844999 \nL 640.664726 71.266518 \nL 635.325953 67.855256 \nL 629.155187 64.806089 \nL 625.43822 58.951145 \nL 620.909283 54.096437 \nL 625.981388 56.572618 \nz\n\" style=\"fill:#796969;fill-opacity:0.2;\"/>\n    <path clip-path=\"url(#p6e8c57ca6c)\" d=\"M 541.072275 54.096437 \nL 536.543338 58.951145 \nL 532.826371 64.806089 \nL 526.655605 67.855256 \nL 521.316832 71.266518 \nL 525.971312 64.844999 \nL 531.631313 59.337356 \nL 536.00017 56.572618 \nz\n\" style=\"fill:#dec0c0;fill-opacity:0.2;\"/>\n    <path clip-path=\"url(#p6e8c57ca6c)\" d=\"M 656.421939 151.172862 \nL 652.749583 159.208863 \nL 647.894018 166.540672 \nL 649.168701 161.816683 \nL 649.258518 157.079542 \nL 654.136806 149.184576 \nL 657.8196 140.773863 \nL 657.788844 145.975831 \nz\n\" style=\"fill:#544949;fill-opacity:0.2;\"/>\n    <path clip-path=\"url(#p6e8c57ca6c)\" d=\"M 570.58559 43.225482 \nL 568.442887 44.813682 \nL 566.551227 47.685419 \nL 559.599995 48.716651 \nL 552.968652 50.14205 \nL 556.654225 46.935848 \nL 560.823606 44.978868 \nL 565.584739 43.962052 \nz\n\" style=\"fill:#c0a6a6;fill-opacity:0.2;\"/>\n    <path clip-path=\"url(#p6e8c57ca6c)\" d=\"M 601.157952 44.978868 \nL 605.327334 46.935848 \nL 609.012906 50.14205 \nL 602.381563 48.716651 \nL 595.430331 47.685419 \nL 593.538671 44.813682 \nL 591.395968 43.225482 \nL 596.396819 43.962052 \nz\n\" style=\"fill:#9b8686;fill-opacity:0.2;\"/>\n    <path clip-path=\"url(#p6e8c57ca6c)\" d=\"M 659.334614 104.765922 \nL 661.013306 113.821951 \nL 661.3064 122.945672 \nL 659.945934 117.748351 \nL 657.279613 112.724907 \nL 657.005826 103.789045 \nL 655.43708 95.087028 \nL 658.023541 99.845133 \nz\n\" style=\"fill:#574c4c;fill-opacity:0.2;\"/>\n    <path clip-path=\"url(#p6e8c57ca6c)\" d=\"M 641.800979 175.608851 \nL 636.336242 181.390599 \nL 629.998714 186.10098 \nL 632.991801 182.46011 \nL 635.051783 178.658243 \nL 641.956182 173.055646 \nL 647.894018 166.540672 \nL 645.431507 171.166855 \nz\n\" style=\"fill:#615454;fill-opacity:0.2;\"/>\n    <path clip-path=\"url(#p6e8c57ca6c)\" d=\"M 560.823606 44.978868 \nL 556.654225 46.935848 \nL 552.968652 50.14205 \nL 546.75978 51.943222 \nL 541.072275 54.096437 \nL 546.355749 50.346543 \nL 552.320587 47.791916 \nL 556.378094 46.261601 \nz\n\" style=\"fill:#cdb1b1;fill-opacity:0.2;\"/>\n    <path clip-path=\"url(#p6e8c57ca6c)\" d=\"M 609.660971 47.791916 \nL 615.625809 50.346543 \nL 620.909283 54.096437 \nL 615.221778 51.943222 \nL 609.012906 50.14205 \nL 605.327334 46.935848 \nL 601.157952 44.978868 \nL 605.603464 46.261601 \nz\n\" style=\"fill:#927f7f;fill-opacity:0.2;\"/>\n    <path clip-path=\"url(#p6e8c57ca6c)\" d=\"M 636.66672 65.568828 \nL 643.13161 71.869566 \nL 648.460581 78.981493 \nL 645.072615 74.99305 \nL 640.664726 71.266518 \nL 636.010246 64.844999 \nL 630.350245 59.337356 \nL 633.935662 62.350999 \nz\n\" style=\"fill:#756666;fill-opacity:0.2;\"/>\n    <path clip-path=\"url(#p6e8c57ca6c)\" d=\"M 659.904194 133.518065 \nL 658.827776 142.561452 \nL 656.421939 151.172862 \nL 657.788844 145.975831 \nL 657.8196 140.773863 \nL 660.229133 131.979986 \nL 661.3064 122.945672 \nL 661.304228 128.232406 \nz\n\" style=\"fill:#564a4a;fill-opacity:0.2;\"/>\n    <path clip-path=\"url(#p6e8c57ca6c)\" d=\"M 552.320587 47.791916 \nL 546.355749 50.346543 \nL 541.072275 54.096437 \nL 536.00017 56.572618 \nL 531.631313 59.337356 \nL 538.218724 54.856816 \nL 545.635586 51.502516 \nL 548.718968 49.547565 \nz\n\" style=\"fill:#d9bcbc;fill-opacity:0.2;\"/>\n    <path clip-path=\"url(#p6e8c57ca6c)\" d=\"M 616.345972 51.502516 \nL 623.762835 54.856816 \nL 630.350245 59.337356 \nL 625.981388 56.572618 \nL 620.909283 54.096437 \nL 615.625809 50.346543 \nL 609.660971 47.791916 \nL 613.26259 49.547565 \nz\n\" style=\"fill:#8c7a7a;fill-opacity:0.2;\"/>\n    <path clip-path=\"url(#p6e8c57ca6c)\" d=\"M 651.883283 87.49942 \nL 656.279602 95.938106 \nL 659.334614 104.765922 \nL 658.023541 99.845133 \nL 655.43708 95.087028 \nL 652.579353 86.768507 \nL 648.460581 78.981493 \nL 650.751647 83.17216 \nz\n\" style=\"fill:#645757;fill-opacity:0.2;\"/>\n    <path clip-path=\"url(#p6e8c57ca6c)\" d=\"M 649.672854 161.175786 \nL 646.279617 168.836459 \nL 641.800979 175.608851 \nL 645.431507 171.166855 \nL 647.894018 166.540672 \nL 652.749583 159.208863 \nL 656.421939 151.172862 \nL 653.710689 156.271517 \nz\n\" style=\"fill:#5f5252;fill-opacity:0.2;\"/>\n    <path clip-path=\"url(#p6e8c57ca6c)\" d=\"M 586.481281 44.136592 \nL 589.031736 42.985258 \nL 591.395968 43.225482 \nL 586.23389 42.779424 \nL 580.990779 42.630051 \nL 580.990779 42.52521 \nL 580.990779 43.821701 \nL 583.7585 43.900727 \nz\n\" style=\"fill:#af9797;fill-opacity:0.2;\"/>\n    <path clip-path=\"url(#p6e8c57ca6c)\" d=\"M 580.990779 43.821701 \nL 580.990779 42.52521 \nL 580.990779 42.630051 \nL 575.747668 42.779424 \nL 570.58559 43.225482 \nL 572.949822 42.985258 \nL 575.500277 44.136592 \nL 578.223058 43.900727 \nz\n\" style=\"fill:#b69e9e;fill-opacity:0.2;\"/>\n    <path clip-path=\"url(#p6e8c57ca6c)\" d=\"M 591.615933 45.061944 \nL 596.564036 44.338629 \nL 601.157952 44.978868 \nL 596.396819 43.962052 \nL 591.395968 43.225482 \nL 589.031736 42.985258 \nL 586.481281 44.136592 \nL 589.114795 44.525667 \nz\n\" style=\"fill:#a89292;fill-opacity:0.2;\"/>\n    <path clip-path=\"url(#p6e8c57ca6c)\" d=\"M 575.500277 44.136592 \nL 572.949822 42.985258 \nL 570.58559 43.225482 \nL 565.584739 43.962052 \nL 560.823606 44.978868 \nL 565.417522 44.338629 \nL 570.365625 45.061944 \nL 572.866763 44.525667 \nz\n\" style=\"fill:#bea5a5;fill-opacity:0.2;\"/>\n    <path clip-path=\"url(#p6e8c57ca6c)\" d=\"M 657.93434 114.76949 \nL 659.611282 124.198741 \nL 659.904194 133.518065 \nL 661.304228 128.232406 \nL 661.3064 122.945672 \nL 661.013306 113.821951 \nL 659.334614 104.765922 \nL 659.315955 109.76927 \nz\n\" style=\"fill:#5e5151;fill-opacity:0.2;\"/>\n    <path clip-path=\"url(#p6e8c57ca6c)\" d=\"M 620.742786 55.888454 \nL 629.163618 60.204668 \nL 636.66672 65.568828 \nL 633.935662 62.350999 \nL 630.350245 59.337356 \nL 623.762835 54.856816 \nL 616.345972 51.502516 \nL 618.855378 53.627137 \nz\n\" style=\"fill:#8a7878;fill-opacity:0.2;\"/>\n    <path clip-path=\"url(#p6e8c57ca6c)\" d=\"M 596.058411 46.540571 \nL 603.103733 46.505709 \nL 609.660971 47.791916 \nL 605.603464 46.261601 \nL 601.157952 44.978868 \nL 596.564036 44.338629 \nL 591.615933 45.061944 \nL 593.94342 45.737097 \nz\n\" style=\"fill:#a48e8e;fill-opacity:0.2;\"/>\n    <path clip-path=\"url(#p6e8c57ca6c)\" d=\"M 570.365625 45.061944 \nL 565.417522 44.338629 \nL 560.823606 44.978868 \nL 556.378094 46.261601 \nL 552.320587 47.791916 \nL 558.877825 46.505709 \nL 565.923147 46.540571 \nL 568.038139 45.737097 \nz\n\" style=\"fill:#c7acac;fill-opacity:0.2;\"/>\n    <path clip-path=\"url(#p6e8c57ca6c)\" d=\"M 639.338884 72.414731 \nL 646.207089 79.607826 \nL 651.883283 87.49942 \nL 650.751647 83.17216 \nL 648.460581 78.981493 \nL 643.13161 71.869566 \nL 636.66672 65.568828 \nL 638.4835 68.941348 \nz\n\" style=\"fill:#766666;fill-opacity:0.2;\"/>\n    <path clip-path=\"url(#p6e8c57ca6c)\" d=\"M 565.923147 46.540571 \nL 558.877825 46.505709 \nL 552.320587 47.791916 \nL 548.718968 49.547565 \nL 545.635586 51.502516 \nL 553.764599 49.356339 \nL 562.470281 48.479827 \nL 564.056462 47.459694 \nz\n\" style=\"fill:#cfb3b3;fill-opacity:0.2;\"/>\n    <path clip-path=\"url(#p6e8c57ca6c)\" d=\"M 599.511277 48.479827 \nL 608.216959 49.356339 \nL 616.345972 51.502516 \nL 613.26259 49.547565 \nL 609.660971 47.791916 \nL 603.103733 46.505709 \nL 596.058411 46.540571 \nL 597.925096 47.459694 \nz\n\" style=\"fill:#a18c8c;fill-opacity:0.2;\"/>\n    <path clip-path=\"url(#p6e8c57ca6c)\" d=\"M 652.895192 143.702689 \nL 651.898624 152.750199 \nL 649.672854 161.175786 \nL 653.710689 156.271517 \nL 656.421939 151.172862 \nL 658.827776 142.561452 \nL 659.904194 133.518065 \nL 657.095646 138.707507 \nz\n\" style=\"fill:#615454;fill-opacity:0.2;\"/>\n    <path clip-path=\"url(#p6e8c57ca6c)\" d=\"M 650.505298 96.275489 \nL 654.885601 105.403106 \nL 657.93434 114.76949 \nL 659.315955 109.76927 \nL 659.334614 104.765922 \nL 656.279602 95.938106 \nL 651.883283 87.49942 \nL 651.809895 91.892324 \nz\n\" style=\"fill:#6a5c5c;fill-opacity:0.2;\"/>\n    <path clip-path=\"url(#p6e8c57ca6c)\" d=\"M 622.504811 60.674624 \nL 631.392226 66.061275 \nL 639.338884 72.414731 \nL 638.4835 68.941348 \nL 636.66672 65.568828 \nL 629.163618 60.204668 \nL 620.742786 55.888454 \nL 621.969014 58.250477 \nz\n\" style=\"fill:#8b7979;fill-opacity:0.2;\"/>\n    <path clip-path=\"url(#p6e8c57ca6c)\" d=\"M 601.734751 50.755824 \nL 611.546111 52.714265 \nL 620.742786 55.888454 \nL 618.855378 53.627137 \nL 616.345972 51.502516 \nL 608.216959 49.356339 \nL 599.511277 48.479827 \nL 600.788932 49.584539 \nz\n\" style=\"fill:#a18c8c;fill-opacity:0.2;\"/>\n    <path clip-path=\"url(#p6e8c57ca6c)\" d=\"M 580.990779 50.663615 \nL 583.785557 46.698771 \nL 586.481281 44.136592 \nL 583.7585 43.900727 \nL 580.990779 43.821701 \nL 580.990779 46.537672 \nL 580.990779 50.663615 \nL 580.990779 50.663615 \nz\n\" style=\"fill:#ac9595;fill-opacity:0.2;\"/>\n    <path clip-path=\"url(#p6e8c57ca6c)\" d=\"M 580.990779 50.663615 \nL 580.990779 46.537672 \nL 580.990779 43.821701 \nL 578.223058 43.900727 \nL 575.500277 44.136592 \nL 578.196001 46.698771 \nL 580.990779 50.663615 \nL 580.990779 50.663615 \nz\n\" style=\"fill:#ad9696;fill-opacity:0.2;\"/>\n    <path clip-path=\"url(#p6e8c57ca6c)\" d=\"M 651.0718 124.398168 \nL 652.623965 134.193704 \nL 652.895192 143.702689 \nL 657.095646 138.707507 \nL 659.904194 133.518065 \nL 659.611282 124.198741 \nL 657.93434 114.76949 \nL 655.180527 119.676635 \nz\n\" style=\"fill:#695b5b;fill-opacity:0.2;\"/>\n    <path clip-path=\"url(#p6e8c57ca6c)\" d=\"M 580.990779 50.663615 \nL 586.394618 47.171646 \nL 591.615933 45.061944 \nL 589.114795 44.525667 \nL 586.481281 44.136592 \nL 583.785557 46.698771 \nL 580.990779 50.663615 \nL 580.990779 50.663615 \nz\n\" style=\"fill:#ad9696;fill-opacity:0.2;\"/>\n    <path clip-path=\"url(#p6e8c57ca6c)\" d=\"M 580.990779 50.663615 \nL 578.196001 46.698771 \nL 575.500277 44.136592 \nL 572.866763 44.525667 \nL 570.365625 45.061944 \nL 575.58694 47.171646 \nL 580.990779 50.663615 \nL 580.990779 50.663615 \nz\n\" style=\"fill:#af9898;fill-opacity:0.2;\"/>\n    <path clip-path=\"url(#p6e8c57ca6c)\" d=\"M 638.051736 79.430936 \nL 644.861945 87.56156 \nL 650.505298 96.275489 \nL 651.809895 91.892324 \nL 651.883283 87.49942 \nL 646.207089 79.607826 \nL 639.338884 72.414731 \nL 639.200357 75.931423 \nz\n\" style=\"fill:#7b6b6b;fill-opacity:0.2;\"/>\n    <path clip-path=\"url(#p6e8c57ca6c)\" d=\"M 580.990779 50.663615 \nL 588.643655 47.925595 \nL 596.058411 46.540571 \nL 593.94342 45.737097 \nL 591.615933 45.061944 \nL 586.394618 47.171646 \nL 580.990779 50.663615 \nL 580.990779 50.663615 \nz\n\" style=\"fill:#b09898;fill-opacity:0.2;\"/>\n    <path clip-path=\"url(#p6e8c57ca6c)\" d=\"M 580.990779 50.663615 \nL 575.58694 47.171646 \nL 570.365625 45.061944 \nL 568.038139 45.737097 \nL 565.923147 46.540571 \nL 573.337903 47.925595 \nL 580.990779 50.663615 \nL 580.990779 50.663615 \nz\n\" style=\"fill:#b39b9b;fill-opacity:0.2;\"/>\n    <path clip-path=\"url(#p6e8c57ca6c)\" d=\"M 602.564069 53.219704 \nL 612.836091 56.364441 \nL 622.504811 60.674624 \nL 621.969014 58.250477 \nL 620.742786 55.888454 \nL 611.546111 52.714265 \nL 601.734751 50.755824 \nL 602.330622 51.974342 \nz\n\" style=\"fill:#a38d8d;fill-opacity:0.2;\"/>\n    <path clip-path=\"url(#p6e8c57ca6c)\" d=\"M 580.990779 50.663615 \nL 590.380722 48.911333 \nL 599.511277 48.479827 \nL 597.925096 47.459694 \nL 596.058411 46.540571 \nL 588.643655 47.925595 \nL 580.990779 50.663615 \nL 580.990779 50.663615 \nz\n\" style=\"fill:#b39b9b;fill-opacity:0.2;\"/>\n    <path clip-path=\"url(#p6e8c57ca6c)\" d=\"M 580.990779 50.663615 \nL 573.337903 47.925595 \nL 565.923147 46.540571 \nL 564.056462 47.459694 \nL 562.470281 48.479827 \nL 571.600836 48.911333 \nL 580.990779 50.663615 \nL 580.990779 50.663615 \nz\n\" style=\"fill:#b79f9f;fill-opacity:0.2;\"/>\n    <path clip-path=\"url(#p6e8c57ca6c)\" d=\"M 580.990779 50.663615 \nL 591.486227 50.063798 \nL 601.734751 50.755824 \nL 600.788932 49.584539 \nL 599.511277 48.479827 \nL 590.380722 48.911333 \nL 580.990779 50.663615 \nL 580.990779 50.663615 \nz\n\" style=\"fill:#b89f9f;fill-opacity:0.2;\"/>\n    <path clip-path=\"url(#p6e8c57ca6c)\" d=\"M 621.443852 65.545202 \nL 630.197024 72.043519 \nL 638.051736 79.430936 \nL 639.200357 75.931423 \nL 639.338884 72.414731 \nL 631.392226 66.061275 \nL 622.504811 60.674624 \nL 622.331892 63.120237 \nz\n\" style=\"fill:#907d7d;fill-opacity:0.2;\"/>\n    <path clip-path=\"url(#p6e8c57ca6c)\" d=\"M 580.990779 50.663615 \nL 591.881382 51.306024 \nL 602.564069 53.219704 \nL 602.330622 51.974342 \nL 601.734751 50.755824 \nL 591.486227 50.063798 \nL 580.990779 50.663615 \nL 580.990779 50.663615 \nz\n\" style=\"fill:#bda4a4;fill-opacity:0.2;\"/>\n    <path clip-path=\"url(#p6e8c57ca6c)\" d=\"M 644.208438 104.696306 \nL 648.252661 114.501722 \nL 651.0718 124.398168 \nL 655.180527 119.676635 \nL 657.93434 114.76949 \nL 654.885601 105.403106 \nL 650.505298 96.275489 \nL 647.965046 100.570285 \nz\n\" style=\"fill:#756666;fill-opacity:0.2;\"/>\n    <path clip-path=\"url(#p6e8c57ca6c)\" d=\"M 601.924063 55.706068 \nL 611.958632 60.063896 \nL 621.443852 65.545202 \nL 622.331892 63.120237 \nL 622.504811 60.674624 \nL 612.836091 56.364441 \nL 602.564069 53.219704 \nL 602.428615 54.470784 \nz\n\" style=\"fill:#a79191;fill-opacity:0.2;\"/>\n    <path clip-path=\"url(#p6e8c57ca6c)\" d=\"M 580.990779 50.663615 \nL 591.534471 52.55396 \nL 601.924063 55.706068 \nL 602.428615 54.470784 \nL 602.564069 53.219704 \nL 591.881382 51.306024 \nL 580.990779 50.663615 \nL 580.990779 50.663615 \nz\n\" style=\"fill:#c3a9a9;fill-opacity:0.2;\"/>\n    <path clip-path=\"url(#p6e8c57ca6c)\" d=\"M 580.990779 50.663615 \nL 590.464284 53.722025 \nL 599.839193 58.043503 \nL 601.056666 56.904027 \nL 601.924063 55.706068 \nL 591.534471 52.55396 \nL 580.990779 50.663615 \nL 580.990779 50.663615 \nz\n\" style=\"fill:#c9aeae;fill-opacity:0.2;\"/>\n    <path clip-path=\"url(#p6e8c57ca6c)\" d=\"M 632.750154 86.127942 \nL 639.008819 95.17523 \nL 644.208438 104.696306 \nL 647.965046 100.570285 \nL 650.505298 96.275489 \nL 644.861945 87.56156 \nL 638.051736 79.430936 \nL 635.894722 82.85084 \nz\n\" style=\"fill:#857373;fill-opacity:0.2;\"/>\n    <path clip-path=\"url(#p6e8c57ca6c)\" d=\"M 599.839193 58.043503 \nL 608.931554 63.556481 \nL 617.560508 70.161816 \nL 619.846925 67.90666 \nL 621.443852 65.545202 \nL 611.958632 60.063896 \nL 601.924063 55.706068 \nL 601.056666 56.904027 \nz\n\" style=\"fill:#ad9696;fill-opacity:0.2;\"/>\n    <path clip-path=\"url(#p6e8c57ca6c)\" d=\"M 617.560508 70.161816 \nL 625.553296 77.73476 \nL 632.750154 86.127942 \nL 635.894722 82.85084 \nL 638.051736 79.430936 \nL 630.197024 72.043519 \nL 621.443852 65.545202 \nL 619.846925 67.90666 \nz\n\" style=\"fill:#988383;fill-opacity:0.2;\"/>\n   </g>\n   <g id=\"text_11\">\n    <!-- $x$ -->\n    <g transform=\"translate(523.290922 173.237812)scale(0.2 -0.2)\">\n     <use transform=\"translate(0 0.3125)\" xlink:href=\"#DejaVuSans-Oblique-120\"/>\n    </g>\n   </g>\n   <g id=\"text_12\">\n    <!-- $y$ -->\n    <g transform=\"translate(661.862849 153.501604)scale(0.2 -0.2)\">\n     <use transform=\"translate(0 0.3125)\" xlink:href=\"#DejaVuSans-Oblique-121\"/>\n    </g>\n   </g>\n   <g id=\"text_13\">\n    <!-- $\\left|0\\right&gt;$ -->\n    <g transform=\"translate(567.290779 40.82177)scale(0.2 -0.2)\">\n     <use transform=\"translate(0 0.578125)\" xlink:href=\"#DejaVuSans-124\"/>\n     <use transform=\"translate(33.691406 0.578125)\" xlink:href=\"#DejaVuSans-48\"/>\n     <use transform=\"translate(97.314453 0.578125)\" xlink:href=\"#DejaVuSans-10217\"/>\n    </g>\n   </g>\n   <g id=\"text_14\">\n    <!-- $\\left|1\\right&gt;$ -->\n    <g transform=\"translate(567.290779 208.097425)scale(0.2 -0.2)\">\n     <use transform=\"translate(0 0.578125)\" xlink:href=\"#DejaVuSans-124\"/>\n     <use transform=\"translate(33.691406 0.578125)\" xlink:href=\"#DejaVuSans-49\"/>\n     <use transform=\"translate(97.314453 0.578125)\" xlink:href=\"#DejaVuSans-10217\"/>\n    </g>\n   </g>\n   <g id=\"text_15\">\n    <!-- qubit 2 -->\n    <g transform=\"translate(543.055974 22.396875)scale(0.2 -0.2)\">\n     <defs>\n      <path d=\"M 19.1875 8.296875 \nL 53.609375 8.296875 \nL 53.609375 0 \nL 7.328125 0 \nL 7.328125 8.296875 \nQ 12.9375 14.109375 22.625 23.890625 \nQ 32.328125 33.6875 34.8125 36.53125 \nQ 39.546875 41.84375 41.421875 45.53125 \nQ 43.3125 49.21875 43.3125 52.78125 \nQ 43.3125 58.59375 39.234375 62.25 \nQ 35.15625 65.921875 28.609375 65.921875 \nQ 23.96875 65.921875 18.8125 64.3125 \nQ 13.671875 62.703125 7.8125 59.421875 \nL 7.8125 69.390625 \nQ 13.765625 71.78125 18.9375 73 \nQ 24.125 74.21875 28.421875 74.21875 \nQ 39.75 74.21875 46.484375 68.546875 \nQ 53.21875 62.890625 53.21875 53.421875 \nQ 53.21875 48.921875 51.53125 44.890625 \nQ 49.859375 40.875 45.40625 35.40625 \nQ 44.1875 33.984375 37.640625 27.21875 \nQ 31.109375 20.453125 19.1875 8.296875 \nz\n\" id=\"DejaVuSans-50\"/>\n     </defs>\n     <use xlink:href=\"#DejaVuSans-113\"/>\n     <use x=\"63.476562\" xlink:href=\"#DejaVuSans-117\"/>\n     <use x=\"126.855469\" xlink:href=\"#DejaVuSans-98\"/>\n     <use x=\"190.332031\" xlink:href=\"#DejaVuSans-105\"/>\n     <use x=\"218.115234\" xlink:href=\"#DejaVuSans-116\"/>\n     <use x=\"257.324219\" xlink:href=\"#DejaVuSans-32\"/>\n     <use x=\"289.111328\" xlink:href=\"#DejaVuSans-50\"/>\n    </g>\n   </g>\n   <g id=\"Line3DCollection_5\">\n    <path clip-path=\"url(#p6e8c57ca6c)\" d=\"M 580.990779 50.663615 \nL 590.464284 53.722025 \nL 599.839193 58.043503 \nL 608.931554 63.556481 \nL 617.560508 70.161816 \nL 625.553296 77.73476 \nL 632.750154 86.127942 \nL 639.008819 95.17523 \nL 644.208438 104.696306 \nL 648.252661 114.501722 \nL 651.0718 124.398168 \nL 652.623965 134.193704 \nL 652.895192 143.702689 \nL 651.898624 152.750199 \nL 649.672854 161.175786 \nL 646.279617 168.836459 \nL 641.800979 175.608851 \nL 636.336242 181.390599 \nL 629.998714 186.10098 \nL 622.912511 189.680899 \nL 615.209517 192.092364 \nL 607.026578 193.317539 \nL 598.503003 193.357525 \nL 589.77839 192.230968 \nL 580.990779 189.97259 \n\" style=\"fill:none;stroke:#808080;stroke-opacity:0.2;stroke-width:1.5;\"/>\n    <path clip-path=\"url(#p6e8c57ca6c)\" d=\"M 580.990779 50.663615 \nL 591.775739 50.67884 \nL 602.330622 51.974342 \nL 612.457246 54.517506 \nL 621.969014 58.250477 \nL 630.695023 63.092249 \nL 638.4835 68.941348 \nL 645.204475 75.67893 \nL 650.751647 83.17216 \nL 655.043478 91.277696 \nL 658.023541 99.845133 \nL 659.660232 108.720309 \nL 659.945934 117.748351 \nL 658.895751 126.776415 \nL 656.545935 135.656083 \nL 652.952107 144.245405 \nL 648.187369 152.410586 \nL 642.340385 160.027373 \nL 635.513497 166.982148 \nL 627.820903 173.172802 \nL 619.386942 178.50942 \nL 610.344472 182.914833 \nL 600.833341 186.325075 \nL 590.998937 188.689786 \nL 580.990779 189.97259 \n\" style=\"fill:none;stroke:#808080;stroke-opacity:0.2;stroke-width:1.5;\"/>\n    <path clip-path=\"url(#p6e8c57ca6c)\" d=\"M 580.990779 50.663615 \nL 588.643655 47.925595 \nL 596.058411 46.540571 \nL 603.103733 46.505709 \nL 609.660971 47.791916 \nL 615.625809 50.346543 \nL 620.909283 54.096437 \nL 625.43822 58.951145 \nL 629.155187 64.806089 \nL 632.018059 71.54559 \nL 633.999317 79.045623 \nL 635.085159 87.176265 \nL 635.274538 95.803793 \nL 634.578175 104.792445 \nL 633.017623 114.005869 \nL 630.624412 123.308293 \nL 627.439304 132.565477 \nL 623.511672 141.645502 \nL 618.898997 150.419459 \nL 613.666468 158.762102 \nL 607.886669 166.552527 \nL 601.639325 173.674931 \nL 595.011044 180.019509 \nL 588.095043 185.483523 \nL 580.990779 189.97259 \n\" style=\"fill:none;stroke:#808080;stroke-opacity:0.2;stroke-width:1.5;\"/>\n    <path clip-path=\"url(#p6e8c57ca6c)\" d=\"M 580.990779 50.663615 \nL 582.39991 46.578111 \nL 583.7585 43.900727 \nL 585.043336 42.640641 \nL 586.23389 42.779424 \nL 587.3125 44.274265 \nL 588.26443 47.061454 \nL 589.077832 51.059874 \nL 589.74363 56.174319 \nL 590.255354 62.298524 \nL 590.608943 69.3178 \nL 590.802538 77.111263 \nL 590.836289 85.553637 \nL 590.712164 94.51666 \nL 590.433799 103.870141 \nL 590.006365 113.482729 \nL 589.436472 123.222452 \nL 588.732112 132.957106 \nL 587.902617 142.554566 \nL 586.958656 151.883099 \nL 585.912242 160.81175 \nL 584.77676 169.210881 \nL 583.566991 176.952932 \nL 582.299128 183.91347 \nL 580.990779 189.97259 \n\" style=\"fill:none;stroke:#808080;stroke-opacity:0.2;stroke-width:1.5;\"/>\n    <path clip-path=\"url(#p6e8c57ca6c)\" d=\"M 580.990779 50.663615 \nL 575.58694 47.171646 \nL 570.365625 45.061944 \nL 565.417522 44.338629 \nL 560.823606 44.978868 \nL 556.654225 46.935848 \nL 552.968652 50.14205 \nL 549.815041 54.512597 \nL 547.230693 59.948494 \nL 545.242556 66.339636 \nL 543.867868 73.567485 \nL 543.114878 81.507384 \nL 542.983582 90.030474 \nL 543.466415 99.005256 \nL 544.548889 108.29881 \nL 546.210124 117.777738 \nL 548.423287 127.308889 \nL 551.15591 136.75993 \nL 554.370126 145.999835 \nL 558.022794 154.899358 \nL 562.065577 163.331574 \nL 566.444966 171.172535 \nL 571.102302 178.302118 \nL 575.973822 184.605111 \nL 580.990779 189.97259 \n\" style=\"fill:none;stroke:#808080;stroke-opacity:0.2;stroke-width:1.5;\"/>\n    <path clip-path=\"url(#p6e8c57ca6c)\" d=\"M 580.990779 50.663615 \nL 571.600836 48.911333 \nL 562.470281 48.479827 \nL 553.764599 49.356339 \nL 545.635586 51.502516 \nL 538.218724 54.856816 \nL 531.631313 59.337356 \nL 525.971312 64.844999 \nL 521.316832 71.266518 \nL 517.726181 78.477701 \nL 515.238357 86.346275 \nL 513.873878 94.734585 \nL 513.63583 103.501973 \nL 514.511048 112.50685 \nL 516.471347 121.608446 \nL 519.474731 130.6683 \nL 523.466541 139.55149 \nL 528.380507 148.127677 \nL 534.1397 156.27201 \nL 540.657372 163.865941 \nL 547.837711 170.798004 \nL 555.57654 176.964613 \nL 563.761976 182.270914 \nL 572.275114 186.631724 \nL 580.990779 189.97259 \n\" style=\"fill:none;stroke:#808080;stroke-opacity:0.2;stroke-width:1.5;\"/>\n    <path clip-path=\"url(#p6e8c57ca6c)\" d=\"M 580.990779 50.663615 \nL 580.990779 50.663615 \nL 580.990779 50.663615 \nL 580.990779 50.663615 \nL 580.990779 50.663615 \nL 580.990779 50.663615 \nL 580.990779 50.663615 \nL 580.990779 50.663615 \nL 580.990779 50.663615 \nL 580.990779 50.663615 \nL 580.990779 50.663615 \nL 580.990779 50.663615 \nL 580.990779 50.663615 \nL 580.990779 50.663615 \nL 580.990779 50.663615 \nL 580.990779 50.663615 \nL 580.990779 50.663615 \nL 580.990779 50.663615 \nL 580.990779 50.663615 \nL 580.990779 50.663615 \nL 580.990779 50.663615 \nL 580.990779 50.663615 \nL 580.990779 50.663615 \nL 580.990779 50.663615 \nL 580.990779 50.663615 \n\" style=\"fill:none;stroke:#808080;stroke-opacity:0.2;stroke-width:1.5;\"/>\n    <path clip-path=\"url(#p6e8c57ca6c)\" d=\"M 625.553296 77.73476 \nL 628.297937 74.952111 \nL 630.197024 72.043519 \nL 631.229908 69.062252 \nL 631.392226 66.061275 \nL 630.695023 63.092249 \nL 629.163618 60.204668 \nL 626.836286 57.44514 \nL 623.762835 54.856816 \nL 620.00316 52.478943 \nL 615.625809 50.346543 \nL 610.706599 48.490187 \nL 605.327334 46.935848 \nL 599.574599 45.704822 \nL 593.538671 44.813682 \nL 587.3125 44.274265 \nL 580.990779 44.09367 \nL 574.669058 44.274265 \nL 568.442887 44.813682 \nL 562.406959 45.704822 \nL 556.654225 46.935848 \nL 551.274959 48.490187 \nL 546.355749 50.346543 \nL 541.978398 52.478943 \nL 538.218724 54.856816 \n\" style=\"fill:none;stroke:#808080;stroke-opacity:0.2;stroke-width:1.5;\"/>\n    <path clip-path=\"url(#p6e8c57ca6c)\" d=\"M 651.0718 124.398168 \nL 655.180527 119.676635 \nL 657.93434 114.76949 \nL 659.315955 109.76927 \nL 659.334614 104.765922 \nL 658.023541 99.845133 \nL 655.43708 95.087028 \nL 651.647728 90.565234 \nL 646.743201 86.346275 \nL 640.82368 82.489229 \nL 633.999317 79.045623 \nL 626.388039 76.059481 \nL 618.11369 73.567485 \nL 609.304486 71.599196 \nL 600.091757 70.177295 \nL 590.608943 69.3178 \nL 580.990779 69.030246 \nL 571.372615 69.3178 \nL 561.889801 70.177295 \nL 552.677072 71.599196 \nL 543.867868 73.567485 \nL 535.593519 76.059481 \nL 527.982241 79.045623 \nL 521.157878 82.489229 \nL 515.238357 86.346275 \n\" style=\"fill:none;stroke:#808080;stroke-opacity:0.2;stroke-width:1.5;\"/>\n    <path clip-path=\"url(#p6e8c57ca6c)\" d=\"M 646.279617 168.836459 \nL 650.143627 164.118029 \nL 652.749583 159.208863 \nL 654.078707 154.201074 \nL 654.136806 149.184576 \nL 652.952107 144.245405 \nL 650.572774 139.464377 \nL 647.064288 134.916102 \nL 642.506827 130.6683 \nL 636.992774 126.781389 \nL 630.624412 123.308293 \nL 623.511887 120.294417 \nL 615.771434 117.777738 \nL 607.523872 115.788964 \nL 598.893362 114.35172 \nL 590.006365 113.482729 \nL 580.990779 113.191962 \nL 571.975193 113.482729 \nL 563.088196 114.35172 \nL 554.457686 115.788964 \nL 546.210124 117.777738 \nL 538.469671 120.294417 \nL 531.357146 123.308293 \nL 524.988784 126.781389 \nL 519.474731 130.6683 \n\" style=\"fill:none;stroke:#808080;stroke-opacity:0.2;stroke-width:1.5;\"/>\n    <path clip-path=\"url(#p6e8c57ca6c)\" d=\"M 615.209517 192.092364 \nL 617.35833 189.523568 \nL 618.863216 186.832264 \nL 619.705353 184.067068 \nL 619.878177 181.27677 \nL 619.386942 178.50942 \nL 618.248063 175.811511 \nL 616.488304 173.22726 \nL 614.143847 170.798004 \nL 611.259301 168.5617 \nL 607.886669 166.552527 \nL 604.084322 164.800566 \nL 599.915981 163.331574 \nL 595.449744 162.166803 \nL 590.757142 161.322885 \nL 585.912242 160.81175 \nL 580.990779 160.640573 \nL 576.069316 160.81175 \nL 571.224416 161.322885 \nL 566.531814 162.166803 \nL 562.065577 163.331574 \nL 557.897236 164.800566 \nL 554.094889 166.552527 \nL 550.722257 168.5617 \nL 547.837711 170.798004 \n\" style=\"fill:none;stroke:#808080;stroke-opacity:0.2;stroke-width:1.5;\"/>\n    <path clip-path=\"url(#p6e8c57ca6c)\" d=\"M 580.990779 189.97259 \nL 580.990779 189.97259 \nL 580.990779 189.97259 \nL 580.990779 189.97259 \nL 580.990779 189.97259 \nL 580.990779 189.97259 \nL 580.990779 189.97259 \nL 580.990779 189.97259 \nL 580.990779 189.97259 \nL 580.990779 189.97259 \nL 580.990779 189.97259 \nL 580.990779 189.97259 \nL 580.990779 189.97259 \nL 580.990779 189.97259 \nL 580.990779 189.97259 \nL 580.990779 189.97259 \nL 580.990779 189.97259 \nL 580.990779 189.97259 \nL 580.990779 189.97259 \nL 580.990779 189.97259 \nL 580.990779 189.97259 \nL 580.990779 189.97259 \nL 580.990779 189.97259 \nL 580.990779 189.97259 \nL 580.990779 189.97259 \n\" style=\"fill:none;stroke:#808080;stroke-opacity:0.2;stroke-width:1.5;\"/>\n   </g>\n   <g id=\"Line3DCollection_6\">\n    <path clip-path=\"url(#p6e8c57ca6c)\" d=\"M 580.990779 50.663615 \nL 571.600836 48.911333 \nL 562.470281 48.479827 \nL 553.764599 49.356339 \nL 545.635586 51.502516 \nL 538.218724 54.856816 \nL 531.631313 59.337356 \nL 525.971312 64.844999 \nL 521.316832 71.266518 \nL 517.726181 78.477701 \nL 515.238357 86.346275 \nL 513.873878 94.734585 \nL 513.63583 103.501973 \nL 514.511048 112.50685 \nL 516.471347 121.608446 \nL 519.474731 130.6683 \nL 523.466541 139.55149 \nL 528.380507 148.127677 \nL 534.1397 156.27201 \nL 540.657372 163.865941 \nL 547.837711 170.798004 \nL 555.57654 176.964613 \nL 563.761976 182.270914 \nL 572.275114 186.631724 \nL 580.990779 189.97259 \n\" style=\"fill:none;stroke:#808080;stroke-opacity:0.2;stroke-width:1.5;\"/>\n    <path clip-path=\"url(#p6e8c57ca6c)\" d=\"M 580.990779 50.663615 \nL 570.180846 51.93466 \nL 559.552943 54.470784 \nL 549.310782 58.223908 \nL 539.649666 63.120237 \nL 530.75165 69.062252 \nL 522.781201 75.931423 \nL 515.881522 83.591517 \nL 510.171663 91.892324 \nL 505.744502 100.673633 \nL 502.665603 109.76927 \nL 500.972928 119.011036 \nL 500.67733 128.232406 \nL 501.763709 137.271866 \nL 504.192715 145.975831 \nL 507.902851 154.201074 \nL 512.812857 161.816683 \nL 518.824226 168.705544 \nL 525.823771 174.765398 \nL 533.686136 179.909517 \nL 542.276205 184.067068 \nL 551.451353 187.183223 \nL 561.063519 189.219082 \nL 570.961119 190.151459 \nL 580.990779 189.97259 \n\" style=\"fill:none;stroke:#808080;stroke-opacity:0.2;stroke-width:1.5;\"/>\n    <path clip-path=\"url(#p6e8c57ca6c)\" d=\"M 580.990779 50.663615 \nL 573.241412 54.729074 \nL 565.544473 60.066693 \nL 558.052543 66.591112 \nL 550.917763 74.187679 \nL 544.287433 82.714452 \nL 538.299537 92.005413 \nL 533.078444 101.874796 \nL 528.731037 112.122326 \nL 525.343496 122.539117 \nL 522.978919 132.913885 \nL 521.675905 143.039136 \nL 521.448132 152.716996 \nL 522.284915 161.76438 \nL 524.152625 170.017292 \nL 526.996841 177.334087 \nL 530.745022 183.597666 \nL 535.309528 188.716614 \nL 540.590776 192.625371 \nL 546.480367 195.28359 \nL 552.86405 196.674839 \nL 559.624412 196.804836 \nL 566.643226 195.699388 \nL 573.803437 193.402185 \nL 580.990779 189.97259 \n\" style=\"fill:none;stroke:#808080;stroke-opacity:0.2;stroke-width:1.5;\"/>\n    <path clip-path=\"url(#p6e8c57ca6c)\" d=\"M 580.990779 50.663615 \nL 579.556673 56.117731 \nL 578.125036 62.868725 \nL 576.724554 70.811817 \nL 575.38439 79.809723 \nL 574.133303 89.694698 \nL 572.998708 100.272157 \nL 572.005723 111.325802 \nL 571.176269 122.624034 \nL 570.528285 133.927321 \nL 570.07511 144.996053 \nL 569.82508 155.598406 \nL 569.781351 165.517702 \nL 569.941967 174.55882 \nL 570.300142 182.553324 \nL 570.844727 189.363088 \nL 571.560821 194.88235 \nL 572.430468 199.038261 \nL 573.433387 201.790091 \nL 574.547698 203.127356 \nL 575.750597 203.067123 \nL 577.01896 201.650812 \nL 578.329848 198.94075 \nL 579.660927 195.016704 \nL 580.990779 189.97259 \n\" style=\"fill:none;stroke:#808080;stroke-opacity:0.2;stroke-width:1.5;\"/>\n    <path clip-path=\"url(#p6e8c57ca6c)\" d=\"M 580.990779 50.663615 \nL 586.478184 55.504336 \nL 591.9439 61.629269 \nL 597.278872 68.942254 \nL 602.373181 77.31617 \nL 607.119302 86.594961 \nL 611.415523 96.597071 \nL 615.169319 107.120191 \nL 618.300485 117.94712 \nL 620.743805 128.852434 \nL 622.451108 139.609565 \nL 623.392565 149.997867 \nL 623.557183 159.809259 \nL 622.952485 168.854054 \nL 621.603466 176.965705 \nL 619.550921 184.004281 \nL 616.849313 189.858607 \nL 613.564358 194.447112 \nL 609.770476 197.717518 \nL 605.548275 199.645559 \nL 600.982186 200.232958 \nL 596.158334 199.504904 \nL 591.162714 197.507248 \nL 586.079684 194.303614 \nL 580.990779 189.97259 \n\" style=\"fill:none;stroke:#808080;stroke-opacity:0.2;stroke-width:1.5;\"/>\n    <path clip-path=\"url(#p6e8c57ca6c)\" d=\"M 580.990779 50.663615 \nL 590.464284 53.722025 \nL 599.839193 58.043503 \nL 608.931554 63.556481 \nL 617.560508 70.161816 \nL 625.553296 77.73476 \nL 632.750154 86.127942 \nL 639.008819 95.17523 \nL 644.208438 104.696306 \nL 648.252661 114.501722 \nL 651.0718 124.398168 \nL 652.623965 134.193704 \nL 652.895192 143.702689 \nL 651.898624 152.750199 \nL 649.672854 161.175786 \nL 646.279617 168.836459 \nL 641.800979 175.608851 \nL 636.336242 181.390599 \nL 629.998714 186.10098 \nL 622.912511 189.680899 \nL 615.209517 192.092364 \nL 607.026578 193.317539 \nL 598.503003 193.357525 \nL 589.77839 192.230968 \nL 580.990779 189.97259 \n\" style=\"fill:none;stroke:#808080;stroke-opacity:0.2;stroke-width:1.5;\"/>\n    <path clip-path=\"url(#p6e8c57ca6c)\" d=\"M 580.990779 50.663615 \nL 580.990779 50.663615 \nL 580.990779 50.663615 \nL 580.990779 50.663615 \nL 580.990779 50.663615 \nL 580.990779 50.663615 \nL 580.990779 50.663615 \nL 580.990779 50.663615 \nL 580.990779 50.663615 \nL 580.990779 50.663615 \nL 580.990779 50.663615 \nL 580.990779 50.663615 \nL 580.990779 50.663615 \nL 580.990779 50.663615 \nL 580.990779 50.663615 \nL 580.990779 50.663615 \nL 580.990779 50.663615 \nL 580.990779 50.663615 \nL 580.990779 50.663615 \nL 580.990779 50.663615 \nL 580.990779 50.663615 \nL 580.990779 50.663615 \nL 580.990779 50.663615 \nL 580.990779 50.663615 \nL 580.990779 50.663615 \n\" style=\"fill:none;stroke:#808080;stroke-opacity:0.2;stroke-width:1.5;\"/>\n    <path clip-path=\"url(#p6e8c57ca6c)\" d=\"M 538.218724 54.856816 \nL 535.145273 57.44514 \nL 532.81794 60.204668 \nL 531.286535 63.092249 \nL 530.589333 66.061275 \nL 530.75165 69.062252 \nL 531.784534 72.043519 \nL 533.683621 74.952111 \nL 536.428262 77.73476 \nL 539.980992 80.339014 \nL 544.287433 82.714452 \nL 549.276683 84.813953 \nL 554.862256 86.594961 \nL 560.943567 88.020707 \nL 567.407975 89.061307 \nL 574.133303 89.694698 \nL 580.990779 89.90735 \nL 587.848255 89.694698 \nL 594.573583 89.061307 \nL 601.037991 88.020707 \nL 607.119302 86.594961 \nL 612.704875 84.813953 \nL 617.694125 82.714452 \nL 622.000566 80.339014 \nL 625.553296 77.73476 \n\" style=\"fill:none;stroke:#808080;stroke-opacity:0.2;stroke-width:1.5;\"/>\n    <path clip-path=\"url(#p6e8c57ca6c)\" d=\"M 515.238357 86.346275 \nL 510.33383 90.565234 \nL 506.544478 95.087028 \nL 503.958017 99.845133 \nL 502.646944 104.765922 \nL 502.665603 109.76927 \nL 504.047218 114.76949 \nL 506.801031 119.676635 \nL 510.909758 124.398168 \nL 516.327584 128.841006 \nL 522.978919 132.913885 \nL 530.758134 136.529964 \nL 539.53045 139.609565 \nL 549.134091 142.082903 \nL 559.383724 143.892631 \nL 570.07511 144.996053 \nL 580.990779 145.366828 \nL 591.906448 144.996053 \nL 602.597835 143.892631 \nL 612.847467 142.082903 \nL 622.451108 139.609565 \nL 631.223424 136.529964 \nL 639.002639 132.913885 \nL 645.653974 128.841006 \nL 651.0718 124.398168 \n\" style=\"fill:none;stroke:#808080;stroke-opacity:0.2;stroke-width:1.5;\"/>\n    <path clip-path=\"url(#p6e8c57ca6c)\" d=\"M 519.474731 130.6683 \nL 514.91727 134.916102 \nL 511.408784 139.464377 \nL 509.029451 144.245405 \nL 507.844752 149.184576 \nL 507.902851 154.201074 \nL 509.231975 159.208863 \nL 511.837931 164.118029 \nL 515.701941 168.836459 \nL 520.778985 173.271863 \nL 526.996841 177.334087 \nL 534.256005 180.937631 \nL 542.430638 184.004281 \nL 551.370613 186.465702 \nL 560.904689 188.265857 \nL 570.844727 189.363088 \nL 580.990779 189.731722 \nL 591.136831 189.363088 \nL 601.076869 188.265857 \nL 610.610945 186.465702 \nL 619.550921 184.004281 \nL 627.725553 180.937631 \nL 634.984717 177.334087 \nL 641.202573 173.271863 \nL 646.279617 168.836459 \n\" style=\"fill:none;stroke:#808080;stroke-opacity:0.2;stroke-width:1.5;\"/>\n    <path clip-path=\"url(#p6e8c57ca6c)\" d=\"M 547.837711 170.798004 \nL 545.493254 173.22726 \nL 543.733495 175.811511 \nL 542.594616 178.50942 \nL 542.103381 181.27677 \nL 542.276205 184.067068 \nL 543.118342 186.832264 \nL 544.623228 189.523568 \nL 546.772041 192.092364 \nL 549.533513 194.491201 \nL 552.86405 196.674839 \nL 556.708183 198.601308 \nL 560.999372 200.232958 \nL 565.661172 201.537437 \nL 570.60873 202.488577 \nL 575.750597 203.067123 \nL 580.990779 203.261293 \nL 586.230961 203.067123 \nL 591.372828 202.488577 \nL 596.320386 201.537437 \nL 600.982186 200.232958 \nL 605.273375 198.601308 \nL 609.117508 196.674839 \nL 612.448045 194.491201 \nL 615.209517 192.092364 \n\" style=\"fill:none;stroke:#808080;stroke-opacity:0.2;stroke-width:1.5;\"/>\n    <path clip-path=\"url(#p6e8c57ca6c)\" d=\"M 580.990779 189.97259 \nL 580.990779 189.97259 \nL 580.990779 189.97259 \nL 580.990779 189.97259 \nL 580.990779 189.97259 \nL 580.990779 189.97259 \nL 580.990779 189.97259 \nL 580.990779 189.97259 \nL 580.990779 189.97259 \nL 580.990779 189.97259 \nL 580.990779 189.97259 \nL 580.990779 189.97259 \nL 580.990779 189.97259 \nL 580.990779 189.97259 \nL 580.990779 189.97259 \nL 580.990779 189.97259 \nL 580.990779 189.97259 \nL 580.990779 189.97259 \nL 580.990779 189.97259 \nL 580.990779 189.97259 \nL 580.990779 189.97259 \nL 580.990779 189.97259 \nL 580.990779 189.97259 \nL 580.990779 189.97259 \nL 580.990779 189.97259 \n\" style=\"fill:none;stroke:#808080;stroke-opacity:0.2;stroke-width:1.5;\"/>\n   </g>\n   <g id=\"Poly3DCollection_6\">\n    <path clip-path=\"url(#p6e8c57ca6c)\" d=\"M 534.1397 156.27201 \nL 540.657372 163.865941 \nL 547.837711 170.798004 \nL 545.493254 173.22726 \nL 543.733495 175.811511 \nL 535.589842 169.911366 \nL 528.174575 163.223356 \nL 530.750454 159.634793 \nz\n\" style=\"fill:#b49c9c;fill-opacity:0.2;\"/>\n    <path clip-path=\"url(#p6e8c57ca6c)\" d=\"M 547.837711 170.798004 \nL 555.57654 176.964613 \nL 563.761976 182.270914 \nL 562.576056 183.552941 \nL 561.699245 184.911827 \nL 552.480724 180.836766 \nL 543.733495 175.811511 \nL 545.493254 173.22726 \nz\n\" style=\"fill:#9f8a8a;fill-opacity:0.2;\"/>\n    <path clip-path=\"url(#p6e8c57ca6c)\" d=\"M 523.466541 139.55149 \nL 528.380507 148.127677 \nL 534.1397 156.27201 \nL 530.750454 159.634793 \nL 528.174575 163.223356 \nL 521.603798 155.845583 \nL 515.98362 147.886546 \nL 519.23217 143.578564 \nz\n\" style=\"fill:#c7acac;fill-opacity:0.2;\"/>\n    <path clip-path=\"url(#p6e8c57ca6c)\" d=\"M 563.761976 182.270914 \nL 572.275114 186.631724 \nL 580.990779 189.97259 \nL 580.990779 189.97259 \nL 580.990779 189.97259 \nL 571.250485 187.973749 \nL 561.699245 184.911827 \nL 562.576056 183.552941 \nz\n\" style=\"fill:#837171;fill-opacity:0.2;\"/>\n    <path clip-path=\"url(#p6e8c57ca6c)\" d=\"M 561.699245 184.911827 \nL 571.250485 187.973749 \nL 580.990779 189.97259 \nL 580.990779 189.97259 \nL 580.990779 189.97259 \nL 570.885429 189.419838 \nL 560.934373 187.768997 \nL 561.148217 186.325075 \nz\n\" style=\"fill:#897676;fill-opacity:0.2;\"/>\n    <path clip-path=\"url(#p6e8c57ca6c)\" d=\"M 543.733495 175.811511 \nL 552.480724 180.836766 \nL 561.699245 184.911827 \nL 561.148217 186.325075 \nL 560.934373 187.768997 \nL 551.290421 185.042297 \nL 542.103381 181.27677 \nL 542.594616 178.50942 \nz\n\" style=\"fill:#a58f8f;fill-opacity:0.2;\"/>\n    <path clip-path=\"url(#p6e8c57ca6c)\" d=\"M 516.471347 121.608446 \nL 519.474731 130.6683 \nL 523.466541 139.55149 \nL 519.23217 143.578564 \nL 515.98362 147.886546 \nL 511.408784 139.464377 \nL 507.961204 130.705947 \nL 511.668277 126.000244 \nz\n\" style=\"fill:#d6baba;fill-opacity:0.2;\"/>\n    <path clip-path=\"url(#p6e8c57ca6c)\" d=\"M 560.934373 187.768997 \nL 570.885429 189.419838 \nL 580.990779 189.97259 \nL 580.990779 189.97259 \nL 580.990779 189.97259 \nL 571.208947 190.872095 \nL 561.53562 190.6504 \nL 561.063519 189.219082 \nz\n\" style=\"fill:#8e7b7b;fill-opacity:0.2;\"/>\n    <path clip-path=\"url(#p6e8c57ca6c)\" d=\"M 528.174575 163.223356 \nL 535.589842 169.911366 \nL 543.733495 175.811511 \nL 542.594616 178.50942 \nL 542.103381 181.27677 \nL 533.518459 176.52418 \nL 525.67457 170.850914 \nL 526.468061 166.982148 \nz\n\" style=\"fill:#bca3a3;fill-opacity:0.2;\"/>\n    <path clip-path=\"url(#p6e8c57ca6c)\" d=\"M 561.53562 190.6504 \nL 571.208947 190.872095 \nL 580.990779 189.97259 \nL 580.990779 189.97259 \nL 580.990779 189.97259 \nL 572.203168 192.230968 \nL 563.478555 193.357525 \nL 562.34465 192.038032 \nz\n\" style=\"fill:#948080;fill-opacity:0.2;\"/>\n    <path clip-path=\"url(#p6e8c57ca6c)\" d=\"M 563.478555 193.357525 \nL 572.203168 192.230968 \nL 580.990779 189.97259 \nL 580.990779 189.97259 \nL 580.990779 189.97259 \nL 573.803437 193.402185 \nL 566.643226 195.699388 \nL 564.91933 194.585353 \nz\n\" style=\"fill:#988484;fill-opacity:0.2;\"/>\n    <path clip-path=\"url(#p6e8c57ca6c)\" d=\"M 595.338332 195.699388 \nL 588.178121 193.402185 \nL 580.990779 189.97259 \nL 580.990779 189.97259 \nL 580.990779 189.97259 \nL 589.77839 192.230968 \nL 598.503003 193.357525 \nL 597.062228 194.585353 \nz\n\" style=\"fill:#948181;fill-opacity:0.2;\"/>\n    <path clip-path=\"url(#p6e8c57ca6c)\" d=\"M 542.103381 181.27677 \nL 551.290421 185.042297 \nL 560.934373 187.768997 \nL 561.063519 189.219082 \nL 561.53562 190.6504 \nL 552.121905 189.300759 \nL 543.118342 186.832264 \nL 542.276205 184.067068 \nz\n\" style=\"fill:#a99292;fill-opacity:0.2;\"/>\n    <path clip-path=\"url(#p6e8c57ca6c)\" d=\"M 566.643226 195.699388 \nL 573.803437 193.402185 \nL 580.990779 189.97259 \nL 580.990779 189.97259 \nL 580.990779 189.97259 \nL 575.901874 194.303614 \nL 570.818844 197.507248 \nL 568.621093 196.679351 \nz\n\" style=\"fill:#9c8787;fill-opacity:0.2;\"/>\n    <path clip-path=\"url(#p6e8c57ca6c)\" d=\"M 591.162714 197.507248 \nL 586.079684 194.303614 \nL 580.990779 189.97259 \nL 580.990779 189.97259 \nL 580.990779 189.97259 \nL 588.178121 193.402185 \nL 595.338332 195.699388 \nL 593.360465 196.679351 \nz\n\" style=\"fill:#998585;fill-opacity:0.2;\"/>\n    <path clip-path=\"url(#p6e8c57ca6c)\" d=\"M 515.98362 147.886546 \nL 521.603798 155.845583 \nL 528.174575 163.223356 \nL 526.468061 166.982148 \nL 525.67457 170.850914 \nL 518.702516 164.337759 \nL 512.72304 157.079542 \nL 513.794189 152.410586 \nz\n\" style=\"fill:#d0b4b4;fill-opacity:0.2;\"/>\n    <path clip-path=\"url(#p6e8c57ca6c)\" d=\"M 570.818844 197.507248 \nL 575.901874 194.303614 \nL 580.990779 189.97259 \nL 580.990779 189.97259 \nL 580.990779 189.97259 \nL 578.354387 194.871492 \nL 575.716678 198.648593 \nL 573.198056 198.167761 \nz\n\" style=\"fill:#9e8989;fill-opacity:0.2;\"/>\n    <path clip-path=\"url(#p6e8c57ca6c)\" d=\"M 586.26488 198.648593 \nL 583.627171 194.871492 \nL 580.990779 189.97259 \nL 580.990779 189.97259 \nL 580.990779 189.97259 \nL 586.079684 194.303614 \nL 591.162714 197.507248 \nL 588.783502 198.167761 \nz\n\" style=\"fill:#9c8888;fill-opacity:0.2;\"/>\n    <path clip-path=\"url(#p6e8c57ca6c)\" d=\"M 513.63583 103.501973 \nL 514.511048 112.50685 \nL 516.471347 121.608446 \nL 511.668277 126.000244 \nL 507.961204 130.705947 \nL 505.70841 121.745807 \nL 504.701946 112.724907 \nL 508.598891 107.952822 \nz\n\" style=\"fill:#e2c4c4;fill-opacity:0.2;\"/>\n    <path clip-path=\"url(#p6e8c57ca6c)\" d=\"M 575.716678 198.648593 \nL 578.354387 194.871492 \nL 580.990779 189.97259 \nL 580.990779 189.97259 \nL 580.990779 189.97259 \nL 580.990779 195.0654 \nL 580.990779 199.038749 \nL 578.329848 198.94075 \nz\n\" style=\"fill:#9f8a8a;fill-opacity:0.2;\"/>\n    <path clip-path=\"url(#p6e8c57ca6c)\" d=\"M 580.990779 199.038749 \nL 580.990779 195.0654 \nL 580.990779 189.97259 \nL 580.990779 189.97259 \nL 580.990779 189.97259 \nL 583.627171 194.871492 \nL 586.26488 198.648593 \nL 583.65171 198.94075 \nz\n\" style=\"fill:#9e8989;fill-opacity:0.2;\"/>\n    <path clip-path=\"url(#p6e8c57ca6c)\" d=\"M 543.118342 186.832264 \nL 552.121905 189.300759 \nL 561.53562 190.6504 \nL 562.34465 192.038032 \nL 563.478555 193.357525 \nL 554.95498 193.317539 \nL 546.772041 192.092364 \nL 544.623228 189.523568 \nz\n\" style=\"fill:#aa9494;fill-opacity:0.2;\"/>\n    <path clip-path=\"url(#p6e8c57ca6c)\" d=\"M 525.67457 170.850914 \nL 533.518459 176.52418 \nL 542.103381 181.27677 \nL 542.276205 184.067068 \nL 543.118342 186.832264 \nL 534.673073 183.270524 \nL 526.929775 178.658243 \nL 525.823771 174.765398 \nz\n\" style=\"fill:#c0a7a7;fill-opacity:0.2;\"/>\n    <path clip-path=\"url(#p6e8c57ca6c)\" d=\"M 507.961204 130.705947 \nL 511.408784 139.464377 \nL 515.98362 147.886546 \nL 513.794189 152.410586 \nL 512.72304 157.079542 \nL 507.844752 149.184576 \nL 504.161958 140.773863 \nL 505.435623 135.656083 \nz\n\" style=\"fill:#e1c3c3;fill-opacity:0.2;\"/>\n    <path clip-path=\"url(#p6e8c57ca6c)\" d=\"M 546.772041 192.092364 \nL 554.95498 193.317539 \nL 563.478555 193.357525 \nL 564.91933 194.585353 \nL 566.643226 195.699388 \nL 559.624412 196.804836 \nL 552.86405 196.674839 \nL 549.533513 194.491201 \nz\n\" style=\"fill:#aa9393;fill-opacity:0.2;\"/>\n    <path clip-path=\"url(#p6e8c57ca6c)\" d=\"M 609.117508 196.674839 \nL 602.357146 196.804836 \nL 595.338332 195.699388 \nL 597.062228 194.585353 \nL 598.503003 193.357525 \nL 607.026578 193.317539 \nL 615.209517 192.092364 \nL 612.448045 194.491201 \nz\n\" style=\"fill:#7d6c6c;fill-opacity:0.2;\"/>\n    <path clip-path=\"url(#p6e8c57ca6c)\" d=\"M 515.238357 86.346275 \nL 513.873878 94.734585 \nL 513.63583 103.501973 \nL 508.598891 107.952822 \nL 504.701946 112.724907 \nL 504.975732 103.789045 \nL 506.544478 95.087028 \nL 510.33383 90.565234 \nz\n\" style=\"fill:#eacbcb;fill-opacity:0.2;\"/>\n    <path clip-path=\"url(#p6e8c57ca6c)\" d=\"M 512.72304 157.079542 \nL 518.702516 164.337759 \nL 525.67457 170.850914 \nL 525.823771 174.765398 \nL 526.929775 178.658243 \nL 520.025376 173.055646 \nL 514.08754 166.540672 \nL 512.812857 161.816683 \nz\n\" style=\"fill:#d5b9b9;fill-opacity:0.2;\"/>\n    <path clip-path=\"url(#p6e8c57ca6c)\" d=\"M 600.982186 200.232958 \nL 596.158334 199.504904 \nL 591.162714 197.507248 \nL 593.360465 196.679351 \nL 595.338332 195.699388 \nL 602.357146 196.804836 \nL 609.117508 196.674839 \nL 605.273375 198.601308 \nz\n\" style=\"fill:#857373;fill-opacity:0.2;\"/>\n    <path clip-path=\"url(#p6e8c57ca6c)\" d=\"M 552.86405 196.674839 \nL 559.624412 196.804836 \nL 566.643226 195.699388 \nL 568.621093 196.679351 \nL 570.818844 197.507248 \nL 565.823224 199.504904 \nL 560.999372 200.232958 \nL 556.708183 198.601308 \nz\n\" style=\"fill:#a89191;fill-opacity:0.2;\"/>\n    <path clip-path=\"url(#p6e8c57ca6c)\" d=\"M 526.929775 178.658243 \nL 534.673073 183.270524 \nL 543.118342 186.832264 \nL 544.623228 189.523568 \nL 546.772041 192.092364 \nL 539.069047 189.680899 \nL 531.982844 186.10098 \nL 528.989757 182.46011 \nz\n\" style=\"fill:#c1a8a8;fill-opacity:0.2;\"/>\n    <path clip-path=\"url(#p6e8c57ca6c)\" d=\"M 504.701946 112.724907 \nL 505.70841 121.745807 \nL 507.961204 130.705947 \nL 505.435623 135.656083 \nL 504.161958 140.773863 \nL 501.752425 131.979986 \nL 500.675158 122.945672 \nL 502.035624 117.748351 \nz\n\" style=\"fill:#eecece;fill-opacity:0.2;\"/>\n    <path clip-path=\"url(#p6e8c57ca6c)\" d=\"M 560.999372 200.232958 \nL 565.823224 199.504904 \nL 570.818844 197.507248 \nL 573.198056 198.167761 \nL 575.716678 198.648593 \nL 573.120071 201.213106 \nL 570.60873 202.488577 \nL 565.661172 201.537437 \nz\n\" style=\"fill:#a38d8d;fill-opacity:0.2;\"/>\n    <path clip-path=\"url(#p6e8c57ca6c)\" d=\"M 591.372828 202.488577 \nL 588.861487 201.213106 \nL 586.26488 198.648593 \nL 588.783502 198.167761 \nL 591.162714 197.507248 \nL 596.158334 199.504904 \nL 600.982186 200.232958 \nL 596.320386 201.537437 \nz\n\" style=\"fill:#8d7a7a;fill-opacity:0.2;\"/>\n    <path clip-path=\"url(#p6e8c57ca6c)\" d=\"M 570.60873 202.488577 \nL 573.120071 201.213106 \nL 575.716678 198.648593 \nL 578.329848 198.94075 \nL 580.990779 199.038749 \nL 580.990779 201.797675 \nL 580.990779 203.261293 \nL 575.750597 203.067123 \nz\n\" style=\"fill:#9d8888;fill-opacity:0.2;\"/>\n    <path clip-path=\"url(#p6e8c57ca6c)\" d=\"M 580.990779 203.261293 \nL 580.990779 201.797675 \nL 580.990779 199.038749 \nL 583.65171 198.94075 \nL 586.26488 198.648593 \nL 588.861487 201.213106 \nL 591.372828 202.488577 \nL 586.230961 203.067123 \nz\n\" style=\"fill:#968282;fill-opacity:0.2;\"/>\n    <path clip-path=\"url(#p6e8c57ca6c)\" d=\"M 521.316832 71.266518 \nL 517.726181 78.477701 \nL 515.238357 86.346275 \nL 510.33383 90.565234 \nL 506.544478 95.087028 \nL 509.402205 86.768507 \nL 513.520977 78.981493 \nL 516.908943 74.99305 \nz\n\" style=\"fill:#edcdcd;fill-opacity:0.2;\"/>\n    <path clip-path=\"url(#p6e8c57ca6c)\" d=\"M 504.161958 140.773863 \nL 507.844752 149.184576 \nL 512.72304 157.079542 \nL 512.812857 161.816683 \nL 514.08754 166.540672 \nL 509.231975 159.208863 \nL 505.559619 151.172862 \nL 504.192715 145.975831 \nz\n\" style=\"fill:#e7c8c8;fill-opacity:0.2;\"/>\n    <path clip-path=\"url(#p6e8c57ca6c)\" d=\"M 531.982844 186.10098 \nL 539.069047 189.680899 \nL 546.772041 192.092364 \nL 549.533513 194.491201 \nL 552.86405 196.674839 \nL 546.480367 195.28359 \nL 540.590776 192.625371 \nL 535.869397 189.511652 \nz\n\" style=\"fill:#bfa6a6;fill-opacity:0.2;\"/>\n    <path clip-path=\"url(#p6e8c57ca6c)\" d=\"M 621.390782 192.625371 \nL 615.501192 195.28359 \nL 609.117508 196.674839 \nL 612.448045 194.491201 \nL 615.209517 192.092364 \nL 622.912511 189.680899 \nL 629.998714 186.10098 \nL 626.112161 189.511652 \nz\n\" style=\"fill:#736363;fill-opacity:0.2;\"/>\n    <path clip-path=\"url(#p6e8c57ca6c)\" d=\"M 506.544478 95.087028 \nL 504.975732 103.789045 \nL 504.701946 112.724907 \nL 502.035624 117.748351 \nL 500.675158 122.945672 \nL 500.968252 113.821951 \nL 502.646944 104.765922 \nL 503.958017 99.845133 \nz\n\" style=\"fill:#f6d5d5;fill-opacity:0.2;\"/>\n    <path clip-path=\"url(#p6e8c57ca6c)\" d=\"M 514.08754 166.540672 \nL 520.025376 173.055646 \nL 526.929775 178.658243 \nL 528.989757 182.46011 \nL 531.982844 186.10098 \nL 525.645316 181.390599 \nL 520.180579 175.608851 \nL 516.550051 171.166855 \nz\n\" style=\"fill:#d6baba;fill-opacity:0.2;\"/>\n    <path clip-path=\"url(#p6e8c57ca6c)\" d=\"M 540.590776 192.625371 \nL 546.480367 195.28359 \nL 552.86405 196.674839 \nL 556.708183 198.601308 \nL 560.999372 200.232958 \nL 556.433283 199.645559 \nL 552.211082 197.717518 \nL 546.069673 195.379553 \nz\n\" style=\"fill:#b9a1a1;fill-opacity:0.2;\"/>\n    <path clip-path=\"url(#p6e8c57ca6c)\" d=\"M 609.770476 197.717518 \nL 605.548275 199.645559 \nL 600.982186 200.232958 \nL 605.273375 198.601308 \nL 609.117508 196.674839 \nL 615.501192 195.28359 \nL 621.390782 192.625371 \nL 615.911885 195.379553 \nz\n\" style=\"fill:#7f6e6e;fill-opacity:0.2;\"/>\n    <path clip-path=\"url(#p6e8c57ca6c)\" d=\"M 531.631313 59.337356 \nL 525.971312 64.844999 \nL 521.316832 71.266518 \nL 516.908943 74.99305 \nL 513.520977 78.981493 \nL 518.849948 71.869566 \nL 525.314838 65.568828 \nL 528.045896 62.350999 \nz\n\" style=\"fill:#ebcbcb;fill-opacity:0.2;\"/>\n    <path clip-path=\"url(#p6e8c57ca6c)\" d=\"M 500.675158 122.945672 \nL 501.752425 131.979986 \nL 504.161958 140.773863 \nL 504.192715 145.975831 \nL 505.559619 151.172862 \nL 503.153782 142.561452 \nL 502.077364 133.518065 \nL 500.67733 128.232406 \nz\n\" style=\"fill:#f4d4d4;fill-opacity:0.2;\"/>\n    <path clip-path=\"url(#p6e8c57ca6c)\" d=\"M 552.211082 197.717518 \nL 556.433283 199.645559 \nL 560.999372 200.232958 \nL 565.661172 201.537437 \nL 570.60873 202.488577 \nL 568.227939 202.416077 \nL 566.023296 200.957552 \nL 558.903918 199.590176 \nz\n\" style=\"fill:#b19999;fill-opacity:0.2;\"/>\n    <path clip-path=\"url(#p6e8c57ca6c)\" d=\"M 595.958262 200.957552 \nL 593.753619 202.416077 \nL 591.372828 202.488577 \nL 596.320386 201.537437 \nL 600.982186 200.232958 \nL 605.548275 199.645559 \nL 609.770476 197.717518 \nL 603.07764 199.590176 \nz\n\" style=\"fill:#8c7979;fill-opacity:0.2;\"/>\n    <path clip-path=\"url(#p6e8c57ca6c)\" d=\"M 513.520977 78.981493 \nL 509.402205 86.768507 \nL 506.544478 95.087028 \nL 503.958017 99.845133 \nL 502.646944 104.765922 \nL 505.701956 95.938106 \nL 510.098275 87.49942 \nL 511.229911 83.17216 \nz\n\" style=\"fill:#f8d7d7;fill-opacity:0.2;\"/>\n    <path clip-path=\"url(#p6e8c57ca6c)\" d=\"M 631.236536 183.597666 \nL 626.67203 188.716614 \nL 621.390782 192.625371 \nL 626.112161 189.511652 \nL 629.998714 186.10098 \nL 636.336242 181.390599 \nL 641.800979 175.608851 \nL 637.046385 179.780435 \nz\n\" style=\"fill:#6e5f5f;fill-opacity:0.2;\"/>\n    <path clip-path=\"url(#p6e8c57ca6c)\" d=\"M 520.180579 175.608851 \nL 525.645316 181.390599 \nL 531.982844 186.10098 \nL 535.869397 189.511652 \nL 540.590776 192.625371 \nL 535.309528 188.716614 \nL 530.745022 183.597666 \nL 524.935173 179.780435 \nz\n\" style=\"fill:#d3b7b7;fill-opacity:0.2;\"/>\n    <path clip-path=\"url(#p6e8c57ca6c)\" d=\"M 505.559619 151.172862 \nL 509.231975 159.208863 \nL 514.08754 166.540672 \nL 516.550051 171.166855 \nL 520.180579 175.608851 \nL 515.701941 168.836459 \nL 512.308704 161.175786 \nL 508.270869 156.271517 \nz\n\" style=\"fill:#e8c9c9;fill-opacity:0.2;\"/>\n    <path clip-path=\"url(#p6e8c57ca6c)\" d=\"M 566.023296 200.957552 \nL 568.227939 202.416077 \nL 570.60873 202.488577 \nL 575.750597 203.067123 \nL 580.990779 203.261293 \nL 580.990779 203.366135 \nL 580.990779 202.069644 \nL 573.433387 201.790091 \nz\n\" style=\"fill:#a69090;fill-opacity:0.2;\"/>\n    <path clip-path=\"url(#p6e8c57ca6c)\" d=\"M 580.990779 202.069644 \nL 580.990779 203.366135 \nL 580.990779 203.261293 \nL 586.230961 203.067123 \nL 591.372828 202.488577 \nL 593.753619 202.416077 \nL 595.958262 200.957552 \nL 588.548171 201.790091 \nz\n\" style=\"fill:#998585;fill-opacity:0.2;\"/>\n    <path clip-path=\"url(#p6e8c57ca6c)\" d=\"M 502.646944 104.765922 \nL 500.968252 113.821951 \nL 500.675158 122.945672 \nL 500.67733 128.232406 \nL 502.077364 133.518065 \nL 502.370276 124.198741 \nL 504.047218 114.76949 \nL 502.665603 109.76927 \nz\n\" style=\"fill:#fcdada;fill-opacity:0.2;\"/>\n    <path clip-path=\"url(#p6e8c57ca6c)\" d=\"M 545.635586 51.502516 \nL 538.218724 54.856816 \nL 531.631313 59.337356 \nL 528.045896 62.350999 \nL 525.314838 65.568828 \nL 532.81794 60.204668 \nL 541.238772 55.888454 \nL 543.12618 53.627137 \nz\n\" style=\"fill:#e3c5c5;fill-opacity:0.2;\"/>\n    <path clip-path=\"url(#p6e8c57ca6c)\" d=\"M 525.314838 65.568828 \nL 518.849948 71.869566 \nL 513.520977 78.981493 \nL 511.229911 83.17216 \nL 510.098275 87.49942 \nL 515.774469 79.607826 \nL 522.642674 72.414731 \nL 523.498058 68.941348 \nz\n\" style=\"fill:#f4d4d4;fill-opacity:0.2;\"/>\n    <path clip-path=\"url(#p6e8c57ca6c)\" d=\"M 530.745022 183.597666 \nL 535.309528 188.716614 \nL 540.590776 192.625371 \nL 546.069673 195.379553 \nL 552.211082 197.717518 \nL 548.4172 194.447112 \nL 545.132245 189.858607 \nL 537.516521 186.981189 \nz\n\" style=\"fill:#cbb0b0;fill-opacity:0.2;\"/>\n    <path clip-path=\"url(#p6e8c57ca6c)\" d=\"M 616.849313 189.858607 \nL 613.564358 194.447112 \nL 609.770476 197.717518 \nL 615.911885 195.379553 \nL 621.390782 192.625371 \nL 626.67203 188.716614 \nL 631.236536 183.597666 \nL 624.465037 186.981189 \nz\n\" style=\"fill:#7d6d6d;fill-opacity:0.2;\"/>\n    <path clip-path=\"url(#p6e8c57ca6c)\" d=\"M 502.077364 133.518065 \nL 503.153782 142.561452 \nL 505.559619 151.172862 \nL 508.270869 156.271517 \nL 512.308704 161.175786 \nL 510.082934 152.750199 \nL 509.086366 143.702689 \nL 504.885912 138.707507 \nz\n\" style=\"fill:#f5d4d4;fill-opacity:0.2;\"/>\n    <path clip-path=\"url(#p6e8c57ca6c)\" d=\"M 512.308704 161.175786 \nL 515.701941 168.836459 \nL 520.180579 175.608851 \nL 524.935173 179.780435 \nL 530.745022 183.597666 \nL 526.996841 177.334087 \nL 524.152625 170.017292 \nL 517.627502 165.789205 \nz\n\" style=\"fill:#e3c5c5;fill-opacity:0.2;\"/>\n    <path clip-path=\"url(#p6e8c57ca6c)\" d=\"M 637.828933 170.017292 \nL 634.984717 177.334087 \nL 631.236536 183.597666 \nL 637.046385 179.780435 \nL 641.800979 175.608851 \nL 646.279617 168.836459 \nL 649.672854 161.175786 \nL 644.354056 165.789205 \nz\n\" style=\"fill:#6d5f5f;fill-opacity:0.2;\"/>\n    <path clip-path=\"url(#p6e8c57ca6c)\" d=\"M 510.098275 87.49942 \nL 505.701956 95.938106 \nL 502.646944 104.765922 \nL 502.665603 109.76927 \nL 504.047218 114.76949 \nL 507.095957 105.403106 \nL 511.47626 96.275489 \nL 510.171663 91.892324 \nz\n\" style=\"fill:#fedcdc;fill-opacity:0.2;\"/>\n    <path clip-path=\"url(#p6e8c57ca6c)\" d=\"M 545.132245 189.858607 \nL 548.4172 194.447112 \nL 552.211082 197.717518 \nL 558.903918 199.590176 \nL 566.023296 200.957552 \nL 564.039706 198.09913 \nL 562.320215 193.854179 \nL 553.452895 192.166819 \nz\n\" style=\"fill:#bfa6a6;fill-opacity:0.2;\"/>\n    <path clip-path=\"url(#p6e8c57ca6c)\" d=\"M 599.661343 193.854179 \nL 597.941852 198.09913 \nL 595.958262 200.957552 \nL 603.07764 199.590176 \nL 609.770476 197.717518 \nL 613.564358 194.447112 \nL 616.849313 189.858607 \nL 608.528663 192.166819 \nz\n\" style=\"fill:#8e7b7b;fill-opacity:0.2;\"/>\n    <path clip-path=\"url(#p6e8c57ca6c)\" d=\"M 541.238772 55.888454 \nL 532.81794 60.204668 \nL 525.314838 65.568828 \nL 523.498058 68.941348 \nL 522.642674 72.414731 \nL 530.589333 66.061275 \nL 539.476747 60.674624 \nL 540.012544 58.250477 \nz\n\" style=\"fill:#ebcbcb;fill-opacity:0.2;\"/>\n    <path clip-path=\"url(#p6e8c57ca6c)\" d=\"M 562.470281 48.479827 \nL 553.764599 49.356339 \nL 545.635586 51.502516 \nL 543.12618 53.627137 \nL 541.238772 55.888454 \nL 550.435447 52.714265 \nL 560.246807 50.755824 \nL 561.192626 49.584539 \nz\n\" style=\"fill:#d6b9b9;fill-opacity:0.2;\"/>\n    <path clip-path=\"url(#p6e8c57ca6c)\" d=\"M 562.320215 193.854179 \nL 564.039706 198.09913 \nL 566.023296 200.957552 \nL 573.433387 201.790091 \nL 580.990779 202.069644 \nL 580.990779 199.353673 \nL 580.990779 195.22773 \nL 571.560821 194.88235 \nz\n\" style=\"fill:#b09999;fill-opacity:0.2;\"/>\n    <path clip-path=\"url(#p6e8c57ca6c)\" d=\"M 580.990779 195.22773 \nL 580.990779 199.353673 \nL 580.990779 202.069644 \nL 588.548171 201.790091 \nL 595.958262 200.957552 \nL 597.941852 198.09913 \nL 599.661343 193.854179 \nL 590.420737 194.88235 \nz\n\" style=\"fill:#a08b8b;fill-opacity:0.2;\"/>\n    <path clip-path=\"url(#p6e8c57ca6c)\" d=\"M 504.047218 114.76949 \nL 502.370276 124.198741 \nL 502.077364 133.518065 \nL 504.885912 138.707507 \nL 509.086366 143.702689 \nL 509.357593 134.193704 \nL 510.909758 124.398168 \nL 506.801031 119.676635 \nz\n\" style=\"fill:#fddbdb;fill-opacity:0.2;\"/>\n    <path clip-path=\"url(#p6e8c57ca6c)\" d=\"M 522.642674 72.414731 \nL 515.774469 79.607826 \nL 510.098275 87.49942 \nL 510.171663 91.892324 \nL 511.47626 96.275489 \nL 517.119613 87.56156 \nL 523.929822 79.430936 \nL 522.781201 75.931423 \nz\n\" style=\"fill:#fad8d8;fill-opacity:0.2;\"/>\n    <path clip-path=\"url(#p6e8c57ca6c)\" d=\"M 560.246807 50.755824 \nL 550.435447 52.714265 \nL 541.238772 55.888454 \nL 540.012544 58.250477 \nL 539.476747 60.674624 \nL 549.145467 56.364441 \nL 559.417489 53.219704 \nL 559.650936 51.974342 \nz\n\" style=\"fill:#dcbebe;fill-opacity:0.2;\"/>\n    <path clip-path=\"url(#p6e8c57ca6c)\" d=\"M 621.603466 176.965705 \nL 619.550921 184.004281 \nL 616.849313 189.858607 \nL 624.465037 186.981189 \nL 631.236536 183.597666 \nL 634.984717 177.334087 \nL 637.828933 170.017292 \nL 630.201344 173.770236 \nz\n\" style=\"fill:#7f6e6e;fill-opacity:0.2;\"/>\n    <path clip-path=\"url(#p6e8c57ca6c)\" d=\"M 524.152625 170.017292 \nL 526.996841 177.334087 \nL 530.745022 183.597666 \nL 537.516521 186.981189 \nL 545.132245 189.858607 \nL 542.430638 184.004281 \nL 540.378092 176.965705 \nL 531.780214 173.770236 \nz\n\" style=\"fill:#dabdbd;fill-opacity:0.2;\"/>\n    <path clip-path=\"url(#p6e8c57ca6c)\" d=\"M 580.990779 50.663615 \nL 571.600836 48.911333 \nL 562.470281 48.479827 \nL 561.192626 49.584539 \nL 560.246807 50.755824 \nL 570.495331 50.063798 \nL 580.990779 50.663615 \nL 580.990779 50.663615 \nz\n\" style=\"fill:#bca3a3;fill-opacity:0.2;\"/>\n    <path clip-path=\"url(#p6e8c57ca6c)\" d=\"M 509.086366 143.702689 \nL 510.082934 152.750199 \nL 512.308704 161.175786 \nL 517.627502 165.789205 \nL 524.152625 170.017292 \nL 522.284915 161.76438 \nL 521.448132 152.716996 \nL 514.632703 148.404844 \nz\n\" style=\"fill:#f0d0d0;fill-opacity:0.2;\"/>\n    <path clip-path=\"url(#p6e8c57ca6c)\" d=\"M 640.533426 152.716996 \nL 639.696643 161.76438 \nL 637.828933 170.017292 \nL 644.354056 165.789205 \nL 649.672854 161.175786 \nL 651.898624 152.750199 \nL 652.895192 143.702689 \nL 647.348855 148.404844 \nz\n\" style=\"fill:#716262;fill-opacity:0.2;\"/>\n    <path clip-path=\"url(#p6e8c57ca6c)\" d=\"M 539.476747 60.674624 \nL 530.589333 66.061275 \nL 522.642674 72.414731 \nL 522.781201 75.931423 \nL 523.929822 79.430936 \nL 531.784534 72.043519 \nL 540.537706 65.545202 \nL 539.649666 63.120237 \nz\n\" style=\"fill:#efcfcf;fill-opacity:0.2;\"/>\n    <path clip-path=\"url(#p6e8c57ca6c)\" d=\"M 580.990779 50.663615 \nL 570.495331 50.063798 \nL 560.246807 50.755824 \nL 559.650936 51.974342 \nL 559.417489 53.219704 \nL 570.100176 51.306024 \nL 580.990779 50.663615 \nL 580.990779 50.663615 \nz\n\" style=\"fill:#c2a8a8;fill-opacity:0.2;\"/>\n    <path clip-path=\"url(#p6e8c57ca6c)\" d=\"M 511.47626 96.275489 \nL 507.095957 105.403106 \nL 504.047218 114.76949 \nL 506.801031 119.676635 \nL 510.909758 124.398168 \nL 513.728897 114.501722 \nL 517.77312 104.696306 \nL 514.016512 100.570285 \nz\n\" style=\"fill:#ffdddd;fill-opacity:0.2;\"/>\n    <path clip-path=\"url(#p6e8c57ca6c)\" d=\"M 559.417489 53.219704 \nL 549.145467 56.364441 \nL 539.476747 60.674624 \nL 539.649666 63.120237 \nL 540.537706 65.545202 \nL 550.022926 60.063896 \nL 560.057495 55.706068 \nL 559.552943 54.470784 \nz\n\" style=\"fill:#e0c2c2;fill-opacity:0.2;\"/>\n    <path clip-path=\"url(#p6e8c57ca6c)\" d=\"M 580.990779 50.663615 \nL 570.100176 51.306024 \nL 559.417489 53.219704 \nL 559.552943 54.470784 \nL 560.057495 55.706068 \nL 570.447087 52.55396 \nL 580.990779 50.663615 \nL 580.990779 50.663615 \nz\n\" style=\"fill:#c8adad;fill-opacity:0.2;\"/>\n    <path clip-path=\"url(#p6e8c57ca6c)\" d=\"M 580.990779 50.663615 \nL 570.447087 52.55396 \nL 560.057495 55.706068 \nL 560.924892 56.904027 \nL 562.142365 58.043503 \nL 571.517274 53.722025 \nL 580.990779 50.663615 \nL 580.990779 50.663615 \nz\n\" style=\"fill:#cdb2b2;fill-opacity:0.2;\"/>\n    <path clip-path=\"url(#p6e8c57ca6c)\" d=\"M 540.378092 176.965705 \nL 542.430638 184.004281 \nL 545.132245 189.858607 \nL 553.452895 192.166819 \nL 562.320215 193.854179 \nL 560.904689 188.265857 \nL 559.828407 181.408859 \nL 549.787889 179.531639 \nz\n\" style=\"fill:#ccb1b1;fill-opacity:0.2;\"/>\n    <path clip-path=\"url(#p6e8c57ca6c)\" d=\"M 602.153151 181.408859 \nL 601.076869 188.265857 \nL 599.661343 193.854179 \nL 608.528663 192.166819 \nL 616.849313 189.858607 \nL 619.550921 184.004281 \nL 621.603466 176.965705 \nL 612.19367 179.531639 \nz\n\" style=\"fill:#938080;fill-opacity:0.2;\"/>\n    <path clip-path=\"url(#p6e8c57ca6c)\" d=\"M 580.990779 50.663615 \nL 571.517274 53.722025 \nL 562.142365 58.043503 \nL 563.690705 59.104121 \nL 565.544473 60.066693 \nL 573.241412 54.729074 \nL 580.990779 50.663615 \nL 580.990779 50.663615 \nz\n\" style=\"fill:#d2b6b6;fill-opacity:0.2;\"/>\n    <path clip-path=\"url(#p6e8c57ca6c)\" d=\"M 580.990779 50.663615 \nL 588.740146 54.729074 \nL 596.437085 60.066693 \nL 598.290853 59.104121 \nL 599.839193 58.043503 \nL 590.464284 53.722025 \nL 580.990779 50.663615 \nL 580.990779 50.663615 \nz\n\" style=\"fill:#ceb2b2;fill-opacity:0.2;\"/>\n    <path clip-path=\"url(#p6e8c57ca6c)\" d=\"M 523.929822 79.430936 \nL 517.119613 87.56156 \nL 511.47626 96.275489 \nL 514.016512 100.570285 \nL 517.77312 104.696306 \nL 522.972739 95.17523 \nL 529.231404 86.127942 \nL 526.086836 82.85084 \nz\n\" style=\"fill:#fad9d9;fill-opacity:0.2;\"/>\n    <path clip-path=\"url(#p6e8c57ca6c)\" d=\"M 580.990779 50.663615 \nL 573.241412 54.729074 \nL 565.544473 60.066693 \nL 567.672353 60.91362 \nL 570.037658 61.629269 \nL 575.503374 55.504336 \nL 580.990779 50.663615 \nL 580.990779 50.663615 \nz\n\" style=\"fill:#d5b9b9;fill-opacity:0.2;\"/>\n    <path clip-path=\"url(#p6e8c57ca6c)\" d=\"M 580.990779 50.663615 \nL 586.478184 55.504336 \nL 591.9439 61.629269 \nL 594.309205 60.91362 \nL 596.437085 60.066693 \nL 588.740146 54.729074 \nL 580.990779 50.663615 \nL 580.990779 50.663615 \nz\n\" style=\"fill:#d2b6b6;fill-opacity:0.2;\"/>\n    <path clip-path=\"url(#p6e8c57ca6c)\" d=\"M 510.909758 124.398168 \nL 509.357593 134.193704 \nL 509.086366 143.702689 \nL 514.632703 148.404844 \nL 521.448132 152.716996 \nL 521.675905 143.039136 \nL 522.978919 132.913885 \nL 516.327584 128.841006 \nz\n\" style=\"fill:#f8d7d7;fill-opacity:0.2;\"/>\n    <path clip-path=\"url(#p6e8c57ca6c)\" d=\"M 639.002639 132.913885 \nL 640.305653 143.039136 \nL 640.533426 152.716996 \nL 647.348855 148.404844 \nL 652.895192 143.702689 \nL 652.623965 134.193704 \nL 651.0718 124.398168 \nL 645.653974 128.841006 \nz\n\" style=\"fill:#796969;fill-opacity:0.2;\"/>\n    <path clip-path=\"url(#p6e8c57ca6c)\" d=\"M 560.057495 55.706068 \nL 550.022926 60.063896 \nL 540.537706 65.545202 \nL 542.134633 67.90666 \nL 544.42105 70.161816 \nL 553.050004 63.556481 \nL 562.142365 58.043503 \nL 560.924892 56.904027 \nz\n\" style=\"fill:#e1c3c3;fill-opacity:0.2;\"/>\n    <path clip-path=\"url(#p6e8c57ca6c)\" d=\"M 540.537706 65.545202 \nL 531.784534 72.043519 \nL 523.929822 79.430936 \nL 526.086836 82.85084 \nL 529.231404 86.127942 \nL 536.428262 77.73476 \nL 544.42105 70.161816 \nL 542.134633 67.90666 \nz\n\" style=\"fill:#f1d0d0;fill-opacity:0.2;\"/>\n    <path clip-path=\"url(#p6e8c57ca6c)\" d=\"M 559.828407 181.408859 \nL 560.904689 188.265857 \nL 562.320215 193.854179 \nL 571.560821 194.88235 \nL 580.990779 195.22773 \nL 580.990779 189.731722 \nL 580.990779 182.937872 \nL 570.300142 182.553324 \nz\n\" style=\"fill:#bba2a2;fill-opacity:0.2;\"/>\n    <path clip-path=\"url(#p6e8c57ca6c)\" d=\"M 580.990779 182.937872 \nL 580.990779 189.731722 \nL 580.990779 195.22773 \nL 590.420737 194.88235 \nL 599.661343 193.854179 \nL 601.076869 188.265857 \nL 602.153151 181.408859 \nL 591.681416 182.553324 \nz\n\" style=\"fill:#a89191;fill-opacity:0.2;\"/>\n    <path clip-path=\"url(#p6e8c57ca6c)\" d=\"M 580.990779 50.663615 \nL 575.503374 55.504336 \nL 570.037658 61.629269 \nL 572.598971 62.200322 \nL 575.310915 62.616083 \nL 578.147754 55.992813 \nL 580.990779 50.663615 \nL 580.990779 50.663615 \nz\n\" style=\"fill:#d8bbbb;fill-opacity:0.2;\"/>\n    <path clip-path=\"url(#p6e8c57ca6c)\" d=\"M 580.990779 50.663615 \nL 583.833804 55.992813 \nL 586.670643 62.616083 \nL 589.382587 62.200322 \nL 591.9439 61.629269 \nL 586.478184 55.504336 \nL 580.990779 50.663615 \nL 580.990779 50.663615 \nz\n\" style=\"fill:#d6b9b9;fill-opacity:0.2;\"/>\n    <path clip-path=\"url(#p6e8c57ca6c)\" d=\"M 580.990779 50.663615 \nL 578.147754 55.992813 \nL 575.310915 62.616083 \nL 578.125036 62.868725 \nL 580.990779 62.953473 \nL 580.990779 56.159623 \nL 580.990779 50.663615 \nL 580.990779 50.663615 \nz\n\" style=\"fill:#d9bcbc;fill-opacity:0.2;\"/>\n    <path clip-path=\"url(#p6e8c57ca6c)\" d=\"M 580.990779 50.663615 \nL 580.990779 56.159623 \nL 580.990779 62.953473 \nL 583.856523 62.868725 \nL 586.670643 62.616083 \nL 583.833804 55.992813 \nL 580.990779 50.663615 \nL 580.990779 50.663615 \nz\n\" style=\"fill:#d8bbbb;fill-opacity:0.2;\"/>\n    <path clip-path=\"url(#p6e8c57ca6c)\" d=\"M 521.448132 152.716996 \nL 522.284915 161.76438 \nL 524.152625 170.017292 \nL 531.780214 173.770236 \nL 540.378092 176.965705 \nL 539.029073 168.854054 \nL 538.424375 159.809259 \nL 529.424743 156.546755 \nz\n\" style=\"fill:#e6c7c7;fill-opacity:0.2;\"/>\n    <path clip-path=\"url(#p6e8c57ca6c)\" d=\"M 623.557183 159.809259 \nL 622.952485 168.854054 \nL 621.603466 176.965705 \nL 630.201344 173.770236 \nL 637.828933 170.017292 \nL 639.696643 161.76438 \nL 640.533426 152.716996 \nL 632.556815 156.546755 \nz\n\" style=\"fill:#857373;fill-opacity:0.2;\"/>\n    <path clip-path=\"url(#p6e8c57ca6c)\" d=\"M 562.142365 58.043503 \nL 553.050004 63.556481 \nL 544.42105 70.161816 \nL 547.364143 72.268815 \nL 550.917763 74.187679 \nL 558.052543 66.591112 \nL 565.544473 60.066693 \nL 563.690705 59.104121 \nz\n\" style=\"fill:#e1c3c3;fill-opacity:0.2;\"/>\n    <path clip-path=\"url(#p6e8c57ca6c)\" d=\"M 596.437085 60.066693 \nL 603.929015 66.591112 \nL 611.063795 74.187679 \nL 614.617415 72.268815 \nL 617.560508 70.161816 \nL 608.931554 63.556481 \nL 599.839193 58.043503 \nL 598.290853 59.104121 \nz\n\" style=\"fill:#b49c9c;fill-opacity:0.2;\"/>\n    <path clip-path=\"url(#p6e8c57ca6c)\" d=\"M 517.77312 104.696306 \nL 513.728897 114.501722 \nL 510.909758 124.398168 \nL 516.327584 128.841006 \nL 522.978919 132.913885 \nL 525.343496 122.539117 \nL 528.731037 112.122326 \nL 522.701521 108.573132 \nz\n\" style=\"fill:#fad9d9;fill-opacity:0.2;\"/>\n    <path clip-path=\"url(#p6e8c57ca6c)\" d=\"M 633.250521 112.122326 \nL 636.638062 122.539117 \nL 639.002639 132.913885 \nL 645.653974 128.841006 \nL 651.0718 124.398168 \nL 648.252661 114.501722 \nL 644.208438 104.696306 \nL 639.280037 108.573132 \nz\n\" style=\"fill:#847373;fill-opacity:0.2;\"/>\n    <path clip-path=\"url(#p6e8c57ca6c)\" d=\"M 544.42105 70.161816 \nL 536.428262 77.73476 \nL 529.231404 86.127942 \nL 533.322692 89.199639 \nL 538.299537 92.005413 \nL 544.287433 82.714452 \nL 550.917763 74.187679 \nL 547.364143 72.268815 \nz\n\" style=\"fill:#eecece;fill-opacity:0.2;\"/>\n    <path clip-path=\"url(#p6e8c57ca6c)\" d=\"M 611.063795 74.187679 \nL 617.694125 82.714452 \nL 623.682021 92.005413 \nL 628.658866 89.199639 \nL 632.750154 86.127942 \nL 625.553296 77.73476 \nL 617.560508 70.161816 \nL 614.617415 72.268815 \nz\n\" style=\"fill:#a28c8c;fill-opacity:0.2;\"/>\n    <path clip-path=\"url(#p6e8c57ca6c)\" d=\"M 529.231404 86.127942 \nL 522.972739 95.17523 \nL 517.77312 104.696306 \nL 522.701521 108.573132 \nL 528.731037 112.122326 \nL 533.078444 101.874796 \nL 538.299537 92.005413 \nL 533.322692 89.199639 \nz\n\" style=\"fill:#f7d6d6;fill-opacity:0.2;\"/>\n    <path clip-path=\"url(#p6e8c57ca6c)\" d=\"M 623.682021 92.005413 \nL 628.903114 101.874796 \nL 633.250521 112.122326 \nL 639.280037 108.573132 \nL 644.208438 104.696306 \nL 639.008819 95.17523 \nL 632.750154 86.127942 \nL 628.658866 89.199639 \nz\n\" style=\"fill:#927e7e;fill-opacity:0.2;\"/>\n    <path clip-path=\"url(#p6e8c57ca6c)\" d=\"M 538.424375 159.809259 \nL 539.029073 168.854054 \nL 540.378092 176.965705 \nL 549.787889 179.531639 \nL 559.828407 181.408859 \nL 559.120636 173.390103 \nL 558.803276 164.348116 \nL 548.280802 162.430108 \nz\n\" style=\"fill:#d7baba;fill-opacity:0.2;\"/>\n    <path clip-path=\"url(#p6e8c57ca6c)\" d=\"M 603.178282 164.348116 \nL 602.860922 173.390103 \nL 602.153151 181.408859 \nL 612.19367 179.531639 \nL 621.603466 176.965705 \nL 622.952485 168.854054 \nL 623.557183 159.809259 \nL 613.700756 162.430108 \nz\n\" style=\"fill:#9a8585;fill-opacity:0.2;\"/>\n    <path clip-path=\"url(#p6e8c57ca6c)\" d=\"M 565.544473 60.066693 \nL 558.052543 66.591112 \nL 550.917763 74.187679 \nL 555.022869 75.881257 \nL 559.608377 77.31617 \nL 564.702686 68.942254 \nL 570.037658 61.629269 \nL 567.672353 60.91362 \nz\n\" style=\"fill:#dfc1c1;fill-opacity:0.2;\"/>\n    <path clip-path=\"url(#p6e8c57ca6c)\" d=\"M 591.9439 61.629269 \nL 597.278872 68.942254 \nL 602.373181 77.31617 \nL 606.958689 75.881257 \nL 611.063795 74.187679 \nL 603.929015 66.591112 \nL 596.437085 60.066693 \nL 594.309205 60.91362 \nz\n\" style=\"fill:#bca3a3;fill-opacity:0.2;\"/>\n    <path clip-path=\"url(#p6e8c57ca6c)\" d=\"M 522.978919 132.913885 \nL 521.675905 143.039136 \nL 521.448132 152.716996 \nL 529.424743 156.546755 \nL 538.424375 159.809259 \nL 538.588993 149.997867 \nL 539.53045 139.609565 \nL 530.758134 136.529964 \nz\n\" style=\"fill:#edcece;fill-opacity:0.2;\"/>\n    <path clip-path=\"url(#p6e8c57ca6c)\" d=\"M 622.451108 139.609565 \nL 623.392565 149.997867 \nL 623.557183 159.809259 \nL 632.556815 156.546755 \nL 640.533426 152.716996 \nL 640.305653 143.039136 \nL 639.002639 132.913885 \nL 631.223424 136.529964 \nz\n\" style=\"fill:#8c7a7a;fill-opacity:0.2;\"/>\n    <path clip-path=\"url(#p6e8c57ca6c)\" d=\"M 570.037658 61.629269 \nL 564.702686 68.942254 \nL 559.608377 77.31617 \nL 564.592392 78.4637 \nL 569.883831 79.300592 \nL 572.537061 70.430408 \nL 575.310915 62.616083 \nL 572.598971 62.200322 \nz\n\" style=\"fill:#dabdbd;fill-opacity:0.2;\"/>\n    <path clip-path=\"url(#p6e8c57ca6c)\" d=\"M 586.670643 62.616083 \nL 589.444497 70.430408 \nL 592.097727 79.300592 \nL 597.389166 78.4637 \nL 602.373181 77.31617 \nL 597.278872 68.942254 \nL 591.9439 61.629269 \nL 589.382587 62.200322 \nz\n\" style=\"fill:#c4aaaa;fill-opacity:0.2;\"/>\n    <path clip-path=\"url(#p6e8c57ca6c)\" d=\"M 580.990779 165.910734 \nL 580.990779 174.951547 \nL 580.990779 182.937872 \nL 591.681416 182.553324 \nL 602.153151 181.408859 \nL 602.860922 173.390103 \nL 603.178282 164.348116 \nL 592.200207 165.517702 \nz\n\" style=\"fill:#b09898;fill-opacity:0.2;\"/>\n    <path clip-path=\"url(#p6e8c57ca6c)\" d=\"M 558.803276 164.348116 \nL 559.120636 173.390103 \nL 559.828407 181.408859 \nL 570.300142 182.553324 \nL 580.990779 182.937872 \nL 580.990779 174.951547 \nL 580.990779 165.910734 \nL 569.781351 165.517702 \nz\n\" style=\"fill:#c4aaaa;fill-opacity:0.2;\"/>\n    <path clip-path=\"url(#p6e8c57ca6c)\" d=\"M 575.310915 62.616083 \nL 572.537061 70.430408 \nL 569.883831 79.300592 \nL 575.38439 79.809723 \nL 580.990779 79.980611 \nL 580.990779 70.939798 \nL 580.990779 62.953473 \nL 578.125036 62.868725 \nz\n\" style=\"fill:#d4b8b8;fill-opacity:0.2;\"/>\n    <path clip-path=\"url(#p6e8c57ca6c)\" d=\"M 580.990779 62.953473 \nL 580.990779 70.939798 \nL 580.990779 79.980611 \nL 586.597168 79.809723 \nL 592.097727 79.300592 \nL 589.444497 70.430408 \nL 586.670643 62.616083 \nL 583.856523 62.868725 \nz\n\" style=\"fill:#ccb1b1;fill-opacity:0.2;\"/>\n    <path clip-path=\"url(#p6e8c57ca6c)\" d=\"M 550.917763 74.187679 \nL 544.287433 82.714452 \nL 538.299537 92.005413 \nL 544.080739 94.488415 \nL 550.566035 96.597071 \nL 554.862256 86.594961 \nL 559.608377 77.31617 \nL 555.022869 75.881257 \nz\n\" style=\"fill:#e9caca;fill-opacity:0.2;\"/>\n    <path clip-path=\"url(#p6e8c57ca6c)\" d=\"M 602.373181 77.31617 \nL 607.119302 86.594961 \nL 611.415523 96.597071 \nL 617.900819 94.488415 \nL 623.682021 92.005413 \nL 617.694125 82.714452 \nL 611.063795 74.187679 \nL 606.958689 75.881257 \nz\n\" style=\"fill:#ae9797;fill-opacity:0.2;\"/>\n    <path clip-path=\"url(#p6e8c57ca6c)\" d=\"M 528.731037 112.122326 \nL 525.343496 122.539117 \nL 522.978919 132.913885 \nL 530.758134 136.529964 \nL 539.53045 139.609565 \nL 541.237753 128.852434 \nL 543.681073 117.94712 \nL 535.764873 115.269609 \nz\n\" style=\"fill:#f1d0d0;fill-opacity:0.2;\"/>\n    <path clip-path=\"url(#p6e8c57ca6c)\" d=\"M 618.300485 117.94712 \nL 620.743805 128.852434 \nL 622.451108 139.609565 \nL 631.223424 136.529964 \nL 639.002639 132.913885 \nL 636.638062 122.539117 \nL 633.250521 112.122326 \nL 626.216685 115.269609 \nz\n\" style=\"fill:#968282;fill-opacity:0.2;\"/>\n    <path clip-path=\"url(#p6e8c57ca6c)\" d=\"M 538.299537 92.005413 \nL 533.078444 101.874796 \nL 528.731037 112.122326 \nL 535.764873 115.269609 \nL 543.681073 117.94712 \nL 546.812239 107.120191 \nL 550.566035 96.597071 \nL 544.080739 94.488415 \nz\n\" style=\"fill:#efcfcf;fill-opacity:0.2;\"/>\n    <path clip-path=\"url(#p6e8c57ca6c)\" d=\"M 611.415523 96.597071 \nL 615.169319 107.120191 \nL 618.300485 117.94712 \nL 626.216685 115.269609 \nL 633.250521 112.122326 \nL 628.903114 101.874796 \nL 623.682021 92.005413 \nL 617.900819 94.488415 \nz\n\" style=\"fill:#a18c8c;fill-opacity:0.2;\"/>\n    <path clip-path=\"url(#p6e8c57ca6c)\" d=\"M 539.53045 139.609565 \nL 538.588993 149.997867 \nL 538.424375 159.809259 \nL 548.280802 162.430108 \nL 558.803276 164.348116 \nL 558.889678 154.450959 \nL 559.383724 143.892631 \nL 549.134091 142.082903 \nz\n\" style=\"fill:#dfc1c1;fill-opacity:0.2;\"/>\n    <path clip-path=\"url(#p6e8c57ca6c)\" d=\"M 602.597835 143.892631 \nL 603.09188 154.450959 \nL 603.178282 164.348116 \nL 613.700756 162.430108 \nL 623.557183 159.809259 \nL 623.392565 149.997867 \nL 622.451108 139.609565 \nL 612.847467 142.082903 \nz\n\" style=\"fill:#a18c8c;fill-opacity:0.2;\"/>\n    <path clip-path=\"url(#p6e8c57ca6c)\" d=\"M 559.608377 77.31617 \nL 554.862256 86.594961 \nL 550.566035 96.597071 \nL 557.637808 98.286648 \nL 565.163503 99.520673 \nL 567.407975 89.061307 \nL 569.883831 79.300592 \nL 564.592392 78.4637 \nz\n\" style=\"fill:#e0c2c2;fill-opacity:0.2;\"/>\n    <path clip-path=\"url(#p6e8c57ca6c)\" d=\"M 592.097727 79.300592 \nL 594.573583 89.061307 \nL 596.818056 99.520673 \nL 604.34375 98.286648 \nL 611.415523 96.597071 \nL 607.119302 86.594961 \nL 602.373181 77.31617 \nL 597.389166 78.4637 \nz\n\" style=\"fill:#bba2a2;fill-opacity:0.2;\"/>\n    <path clip-path=\"url(#p6e8c57ca6c)\" d=\"M 559.383724 143.892631 \nL 558.889678 154.450959 \nL 558.803276 164.348116 \nL 569.781351 165.517702 \nL 580.990779 165.910734 \nL 580.990779 155.983995 \nL 580.990779 145.366828 \nL 570.07511 144.996053 \nz\n\" style=\"fill:#ccb1b1;fill-opacity:0.2;\"/>\n    <path clip-path=\"url(#p6e8c57ca6c)\" d=\"M 580.990779 145.366828 \nL 580.990779 155.983995 \nL 580.990779 165.910734 \nL 592.200207 165.517702 \nL 603.178282 164.348116 \nL 603.09188 154.450959 \nL 602.597835 143.892631 \nL 591.906448 144.996053 \nz\n\" style=\"fill:#b79f9f;fill-opacity:0.2;\"/>\n    <path clip-path=\"url(#p6e8c57ca6c)\" d=\"M 580.990779 79.980611 \nL 580.990779 89.90735 \nL 580.990779 100.524517 \nL 588.98285 100.272157 \nL 596.818056 99.520673 \nL 594.573583 89.061307 \nL 592.097727 79.300592 \nL 586.597168 79.809723 \nz\n\" style=\"fill:#c8aeae;fill-opacity:0.2;\"/>\n    <path clip-path=\"url(#p6e8c57ca6c)\" d=\"M 569.883831 79.300592 \nL 567.407975 89.061307 \nL 565.163503 99.520673 \nL 572.998708 100.272157 \nL 580.990779 100.524517 \nL 580.990779 89.90735 \nL 580.990779 79.980611 \nL 575.38439 79.809723 \nz\n\" style=\"fill:#d5b9b9;fill-opacity:0.2;\"/>\n    <path clip-path=\"url(#p6e8c57ca6c)\" d=\"M 543.681073 117.94712 \nL 541.237753 128.852434 \nL 539.53045 139.609565 \nL 549.134091 142.082903 \nL 559.383724 143.892631 \nL 560.279271 132.888021 \nL 561.560019 121.666618 \nL 552.334526 120.095631 \nz\n\" style=\"fill:#e3c5c5;fill-opacity:0.2;\"/>\n    <path clip-path=\"url(#p6e8c57ca6c)\" d=\"M 600.421539 121.666618 \nL 601.702287 132.888021 \nL 602.597835 143.892631 \nL 612.847467 142.082903 \nL 622.451108 139.609565 \nL 620.743805 128.852434 \nL 618.300485 117.94712 \nL 609.647032 120.095631 \nz\n\" style=\"fill:#aa9393;fill-opacity:0.2;\"/>\n    <path clip-path=\"url(#p6e8c57ca6c)\" d=\"M 550.566035 96.597071 \nL 546.812239 107.120191 \nL 543.681073 117.94712 \nL 552.334526 120.095631 \nL 561.560019 121.666618 \nL 563.199829 110.465308 \nL 565.163503 99.520673 \nL 557.637808 98.286648 \nz\n\" style=\"fill:#e3c5c5;fill-opacity:0.2;\"/>\n    <path clip-path=\"url(#p6e8c57ca6c)\" d=\"M 596.818056 99.520673 \nL 598.781729 110.465308 \nL 600.421539 121.666618 \nL 609.647032 120.095631 \nL 618.300485 117.94712 \nL 615.169319 107.120191 \nL 611.415523 96.597071 \nL 604.34375 98.286648 \nz\n\" style=\"fill:#b39b9b;fill-opacity:0.2;\"/>\n    <path clip-path=\"url(#p6e8c57ca6c)\" d=\"M 561.560019 121.666618 \nL 560.279271 132.888021 \nL 559.383724 143.892631 \nL 570.07511 144.996053 \nL 580.990779 145.366828 \nL 580.990779 134.276516 \nL 580.990779 122.945672 \nL 571.176269 122.624034 \nz\n\" style=\"fill:#d2b6b6;fill-opacity:0.2;\"/>\n    <path clip-path=\"url(#p6e8c57ca6c)\" d=\"M 580.990779 122.945672 \nL 580.990779 134.276516 \nL 580.990779 145.366828 \nL 591.906448 144.996053 \nL 602.597835 143.892631 \nL 601.702287 132.888021 \nL 600.421539 121.666618 \nL 590.805289 122.624034 \nz\n\" style=\"fill:#bea5a5;fill-opacity:0.2;\"/>\n    <path clip-path=\"url(#p6e8c57ca6c)\" d=\"M 565.163503 99.520673 \nL 563.199829 110.465308 \nL 561.560019 121.666618 \nL 571.176269 122.624034 \nL 580.990779 122.945672 \nL 580.990779 111.614829 \nL 580.990779 100.524517 \nL 572.998708 100.272157 \nz\n\" style=\"fill:#d5b8b8;fill-opacity:0.2;\"/>\n    <path clip-path=\"url(#p6e8c57ca6c)\" d=\"M 580.990779 100.524517 \nL 580.990779 111.614829 \nL 580.990779 122.945672 \nL 590.805289 122.624034 \nL 600.421539 121.666618 \nL 598.781729 110.465308 \nL 596.818056 99.520673 \nL 588.98285 100.272157 \nz\n\" style=\"fill:#c4aaaa;fill-opacity:0.2;\"/>\n   </g>\n  </g>\n </g>\n <defs>\n  <clipPath id=\"pa0d20e3216\">\n   <rect height=\"196.941176\" width=\"196.941176\" x=\"7.2\" y=\"27.136451\"/>\n  </clipPath>\n  <clipPath id=\"p1cf457e3f2\">\n   <rect height=\"196.941176\" width=\"196.941176\" x=\"243.529412\" y=\"27.136451\"/>\n  </clipPath>\n  <clipPath id=\"p6e8c57ca6c\">\n   <rect height=\"196.941176\" width=\"196.941176\" x=\"479.858824\" y=\"27.136451\"/>\n  </clipPath>\n </defs>\n</svg>\n",
      "image/png": "[encoded data removed]"
     },
     "metadata": {},
     "execution_count": 8
    }
   ],
   "source": [
    "satevector_back = Aer.get_backend(\"statevector_simulator\")\n",
    "job_state = execute(toffoli_cicuit, backend=satevector_back)\n",
    "result_state = job_state.result()\n",
    "state = result_state.get_statevector()\n",
    "plot_bloch_multivector(state)"
   ]
  },
  {
   "cell_type": "code",
   "execution_count": 23,
   "metadata": {},
   "outputs": [
    {
     "output_type": "execute_result",
     "data": {
      "text/plain": [
       "<Figure size 1080.08x264.88 with 1 Axes>"
      ],
      "image/svg+xml": "<?xml version=\"1.0\" encoding=\"utf-8\" standalone=\"no\"?>\n<!DOCTYPE svg PUBLIC \"-//W3C//DTD SVG 1.1//EN\"\n  \"http://www.w3.org/Graphics/SVG/1.1/DTD/svg11.dtd\">\n<!-- Created with matplotlib (https://matplotlib.org/) -->\n<svg height=\"214.3844pt\" version=\"1.1\" viewBox=\"0 0 829.859344 214.3844\" width=\"829.859344pt\" xmlns=\"http://www.w3.org/2000/svg\" xmlns:xlink=\"http://www.w3.org/1999/xlink\">\n <metadata>\n  <rdf:RDF xmlns:cc=\"http://creativecommons.org/ns#\" xmlns:dc=\"http://purl.org/dc/elements/1.1/\" xmlns:rdf=\"http://www.w3.org/1999/02/22-rdf-syntax-ns#\">\n   <cc:Work>\n    <dc:type rdf:resource=\"http://purl.org/dc/dcmitype/StillImage\"/>\n    <dc:date>2021-05-21T18:14:39.603933</dc:date>\n    <dc:format>image/svg+xml</dc:format>\n    <dc:creator>\n     <cc:Agent>\n      <dc:title>Matplotlib v3.3.4, https://matplotlib.org/</dc:title>\n     </cc:Agent>\n    </dc:creator>\n   </cc:Work>\n  </rdf:RDF>\n </metadata>\n <defs>\n  <style type=\"text/css\">*{stroke-linecap:butt;stroke-linejoin:round;}</style>\n </defs>\n <g id=\"figure_1\">\n  <g id=\"patch_1\">\n   <path d=\"M 0 214.3844 \nL 829.859344 214.3844 \nL 829.859344 0 \nL 0 0 \nz\n\" style=\"fill:#ffffff;\"/>\n  </g>\n  <g id=\"axes_1\">\n   <g id=\"patch_2\">\n    <path clip-path=\"url(#pd4efa69e97)\" d=\"M 695.851054 169.573697 \nL 707.668314 169.573697 \nL 701.759684 178.09576 \nz\n\" style=\"fill:#778899;\"/>\n   </g>\n   <g id=\"patch_3\">\n    <path clip-path=\"url(#pd4efa69e97)\" d=\"M 741.302054 169.573697 \nL 753.119314 169.573697 \nL 747.210684 178.09576 \nz\n\" style=\"fill:#778899;\"/>\n   </g>\n   <g id=\"patch_4\">\n    <path clip-path=\"url(#pd4efa69e97)\" d=\"M 786.753054 169.573697 \nL 798.570314 169.573697 \nL 792.661684 178.09576 \nz\n\" style=\"fill:#778899;\"/>\n   </g>\n   <g id=\"line2d_1\">\n    <path clip-path=\"url(#pd4efa69e97)\" d=\"M 86.353144 43.5608 \nL 818.114244 43.5608 \n\" style=\"fill:none;stroke:#000000;stroke-linecap:square;stroke-width:2;\"/>\n   </g>\n   <g id=\"line2d_2\">\n    <path clip-path=\"url(#pd4efa69e97)\" d=\"M 86.353144 89.0118 \nL 818.114244 89.0118 \n\" style=\"fill:none;stroke:#000000;stroke-linecap:square;stroke-width:2;\"/>\n   </g>\n   <g id=\"line2d_3\">\n    <path clip-path=\"url(#pd4efa69e97)\" d=\"M 86.353144 134.4628 \nL 818.114244 134.4628 \n\" style=\"fill:none;stroke:#000000;stroke-linecap:square;stroke-width:2;\"/>\n   </g>\n   <g id=\"line2d_4\">\n    <path clip-path=\"url(#pd4efa69e97)\" d=\"M 86.353144 178.436642 \nL 818.114244 178.436642 \n\" style=\"fill:none;stroke:#778899;stroke-linecap:square;stroke-width:2;\"/>\n   </g>\n   <g id=\"line2d_5\">\n    <path clip-path=\"url(#pd4efa69e97)\" d=\"M 86.353144 181.390957 \nL 818.114244 181.390957 \n\" style=\"fill:none;stroke:#778899;stroke-linecap:square;stroke-width:2;\"/>\n   </g>\n   <g id=\"patch_5\">\n    <path clip-path=\"url(#pd4efa69e97)\" d=\"M 647.445739 66.2863 \nL 665.171629 66.2863 \nL 665.171629 20.8353 \nL 647.445739 20.8353 \nz\n\" style=\"fill:#bdbdbd;opacity:0.6;\"/>\n   </g>\n   <g id=\"patch_6\">\n    <path clip-path=\"url(#pd4efa69e97)\" d=\"M 647.445739 111.7373 \nL 665.171629 111.7373 \nL 665.171629 66.2863 \nL 647.445739 66.2863 \nz\n\" style=\"fill:#bdbdbd;opacity:0.6;\"/>\n   </g>\n   <g id=\"patch_7\">\n    <path clip-path=\"url(#pd4efa69e97)\" d=\"M 647.445739 157.1883 \nL 665.171629 157.1883 \nL 665.171629 111.7373 \nL 647.445739 111.7373 \nz\n\" style=\"fill:#bdbdbd;opacity:0.6;\"/>\n   </g>\n   <g id=\"line2d_6\">\n    <path clip-path=\"url(#pd4efa69e97)\" d=\"M 156.347684 134.4628 \nL 156.347684 89.0118 \n\" style=\"fill:none;stroke:#6fa4ff;stroke-linecap:square;stroke-width:2;\"/>\n   </g>\n   <g id=\"line2d_7\">\n    <path clip-path=\"url(#pd4efa69e97)\" d=\"M 247.249684 134.4628 \nL 247.249684 43.5608 \n\" style=\"fill:none;stroke:#6fa4ff;stroke-linecap:square;stroke-width:2;\"/>\n   </g>\n   <g id=\"line2d_8\">\n    <path clip-path=\"url(#pd4efa69e97)\" d=\"M 338.151684 134.4628 \nL 338.151684 89.0118 \n\" style=\"fill:none;stroke:#6fa4ff;stroke-linecap:square;stroke-width:2;\"/>\n   </g>\n   <g id=\"line2d_9\">\n    <path clip-path=\"url(#pd4efa69e97)\" d=\"M 429.053684 134.4628 \nL 429.053684 43.5608 \n\" style=\"fill:none;stroke:#6fa4ff;stroke-linecap:square;stroke-width:2;\"/>\n   </g>\n   <g id=\"line2d_10\">\n    <path clip-path=\"url(#pd4efa69e97)\" d=\"M 474.504684 89.0118 \nL 474.504684 43.5608 \n\" style=\"fill:none;stroke:#6fa4ff;stroke-linecap:square;stroke-width:2;\"/>\n   </g>\n   <g id=\"line2d_11\">\n    <path clip-path=\"url(#pd4efa69e97)\" d=\"M 565.406684 89.0118 \nL 565.406684 43.5608 \n\" style=\"fill:none;stroke:#6fa4ff;stroke-linecap:square;stroke-width:2;\"/>\n   </g>\n   <g id=\"line2d_12\">\n    <path clip-path=\"url(#pd4efa69e97)\" d=\"M 703.236841 43.5608 \nL 703.236841 169.573697 \n\" style=\"fill:none;stroke:#778899;stroke-linecap:square;stroke-width:2;\"/>\n   </g>\n   <g id=\"line2d_13\">\n    <path clip-path=\"url(#pd4efa69e97)\" d=\"M 700.282526 43.5608 \nL 700.282526 169.573697 \n\" style=\"fill:none;stroke:#778899;stroke-linecap:square;stroke-width:2;\"/>\n   </g>\n   <g id=\"line2d_14\">\n    <path clip-path=\"url(#pd4efa69e97)\" d=\"M 748.687841 89.0118 \nL 748.687841 169.573697 \n\" style=\"fill:none;stroke:#778899;stroke-linecap:square;stroke-width:2;\"/>\n   </g>\n   <g id=\"line2d_15\">\n    <path clip-path=\"url(#pd4efa69e97)\" d=\"M 745.733526 89.0118 \nL 745.733526 169.573697 \n\" style=\"fill:none;stroke:#778899;stroke-linecap:square;stroke-width:2;\"/>\n   </g>\n   <g id=\"line2d_16\">\n    <path clip-path=\"url(#pd4efa69e97)\" d=\"M 794.138841 134.4628 \nL 794.138841 169.573697 \n\" style=\"fill:none;stroke:#778899;stroke-linecap:square;stroke-width:2;\"/>\n   </g>\n   <g id=\"line2d_17\">\n    <path clip-path=\"url(#pd4efa69e97)\" d=\"M 791.184526 134.4628 \nL 791.184526 169.573697 \n\" style=\"fill:none;stroke:#778899;stroke-linecap:square;stroke-width:2;\"/>\n   </g>\n   <g id=\"line2d_18\">\n    <path clip-path=\"url(#pd4efa69e97)\" d=\"M 95.443344 184.4589 \nL 99.988444 175.3687 \n\" style=\"fill:none;stroke:#778899;stroke-linecap:square;stroke-width:1.5;\"/>\n   </g>\n   <g id=\"patch_8\">\n    <path clip-path=\"url(#pd4efa69e97)\" d=\"M 96.125109 58.332375 \nL 125.668259 58.332375 \nL 125.668259 28.789225 \nL 96.125109 28.789225 \nz\n\" style=\"fill:#05bab6;stroke:#05bab6;stroke-linejoin:miter;stroke-width:1.5;\"/>\n   </g>\n   <g id=\"patch_9\">\n    <path clip-path=\"url(#pd4efa69e97)\" d=\"M 96.125109 103.783375 \nL 125.668259 103.783375 \nL 125.668259 74.240225 \nL 96.125109 74.240225 \nz\n\" style=\"fill:#05bab6;stroke:#05bab6;stroke-linejoin:miter;stroke-width:1.5;\"/>\n   </g>\n   <g id=\"patch_10\">\n    <path clip-path=\"url(#pd4efa69e97)\" d=\"M 96.125109 149.234375 \nL 125.668259 149.234375 \nL 125.668259 119.691225 \nL 96.125109 119.691225 \nz\n\" style=\"fill:#6fa4ff;stroke:#6fa4ff;stroke-linejoin:miter;stroke-width:1.5;\"/>\n   </g>\n   <g id=\"patch_11\">\n    <path clip-path=\"url(#pd4efa69e97)\" d=\"M 156.347684 93.443273 \nC 157.522924 93.443273 158.650188 92.976345 159.481208 92.145324 \nC 160.312228 91.314304 160.779156 90.18704 160.779156 89.0118 \nC 160.779156 87.83656 160.312228 86.709296 159.481208 85.878276 \nC 158.650188 85.047255 157.522924 84.580328 156.347684 84.580328 \nC 155.172444 84.580328 154.04518 85.047255 153.214159 85.878276 \nC 152.383139 86.709296 151.916211 87.83656 151.916211 89.0118 \nC 151.916211 90.18704 152.383139 91.314304 153.214159 92.145324 \nC 154.04518 92.976345 155.172444 93.443273 156.347684 93.443273 \nz\n\" style=\"fill:#6fa4ff;stroke:#6fa4ff;stroke-linejoin:miter;stroke-width:1.5;\"/>\n   </g>\n   <g id=\"patch_12\">\n    <path clip-path=\"url(#pd4efa69e97)\" d=\"M 156.347684 144.802903 \nC 159.089911 144.802903 161.720193 143.713404 163.65924 141.774357 \nC 165.598288 139.835309 166.687786 137.205027 166.687786 134.4628 \nC 166.687786 131.720573 165.598288 129.090291 163.65924 127.151243 \nC 161.720193 125.212196 159.089911 124.122698 156.347684 124.122698 \nC 153.605457 124.122698 150.975175 125.212196 149.036127 127.151243 \nC 147.09708 129.090291 146.007581 131.720573 146.007581 134.4628 \nC 146.007581 137.205027 147.09708 139.835309 149.036127 141.774357 \nC 150.975175 143.713404 153.605457 144.802903 156.347684 144.802903 \nz\n\" style=\"fill:#6fa4ff;stroke:#6fa4ff;stroke-linejoin:miter;stroke-width:2;\"/>\n   </g>\n   <g id=\"patch_13\">\n    <path clip-path=\"url(#pd4efa69e97)\" d=\"M 187.027109 149.234375 \nL 216.570259 149.234375 \nL 216.570259 119.691225 \nL 187.027109 119.691225 \nz\n\" style=\"fill:#bb8bff;stroke:#bb8bff;stroke-linejoin:miter;stroke-width:1.5;\"/>\n   </g>\n   <g id=\"patch_14\">\n    <path clip-path=\"url(#pd4efa69e97)\" d=\"M 247.249684 47.992273 \nC 248.424924 47.992273 249.552188 47.525345 250.383208 46.694324 \nC 251.214228 45.863304 251.681156 44.73604 251.681156 43.5608 \nC 251.681156 42.38556 251.214228 41.258296 250.383208 40.427276 \nC 249.552188 39.596255 248.424924 39.129328 247.249684 39.129328 \nC 246.074444 39.129328 244.94718 39.596255 244.116159 40.427276 \nC 243.285139 41.258296 242.818211 42.38556 242.818211 43.5608 \nC 242.818211 44.73604 243.285139 45.863304 244.116159 46.694324 \nC 244.94718 47.525345 246.074444 47.992273 247.249684 47.992273 \nz\n\" style=\"fill:#6fa4ff;stroke:#6fa4ff;stroke-linejoin:miter;stroke-width:1.5;\"/>\n   </g>\n   <g id=\"patch_15\">\n    <path clip-path=\"url(#pd4efa69e97)\" d=\"M 247.249684 144.802903 \nC 249.991911 144.802903 252.622193 143.713404 254.56124 141.774357 \nC 256.500288 139.835309 257.589786 137.205027 257.589786 134.4628 \nC 257.589786 131.720573 256.500288 129.090291 254.56124 127.151243 \nC 252.622193 125.212196 249.991911 124.122698 247.249684 124.122698 \nC 244.507457 124.122698 241.877175 125.212196 239.938127 127.151243 \nC 237.99908 129.090291 236.909581 131.720573 236.909581 134.4628 \nC 236.909581 137.205027 237.99908 139.835309 239.938127 141.774357 \nC 241.877175 143.713404 244.507457 144.802903 247.249684 144.802903 \nz\n\" style=\"fill:#6fa4ff;stroke:#6fa4ff;stroke-linejoin:miter;stroke-width:2;\"/>\n   </g>\n   <g id=\"patch_16\">\n    <path clip-path=\"url(#pd4efa69e97)\" d=\"M 277.929109 149.234375 \nL 307.472259 149.234375 \nL 307.472259 119.691225 \nL 277.929109 119.691225 \nz\n\" style=\"fill:#bb8bff;stroke:#bb8bff;stroke-linejoin:miter;stroke-width:1.5;\"/>\n   </g>\n   <g id=\"patch_17\">\n    <path clip-path=\"url(#pd4efa69e97)\" d=\"M 338.151684 93.443273 \nC 339.326924 93.443273 340.454188 92.976345 341.285208 92.145324 \nC 342.116228 91.314304 342.583156 90.18704 342.583156 89.0118 \nC 342.583156 87.83656 342.116228 86.709296 341.285208 85.878276 \nC 340.454188 85.047255 339.326924 84.580328 338.151684 84.580328 \nC 336.976444 84.580328 335.84918 85.047255 335.018159 85.878276 \nC 334.187139 86.709296 333.720211 87.83656 333.720211 89.0118 \nC 333.720211 90.18704 334.187139 91.314304 335.018159 92.145324 \nC 335.84918 92.976345 336.976444 93.443273 338.151684 93.443273 \nz\n\" style=\"fill:#6fa4ff;stroke:#6fa4ff;stroke-linejoin:miter;stroke-width:1.5;\"/>\n   </g>\n   <g id=\"patch_18\">\n    <path clip-path=\"url(#pd4efa69e97)\" d=\"M 338.151684 144.802903 \nC 340.893911 144.802903 343.524193 143.713404 345.46324 141.774357 \nC 347.402288 139.835309 348.491786 137.205027 348.491786 134.4628 \nC 348.491786 131.720573 347.402288 129.090291 345.46324 127.151243 \nC 343.524193 125.212196 340.893911 124.122698 338.151684 124.122698 \nC 335.409457 124.122698 332.779175 125.212196 330.840127 127.151243 \nC 328.90108 129.090291 327.811581 131.720573 327.811581 134.4628 \nC 327.811581 137.205027 328.90108 139.835309 330.840127 141.774357 \nC 332.779175 143.713404 335.409457 144.802903 338.151684 144.802903 \nz\n\" style=\"fill:#6fa4ff;stroke:#6fa4ff;stroke-linejoin:miter;stroke-width:2;\"/>\n   </g>\n   <g id=\"patch_19\">\n    <path clip-path=\"url(#pd4efa69e97)\" d=\"M 368.831109 149.234375 \nL 398.374259 149.234375 \nL 398.374259 119.691225 \nL 368.831109 119.691225 \nz\n\" style=\"fill:#bb8bff;stroke:#bb8bff;stroke-linejoin:miter;stroke-width:1.5;\"/>\n   </g>\n   <g id=\"patch_20\">\n    <path clip-path=\"url(#pd4efa69e97)\" d=\"M 368.831109 103.783375 \nL 398.374259 103.783375 \nL 398.374259 74.240225 \nL 368.831109 74.240225 \nz\n\" style=\"fill:#bb8bff;stroke:#bb8bff;stroke-linejoin:miter;stroke-width:1.5;\"/>\n   </g>\n   <g id=\"patch_21\">\n    <path clip-path=\"url(#pd4efa69e97)\" d=\"M 429.053684 47.992273 \nC 430.228924 47.992273 431.356188 47.525345 432.187208 46.694324 \nC 433.018228 45.863304 433.485156 44.73604 433.485156 43.5608 \nC 433.485156 42.38556 433.018228 41.258296 432.187208 40.427276 \nC 431.356188 39.596255 430.228924 39.129328 429.053684 39.129328 \nC 427.878444 39.129328 426.75118 39.596255 425.920159 40.427276 \nC 425.089139 41.258296 424.622211 42.38556 424.622211 43.5608 \nC 424.622211 44.73604 425.089139 45.863304 425.920159 46.694324 \nC 426.75118 47.525345 427.878444 47.992273 429.053684 47.992273 \nz\n\" style=\"fill:#6fa4ff;stroke:#6fa4ff;stroke-linejoin:miter;stroke-width:1.5;\"/>\n   </g>\n   <g id=\"patch_22\">\n    <path clip-path=\"url(#pd4efa69e97)\" d=\"M 429.053684 144.802903 \nC 431.795911 144.802903 434.426193 143.713404 436.36524 141.774357 \nC 438.304288 139.835309 439.393786 137.205027 439.393786 134.4628 \nC 439.393786 131.720573 438.304288 129.090291 436.36524 127.151243 \nC 434.426193 125.212196 431.795911 124.122698 429.053684 124.122698 \nC 426.311457 124.122698 423.681175 125.212196 421.742127 127.151243 \nC 419.80308 129.090291 418.713581 131.720573 418.713581 134.4628 \nC 418.713581 137.205027 419.80308 139.835309 421.742127 141.774357 \nC 423.681175 143.713404 426.311457 144.802903 429.053684 144.802903 \nz\n\" style=\"fill:#6fa4ff;stroke:#6fa4ff;stroke-linejoin:miter;stroke-width:2;\"/>\n   </g>\n   <g id=\"patch_23\">\n    <path clip-path=\"url(#pd4efa69e97)\" d=\"M 459.733109 149.234375 \nL 489.276259 149.234375 \nL 489.276259 119.691225 \nL 459.733109 119.691225 \nz\n\" style=\"fill:#bb8bff;stroke:#bb8bff;stroke-linejoin:miter;stroke-width:1.5;\"/>\n   </g>\n   <g id=\"patch_24\">\n    <path clip-path=\"url(#pd4efa69e97)\" d=\"M 474.504684 47.992273 \nC 475.679924 47.992273 476.807188 47.525345 477.638208 46.694324 \nC 478.469228 45.863304 478.936156 44.73604 478.936156 43.5608 \nC 478.936156 42.38556 478.469228 41.258296 477.638208 40.427276 \nC 476.807188 39.596255 475.679924 39.129328 474.504684 39.129328 \nC 473.329444 39.129328 472.20218 39.596255 471.371159 40.427276 \nC 470.540139 41.258296 470.073211 42.38556 470.073211 43.5608 \nC 470.073211 44.73604 470.540139 45.863304 471.371159 46.694324 \nC 472.20218 47.525345 473.329444 47.992273 474.504684 47.992273 \nz\n\" style=\"fill:#6fa4ff;stroke:#6fa4ff;stroke-linejoin:miter;stroke-width:1.5;\"/>\n   </g>\n   <g id=\"patch_25\">\n    <path clip-path=\"url(#pd4efa69e97)\" d=\"M 474.504684 99.351903 \nC 477.246911 99.351903 479.877193 98.262404 481.81624 96.323357 \nC 483.755288 94.384309 484.844786 91.754027 484.844786 89.0118 \nC 484.844786 86.269573 483.755288 83.639291 481.81624 81.700243 \nC 479.877193 79.761196 477.246911 78.671698 474.504684 78.671698 \nC 471.762457 78.671698 469.132175 79.761196 467.193127 81.700243 \nC 465.25408 83.639291 464.164581 86.269573 464.164581 89.0118 \nC 464.164581 91.754027 465.25408 94.384309 467.193127 96.323357 \nC 469.132175 98.262404 471.762457 99.351903 474.504684 99.351903 \nz\n\" style=\"fill:#6fa4ff;stroke:#6fa4ff;stroke-linejoin:miter;stroke-width:2;\"/>\n   </g>\n   <g id=\"patch_26\">\n    <path clip-path=\"url(#pd4efa69e97)\" d=\"M 505.184109 149.234375 \nL 534.727259 149.234375 \nL 534.727259 119.691225 \nL 505.184109 119.691225 \nz\n\" style=\"fill:#6fa4ff;stroke:#6fa4ff;stroke-linejoin:miter;stroke-width:1.5;\"/>\n   </g>\n   <g id=\"patch_27\">\n    <path clip-path=\"url(#pd4efa69e97)\" d=\"M 505.184109 103.783375 \nL 534.727259 103.783375 \nL 534.727259 74.240225 \nL 505.184109 74.240225 \nz\n\" style=\"fill:#bb8bff;stroke:#bb8bff;stroke-linejoin:miter;stroke-width:1.5;\"/>\n   </g>\n   <g id=\"patch_28\">\n    <path clip-path=\"url(#pd4efa69e97)\" d=\"M 565.406684 47.992273 \nC 566.581924 47.992273 567.709188 47.525345 568.540208 46.694324 \nC 569.371228 45.863304 569.838156 44.73604 569.838156 43.5608 \nC 569.838156 42.38556 569.371228 41.258296 568.540208 40.427276 \nC 567.709188 39.596255 566.581924 39.129328 565.406684 39.129328 \nC 564.231444 39.129328 563.10418 39.596255 562.273159 40.427276 \nC 561.442139 41.258296 560.975211 42.38556 560.975211 43.5608 \nC 560.975211 44.73604 561.442139 45.863304 562.273159 46.694324 \nC 563.10418 47.525345 564.231444 47.992273 565.406684 47.992273 \nz\n\" style=\"fill:#6fa4ff;stroke:#6fa4ff;stroke-linejoin:miter;stroke-width:1.5;\"/>\n   </g>\n   <g id=\"patch_29\">\n    <path clip-path=\"url(#pd4efa69e97)\" d=\"M 565.406684 99.351903 \nC 568.148911 99.351903 570.779193 98.262404 572.71824 96.323357 \nC 574.657288 94.384309 575.746786 91.754027 575.746786 89.0118 \nC 575.746786 86.269573 574.657288 83.639291 572.71824 81.700243 \nC 570.779193 79.761196 568.148911 78.671698 565.406684 78.671698 \nC 562.664457 78.671698 560.034175 79.761196 558.095127 81.700243 \nC 556.15608 83.639291 555.066581 86.269573 555.066581 89.0118 \nC 555.066581 91.754027 556.15608 94.384309 558.095127 96.323357 \nC 560.034175 98.262404 562.664457 99.351903 565.406684 99.351903 \nz\n\" style=\"fill:#6fa4ff;stroke:#6fa4ff;stroke-linejoin:miter;stroke-width:2;\"/>\n   </g>\n   <g id=\"patch_30\">\n    <path clip-path=\"url(#pd4efa69e97)\" d=\"M 596.086109 58.332375 \nL 625.629259 58.332375 \nL 625.629259 28.789225 \nL 596.086109 28.789225 \nz\n\" style=\"fill:#bb8bff;stroke:#bb8bff;stroke-linejoin:miter;stroke-width:1.5;\"/>\n   </g>\n   <g id=\"patch_31\">\n    <path clip-path=\"url(#pd4efa69e97)\" d=\"M 596.086109 103.783375 \nL 625.629259 103.783375 \nL 625.629259 74.240225 \nL 596.086109 74.240225 \nz\n\" style=\"fill:#bb8bff;stroke:#bb8bff;stroke-linejoin:miter;stroke-width:1.5;\"/>\n   </g>\n   <g id=\"patch_32\">\n    <path clip-path=\"url(#pd4efa69e97)\" d=\"M 686.988109 58.332375 \nL 716.531259 58.332375 \nL 716.531259 28.789225 \nL 686.988109 28.789225 \nz\n\" style=\"stroke:#000000;stroke-linejoin:miter;stroke-width:1.5;\"/>\n   </g>\n   <g id=\"patch_33\">\n    <path clip-path=\"url(#pd4efa69e97)\" d=\"M 712.099786 47.992273 \nC 712.099786 45.250959 711.009642 42.619118 709.07124 40.680716 \nC 707.132839 38.742314 704.500998 37.65217 701.759684 37.65217 \nC 699.01837 37.65217 696.386529 38.742314 694.448127 40.680716 \nC 692.509725 42.619118 691.419581 45.250959 691.419581 47.992273 \n\" style=\"fill:none;stroke:#ffffff;stroke-linejoin:miter;stroke-width:2;\"/>\n   </g>\n   <g id=\"patch_34\">\n    <path clip-path=\"url(#pd4efa69e97)\" d=\"M 732.439109 103.783375 \nL 761.982259 103.783375 \nL 761.982259 74.240225 \nL 732.439109 74.240225 \nz\n\" style=\"stroke:#000000;stroke-linejoin:miter;stroke-width:1.5;\"/>\n   </g>\n   <g id=\"patch_35\">\n    <path clip-path=\"url(#pd4efa69e97)\" d=\"M 757.550786 93.443273 \nC 757.550786 90.701959 756.460642 88.070118 754.52224 86.131716 \nC 752.583839 84.193314 749.951998 83.10317 747.210684 83.10317 \nC 744.46937 83.10317 741.837529 84.193314 739.899127 86.131716 \nC 737.960725 88.070118 736.870581 90.701959 736.870581 93.443273 \n\" style=\"fill:none;stroke:#ffffff;stroke-linejoin:miter;stroke-width:2;\"/>\n   </g>\n   <g id=\"patch_36\">\n    <path clip-path=\"url(#pd4efa69e97)\" d=\"M 777.890109 149.234375 \nL 807.433259 149.234375 \nL 807.433259 119.691225 \nL 777.890109 119.691225 \nz\n\" style=\"stroke:#000000;stroke-linejoin:miter;stroke-width:1.5;\"/>\n   </g>\n   <g id=\"patch_37\">\n    <path clip-path=\"url(#pd4efa69e97)\" d=\"M 803.001786 138.894272 \nC 803.001786 136.152959 801.911642 133.521118 799.97324 131.582716 \nC 798.034839 129.644314 795.402998 128.55417 792.661684 128.55417 \nC 789.92037 128.55417 787.288529 129.644314 785.350127 131.582716 \nC 783.411725 133.521118 782.321581 136.152959 782.321581 138.894272 \n\" style=\"fill:none;stroke:#ffffff;stroke-linejoin:miter;stroke-width:2;\"/>\n   </g>\n   <g id=\"line2d_19\">\n    <path clip-path=\"url(#pd4efa69e97)\" d=\"M 701.759684 47.992273 \nL 712.099786 37.65217 \n\" style=\"fill:none;stroke:#ffffff;stroke-linecap:square;stroke-width:2;\"/>\n   </g>\n   <g id=\"line2d_20\">\n    <path clip-path=\"url(#pd4efa69e97)\" d=\"M 747.210684 93.443273 \nL 757.550786 83.10317 \n\" style=\"fill:none;stroke:#ffffff;stroke-linecap:square;stroke-width:2;\"/>\n   </g>\n   <g id=\"line2d_21\">\n    <path clip-path=\"url(#pd4efa69e97)\" d=\"M 792.661684 138.894272 \nL 803.001786 128.55417 \n\" style=\"fill:none;stroke:#ffffff;stroke-linecap:square;stroke-width:2;\"/>\n   </g>\n   <g id=\"line2d_22\">\n    <path clip-path=\"url(#pd4efa69e97)\" d=\"M 156.347684 140.37143 \nL 156.347684 128.55417 \n\" style=\"fill:none;stroke:#ffffff;stroke-linecap:square;stroke-width:2;\"/>\n   </g>\n   <g id=\"line2d_23\">\n    <path clip-path=\"url(#pd4efa69e97)\" d=\"M 150.439054 134.4628 \nL 162.256314 134.4628 \n\" style=\"fill:none;stroke:#ffffff;stroke-linecap:square;stroke-width:2;\"/>\n   </g>\n   <g id=\"line2d_24\">\n    <path clip-path=\"url(#pd4efa69e97)\" d=\"M 247.249684 140.37143 \nL 247.249684 128.55417 \n\" style=\"fill:none;stroke:#ffffff;stroke-linecap:square;stroke-width:2;\"/>\n   </g>\n   <g id=\"line2d_25\">\n    <path clip-path=\"url(#pd4efa69e97)\" d=\"M 241.341054 134.4628 \nL 253.158314 134.4628 \n\" style=\"fill:none;stroke:#ffffff;stroke-linecap:square;stroke-width:2;\"/>\n   </g>\n   <g id=\"line2d_26\">\n    <path clip-path=\"url(#pd4efa69e97)\" d=\"M 338.151684 140.37143 \nL 338.151684 128.55417 \n\" style=\"fill:none;stroke:#ffffff;stroke-linecap:square;stroke-width:2;\"/>\n   </g>\n   <g id=\"line2d_27\">\n    <path clip-path=\"url(#pd4efa69e97)\" d=\"M 332.243054 134.4628 \nL 344.060314 134.4628 \n\" style=\"fill:none;stroke:#ffffff;stroke-linecap:square;stroke-width:2;\"/>\n   </g>\n   <g id=\"line2d_28\">\n    <path clip-path=\"url(#pd4efa69e97)\" d=\"M 429.053684 140.37143 \nL 429.053684 128.55417 \n\" style=\"fill:none;stroke:#ffffff;stroke-linecap:square;stroke-width:2;\"/>\n   </g>\n   <g id=\"line2d_29\">\n    <path clip-path=\"url(#pd4efa69e97)\" d=\"M 423.145054 134.4628 \nL 434.962314 134.4628 \n\" style=\"fill:none;stroke:#ffffff;stroke-linecap:square;stroke-width:2;\"/>\n   </g>\n   <g id=\"line2d_30\">\n    <path clip-path=\"url(#pd4efa69e97)\" d=\"M 474.504684 94.92043 \nL 474.504684 83.10317 \n\" style=\"fill:none;stroke:#ffffff;stroke-linecap:square;stroke-width:2;\"/>\n   </g>\n   <g id=\"line2d_31\">\n    <path clip-path=\"url(#pd4efa69e97)\" d=\"M 468.596054 89.0118 \nL 480.413314 89.0118 \n\" style=\"fill:none;stroke:#ffffff;stroke-linecap:square;stroke-width:2;\"/>\n   </g>\n   <g id=\"line2d_32\">\n    <path clip-path=\"url(#pd4efa69e97)\" d=\"M 565.406684 94.92043 \nL 565.406684 83.10317 \n\" style=\"fill:none;stroke:#ffffff;stroke-linecap:square;stroke-width:2;\"/>\n   </g>\n   <g id=\"line2d_33\">\n    <path clip-path=\"url(#pd4efa69e97)\" d=\"M 559.498054 89.0118 \nL 571.315314 89.0118 \n\" style=\"fill:none;stroke:#ffffff;stroke-linecap:square;stroke-width:2;\"/>\n   </g>\n   <g id=\"line2d_34\">\n    <path clip-path=\"url(#pd4efa69e97)\" d=\"M 656.308684 20.8353 \nL 656.308684 66.2863 \n\" style=\"fill:none;stroke:#000000;stroke-dasharray:3.7,1.6;stroke-dashoffset:0;\"/>\n   </g>\n   <g id=\"line2d_35\">\n    <path clip-path=\"url(#pd4efa69e97)\" d=\"M 656.308684 66.2863 \nL 656.308684 111.7373 \n\" style=\"fill:none;stroke:#000000;stroke-dasharray:3.7,1.6;stroke-dashoffset:0;\"/>\n   </g>\n   <g id=\"line2d_36\">\n    <path clip-path=\"url(#pd4efa69e97)\" d=\"M 656.308684 111.7373 \nL 656.308684 157.1883 \n\" style=\"fill:none;stroke:#000000;stroke-dasharray:3.7,1.6;stroke-dashoffset:0;\"/>\n   </g>\n   <g id=\"text_1\">\n    <g clip-path=\"url(#pd4efa69e97)\">\n     <!-- X -->\n     <g transform=\"translate(106.444184 47.147988)scale(0.13 -0.13)\">\n      <defs>\n       <path d=\"M 6.296875 72.90625 \nL 16.890625 72.90625 \nL 35.015625 45.796875 \nL 53.21875 72.90625 \nL 63.8125 72.90625 \nL 40.375 37.890625 \nL 65.375 0 \nL 54.78125 0 \nL 34.28125 31 \nL 13.625 0 \nL 2.984375 0 \nL 29 38.921875 \nz\n\" id=\"DejaVuSans-88\"/>\n      </defs>\n      <use xlink:href=\"#DejaVuSans-88\"/>\n     </g>\n    </g>\n   </g>\n   <g id=\"text_2\">\n    <g clip-path=\"url(#pd4efa69e97)\">\n     <!-- X -->\n     <g transform=\"translate(106.444184 92.598988)scale(0.13 -0.13)\">\n      <use xlink:href=\"#DejaVuSans-88\"/>\n     </g>\n    </g>\n   </g>\n   <g id=\"text_3\">\n    <g clip-path=\"url(#pd4efa69e97)\">\n     <!-- H -->\n     <g transform=\"translate(106.008481 138.049987)scale(0.13 -0.13)\">\n      <defs>\n       <path d=\"M 9.8125 72.90625 \nL 19.671875 72.90625 \nL 19.671875 43.015625 \nL 55.515625 43.015625 \nL 55.515625 72.90625 \nL 65.375 72.90625 \nL 65.375 0 \nL 55.515625 0 \nL 55.515625 34.71875 \nL 19.671875 34.71875 \nL 19.671875 0 \nL 9.8125 0 \nz\n\" id=\"DejaVuSans-72\"/>\n      </defs>\n      <use xlink:href=\"#DejaVuSans-72\"/>\n     </g>\n    </g>\n   </g>\n   <g id=\"text_4\">\n    <g clip-path=\"url(#pd4efa69e97)\">\n     <!-- $\\mathrm{R}_\\mathrm{Z}$ -->\n     <g transform=\"translate(193.868684 133.618515)scale(0.13 -0.13)\">\n      <defs>\n       <path d=\"M 44.390625 34.1875 \nQ 47.5625 33.109375 50.5625 29.59375 \nQ 53.5625 26.078125 56.59375 19.921875 \nL 66.609375 0 \nL 56 0 \nL 46.6875 18.703125 \nQ 43.0625 26.03125 39.671875 28.421875 \nQ 36.28125 30.8125 30.421875 30.8125 \nL 19.671875 30.8125 \nL 19.671875 0 \nL 9.8125 0 \nL 9.8125 72.90625 \nL 32.078125 72.90625 \nQ 44.578125 72.90625 50.734375 67.671875 \nQ 56.890625 62.453125 56.890625 51.90625 \nQ 56.890625 45.015625 53.6875 40.46875 \nQ 50.484375 35.9375 44.390625 34.1875 \nz\nM 19.671875 64.796875 \nL 19.671875 38.921875 \nL 32.078125 38.921875 \nQ 39.203125 38.921875 42.84375 42.21875 \nQ 46.484375 45.515625 46.484375 51.90625 \nQ 46.484375 58.296875 42.84375 61.546875 \nQ 39.203125 64.796875 32.078125 64.796875 \nz\n\" id=\"DejaVuSans-82\"/>\n       <path d=\"M 5.609375 72.90625 \nL 62.890625 72.90625 \nL 62.890625 65.375 \nL 16.796875 8.296875 \nL 64.015625 8.296875 \nL 64.015625 0 \nL 4.5 0 \nL 4.5 7.515625 \nL 50.59375 64.59375 \nL 5.609375 64.59375 \nz\n\" id=\"DejaVuSans-90\"/>\n      </defs>\n      <use transform=\"translate(0 0.09375)\" xlink:href=\"#DejaVuSans-82\"/>\n      <use transform=\"translate(70.439453 -16.3125)scale(0.7)\" xlink:href=\"#DejaVuSans-90\"/>\n     </g>\n    </g>\n   </g>\n   <g id=\"text_5\">\n    <g clip-path=\"url(#pd4efa69e97)\">\n     <!-- $-$$\\pi$/4 -->\n     <g transform=\"translate(192.118684 145.533245)scale(0.08 -0.08)\">\n      <defs>\n       <path d=\"M 10.59375 35.5 \nL 73.1875 35.5 \nL 73.1875 27.203125 \nL 10.59375 27.203125 \nz\n\" id=\"DejaVuSans-8722\"/>\n       <path d=\"M 9.125 54.6875 \nL 61.53125 54.6875 \nL 59.765625 45.703125 \nL 52.875 45.703125 \nL 46.34375 12.109375 \nQ 45.65625 8.59375 46.578125 7.03125 \nQ 47.46875 5.515625 50.140625 5.515625 \nQ 50.875 5.515625 51.953125 5.671875 \nQ 53.078125 5.765625 53.421875 5.8125 \nL 52.15625 -0.6875 \nQ 50.34375 -1.3125 48.484375 -1.609375 \nQ 46.578125 -1.90625 44.78125 -1.90625 \nQ 38.921875 -1.90625 37.3125 1.265625 \nQ 35.6875 4.5 37.359375 13.09375 \nL 43.703125 45.703125 \nL 23.53125 45.703125 \nL 14.65625 0 \nL 5.46875 0 \nL 14.359375 45.703125 \nL 7.375 45.703125 \nz\n\" id=\"DejaVuSans-Oblique-960\"/>\n       <path d=\"M 25.390625 72.90625 \nL 33.6875 72.90625 \nL 8.296875 -9.28125 \nL 0 -9.28125 \nz\n\" id=\"DejaVuSans-47\"/>\n       <path d=\"M 37.796875 64.3125 \nL 12.890625 25.390625 \nL 37.796875 25.390625 \nz\nM 35.203125 72.90625 \nL 47.609375 72.90625 \nL 47.609375 25.390625 \nL 58.015625 25.390625 \nL 58.015625 17.1875 \nL 47.609375 17.1875 \nL 47.609375 0 \nL 37.796875 0 \nL 37.796875 17.1875 \nL 4.890625 17.1875 \nL 4.890625 26.703125 \nz\n\" id=\"DejaVuSans-52\"/>\n      </defs>\n      <use transform=\"translate(0 0.09375)\" xlink:href=\"#DejaVuSans-8722\"/>\n      <use transform=\"translate(83.789062 0.09375)\" xlink:href=\"#DejaVuSans-Oblique-960\"/>\n      <use transform=\"translate(143.994141 0.09375)\" xlink:href=\"#DejaVuSans-47\"/>\n      <use transform=\"translate(177.685547 0.09375)\" xlink:href=\"#DejaVuSans-52\"/>\n     </g>\n    </g>\n   </g>\n   <g id=\"text_6\">\n    <g clip-path=\"url(#pd4efa69e97)\">\n     <!-- $\\mathrm{R}_\\mathrm{Z}$ -->\n     <g transform=\"translate(284.770684 133.618515)scale(0.13 -0.13)\">\n      <use transform=\"translate(0 0.09375)\" xlink:href=\"#DejaVuSans-82\"/>\n      <use transform=\"translate(70.439453 -16.3125)scale(0.7)\" xlink:href=\"#DejaVuSans-90\"/>\n     </g>\n    </g>\n   </g>\n   <g id=\"text_7\">\n    <g clip-path=\"url(#pd4efa69e97)\">\n     <!-- $\\pi$/4 -->\n     <g transform=\"translate(286.380684 145.533245)scale(0.08 -0.08)\">\n      <use transform=\"translate(0 0.09375)\" xlink:href=\"#DejaVuSans-Oblique-960\"/>\n      <use transform=\"translate(60.205078 0.09375)\" xlink:href=\"#DejaVuSans-47\"/>\n      <use transform=\"translate(93.896484 0.09375)\" xlink:href=\"#DejaVuSans-52\"/>\n     </g>\n    </g>\n   </g>\n   <g id=\"text_8\">\n    <g clip-path=\"url(#pd4efa69e97)\">\n     <!-- $\\mathrm{R}_\\mathrm{Z}$ -->\n     <g transform=\"translate(375.672684 133.618515)scale(0.13 -0.13)\">\n      <use transform=\"translate(0 0.09375)\" xlink:href=\"#DejaVuSans-82\"/>\n      <use transform=\"translate(70.439453 -16.3125)scale(0.7)\" xlink:href=\"#DejaVuSans-90\"/>\n     </g>\n    </g>\n   </g>\n   <g id=\"text_9\">\n    <g clip-path=\"url(#pd4efa69e97)\">\n     <!-- $-$$\\pi$/4 -->\n     <g transform=\"translate(373.922684 145.533245)scale(0.08 -0.08)\">\n      <use transform=\"translate(0 0.09375)\" xlink:href=\"#DejaVuSans-8722\"/>\n      <use transform=\"translate(83.789062 0.09375)\" xlink:href=\"#DejaVuSans-Oblique-960\"/>\n      <use transform=\"translate(143.994141 0.09375)\" xlink:href=\"#DejaVuSans-47\"/>\n      <use transform=\"translate(177.685547 0.09375)\" xlink:href=\"#DejaVuSans-52\"/>\n     </g>\n    </g>\n   </g>\n   <g id=\"text_10\">\n    <g clip-path=\"url(#pd4efa69e97)\">\n     <!-- $\\mathrm{R}_\\mathrm{Z}$ -->\n     <g transform=\"translate(375.672684 88.167515)scale(0.13 -0.13)\">\n      <use transform=\"translate(0 0.09375)\" xlink:href=\"#DejaVuSans-82\"/>\n      <use transform=\"translate(70.439453 -16.3125)scale(0.7)\" xlink:href=\"#DejaVuSans-90\"/>\n     </g>\n    </g>\n   </g>\n   <g id=\"text_11\">\n    <g clip-path=\"url(#pd4efa69e97)\">\n     <!-- $-$$\\pi$/4 -->\n     <g transform=\"translate(373.922684 100.082245)scale(0.08 -0.08)\">\n      <use transform=\"translate(0 0.09375)\" xlink:href=\"#DejaVuSans-8722\"/>\n      <use transform=\"translate(83.789062 0.09375)\" xlink:href=\"#DejaVuSans-Oblique-960\"/>\n      <use transform=\"translate(143.994141 0.09375)\" xlink:href=\"#DejaVuSans-47\"/>\n      <use transform=\"translate(177.685547 0.09375)\" xlink:href=\"#DejaVuSans-52\"/>\n     </g>\n    </g>\n   </g>\n   <g id=\"text_12\">\n    <g clip-path=\"url(#pd4efa69e97)\">\n     <!-- $\\mathrm{R}_\\mathrm{Z}$ -->\n     <g transform=\"translate(466.574684 133.618515)scale(0.13 -0.13)\">\n      <use transform=\"translate(0 0.09375)\" xlink:href=\"#DejaVuSans-82\"/>\n      <use transform=\"translate(70.439453 -16.3125)scale(0.7)\" xlink:href=\"#DejaVuSans-90\"/>\n     </g>\n    </g>\n   </g>\n   <g id=\"text_13\">\n    <g clip-path=\"url(#pd4efa69e97)\">\n     <!-- $\\pi$/4 -->\n     <g transform=\"translate(468.184684 145.533245)scale(0.08 -0.08)\">\n      <use transform=\"translate(0 0.09375)\" xlink:href=\"#DejaVuSans-Oblique-960\"/>\n      <use transform=\"translate(60.205078 0.09375)\" xlink:href=\"#DejaVuSans-47\"/>\n      <use transform=\"translate(93.896484 0.09375)\" xlink:href=\"#DejaVuSans-52\"/>\n     </g>\n    </g>\n   </g>\n   <g id=\"text_14\">\n    <g clip-path=\"url(#pd4efa69e97)\">\n     <!-- H -->\n     <g transform=\"translate(515.067481 138.049987)scale(0.13 -0.13)\">\n      <use xlink:href=\"#DejaVuSans-72\"/>\n     </g>\n    </g>\n   </g>\n   <g id=\"text_15\">\n    <g clip-path=\"url(#pd4efa69e97)\">\n     <!-- $\\mathrm{R}_\\mathrm{Z}$ -->\n     <g transform=\"translate(512.025684 88.167515)scale(0.13 -0.13)\">\n      <use transform=\"translate(0 0.09375)\" xlink:href=\"#DejaVuSans-82\"/>\n      <use transform=\"translate(70.439453 -16.3125)scale(0.7)\" xlink:href=\"#DejaVuSans-90\"/>\n     </g>\n    </g>\n   </g>\n   <g id=\"text_16\">\n    <g clip-path=\"url(#pd4efa69e97)\">\n     <!-- $-$$\\pi$/4 -->\n     <g transform=\"translate(510.275684 100.082245)scale(0.08 -0.08)\">\n      <use transform=\"translate(0 0.09375)\" xlink:href=\"#DejaVuSans-8722\"/>\n      <use transform=\"translate(83.789062 0.09375)\" xlink:href=\"#DejaVuSans-Oblique-960\"/>\n      <use transform=\"translate(143.994141 0.09375)\" xlink:href=\"#DejaVuSans-47\"/>\n      <use transform=\"translate(177.685547 0.09375)\" xlink:href=\"#DejaVuSans-52\"/>\n     </g>\n    </g>\n   </g>\n   <g id=\"text_17\">\n    <g clip-path=\"url(#pd4efa69e97)\">\n     <!-- $\\mathrm{R}_\\mathrm{Z}$ -->\n     <g transform=\"translate(602.927684 42.716515)scale(0.13 -0.13)\">\n      <use transform=\"translate(0 0.09375)\" xlink:href=\"#DejaVuSans-82\"/>\n      <use transform=\"translate(70.439453 -16.3125)scale(0.7)\" xlink:href=\"#DejaVuSans-90\"/>\n     </g>\n    </g>\n   </g>\n   <g id=\"text_18\">\n    <g clip-path=\"url(#pd4efa69e97)\">\n     <!-- $\\pi$/4 -->\n     <g transform=\"translate(604.537684 54.631245)scale(0.08 -0.08)\">\n      <use transform=\"translate(0 0.09375)\" xlink:href=\"#DejaVuSans-Oblique-960\"/>\n      <use transform=\"translate(60.205078 0.09375)\" xlink:href=\"#DejaVuSans-47\"/>\n      <use transform=\"translate(93.896484 0.09375)\" xlink:href=\"#DejaVuSans-52\"/>\n     </g>\n    </g>\n   </g>\n   <g id=\"text_19\">\n    <g clip-path=\"url(#pd4efa69e97)\">\n     <!-- $\\mathrm{R}_\\mathrm{Z}$ -->\n     <g transform=\"translate(602.927684 88.167515)scale(0.13 -0.13)\">\n      <use transform=\"translate(0 0.09375)\" xlink:href=\"#DejaVuSans-82\"/>\n      <use transform=\"translate(70.439453 -16.3125)scale(0.7)\" xlink:href=\"#DejaVuSans-90\"/>\n     </g>\n    </g>\n   </g>\n   <g id=\"text_20\">\n    <g clip-path=\"url(#pd4efa69e97)\">\n     <!-- $\\pi$/2 -->\n     <g transform=\"translate(604.697684 100.082245)scale(0.08 -0.08)\">\n      <defs>\n       <path d=\"M 19.1875 8.296875 \nL 53.609375 8.296875 \nL 53.609375 0 \nL 7.328125 0 \nL 7.328125 8.296875 \nQ 12.9375 14.109375 22.625 23.890625 \nQ 32.328125 33.6875 34.8125 36.53125 \nQ 39.546875 41.84375 41.421875 45.53125 \nQ 43.3125 49.21875 43.3125 52.78125 \nQ 43.3125 58.59375 39.234375 62.25 \nQ 35.15625 65.921875 28.609375 65.921875 \nQ 23.96875 65.921875 18.8125 64.3125 \nQ 13.671875 62.703125 7.8125 59.421875 \nL 7.8125 69.390625 \nQ 13.765625 71.78125 18.9375 73 \nQ 24.125 74.21875 28.421875 74.21875 \nQ 39.75 74.21875 46.484375 68.546875 \nQ 53.21875 62.890625 53.21875 53.421875 \nQ 53.21875 48.921875 51.53125 44.890625 \nQ 49.859375 40.875 45.40625 35.40625 \nQ 44.1875 33.984375 37.640625 27.21875 \nQ 31.109375 20.453125 19.1875 8.296875 \nz\n\" id=\"DejaVuSans-50\"/>\n      </defs>\n      <use transform=\"translate(0 0.78125)\" xlink:href=\"#DejaVuSans-Oblique-960\"/>\n      <use transform=\"translate(60.205078 0.78125)\" xlink:href=\"#DejaVuSans-47\"/>\n      <use transform=\"translate(90.271484 0.78125)\" xlink:href=\"#DejaVuSans-50\"/>\n     </g>\n    </g>\n   </g>\n   <g id=\"text_21\">\n    <g clip-path=\"url(#pd4efa69e97)\">\n     <!-- 0 -->\n     <g transform=\"translate(713.122434 173.205825)scale(0.104 -0.104)\">\n      <defs>\n       <path d=\"M 31.78125 66.40625 \nQ 24.171875 66.40625 20.328125 58.90625 \nQ 16.5 51.421875 16.5 36.375 \nQ 16.5 21.390625 20.328125 13.890625 \nQ 24.171875 6.390625 31.78125 6.390625 \nQ 39.453125 6.390625 43.28125 13.890625 \nQ 47.125 21.390625 47.125 36.375 \nQ 47.125 51.421875 43.28125 58.90625 \nQ 39.453125 66.40625 31.78125 66.40625 \nz\nM 31.78125 74.21875 \nQ 44.046875 74.21875 50.515625 64.515625 \nQ 56.984375 54.828125 56.984375 36.375 \nQ 56.984375 17.96875 50.515625 8.265625 \nQ 44.046875 -1.421875 31.78125 -1.421875 \nQ 19.53125 -1.421875 13.0625 8.265625 \nQ 6.59375 17.96875 6.59375 36.375 \nQ 6.59375 54.828125 13.0625 64.515625 \nQ 19.53125 74.21875 31.78125 74.21875 \nz\n\" id=\"DejaVuSans-48\"/>\n      </defs>\n      <use xlink:href=\"#DejaVuSans-48\"/>\n     </g>\n    </g>\n   </g>\n   <g id=\"text_22\">\n    <g clip-path=\"url(#pd4efa69e97)\">\n     <!-- 1 -->\n     <g transform=\"translate(758.573434 173.205825)scale(0.104 -0.104)\">\n      <defs>\n       <path d=\"M 12.40625 8.296875 \nL 28.515625 8.296875 \nL 28.515625 63.921875 \nL 10.984375 60.40625 \nL 10.984375 69.390625 \nL 28.421875 72.90625 \nL 38.28125 72.90625 \nL 38.28125 8.296875 \nL 54.390625 8.296875 \nL 54.390625 0 \nL 12.40625 0 \nz\n\" id=\"DejaVuSans-49\"/>\n      </defs>\n      <use xlink:href=\"#DejaVuSans-49\"/>\n     </g>\n    </g>\n   </g>\n   <g id=\"text_23\">\n    <g clip-path=\"url(#pd4efa69e97)\">\n     <!-- 2 -->\n     <g transform=\"translate(804.024434 173.205825)scale(0.104 -0.104)\">\n      <use xlink:href=\"#DejaVuSans-50\"/>\n     </g>\n    </g>\n   </g>\n   <g id=\"text_24\">\n    <g clip-path=\"url(#pd4efa69e97)\">\n     <!-- ${q}_{0}$ -->\n     <g transform=\"translate(59.225444 48.011777)scale(0.1625 -0.1625)\">\n      <defs>\n       <path d=\"M 41.703125 8.203125 \nQ 38.09375 3.46875 33.171875 1.015625 \nQ 28.265625 -1.421875 22.3125 -1.421875 \nQ 14.015625 -1.421875 9.296875 4.171875 \nQ 4.59375 9.765625 4.59375 19.578125 \nQ 4.59375 27.484375 7.5 34.859375 \nQ 10.40625 42.234375 15.828125 48.09375 \nQ 19.34375 51.90625 23.90625 53.953125 \nQ 28.46875 56 33.5 56 \nQ 39.546875 56 43.453125 53.609375 \nQ 47.359375 51.21875 49.125 46.390625 \nL 50.6875 54.59375 \nL 59.71875 54.59375 \nL 45.125 -20.609375 \nL 36.078125 -20.609375 \nz\nM 13.921875 20.90625 \nQ 13.921875 13.671875 16.9375 9.890625 \nQ 19.96875 6.109375 25.6875 6.109375 \nQ 34.1875 6.109375 40.1875 14.234375 \nQ 46.1875 22.359375 46.1875 33.984375 \nQ 46.1875 41.015625 43.078125 44.75 \nQ 39.984375 48.484375 34.1875 48.484375 \nQ 29.9375 48.484375 26.3125 46.5 \nQ 22.703125 44.53125 20.015625 40.71875 \nQ 17.1875 36.71875 15.546875 31.34375 \nQ 13.921875 25.984375 13.921875 20.90625 \nz\n\" id=\"DejaVuSans-Oblique-113\"/>\n      </defs>\n      <use xlink:href=\"#DejaVuSans-Oblique-113\"/>\n      <use transform=\"translate(63.476562 -16.40625)scale(0.7)\" xlink:href=\"#DejaVuSans-48\"/>\n     </g>\n    </g>\n   </g>\n   <g id=\"text_25\">\n    <g clip-path=\"url(#pd4efa69e97)\">\n     <!-- ${q}_{1}$ -->\n     <g transform=\"translate(59.225444 93.462777)scale(0.1625 -0.1625)\">\n      <use xlink:href=\"#DejaVuSans-Oblique-113\"/>\n      <use transform=\"translate(63.476562 -16.40625)scale(0.7)\" xlink:href=\"#DejaVuSans-49\"/>\n     </g>\n    </g>\n   </g>\n   <g id=\"text_26\">\n    <g clip-path=\"url(#pd4efa69e97)\">\n     <!-- ${q}_{2}$ -->\n     <g transform=\"translate(59.225444 138.913777)scale(0.1625 -0.1625)\">\n      <use xlink:href=\"#DejaVuSans-Oblique-113\"/>\n      <use transform=\"translate(63.476562 -16.40625)scale(0.7)\" xlink:href=\"#DejaVuSans-50\"/>\n     </g>\n    </g>\n   </g>\n   <g id=\"text_27\">\n    <g clip-path=\"url(#pd4efa69e97)\">\n     <!-- 3 -->\n     <g transform=\"translate(90.898244 173.205825)scale(0.104 -0.104)\">\n      <defs>\n       <path d=\"M 40.578125 39.3125 \nQ 47.65625 37.796875 51.625 33 \nQ 55.609375 28.21875 55.609375 21.1875 \nQ 55.609375 10.40625 48.1875 4.484375 \nQ 40.765625 -1.421875 27.09375 -1.421875 \nQ 22.515625 -1.421875 17.65625 -0.515625 \nQ 12.796875 0.390625 7.625 2.203125 \nL 7.625 11.71875 \nQ 11.71875 9.328125 16.59375 8.109375 \nQ 21.484375 6.890625 26.8125 6.890625 \nQ 36.078125 6.890625 40.9375 10.546875 \nQ 45.796875 14.203125 45.796875 21.1875 \nQ 45.796875 27.640625 41.28125 31.265625 \nQ 36.765625 34.90625 28.71875 34.90625 \nL 20.21875 34.90625 \nL 20.21875 43.015625 \nL 29.109375 43.015625 \nQ 36.375 43.015625 40.234375 45.921875 \nQ 44.09375 48.828125 44.09375 54.296875 \nQ 44.09375 59.90625 40.109375 62.90625 \nQ 36.140625 65.921875 28.71875 65.921875 \nQ 24.65625 65.921875 20.015625 65.03125 \nQ 15.375 64.15625 9.8125 62.3125 \nL 9.8125 71.09375 \nQ 15.4375 72.65625 20.34375 73.4375 \nQ 25.25 74.21875 29.59375 74.21875 \nQ 40.828125 74.21875 47.359375 69.109375 \nQ 53.90625 64.015625 53.90625 55.328125 \nQ 53.90625 49.265625 50.4375 45.09375 \nQ 46.96875 40.921875 40.578125 39.3125 \nz\n\" id=\"DejaVuSans-51\"/>\n      </defs>\n      <use xlink:href=\"#DejaVuSans-51\"/>\n     </g>\n    </g>\n   </g>\n   <g id=\"text_28\">\n    <g clip-path=\"url(#pd4efa69e97)\">\n     <!-- meas -->\n     <g transform=\"translate(33.012163 184.397784)scale(0.1625 -0.1625)\">\n      <defs>\n       <path d=\"M 52 44.1875 \nQ 55.375 50.25 60.0625 53.125 \nQ 64.75 56 71.09375 56 \nQ 79.640625 56 84.28125 50.015625 \nQ 88.921875 44.046875 88.921875 33.015625 \nL 88.921875 0 \nL 79.890625 0 \nL 79.890625 32.71875 \nQ 79.890625 40.578125 77.09375 44.375 \nQ 74.3125 48.1875 68.609375 48.1875 \nQ 61.625 48.1875 57.5625 43.546875 \nQ 53.515625 38.921875 53.515625 30.90625 \nL 53.515625 0 \nL 44.484375 0 \nL 44.484375 32.71875 \nQ 44.484375 40.625 41.703125 44.40625 \nQ 38.921875 48.1875 33.109375 48.1875 \nQ 26.21875 48.1875 22.15625 43.53125 \nQ 18.109375 38.875 18.109375 30.90625 \nL 18.109375 0 \nL 9.078125 0 \nL 9.078125 54.6875 \nL 18.109375 54.6875 \nL 18.109375 46.1875 \nQ 21.1875 51.21875 25.484375 53.609375 \nQ 29.78125 56 35.6875 56 \nQ 41.65625 56 45.828125 52.96875 \nQ 50 49.953125 52 44.1875 \nz\n\" id=\"DejaVuSans-109\"/>\n       <path d=\"M 56.203125 29.59375 \nL 56.203125 25.203125 \nL 14.890625 25.203125 \nQ 15.484375 15.921875 20.484375 11.0625 \nQ 25.484375 6.203125 34.421875 6.203125 \nQ 39.59375 6.203125 44.453125 7.46875 \nQ 49.3125 8.734375 54.109375 11.28125 \nL 54.109375 2.78125 \nQ 49.265625 0.734375 44.1875 -0.34375 \nQ 39.109375 -1.421875 33.890625 -1.421875 \nQ 20.796875 -1.421875 13.15625 6.1875 \nQ 5.515625 13.8125 5.515625 26.8125 \nQ 5.515625 40.234375 12.765625 48.109375 \nQ 20.015625 56 32.328125 56 \nQ 43.359375 56 49.78125 48.890625 \nQ 56.203125 41.796875 56.203125 29.59375 \nz\nM 47.21875 32.234375 \nQ 47.125 39.59375 43.09375 43.984375 \nQ 39.0625 48.390625 32.421875 48.390625 \nQ 24.90625 48.390625 20.390625 44.140625 \nQ 15.875 39.890625 15.1875 32.171875 \nz\n\" id=\"DejaVuSans-101\"/>\n       <path d=\"M 34.28125 27.484375 \nQ 23.390625 27.484375 19.1875 25 \nQ 14.984375 22.515625 14.984375 16.5 \nQ 14.984375 11.71875 18.140625 8.90625 \nQ 21.296875 6.109375 26.703125 6.109375 \nQ 34.1875 6.109375 38.703125 11.40625 \nQ 43.21875 16.703125 43.21875 25.484375 \nL 43.21875 27.484375 \nz\nM 52.203125 31.203125 \nL 52.203125 0 \nL 43.21875 0 \nL 43.21875 8.296875 \nQ 40.140625 3.328125 35.546875 0.953125 \nQ 30.953125 -1.421875 24.3125 -1.421875 \nQ 15.921875 -1.421875 10.953125 3.296875 \nQ 6 8.015625 6 15.921875 \nQ 6 25.140625 12.171875 29.828125 \nQ 18.359375 34.515625 30.609375 34.515625 \nL 43.21875 34.515625 \nL 43.21875 35.40625 \nQ 43.21875 41.609375 39.140625 45 \nQ 35.0625 48.390625 27.6875 48.390625 \nQ 23 48.390625 18.546875 47.265625 \nQ 14.109375 46.140625 10.015625 43.890625 \nL 10.015625 52.203125 \nQ 14.9375 54.109375 19.578125 55.046875 \nQ 24.21875 56 28.609375 56 \nQ 40.484375 56 46.34375 49.84375 \nQ 52.203125 43.703125 52.203125 31.203125 \nz\n\" id=\"DejaVuSans-97\"/>\n       <path d=\"M 44.28125 53.078125 \nL 44.28125 44.578125 \nQ 40.484375 46.53125 36.375 47.5 \nQ 32.28125 48.484375 27.875 48.484375 \nQ 21.1875 48.484375 17.84375 46.4375 \nQ 14.5 44.390625 14.5 40.28125 \nQ 14.5 37.15625 16.890625 35.375 \nQ 19.28125 33.59375 26.515625 31.984375 \nL 29.59375 31.296875 \nQ 39.15625 29.25 43.1875 25.515625 \nQ 47.21875 21.78125 47.21875 15.09375 \nQ 47.21875 7.46875 41.1875 3.015625 \nQ 35.15625 -1.421875 24.609375 -1.421875 \nQ 20.21875 -1.421875 15.453125 -0.5625 \nQ 10.6875 0.296875 5.421875 2 \nL 5.421875 11.28125 \nQ 10.40625 8.6875 15.234375 7.390625 \nQ 20.0625 6.109375 24.8125 6.109375 \nQ 31.15625 6.109375 34.5625 8.28125 \nQ 37.984375 10.453125 37.984375 14.40625 \nQ 37.984375 18.0625 35.515625 20.015625 \nQ 33.0625 21.96875 24.703125 23.78125 \nL 21.578125 24.515625 \nQ 13.234375 26.265625 9.515625 29.90625 \nQ 5.8125 33.546875 5.8125 39.890625 \nQ 5.8125 47.609375 11.28125 51.796875 \nQ 16.75 56 26.8125 56 \nQ 31.78125 56 36.171875 55.265625 \nQ 40.578125 54.546875 44.28125 53.078125 \nz\n\" id=\"DejaVuSans-115\"/>\n      </defs>\n      <use xlink:href=\"#DejaVuSans-109\"/>\n      <use x=\"97.412109\" xlink:href=\"#DejaVuSans-101\"/>\n      <use x=\"158.935547\" xlink:href=\"#DejaVuSans-97\"/>\n      <use x=\"220.214844\" xlink:href=\"#DejaVuSans-115\"/>\n     </g>\n    </g>\n   </g>\n  </g>\n </g>\n <defs>\n  <clipPath id=\"pd4efa69e97\">\n   <rect height=\"199.9844\" width=\"815.459344\" x=\"7.2\" y=\"7.2\"/>\n  </clipPath>\n </defs>\n</svg>\n",
      "image/png": "[encoded data removed]"
     },
     "metadata": {},
     "execution_count": 23
    }
   ],
   "source": [
    "toffoli_cicuit.measure_all()\n",
    "toffoli_cicuit.draw(\"mpl\")"
   ]
  },
  {
   "cell_type": "code",
   "execution_count": 24,
   "metadata": {},
   "outputs": [],
   "source": [
    "qasm_sim = Aer.get_backend(\"qasm_simulator\")\n",
    "job_qasm = execute(toffoli_cicuit, backend=qasm_sim,shots=1024)\n",
    "result_qasm = job_qasm.result()"
   ]
  },
  {
   "cell_type": "code",
   "execution_count": 25,
   "metadata": {},
   "outputs": [
    {
     "output_type": "execute_result",
     "data": {
      "text/plain": [
       "<Figure size 504x360 with 1 Axes>"
      ],
      "image/svg+xml": "<?xml version=\"1.0\" encoding=\"utf-8\" standalone=\"no\"?>\n<!DOCTYPE svg PUBLIC \"-//W3C//DTD SVG 1.1//EN\"\n  \"http://www.w3.org/Graphics/SVG/1.1/DTD/svg11.dtd\">\n<!-- Created with matplotlib (https://matplotlib.org/) -->\n<svg height=\"322.945095pt\" version=\"1.1\" viewBox=\"0 0 460.72125 322.945095\" width=\"460.72125pt\" xmlns=\"http://www.w3.org/2000/svg\" xmlns:xlink=\"http://www.w3.org/1999/xlink\">\n <metadata>\n  <rdf:RDF xmlns:cc=\"http://creativecommons.org/ns#\" xmlns:dc=\"http://purl.org/dc/elements/1.1/\" xmlns:rdf=\"http://www.w3.org/1999/02/22-rdf-syntax-ns#\">\n   <cc:Work>\n    <dc:type rdf:resource=\"http://purl.org/dc/dcmitype/StillImage\"/>\n    <dc:date>2021-05-21T18:14:44.367191</dc:date>\n    <dc:format>image/svg+xml</dc:format>\n    <dc:creator>\n     <cc:Agent>\n      <dc:title>Matplotlib v3.3.4, https://matplotlib.org/</dc:title>\n     </cc:Agent>\n    </dc:creator>\n   </cc:Work>\n  </rdf:RDF>\n </metadata>\n <defs>\n  <style type=\"text/css\">*{stroke-linecap:butt;stroke-linejoin:round;}</style>\n </defs>\n <g id=\"figure_1\">\n  <g id=\"patch_1\">\n   <path d=\"M 0 322.945095 \nL 460.72125 322.945095 \nL 460.72125 0 \nL 0 0 \nz\n\" style=\"fill:none;\"/>\n  </g>\n  <g id=\"axes_1\">\n   <g id=\"patch_2\">\n    <path d=\"M 62.92125 279 \nL 453.52125 279 \nL 453.52125 7.2 \nL 62.92125 7.2 \nz\n\" style=\"fill:#ffffff;\"/>\n   </g>\n   <g id=\"matplotlib.axis_1\">\n    <g id=\"xtick_1\">\n     <g id=\"line2d_1\">\n      <defs>\n       <path d=\"M 0 0 \nL 0 3.5 \n\" id=\"m7e0318a17f\" style=\"stroke:#000000;stroke-width:0.8;\"/>\n      </defs>\n      <g>\n       <use style=\"stroke:#000000;stroke-width:0.8;\" x=\"258.22125\" xlink:href=\"#m7e0318a17f\" y=\"279\"/>\n      </g>\n     </g>\n     <g id=\"text_1\">\n      <!-- 111 -->\n      <g transform=\"translate(257.281583 314.749282)rotate(-70)scale(0.14 -0.14)\">\n       <defs>\n        <path d=\"M 12.40625 8.296875 \nL 28.515625 8.296875 \nL 28.515625 63.921875 \nL 10.984375 60.40625 \nL 10.984375 69.390625 \nL 28.421875 72.90625 \nL 38.28125 72.90625 \nL 38.28125 8.296875 \nL 54.390625 8.296875 \nL 54.390625 0 \nL 12.40625 0 \nz\n\" id=\"DejaVuSans-49\"/>\n       </defs>\n       <use xlink:href=\"#DejaVuSans-49\"/>\n       <use x=\"63.623047\" xlink:href=\"#DejaVuSans-49\"/>\n       <use x=\"127.246094\" xlink:href=\"#DejaVuSans-49\"/>\n      </g>\n     </g>\n    </g>\n   </g>\n   <g id=\"matplotlib.axis_2\">\n    <g id=\"ytick_1\">\n     <g id=\"line2d_2\">\n      <path clip-path=\"url(#p3fa4da71c0)\" d=\"M 62.92125 279 \nL 453.52125 279 \n\" style=\"fill:none;stroke:#b0b0b0;stroke-dasharray:2.96,1.28;stroke-dashoffset:0;stroke-width:0.8;\"/>\n     </g>\n     <g id=\"line2d_3\">\n      <defs>\n       <path d=\"M 0 0 \nL -3.5 0 \n\" id=\"mf4d0f720ed\" style=\"stroke:#000000;stroke-width:0.8;\"/>\n      </defs>\n      <g>\n       <use style=\"stroke:#000000;stroke-width:0.8;\" x=\"62.92125\" xlink:href=\"#mf4d0f720ed\" y=\"279\"/>\n      </g>\n     </g>\n     <g id=\"text_2\">\n      <!-- 0.00 -->\n      <g transform=\"translate(24.749375 284.318906)scale(0.14 -0.14)\">\n       <defs>\n        <path d=\"M 31.78125 66.40625 \nQ 24.171875 66.40625 20.328125 58.90625 \nQ 16.5 51.421875 16.5 36.375 \nQ 16.5 21.390625 20.328125 13.890625 \nQ 24.171875 6.390625 31.78125 6.390625 \nQ 39.453125 6.390625 43.28125 13.890625 \nQ 47.125 21.390625 47.125 36.375 \nQ 47.125 51.421875 43.28125 58.90625 \nQ 39.453125 66.40625 31.78125 66.40625 \nz\nM 31.78125 74.21875 \nQ 44.046875 74.21875 50.515625 64.515625 \nQ 56.984375 54.828125 56.984375 36.375 \nQ 56.984375 17.96875 50.515625 8.265625 \nQ 44.046875 -1.421875 31.78125 -1.421875 \nQ 19.53125 -1.421875 13.0625 8.265625 \nQ 6.59375 17.96875 6.59375 36.375 \nQ 6.59375 54.828125 13.0625 64.515625 \nQ 19.53125 74.21875 31.78125 74.21875 \nz\n\" id=\"DejaVuSans-48\"/>\n        <path d=\"M 10.6875 12.40625 \nL 21 12.40625 \nL 21 0 \nL 10.6875 0 \nz\n\" id=\"DejaVuSans-46\"/>\n       </defs>\n       <use xlink:href=\"#DejaVuSans-48\"/>\n       <use x=\"63.623047\" xlink:href=\"#DejaVuSans-46\"/>\n       <use x=\"95.410156\" xlink:href=\"#DejaVuSans-48\"/>\n       <use x=\"159.033203\" xlink:href=\"#DejaVuSans-48\"/>\n      </g>\n     </g>\n    </g>\n    <g id=\"ytick_2\">\n     <g id=\"line2d_4\">\n      <path clip-path=\"url(#p3fa4da71c0)\" d=\"M 62.92125 222.375 \nL 453.52125 222.375 \n\" style=\"fill:none;stroke:#b0b0b0;stroke-dasharray:2.96,1.28;stroke-dashoffset:0;stroke-width:0.8;\"/>\n     </g>\n     <g id=\"line2d_5\">\n      <g>\n       <use style=\"stroke:#000000;stroke-width:0.8;\" x=\"62.92125\" xlink:href=\"#mf4d0f720ed\" y=\"222.375\"/>\n      </g>\n     </g>\n     <g id=\"text_3\">\n      <!-- 0.25 -->\n      <g transform=\"translate(24.749375 227.693906)scale(0.14 -0.14)\">\n       <defs>\n        <path d=\"M 19.1875 8.296875 \nL 53.609375 8.296875 \nL 53.609375 0 \nL 7.328125 0 \nL 7.328125 8.296875 \nQ 12.9375 14.109375 22.625 23.890625 \nQ 32.328125 33.6875 34.8125 36.53125 \nQ 39.546875 41.84375 41.421875 45.53125 \nQ 43.3125 49.21875 43.3125 52.78125 \nQ 43.3125 58.59375 39.234375 62.25 \nQ 35.15625 65.921875 28.609375 65.921875 \nQ 23.96875 65.921875 18.8125 64.3125 \nQ 13.671875 62.703125 7.8125 59.421875 \nL 7.8125 69.390625 \nQ 13.765625 71.78125 18.9375 73 \nQ 24.125 74.21875 28.421875 74.21875 \nQ 39.75 74.21875 46.484375 68.546875 \nQ 53.21875 62.890625 53.21875 53.421875 \nQ 53.21875 48.921875 51.53125 44.890625 \nQ 49.859375 40.875 45.40625 35.40625 \nQ 44.1875 33.984375 37.640625 27.21875 \nQ 31.109375 20.453125 19.1875 8.296875 \nz\n\" id=\"DejaVuSans-50\"/>\n        <path d=\"M 10.796875 72.90625 \nL 49.515625 72.90625 \nL 49.515625 64.59375 \nL 19.828125 64.59375 \nL 19.828125 46.734375 \nQ 21.96875 47.46875 24.109375 47.828125 \nQ 26.265625 48.1875 28.421875 48.1875 \nQ 40.625 48.1875 47.75 41.5 \nQ 54.890625 34.8125 54.890625 23.390625 \nQ 54.890625 11.625 47.5625 5.09375 \nQ 40.234375 -1.421875 26.90625 -1.421875 \nQ 22.3125 -1.421875 17.546875 -0.640625 \nQ 12.796875 0.140625 7.71875 1.703125 \nL 7.71875 11.625 \nQ 12.109375 9.234375 16.796875 8.0625 \nQ 21.484375 6.890625 26.703125 6.890625 \nQ 35.15625 6.890625 40.078125 11.328125 \nQ 45.015625 15.765625 45.015625 23.390625 \nQ 45.015625 31 40.078125 35.4375 \nQ 35.15625 39.890625 26.703125 39.890625 \nQ 22.75 39.890625 18.8125 39.015625 \nQ 14.890625 38.140625 10.796875 36.28125 \nz\n\" id=\"DejaVuSans-53\"/>\n       </defs>\n       <use xlink:href=\"#DejaVuSans-48\"/>\n       <use x=\"63.623047\" xlink:href=\"#DejaVuSans-46\"/>\n       <use x=\"95.410156\" xlink:href=\"#DejaVuSans-50\"/>\n       <use x=\"159.033203\" xlink:href=\"#DejaVuSans-53\"/>\n      </g>\n     </g>\n    </g>\n    <g id=\"ytick_3\">\n     <g id=\"line2d_6\">\n      <path clip-path=\"url(#p3fa4da71c0)\" d=\"M 62.92125 165.75 \nL 453.52125 165.75 \n\" style=\"fill:none;stroke:#b0b0b0;stroke-dasharray:2.96,1.28;stroke-dashoffset:0;stroke-width:0.8;\"/>\n     </g>\n     <g id=\"line2d_7\">\n      <g>\n       <use style=\"stroke:#000000;stroke-width:0.8;\" x=\"62.92125\" xlink:href=\"#mf4d0f720ed\" y=\"165.75\"/>\n      </g>\n     </g>\n     <g id=\"text_4\">\n      <!-- 0.50 -->\n      <g transform=\"translate(24.749375 171.068906)scale(0.14 -0.14)\">\n       <use xlink:href=\"#DejaVuSans-48\"/>\n       <use x=\"63.623047\" xlink:href=\"#DejaVuSans-46\"/>\n       <use x=\"95.410156\" xlink:href=\"#DejaVuSans-53\"/>\n       <use x=\"159.033203\" xlink:href=\"#DejaVuSans-48\"/>\n      </g>\n     </g>\n    </g>\n    <g id=\"ytick_4\">\n     <g id=\"line2d_8\">\n      <path clip-path=\"url(#p3fa4da71c0)\" d=\"M 62.92125 109.125 \nL 453.52125 109.125 \n\" style=\"fill:none;stroke:#b0b0b0;stroke-dasharray:2.96,1.28;stroke-dashoffset:0;stroke-width:0.8;\"/>\n     </g>\n     <g id=\"line2d_9\">\n      <g>\n       <use style=\"stroke:#000000;stroke-width:0.8;\" x=\"62.92125\" xlink:href=\"#mf4d0f720ed\" y=\"109.125\"/>\n      </g>\n     </g>\n     <g id=\"text_5\">\n      <!-- 0.75 -->\n      <g transform=\"translate(24.749375 114.443906)scale(0.14 -0.14)\">\n       <defs>\n        <path d=\"M 8.203125 72.90625 \nL 55.078125 72.90625 \nL 55.078125 68.703125 \nL 28.609375 0 \nL 18.3125 0 \nL 43.21875 64.59375 \nL 8.203125 64.59375 \nz\n\" id=\"DejaVuSans-55\"/>\n       </defs>\n       <use xlink:href=\"#DejaVuSans-48\"/>\n       <use x=\"63.623047\" xlink:href=\"#DejaVuSans-46\"/>\n       <use x=\"95.410156\" xlink:href=\"#DejaVuSans-55\"/>\n       <use x=\"159.033203\" xlink:href=\"#DejaVuSans-53\"/>\n      </g>\n     </g>\n    </g>\n    <g id=\"ytick_5\">\n     <g id=\"line2d_10\">\n      <path clip-path=\"url(#p3fa4da71c0)\" d=\"M 62.92125 52.5 \nL 453.52125 52.5 \n\" style=\"fill:none;stroke:#b0b0b0;stroke-dasharray:2.96,1.28;stroke-dashoffset:0;stroke-width:0.8;\"/>\n     </g>\n     <g id=\"line2d_11\">\n      <g>\n       <use style=\"stroke:#000000;stroke-width:0.8;\" x=\"62.92125\" xlink:href=\"#mf4d0f720ed\" y=\"52.5\"/>\n      </g>\n     </g>\n     <g id=\"text_6\">\n      <!-- 1.00 -->\n      <g transform=\"translate(24.749375 57.818906)scale(0.14 -0.14)\">\n       <use xlink:href=\"#DejaVuSans-49\"/>\n       <use x=\"63.623047\" xlink:href=\"#DejaVuSans-46\"/>\n       <use x=\"95.410156\" xlink:href=\"#DejaVuSans-48\"/>\n       <use x=\"159.033203\" xlink:href=\"#DejaVuSans-48\"/>\n      </g>\n     </g>\n    </g>\n    <g id=\"text_7\">\n     <!-- Probabilities -->\n     <g transform=\"translate(17.837813 185.855781)rotate(-90)scale(0.14 -0.14)\">\n      <defs>\n       <path d=\"M 19.671875 64.796875 \nL 19.671875 37.40625 \nL 32.078125 37.40625 \nQ 38.96875 37.40625 42.71875 40.96875 \nQ 46.484375 44.53125 46.484375 51.125 \nQ 46.484375 57.671875 42.71875 61.234375 \nQ 38.96875 64.796875 32.078125 64.796875 \nz\nM 9.8125 72.90625 \nL 32.078125 72.90625 \nQ 44.34375 72.90625 50.609375 67.359375 \nQ 56.890625 61.8125 56.890625 51.125 \nQ 56.890625 40.328125 50.609375 34.8125 \nQ 44.34375 29.296875 32.078125 29.296875 \nL 19.671875 29.296875 \nL 19.671875 0 \nL 9.8125 0 \nz\n\" id=\"DejaVuSans-80\"/>\n       <path d=\"M 41.109375 46.296875 \nQ 39.59375 47.171875 37.8125 47.578125 \nQ 36.03125 48 33.890625 48 \nQ 26.265625 48 22.1875 43.046875 \nQ 18.109375 38.09375 18.109375 28.8125 \nL 18.109375 0 \nL 9.078125 0 \nL 9.078125 54.6875 \nL 18.109375 54.6875 \nL 18.109375 46.1875 \nQ 20.953125 51.171875 25.484375 53.578125 \nQ 30.03125 56 36.53125 56 \nQ 37.453125 56 38.578125 55.875 \nQ 39.703125 55.765625 41.0625 55.515625 \nz\n\" id=\"DejaVuSans-114\"/>\n       <path d=\"M 30.609375 48.390625 \nQ 23.390625 48.390625 19.1875 42.75 \nQ 14.984375 37.109375 14.984375 27.296875 \nQ 14.984375 17.484375 19.15625 11.84375 \nQ 23.34375 6.203125 30.609375 6.203125 \nQ 37.796875 6.203125 41.984375 11.859375 \nQ 46.1875 17.53125 46.1875 27.296875 \nQ 46.1875 37.015625 41.984375 42.703125 \nQ 37.796875 48.390625 30.609375 48.390625 \nz\nM 30.609375 56 \nQ 42.328125 56 49.015625 48.375 \nQ 55.71875 40.765625 55.71875 27.296875 \nQ 55.71875 13.875 49.015625 6.21875 \nQ 42.328125 -1.421875 30.609375 -1.421875 \nQ 18.84375 -1.421875 12.171875 6.21875 \nQ 5.515625 13.875 5.515625 27.296875 \nQ 5.515625 40.765625 12.171875 48.375 \nQ 18.84375 56 30.609375 56 \nz\n\" id=\"DejaVuSans-111\"/>\n       <path d=\"M 48.6875 27.296875 \nQ 48.6875 37.203125 44.609375 42.84375 \nQ 40.53125 48.484375 33.40625 48.484375 \nQ 26.265625 48.484375 22.1875 42.84375 \nQ 18.109375 37.203125 18.109375 27.296875 \nQ 18.109375 17.390625 22.1875 11.75 \nQ 26.265625 6.109375 33.40625 6.109375 \nQ 40.53125 6.109375 44.609375 11.75 \nQ 48.6875 17.390625 48.6875 27.296875 \nz\nM 18.109375 46.390625 \nQ 20.953125 51.265625 25.265625 53.625 \nQ 29.59375 56 35.59375 56 \nQ 45.5625 56 51.78125 48.09375 \nQ 58.015625 40.1875 58.015625 27.296875 \nQ 58.015625 14.40625 51.78125 6.484375 \nQ 45.5625 -1.421875 35.59375 -1.421875 \nQ 29.59375 -1.421875 25.265625 0.953125 \nQ 20.953125 3.328125 18.109375 8.203125 \nL 18.109375 0 \nL 9.078125 0 \nL 9.078125 75.984375 \nL 18.109375 75.984375 \nz\n\" id=\"DejaVuSans-98\"/>\n       <path d=\"M 34.28125 27.484375 \nQ 23.390625 27.484375 19.1875 25 \nQ 14.984375 22.515625 14.984375 16.5 \nQ 14.984375 11.71875 18.140625 8.90625 \nQ 21.296875 6.109375 26.703125 6.109375 \nQ 34.1875 6.109375 38.703125 11.40625 \nQ 43.21875 16.703125 43.21875 25.484375 \nL 43.21875 27.484375 \nz\nM 52.203125 31.203125 \nL 52.203125 0 \nL 43.21875 0 \nL 43.21875 8.296875 \nQ 40.140625 3.328125 35.546875 0.953125 \nQ 30.953125 -1.421875 24.3125 -1.421875 \nQ 15.921875 -1.421875 10.953125 3.296875 \nQ 6 8.015625 6 15.921875 \nQ 6 25.140625 12.171875 29.828125 \nQ 18.359375 34.515625 30.609375 34.515625 \nL 43.21875 34.515625 \nL 43.21875 35.40625 \nQ 43.21875 41.609375 39.140625 45 \nQ 35.0625 48.390625 27.6875 48.390625 \nQ 23 48.390625 18.546875 47.265625 \nQ 14.109375 46.140625 10.015625 43.890625 \nL 10.015625 52.203125 \nQ 14.9375 54.109375 19.578125 55.046875 \nQ 24.21875 56 28.609375 56 \nQ 40.484375 56 46.34375 49.84375 \nQ 52.203125 43.703125 52.203125 31.203125 \nz\n\" id=\"DejaVuSans-97\"/>\n       <path d=\"M 9.421875 54.6875 \nL 18.40625 54.6875 \nL 18.40625 0 \nL 9.421875 0 \nz\nM 9.421875 75.984375 \nL 18.40625 75.984375 \nL 18.40625 64.59375 \nL 9.421875 64.59375 \nz\n\" id=\"DejaVuSans-105\"/>\n       <path d=\"M 9.421875 75.984375 \nL 18.40625 75.984375 \nL 18.40625 0 \nL 9.421875 0 \nz\n\" id=\"DejaVuSans-108\"/>\n       <path d=\"M 18.3125 70.21875 \nL 18.3125 54.6875 \nL 36.8125 54.6875 \nL 36.8125 47.703125 \nL 18.3125 47.703125 \nL 18.3125 18.015625 \nQ 18.3125 11.328125 20.140625 9.421875 \nQ 21.96875 7.515625 27.59375 7.515625 \nL 36.8125 7.515625 \nL 36.8125 0 \nL 27.59375 0 \nQ 17.1875 0 13.234375 3.875 \nQ 9.28125 7.765625 9.28125 18.015625 \nL 9.28125 47.703125 \nL 2.6875 47.703125 \nL 2.6875 54.6875 \nL 9.28125 54.6875 \nL 9.28125 70.21875 \nz\n\" id=\"DejaVuSans-116\"/>\n       <path d=\"M 56.203125 29.59375 \nL 56.203125 25.203125 \nL 14.890625 25.203125 \nQ 15.484375 15.921875 20.484375 11.0625 \nQ 25.484375 6.203125 34.421875 6.203125 \nQ 39.59375 6.203125 44.453125 7.46875 \nQ 49.3125 8.734375 54.109375 11.28125 \nL 54.109375 2.78125 \nQ 49.265625 0.734375 44.1875 -0.34375 \nQ 39.109375 -1.421875 33.890625 -1.421875 \nQ 20.796875 -1.421875 13.15625 6.1875 \nQ 5.515625 13.8125 5.515625 26.8125 \nQ 5.515625 40.234375 12.765625 48.109375 \nQ 20.015625 56 32.328125 56 \nQ 43.359375 56 49.78125 48.890625 \nQ 56.203125 41.796875 56.203125 29.59375 \nz\nM 47.21875 32.234375 \nQ 47.125 39.59375 43.09375 43.984375 \nQ 39.0625 48.390625 32.421875 48.390625 \nQ 24.90625 48.390625 20.390625 44.140625 \nQ 15.875 39.890625 15.1875 32.171875 \nz\n\" id=\"DejaVuSans-101\"/>\n       <path d=\"M 44.28125 53.078125 \nL 44.28125 44.578125 \nQ 40.484375 46.53125 36.375 47.5 \nQ 32.28125 48.484375 27.875 48.484375 \nQ 21.1875 48.484375 17.84375 46.4375 \nQ 14.5 44.390625 14.5 40.28125 \nQ 14.5 37.15625 16.890625 35.375 \nQ 19.28125 33.59375 26.515625 31.984375 \nL 29.59375 31.296875 \nQ 39.15625 29.25 43.1875 25.515625 \nQ 47.21875 21.78125 47.21875 15.09375 \nQ 47.21875 7.46875 41.1875 3.015625 \nQ 35.15625 -1.421875 24.609375 -1.421875 \nQ 20.21875 -1.421875 15.453125 -0.5625 \nQ 10.6875 0.296875 5.421875 2 \nL 5.421875 11.28125 \nQ 10.40625 8.6875 15.234375 7.390625 \nQ 20.0625 6.109375 24.8125 6.109375 \nQ 31.15625 6.109375 34.5625 8.28125 \nQ 37.984375 10.453125 37.984375 14.40625 \nQ 37.984375 18.0625 35.515625 20.015625 \nQ 33.0625 21.96875 24.703125 23.78125 \nL 21.578125 24.515625 \nQ 13.234375 26.265625 9.515625 29.90625 \nQ 5.8125 33.546875 5.8125 39.890625 \nQ 5.8125 47.609375 11.28125 51.796875 \nQ 16.75 56 26.8125 56 \nQ 31.78125 56 36.171875 55.265625 \nQ 40.578125 54.546875 44.28125 53.078125 \nz\n\" id=\"DejaVuSans-115\"/>\n      </defs>\n      <use xlink:href=\"#DejaVuSans-80\"/>\n      <use x=\"58.552734\" xlink:href=\"#DejaVuSans-114\"/>\n      <use x=\"97.416016\" xlink:href=\"#DejaVuSans-111\"/>\n      <use x=\"158.597656\" xlink:href=\"#DejaVuSans-98\"/>\n      <use x=\"222.074219\" xlink:href=\"#DejaVuSans-97\"/>\n      <use x=\"283.353516\" xlink:href=\"#DejaVuSans-98\"/>\n      <use x=\"346.830078\" xlink:href=\"#DejaVuSans-105\"/>\n      <use x=\"374.613281\" xlink:href=\"#DejaVuSans-108\"/>\n      <use x=\"402.396484\" xlink:href=\"#DejaVuSans-105\"/>\n      <use x=\"430.179688\" xlink:href=\"#DejaVuSans-116\"/>\n      <use x=\"469.388672\" xlink:href=\"#DejaVuSans-105\"/>\n      <use x=\"497.171875\" xlink:href=\"#DejaVuSans-101\"/>\n      <use x=\"558.695312\" xlink:href=\"#DejaVuSans-115\"/>\n     </g>\n    </g>\n   </g>\n   <g id=\"patch_3\">\n    <path clip-path=\"url(#p3fa4da71c0)\" d=\"M 80.675795 279 \nL 435.766705 279 \nL 435.766705 52.5 \nL 80.675795 52.5 \nz\n\" style=\"fill:#648fff;\"/>\n   </g>\n   <g id=\"patch_4\">\n    <path d=\"M 62.92125 279 \nL 62.92125 7.2 \n\" style=\"fill:none;stroke:#000000;stroke-linecap:square;stroke-linejoin:miter;stroke-width:0.8;\"/>\n   </g>\n   <g id=\"patch_5\">\n    <path d=\"M 453.52125 279 \nL 453.52125 7.2 \n\" style=\"fill:none;stroke:#000000;stroke-linecap:square;stroke-linejoin:miter;stroke-width:0.8;\"/>\n   </g>\n   <g id=\"patch_6\">\n    <path d=\"M 62.92125 279 \nL 453.52125 279 \n\" style=\"fill:none;stroke:#000000;stroke-linecap:square;stroke-linejoin:miter;stroke-width:0.8;\"/>\n   </g>\n   <g id=\"patch_7\">\n    <path d=\"M 62.92125 7.2 \nL 453.52125 7.2 \n\" style=\"fill:none;stroke:#000000;stroke-linecap:square;stroke-linejoin:miter;stroke-width:0.8;\"/>\n   </g>\n   <g id=\"text_8\">\n    <!-- 1.000 -->\n    <g transform=\"translate(243.907187 39.095312)scale(0.1 -0.1)\">\n     <use xlink:href=\"#DejaVuSans-49\"/>\n     <use x=\"63.623047\" xlink:href=\"#DejaVuSans-46\"/>\n     <use x=\"95.410156\" xlink:href=\"#DejaVuSans-48\"/>\n     <use x=\"159.033203\" xlink:href=\"#DejaVuSans-48\"/>\n     <use x=\"222.65625\" xlink:href=\"#DejaVuSans-48\"/>\n    </g>\n   </g>\n  </g>\n </g>\n <defs>\n  <clipPath id=\"p3fa4da71c0\">\n   <rect height=\"271.8\" width=\"390.6\" x=\"62.92125\" y=\"7.2\"/>\n  </clipPath>\n </defs>\n</svg>\n",
      "image/png": "[encoded data removed]"
     },
     "metadata": {},
     "execution_count": 25
    }
   ],
   "source": [
    "counts = result_qasm.get_counts()\n",
    "plot_histogram(counts)"
   ]
  },
  {
   "cell_type": "markdown",
   "metadata": {},
   "source": [
    "## What are quantum circuits?\n",
    "\n",
    "Quantum circuits are models for quantum computation in which a computation is a sequence of quantum gates. Quantum gates often represent rotations on the Bloch sphere. Let's take a look at some of the popular quantum gates.\n",
    "\n",
    "### X gate \n",
    "\n",
    "The X-gate is represented by the Pauli-X matrix: \n",
    "\n",
    "$X = \\begin{pmatrix}\n",
    "0 & 1 \\\\\n",
    "1 & 0 \\\\\n",
    "\\end{pmatrix}$\n",
    "\n",
    "An X gate equates to a rotation around the X-axis of the Bloch sphere by $\\pi$ radians. It maps $|0\\rangle$ to $|1\\rangle$ and $|1\\rangle$ to $|0\\rangle$. It is the quantum equivalent of the NOT gate for classical computers and is sometimes called a bit-flip."
   ]
  },
  {
   "cell_type": "code",
   "execution_count": null,
   "metadata": {},
   "outputs": [],
   "source": [
    "x_gate=QuantumCircuit(1) # Create a quantum circuit with 1 qubit\n",
    "x_gate.x(0)\n",
    "x_gate.draw(output='mpl')"
   ]
  },
  {
   "cell_type": "code",
   "execution_count": null,
   "metadata": {},
   "outputs": [],
   "source": [
    "backend = Aer.get_backend('statevector_simulator')\n",
    "result = execute(x_gate, backend).result().get_statevector()\n",
    "plot_bloch_multivector(result)"
   ]
  },
  {
   "cell_type": "markdown",
   "metadata": {},
   "source": [
    "### SX gate\n",
    "\n",
    "The SX gate equates to a rotation around the X-axis of the Bloch sphere by $\\pi/2$. It is called SX gate to indicate that it is the square-root of the X gate. Applying this gate twice produces the standard Pauli-X gate. The opposite of the SX is the SX dagger, which is a rotation by $\\pi/2$ in the opposite direction.\n",
    "\n",
    "$SX = \\frac{1}{\\sqrt{2}}\\begin{pmatrix}\n",
    "1+i & 1-i \\\\\n",
    "1-i & 1+i \\\\\n",
    "\\end{pmatrix}$"
   ]
  },
  {
   "cell_type": "code",
   "execution_count": null,
   "metadata": {},
   "outputs": [],
   "source": [
    "sx_gate = QuantumCircuit(1)\n",
    "sx_gate.sx(0)  \n",
    "sx_gate.draw(output='mpl')"
   ]
  },
  {
   "cell_type": "code",
   "execution_count": null,
   "metadata": {},
   "outputs": [],
   "source": [
    "backend = Aer.get_backend('statevector_simulator')\n",
    "result = execute(sx_gate, backend).result().get_statevector()\n",
    "plot_bloch_multivector(result)"
   ]
  },
  {
   "cell_type": "markdown",
   "metadata": {},
   "source": [
    "### RZ gate\n",
    "\n",
    "The Rz gate performs a rotation of $\\phi$ around the Z-axis direction (Where $\\phi$ is a real number). It has the matrix below:\n",
    "\n",
    "$RZ = \\begin{pmatrix}\n",
    "1 & 0 \\\\\n",
    "0 & e ^{i \\phi } \\\\\n",
    "\\end{pmatrix}$"
   ]
  },
  {
   "cell_type": "code",
   "execution_count": null,
   "metadata": {},
   "outputs": [],
   "source": [
    "rz_gate = QuantumCircuit(1)\n",
    "rz_gate.rz(pi/2, 0)\n",
    "rz_gate.draw(output='mpl')"
   ]
  },
  {
   "cell_type": "code",
   "execution_count": null,
   "metadata": {},
   "outputs": [],
   "source": [
    "backend = Aer.get_backend('statevector_simulator')\n",
    "result = execute(rz_gate, backend).result().get_statevector()\n",
    "plot_bloch_multivector(result)"
   ]
  },
  {
   "cell_type": "markdown",
   "metadata": {},
   "source": [
    "Since the rotation is around the Z-axis one would not see a difference when we apply it to the default state $|0\\rangle$, so we use the state which was generated by applying the SX gate instead and apply the RZ to it."
   ]
  },
  {
   "cell_type": "code",
   "execution_count": null,
   "metadata": {},
   "outputs": [],
   "source": [
    "rz_gate.sx(0)\n",
    "rz_gate.rz(pi/2, 0)\n",
    "rz_gate.draw(output='mpl')"
   ]
  },
  {
   "cell_type": "code",
   "execution_count": null,
   "metadata": {},
   "outputs": [],
   "source": [
    "backend = Aer.get_backend('statevector_simulator')\n",
    "result = execute(rz_gate, backend).result().get_statevector()\n",
    "plot_bloch_multivector(result)"
   ]
  },
  {
   "cell_type": "markdown",
   "metadata": {},
   "source": [
    "### Hadamard gate\n",
    "A Hadamard gate represents a rotation of $\\pi$ about the axis that is in the middle of the X-axis and Z-axis.\n",
    "It maps the basis state $|0\\rangle$ to $\\frac{|0\\rangle + |1\\rangle}{\\sqrt{2}}$, which means that a measurement will have equal probabilities of being `1` or `0`, creating a 'superposition' of states. This state is also written as $|+\\rangle$. What the Hadamard does is to transform between the $|0\\rangle$ $|1\\rangle$ and the $|+\\rangle$ $|-\\rangle$ base. \n",
    "\n",
    "$H = \\frac{1}{\\sqrt{2}}\\begin{pmatrix}\n",
    "1 & 1 \\\\\n",
    "1 & -1 \\\\\n",
    "\\end{pmatrix}$"
   ]
  },
  {
   "cell_type": "code",
   "execution_count": null,
   "metadata": {},
   "outputs": [],
   "source": [
    "# Let's do an H-gate on a |0> qubit\n",
    "h_gate = QuantumCircuit(1)\n",
    "h_gate.h(0)\n",
    "h_gate.draw(output='mpl')"
   ]
  },
  {
   "cell_type": "code",
   "execution_count": null,
   "metadata": {},
   "outputs": [],
   "source": [
    "# Let's see the result\n",
    "backend = Aer.get_backend('statevector_simulator')\n",
    "result = execute(h_gate, backend).result().get_statevector()\n",
    "plot_bloch_multivector(result)"
   ]
  },
  {
   "cell_type": "markdown",
   "metadata": {},
   "source": [
    "### CX gate (CNOT gate)\n",
    "\n",
    "The controlled NOT (or CNOT or CX) gate acts on two qubits. It performs the NOT operation (equivalent to applying an X gate) on the second qubit only when the first qubit is $|1\\rangle$ and otherwise leaves it unchanged. \n",
    "\n",
    "Note: Qiskit numbers the bits in a string from right to left.\n",
    "\n",
    "$CX = \\begin{pmatrix}\n",
    "1 & 0 & 0 & 0  \\\\\n",
    "0 & 1 & 0 & 0 \\\\\n",
    "0 & 0 & 0 & 1 \\\\\n",
    "0 & 0 & 1 & 0 \\\\\n",
    "\\end{pmatrix}$"
   ]
  },
  {
   "cell_type": "code",
   "execution_count": null,
   "metadata": {},
   "outputs": [],
   "source": [
    "cx_gate = QuantumCircuit(2)\n",
    "cx_gate.cx(0,1)\n",
    "cx_gate.draw(output='mpl')"
   ]
  },
  {
   "cell_type": "markdown",
   "metadata": {},
   "source": [
    "### CCX gate (Toffoli gate)\n",
    "\n",
    "The CCX gate (controlled controlled X Gate) is also called a Toffoli gate. The CCX gate is a three-bit gate, with two controls and one target as their input and output. If the first two bits are in the state $|1\\rangle$, it applies a Pauli-X (or NOT) on the third bit. Otherwise, it does nothing. \n",
    "\n",
    "Note: Qiskit numbers the bits in a string from right to left.\n",
    "\n",
    "$CCX = \\begin{pmatrix}\n",
    "1 & 0 & 0 & 0 & 0 & 0 & 0 & 0 \\\\\n",
    "0 & 1 & 0 & 0 & 0 & 0 & 0 & 0 \\\\\n",
    "0 & 0 & 1 & 0 & 0 & 0 & 0 & 0 \\\\\n",
    "0 & 0 & 0 & 1 & 0 & 0 & 0 & 0 \\\\\n",
    "0 & 0 & 0 & 0 & 1 & 0 & 0 & 0 \\\\\n",
    "0 & 0 & 0 & 0 & 0 & 1 & 0 & 0 \\\\\n",
    "0 & 0 & 0 & 0 & 0 & 0 & 0 & 1 \\\\\n",
    "0 & 0 & 0 & 0 & 0 & 0 & 1 & 0 \\\\\n",
    "\\end{pmatrix}$"
   ]
  },
  {
   "cell_type": "code",
   "execution_count": null,
   "metadata": {},
   "outputs": [],
   "source": [
    "ccx_gate = QuantumCircuit(3)\n",
    "ccx_gate.ccx(0,1,2)\n",
    "ccx_gate.draw(output='mpl')"
   ]
  },
  {
   "cell_type": "markdown",
   "metadata": {},
   "source": [
    "## Create logical gates with the help of quantum gates\n",
    "\n",
    "### NOT gate\n",
    "\n",
    "The NOT gate flips the value of a bit and, as was mentioned before, an X gate can be considered a NOT gate. The truth table for a NOT gate looks like this:\n",
    "\n",
    "| Input | Output |\n",
    "| --- | --- | \n",
    "| 1 | 0 |\n",
    "| 0 | 1 |"
   ]
  },
  {
   "cell_type": "code",
   "execution_count": null,
   "metadata": {},
   "outputs": [],
   "source": [
    "not_gate=QuantumCircuit(1,1) # Create a quantum circuit with 1 qubit and 1 classical bit\n",
    "not_gate.x(0)\n",
    "not_gate.measure(0,0)\n",
    "not_gate.draw(output='mpl')"
   ]
  },
  {
   "cell_type": "markdown",
   "metadata": {},
   "source": [
    "### AND gate\n",
    "\n",
    "The output of an AND is true if and only if both inputs are true. The truth table for an AND Gate looks like this:\n",
    "\n",
    "| A (Input) | B (Input) | Output |\n",
    "| --- | --- | --- |\n",
    "| 0 | 0 | 0 | \n",
    "| 0 | 1 | 0 |\n",
    "| 1 | 0 | 0 |\n",
    "| 1 | 1 | 1 |\n",
    "\n",
    "With a Toffoli gate, we can get the result of an AND gate by interpreting the two control bits as the input bits and the target bit as the output bit."
   ]
  },
  {
   "cell_type": "code",
   "execution_count": null,
   "metadata": {},
   "outputs": [],
   "source": [
    "and_gate=QuantumCircuit(3,1) # Create a quantum circuit with 3 qubits and 1 classical bit\n",
    "and_gate.ccx(0,1,2)\n",
    "and_gate.measure(2,0)\n",
    "and_gate.draw(output='mpl')"
   ]
  },
  {
   "cell_type": "markdown",
   "metadata": {},
   "source": [
    "### OR gate\n",
    "\n",
    "An OR gate returns true if at least one of the input gates is true.\n",
    "The truth table for an OR Gate looks like this:\n",
    "\n",
    "| A (Input) | B (Input) | Output |\n",
    "| --- | --- | --- |\n",
    "| 0 | 0 | 0 | \n",
    "| 0 | 1 | 1 |\n",
    "| 1 | 0 | 1 |\n",
    "| 1 | 1 | 1 |"
   ]
  },
  {
   "cell_type": "code",
   "execution_count": null,
   "metadata": {
    "scrolled": true
   },
   "outputs": [],
   "source": [
    "or_gate=QuantumCircuit(3,1) # Create a quantum circuit with 3 qubits and 1 classical bit\n",
    "or_gate.cx(1,2)\n",
    "or_gate.cx(0,2)\n",
    "or_gate.ccx(0,1,2)\n",
    "or_gate.measure(2,0)\n",
    "or_gate.draw(output='mpl')"
   ]
  },
  {
   "cell_type": "markdown",
   "metadata": {},
   "source": [
    "## Using the Circuit Composer widget\n",
    "\n",
    "You might be familiar with the IBM quantum circuit composer, where you can generate circuits while using a graphical interface. With the new circuit composer widget, the same functionality  can be used in a jupyter notebook. You can learn more about how to use the widget [here](https://quantum-computing.ibm.com/lab/docs/iql/composer-widget)\n",
    "\n",
    "<div class=\"alert alert-block alert-success\">\n",
    "\n",
    "**Exercise 1a:** Build a NOR (a negated OR) gate using circuit composer\n",
    "    \n",
    "This exercise is intended to encourage you to play around a bit with the composer. It is not graded. You can skip ahead if you want. Executing the cell below will show you a composer, where you can add gates by dragging them onto the correct place.    \n",
    "</div>"
   ]
  },
  {
   "cell_type": "code",
   "execution_count": null,
   "metadata": {},
   "outputs": [],
   "source": [
    "from ibm_quantum_widgets import CircuitComposer\n",
    "editor = CircuitComposer()\n",
    "editor"
   ]
  },
  {
   "cell_type": "markdown",
   "metadata": {},
   "source": [
    "### Use the Circuit Composer widget to work with an existing circuit\n",
    "\n",
    "We can also use the circuit composer to open a previously created circuit. With the code below we will open the circuit created above, which represents the OR gate. You can use this to check if you constructed your OR correctly.\n",
    "\n",
    "<div class=\"alert alert-block alert-success\">\n",
    "\n",
    "You can edit the opened circuit by drag and drop. Try to delete the measurement at the end.\n",
    "    \n",
    "</div>"
   ]
  },
  {
   "cell_type": "code",
   "execution_count": null,
   "metadata": {
    "scrolled": true
   },
   "outputs": [],
   "source": [
    "from ibm_quantum_widgets import CircuitComposer\n",
    "editor2 = CircuitComposer(circuit=or_gate)\n",
    "editor2"
   ]
  },
  {
   "cell_type": "markdown",
   "metadata": {},
   "source": [
    "In the example below we store the last circuit from the composer in the variable qc2 and then apply an X to the output and measure again.\n",
    "\n",
    "Use circuit from last editor and apply an X to the output and measure again."
   ]
  },
  {
   "cell_type": "code",
   "execution_count": null,
   "metadata": {
    "slideshow": {
     "slide_type": "slide"
    }
   },
   "outputs": [],
   "source": [
    "qc2 = editor2.circuit\n",
    "\n",
    "qc2.x(2)\n",
    "qc2.measure((2), (0))\n",
    "\n",
    "qc2.draw(output='mpl')"
   ]
  },
  {
   "cell_type": "markdown",
   "metadata": {},
   "source": [
    "We now have created a NOR the negation of an OR, it should be identical to the circuit you constructed yourself in the first exercise. \n",
    "\n",
    "## Composite quantum gates and their cost\n",
    "\n",
    "A real quantum computer normally does not have physical implementations of all gates. Instead they use a small set of base gates, which form a universal gate set, this is, similar to the classical case, a set of instructions which can be used to implement all possible operations.\n",
    "\n",
    "For this reason, quantum circuits must be transpiled into basis gates before execution. This is usually done automatically by Qiskit transpiler when a quantum circuit is sent to a IBM Quantum system. But for the learning purposes, you are expected to construct the circuit by hand using the basis gates. The basis gates for IBM Quantum system is typically CX, ID, RZ, SX and X gates. You can see [`ibmq_mumbai` system](https://quantum-computing.ibm.com/services?skip=0&systems=all&system=ibmq_mumbai) for an example.\n",
    "\n",
    "Now let’s  take a look at the circuit below:"
   ]
  },
  {
   "cell_type": "code",
   "execution_count": null,
   "metadata": {},
   "outputs": [],
   "source": [
    "qc = QuantumCircuit(2)\n",
    "qc.sxdg(0)\n",
    "qc.t(1)\n",
    "qc.draw(output='mpl')"
   ]
  },
  {
   "cell_type": "markdown",
   "metadata": {},
   "source": [
    "Now lets show how a decomposition of the above circuit for a quantum computer, using only the base gates, could look."
   ]
  },
  {
   "cell_type": "code",
   "execution_count": null,
   "metadata": {},
   "outputs": [],
   "source": [
    "qc = QuantumCircuit(2)\n",
    "qc.sx(0)\n",
    "qc.sx(0)\n",
    "qc.sx(0)\n",
    "qc.rz(pi/4,1)\n",
    "qc.draw(output='mpl')"
   ]
  },
  {
   "cell_type": "markdown",
   "metadata": {},
   "source": [
    "As you can see, we now use only the base gates, but for this reason more total gates are used. The more gates a circuit has, the more complex it is to run. So, when we want to calculate the cost of a circuit, we consider the number of gates used. However, not all gates are considered equal expensive, so when we calculate the cost of a circuit, we use the following formula:\n",
    "\n",
    "$$\n",
    "Cost = 10 N_{CNOT} + N_{other}\n",
    "$$\n",
    "\n",
    "where $N_{CNOT}$ is the number of CNOT gate and $N_{other}$ is the number of other gates.\n",
    "\n",
    "### Hadamard gate\n",
    "\n",
    "As said all operations can be expressed just using the base gates. As an example we show how to construct a Hadamard gate using our base gate set. We don't have a base gate which does a direct rotation around the axis that is in the middle of the X-axis and Z-axis, so we instead use rotations around the X-axis and Z-axis to get the same result. \n",
    "\n",
    "Can you guess what rotations we need to do?"
   ]
  },
  {
   "cell_type": "code",
   "execution_count": null,
   "metadata": {},
   "outputs": [],
   "source": [
    "q=QuantumRegister(1)\n",
    "c=ClassicalRegister(1)\n",
    "qc=QuantumCircuit(q,c)\n",
    "qc.rz(pi/2, 0)\n",
    "qc.sx(0)\n",
    "qc.rz(pi/2, 0)\n",
    "qc.draw(output='mpl')"
   ]
  },
  {
   "cell_type": "markdown",
   "metadata": {},
   "source": [
    "As you might remember, this is the circuit we had above, when we visualized the rotation of the RZ gate. Above we saw that the first RZ does nothing, when we are in the $|0\\rangle$ or $|1\\rangle$ states. So it might feel a bit useless. However, if we are in the $|+\\rangle$ and $|-\\rangle$ states the first rotation has an effect. We have the opposite scenario, since after applying the SX gate we are again in the $|0\\rangle$ or $|1\\rangle$ state and then the second RZ has no effect.\n",
    "\n",
    "### Controlled rotation\n",
    "\n",
    "We have seen above the Controlled NOT, lets now show one example on how one can build a controlled rotation around the Y-axis. The rotation $\\theta$ can be any rotation, it does not have to be $\\pi$, this is just an example. "
   ]
  },
  {
   "cell_type": "code",
   "execution_count": null,
   "metadata": {},
   "outputs": [],
   "source": [
    "qc = QuantumCircuit(2)\n",
    "theta = pi # Theta can be anything (pi chosen arbitrarily)\n",
    "qc.ry(theta/2,1)\n",
    "qc.cx(0,1)\n",
    "qc.ry(-theta/2,1)\n",
    "qc.cx(0,1)\n",
    "qc.draw(output='mpl')"
   ]
  },
  {
   "cell_type": "markdown",
   "metadata": {},
   "source": [
    "When one goes through this circuit, one can see that if the first qubit is 0 then the two rotations cancel each other out and nothing happens. \n",
    "\n",
    "On the other hand, if the first qubit is 1 we will get a state which is equal to applying the rotation $\\theta / 2$ two times which forms our initial rotation $\\theta$. This works since the X-axis and Y-axis are orthogonal. \n",
    "\n",
    "<div class=\"alert alert-block alert-danger\">\n",
    "For rotation around other axes you might need to use other tricks.\n",
    "</div>\n",
    "\n",
    "### Controlled controlled rotation\n",
    "\n",
    "Above we saw an example on how one can do a controlled rotation around the $Y$-axis.\n",
    "Now we assume we have a controlled rotation (around the axis we want) and want to build from that a double controlled rotation, which is only applied if both control qubits are 1 similar to the CCX gate."
   ]
  },
  {
   "cell_type": "code",
   "execution_count": null,
   "metadata": {},
   "outputs": [],
   "source": [
    "qc = QuantumCircuit(3)\n",
    "theta = pi # Theta can be anything (pi chosen arbitrarily)\n",
    "qc.cp(theta/2,1,2)\n",
    "qc.cx(0,1)\n",
    "qc.cp(-theta/2,1,2)\n",
    "qc.cx(0,1)\n",
    "qc.cp(theta/2,0,2)\n",
    "qc.draw()"
   ]
  },
  {
   "cell_type": "markdown",
   "metadata": {},
   "source": [
    "In this circuit if both the first and second qubit are 0, then nothing happens at all. If only the second qubit is one, first we apply a rotation by $\\pi/2$ and afterwards a rotation by $-\\pi/2$ which cancel each other out. If only the first qubit is 1, then we the second qubit will also be one after the first CX so a rotation by $-\\pi/2$ will be applied and afterwards a rotation by $\\pi/2$ will be applied and these two rotations cancel each other out again.\n",
    "\n",
    "If both the first and the second qubit are 1 then first there will be a rotation by $\\pi/2$ then the second qubit will become 0 so the next rotation does not apply and then it is flipped back to 1. Afterwards another rotation by $\\pi/2$ is applied since the first qubit is 1. So we have two times a rotation of $\\pi/2$ which form together a rotation of $\\pi$."
   ]
  },
  {
   "cell_type": "markdown",
   "metadata": {},
   "source": [
    "## The problem\n",
    "\n",
    "<div id='problem'></div>\n",
    "<div class=\"alert alert-block alert-success\">\n",
    "\n",
    "We have seen above how to construct a Hadamard gate with our base set, and now we want to build a Toffoli gate as well. Why the Toffoli gate? As mentioned above, the Toffoli gate is also a universal gate for classical computation the same way the NAND gate is, but it is reversible. Further  it builds a simple universal gate set for quantum computation if combined with the Hadamard gate. \n",
    "\n",
    "We have seen some examples on how to express more complex gates using basis gates, we now want to use the knowledge gained to construct a Toffoli gate only using our basis gates. In order to do solve this exercise the above examples on how to construct and use controlled rotations, will come in handy. The biggest challenge is to construct the needed controlled rotations.\n",
    "    \n",
    "You can use the code below using the composer widget to construct your circuit.\n",
    "    \n",
    "</div>\n",
    "\n",
    "\n",
    "<div class=\"alert alert-block alert-danger\">\n",
    "\n",
    "As a reminder the basis gates for IBM Quantum systems are CX, RZ, SX and X gates, so no other gates are allowed.\n",
    "\n",
    "Of course we want also try to minimize the cost. \n",
    "    \n",
    "$$\n",
    "Cost = 10 N_{CNOT} + N_{other}\n",
    "$$\n",
    "    \n",
    "</div>\n"
   ]
  },
  {
   "cell_type": "code",
   "execution_count": null,
   "metadata": {},
   "outputs": [],
   "source": [
    "from qiskit import QuantumRegister, ClassicalRegister, QuantumCircuit\n",
    "from qiskit import IBMQ, Aer, execute\n",
    "from ibm_quantum_widgets import CircuitComposer\n",
    "editorEx = CircuitComposer() \n",
    "editorEx\n",
    "##### Build your quantum circuit here using the composer widget."
   ]
  },
  {
   "cell_type": "code",
   "execution_count": null,
   "metadata": {},
   "outputs": [],
   "source": [
    "# You can also build your circuit programmatically using Qiskit code\n",
    "\n",
    "circuit = QuantumCircuit(3)\n",
    "\n",
    "# WRITE YOUR CODE BETWEEN THESE LINES - START\n",
    "\n",
    "\n",
    "\n",
    "\n",
    "\n",
    "# WRITE YOUR CODE BETWEEN THESE LINES - END"
   ]
  },
  {
   "cell_type": "code",
   "execution_count": null,
   "metadata": {},
   "outputs": [],
   "source": [
    "# Execute the circuit by qasm_simulator\n",
    "qc = editorEx.circuit \n",
    "#qc = circuit # Uncomment this line if you want to submit the circuit built using Qiskit code\n",
    "\n",
    "qc.draw(output='mpl')"
   ]
  },
  {
   "cell_type": "code",
   "execution_count": null,
   "metadata": {},
   "outputs": [],
   "source": [
    "# Check your answer using following code\n",
    "from qc_grader import grade_ex1\n",
    "grade_ex1(qc)"
   ]
  },
  {
   "cell_type": "code",
   "execution_count": null,
   "metadata": {},
   "outputs": [],
   "source": [
    "# Submit your answer. You can re-submit at any time.\n",
    "from qc_grader import submit_ex1\n",
    "submit_ex1(qc)"
   ]
  },
  {
   "cell_type": "markdown",
   "metadata": {},
   "source": [
    "## Additional information\n",
    "\n",
    "**Created by:** Marcel Pfaffhauser, Brahmani Thota, Junye Huang\n",
    "\n",
    "**Version:** 1.0.0"
   ]
  }
 ],
 "metadata": {
  "kernelspec": {
   "display_name": "Python 3",
   "language": "python",
   "name": "python3"
  },
  "language_info": {
   "codemirror_mode": {
    "name": "ipython",
    "version": 3
   },
   "file_extension": ".py",
   "mimetype": "text/x-python",
   "name": "python",
   "nbconvert_exporter": "python",
   "pygments_lexer": "ipython3",
   "version": "3.8.2"
  },
  "widgets": {
   "application/vnd.jupyter.widget-state+json": {
    "state": {
     "005ed033e79e4c91906ce462f1d08f39": {
      "model_module": "@quantum/ibm-q-lab-widgets",
      "model_module_version": "^1.0.3",
      "model_name": "CircuitComposerModel",
      "state": {
       "_model_module_version": "^1.0.3",
       "_view_module_version": "^1.0.3",
       "circuit": "\"OPENQASM 2.0;\\ninclude \\\"qelib1.inc\\\";\\n\\nqreg q[1];\\n\\nrz(pi/2) q[0];\\nsx q[0];\\nrz(pi/2) q[0];\"",
       "editable": true,
       "layout": "IPY_MODEL_b645d55afc6649dd807e38ab30da764b",
       "qiskit_code_cell_index": -1
      }
     },
     "00687b8b531246e18e62ef79ad5c6970": {
      "model_module": "@jupyter-widgets/controls",
      "model_module_version": "1.5.0",
      "model_name": "DescriptionStyleModel",
      "state": {
       "description_width": ""
      }
     },
     "006a465b0969400c8b27c83965d6e5fd": {
      "model_module": "@jupyter-widgets/controls",
      "model_module_version": "1.5.0",
      "model_name": "DescriptionStyleModel",
      "state": {
       "description_width": ""
      }
     },
     "00a937f8db7d46bf8d5069e36be30898": {
      "model_module": "@jupyter-widgets/controls",
      "model_module_version": "1.5.0",
      "model_name": "HTMLModel",
      "state": {
       "layout": "IPY_MODEL_2c06893d8e4d4ab8bddea3ac23076c37",
       "style": "IPY_MODEL_c88cdfec06954233bc054aaf4cba9576",
       "value": "<p style='font-family: IBM Plex Sans, Arial, Helvetica, sans-serif; font-size: 20px; font-weight: medium;'>Circuit Properties</p>"
      }
     },
     "00fec089e9a247ee81746cd2e8672b95": {
      "model_module": "@jupyter-widgets/controls",
      "model_module_version": "1.5.0",
      "model_name": "DescriptionStyleModel",
      "state": {
       "description_width": ""
      }
     },
     "0110afce174844c9b3cadfb724091721": {
      "model_module": "@quantum/ibm-q-lab-widgets",
      "model_module_version": "^1.0.3",
      "model_name": "CircuitComposerModel",
      "state": {
       "_model_module_version": "^1.0.3",
       "_view_module_version": "^1.0.3",
       "circuit": "\"OPENQASM 2.0;\\ninclude \\\"qelib1.inc\\\";\\n\\nqreg q[3];\\ncreg c[3];\\n\\n\"",
       "editable": true,
       "layout": "IPY_MODEL_4f5a6b0a58964ec39418de154fe26573",
       "qiskit_code_cell_index": -1
      }
     },
     "01c879086b934219b29d792417520512": {
      "model_module": "@jupyter-widgets/base",
      "model_module_version": "1.2.0",
      "model_name": "LayoutModel",
      "state": {
       "width": "145px"
      }
     },
     "01ec1d1813484c968dbcca4b508b99e4": {
      "model_module": "@jupyter-widgets/base",
      "model_module_version": "1.2.0",
      "model_name": "LayoutModel",
      "state": {
       "grid_template_areas": "\n                                       \". . . . right \"\n                                        ",
       "grid_template_columns": "20% 20% 20% 20% 20%",
       "width": "100%"
      }
     },
     "020d9c6ddd9a4f4eaa95e3627f4f211e": {
      "model_module": "@jupyter-widgets/base",
      "model_module_version": "1.2.0",
      "model_name": "LayoutModel",
      "state": {}
     },
     "02aee6b7777c41c5989acace1c0973bd": {
      "model_module": "@jupyter-widgets/base",
      "model_module_version": "1.2.0",
      "model_name": "LayoutModel",
      "state": {
       "width": "70px"
      }
     },
     "030a012c6ecd4829857f874f5abcae9f": {
      "model_module": "@jupyter-widgets/base",
      "model_module_version": "1.2.0",
      "model_name": "LayoutModel",
      "state": {
       "grid_area": "right",
       "padding": "0px 0px 0px 0px",
       "width": "70px"
      }
     },
     "0345bc4b7b3747dab426bb2d459c2cf5": {
      "model_module": "@jupyter-widgets/controls",
      "model_module_version": "1.5.0",
      "model_name": "HBoxModel",
      "state": {
       "children": [
        "IPY_MODEL_54efbfd8da3447b3b19543ec279e915b",
        "IPY_MODEL_2cc38e474f8b4e2d92366b1db0afbdc0",
        "IPY_MODEL_e58ce75f933d4be3bfcac31727c0e302",
        "IPY_MODEL_96d5c6d26c994fc19a437928578a9b8d",
        "IPY_MODEL_4b884917539c49feaf716e2f58ae1bb3"
       ],
       "layout": "IPY_MODEL_e5bc9438b0974491a248e55d6fa86515"
      }
     },
     "058c0ab1f10246ce985c0d6923f85ea6": {
      "model_module": "@jupyter-widgets/base",
      "model_module_version": "1.2.0",
      "model_name": "LayoutModel",
      "state": {
       "grid_template_areas": "\n                                       \". . . . right \"\n                                        ",
       "grid_template_columns": "20% 20% 20% 20% 20%",
       "width": "100%"
      }
     },
     "058e7134ba8d42448de67dec87d4f5f5": {
      "model_module": "@quantum/ibm-q-lab-widgets",
      "model_module_version": "^1.0.3",
      "model_name": "CircuitComposerModel",
      "state": {
       "_model_module_version": "^1.0.3",
       "_view_module_version": "^1.0.3",
       "circuit": "\"OPENQASM 2.0;\\ninclude \\\"qelib1.inc\\\";\\n\\nqreg q[3];\\ncreg c[3];\\n\\ncx q[0],q[1];\\ncx q[1],q[0];\\ncx q[0],q[1];\\nrz(pi) q[2];\"",
       "editable": true,
       "layout": "IPY_MODEL_e61dea173c9a4870a47e6a93f3be63b9",
       "qiskit_code_cell_index": 58
      }
     },
     "0631a355ddda42ef83569e488403b044": {
      "model_module": "@jupyter-widgets/controls",
      "model_module_version": "1.5.0",
      "model_name": "ButtonStyleModel",
      "state": {}
     },
     "06e37e6a43f14b90a29ed82464f87774": {
      "model_module": "@jupyter-widgets/controls",
      "model_module_version": "1.5.0",
      "model_name": "HTMLModel",
      "state": {
       "layout": "IPY_MODEL_e80410c2c9264536aef853f7f4964a35",
       "style": "IPY_MODEL_78c05694575a4c6d843467f766cb5ceb",
       "value": "<h5>Backend</h5>"
      }
     },
     "06e4de917d1b4c46bc108eacc4daee76": {
      "model_module": "@quantum/ibm-q-lab-widgets",
      "model_module_version": "^1.0.3",
      "model_name": "CircuitComposerModel",
      "state": {
       "_model_module_version": "^1.0.3",
       "_view_module_version": "^1.0.3",
       "circuit": "\"OPENQASM 2.0;\\ninclude \\\"qelib1.inc\\\";\\n\\nqreg q[3];\\ncreg c[3];\\n\\n\"",
       "editable": true,
       "layout": "IPY_MODEL_11ede97ae89842c6b1732fd28f999ed8",
       "qiskit_code_cell_index": -1
      }
     },
     "070fe16ae3524f3e9e9fbaaf9e43e662": {
      "model_module": "@quantum/ibm-q-lab-widgets",
      "model_module_version": "^1.0.3",
      "model_name": "CircuitComposerModel",
      "state": {
       "_model_module_version": "^1.0.3",
       "_view_module_version": "^1.0.3",
       "circuit": "\"OPENQASM 2.0;\\ninclude \\\"qelib1.inc\\\";\\n\\nqreg q[3];\\ncreg c[3];\\n\\nswap q[0],q[1];\\nrz(pi/2) q[2];\"",
       "editable": true,
       "layout": "IPY_MODEL_74519cce23de44ca8ee162293804ce2c",
       "qiskit_code_cell_index": 54
      }
     },
     "071b8b592b2b4ba987a324d459eeb994": {
      "model_module": "@jupyter-widgets/base",
      "model_module_version": "1.2.0",
      "model_name": "LayoutModel",
      "state": {
       "margin": "0px 0px 10px 0px"
      }
     },
     "07fd227e7fcf4dd1860ffb8ebd34b4d2": {
      "model_module": "@jupyter-widgets/controls",
      "model_module_version": "1.5.0",
      "model_name": "DescriptionStyleModel",
      "state": {
       "description_width": ""
      }
     },
     "085e7fb517c245eaa3d75b078c0e1751": {
      "model_module": "@quantum/ibm-q-lab-widgets",
      "model_module_version": "^1.0.3",
      "model_name": "CircuitComposerModel",
      "state": {
       "_model_module_version": "^1.0.3",
       "_view_module_version": "^1.0.3",
       "circuit": "\"OPENQASM 2.0;\\ninclude \\\"qelib1.inc\\\";\\n\\nqreg q[3];\\ncreg c[3];\\n\\n\"",
       "editable": true,
       "layout": "IPY_MODEL_d396a016b63543358b93758839379b62",
       "qiskit_code_cell_index": -1
      }
     },
     "091123743b774ed39186e57d7a6db20a": {
      "model_module": "@jupyter-widgets/base",
      "model_module_version": "1.2.0",
      "model_name": "LayoutModel",
      "state": {}
     },
     "098146a76288479d8f34020f737f6605": {
      "model_module": "@jupyter-widgets/base",
      "model_module_version": "1.2.0",
      "model_name": "LayoutModel",
      "state": {}
     },
     "09b693d891784d9c99a637ec1f37b4b8": {
      "model_module": "@quantum/ibm-q-lab-widgets",
      "model_module_version": "^1.0.3",
      "model_name": "CircuitComposerModel",
      "state": {
       "_model_module_version": "^1.0.3",
       "_view_module_version": "^1.0.3",
       "circuit": "\"OPENQASM 2.0;\\ninclude \\\"qelib1.inc\\\";\\n\\nqreg q[3];\\ncreg c[3];\\n\\n\"",
       "editable": true,
       "layout": "IPY_MODEL_7b8426cc9f7244c98a8c22eca9c9eb18",
       "qiskit_code_cell_index": -1
      }
     },
     "09df53fcfd534ea3ac0ac8d3eba69d85": {
      "model_module": "@jupyter-widgets/controls",
      "model_module_version": "1.5.0",
      "model_name": "DescriptionStyleModel",
      "state": {
       "description_width": ""
      }
     },
     "09e29575306f418b92d9a2c28662e772": {
      "model_module": "@jupyter-widgets/base",
      "model_module_version": "1.2.0",
      "model_name": "LayoutModel",
      "state": {
       "grid_area": "right",
       "padding": "0px 0px 0px 0px",
       "width": "70px"
      }
     },
     "0a0e1409d8fc4c22be026b67930a0cd4": {
      "model_module": "@jupyter-widgets/controls",
      "model_module_version": "1.5.0",
      "model_name": "HTMLModel",
      "state": {
       "layout": "IPY_MODEL_57e0ccc3cf694508933fdb6e66835851",
       "style": "IPY_MODEL_9ed9590323aa46688e2ba31f633e3f78",
       "value": "<h5>Message</h5>"
      }
     },
     "0ab79d11ac1f44dfbbf2bafdac27f926": {
      "model_module": "@jupyter-widgets/controls",
      "model_module_version": "1.5.0",
      "model_name": "HBoxModel",
      "state": {
       "children": [
        "IPY_MODEL_4700a02cfb7b4ac39225242433cd7711",
        "IPY_MODEL_25192d15e13a4389a20ff624c2705f55",
        "IPY_MODEL_16ae250874e04ab4b4bd906333443214",
        "IPY_MODEL_b445f0e465864ce282896f13ec86a2b1",
        "IPY_MODEL_1c050fce70034ed7bab1bc571055a895"
       ],
       "layout": "IPY_MODEL_8b3a8e1e875840d1b5f26a70860cfb00"
      }
     },
     "0ac17f4552964785bbd1e7a39d02c9aa": {
      "model_module": "@quantum/ibm-q-lab-widgets",
      "model_module_version": "^1.0.3",
      "model_name": "CircuitComposerModel",
      "state": {
       "_model_module_version": "^1.0.3",
       "_view_module_version": "^1.0.3",
       "circuit": "\"OPENQASM 2.0;\\ninclude \\\"qelib1.inc\\\";\\n\\nqreg q[3];\\ncreg c[1];\\n\\ncx q[1],q[2];\\ncx q[0],q[2];\\nccx q[0],q[1],q[2];\\nmeasure q[2] -> c[0];\"",
       "editable": true,
       "layout": "IPY_MODEL_f0d64f6e58414d33b497548bf8504e8a",
       "qiskit_code_cell_index": -1
      }
     },
     "0bea43da5d56445a88974e61b66c52be": {
      "model_module": "@jupyter-widgets/controls",
      "model_module_version": "1.5.0",
      "model_name": "DescriptionStyleModel",
      "state": {
       "description_width": ""
      }
     },
     "0c2790117be5423b9b19274d3a3c386a": {
      "model_module": "@jupyter-widgets/base",
      "model_module_version": "1.2.0",
      "model_name": "LayoutModel",
      "state": {}
     },
     "0c6085a10676474d9df1193395266c46": {
      "model_module": "@jupyter-widgets/base",
      "model_module_version": "1.2.0",
      "model_name": "LayoutModel",
      "state": {}
     },
     "0d31fd6aff07413bbc087ef5b2b80573": {
      "model_module": "@jupyter-widgets/base",
      "model_module_version": "1.2.0",
      "model_name": "LayoutModel",
      "state": {
       "width": "95px"
      }
     },
     "0d95e1d0d2f648b98d76d1b28dfb392e": {
      "model_module": "@jupyter-widgets/controls",
      "model_module_version": "1.5.0",
      "model_name": "GridBoxModel",
      "state": {
       "children": [
        "IPY_MODEL_b09c4aebd3c04d00ba6c15ccca3c0bf5"
       ],
       "layout": "IPY_MODEL_3260ea3536cd441184144a0e2ec4488a"
      }
     },
     "0da50320e5bd46b3aa7042daf06cab2b": {
      "model_module": "@jupyter-widgets/base",
      "model_module_version": "1.2.0",
      "model_name": "LayoutModel",
      "state": {
       "margin": "0px 0px 0px 37px",
       "width": "600px"
      }
     },
     "0e4467ae7db249a1a33c46d2b9b495bc": {
      "model_module": "@quantum/ibm-q-lab-widgets",
      "model_module_version": "^1.0.3",
      "model_name": "CircuitComposerModel",
      "state": {
       "_model_module_version": "^1.0.3",
       "_view_module_version": "^1.0.3",
       "circuit": "\"OPENQASM 2.0;\\ninclude \\\"qelib1.inc\\\";\\n\\nqreg q29[3];\\ncreg c2[3];\\n\\ncx q29[1],q29[2];\\ncx q29[0],q29[2];\\nccx q29[0],q29[1],q29[2];\\nmeasure q29[2] -> c2[0];\"",
       "editable": true,
       "layout": "IPY_MODEL_3fb4a8913a5049b09d3d417371eccb3c",
       "qiskit_code_cell_index": -1
      }
     },
     "0fdff5dfd0fa447480de43a89a8d0f6a": {
      "model_module": "@jupyter-widgets/base",
      "model_module_version": "1.2.0",
      "model_name": "LayoutModel",
      "state": {
       "grid_area": "right",
       "padding": "0px 0px 0px 0px",
       "width": "70px"
      }
     },
     "0ff22eb9feaf477bbc7a94460d34f8ff": {
      "model_module": "@jupyter-widgets/base",
      "model_module_version": "1.2.0",
      "model_name": "LayoutModel",
      "state": {}
     },
     "115e321a54064c15af84960de9afcd39": {
      "model_module": "@jupyter-widgets/controls",
      "model_module_version": "1.5.0",
      "model_name": "HTMLModel",
      "state": {
       "layout": "IPY_MODEL_18b47e3100be465abf040e6e432af411",
       "style": "IPY_MODEL_f656da7b0e564e1eb512c2058b0bdc65",
       "value": "<h5>Queue</h5>"
      }
     },
     "118b63139f6a449e91afa426c715f9ca": {
      "model_module": "@jupyter-widgets/controls",
      "model_module_version": "1.5.0",
      "model_name": "DescriptionStyleModel",
      "state": {
       "description_width": ""
      }
     },
     "11ede97ae89842c6b1732fd28f999ed8": {
      "model_module": "@jupyter-widgets/base",
      "model_module_version": "1.2.0",
      "model_name": "LayoutModel",
      "state": {}
     },
     "126994084b7f4f81bdff9facbcd3bddb": {
      "model_module": "@quantum/ibm-q-lab-widgets",
      "model_module_version": "^1.0.3",
      "model_name": "CircuitComposerModel",
      "state": {
       "_model_module_version": "^1.0.3",
       "_view_module_version": "^1.0.3",
       "circuit": "\"OPENQASM 2.0;\\ninclude \\\"qelib1.inc\\\";\\n\\nqreg q2[3];\\ncreg c2[3];\\n\\ncx q2[1],q2[2];\\ncx q2[0],q2[2];\\nccx q2[0],q2[1],q2[2];\\nmeasure q2[2] -> c2[0];\\nx q2[2];\\nmeasure q2[2] -> c2[0];\"",
       "editable": true,
       "layout": "IPY_MODEL_4c5850b093234f35bf5afe995313fe91",
       "qiskit_code_cell_index": -1
      }
     },
     "131291ce9e3f45fc82895be047bf656e": {
      "model_module": "@quantum/ibm-q-lab-widgets",
      "model_module_version": "^1.0.3",
      "model_name": "CircuitComposerModel",
      "state": {
       "_model_module_version": "^1.0.3",
       "_view_module_version": "^1.0.3",
       "circuit": "\"OPENQASM 2.0;\\ninclude \\\"qelib1.inc\\\";\\n\\nqreg q[3];\\ncreg c[3];\\n\\n\"",
       "editable": true,
       "layout": "IPY_MODEL_ece0b69da4ef42e89e2399b90ef89a51",
       "qiskit_code_cell_index": -1
      }
     },
     "148d5853e7934d2eaa27c5607540d375": {
      "model_module": "@quantum/ibm-q-lab-widgets",
      "model_module_version": "^1.0.3",
      "model_name": "CircuitComposerModel",
      "state": {
       "_model_module_version": "^1.0.3",
       "_view_module_version": "^1.0.3",
       "circuit": "\"OPENQASM 2.0;\\ninclude \\\"qelib1.inc\\\";\\n\\nqreg q0[3];\\ncreg c0[3];\\n\\ncx q0[1],q0[2];\\ncx q0[0],q0[2];\\nccx q0[0],q0[1],q0[2];\"",
       "editable": true,
       "layout": "IPY_MODEL_baf8a86c6f7c4fd98bf0e0f0ea0aa3cb",
       "qiskit_code_cell_index": -1
      }
     },
     "148dbc5ca6d54610a7cae53105d55710": {
      "model_module": "@jupyter-widgets/controls",
      "model_module_version": "1.5.0",
      "model_name": "ButtonStyleModel",
      "state": {}
     },
     "14ca63ea4128479da9f01354ea081f79": {
      "model_module": "@jupyter-widgets/controls",
      "model_module_version": "1.5.0",
      "model_name": "HTMLModel",
      "state": {
       "layout": "IPY_MODEL_8568082cdd16496d851d248b56d69d2c",
       "style": "IPY_MODEL_5158b4f4b69c4af89080e709bc5a3a2f",
       "value": "<h5>Job ID</h5>"
      }
     },
     "14e8c2acb28b48479a3f576feb0c0a75": {
      "model_module": "@jupyter-widgets/controls",
      "model_module_version": "1.5.0",
      "model_name": "HTMLModel",
      "state": {
       "layout": "IPY_MODEL_30488cbcf7d34bae82270607d5513607",
       "style": "IPY_MODEL_b4c22c7c95864dfc9209e214aac7ccf8",
       "value": "<h5>Job ID</h5>"
      }
     },
     "1555d2ac5d1c4c93a2c43c5fc1189ac0": {
      "model_module": "@jupyter-widgets/base",
      "model_module_version": "1.2.0",
      "model_name": "LayoutModel",
      "state": {}
     },
     "157664f9cd124216918b16ca4a323852": {
      "model_module": "@jupyter-widgets/base",
      "model_module_version": "1.2.0",
      "model_name": "LayoutModel",
      "state": {
       "width": "70px"
      }
     },
     "1690149b711b40619ce096d9bf256b0b": {
      "model_module": "@jupyter-widgets/controls",
      "model_module_version": "1.5.0",
      "model_name": "HTMLModel",
      "state": {
       "layout": "IPY_MODEL_ab588bab3fce4010917bbdd2666df29b",
       "style": "IPY_MODEL_5d49d5dc262f49b5b489d94e32d0e3eb",
       "value": "<h5>Status</h5>"
      }
     },
     "16ae250874e04ab4b4bd906333443214": {
      "model_module": "@jupyter-widgets/controls",
      "model_module_version": "1.5.0",
      "model_name": "HTMLModel",
      "state": {
       "layout": "IPY_MODEL_ee01cfa5318f49bbb51da895d9cbfe98",
       "style": "IPY_MODEL_8c8ebb9ab7814f49b7f124610764c2a1",
       "value": "<h5>Status</h5>"
      }
     },
     "173a109f9c714f3f9bbbf01294cc4a4b": {
      "model_module": "@jupyter-widgets/controls",
      "model_module_version": "1.5.0",
      "model_name": "DescriptionStyleModel",
      "state": {
       "description_width": ""
      }
     },
     "17f077333f584b6fa33d45902be16c2d": {
      "model_module": "@quantum/ibm-q-lab-widgets",
      "model_module_version": "^1.0.3",
      "model_name": "CircuitComposerModel",
      "state": {
       "_model_module_version": "^1.0.3",
       "_view_module_version": "^1.0.3",
       "circuit": "\"OPENQASM 2.0;\\ninclude \\\"qelib1.inc\\\";\\n\\nqreg q[3];\\ncreg c[3];\\n\\n\"",
       "editable": true,
       "layout": "IPY_MODEL_be615fa4e37f46f4b2bd64f94695d231",
       "qiskit_code_cell_index": -1
      }
     },
     "18446bda42004779b833ddc7297f73d5": {
      "model_module": "@jupyter-widgets/base",
      "model_module_version": "1.2.0",
      "model_name": "LayoutModel",
      "state": {}
     },
     "18a91f3d40c4476b8b1891c2bfd3e25d": {
      "model_module": "@quantum/ibm-q-lab-widgets",
      "model_module_version": "^1.0.3",
      "model_name": "CircuitComposerModel",
      "state": {
       "_model_module_version": "^1.0.3",
       "_view_module_version": "^1.0.3",
       "circuit": "\"OPENQASM 2.0;\\ninclude \\\"qelib1.inc\\\";\\n\\nqreg q[3];\\ncreg c[3];\\n\\nswap q[0],q[1];\\nz q[2];\"",
       "editable": true,
       "layout": "IPY_MODEL_3c34729028824a69ab2e3998c1c73b89",
       "qiskit_code_cell_index": 54
      }
     },
     "18b47e3100be465abf040e6e432af411": {
      "model_module": "@jupyter-widgets/base",
      "model_module_version": "1.2.0",
      "model_name": "LayoutModel",
      "state": {
       "width": "70px"
      }
     },
     "190ab006afe144f38c0f9abe87812c1c": {
      "model_module": "@jupyter-widgets/base",
      "model_module_version": "1.2.0",
      "model_name": "LayoutModel",
      "state": {}
     },
     "19a85304b4f2488fa6d1714369f1e0a9": {
      "model_module": "@quantum/ibm-q-lab-widgets",
      "model_module_version": "^1.0.3",
      "model_name": "CircuitComposerModel",
      "state": {
       "_model_module_version": "^1.0.3",
       "_view_module_version": "^1.0.3",
       "circuit": "\"OPENQASM 2.0;\\ninclude \\\"qelib1.inc\\\";\\n\\nqreg q[3];\\ncreg c[3];\\n\\n\"",
       "editable": true,
       "layout": "IPY_MODEL_be119dbd25db4e1bae2fc6935a3478a3",
       "qiskit_code_cell_index": -1
      }
     },
     "19b8d73ac1f749e09104efdee38f636f": {
      "model_module": "@jupyter-widgets/base",
      "model_module_version": "1.2.0",
      "model_name": "LayoutModel",
      "state": {
       "width": "190px"
      }
     },
     "1ae18da521ee4927b3438a6a5e76ba9e": {
      "model_module": "@jupyter-widgets/base",
      "model_module_version": "1.2.0",
      "model_name": "LayoutModel",
      "state": {
       "width": "95px"
      }
     },
     "1b3f60623c0e4faaa16c2594c6f052e5": {
      "model_module": "@jupyter-widgets/controls",
      "model_module_version": "1.5.0",
      "model_name": "GridBoxModel",
      "state": {
       "children": [
        "IPY_MODEL_c6ab8065cab84bf6b7252daeabe56432"
       ],
       "layout": "IPY_MODEL_90b0ee9a82e741008e8569543d914998"
      }
     },
     "1b72d96987b74aa880eebf6aabc2a993": {
      "model_module": "@jupyter-widgets/controls",
      "model_module_version": "1.5.0",
      "model_name": "HTMLModel",
      "state": {
       "layout": "IPY_MODEL_852c60eab2d74300b9014d1e064ccacc",
       "style": "IPY_MODEL_df04f5479d67433cb432e45f7a35cecb",
       "value": "<h5>Job ID</h5>"
      }
     },
     "1bb0bd14b17c43fdb984eb3c70c2cef6": {
      "model_module": "@jupyter-widgets/base",
      "model_module_version": "1.2.0",
      "model_name": "LayoutModel",
      "state": {}
     },
     "1bdc1f0e036e4e28b74d6d141034bfe8": {
      "model_module": "@quantum/ibm-q-lab-widgets",
      "model_module_version": "^1.0.3",
      "model_name": "CircuitComposerModel",
      "state": {
       "_model_module_version": "^1.0.3",
       "_view_module_version": "^1.0.3",
       "circuit": "\"OPENQASM 2.0;\\ninclude \\\"qelib1.inc\\\";\\n\\nqreg q[3];\\ncreg c[3];\\n\\n\"",
       "editable": true,
       "layout": "IPY_MODEL_3008efe61d4e4458a8deb713662f4e8e",
       "qiskit_code_cell_index": -1
      }
     },
     "1c050fce70034ed7bab1bc571055a895": {
      "model_module": "@jupyter-widgets/controls",
      "model_module_version": "1.5.0",
      "model_name": "HTMLModel",
      "state": {
       "layout": "IPY_MODEL_8b98c82060564483b39a625bdccd5376",
       "style": "IPY_MODEL_7da40d40aaf44de5bee9dde02e9d3ae5",
       "value": "<h5>Message</h5>"
      }
     },
     "1c3b669f5cb7414782648203af7c1ff7": {
      "model_module": "@jupyter-widgets/base",
      "model_module_version": "1.2.0",
      "model_name": "LayoutModel",
      "state": {}
     },
     "1c8068c149294210bb3ca556b2573ee4": {
      "model_module": "@jupyter-widgets/base",
      "model_module_version": "1.2.0",
      "model_name": "LayoutModel",
      "state": {
       "width": "70px"
      }
     },
     "1cba501f75bd4a2da9f0fbe8ce460347": {
      "model_module": "@quantum/ibm-q-lab-widgets",
      "model_module_version": "^1.0.3",
      "model_name": "CircuitComposerModel",
      "state": {
       "_model_module_version": "^1.0.3",
       "_view_module_version": "^1.0.3",
       "circuit": "\"OPENQASM 2.0;\\ninclude \\\"qelib1.inc\\\";\\n\\nqreg q4[3];\\ncreg c3[3];\\n\\ncx q4[1],q4[2];\\ncx q4[0],q4[2];\\nccx q4[0],q4[1],q4[2];\"",
       "editable": true,
       "layout": "IPY_MODEL_3e431b46e6564178a35fee7efc7bd715",
       "qiskit_code_cell_index": 47
      }
     },
     "1d98343600cd4098b9b788327fe207ff": {
      "model_module": "@jupyter-widgets/controls",
      "model_module_version": "1.5.0",
      "model_name": "HTMLModel",
      "state": {
       "layout": "IPY_MODEL_e7cc84e132ee485d935102b3c198d255",
       "style": "IPY_MODEL_71b76fdeebd543f2a86f657a6e7a31c9",
       "value": "<h5>Status</h5>"
      }
     },
     "1f31aa46a28643fbab939ce5970ead46": {
      "model_module": "@jupyter-widgets/controls",
      "model_module_version": "1.5.0",
      "model_name": "HTMLModel",
      "state": {
       "layout": "IPY_MODEL_19b8d73ac1f749e09104efdee38f636f",
       "style": "IPY_MODEL_31409a0d8ce24aa2809310106b643add",
       "value": "<h5>Job ID</h5>"
      }
     },
     "1fcda1a45e3e47b0b03746787b6eec9e": {
      "model_module": "@jupyter-widgets/controls",
      "model_module_version": "1.5.0",
      "model_name": "DescriptionStyleModel",
      "state": {
       "description_width": ""
      }
     },
     "205d43046c3a467fae0274b728c28fb7": {
      "model_module": "@jupyter-widgets/base",
      "model_module_version": "1.2.0",
      "model_name": "LayoutModel",
      "state": {
       "width": "70px"
      }
     },
     "2066912682fe43fa90445fe370a1da17": {
      "model_module": "@jupyter-widgets/controls",
      "model_module_version": "1.5.0",
      "model_name": "HTMLModel",
      "state": {
       "layout": "IPY_MODEL_0d31fd6aff07413bbc087ef5b2b80573",
       "style": "IPY_MODEL_aff87702f540424da09390ab205e01ae",
       "value": "<h5>Status</h5>"
      }
     },
     "20a1cc7a64da45599e25f0f717b7fa9b": {
      "model_module": "@jupyter-widgets/base",
      "model_module_version": "1.2.0",
      "model_name": "LayoutModel",
      "state": {}
     },
     "20ad527cae0742dcb69e548ff04ba59c": {
      "model_module": "@jupyter-widgets/controls",
      "model_module_version": "1.5.0",
      "model_name": "DescriptionStyleModel",
      "state": {
       "description_width": ""
      }
     },
     "2306d7980f53425ca9f65282852911db": {
      "model_module": "@quantum/ibm-q-lab-widgets",
      "model_module_version": "^1.0.3",
      "model_name": "CircuitComposerModel",
      "state": {
       "_model_module_version": "^1.0.3",
       "_view_module_version": "^1.0.3",
       "circuit": "\"OPENQASM 2.0;\\ninclude \\\"qelib1.inc\\\";\\n\\nqreg q[3];\\ncreg c[3];\\n\\n\"",
       "editable": true,
       "layout": "IPY_MODEL_53a3f392a64b4b16907ba5432fbd75ba",
       "qiskit_code_cell_index": -1
      }
     },
     "23179b1b37c14621b715b07cddce4ea6": {
      "model_module": "@jupyter-widgets/base",
      "model_module_version": "1.2.0",
      "model_name": "LayoutModel",
      "state": {}
     },
     "24b2811721fb477786959cc922d47fac": {
      "model_module": "@jupyter-widgets/base",
      "model_module_version": "1.2.0",
      "model_name": "LayoutModel",
      "state": {
       "grid_area": "right",
       "padding": "0px 0px 0px 0px",
       "width": "70px"
      }
     },
     "24c870a8c65440a78e05286f3b64f13f": {
      "model_module": "@jupyter-widgets/controls",
      "model_module_version": "1.5.0",
      "model_name": "HTMLModel",
      "state": {
       "layout": "IPY_MODEL_8ec78aac5d1449279de38faad5b8dd76",
       "style": "IPY_MODEL_7e216fc602244fb28f7b12c242a55747",
       "value": "<h5>Job ID</h5>"
      }
     },
     "25192d15e13a4389a20ff624c2705f55": {
      "model_module": "@jupyter-widgets/controls",
      "model_module_version": "1.5.0",
      "model_name": "HTMLModel",
      "state": {
       "layout": "IPY_MODEL_7fb7467660ba4818b224a760bf18d2d4",
       "style": "IPY_MODEL_00687b8b531246e18e62ef79ad5c6970",
       "value": "<h5>Backend</h5>"
      }
     },
     "258eae7128724a828fd604a4df2853d7": {
      "model_module": "@jupyter-widgets/base",
      "model_module_version": "1.2.0",
      "model_name": "LayoutModel",
      "state": {
       "margin": "0px 0px 0px 37px",
       "width": "600px"
      }
     },
     "25a2771bfc724c4485ce18e45e93e148": {
      "model_module": "@jupyter-widgets/base",
      "model_module_version": "1.2.0",
      "model_name": "LayoutModel",
      "state": {}
     },
     "264de026736c4158b88c260d5ad43c67": {
      "model_module": "@jupyter-widgets/base",
      "model_module_version": "1.2.0",
      "model_name": "LayoutModel",
      "state": {
       "grid_template_areas": "\n                                       \". . . . right \"\n                                        ",
       "grid_template_columns": "20% 20% 20% 20% 20%",
       "width": "100%"
      }
     },
     "26a0a8fe3fac4463b480b23e2ce39eba": {
      "model_module": "@jupyter-widgets/controls",
      "model_module_version": "1.5.0",
      "model_name": "HTMLModel",
      "state": {
       "layout": "IPY_MODEL_3ee74cc8d36c4e5391415f79be6aa2fd",
       "style": "IPY_MODEL_626bcbf09ded4e12afa57f4a476189b0",
       "value": "<p style='font-family: IBM Plex Sans, Arial, Helvetica, sans-serif; font-size: 20px; font-weight: medium;'>Circuit Properties</p>"
      }
     },
     "26ca92d21d6149828724dd6d4b588389": {
      "model_module": "@jupyter-widgets/controls",
      "model_module_version": "1.5.0",
      "model_name": "ButtonModel",
      "state": {
       "button_style": "primary",
       "description": "Clear",
       "layout": "IPY_MODEL_50b875d9ab2d4acaa815061f478fbf47",
       "style": "IPY_MODEL_b08b187f73454353a24f8751a6892126"
      }
     },
     "26cb2ef0ef144ba299224d37e4b427bd": {
      "model_module": "@jupyter-widgets/controls",
      "model_module_version": "1.5.0",
      "model_name": "DescriptionStyleModel",
      "state": {
       "description_width": ""
      }
     },
     "26cbbc69c88e4e8b83105bf0cdf77a86": {
      "model_module": "@jupyter-widgets/base",
      "model_module_version": "1.2.0",
      "model_name": "LayoutModel",
      "state": {}
     },
     "26e3aaa102d345c8ae70a39dbe56c7f1": {
      "model_module": "@jupyter-widgets/base",
      "model_module_version": "1.2.0",
      "model_name": "LayoutModel",
      "state": {
       "margin": "0px 0px 10px 0px"
      }
     },
     "275e96c24bb045cdaeb001306313a482": {
      "model_module": "@jupyter-widgets/base",
      "model_module_version": "1.2.0",
      "model_name": "LayoutModel",
      "state": {
       "margin": "0px 0px 10px 0px"
      }
     },
     "277b45ec464a4ee9b89fe8eadf3a2b15": {
      "model_module": "@quantum/ibm-q-lab-widgets",
      "model_module_version": "^1.0.3",
      "model_name": "CircuitComposerModel",
      "state": {
       "_model_module_version": "^1.0.3",
       "_view_module_version": "^1.0.3",
       "circuit": "\"OPENQASM 2.0;\\ninclude \\\"qelib1.inc\\\";\\n\\nqreg q[3];\\ncreg c[3];\\n\\n\"",
       "editable": true,
       "layout": "IPY_MODEL_020d9c6ddd9a4f4eaa95e3627f4f211e",
       "qiskit_code_cell_index": -1
      }
     },
     "2853186d26fc4485bc9b3becd6b6d591": {
      "model_module": "@quantum/ibm-q-lab-widgets",
      "model_module_version": "^1.0.3",
      "model_name": "CircuitComposerModel",
      "state": {
       "_model_module_version": "^1.0.3",
       "_view_module_version": "^1.0.3",
       "circuit": "\"OPENQASM 2.0;\\ninclude \\\"qelib1.inc\\\";\\n\\nqreg q[3];\\ncreg c[3];\\n\\n\"",
       "editable": true,
       "layout": "IPY_MODEL_62c3c65bf4b641df91023a0da1721604",
       "qiskit_code_cell_index": -1
      }
     },
     "28774d699ac64c6f8080058a12362bb3": {
      "model_module": "@jupyter-widgets/controls",
      "model_module_version": "1.5.0",
      "model_name": "DescriptionStyleModel",
      "state": {
       "description_width": ""
      }
     },
     "28b34ea527e348f18b88558bdddc0e1b": {
      "model_module": "@jupyter-widgets/base",
      "model_module_version": "1.2.0",
      "model_name": "LayoutModel",
      "state": {
       "grid_template_areas": "\n                                       \". . . . right \"\n                                        ",
       "grid_template_columns": "20% 20% 20% 20% 20%",
       "width": "100%"
      }
     },
     "2a0fc29ac3d44f4c9b57e3851cffb1d1": {
      "model_module": "@jupyter-widgets/controls",
      "model_module_version": "1.5.0",
      "model_name": "HTMLModel",
      "state": {
       "layout": "IPY_MODEL_ff65bb72e7dd4615a2fd83de47a80910",
       "style": "IPY_MODEL_3e99420eef28485cb78daaf45616a10e",
       "value": "<h5>Backend</h5>"
      }
     },
     "2af0523c340145e1bfd0029d8ad6a853": {
      "model_module": "@quantum/ibm-q-lab-widgets",
      "model_module_version": "^1.0.3",
      "model_name": "CircuitComposerModel",
      "state": {
       "_model_module_version": "^1.0.3",
       "_view_module_version": "^1.0.3",
       "circuit": "\"OPENQASM 2.0;\\ninclude \\\"qelib1.inc\\\";\\n\\nqreg q[3];\\ncreg c[3];\\n\\nx q[0];\\nrz(pi/2) q[0];\\ncx q[2],q[1];\"",
       "editable": true,
       "layout": "IPY_MODEL_5ea9466bb7114fb085a065ae44e374e6",
       "qiskit_code_cell_index": 43
      }
     },
     "2afb6579aec34ebe93556f1b7df10c0b": {
      "model_module": "@jupyter-widgets/controls",
      "model_module_version": "1.5.0",
      "model_name": "HTMLModel",
      "state": {
       "layout": "IPY_MODEL_ec3d6cec43f64d109cce41e91a207abf",
       "style": "IPY_MODEL_90cd23bb0ffe4124af34bee073d37774",
       "value": "<p style='font-family: IBM Plex Sans, Arial, Helvetica, sans-serif; font-size: 20px; font-weight: medium;'>Circuit Properties</p>"
      }
     },
     "2b9798c62a184803ae701efa4c985337": {
      "model_module": "@jupyter-widgets/controls",
      "model_module_version": "1.5.0",
      "model_name": "HTMLModel",
      "state": {
       "layout": "IPY_MODEL_f41b6aa2f189400e9b216228b90a4ee3",
       "style": "IPY_MODEL_118b63139f6a449e91afa426c715f9ca",
       "value": "<h5>Status</h5>"
      }
     },
     "2c06893d8e4d4ab8bddea3ac23076c37": {
      "model_module": "@jupyter-widgets/base",
      "model_module_version": "1.2.0",
      "model_name": "LayoutModel",
      "state": {
       "margin": "0px 0px 10px 0px"
      }
     },
     "2cc38e474f8b4e2d92366b1db0afbdc0": {
      "model_module": "@jupyter-widgets/controls",
      "model_module_version": "1.5.0",
      "model_name": "HTMLModel",
      "state": {
       "layout": "IPY_MODEL_901433422340420db62e9ae3127d4235",
       "style": "IPY_MODEL_eaf2aee64d05485aa35ea40fab729616",
       "value": "<h5>Backend</h5>"
      }
     },
     "2d2ce5a6866c461ba81c12a2707933eb": {
      "model_module": "@jupyter-widgets/base",
      "model_module_version": "1.2.0",
      "model_name": "LayoutModel",
      "state": {
       "grid_template_areas": "\n                                       \". . . . right \"\n                                        ",
       "grid_template_columns": "20% 20% 20% 20% 20%",
       "width": "100%"
      }
     },
     "2d392305286b4fd8915177da73a938c6": {
      "model_module": "@quantum/ibm-q-lab-widgets",
      "model_module_version": "^1.0.3",
      "model_name": "CircuitComposerModel",
      "state": {
       "_model_module_version": "^1.0.3",
       "_view_module_version": "^1.0.3",
       "circuit": "\"OPENQASM 2.0;\\ninclude \\\"qelib1.inc\\\";\\n\\nqreg q[3];\\ncreg c[3];\\n\\n\"",
       "editable": true,
       "layout": "IPY_MODEL_396a31949c0b4ce6ac818e6b356eff07",
       "qiskit_code_cell_index": -1
      }
     },
     "2d9a5f3ecb7844d9a235518bf29aa502": {
      "model_module": "@jupyter-widgets/base",
      "model_module_version": "1.2.0",
      "model_name": "LayoutModel",
      "state": {}
     },
     "2dbfeffcb9814e2bb68f0a08f38d9b18": {
      "model_module": "@jupyter-widgets/controls",
      "model_module_version": "1.5.0",
      "model_name": "ButtonStyleModel",
      "state": {}
     },
     "2dc5151d292d44f3bee2dd4cba36ec92": {
      "model_module": "@jupyter-widgets/controls",
      "model_module_version": "1.5.0",
      "model_name": "ButtonStyleModel",
      "state": {}
     },
     "2eaa8833e44744439a072efced3f32ae": {
      "model_module": "@jupyter-widgets/controls",
      "model_module_version": "1.5.0",
      "model_name": "ButtonModel",
      "state": {
       "button_style": "primary",
       "description": "Clear",
       "layout": "IPY_MODEL_30e5e068668a4af9ae3f5e9510ba4cf9",
       "style": "IPY_MODEL_c2e484c5d6af4da2983d5d54c1f28343"
      }
     },
     "2eb21c61c63d4abc806bb17d0afddd9e": {
      "model_module": "@jupyter-widgets/controls",
      "model_module_version": "1.5.0",
      "model_name": "DescriptionStyleModel",
      "state": {
       "description_width": ""
      }
     },
     "2fa82dae3b0b44c7b106fa28f21631bc": {
      "model_module": "@jupyter-widgets/controls",
      "model_module_version": "1.5.0",
      "model_name": "DescriptionStyleModel",
      "state": {
       "description_width": ""
      }
     },
     "3008efe61d4e4458a8deb713662f4e8e": {
      "model_module": "@jupyter-widgets/base",
      "model_module_version": "1.2.0",
      "model_name": "LayoutModel",
      "state": {}
     },
     "30488cbcf7d34bae82270607d5513607": {
      "model_module": "@jupyter-widgets/base",
      "model_module_version": "1.2.0",
      "model_name": "LayoutModel",
      "state": {
       "width": "190px"
      }
     },
     "30ba74b5cbbe4c95b5c8afb17631bc86": {
      "model_module": "@jupyter-widgets/base",
      "model_module_version": "1.2.0",
      "model_name": "LayoutModel",
      "state": {
       "width": "190px"
      }
     },
     "30e5e068668a4af9ae3f5e9510ba4cf9": {
      "model_module": "@jupyter-widgets/base",
      "model_module_version": "1.2.0",
      "model_name": "LayoutModel",
      "state": {
       "grid_area": "right",
       "padding": "0px 0px 0px 0px",
       "width": "70px"
      }
     },
     "3108dd9dff1948ecae64c2103780cd4e": {
      "model_module": "@quantum/ibm-q-lab-widgets",
      "model_module_version": "^1.0.3",
      "model_name": "CircuitComposerModel",
      "state": {
       "_model_module_version": "^1.0.3",
       "_view_module_version": "^1.0.3",
       "circuit": "\"OPENQASM 2.0;\\ninclude \\\"qelib1.inc\\\";\\n\\nqreg q33[3];\\ncreg c4[3];\\n\\ncx q33[1],q33[2];\\ncx q33[0],q33[2];\\nccx q33[0],q33[1],q33[2];\\nmeasure q33[2] -> c4[0];\"",
       "editable": true,
       "layout": "IPY_MODEL_85525067dff94970af9dd5e04b5d4f95",
       "qiskit_code_cell_index": -1
      }
     },
     "31409a0d8ce24aa2809310106b643add": {
      "model_module": "@jupyter-widgets/controls",
      "model_module_version": "1.5.0",
      "model_name": "DescriptionStyleModel",
      "state": {
       "description_width": ""
      }
     },
     "3260ea3536cd441184144a0e2ec4488a": {
      "model_module": "@jupyter-widgets/base",
      "model_module_version": "1.2.0",
      "model_name": "LayoutModel",
      "state": {
       "grid_template_areas": "\n                                       \". . . . right \"\n                                        ",
       "grid_template_columns": "20% 20% 20% 20% 20%",
       "width": "100%"
      }
     },
     "3288d28e9f454327bb9deae1d3dbae2d": {
      "model_module": "@quantum/ibm-q-lab-widgets",
      "model_module_version": "^1.0.3",
      "model_name": "CircuitComposerModel",
      "state": {
       "_model_module_version": "^1.0.3",
       "_view_module_version": "^1.0.3",
       "circuit": "\"OPENQASM 2.0;\\ninclude \\\"qelib1.inc\\\";\\n\\nqreg q[3];\\ncreg c[3];\\n\\n\"",
       "editable": true,
       "layout": "IPY_MODEL_3299c8aa5bbc411db8ff1c07f3821d84",
       "qiskit_code_cell_index": -1
      }
     },
     "3299c8aa5bbc411db8ff1c07f3821d84": {
      "model_module": "@jupyter-widgets/base",
      "model_module_version": "1.2.0",
      "model_name": "LayoutModel",
      "state": {}
     },
     "32f919e0f5134760a9df0d89d2e77b51": {
      "model_module": "@jupyter-widgets/controls",
      "model_module_version": "1.5.0",
      "model_name": "ButtonModel",
      "state": {
       "button_style": "primary",
       "description": "Clear",
       "layout": "IPY_MODEL_b6762a63f86c494393bc4024ef5d6ec7",
       "style": "IPY_MODEL_89aa7532228f44319c6b71354eb29dd3"
      }
     },
     "331e3257365741db8def52287f2769b5": {
      "model_module": "@jupyter-widgets/controls",
      "model_module_version": "1.5.0",
      "model_name": "ButtonModel",
      "state": {
       "button_style": "primary",
       "description": "Clear",
       "layout": "IPY_MODEL_09e29575306f418b92d9a2c28662e772",
       "style": "IPY_MODEL_7f7ec52f7c9d43d683e3bf46d5b8af28"
      }
     },
     "3326f789e1454d848be17beeadad59cd": {
      "model_module": "@jupyter-widgets/base",
      "model_module_version": "1.2.0",
      "model_name": "LayoutModel",
      "state": {
       "width": "190px"
      }
     },
     "332b33d947fe4fe1824bea4d9e54d7fd": {
      "model_module": "@jupyter-widgets/controls",
      "model_module_version": "1.5.0",
      "model_name": "HTMLModel",
      "state": {
       "layout": "IPY_MODEL_6c9e2fcaa9a94d0aa61975a91a432150",
       "style": "IPY_MODEL_776b4b70a59846898f102ac3e50852a2",
       "value": "<h5>Backend</h5>"
      }
     },
     "338a750d86c34cd6842713614c3f386c": {
      "model_module": "@jupyter-widgets/base",
      "model_module_version": "1.2.0",
      "model_name": "LayoutModel",
      "state": {
       "margin": "0px 0px 0px 37px",
       "width": "600px"
      }
     },
     "33e5c437cd6949e4b1fc9b6de04f30af": {
      "model_module": "@jupyter-widgets/base",
      "model_module_version": "1.2.0",
      "model_name": "LayoutModel",
      "state": {}
     },
     "3420bbc7352f48d4a23dadc9ba0df71a": {
      "model_module": "@quantum/ibm-q-lab-widgets",
      "model_module_version": "^1.0.3",
      "model_name": "CircuitComposerModel",
      "state": {
       "_model_module_version": "^1.0.3",
       "_view_module_version": "^1.0.3",
       "circuit": "\"OPENQASM 2.0;\\ninclude \\\"qelib1.inc\\\";\\n\\nqreg q[3];\\ncreg c[3];\\n\\n\"",
       "editable": true,
       "layout": "IPY_MODEL_e99a25578a3a413ab0b267672b43f72b",
       "qiskit_code_cell_index": -1
      }
     },
     "3550cd9a049f480f8b952c93869e96e2": {
      "model_module": "@jupyter-widgets/controls",
      "model_module_version": "1.5.0",
      "model_name": "ButtonStyleModel",
      "state": {}
     },
     "36321f592adf424e8904aba14040ce4d": {
      "model_module": "@quantum/ibm-q-lab-widgets",
      "model_module_version": "^1.0.3",
      "model_name": "CircuitComposerModel",
      "state": {
       "_model_module_version": "^1.0.3",
       "_view_module_version": "^1.0.3",
       "circuit": "\"OPENQASM 2.0;\\ninclude \\\"qelib1.inc\\\";\\n\\nqreg q[3];\\ncreg c[3];\\n\\n\"",
       "editable": true,
       "layout": "IPY_MODEL_a116878984b741f7ac6690e44f038947",
       "qiskit_code_cell_index": -1
      }
     },
     "37b7d129f94342e1abcce40399056637": {
      "model_module": "@jupyter-widgets/base",
      "model_module_version": "1.2.0",
      "model_name": "LayoutModel",
      "state": {}
     },
     "37d358e0a49f4aa5875f775a31a84858": {
      "model_module": "@jupyter-widgets/controls",
      "model_module_version": "1.5.0",
      "model_name": "HTMLModel",
      "state": {
       "layout": "IPY_MODEL_a8af894664164b2e82c73d8bd47c7485",
       "style": "IPY_MODEL_905541cbe239467da30cbd81517e9772",
       "value": "<p style='font-family: IBM Plex Sans, Arial, Helvetica, sans-serif; font-size: 20px; font-weight: medium;'>Circuit Properties</p>"
      }
     },
     "381788a926d744ae8cb7edf5993b71d5": {
      "model_module": "@quantum/ibm-q-lab-widgets",
      "model_module_version": "^1.0.3",
      "model_name": "CircuitComposerModel",
      "state": {
       "_model_module_version": "^1.0.3",
       "_view_module_version": "^1.0.3",
       "circuit": "\"OPENQASM 2.0;\\ninclude \\\"qelib1.inc\\\";\\n\\nqreg q[3];\\ncreg c[3];\\n\\nswap q[0],q[1];\\nz q[2];\"",
       "editable": true,
       "layout": "IPY_MODEL_dd55d56845324b43a32881e7e6333e38",
       "qiskit_code_cell_index": -1
      }
     },
     "385ab6ea8d9f401ab85b126425aef694": {
      "model_module": "@jupyter-widgets/base",
      "model_module_version": "1.2.0",
      "model_name": "LayoutModel",
      "state": {
       "width": "145px"
      }
     },
     "396a31949c0b4ce6ac818e6b356eff07": {
      "model_module": "@jupyter-widgets/base",
      "model_module_version": "1.2.0",
      "model_name": "LayoutModel",
      "state": {}
     },
     "398571c7156041b5bdbebc3b04974e2f": {
      "model_module": "@jupyter-widgets/controls",
      "model_module_version": "1.5.0",
      "model_name": "GridBoxModel",
      "state": {
       "children": [
        "IPY_MODEL_fd9e1e3b36b04bf191eb9f11ed9fba6e"
       ],
       "layout": "IPY_MODEL_058c0ab1f10246ce985c0d6923f85ea6"
      }
     },
     "3b9a86da9f5240df818956e4fb25e041": {
      "model_module": "@jupyter-widgets/controls",
      "model_module_version": "1.5.0",
      "model_name": "DescriptionStyleModel",
      "state": {
       "description_width": ""
      }
     },
     "3b9ee684c0b444be9b23282f91770fcf": {
      "model_module": "@quantum/ibm-q-lab-widgets",
      "model_module_version": "^1.0.3",
      "model_name": "CircuitComposerModel",
      "state": {
       "_model_module_version": "^1.0.3",
       "_view_module_version": "^1.0.3",
       "circuit": "\"OPENQASM 2.0;\\ninclude \\\"qelib1.inc\\\";\\n\\nqreg q[3];\\ncreg c[3];\\n\\ncx q[1],q[0];\\ncx q[0],q[1];\\ncx q[1],q[0];\\ncx q[2],q[1];\\nrz(pi) q[2];\"",
       "editable": true,
       "layout": "IPY_MODEL_4261461ae4cc4835a4c7277f6ca7de3f",
       "qiskit_code_cell_index": 44
      }
     },
     "3c34729028824a69ab2e3998c1c73b89": {
      "model_module": "@jupyter-widgets/base",
      "model_module_version": "1.2.0",
      "model_name": "LayoutModel",
      "state": {}
     },
     "3c7db4d0f27f4603bbd9303ab4cc6ea6": {
      "model_module": "@jupyter-widgets/controls",
      "model_module_version": "1.5.0",
      "model_name": "HTMLModel",
      "state": {
       "layout": "IPY_MODEL_071b8b592b2b4ba987a324d459eeb994",
       "style": "IPY_MODEL_a7e387ce624b4fdd927af7426dbf7025",
       "value": "<p style='font-family: IBM Plex Sans, Arial, Helvetica, sans-serif; font-size: 20px; font-weight: medium;'>Circuit Properties</p>"
      }
     },
     "3d1f573966184a569534b055061790af": {
      "model_module": "@quantum/ibm-q-lab-widgets",
      "model_module_version": "^1.0.3",
      "model_name": "CircuitComposerModel",
      "state": {
       "_model_module_version": "^1.0.3",
       "_view_module_version": "^1.0.3",
       "circuit": "\"OPENQASM 2.0;\\ninclude \\\"qelib1.inc\\\";\\n\\nqreg q[3];\\ncreg c[3];\\n\\n\"",
       "editable": true,
       "layout": "IPY_MODEL_5eb85f37ded7402f93252122f2ef5c20",
       "qiskit_code_cell_index": -1
      }
     },
     "3d62cadf9a5f465d9583cda6d521b504": {
      "model_module": "@jupyter-widgets/controls",
      "model_module_version": "1.5.0",
      "model_name": "DescriptionStyleModel",
      "state": {
       "description_width": ""
      }
     },
     "3e174dd3d8544ac88043f17a5ecc8500": {
      "model_module": "@jupyter-widgets/controls",
      "model_module_version": "1.5.0",
      "model_name": "HTMLModel",
      "state": {
       "layout": "IPY_MODEL_6f05f9fe4c734814ae7c24818dd8c8e4",
       "style": "IPY_MODEL_d00d6210a81d40af8b725a661b8be93b",
       "value": "<h5>Job ID</h5>"
      }
     },
     "3e431b46e6564178a35fee7efc7bd715": {
      "model_module": "@jupyter-widgets/base",
      "model_module_version": "1.2.0",
      "model_name": "LayoutModel",
      "state": {}
     },
     "3e89aebbd7284b79a0481c5b3284a03c": {
      "model_module": "@jupyter-widgets/base",
      "model_module_version": "1.2.0",
      "model_name": "LayoutModel",
      "state": {}
     },
     "3e99420eef28485cb78daaf45616a10e": {
      "model_module": "@jupyter-widgets/controls",
      "model_module_version": "1.5.0",
      "model_name": "DescriptionStyleModel",
      "state": {
       "description_width": ""
      }
     },
     "3ee74cc8d36c4e5391415f79be6aa2fd": {
      "model_module": "@jupyter-widgets/base",
      "model_module_version": "1.2.0",
      "model_name": "LayoutModel",
      "state": {
       "margin": "0px 0px 10px 0px"
      }
     },
     "3fb4a8913a5049b09d3d417371eccb3c": {
      "model_module": "@jupyter-widgets/base",
      "model_module_version": "1.2.0",
      "model_name": "LayoutModel",
      "state": {}
     },
     "40201056b9a044548deb5e4729fe30b3": {
      "model_module": "@jupyter-widgets/controls",
      "model_module_version": "1.5.0",
      "model_name": "HBoxModel",
      "state": {
       "children": [
        "IPY_MODEL_abfb4fc29dd1406cbbb7f5b53d45638f",
        "IPY_MODEL_bcdb4f764418464d876656ff47969d41",
        "IPY_MODEL_d78743e18e6b47308381f245818f1dd5",
        "IPY_MODEL_b2a697572d834a1e92bfd7109dd150e0",
        "IPY_MODEL_0a0e1409d8fc4c22be026b67930a0cd4"
       ],
       "layout": "IPY_MODEL_4338c0483ad74d4fb6419f99e522d6d4"
      }
     },
     "40a9e1e7c0a54ca0b3482f31af76b784": {
      "model_module": "@jupyter-widgets/controls",
      "model_module_version": "1.5.0",
      "model_name": "DescriptionStyleModel",
      "state": {
       "description_width": ""
      }
     },
     "40b07e1e3e7b4e3d8391b6d150fc0201": {
      "model_module": "@jupyter-widgets/base",
      "model_module_version": "1.2.0",
      "model_name": "LayoutModel",
      "state": {}
     },
     "40efb9a1549147f1ad1f826f3d7905f6": {
      "model_module": "@jupyter-widgets/base",
      "model_module_version": "1.2.0",
      "model_name": "LayoutModel",
      "state": {
       "width": "145px"
      }
     },
     "414a1068e8f64ea38065b2c17a5219bb": {
      "model_module": "@jupyter-widgets/base",
      "model_module_version": "1.2.0",
      "model_name": "LayoutModel",
      "state": {
       "grid_template_areas": "\n                                       \". . . . right \"\n                                        ",
       "grid_template_columns": "20% 20% 20% 20% 20%",
       "width": "100%"
      }
     },
     "4261461ae4cc4835a4c7277f6ca7de3f": {
      "model_module": "@jupyter-widgets/base",
      "model_module_version": "1.2.0",
      "model_name": "LayoutModel",
      "state": {}
     },
     "42dbbbccda4d499694c43f824f861d75": {
      "model_module": "@quantum/ibm-q-lab-widgets",
      "model_module_version": "^1.0.3",
      "model_name": "CircuitComposerModel",
      "state": {
       "_model_module_version": "^1.0.3",
       "_view_module_version": "^1.0.3",
       "circuit": "\"OPENQASM 2.0;\\ninclude \\\"qelib1.inc\\\";\\n\\nqreg q[3];\\ncreg c[3];\\n\\n\"",
       "editable": true,
       "layout": "IPY_MODEL_ed9909234c0b4720b1ef938213c784b5",
       "qiskit_code_cell_index": -1
      }
     },
     "42f3b30f55f64d82b1c6439cd4367cb8": {
      "model_module": "@jupyter-widgets/base",
      "model_module_version": "1.2.0",
      "model_name": "LayoutModel",
      "state": {}
     },
     "4338c0483ad74d4fb6419f99e522d6d4": {
      "model_module": "@jupyter-widgets/base",
      "model_module_version": "1.2.0",
      "model_name": "LayoutModel",
      "state": {
       "margin": "0px 0px 0px 37px",
       "width": "600px"
      }
     },
     "4347878a5164474f8caad7c3568100b4": {
      "model_module": "@quantum/ibm-q-lab-widgets",
      "model_module_version": "^1.0.3",
      "model_name": "CircuitComposerModel",
      "state": {
       "_model_module_version": "^1.0.3",
       "_view_module_version": "^1.0.3",
       "circuit": "\"OPENQASM 2.0;\\ninclude \\\"qelib1.inc\\\";\\n\\nqreg q[3];\\ncreg c[3];\\n\\n\"",
       "editable": true,
       "layout": "IPY_MODEL_647adaf252504ebb89f5ac424e82288b",
       "qiskit_code_cell_index": -1
      }
     },
     "437750a22d3f469f91ab47ad757e2a45": {
      "model_module": "@jupyter-widgets/base",
      "model_module_version": "1.2.0",
      "model_name": "LayoutModel",
      "state": {
       "width": "95px"
      }
     },
     "4400777ab0fe475b8bf004b489e25a8a": {
      "model_module": "@jupyter-widgets/base",
      "model_module_version": "1.2.0",
      "model_name": "LayoutModel",
      "state": {
       "margin": "0px 0px 0px 37px",
       "width": "600px"
      }
     },
     "4434f9bbf9164c36a5948c834c777739": {
      "model_module": "@jupyter-widgets/base",
      "model_module_version": "1.2.0",
      "model_name": "LayoutModel",
      "state": {
       "margin": "0px 0px 0px 37px",
       "width": "600px"
      }
     },
     "445317bcd81a4c328824dea9ff477ed7": {
      "model_module": "@jupyter-widgets/base",
      "model_module_version": "1.2.0",
      "model_name": "LayoutModel",
      "state": {
       "grid_template_areas": "\n                                       \". . . . right \"\n                                        ",
       "grid_template_columns": "20% 20% 20% 20% 20%",
       "width": "100%"
      }
     },
     "44a79fd77b9e477684de365174366130": {
      "model_module": "@jupyter-widgets/base",
      "model_module_version": "1.2.0",
      "model_name": "LayoutModel",
      "state": {}
     },
     "44c3084221074279a1fe65621ffec4c0": {
      "model_module": "@jupyter-widgets/controls",
      "model_module_version": "1.5.0",
      "model_name": "HTMLModel",
      "state": {
       "layout": "IPY_MODEL_20a1cc7a64da45599e25f0f717b7fa9b",
       "style": "IPY_MODEL_20ad527cae0742dcb69e548ff04ba59c",
       "value": "<h5>Message</h5>"
      }
     },
     "44f669391a4d42b282d9bf437d5305d0": {
      "model_module": "@jupyter-widgets/controls",
      "model_module_version": "1.5.0",
      "model_name": "HTMLModel",
      "state": {
       "layout": "IPY_MODEL_bfb91f9f217844568337ce77202b67bc",
       "style": "IPY_MODEL_0bea43da5d56445a88974e61b66c52be",
       "value": "<h5>Job ID</h5>"
      }
     },
     "458b76229ac9466a93968d7ac98a73a7": {
      "model_module": "@jupyter-widgets/controls",
      "model_module_version": "1.5.0",
      "model_name": "DescriptionStyleModel",
      "state": {
       "description_width": ""
      }
     },
     "45c8857a37a24a34ad5810c13d23651b": {
      "model_module": "@jupyter-widgets/controls",
      "model_module_version": "1.5.0",
      "model_name": "HTMLModel",
      "state": {
       "layout": "IPY_MODEL_01c879086b934219b29d792417520512",
       "style": "IPY_MODEL_95d604d7edcc461ab11870eea046e295",
       "value": "<h5>Backend</h5>"
      }
     },
     "467754524cdf4049b19bd6ea03eca647": {
      "model_module": "@jupyter-widgets/controls",
      "model_module_version": "1.5.0",
      "model_name": "DescriptionStyleModel",
      "state": {
       "description_width": ""
      }
     },
     "4700a02cfb7b4ac39225242433cd7711": {
      "model_module": "@jupyter-widgets/controls",
      "model_module_version": "1.5.0",
      "model_name": "HTMLModel",
      "state": {
       "layout": "IPY_MODEL_30ba74b5cbbe4c95b5c8afb17631bc86",
       "style": "IPY_MODEL_07fd227e7fcf4dd1860ffb8ebd34b4d2",
       "value": "<h5>Job ID</h5>"
      }
     },
     "481e565624ec4cd2b0b9af63e6c7958e": {
      "model_module": "@jupyter-widgets/base",
      "model_module_version": "1.2.0",
      "model_name": "LayoutModel",
      "state": {}
     },
     "48b56f32910541c1999e1ccaef3d090c": {
      "model_module": "@jupyter-widgets/controls",
      "model_module_version": "1.5.0",
      "model_name": "DescriptionStyleModel",
      "state": {
       "description_width": ""
      }
     },
     "4a470e12eac549b9a75888e6eb387d0b": {
      "model_module": "@quantum/ibm-q-lab-widgets",
      "model_module_version": "^1.0.3",
      "model_name": "CircuitComposerModel",
      "state": {
       "_model_module_version": "^1.0.3",
       "_view_module_version": "^1.0.3",
       "circuit": "\"OPENQASM 2.0;\\ninclude \\\"qelib1.inc\\\";\\n\\nqreg q[3];\\ncreg c[3];\\n\\n\"",
       "editable": true,
       "layout": "IPY_MODEL_481e565624ec4cd2b0b9af63e6c7958e",
       "qiskit_code_cell_index": -1
      }
     },
     "4a5cfb75bcf9448d87e0f33ed9eb18a0": {
      "model_module": "@quantum/ibm-q-lab-widgets",
      "model_module_version": "^1.0.3",
      "model_name": "CircuitComposerModel",
      "state": {
       "_model_module_version": "^1.0.3",
       "_view_module_version": "^1.0.3",
       "circuit": "\"OPENQASM 2.0;\\ninclude \\\"qelib1.inc\\\";\\n\\nqreg q[3];\\ncreg c[3];\\n\\n\"",
       "editable": true,
       "layout": "IPY_MODEL_25a2771bfc724c4485ce18e45e93e148",
       "qiskit_code_cell_index": -1
      }
     },
     "4b884917539c49feaf716e2f58ae1bb3": {
      "model_module": "@jupyter-widgets/controls",
      "model_module_version": "1.5.0",
      "model_name": "HTMLModel",
      "state": {
       "layout": "IPY_MODEL_0c6085a10676474d9df1193395266c46",
       "style": "IPY_MODEL_af50ed8c616640dda8dfe43cd971e526",
       "value": "<h5>Message</h5>"
      }
     },
     "4c5850b093234f35bf5afe995313fe91": {
      "model_module": "@jupyter-widgets/base",
      "model_module_version": "1.2.0",
      "model_name": "LayoutModel",
      "state": {}
     },
     "4d698ff3886446f2ad8fbbb4f76fbd02": {
      "model_module": "@quantum/ibm-q-lab-widgets",
      "model_module_version": "^1.0.3",
      "model_name": "CircuitComposerModel",
      "state": {
       "_model_module_version": "^1.0.3",
       "_view_module_version": "^1.0.3",
       "circuit": "\"OPENQASM 2.0;\\ninclude \\\"qelib1.inc\\\";\\n\\nqreg q[3];\\ncreg c[3];\\n\\n\"",
       "editable": true,
       "layout": "IPY_MODEL_f6e003da05d349118f38ae2a64663871",
       "qiskit_code_cell_index": -1
      }
     },
     "4eb2200cb71e4110bfe473b01ae616bf": {
      "model_module": "@jupyter-widgets/controls",
      "model_module_version": "1.5.0",
      "model_name": "HTMLModel",
      "state": {
       "layout": "IPY_MODEL_854dd58f9d564fc5a8a9ed09aaf3c44d",
       "style": "IPY_MODEL_d51d581f462e44dc8ffa1f3664a2b073",
       "value": "<h5>Job ID</h5>"
      }
     },
     "4f5a6b0a58964ec39418de154fe26573": {
      "model_module": "@jupyter-widgets/base",
      "model_module_version": "1.2.0",
      "model_name": "LayoutModel",
      "state": {}
     },
     "4ff1b32437774bbbae4e9a5e0650e8a1": {
      "model_module": "@jupyter-widgets/base",
      "model_module_version": "1.2.0",
      "model_name": "LayoutModel",
      "state": {}
     },
     "50091921f7684addb5afd14d51d0de14": {
      "model_module": "@jupyter-widgets/base",
      "model_module_version": "1.2.0",
      "model_name": "LayoutModel",
      "state": {}
     },
     "50b875d9ab2d4acaa815061f478fbf47": {
      "model_module": "@jupyter-widgets/base",
      "model_module_version": "1.2.0",
      "model_name": "LayoutModel",
      "state": {
       "grid_area": "right",
       "padding": "0px 0px 0px 0px",
       "width": "70px"
      }
     },
     "50dfd93bae63492d84ad39f8f3cbed18": {
      "model_module": "@jupyter-widgets/controls",
      "model_module_version": "1.5.0",
      "model_name": "DescriptionStyleModel",
      "state": {
       "description_width": ""
      }
     },
     "512ecf2552b446b09dd0d4623e53676f": {
      "model_module": "@jupyter-widgets/base",
      "model_module_version": "1.2.0",
      "model_name": "LayoutModel",
      "state": {}
     },
     "5158b4f4b69c4af89080e709bc5a3a2f": {
      "model_module": "@jupyter-widgets/controls",
      "model_module_version": "1.5.0",
      "model_name": "DescriptionStyleModel",
      "state": {
       "description_width": ""
      }
     },
     "51cd6436bd0f4612b7e5a3cd267f5a7f": {
      "model_module": "@jupyter-widgets/controls",
      "model_module_version": "1.5.0",
      "model_name": "HTMLModel",
      "state": {
       "layout": "IPY_MODEL_a9483f14f95c4d539945ca3e77071d62",
       "style": "IPY_MODEL_d54997dae4d54069b5bc9b180de4abb7",
       "value": "<h5>Message</h5>"
      }
     },
     "522abd193d5143a6bd304bb1f5073fa0": {
      "model_module": "@jupyter-widgets/base",
      "model_module_version": "1.2.0",
      "model_name": "LayoutModel",
      "state": {
       "width": "70px"
      }
     },
     "5238da7ddc1e4b659a3feb351eb7b3d4": {
      "model_module": "@jupyter-widgets/controls",
      "model_module_version": "1.5.0",
      "model_name": "DescriptionStyleModel",
      "state": {
       "description_width": ""
      }
     },
     "524573dfc9b3457eb1fc65d94bd5cc19": {
      "model_module": "@quantum/ibm-q-lab-widgets",
      "model_module_version": "^1.0.3",
      "model_name": "CircuitComposerModel",
      "state": {
       "_model_module_version": "^1.0.3",
       "_view_module_version": "^1.0.3",
       "circuit": "\"OPENQASM 2.0;\\ninclude \\\"qelib1.inc\\\";\\n\\nqreg q29[3];\\ncreg c2[3];\\n\\ncx q29[1],q29[2];\\ncx q29[0],q29[2];\\nccx q29[0],q29[1],q29[2];\\nmeasure q29[2] -> c2[0];\"",
       "editable": true,
       "layout": "IPY_MODEL_a4b896b34a244855abd723ca174724cf",
       "qiskit_code_cell_index": -1
      }
     },
     "52b7a4d861f34d46b947838bca90c284": {
      "model_module": "@jupyter-widgets/base",
      "model_module_version": "1.2.0",
      "model_name": "LayoutModel",
      "state": {}
     },
     "539edb2fa7d64f7d8fc82c8a6c9ca8f8": {
      "model_module": "@jupyter-widgets/controls",
      "model_module_version": "1.5.0",
      "model_name": "DescriptionStyleModel",
      "state": {
       "description_width": ""
      }
     },
     "53a3f392a64b4b16907ba5432fbd75ba": {
      "model_module": "@jupyter-widgets/base",
      "model_module_version": "1.2.0",
      "model_name": "LayoutModel",
      "state": {}
     },
     "548e972a51da40e59bfaef01d57be088": {
      "model_module": "@quantum/ibm-q-lab-widgets",
      "model_module_version": "^1.0.3",
      "model_name": "CircuitComposerModel",
      "state": {
       "_model_module_version": "^1.0.3",
       "_view_module_version": "^1.0.3",
       "circuit": "\"OPENQASM 2.0;\\ninclude \\\"qelib1.inc\\\";\\n\\nqreg q[3];\\ncreg c[3];\\n\\nswap q[0],q[1];\\nz q[2];\"",
       "editable": true,
       "layout": "IPY_MODEL_faab740a976848f08ac890a0120e954c",
       "qiskit_code_cell_index": -1
      }
     },
     "54efbfd8da3447b3b19543ec279e915b": {
      "model_module": "@jupyter-widgets/controls",
      "model_module_version": "1.5.0",
      "model_name": "HTMLModel",
      "state": {
       "layout": "IPY_MODEL_e63ca0a4b446490daf05d3f795cd346e",
       "style": "IPY_MODEL_d813abd4f19d43f4a5a0dffecb2f433a",
       "value": "<h5>Job ID</h5>"
      }
     },
     "55f86eb388c2442283628ff2043c9385": {
      "model_module": "@jupyter-widgets/controls",
      "model_module_version": "1.5.0",
      "model_name": "HBoxModel",
      "state": {
       "children": [
        "IPY_MODEL_14e8c2acb28b48479a3f576feb0c0a75",
        "IPY_MODEL_b5cf49e4ff684a9db08840ab0a980035",
        "IPY_MODEL_5d4b99b53a55436db64f13abe8ed4bf4",
        "IPY_MODEL_d0de14d57e3d4a6ca32e7bc02a805600",
        "IPY_MODEL_c2c9c6b295d843cba77b4835e43fec85"
       ],
       "layout": "IPY_MODEL_59a5b35ab93e4224afa2ecac49171bdf"
      }
     },
     "5617775f6e0240b0bafd6c591c590c2e": {
      "model_module": "@jupyter-widgets/base",
      "model_module_version": "1.2.0",
      "model_name": "LayoutModel",
      "state": {}
     },
     "56fb45c8fe2f429e86a11e69e17f6b5c": {
      "model_module": "@jupyter-widgets/base",
      "model_module_version": "1.2.0",
      "model_name": "LayoutModel",
      "state": {
       "width": "95px"
      }
     },
     "57e0ccc3cf694508933fdb6e66835851": {
      "model_module": "@jupyter-widgets/base",
      "model_module_version": "1.2.0",
      "model_name": "LayoutModel",
      "state": {}
     },
     "58dc1b9b38d24ed49244be4634dbfd75": {
      "model_module": "@jupyter-widgets/base",
      "model_module_version": "1.2.0",
      "model_name": "LayoutModel",
      "state": {
       "margin": "0px 0px 10px 0px"
      }
     },
     "58df896f45dd4fc480852242017408a4": {
      "model_module": "@jupyter-widgets/controls",
      "model_module_version": "1.5.0",
      "model_name": "ButtonModel",
      "state": {
       "button_style": "primary",
       "description": "Clear",
       "layout": "IPY_MODEL_708f57cb5f17430db0df148fcad6d731",
       "style": "IPY_MODEL_b09656910fce43c2aa88f441e8ae49b1"
      }
     },
     "5901f5b47e3c4e06bcfb63ff4463ed63": {
      "model_module": "@jupyter-widgets/controls",
      "model_module_version": "1.5.0",
      "model_name": "HTMLModel",
      "state": {
       "layout": "IPY_MODEL_92b84366ab0e4745bf4558430002b003",
       "style": "IPY_MODEL_26cb2ef0ef144ba299224d37e4b427bd",
       "value": "<h5>Queue</h5>"
      }
     },
     "59a5b35ab93e4224afa2ecac49171bdf": {
      "model_module": "@jupyter-widgets/base",
      "model_module_version": "1.2.0",
      "model_name": "LayoutModel",
      "state": {
       "margin": "0px 0px 0px 37px",
       "width": "600px"
      }
     },
     "59adb0fd062b4416a6869480b9acc0e1": {
      "model_module": "@jupyter-widgets/controls",
      "model_module_version": "1.5.0",
      "model_name": "HTMLModel",
      "state": {
       "layout": "IPY_MODEL_6f15393cd1824bbb982518094b13478e",
       "style": "IPY_MODEL_5238da7ddc1e4b659a3feb351eb7b3d4",
       "value": "<h5>Status</h5>"
      }
     },
     "59af2373b1854b66826e9d1b4752c19a": {
      "model_module": "@jupyter-widgets/base",
      "model_module_version": "1.2.0",
      "model_name": "LayoutModel",
      "state": {
       "margin": "0px 0px 10px 0px"
      }
     },
     "5a1b4823434e45edac423b5cf0fcbbcf": {
      "model_module": "@jupyter-widgets/controls",
      "model_module_version": "1.5.0",
      "model_name": "HBoxModel",
      "state": {
       "children": [
        "IPY_MODEL_8ea306f791db457b90507ec65f340861",
        "IPY_MODEL_aed2fff20a4a42d281bc7563fe6254ec",
        "IPY_MODEL_9b5c2380d1f64e5ba44920313943086c",
        "IPY_MODEL_bee7af23f12e42298f23a7ff2a775cb3",
        "IPY_MODEL_8bc40f254f74420fb63df5318f871ea7"
       ],
       "layout": "IPY_MODEL_9bc7db62d4d541cd92e7cd19d340bf19"
      }
     },
     "5b954be6f7cf4d63b93eca6bfa84bc2b": {
      "model_module": "@jupyter-widgets/base",
      "model_module_version": "1.2.0",
      "model_name": "LayoutModel",
      "state": {
       "width": "95px"
      }
     },
     "5bfc0f9613df450989a98e0a200d3b2f": {
      "model_module": "@jupyter-widgets/base",
      "model_module_version": "1.2.0",
      "model_name": "LayoutModel",
      "state": {
       "margin": "0px 0px 0px 37px",
       "width": "600px"
      }
     },
     "5d424631bc2546f7b402aa7e7ccb75ca": {
      "model_module": "@jupyter-widgets/base",
      "model_module_version": "1.2.0",
      "model_name": "LayoutModel",
      "state": {
       "width": "190px"
      }
     },
     "5d49d5dc262f49b5b489d94e32d0e3eb": {
      "model_module": "@jupyter-widgets/controls",
      "model_module_version": "1.5.0",
      "model_name": "DescriptionStyleModel",
      "state": {
       "description_width": ""
      }
     },
     "5d4b99b53a55436db64f13abe8ed4bf4": {
      "model_module": "@jupyter-widgets/controls",
      "model_module_version": "1.5.0",
      "model_name": "HTMLModel",
      "state": {
       "layout": "IPY_MODEL_ed2398d7377940a19feadec9738c8911",
       "style": "IPY_MODEL_7e436ffd7e3a4f05bf1d5598fef6d6dc",
       "value": "<h5>Status</h5>"
      }
     },
     "5e0164820c4e4fe19740e00a387699ca": {
      "model_module": "@quantum/ibm-q-lab-widgets",
      "model_module_version": "^1.0.3",
      "model_name": "CircuitComposerModel",
      "state": {
       "_model_module_version": "^1.0.3",
       "_view_module_version": "^1.0.3",
       "circuit": "\"OPENQASM 2.0;\\ninclude \\\"qelib1.inc\\\";\\n\\nqreg q2[3];\\ncreg c1[3];\\n\\ncx q2[1],q2[2];\\ncx q2[0],q2[2];\\nccx q2[0],q2[1],q2[2];\\nx q2[2];\\nmeasure q2[2] -> c1[0];\"",
       "editable": true,
       "layout": "IPY_MODEL_190ab006afe144f38c0f9abe87812c1c",
       "qiskit_code_cell_index": 47
      }
     },
     "5e2164ebdde64440b793779b9188b83d": {
      "model_module": "@jupyter-widgets/base",
      "model_module_version": "1.2.0",
      "model_name": "LayoutModel",
      "state": {}
     },
     "5ea9466bb7114fb085a065ae44e374e6": {
      "model_module": "@jupyter-widgets/base",
      "model_module_version": "1.2.0",
      "model_name": "LayoutModel",
      "state": {}
     },
     "5eb85f37ded7402f93252122f2ef5c20": {
      "model_module": "@jupyter-widgets/base",
      "model_module_version": "1.2.0",
      "model_name": "LayoutModel",
      "state": {}
     },
     "5ed4af38f61345b881395254191fa693": {
      "model_module": "@jupyter-widgets/controls",
      "model_module_version": "1.5.0",
      "model_name": "HBoxModel",
      "state": {
       "children": [
        "IPY_MODEL_d89af909d9b449f78f7ad0d3992f8dec",
        "IPY_MODEL_d08d82ed729f4159a75b712499aad162",
        "IPY_MODEL_2b9798c62a184803ae701efa4c985337",
        "IPY_MODEL_f85491e06e184d8ea92219eabe3d965f",
        "IPY_MODEL_f193048343fd41128afbeb8eca6e7401"
       ],
       "layout": "IPY_MODEL_a2cf13b0153145f8ac7d332020f87ffd"
      }
     },
     "5f4a503db4894223b5dfa7edaff2a2ba": {
      "model_module": "@jupyter-widgets/controls",
      "model_module_version": "1.5.0",
      "model_name": "DescriptionStyleModel",
      "state": {
       "description_width": ""
      }
     },
     "5fa5e5ac4e9f420dbd2c859eeed13c74": {
      "model_module": "@quantum/ibm-q-lab-widgets",
      "model_module_version": "^1.0.3",
      "model_name": "CircuitComposerModel",
      "state": {
       "_model_module_version": "^1.0.3",
       "_view_module_version": "^1.0.3",
       "circuit": "\"OPENQASM 2.0;\\ninclude \\\"qelib1.inc\\\";\\n\\nqreg q3[3];\\ncreg c3[3];\\n\\ncx q3[1],q3[2];\\ncx q3[0],q3[2];\\nccx q3[0],q3[1],q3[2];\\nx q3[2];\\nmeasure q3[2] -> c3[0];\"",
       "editable": true,
       "layout": "IPY_MODEL_0c2790117be5423b9b19274d3a3c386a",
       "qiskit_code_cell_index": 34
      }
     },
     "602567b829324270a8ac201d69a4df37": {
      "model_module": "@jupyter-widgets/base",
      "model_module_version": "1.2.0",
      "model_name": "LayoutModel",
      "state": {}
     },
     "602fd472a90e4e0881c932ac3137a452": {
      "model_module": "@jupyter-widgets/base",
      "model_module_version": "1.2.0",
      "model_name": "LayoutModel",
      "state": {
       "width": "95px"
      }
     },
     "60d9d629460144a688bb2e9773b36ef1": {
      "model_module": "@jupyter-widgets/base",
      "model_module_version": "1.2.0",
      "model_name": "LayoutModel",
      "state": {
       "grid_area": "right",
       "padding": "0px 0px 0px 0px",
       "width": "70px"
      }
     },
     "615af80a815142e9ae2f628501d2a061": {
      "model_module": "@jupyter-widgets/controls",
      "model_module_version": "1.5.0",
      "model_name": "DescriptionStyleModel",
      "state": {
       "description_width": ""
      }
     },
     "61aeb577b8eb48e18a4b87207c5f8963": {
      "model_module": "@jupyter-widgets/base",
      "model_module_version": "1.2.0",
      "model_name": "LayoutModel",
      "state": {
       "grid_area": "right",
       "padding": "0px 0px 0px 0px",
       "width": "70px"
      }
     },
     "626bcbf09ded4e12afa57f4a476189b0": {
      "model_module": "@jupyter-widgets/controls",
      "model_module_version": "1.5.0",
      "model_name": "DescriptionStyleModel",
      "state": {
       "description_width": ""
      }
     },
     "62c3c65bf4b641df91023a0da1721604": {
      "model_module": "@jupyter-widgets/base",
      "model_module_version": "1.2.0",
      "model_name": "LayoutModel",
      "state": {}
     },
     "62fed7858e2d4d5e8efe1b6a4b529075": {
      "model_module": "@jupyter-widgets/controls",
      "model_module_version": "1.5.0",
      "model_name": "DescriptionStyleModel",
      "state": {
       "description_width": ""
      }
     },
     "63250eaac69b49b3bb8906e8b51782f8": {
      "model_module": "@jupyter-widgets/controls",
      "model_module_version": "1.5.0",
      "model_name": "HBoxModel",
      "state": {
       "children": [
        "IPY_MODEL_711101cbd9724bfc9741364f1ee35bf6",
        "IPY_MODEL_9195aa3bf23a4f1db12c184ef545292c",
        "IPY_MODEL_1d98343600cd4098b9b788327fe207ff",
        "IPY_MODEL_692243ec871840548696b28ef1a71b0f",
        "IPY_MODEL_d49fb7f7f12c494aba1cead52c0259ff"
       ],
       "layout": "IPY_MODEL_338a750d86c34cd6842713614c3f386c"
      }
     },
     "63b9f8f7a3e04a5cb8bf7488f1d8cc75": {
      "model_module": "@quantum/ibm-q-lab-widgets",
      "model_module_version": "^1.0.3",
      "model_name": "CircuitComposerModel",
      "state": {
       "_model_module_version": "^1.0.3",
       "_view_module_version": "^1.0.3",
       "circuit": "\"OPENQASM 2.0;\\ninclude \\\"qelib1.inc\\\";\\n\\nqreg q[3];\\ncreg c[3];\\n\\n\"",
       "editable": true,
       "layout": "IPY_MODEL_512ecf2552b446b09dd0d4623e53676f",
       "qiskit_code_cell_index": -1
      }
     },
     "642c9ceedc4140cdb66870edf338b9c2": {
      "model_module": "@jupyter-widgets/base",
      "model_module_version": "1.2.0",
      "model_name": "LayoutModel",
      "state": {
       "grid_area": "right",
       "padding": "0px 0px 0px 0px",
       "width": "70px"
      }
     },
     "646f38fbda294bc1b82e21ec5c417b63": {
      "model_module": "@jupyter-widgets/controls",
      "model_module_version": "1.5.0",
      "model_name": "DescriptionStyleModel",
      "state": {
       "description_width": ""
      }
     },
     "647adaf252504ebb89f5ac424e82288b": {
      "model_module": "@jupyter-widgets/base",
      "model_module_version": "1.2.0",
      "model_name": "LayoutModel",
      "state": {}
     },
     "663821625faf4cf18279a0cb70a5df3b": {
      "model_module": "@jupyter-widgets/controls",
      "model_module_version": "1.5.0",
      "model_name": "HTMLModel",
      "state": {
       "layout": "IPY_MODEL_a0669cb8aa644cd1bbe036acbd656053",
       "style": "IPY_MODEL_1fcda1a45e3e47b0b03746787b6eec9e",
       "value": "<h5>Queue</h5>"
      }
     },
     "66423f7c452749c1a55a4e6885cf4ac6": {
      "model_module": "@jupyter-widgets/base",
      "model_module_version": "1.2.0",
      "model_name": "LayoutModel",
      "state": {}
     },
     "685e193ac6ee4050870c824dd57d9e2b": {
      "model_module": "@jupyter-widgets/base",
      "model_module_version": "1.2.0",
      "model_name": "LayoutModel",
      "state": {
       "margin": "0px 0px 10px 0px"
      }
     },
     "6863cbb083e04d5c9c1a95731ce70f20": {
      "model_module": "@jupyter-widgets/base",
      "model_module_version": "1.2.0",
      "model_name": "LayoutModel",
      "state": {
       "width": "145px"
      }
     },
     "692243ec871840548696b28ef1a71b0f": {
      "model_module": "@jupyter-widgets/controls",
      "model_module_version": "1.5.0",
      "model_name": "HTMLModel",
      "state": {
       "layout": "IPY_MODEL_6e4aa442580040c4a11667fa19022af5",
       "style": "IPY_MODEL_467754524cdf4049b19bd6ea03eca647",
       "value": "<h5>Queue</h5>"
      }
     },
     "69ea08366f8e4be08dddde0c0fbcc764": {
      "model_module": "@jupyter-widgets/base",
      "model_module_version": "1.2.0",
      "model_name": "LayoutModel",
      "state": {}
     },
     "6aa1493f207842bba2c6300020935a88": {
      "model_module": "@jupyter-widgets/controls",
      "model_module_version": "1.5.0",
      "model_name": "DescriptionStyleModel",
      "state": {
       "description_width": ""
      }
     },
     "6aa4a23a6b6d4519b7e4587b09caded8": {
      "model_module": "@jupyter-widgets/controls",
      "model_module_version": "1.5.0",
      "model_name": "DescriptionStyleModel",
      "state": {
       "description_width": ""
      }
     },
     "6b4e274670fe40068558a248feeffa6a": {
      "model_module": "@jupyter-widgets/base",
      "model_module_version": "1.2.0",
      "model_name": "LayoutModel",
      "state": {}
     },
     "6ba14da99fbb492d8c19ed1663b0c316": {
      "model_module": "@jupyter-widgets/controls",
      "model_module_version": "1.5.0",
      "model_name": "DescriptionStyleModel",
      "state": {
       "description_width": ""
      }
     },
     "6c228e5b113d4a998c9ddb2245170d23": {
      "model_module": "@jupyter-widgets/controls",
      "model_module_version": "1.5.0",
      "model_name": "HTMLModel",
      "state": {
       "layout": "IPY_MODEL_522abd193d5143a6bd304bb1f5073fa0",
       "style": "IPY_MODEL_d1e4ae0f595b4df19d172c6af221c849",
       "value": "<h5>Queue</h5>"
      }
     },
     "6c9e2fcaa9a94d0aa61975a91a432150": {
      "model_module": "@jupyter-widgets/base",
      "model_module_version": "1.2.0",
      "model_name": "LayoutModel",
      "state": {
       "width": "145px"
      }
     },
     "6cc701461412458ca8245149cec18326": {
      "model_module": "@jupyter-widgets/base",
      "model_module_version": "1.2.0",
      "model_name": "LayoutModel",
      "state": {}
     },
     "6d78da2cb743401b88df3de8f2a62634": {
      "model_module": "@jupyter-widgets/controls",
      "model_module_version": "1.5.0",
      "model_name": "ButtonModel",
      "state": {
       "button_style": "primary",
       "description": "Clear",
       "layout": "IPY_MODEL_61aeb577b8eb48e18a4b87207c5f8963",
       "style": "IPY_MODEL_e143cd6b9bdd4026b13ed57fc89715b5"
      }
     },
     "6d7ad7f0b06f4995b487297d0ccbd9a0": {
      "model_module": "@quantum/ibm-q-lab-widgets",
      "model_module_version": "^1.0.3",
      "model_name": "CircuitComposerModel",
      "state": {
       "_model_module_version": "^1.0.3",
       "_view_module_version": "^1.0.3",
       "circuit": "\"OPENQASM 2.0;\\ninclude \\\"qelib1.inc\\\";\\n\\nqreg q[3];\\ncreg c[3];\\n\\n\"",
       "editable": true,
       "layout": "IPY_MODEL_6e54f495f9e34958abf09fe70ba8a7a6",
       "qiskit_code_cell_index": -1
      }
     },
     "6dbddc0ddb0a4ecc9df90c8cfd27fc66": {
      "model_module": "@jupyter-widgets/base",
      "model_module_version": "1.2.0",
      "model_name": "LayoutModel",
      "state": {
       "grid_template_areas": "\n                                       \". . . . right \"\n                                        ",
       "grid_template_columns": "20% 20% 20% 20% 20%",
       "width": "100%"
      }
     },
     "6deb558b337f49df897c73c33b6260bf": {
      "model_module": "@quantum/ibm-q-lab-widgets",
      "model_module_version": "^1.0.3",
      "model_name": "CircuitComposerModel",
      "state": {
       "_model_module_version": "^1.0.3",
       "_view_module_version": "^1.0.3",
       "circuit": "\"OPENQASM 2.0;\\ninclude \\\"qelib1.inc\\\";\\n\\nqreg q3[3];\\ncreg c3[3];\\n\\ncx q3[1],q3[2];\\ncx q3[0],q3[2];\\nccx q3[0],q3[1],q3[2];\\nmeasure q3[2] -> c3[0];\"",
       "editable": true,
       "layout": "IPY_MODEL_6b4e274670fe40068558a248feeffa6a",
       "qiskit_code_cell_index": -1
      }
     },
     "6df98145a8614a84b72c65622704b00a": {
      "model_module": "@jupyter-widgets/controls",
      "model_module_version": "1.5.0",
      "model_name": "DescriptionStyleModel",
      "state": {
       "description_width": ""
      }
     },
     "6e4aa442580040c4a11667fa19022af5": {
      "model_module": "@jupyter-widgets/base",
      "model_module_version": "1.2.0",
      "model_name": "LayoutModel",
      "state": {
       "width": "70px"
      }
     },
     "6e54f495f9e34958abf09fe70ba8a7a6": {
      "model_module": "@jupyter-widgets/base",
      "model_module_version": "1.2.0",
      "model_name": "LayoutModel",
      "state": {}
     },
     "6e6dcd0ba35c40cbb57375b033fec87f": {
      "model_module": "@jupyter-widgets/controls",
      "model_module_version": "1.5.0",
      "model_name": "GridBoxModel",
      "state": {
       "children": [
        "IPY_MODEL_32f919e0f5134760a9df0d89d2e77b51"
       ],
       "layout": "IPY_MODEL_01ec1d1813484c968dbcca4b508b99e4"
      }
     },
     "6f05f9fe4c734814ae7c24818dd8c8e4": {
      "model_module": "@jupyter-widgets/base",
      "model_module_version": "1.2.0",
      "model_name": "LayoutModel",
      "state": {
       "width": "190px"
      }
     },
     "6f15393cd1824bbb982518094b13478e": {
      "model_module": "@jupyter-widgets/base",
      "model_module_version": "1.2.0",
      "model_name": "LayoutModel",
      "state": {
       "width": "95px"
      }
     },
     "6fffde7c383f4bbeb8ebb3faea17920e": {
      "model_module": "@jupyter-widgets/base",
      "model_module_version": "1.2.0",
      "model_name": "LayoutModel",
      "state": {
       "width": "145px"
      }
     },
     "7039e4855fa24b4fb551de5b163bc636": {
      "model_module": "@jupyter-widgets/controls",
      "model_module_version": "1.5.0",
      "model_name": "DescriptionStyleModel",
      "state": {
       "description_width": ""
      }
     },
     "7073bbfee267411fbf836caeae310ca5": {
      "model_module": "@jupyter-widgets/controls",
      "model_module_version": "1.5.0",
      "model_name": "HTMLModel",
      "state": {
       "layout": "IPY_MODEL_a539ea37afa84225bda9b0b1a4124d73",
       "style": "IPY_MODEL_7ce557786a2d41cab652e557786eb0bc",
       "value": "<h5>Job ID</h5>"
      }
     },
     "708f57cb5f17430db0df148fcad6d731": {
      "model_module": "@jupyter-widgets/base",
      "model_module_version": "1.2.0",
      "model_name": "LayoutModel",
      "state": {
       "grid_area": "right",
       "padding": "0px 0px 0px 0px",
       "width": "70px"
      }
     },
     "711101cbd9724bfc9741364f1ee35bf6": {
      "model_module": "@jupyter-widgets/controls",
      "model_module_version": "1.5.0",
      "model_name": "HTMLModel",
      "state": {
       "layout": "IPY_MODEL_77119a792e294ddbbee08fcc30379c05",
       "style": "IPY_MODEL_6ba14da99fbb492d8c19ed1663b0c316",
       "value": "<h5>Job ID</h5>"
      }
     },
     "71b76fdeebd543f2a86f657a6e7a31c9": {
      "model_module": "@jupyter-widgets/controls",
      "model_module_version": "1.5.0",
      "model_name": "DescriptionStyleModel",
      "state": {
       "description_width": ""
      }
     },
     "733280e940c8467c98f8dad1d664c470": {
      "model_module": "@jupyter-widgets/base",
      "model_module_version": "1.2.0",
      "model_name": "LayoutModel",
      "state": {}
     },
     "744f1cadf5124e6695ed0ce837a98414": {
      "model_module": "@jupyter-widgets/controls",
      "model_module_version": "1.5.0",
      "model_name": "DescriptionStyleModel",
      "state": {
       "description_width": ""
      }
     },
     "74519cce23de44ca8ee162293804ce2c": {
      "model_module": "@jupyter-widgets/base",
      "model_module_version": "1.2.0",
      "model_name": "LayoutModel",
      "state": {}
     },
     "746eefff70994b2ca689a2790ab4e164": {
      "model_module": "@jupyter-widgets/controls",
      "model_module_version": "1.5.0",
      "model_name": "ButtonStyleModel",
      "state": {}
     },
     "74f24cd3a4464234a81526166562b963": {
      "model_module": "@jupyter-widgets/controls",
      "model_module_version": "1.5.0",
      "model_name": "DescriptionStyleModel",
      "state": {
       "description_width": ""
      }
     },
     "7568b8a678284642aaa444741d4a26a5": {
      "model_module": "@jupyter-widgets/controls",
      "model_module_version": "1.5.0",
      "model_name": "HBoxModel",
      "state": {
       "children": [
        "IPY_MODEL_7073bbfee267411fbf836caeae310ca5",
        "IPY_MODEL_2a0fc29ac3d44f4c9b57e3851cffb1d1",
        "IPY_MODEL_99347a4d58dc47348a9578c398b24209",
        "IPY_MODEL_6c228e5b113d4a998c9ddb2245170d23",
        "IPY_MODEL_a54bf7efb7cd44c2a489e20092ccfadb"
       ],
       "layout": "IPY_MODEL_e29f6ed0cb8f41cb913d36c9457a2c1b"
      }
     },
     "76b56b1183514586b8a28fd90a4f76d8": {
      "model_module": "@jupyter-widgets/controls",
      "model_module_version": "1.5.0",
      "model_name": "GridBoxModel",
      "state": {
       "children": [
        "IPY_MODEL_8c6217d8abbc419e86dade3c4630ae4a"
       ],
       "layout": "IPY_MODEL_445317bcd81a4c328824dea9ff477ed7"
      }
     },
     "77119a792e294ddbbee08fcc30379c05": {
      "model_module": "@jupyter-widgets/base",
      "model_module_version": "1.2.0",
      "model_name": "LayoutModel",
      "state": {
       "width": "190px"
      }
     },
     "776b4b70a59846898f102ac3e50852a2": {
      "model_module": "@jupyter-widgets/controls",
      "model_module_version": "1.5.0",
      "model_name": "DescriptionStyleModel",
      "state": {
       "description_width": ""
      }
     },
     "77bcaf6d5cdd4db2a5d70a7b8a493456": {
      "model_module": "@jupyter-widgets/controls",
      "model_module_version": "1.5.0",
      "model_name": "DescriptionStyleModel",
      "state": {
       "description_width": ""
      }
     },
     "78c05694575a4c6d843467f766cb5ceb": {
      "model_module": "@jupyter-widgets/controls",
      "model_module_version": "1.5.0",
      "model_name": "DescriptionStyleModel",
      "state": {
       "description_width": ""
      }
     },
     "791934bf3d9341cda49c154379622d16": {
      "model_module": "@jupyter-widgets/controls",
      "model_module_version": "1.5.0",
      "model_name": "DescriptionStyleModel",
      "state": {
       "description_width": ""
      }
     },
     "791ee719ffcf47699877ff7253a067a3": {
      "model_module": "@jupyter-widgets/controls",
      "model_module_version": "1.5.0",
      "model_name": "HTMLModel",
      "state": {
       "layout": "IPY_MODEL_bc4d49ec36884ca08d7e3c361c8f2eb9",
       "style": "IPY_MODEL_cb6e53942e7d45c7a8ca94514e6d2951",
       "value": "<h5>Message</h5>"
      }
     },
     "799fa903848b49e5b2b5b83869c3825c": {
      "model_module": "@jupyter-widgets/controls",
      "model_module_version": "1.5.0",
      "model_name": "HTMLModel",
      "state": {
       "layout": "IPY_MODEL_f62bbcfe06b54122ad83f33297fc140b",
       "style": "IPY_MODEL_e458643f1ca9444f854bfbe6e1923944",
       "value": "<h5>Queue</h5>"
      }
     },
     "7a6576a2ab9f40b0b5e0f9d2aee56d10": {
      "model_module": "@jupyter-widgets/base",
      "model_module_version": "1.2.0",
      "model_name": "LayoutModel",
      "state": {
       "width": "145px"
      }
     },
     "7aa1ea80fabc4a74a04a47d302486a90": {
      "model_module": "@jupyter-widgets/base",
      "model_module_version": "1.2.0",
      "model_name": "LayoutModel",
      "state": {}
     },
     "7b8426cc9f7244c98a8c22eca9c9eb18": {
      "model_module": "@jupyter-widgets/base",
      "model_module_version": "1.2.0",
      "model_name": "LayoutModel",
      "state": {}
     },
     "7ce3d8940b17469e9e285c7670e28900": {
      "model_module": "@jupyter-widgets/base",
      "model_module_version": "1.2.0",
      "model_name": "LayoutModel",
      "state": {}
     },
     "7ce557786a2d41cab652e557786eb0bc": {
      "model_module": "@jupyter-widgets/controls",
      "model_module_version": "1.5.0",
      "model_name": "DescriptionStyleModel",
      "state": {
       "description_width": ""
      }
     },
     "7d9409179b6849d08b4cf61e30b7f9f8": {
      "model_module": "@jupyter-widgets/base",
      "model_module_version": "1.2.0",
      "model_name": "LayoutModel",
      "state": {
       "grid_template_areas": "\n                                       \". . . . right \"\n                                        ",
       "grid_template_columns": "20% 20% 20% 20% 20%",
       "width": "100%"
      }
     },
     "7da40d40aaf44de5bee9dde02e9d3ae5": {
      "model_module": "@jupyter-widgets/controls",
      "model_module_version": "1.5.0",
      "model_name": "DescriptionStyleModel",
      "state": {
       "description_width": ""
      }
     },
     "7e216fc602244fb28f7b12c242a55747": {
      "model_module": "@jupyter-widgets/controls",
      "model_module_version": "1.5.0",
      "model_name": "DescriptionStyleModel",
      "state": {
       "description_width": ""
      }
     },
     "7e436ffd7e3a4f05bf1d5598fef6d6dc": {
      "model_module": "@jupyter-widgets/controls",
      "model_module_version": "1.5.0",
      "model_name": "DescriptionStyleModel",
      "state": {
       "description_width": ""
      }
     },
     "7eb7d592b7364615842e585ec91e5d11": {
      "model_module": "@jupyter-widgets/controls",
      "model_module_version": "1.5.0",
      "model_name": "HTMLModel",
      "state": {
       "layout": "IPY_MODEL_e8845e95893040278aff985df15467dc",
       "style": "IPY_MODEL_d1335188923643bfb57240e633bab22a",
       "value": "<h5>Backend</h5>"
      }
     },
     "7f34b188d2de4f6698308fc62b378fab": {
      "model_module": "@jupyter-widgets/base",
      "model_module_version": "1.2.0",
      "model_name": "LayoutModel",
      "state": {
       "margin": "0px 0px 10px 0px"
      }
     },
     "7f7ec52f7c9d43d683e3bf46d5b8af28": {
      "model_module": "@jupyter-widgets/controls",
      "model_module_version": "1.5.0",
      "model_name": "ButtonStyleModel",
      "state": {}
     },
     "7fb7467660ba4818b224a760bf18d2d4": {
      "model_module": "@jupyter-widgets/base",
      "model_module_version": "1.2.0",
      "model_name": "LayoutModel",
      "state": {
       "width": "145px"
      }
     },
     "80ad5a6c1fc94be9b43465cfd51d345a": {
      "model_module": "@jupyter-widgets/controls",
      "model_module_version": "1.5.0",
      "model_name": "DescriptionStyleModel",
      "state": {
       "description_width": ""
      }
     },
     "81c00e1676ed404ca7efacd7c80fb9df": {
      "model_module": "@jupyter-widgets/controls",
      "model_module_version": "1.5.0",
      "model_name": "HTMLModel",
      "state": {
       "layout": "IPY_MODEL_a6ffbad732774df8bf8910abbd018ceb",
       "style": "IPY_MODEL_646f38fbda294bc1b82e21ec5c417b63",
       "value": "<h5>Status</h5>"
      }
     },
     "82231b026e924401b018112f62c5e103": {
      "model_module": "@jupyter-widgets/base",
      "model_module_version": "1.2.0",
      "model_name": "LayoutModel",
      "state": {
       "grid_template_areas": "\n                                       \". . . . right \"\n                                        ",
       "grid_template_columns": "20% 20% 20% 20% 20%",
       "width": "100%"
      }
     },
     "82b98116d62c4ebb892f4468d53c518c": {
      "model_module": "@jupyter-widgets/base",
      "model_module_version": "1.2.0",
      "model_name": "LayoutModel",
      "state": {
       "grid_area": "right",
       "padding": "0px 0px 0px 0px",
       "width": "70px"
      }
     },
     "852c60eab2d74300b9014d1e064ccacc": {
      "model_module": "@jupyter-widgets/base",
      "model_module_version": "1.2.0",
      "model_name": "LayoutModel",
      "state": {
       "width": "190px"
      }
     },
     "854dd58f9d564fc5a8a9ed09aaf3c44d": {
      "model_module": "@jupyter-widgets/base",
      "model_module_version": "1.2.0",
      "model_name": "LayoutModel",
      "state": {
       "width": "190px"
      }
     },
     "8551369d40ec48bd8b59681e53dc8761": {
      "model_module": "@jupyter-widgets/controls",
      "model_module_version": "1.5.0",
      "model_name": "GridBoxModel",
      "state": {
       "children": [
        "IPY_MODEL_6d78da2cb743401b88df3de8f2a62634"
       ],
       "layout": "IPY_MODEL_ac107e6edc494695971ac37c5661a386"
      }
     },
     "85525067dff94970af9dd5e04b5d4f95": {
      "model_module": "@jupyter-widgets/base",
      "model_module_version": "1.2.0",
      "model_name": "LayoutModel",
      "state": {}
     },
     "8568082cdd16496d851d248b56d69d2c": {
      "model_module": "@jupyter-widgets/base",
      "model_module_version": "1.2.0",
      "model_name": "LayoutModel",
      "state": {
       "width": "190px"
      }
     },
     "862e6925e2384b30961b06c36e059459": {
      "model_module": "@jupyter-widgets/controls",
      "model_module_version": "1.5.0",
      "model_name": "GridBoxModel",
      "state": {
       "children": [
        "IPY_MODEL_c23d34059bd94326a2db9a68e34a2296"
       ],
       "layout": "IPY_MODEL_264de026736c4158b88c260d5ad43c67"
      }
     },
     "867281371bda41c9a144f55b81f5cb41": {
      "model_module": "@jupyter-widgets/controls",
      "model_module_version": "1.5.0",
      "model_name": "HTMLModel",
      "state": {
       "layout": "IPY_MODEL_df958bfd89d04fc096f9002c8adf0b01",
       "style": "IPY_MODEL_09df53fcfd534ea3ac0ac8d3eba69d85",
       "value": "<h5>Queue</h5>"
      }
     },
     "87e5b80d6e534ef79b8c1311e137fd98": {
      "model_module": "@jupyter-widgets/base",
      "model_module_version": "1.2.0",
      "model_name": "LayoutModel",
      "state": {}
     },
     "883b175146d344bf9c74af87605d42fb": {
      "model_module": "@jupyter-widgets/base",
      "model_module_version": "1.2.0",
      "model_name": "LayoutModel",
      "state": {
       "width": "145px"
      }
     },
     "89aa7532228f44319c6b71354eb29dd3": {
      "model_module": "@jupyter-widgets/controls",
      "model_module_version": "1.5.0",
      "model_name": "ButtonStyleModel",
      "state": {}
     },
     "8a53040bf3a247678bb21bde9af43923": {
      "model_module": "@jupyter-widgets/controls",
      "model_module_version": "1.5.0",
      "model_name": "GridBoxModel",
      "state": {
       "children": [
        "IPY_MODEL_998d339fc5d14c328bd4b0431ab10de4"
       ],
       "layout": "IPY_MODEL_7d9409179b6849d08b4cf61e30b7f9f8"
      }
     },
     "8af40c979d2f4abf8eb79c65190883f4": {
      "model_module": "@jupyter-widgets/controls",
      "model_module_version": "1.5.0",
      "model_name": "DescriptionStyleModel",
      "state": {
       "description_width": ""
      }
     },
     "8af8905c98d14605aec36fc840b02344": {
      "model_module": "@jupyter-widgets/base",
      "model_module_version": "1.2.0",
      "model_name": "LayoutModel",
      "state": {
       "width": "70px"
      }
     },
     "8b3a8e1e875840d1b5f26a70860cfb00": {
      "model_module": "@jupyter-widgets/base",
      "model_module_version": "1.2.0",
      "model_name": "LayoutModel",
      "state": {
       "margin": "0px 0px 0px 37px",
       "width": "600px"
      }
     },
     "8b98c82060564483b39a625bdccd5376": {
      "model_module": "@jupyter-widgets/base",
      "model_module_version": "1.2.0",
      "model_name": "LayoutModel",
      "state": {}
     },
     "8bc40f254f74420fb63df5318f871ea7": {
      "model_module": "@jupyter-widgets/controls",
      "model_module_version": "1.5.0",
      "model_name": "HTMLModel",
      "state": {
       "layout": "IPY_MODEL_2d9a5f3ecb7844d9a235518bf29aa502",
       "style": "IPY_MODEL_8d80167d95cb401f9d40e10105415ebc",
       "value": "<h5>Message</h5>"
      }
     },
     "8c6217d8abbc419e86dade3c4630ae4a": {
      "model_module": "@jupyter-widgets/controls",
      "model_module_version": "1.5.0",
      "model_name": "ButtonModel",
      "state": {
       "button_style": "primary",
       "description": "Clear",
       "layout": "IPY_MODEL_60d9d629460144a688bb2e9773b36ef1",
       "style": "IPY_MODEL_3550cd9a049f480f8b952c93869e96e2"
      }
     },
     "8c70f0a9bbdf4282abc5ebed499d2b3d": {
      "model_module": "@jupyter-widgets/base",
      "model_module_version": "1.2.0",
      "model_name": "LayoutModel",
      "state": {}
     },
     "8c8ebb9ab7814f49b7f124610764c2a1": {
      "model_module": "@jupyter-widgets/controls",
      "model_module_version": "1.5.0",
      "model_name": "DescriptionStyleModel",
      "state": {
       "description_width": ""
      }
     },
     "8ce36385b1d940f786f5ca2cf45ef9e3": {
      "model_module": "@jupyter-widgets/base",
      "model_module_version": "1.2.0",
      "model_name": "LayoutModel",
      "state": {
       "width": "190px"
      }
     },
     "8d80167d95cb401f9d40e10105415ebc": {
      "model_module": "@jupyter-widgets/controls",
      "model_module_version": "1.5.0",
      "model_name": "DescriptionStyleModel",
      "state": {
       "description_width": ""
      }
     },
     "8e9c726f02214302bca28d27fcdb997e": {
      "model_module": "@jupyter-widgets/controls",
      "model_module_version": "1.5.0",
      "model_name": "HTMLModel",
      "state": {
       "layout": "IPY_MODEL_1c8068c149294210bb3ca556b2573ee4",
       "style": "IPY_MODEL_ef20b21a3be842a1932eabbd1d8f78d4",
       "value": "<h5>Queue</h5>"
      }
     },
     "8ea306f791db457b90507ec65f340861": {
      "model_module": "@jupyter-widgets/controls",
      "model_module_version": "1.5.0",
      "model_name": "HTMLModel",
      "state": {
       "layout": "IPY_MODEL_e6dbad990ed34d75859d6d820ea44eea",
       "style": "IPY_MODEL_615af80a815142e9ae2f628501d2a061",
       "value": "<h5>Job ID</h5>"
      }
     },
     "8ec78aac5d1449279de38faad5b8dd76": {
      "model_module": "@jupyter-widgets/base",
      "model_module_version": "1.2.0",
      "model_name": "LayoutModel",
      "state": {
       "width": "190px"
      }
     },
     "8fd2ff76c6d6443f893204196915d077": {
      "model_module": "@quantum/ibm-q-lab-widgets",
      "model_module_version": "^1.0.3",
      "model_name": "CircuitComposerModel",
      "state": {
       "_model_module_version": "^1.0.3",
       "_view_module_version": "^1.0.3",
       "circuit": "\"OPENQASM 2.0;\\ninclude \\\"qelib1.inc\\\";\\n\\nqreg q1[3];\\ncreg c1[3];\\n\\ncx q1[1],q1[2];\\ncx q1[0],q1[2];\\nccx q1[0],q1[1],q1[2];\\nmeasure q1[2] -> c1[0];\\nx q1[2];\\nmeasure q1[2] -> c1[0];\"",
       "editable": true,
       "layout": "IPY_MODEL_098146a76288479d8f34020f737f6605",
       "qiskit_code_cell_index": -1
      }
     },
     "901433422340420db62e9ae3127d4235": {
      "model_module": "@jupyter-widgets/base",
      "model_module_version": "1.2.0",
      "model_name": "LayoutModel",
      "state": {
       "width": "145px"
      }
     },
     "905541cbe239467da30cbd81517e9772": {
      "model_module": "@jupyter-widgets/controls",
      "model_module_version": "1.5.0",
      "model_name": "DescriptionStyleModel",
      "state": {
       "description_width": ""
      }
     },
     "907ca8dcd51d4ae99b6476f8c8286168": {
      "model_module": "@jupyter-widgets/controls",
      "model_module_version": "1.5.0",
      "model_name": "ButtonModel",
      "state": {
       "button_style": "primary",
       "description": "Clear",
       "layout": "IPY_MODEL_24b2811721fb477786959cc922d47fac",
       "style": "IPY_MODEL_95d8d7a648bd4ed8a9b3f20ae1afa148"
      }
     },
     "90a5746f0bfc425598c87b0865033aaf": {
      "model_module": "@jupyter-widgets/controls",
      "model_module_version": "1.5.0",
      "model_name": "HTMLModel",
      "state": {
       "layout": "IPY_MODEL_f716d34fb3e34c4e9731810376427b3b",
       "style": "IPY_MODEL_b5e2b7928d0249aaba6c60bb33f86a00",
       "value": "<p style='font-family: IBM Plex Sans, Arial, Helvetica, sans-serif; font-size: 20px; font-weight: medium;'>Circuit Properties</p>"
      }
     },
     "90b0ee9a82e741008e8569543d914998": {
      "model_module": "@jupyter-widgets/base",
      "model_module_version": "1.2.0",
      "model_name": "LayoutModel",
      "state": {
       "grid_template_areas": "\n                                       \". . . . right \"\n                                        ",
       "grid_template_columns": "20% 20% 20% 20% 20%",
       "width": "100%"
      }
     },
     "90cd23bb0ffe4124af34bee073d37774": {
      "model_module": "@jupyter-widgets/controls",
      "model_module_version": "1.5.0",
      "model_name": "DescriptionStyleModel",
      "state": {
       "description_width": ""
      }
     },
     "9195aa3bf23a4f1db12c184ef545292c": {
      "model_module": "@jupyter-widgets/controls",
      "model_module_version": "1.5.0",
      "model_name": "HTMLModel",
      "state": {
       "layout": "IPY_MODEL_6fffde7c383f4bbeb8ebb3faea17920e",
       "style": "IPY_MODEL_80ad5a6c1fc94be9b43465cfd51d345a",
       "value": "<h5>Backend</h5>"
      }
     },
     "92b84366ab0e4745bf4558430002b003": {
      "model_module": "@jupyter-widgets/base",
      "model_module_version": "1.2.0",
      "model_name": "LayoutModel",
      "state": {
       "width": "70px"
      }
     },
     "933383d4dae5451db183349b7948a6c8": {
      "model_module": "@quantum/ibm-q-lab-widgets",
      "model_module_version": "^1.0.3",
      "model_name": "CircuitComposerModel",
      "state": {
       "_model_module_version": "^1.0.3",
       "_view_module_version": "^1.0.3",
       "circuit": "\"OPENQASM 2.0;\\ninclude \\\"qelib1.inc\\\";\\n\\nqreg q[3];\\ncreg c[3];\\n\\n\"",
       "editable": true,
       "layout": "IPY_MODEL_1555d2ac5d1c4c93a2c43c5fc1189ac0",
       "qiskit_code_cell_index": -1
      }
     },
     "93bcccc0815f47f880a809b94c71b54b": {
      "model_module": "@quantum/ibm-q-lab-widgets",
      "model_module_version": "^1.0.3",
      "model_name": "CircuitComposerModel",
      "state": {
       "_model_module_version": "^1.0.3",
       "_view_module_version": "^1.0.3",
       "circuit": "\"OPENQASM 2.0;\\ninclude \\\"qelib1.inc\\\";\\n\\nqreg q[3];\\ncreg c[3];\\n\\nswap q[0],q[1];\\ncx q[1],q[2];\\nz q[2];\"",
       "editable": true,
       "layout": "IPY_MODEL_a59c703276e04f1caaf8770a25e129c9",
       "qiskit_code_cell_index": 41
      }
     },
     "95d604d7edcc461ab11870eea046e295": {
      "model_module": "@jupyter-widgets/controls",
      "model_module_version": "1.5.0",
      "model_name": "DescriptionStyleModel",
      "state": {
       "description_width": ""
      }
     },
     "95d8d7a648bd4ed8a9b3f20ae1afa148": {
      "model_module": "@jupyter-widgets/controls",
      "model_module_version": "1.5.0",
      "model_name": "ButtonStyleModel",
      "state": {}
     },
     "96d5c6d26c994fc19a437928578a9b8d": {
      "model_module": "@jupyter-widgets/controls",
      "model_module_version": "1.5.0",
      "model_name": "HTMLModel",
      "state": {
       "layout": "IPY_MODEL_8af8905c98d14605aec36fc840b02344",
       "style": "IPY_MODEL_f2a6c5fa72fe4f8faed45ccab979cb03",
       "value": "<h5>Queue</h5>"
      }
     },
     "98114a2a92c047d6af5e6313aeb9d8d2": {
      "model_module": "@jupyter-widgets/controls",
      "model_module_version": "1.5.0",
      "model_name": "HTMLModel",
      "state": {
       "layout": "IPY_MODEL_58dc1b9b38d24ed49244be4634dbfd75",
       "style": "IPY_MODEL_bede716561ee493485972f70dfc0bba5",
       "value": "<p style='font-family: IBM Plex Sans, Arial, Helvetica, sans-serif; font-size: 20px; font-weight: medium;'>Circuit Properties</p>"
      }
     },
     "982f6afb37b548e19410dcc592c23d66": {
      "model_module": "@jupyter-widgets/base",
      "model_module_version": "1.2.0",
      "model_name": "LayoutModel",
      "state": {
       "grid_area": "right",
       "padding": "0px 0px 0px 0px",
       "width": "70px"
      }
     },
     "9834c3fc63694bcf870b45cb91b232e6": {
      "model_module": "@jupyter-widgets/controls",
      "model_module_version": "1.5.0",
      "model_name": "HTMLModel",
      "state": {
       "layout": "IPY_MODEL_aa6abca44fc44b51ab150b48beec45cc",
       "style": "IPY_MODEL_28774d699ac64c6f8080058a12362bb3",
       "value": "<p style='font-family: IBM Plex Sans, Arial, Helvetica, sans-serif; font-size: 20px; font-weight: medium;'>Circuit Properties</p>"
      }
     },
     "986764d62f5b4e28b358ca5b8203b672": {
      "model_module": "@quantum/ibm-q-lab-widgets",
      "model_module_version": "^1.0.3",
      "model_name": "CircuitComposerModel",
      "state": {
       "_model_module_version": "^1.0.3",
       "_view_module_version": "^1.0.3",
       "circuit": "\"OPENQASM 2.0;\\ninclude \\\"qelib1.inc\\\";\\n\\nqreg q3[1];\\ncreg c2[1];\\n\\nrz(pi/2) q3[0];\\nsx q3[0];\\nrz(pi/2) q3[0];\"",
       "editable": true,
       "layout": "IPY_MODEL_8c70f0a9bbdf4282abc5ebed499d2b3d",
       "qiskit_code_cell_index": -1
      }
     },
     "988545c15da74334bc930567aa91dfb8": {
      "model_module": "@jupyter-widgets/base",
      "model_module_version": "1.2.0",
      "model_name": "LayoutModel",
      "state": {
       "margin": "0px 0px 0px 37px",
       "width": "600px"
      }
     },
     "99347a4d58dc47348a9578c398b24209": {
      "model_module": "@jupyter-widgets/controls",
      "model_module_version": "1.5.0",
      "model_name": "HTMLModel",
      "state": {
       "layout": "IPY_MODEL_437750a22d3f469f91ab47ad757e2a45",
       "style": "IPY_MODEL_6aa1493f207842bba2c6300020935a88",
       "value": "<h5>Status</h5>"
      }
     },
     "998d339fc5d14c328bd4b0431ab10de4": {
      "model_module": "@jupyter-widgets/controls",
      "model_module_version": "1.5.0",
      "model_name": "ButtonModel",
      "state": {
       "button_style": "primary",
       "description": "Clear",
       "layout": "IPY_MODEL_642c9ceedc4140cdb66870edf338b9c2",
       "style": "IPY_MODEL_2dbfeffcb9814e2bb68f0a08f38d9b18"
      }
     },
     "9af0592a04a74f3e9ab218f471927763": {
      "model_module": "@jupyter-widgets/controls",
      "model_module_version": "1.5.0",
      "model_name": "HTMLModel",
      "state": {
       "layout": "IPY_MODEL_157664f9cd124216918b16ca4a323852",
       "style": "IPY_MODEL_ff701b3970a84131991b6d665a19e178",
       "value": "<h5>Queue</h5>"
      }
     },
     "9b2b9391cdc54e7f84bcd80736977d8a": {
      "model_module": "@jupyter-widgets/base",
      "model_module_version": "1.2.0",
      "model_name": "LayoutModel",
      "state": {
       "width": "70px"
      }
     },
     "9b5c2380d1f64e5ba44920313943086c": {
      "model_module": "@jupyter-widgets/controls",
      "model_module_version": "1.5.0",
      "model_name": "HTMLModel",
      "state": {
       "layout": "IPY_MODEL_d690abc463d64f80a2722d23de682e74",
       "style": "IPY_MODEL_a98982e7bd1044a3aac97cd7170b937d",
       "value": "<h5>Status</h5>"
      }
     },
     "9bc7db62d4d541cd92e7cd19d340bf19": {
      "model_module": "@jupyter-widgets/base",
      "model_module_version": "1.2.0",
      "model_name": "LayoutModel",
      "state": {
       "margin": "0px 0px 0px 37px",
       "width": "600px"
      }
     },
     "9c807f2134484e25b0b289d4aafb00c0": {
      "model_module": "@jupyter-widgets/controls",
      "model_module_version": "1.5.0",
      "model_name": "GridBoxModel",
      "state": {
       "children": [
        "IPY_MODEL_26ca92d21d6149828724dd6d4b588389"
       ],
       "layout": "IPY_MODEL_d769842e39214aae9fed90fe36b450b7"
      }
     },
     "9d35ec002bd14646a190b1c8afb92a23": {
      "model_module": "@quantum/ibm-q-lab-widgets",
      "model_module_version": "^1.0.3",
      "model_name": "CircuitComposerModel",
      "state": {
       "_model_module_version": "^1.0.3",
       "_view_module_version": "^1.0.3",
       "circuit": "\"OPENQASM 2.0;\\ninclude \\\"qelib1.inc\\\";\\n\\nqreg q[3];\\ncreg c[1];\\n\\ncx q[1],q[2];\\ncx q[0],q[2];\\nccx q[0],q[1],q[2];\\nmeasure q[2] -> c[0];\"",
       "editable": true,
       "layout": "IPY_MODEL_733280e940c8467c98f8dad1d664c470",
       "qiskit_code_cell_index": -1
      }
     },
     "9ed9590323aa46688e2ba31f633e3f78": {
      "model_module": "@jupyter-widgets/controls",
      "model_module_version": "1.5.0",
      "model_name": "DescriptionStyleModel",
      "state": {
       "description_width": ""
      }
     },
     "a05c2cdb2ee446548fa484374b05f26d": {
      "model_module": "@jupyter-widgets/controls",
      "model_module_version": "1.5.0",
      "model_name": "HBoxModel",
      "state": {
       "children": [
        "IPY_MODEL_3e174dd3d8544ac88043f17a5ecc8500",
        "IPY_MODEL_c562f2f16b5c438fa3272c4a145e7d01",
        "IPY_MODEL_a3c65616f3d94913b0115577bf2f6ac4",
        "IPY_MODEL_115e321a54064c15af84960de9afcd39",
        "IPY_MODEL_d85f26eaecff4d26964747f7489a1573"
       ],
       "layout": "IPY_MODEL_4400777ab0fe475b8bf004b489e25a8a"
      }
     },
     "a0669cb8aa644cd1bbe036acbd656053": {
      "model_module": "@jupyter-widgets/base",
      "model_module_version": "1.2.0",
      "model_name": "LayoutModel",
      "state": {
       "width": "70px"
      }
     },
     "a116878984b741f7ac6690e44f038947": {
      "model_module": "@jupyter-widgets/base",
      "model_module_version": "1.2.0",
      "model_name": "LayoutModel",
      "state": {}
     },
     "a1aae185da6941518751e6b928729bcd": {
      "model_module": "@jupyter-widgets/base",
      "model_module_version": "1.2.0",
      "model_name": "LayoutModel",
      "state": {
       "width": "70px"
      }
     },
     "a1f3145fb47f4d76ad779a51947861b4": {
      "model_module": "@jupyter-widgets/base",
      "model_module_version": "1.2.0",
      "model_name": "LayoutModel",
      "state": {}
     },
     "a2cf13b0153145f8ac7d332020f87ffd": {
      "model_module": "@jupyter-widgets/base",
      "model_module_version": "1.2.0",
      "model_name": "LayoutModel",
      "state": {
       "margin": "0px 0px 0px 37px",
       "width": "600px"
      }
     },
     "a3c65616f3d94913b0115577bf2f6ac4": {
      "model_module": "@jupyter-widgets/controls",
      "model_module_version": "1.5.0",
      "model_name": "HTMLModel",
      "state": {
       "layout": "IPY_MODEL_602fd472a90e4e0881c932ac3137a452",
       "style": "IPY_MODEL_fc6e67828b47492caa52c2d91c372fe7",
       "value": "<h5>Status</h5>"
      }
     },
     "a4954a10292b43efb85baa1d788db3d6": {
      "model_module": "@jupyter-widgets/base",
      "model_module_version": "1.2.0",
      "model_name": "LayoutModel",
      "state": {
       "margin": "0px 0px 0px 37px",
       "width": "600px"
      }
     },
     "a4b896b34a244855abd723ca174724cf": {
      "model_module": "@jupyter-widgets/base",
      "model_module_version": "1.2.0",
      "model_name": "LayoutModel",
      "state": {}
     },
     "a539ea37afa84225bda9b0b1a4124d73": {
      "model_module": "@jupyter-widgets/base",
      "model_module_version": "1.2.0",
      "model_name": "LayoutModel",
      "state": {
       "width": "190px"
      }
     },
     "a54bf7efb7cd44c2a489e20092ccfadb": {
      "model_module": "@jupyter-widgets/controls",
      "model_module_version": "1.5.0",
      "model_name": "HTMLModel",
      "state": {
       "layout": "IPY_MODEL_cc71eb09ce1b494b81f90cfcc2e1dd95",
       "style": "IPY_MODEL_5f4a503db4894223b5dfa7edaff2a2ba",
       "value": "<h5>Message</h5>"
      }
     },
     "a59c44990a98430687a0f4ea958a0fd6": {
      "model_module": "@quantum/ibm-q-lab-widgets",
      "model_module_version": "^1.0.3",
      "model_name": "CircuitComposerModel",
      "state": {
       "_model_module_version": "^1.0.3",
       "_view_module_version": "^1.0.3",
       "circuit": "\"OPENQASM 2.0;\\ninclude \\\"qelib1.inc\\\";\\n\\nqreg q[3];\\ncreg c[3];\\n\\n\"",
       "editable": true,
       "layout": "IPY_MODEL_ede3b422e153430b9b0b630a174ce576",
       "qiskit_code_cell_index": -1
      }
     },
     "a59c703276e04f1caaf8770a25e129c9": {
      "model_module": "@jupyter-widgets/base",
      "model_module_version": "1.2.0",
      "model_name": "LayoutModel",
      "state": {}
     },
     "a625863b3c27475e9f15361af2d48ced": {
      "model_module": "@jupyter-widgets/controls",
      "model_module_version": "1.5.0",
      "model_name": "HTMLModel",
      "state": {
       "layout": "IPY_MODEL_66423f7c452749c1a55a4e6885cf4ac6",
       "style": "IPY_MODEL_af9441cd16cf4658b7949bf9d81b8b83",
       "value": "<h5>Message</h5>"
      }
     },
     "a680d46ae9e24200b5cfbfda6f403ac0": {
      "model_module": "@jupyter-widgets/controls",
      "model_module_version": "1.5.0",
      "model_name": "HTMLModel",
      "state": {
       "layout": "IPY_MODEL_1ae18da521ee4927b3438a6a5e76ba9e",
       "style": "IPY_MODEL_f58a7f58e3d948a887ae0e5a112c4793",
       "value": "<h5>Status</h5>"
      }
     },
     "a6bb9f421d4a4d178256237cd4c276bd": {
      "model_module": "@quantum/ibm-q-lab-widgets",
      "model_module_version": "^1.0.3",
      "model_name": "CircuitComposerModel",
      "state": {
       "_model_module_version": "^1.0.3",
       "_view_module_version": "^1.0.3",
       "circuit": "\"OPENQASM 2.0;\\ninclude \\\"qelib1.inc\\\";\\n\\nqreg q2[3];\\ncreg c1[3];\\n\\ncx q2[1],q2[2];\\ncx q2[0],q2[2];\\nccx q2[0],q2[1],q2[2];\\nmeasure q2[2] -> c1[0];\"",
       "editable": true,
       "layout": "IPY_MODEL_37b7d129f94342e1abcce40399056637",
       "qiskit_code_cell_index": -1
      }
     },
     "a6ffbad732774df8bf8910abbd018ceb": {
      "model_module": "@jupyter-widgets/base",
      "model_module_version": "1.2.0",
      "model_name": "LayoutModel",
      "state": {
       "width": "95px"
      }
     },
     "a7e387ce624b4fdd927af7426dbf7025": {
      "model_module": "@jupyter-widgets/controls",
      "model_module_version": "1.5.0",
      "model_name": "DescriptionStyleModel",
      "state": {
       "description_width": ""
      }
     },
     "a81e101e4e1d4190bd0ed8ca09dd418c": {
      "model_module": "@quantum/ibm-q-lab-widgets",
      "model_module_version": "^1.0.3",
      "model_name": "CircuitComposerModel",
      "state": {
       "_model_module_version": "^1.0.3",
       "_view_module_version": "^1.0.3",
       "circuit": "\"OPENQASM 2.0;\\ninclude \\\"qelib1.inc\\\";\\n\\nqreg q[3];\\ncreg c[3];\\n\\n\"",
       "editable": true,
       "layout": "IPY_MODEL_33e5c437cd6949e4b1fc9b6de04f30af",
       "qiskit_code_cell_index": 44
      }
     },
     "a8397cedee8b46068972fb99882fd0c9": {
      "model_module": "@quantum/ibm-q-lab-widgets",
      "model_module_version": "^1.0.3",
      "model_name": "CircuitComposerModel",
      "state": {
       "_model_module_version": "^1.0.3",
       "_view_module_version": "^1.0.3",
       "circuit": "\"OPENQASM 2.0;\\ninclude \\\"qelib1.inc\\\";\\n\\nqreg q[3];\\ncreg c[1];\\n\\ncx q[1],q[2];\\ncx q[0],q[2];\\nccx q[0],q[1],q[2];\\nmeasure q[2] -> c[0];\"",
       "editable": true,
       "layout": "IPY_MODEL_1c3b669f5cb7414782648203af7c1ff7",
       "qiskit_code_cell_index": -1
      }
     },
     "a84b961d485f4979be26e7f5f4734196": {
      "model_module": "@jupyter-widgets/controls",
      "model_module_version": "1.5.0",
      "model_name": "HTMLModel",
      "state": {
       "layout": "IPY_MODEL_275e96c24bb045cdaeb001306313a482",
       "style": "IPY_MODEL_f656665ee2a843408b8bff659ada0675",
       "value": "<p style='font-family: IBM Plex Sans, Arial, Helvetica, sans-serif; font-size: 20px; font-weight: medium;'>Circuit Properties</p>"
      }
     },
     "a88b31f7f45a477e9ad4d48b9aa1193c": {
      "model_module": "@jupyter-widgets/controls",
      "model_module_version": "1.5.0",
      "model_name": "GridBoxModel",
      "state": {
       "children": [
        "IPY_MODEL_331e3257365741db8def52287f2769b5"
       ],
       "layout": "IPY_MODEL_28b34ea527e348f18b88558bdddc0e1b"
      }
     },
     "a8af894664164b2e82c73d8bd47c7485": {
      "model_module": "@jupyter-widgets/base",
      "model_module_version": "1.2.0",
      "model_name": "LayoutModel",
      "state": {
       "margin": "0px 0px 10px 0px"
      }
     },
     "a9483f14f95c4d539945ca3e77071d62": {
      "model_module": "@jupyter-widgets/base",
      "model_module_version": "1.2.0",
      "model_name": "LayoutModel",
      "state": {}
     },
     "a98982e7bd1044a3aac97cd7170b937d": {
      "model_module": "@jupyter-widgets/controls",
      "model_module_version": "1.5.0",
      "model_name": "DescriptionStyleModel",
      "state": {
       "description_width": ""
      }
     },
     "a995ab1aa4e641de9c7bd17565313757": {
      "model_module": "@jupyter-widgets/controls",
      "model_module_version": "1.5.0",
      "model_name": "HTMLModel",
      "state": {
       "layout": "IPY_MODEL_d6c6f0e1e63c4968b6271f43d048d5ae",
       "style": "IPY_MODEL_62fed7858e2d4d5e8efe1b6a4b529075",
       "value": "<h5>Status</h5>"
      }
     },
     "aa6abca44fc44b51ab150b48beec45cc": {
      "model_module": "@jupyter-widgets/base",
      "model_module_version": "1.2.0",
      "model_name": "LayoutModel",
      "state": {
       "margin": "0px 0px 10px 0px"
      }
     },
     "ab588bab3fce4010917bbdd2666df29b": {
      "model_module": "@jupyter-widgets/base",
      "model_module_version": "1.2.0",
      "model_name": "LayoutModel",
      "state": {
       "width": "95px"
      }
     },
     "abfb4fc29dd1406cbbb7f5b53d45638f": {
      "model_module": "@jupyter-widgets/controls",
      "model_module_version": "1.5.0",
      "model_name": "HTMLModel",
      "state": {
       "layout": "IPY_MODEL_8ce36385b1d940f786f5ca2cf45ef9e3",
       "style": "IPY_MODEL_744f1cadf5124e6695ed0ce837a98414",
       "value": "<h5>Job ID</h5>"
      }
     },
     "ac107e6edc494695971ac37c5661a386": {
      "model_module": "@jupyter-widgets/base",
      "model_module_version": "1.2.0",
      "model_name": "LayoutModel",
      "state": {
       "grid_template_areas": "\n                                       \". . . . right \"\n                                        ",
       "grid_template_columns": "20% 20% 20% 20% 20%",
       "width": "100%"
      }
     },
     "ac9a217eec614a1e812d8e53bee008bc": {
      "model_module": "@jupyter-widgets/controls",
      "model_module_version": "1.5.0",
      "model_name": "ButtonModel",
      "state": {
       "button_style": "primary",
       "description": "Clear",
       "layout": "IPY_MODEL_0fdff5dfd0fa447480de43a89a8d0f6a",
       "style": "IPY_MODEL_2dc5151d292d44f3bee2dd4cba36ec92"
      }
     },
     "acfeefe404d345708c5e204b8866788f": {
      "model_module": "@jupyter-widgets/base",
      "model_module_version": "1.2.0",
      "model_name": "LayoutModel",
      "state": {
       "width": "145px"
      }
     },
     "adf6da53203d41128e2426688fc2a811": {
      "model_module": "@jupyter-widgets/base",
      "model_module_version": "1.2.0",
      "model_name": "LayoutModel",
      "state": {}
     },
     "ae8334de76dc46d7aed36ca54514be49": {
      "model_module": "@quantum/ibm-q-lab-widgets",
      "model_module_version": "^1.0.3",
      "model_name": "CircuitComposerModel",
      "state": {
       "_model_module_version": "^1.0.3",
       "_view_module_version": "^1.0.3",
       "circuit": "\"OPENQASM 2.0;\\ninclude \\\"qelib1.inc\\\";\\n\\nqreg q[3];\\ncreg c[3];\\n\\n\"",
       "editable": true,
       "layout": "IPY_MODEL_5617775f6e0240b0bafd6c591c590c2e",
       "qiskit_code_cell_index": -1
      }
     },
     "aed2fff20a4a42d281bc7563fe6254ec": {
      "model_module": "@jupyter-widgets/controls",
      "model_module_version": "1.5.0",
      "model_name": "HTMLModel",
      "state": {
       "layout": "IPY_MODEL_acfeefe404d345708c5e204b8866788f",
       "style": "IPY_MODEL_b78763a523884cfc9577adda062a953f",
       "value": "<h5>Backend</h5>"
      }
     },
     "af50ed8c616640dda8dfe43cd971e526": {
      "model_module": "@jupyter-widgets/controls",
      "model_module_version": "1.5.0",
      "model_name": "DescriptionStyleModel",
      "state": {
       "description_width": ""
      }
     },
     "af9441cd16cf4658b7949bf9d81b8b83": {
      "model_module": "@jupyter-widgets/controls",
      "model_module_version": "1.5.0",
      "model_name": "DescriptionStyleModel",
      "state": {
       "description_width": ""
      }
     },
     "aff87702f540424da09390ab205e01ae": {
      "model_module": "@jupyter-widgets/controls",
      "model_module_version": "1.5.0",
      "model_name": "DescriptionStyleModel",
      "state": {
       "description_width": ""
      }
     },
     "b08b187f73454353a24f8751a6892126": {
      "model_module": "@jupyter-widgets/controls",
      "model_module_version": "1.5.0",
      "model_name": "ButtonStyleModel",
      "state": {}
     },
     "b09656910fce43c2aa88f441e8ae49b1": {
      "model_module": "@jupyter-widgets/controls",
      "model_module_version": "1.5.0",
      "model_name": "ButtonStyleModel",
      "state": {}
     },
     "b09c4aebd3c04d00ba6c15ccca3c0bf5": {
      "model_module": "@jupyter-widgets/controls",
      "model_module_version": "1.5.0",
      "model_name": "ButtonModel",
      "state": {
       "button_style": "primary",
       "description": "Clear",
       "layout": "IPY_MODEL_bbf8b1fd0cab471fb3c2f9e71196371b",
       "style": "IPY_MODEL_148dbc5ca6d54610a7cae53105d55710"
      }
     },
     "b180552daa064c58a5d10a8c97a65dd0": {
      "model_module": "@jupyter-widgets/base",
      "model_module_version": "1.2.0",
      "model_name": "LayoutModel",
      "state": {}
     },
     "b19bbdecfec140caa8f2b64896d5130e": {
      "model_module": "@quantum/ibm-q-lab-widgets",
      "model_module_version": "^1.0.3",
      "model_name": "CircuitComposerModel",
      "state": {
       "_model_module_version": "^1.0.3",
       "_view_module_version": "^1.0.3",
       "circuit": "\"OPENQASM 2.0;\\ninclude \\\"qelib1.inc\\\";\\n\\nqreg q[3];\\ncreg c[3];\\n\\nccx q[0],q[1],q[2];\"",
       "editable": true,
       "layout": "IPY_MODEL_69ea08366f8e4be08dddde0c0fbcc764",
       "qiskit_code_cell_index": -1
      }
     },
     "b1db84f3cc4a4066a8df14637419630c": {
      "model_module": "@quantum/ibm-q-lab-widgets",
      "model_module_version": "^1.0.3",
      "model_name": "CircuitComposerModel",
      "state": {
       "_model_module_version": "^1.0.3",
       "_view_module_version": "^1.0.3",
       "circuit": "\"OPENQASM 2.0;\\ninclude \\\"qelib1.inc\\\";\\n\\nqreg q[3];\\ncreg c[3];\\n\\nswap q[0],q[1];\\nz q[2];\"",
       "editable": true,
       "layout": "IPY_MODEL_50091921f7684addb5afd14d51d0de14",
       "qiskit_code_cell_index": -1
      }
     },
     "b2031dd1b2894b1182f619f10b6fa4f7": {
      "model_module": "@quantum/ibm-q-lab-widgets",
      "model_module_version": "^1.0.3",
      "model_name": "CircuitComposerModel",
      "state": {
       "_model_module_version": "^1.0.3",
       "_view_module_version": "^1.0.3",
       "circuit": "\"OPENQASM 2.0;\\ninclude \\\"qelib1.inc\\\";\\n\\nqreg q[3];\\ncreg c[1];\\n\\ncx q[1],q[2];\\ncx q[0],q[2];\\nccx q[0],q[1],q[2];\\nmeasure q[2] -> c[0];\\nx q[2];\\nmeasure q[2] -> c[0];\"",
       "editable": true,
       "layout": "IPY_MODEL_52b7a4d861f34d46b947838bca90c284",
       "qiskit_code_cell_index": -1
      }
     },
     "b294265339d747a6aa25f5996d4f7077": {
      "model_module": "@quantum/ibm-q-lab-widgets",
      "model_module_version": "^1.0.3",
      "model_name": "CircuitComposerModel",
      "state": {
       "_model_module_version": "^1.0.3",
       "_view_module_version": "^1.0.3",
       "circuit": "\"OPENQASM 2.0;\\ninclude \\\"qelib1.inc\\\";\\n\\nqreg q[3];\\ncreg c[3];\\n\\n\"",
       "editable": true,
       "layout": "IPY_MODEL_6cc701461412458ca8245149cec18326",
       "qiskit_code_cell_index": -1
      }
     },
     "b2a697572d834a1e92bfd7109dd150e0": {
      "model_module": "@jupyter-widgets/controls",
      "model_module_version": "1.5.0",
      "model_name": "HTMLModel",
      "state": {
       "layout": "IPY_MODEL_cb084de5b03f49bd86e465a0dfb0d75b",
       "style": "IPY_MODEL_f2014f13fe1a4e2784242914d68b5286",
       "value": "<h5>Queue</h5>"
      }
     },
     "b2c4aef6b8ca48e289c86f64de5d8657": {
      "model_module": "@jupyter-widgets/controls",
      "model_module_version": "1.5.0",
      "model_name": "DescriptionStyleModel",
      "state": {
       "description_width": ""
      }
     },
     "b38bbe14cf5a4ab5840961b0478b5402": {
      "model_module": "@jupyter-widgets/controls",
      "model_module_version": "1.5.0",
      "model_name": "DescriptionStyleModel",
      "state": {
       "description_width": ""
      }
     },
     "b445f0e465864ce282896f13ec86a2b1": {
      "model_module": "@jupyter-widgets/controls",
      "model_module_version": "1.5.0",
      "model_name": "HTMLModel",
      "state": {
       "layout": "IPY_MODEL_c2775f83dbed4958a11efd55ffe7046a",
       "style": "IPY_MODEL_539edb2fa7d64f7d8fc82c8a6c9ca8f8",
       "value": "<h5>Queue</h5>"
      }
     },
     "b44e1e7f864f4ba48cc33ff6d817dd77": {
      "model_module": "@jupyter-widgets/controls",
      "model_module_version": "1.5.0",
      "model_name": "GridBoxModel",
      "state": {
       "children": [
        "IPY_MODEL_907ca8dcd51d4ae99b6476f8c8286168"
       ],
       "layout": "IPY_MODEL_82231b026e924401b018112f62c5e103"
      }
     },
     "b4c22c7c95864dfc9209e214aac7ccf8": {
      "model_module": "@jupyter-widgets/controls",
      "model_module_version": "1.5.0",
      "model_name": "DescriptionStyleModel",
      "state": {
       "description_width": ""
      }
     },
     "b5220d3a2d054a719cbff07cd8281971": {
      "model_module": "@quantum/ibm-q-lab-widgets",
      "model_module_version": "^1.0.3",
      "model_name": "CircuitComposerModel",
      "state": {
       "_model_module_version": "^1.0.3",
       "_view_module_version": "^1.0.3",
       "circuit": "\"OPENQASM 2.0;\\ninclude \\\"qelib1.inc\\\";\\n\\nqreg q[1];\\ncreg c[1];\\n\\nrz(pi/2) q[0];\\nsx q[0];\\nrz(pi/2) q[0];\"",
       "editable": true,
       "layout": "IPY_MODEL_44a79fd77b9e477684de365174366130",
       "qiskit_code_cell_index": -1
      }
     },
     "b590a930a818462484b91054cf132cce": {
      "model_module": "@jupyter-widgets/controls",
      "model_module_version": "1.5.0",
      "model_name": "DescriptionStyleModel",
      "state": {
       "description_width": ""
      }
     },
     "b5cf49e4ff684a9db08840ab0a980035": {
      "model_module": "@jupyter-widgets/controls",
      "model_module_version": "1.5.0",
      "model_name": "HTMLModel",
      "state": {
       "layout": "IPY_MODEL_6863cbb083e04d5c9c1a95731ce70f20",
       "style": "IPY_MODEL_2eb21c61c63d4abc806bb17d0afddd9e",
       "value": "<h5>Backend</h5>"
      }
     },
     "b5e2b7928d0249aaba6c60bb33f86a00": {
      "model_module": "@jupyter-widgets/controls",
      "model_module_version": "1.5.0",
      "model_name": "DescriptionStyleModel",
      "state": {
       "description_width": ""
      }
     },
     "b628159114464dd891140376f02cf211": {
      "model_module": "@quantum/ibm-q-lab-widgets",
      "model_module_version": "^1.0.3",
      "model_name": "CircuitComposerModel",
      "state": {
       "_model_module_version": "^1.0.3",
       "_view_module_version": "^1.0.3",
       "circuit": "\"OPENQASM 2.0;\\ninclude \\\"qelib1.inc\\\";\\n\\nqreg q[3];\\ncreg c[1];\\n\\ncx q[1],q[2];\\ncx q[0],q[2];\\nccx q[0],q[1],q[2];\"",
       "editable": true,
       "layout": "IPY_MODEL_602567b829324270a8ac201d69a4df37",
       "qiskit_code_cell_index": -1
      }
     },
     "b63b04f532294089868280454e3f4798": {
      "model_module": "@jupyter-widgets/controls",
      "model_module_version": "1.5.0",
      "model_name": "HTMLModel",
      "state": {
       "layout": "IPY_MODEL_4ff1b32437774bbbae4e9a5e0650e8a1",
       "style": "IPY_MODEL_b38bbe14cf5a4ab5840961b0478b5402",
       "value": "<h5>Message</h5>"
      }
     },
     "b645d55afc6649dd807e38ab30da764b": {
      "model_module": "@jupyter-widgets/base",
      "model_module_version": "1.2.0",
      "model_name": "LayoutModel",
      "state": {}
     },
     "b6762a63f86c494393bc4024ef5d6ec7": {
      "model_module": "@jupyter-widgets/base",
      "model_module_version": "1.2.0",
      "model_name": "LayoutModel",
      "state": {
       "grid_area": "right",
       "padding": "0px 0px 0px 0px",
       "width": "70px"
      }
     },
     "b78763a523884cfc9577adda062a953f": {
      "model_module": "@jupyter-widgets/controls",
      "model_module_version": "1.5.0",
      "model_name": "DescriptionStyleModel",
      "state": {
       "description_width": ""
      }
     },
     "b7f0e778814b4e98963d09b9e4bf74b0": {
      "model_module": "@jupyter-widgets/base",
      "model_module_version": "1.2.0",
      "model_name": "LayoutModel",
      "state": {
       "width": "95px"
      }
     },
     "b8ce2361a7ea4a349fc3f22c37b0c3a2": {
      "model_module": "@jupyter-widgets/controls",
      "model_module_version": "1.5.0",
      "model_name": "HTMLModel",
      "state": {
       "layout": "IPY_MODEL_3326f789e1454d848be17beeadad59cd",
       "style": "IPY_MODEL_7039e4855fa24b4fb551de5b163bc636",
       "value": "<h5>Job ID</h5>"
      }
     },
     "b92aa6be60ee4e899137ad65127f76fd": {
      "model_module": "@jupyter-widgets/controls",
      "model_module_version": "1.5.0",
      "model_name": "DescriptionStyleModel",
      "state": {
       "description_width": ""
      }
     },
     "b9f125d38e9048bab1472bb934ddb2fb": {
      "model_module": "@jupyter-widgets/controls",
      "model_module_version": "1.5.0",
      "model_name": "HBoxModel",
      "state": {
       "children": [
        "IPY_MODEL_4eb2200cb71e4110bfe473b01ae616bf",
        "IPY_MODEL_d7afc2237a0e4836a6acf4b10eb741a0",
        "IPY_MODEL_81c00e1676ed404ca7efacd7c80fb9df",
        "IPY_MODEL_f92aa752b1a545efae5f89e89db79bff",
        "IPY_MODEL_e382101b4a5740cfbac8c74ee2070e6d"
       ],
       "layout": "IPY_MODEL_258eae7128724a828fd604a4df2853d7"
      }
     },
     "ba3a947a23044cafbd704624afc57c97": {
      "model_module": "@quantum/ibm-q-lab-widgets",
      "model_module_version": "^1.0.3",
      "model_name": "CircuitComposerModel",
      "state": {
       "_model_module_version": "^1.0.3",
       "_view_module_version": "^1.0.3",
       "circuit": "\"OPENQASM 2.0;\\ninclude \\\"qelib1.inc\\\";\\n\\nqreg q[3];\\ncreg c[1];\\n\\ncx q[1],q[2];\\ncx q[0],q[2];\\nccx q[0],q[1],q[2];\\nmeasure q[2] -> c[0];\"",
       "editable": true,
       "layout": "IPY_MODEL_7aa1ea80fabc4a74a04a47d302486a90",
       "qiskit_code_cell_index": -1
      }
     },
     "ba9ec7881d914d3aa50939e451533e0c": {
      "model_module": "@quantum/ibm-q-lab-widgets",
      "model_module_version": "^1.0.3",
      "model_name": "CircuitComposerModel",
      "state": {
       "_model_module_version": "^1.0.3",
       "_view_module_version": "^1.0.3",
       "circuit": "\"OPENQASM 2.0;\\ninclude \\\"qelib1.inc\\\";\\n\\nqreg q2[3];\\ncreg c1[3];\\n\\ncx q2[1],q2[2];\\ncx q2[0],q2[2];\\nccx q2[0],q2[1],q2[2];\"",
       "editable": true,
       "layout": "IPY_MODEL_091123743b774ed39186e57d7a6db20a",
       "qiskit_code_cell_index": -1
      }
     },
     "baf8a86c6f7c4fd98bf0e0f0ea0aa3cb": {
      "model_module": "@jupyter-widgets/base",
      "model_module_version": "1.2.0",
      "model_name": "LayoutModel",
      "state": {}
     },
     "bb1a35f52d3c480f8a893f487356cefd": {
      "model_module": "@jupyter-widgets/controls",
      "model_module_version": "1.5.0",
      "model_name": "ButtonStyleModel",
      "state": {}
     },
     "bbd2508fb2f842628e3041fd4e440c1c": {
      "model_module": "@jupyter-widgets/controls",
      "model_module_version": "1.5.0",
      "model_name": "ButtonStyleModel",
      "state": {}
     },
     "bbf8b1fd0cab471fb3c2f9e71196371b": {
      "model_module": "@jupyter-widgets/base",
      "model_module_version": "1.2.0",
      "model_name": "LayoutModel",
      "state": {
       "grid_area": "right",
       "padding": "0px 0px 0px 0px",
       "width": "70px"
      }
     },
     "bc06df4c45e541b986a8bdc23fbda3ff": {
      "model_module": "@jupyter-widgets/controls",
      "model_module_version": "1.5.0",
      "model_name": "ButtonModel",
      "state": {
       "button_style": "primary",
       "description": "Clear",
       "layout": "IPY_MODEL_f06820c4aec74a3f9973d65f7a6e9aef",
       "style": "IPY_MODEL_0631a355ddda42ef83569e488403b044"
      }
     },
     "bc2d30aa2f63499499f15173b90aad59": {
      "model_module": "@quantum/ibm-q-lab-widgets",
      "model_module_version": "^1.0.3",
      "model_name": "CircuitComposerModel",
      "state": {
       "_model_module_version": "^1.0.3",
       "_view_module_version": "^1.0.3",
       "circuit": "\"OPENQASM 2.0;\\ninclude \\\"qelib1.inc\\\";\\n\\nqreg q[3];\\ncreg c[3];\\n\\n\"",
       "editable": true,
       "layout": "IPY_MODEL_18446bda42004779b833ddc7297f73d5",
       "qiskit_code_cell_index": -1
      }
     },
     "bc4d49ec36884ca08d7e3c361c8f2eb9": {
      "model_module": "@jupyter-widgets/base",
      "model_module_version": "1.2.0",
      "model_name": "LayoutModel",
      "state": {}
     },
     "bcdb4f764418464d876656ff47969d41": {
      "model_module": "@jupyter-widgets/controls",
      "model_module_version": "1.5.0",
      "model_name": "HTMLModel",
      "state": {
       "layout": "IPY_MODEL_d7047d99a6dd411195b6ef798571a3e4",
       "style": "IPY_MODEL_50dfd93bae63492d84ad39f8f3cbed18",
       "value": "<h5>Backend</h5>"
      }
     },
     "bd90c585db9348878d7a0d76beaffa66": {
      "model_module": "@jupyter-widgets/controls",
      "model_module_version": "1.5.0",
      "model_name": "HTMLModel",
      "state": {
       "layout": "IPY_MODEL_e26c82484e4f45318ab5f789f4a23f82",
       "style": "IPY_MODEL_791934bf3d9341cda49c154379622d16",
       "value": "<h5>Backend</h5>"
      }
     },
     "bd911de90a7b4c369d1bd8892c6411ed": {
      "model_module": "@jupyter-widgets/controls",
      "model_module_version": "1.5.0",
      "model_name": "HTMLModel",
      "state": {
       "layout": "IPY_MODEL_da762a1b8ae747bd88cfeca2f4f9aa62",
       "style": "IPY_MODEL_f85c891265d7425a82cc4602ca1888d5",
       "value": "<p style='font-family: IBM Plex Sans, Arial, Helvetica, sans-serif; font-size: 20px; font-weight: medium;'>Circuit Properties</p>"
      }
     },
     "be119dbd25db4e1bae2fc6935a3478a3": {
      "model_module": "@jupyter-widgets/base",
      "model_module_version": "1.2.0",
      "model_name": "LayoutModel",
      "state": {}
     },
     "be299f6812f34f87a5d2e5aa345c86d4": {
      "model_module": "@jupyter-widgets/controls",
      "model_module_version": "1.5.0",
      "model_name": "DescriptionStyleModel",
      "state": {
       "description_width": ""
      }
     },
     "be615fa4e37f46f4b2bd64f94695d231": {
      "model_module": "@jupyter-widgets/base",
      "model_module_version": "1.2.0",
      "model_name": "LayoutModel",
      "state": {}
     },
     "be86b667811843688ab1253125617b32": {
      "model_module": "@jupyter-widgets/controls",
      "model_module_version": "1.5.0",
      "model_name": "HTMLModel",
      "state": {
       "layout": "IPY_MODEL_685e193ac6ee4050870c824dd57d9e2b",
       "style": "IPY_MODEL_ef12d0696cbc4f05ab783c9634d5597e",
       "value": "<p style='font-family: IBM Plex Sans, Arial, Helvetica, sans-serif; font-size: 20px; font-weight: medium;'>Circuit Properties</p>"
      }
     },
     "bec7757e5e1e4fec8d973d1c24a584d6": {
      "model_module": "@jupyter-widgets/controls",
      "model_module_version": "1.5.0",
      "model_name": "HBoxModel",
      "state": {
       "children": [
        "IPY_MODEL_44f669391a4d42b282d9bf437d5305d0",
        "IPY_MODEL_cb4c7e0aadae4110860bbb1fac279178",
        "IPY_MODEL_f25aea119fc349cab9f22829fd3c47fc",
        "IPY_MODEL_5901f5b47e3c4e06bcfb63ff4463ed63",
        "IPY_MODEL_b63b04f532294089868280454e3f4798"
       ],
       "layout": "IPY_MODEL_ec686d0859ce4b9dbe76b1aefb3c04b0"
      }
     },
     "bede716561ee493485972f70dfc0bba5": {
      "model_module": "@jupyter-widgets/controls",
      "model_module_version": "1.5.0",
      "model_name": "DescriptionStyleModel",
      "state": {
       "description_width": ""
      }
     },
     "bee7af23f12e42298f23a7ff2a775cb3": {
      "model_module": "@jupyter-widgets/controls",
      "model_module_version": "1.5.0",
      "model_name": "HTMLModel",
      "state": {
       "layout": "IPY_MODEL_02aee6b7777c41c5989acace1c0973bd",
       "style": "IPY_MODEL_2fa82dae3b0b44c7b106fa28f21631bc",
       "value": "<h5>Queue</h5>"
      }
     },
     "bef9ce11be074a00a12303925868a1fa": {
      "model_module": "@jupyter-widgets/base",
      "model_module_version": "1.2.0",
      "model_name": "LayoutModel",
      "state": {}
     },
     "bf8f3e463caa49e98a914fd74b757d31": {
      "model_module": "@jupyter-widgets/controls",
      "model_module_version": "1.5.0",
      "model_name": "DescriptionStyleModel",
      "state": {
       "description_width": ""
      }
     },
     "bfb91f9f217844568337ce77202b67bc": {
      "model_module": "@jupyter-widgets/base",
      "model_module_version": "1.2.0",
      "model_name": "LayoutModel",
      "state": {
       "width": "190px"
      }
     },
     "c0379b36527e43a193afc697783d883c": {
      "model_module": "@quantum/ibm-q-lab-widgets",
      "model_module_version": "^1.0.3",
      "model_name": "CircuitComposerModel",
      "state": {
       "_model_module_version": "^1.0.3",
       "_view_module_version": "^1.0.3",
       "circuit": "\"OPENQASM 2.0;\\ninclude \\\"qelib1.inc\\\";\\n\\nqreg q0[3];\\ncreg c0[3];\\n\\ncx q0[1],q0[2];\\ncx q0[0],q0[2];\\nccx q0[0],q0[1],q0[2];\\nx q0[2];\\nmeasure q0[2] -> c0[0];\"",
       "editable": true,
       "layout": "IPY_MODEL_87e5b80d6e534ef79b8c1311e137fd98",
       "qiskit_code_cell_index": -1
      }
     },
     "c0ccbe4ab2ea41ccacdfd6fd66f7502b": {
      "model_module": "@quantum/ibm-q-lab-widgets",
      "model_module_version": "^1.0.3",
      "model_name": "CircuitComposerModel",
      "state": {
       "_model_module_version": "^1.0.3",
       "_view_module_version": "^1.0.3",
       "circuit": "\"OPENQASM 2.0;\\ninclude \\\"qelib1.inc\\\";\\n\\nqreg q[3];\\ncreg c[3];\\n\\n\"",
       "editable": true,
       "layout": "IPY_MODEL_cd127382fb094b509763fb26f4a6efb0",
       "qiskit_code_cell_index": -1
      }
     },
     "c23d34059bd94326a2db9a68e34a2296": {
      "model_module": "@jupyter-widgets/controls",
      "model_module_version": "1.5.0",
      "model_name": "ButtonModel",
      "state": {
       "button_style": "primary",
       "description": "Clear",
       "layout": "IPY_MODEL_030a012c6ecd4829857f874f5abcae9f",
       "style": "IPY_MODEL_746eefff70994b2ca689a2790ab4e164"
      }
     },
     "c2775f83dbed4958a11efd55ffe7046a": {
      "model_module": "@jupyter-widgets/base",
      "model_module_version": "1.2.0",
      "model_name": "LayoutModel",
      "state": {
       "width": "70px"
      }
     },
     "c2c9c6b295d843cba77b4835e43fec85": {
      "model_module": "@jupyter-widgets/controls",
      "model_module_version": "1.5.0",
      "model_name": "HTMLModel",
      "state": {
       "layout": "IPY_MODEL_40b07e1e3e7b4e3d8391b6d150fc0201",
       "style": "IPY_MODEL_77bcaf6d5cdd4db2a5d70a7b8a493456",
       "value": "<h5>Message</h5>"
      }
     },
     "c2e484c5d6af4da2983d5d54c1f28343": {
      "model_module": "@jupyter-widgets/controls",
      "model_module_version": "1.5.0",
      "model_name": "ButtonStyleModel",
      "state": {}
     },
     "c562f2f16b5c438fa3272c4a145e7d01": {
      "model_module": "@jupyter-widgets/controls",
      "model_module_version": "1.5.0",
      "model_name": "HTMLModel",
      "state": {
       "layout": "IPY_MODEL_40efb9a1549147f1ad1f826f3d7905f6",
       "style": "IPY_MODEL_b92aa6be60ee4e899137ad65127f76fd",
       "value": "<h5>Backend</h5>"
      }
     },
     "c56a4a86ac954e1eb840e50b5b9a05d9": {
      "model_module": "@jupyter-widgets/controls",
      "model_module_version": "1.5.0",
      "model_name": "DescriptionStyleModel",
      "state": {
       "description_width": ""
      }
     },
     "c6ab8065cab84bf6b7252daeabe56432": {
      "model_module": "@jupyter-widgets/controls",
      "model_module_version": "1.5.0",
      "model_name": "ButtonModel",
      "state": {
       "button_style": "primary",
       "description": "Clear",
       "layout": "IPY_MODEL_82b98116d62c4ebb892f4468d53c518c",
       "style": "IPY_MODEL_bbd2508fb2f842628e3041fd4e440c1c"
      }
     },
     "c6d3436b35f34d3e9949f934ac549e3f": {
      "model_module": "@jupyter-widgets/base",
      "model_module_version": "1.2.0",
      "model_name": "LayoutModel",
      "state": {
       "grid_area": "right",
       "padding": "0px 0px 0px 0px",
       "width": "70px"
      }
     },
     "c707cc74eaa540be9be0d25c7d82210e": {
      "model_module": "@quantum/ibm-q-lab-widgets",
      "model_module_version": "^1.0.3",
      "model_name": "CircuitComposerModel",
      "state": {
       "_model_module_version": "^1.0.3",
       "_view_module_version": "^1.0.3",
       "circuit": "\"OPENQASM 2.0;\\ninclude \\\"qelib1.inc\\\";\\n\\nqreg q1[3];\\ncreg c1[3];\\n\\ncx q1[1],q1[2];\\ncx q1[0],q1[2];\\nccx q1[0],q1[1],q1[2];\\nx q1[2];\\nmeasure q1[2] -> c1[2];\"",
       "editable": true,
       "layout": "IPY_MODEL_42f3b30f55f64d82b1c6439cd4367cb8",
       "qiskit_code_cell_index": -1
      }
     },
     "c88cdfec06954233bc054aaf4cba9576": {
      "model_module": "@jupyter-widgets/controls",
      "model_module_version": "1.5.0",
      "model_name": "DescriptionStyleModel",
      "state": {
       "description_width": ""
      }
     },
     "c8955b002d324a4b93bd46aca4240933": {
      "model_module": "@jupyter-widgets/base",
      "model_module_version": "1.2.0",
      "model_name": "LayoutModel",
      "state": {}
     },
     "c8cde8426f394fa59dd11b394cb85d73": {
      "model_module": "@jupyter-widgets/controls",
      "model_module_version": "1.5.0",
      "model_name": "HTMLModel",
      "state": {
       "layout": "IPY_MODEL_7f34b188d2de4f6698308fc62b378fab",
       "style": "IPY_MODEL_3b9a86da9f5240df818956e4fb25e041",
       "value": "<p style='font-family: IBM Plex Sans, Arial, Helvetica, sans-serif; font-size: 20px; font-weight: medium;'>Circuit Properties</p>"
      }
     },
     "c92a59f8047745988e4992e5b00cd622": {
      "model_module": "@jupyter-widgets/controls",
      "model_module_version": "1.5.0",
      "model_name": "DescriptionStyleModel",
      "state": {
       "description_width": ""
      }
     },
     "ca100b5afbfc4bfa877aacd42926cb5b": {
      "model_module": "@jupyter-widgets/controls",
      "model_module_version": "1.5.0",
      "model_name": "HTMLModel",
      "state": {
       "layout": "IPY_MODEL_f5a3d7f450034d3aa136a390f4362e66",
       "style": "IPY_MODEL_40a9e1e7c0a54ca0b3482f31af76b784",
       "value": "<p style='font-family: IBM Plex Sans, Arial, Helvetica, sans-serif; font-size: 20px; font-weight: medium;'>Circuit Properties</p>"
      }
     },
     "cb084de5b03f49bd86e465a0dfb0d75b": {
      "model_module": "@jupyter-widgets/base",
      "model_module_version": "1.2.0",
      "model_name": "LayoutModel",
      "state": {
       "width": "70px"
      }
     },
     "cb2cfb5b6cef47a08b69b39cf5c9c1d0": {
      "model_module": "@jupyter-widgets/controls",
      "model_module_version": "1.5.0",
      "model_name": "HBoxModel",
      "state": {
       "children": [
        "IPY_MODEL_14ca63ea4128479da9f01354ea081f79",
        "IPY_MODEL_06e37e6a43f14b90a29ed82464f87774",
        "IPY_MODEL_a680d46ae9e24200b5cfbfda6f403ac0",
        "IPY_MODEL_799fa903848b49e5b2b5b83869c3825c",
        "IPY_MODEL_44c3084221074279a1fe65621ffec4c0"
       ],
       "layout": "IPY_MODEL_0da50320e5bd46b3aa7042daf06cab2b"
      }
     },
     "cb2e28b8ce1a470fb9844e83bb73ac68": {
      "model_module": "@jupyter-widgets/base",
      "model_module_version": "1.2.0",
      "model_name": "LayoutModel",
      "state": {}
     },
     "cb4c7e0aadae4110860bbb1fac279178": {
      "model_module": "@jupyter-widgets/controls",
      "model_module_version": "1.5.0",
      "model_name": "HTMLModel",
      "state": {
       "layout": "IPY_MODEL_7a6576a2ab9f40b0b5e0f9d2aee56d10",
       "style": "IPY_MODEL_48b56f32910541c1999e1ccaef3d090c",
       "value": "<h5>Backend</h5>"
      }
     },
     "cb6e53942e7d45c7a8ca94514e6d2951": {
      "model_module": "@jupyter-widgets/controls",
      "model_module_version": "1.5.0",
      "model_name": "DescriptionStyleModel",
      "state": {
       "description_width": ""
      }
     },
     "cbd171354f9d49f7bcf893a65d962e73": {
      "model_module": "@jupyter-widgets/controls",
      "model_module_version": "1.5.0",
      "model_name": "HTMLModel",
      "state": {
       "layout": "IPY_MODEL_26e3aaa102d345c8ae70a39dbe56c7f1",
       "style": "IPY_MODEL_458b76229ac9466a93968d7ac98a73a7",
       "value": "<p style='font-family: IBM Plex Sans, Arial, Helvetica, sans-serif; font-size: 20px; font-weight: medium;'>Circuit Properties</p>"
      }
     },
     "cc117848b99c42fca4463a1a1cb0f3f4": {
      "model_module": "@quantum/ibm-q-lab-widgets",
      "model_module_version": "^1.0.3",
      "model_name": "CircuitComposerModel",
      "state": {
       "_model_module_version": "^1.0.3",
       "_view_module_version": "^1.0.3",
       "circuit": "\"OPENQASM 2.0;\\ninclude \\\"qelib1.inc\\\";\\n\\nqreg q[3];\\ncreg c[3];\\n\\nccx q[0],q[1],q[2];\"",
       "editable": true,
       "layout": "IPY_MODEL_b180552daa064c58a5d10a8c97a65dd0",
       "qiskit_code_cell_index": -1
      }
     },
     "cc71eb09ce1b494b81f90cfcc2e1dd95": {
      "model_module": "@jupyter-widgets/base",
      "model_module_version": "1.2.0",
      "model_name": "LayoutModel",
      "state": {}
     },
     "cc89dbf37fa14efea7990eff2937ad20": {
      "model_module": "@jupyter-widgets/controls",
      "model_module_version": "1.5.0",
      "model_name": "HBoxModel",
      "state": {
       "children": [
        "IPY_MODEL_b8ce2361a7ea4a349fc3f22c37b0c3a2",
        "IPY_MODEL_7eb7d592b7364615842e585ec91e5d11",
        "IPY_MODEL_a995ab1aa4e641de9c7bd17565313757",
        "IPY_MODEL_663821625faf4cf18279a0cb70a5df3b",
        "IPY_MODEL_a625863b3c27475e9f15361af2d48ced"
       ],
       "layout": "IPY_MODEL_988545c15da74334bc930567aa91dfb8"
      }
     },
     "cd127382fb094b509763fb26f4a6efb0": {
      "model_module": "@jupyter-widgets/base",
      "model_module_version": "1.2.0",
      "model_name": "LayoutModel",
      "state": {}
     },
     "cda4d9e419464993bc7ad28f3237ff69": {
      "model_module": "@jupyter-widgets/controls",
      "model_module_version": "1.5.0",
      "model_name": "HTMLModel",
      "state": {
       "layout": "IPY_MODEL_a1f3145fb47f4d76ad779a51947861b4",
       "style": "IPY_MODEL_00fec089e9a247ee81746cd2e8672b95",
       "value": "<h5>Message</h5>"
      }
     },
     "d00d6210a81d40af8b725a661b8be93b": {
      "model_module": "@jupyter-widgets/controls",
      "model_module_version": "1.5.0",
      "model_name": "DescriptionStyleModel",
      "state": {
       "description_width": ""
      }
     },
     "d08d82ed729f4159a75b712499aad162": {
      "model_module": "@jupyter-widgets/controls",
      "model_module_version": "1.5.0",
      "model_name": "HTMLModel",
      "state": {
       "layout": "IPY_MODEL_883b175146d344bf9c74af87605d42fb",
       "style": "IPY_MODEL_c56a4a86ac954e1eb840e50b5b9a05d9",
       "value": "<h5>Backend</h5>"
      }
     },
     "d0de14d57e3d4a6ca32e7bc02a805600": {
      "model_module": "@jupyter-widgets/controls",
      "model_module_version": "1.5.0",
      "model_name": "HTMLModel",
      "state": {
       "layout": "IPY_MODEL_a1aae185da6941518751e6b928729bcd",
       "style": "IPY_MODEL_b590a930a818462484b91054cf132cce",
       "value": "<h5>Queue</h5>"
      }
     },
     "d1335188923643bfb57240e633bab22a": {
      "model_module": "@jupyter-widgets/controls",
      "model_module_version": "1.5.0",
      "model_name": "DescriptionStyleModel",
      "state": {
       "description_width": ""
      }
     },
     "d16b266be6e34e9bb89e98554710b8b0": {
      "model_module": "@jupyter-widgets/base",
      "model_module_version": "1.2.0",
      "model_name": "LayoutModel",
      "state": {
       "grid_template_areas": "\n                                       \". . . . right \"\n                                        ",
       "grid_template_columns": "20% 20% 20% 20% 20%",
       "width": "100%"
      }
     },
     "d1e4ae0f595b4df19d172c6af221c849": {
      "model_module": "@jupyter-widgets/controls",
      "model_module_version": "1.5.0",
      "model_name": "DescriptionStyleModel",
      "state": {
       "description_width": ""
      }
     },
     "d396a016b63543358b93758839379b62": {
      "model_module": "@jupyter-widgets/base",
      "model_module_version": "1.2.0",
      "model_name": "LayoutModel",
      "state": {}
     },
     "d49fb7f7f12c494aba1cead52c0259ff": {
      "model_module": "@jupyter-widgets/controls",
      "model_module_version": "1.5.0",
      "model_name": "HTMLModel",
      "state": {
       "layout": "IPY_MODEL_1bb0bd14b17c43fdb984eb3c70c2cef6",
       "style": "IPY_MODEL_173a109f9c714f3f9bbbf01294cc4a4b",
       "value": "<h5>Message</h5>"
      }
     },
     "d51d581f462e44dc8ffa1f3664a2b073": {
      "model_module": "@jupyter-widgets/controls",
      "model_module_version": "1.5.0",
      "model_name": "DescriptionStyleModel",
      "state": {
       "description_width": ""
      }
     },
     "d54997dae4d54069b5bc9b180de4abb7": {
      "model_module": "@jupyter-widgets/controls",
      "model_module_version": "1.5.0",
      "model_name": "DescriptionStyleModel",
      "state": {
       "description_width": ""
      }
     },
     "d690abc463d64f80a2722d23de682e74": {
      "model_module": "@jupyter-widgets/base",
      "model_module_version": "1.2.0",
      "model_name": "LayoutModel",
      "state": {
       "width": "95px"
      }
     },
     "d6c6f0e1e63c4968b6271f43d048d5ae": {
      "model_module": "@jupyter-widgets/base",
      "model_module_version": "1.2.0",
      "model_name": "LayoutModel",
      "state": {
       "width": "95px"
      }
     },
     "d7047d99a6dd411195b6ef798571a3e4": {
      "model_module": "@jupyter-widgets/base",
      "model_module_version": "1.2.0",
      "model_name": "LayoutModel",
      "state": {
       "width": "145px"
      }
     },
     "d769842e39214aae9fed90fe36b450b7": {
      "model_module": "@jupyter-widgets/base",
      "model_module_version": "1.2.0",
      "model_name": "LayoutModel",
      "state": {
       "grid_template_areas": "\n                                       \". . . . right \"\n                                        ",
       "grid_template_columns": "20% 20% 20% 20% 20%",
       "width": "100%"
      }
     },
     "d78743e18e6b47308381f245818f1dd5": {
      "model_module": "@jupyter-widgets/controls",
      "model_module_version": "1.5.0",
      "model_name": "HTMLModel",
      "state": {
       "layout": "IPY_MODEL_5b954be6f7cf4d63b93eca6bfa84bc2b",
       "style": "IPY_MODEL_c92a59f8047745988e4992e5b00cd622",
       "value": "<h5>Status</h5>"
      }
     },
     "d7afc2237a0e4836a6acf4b10eb741a0": {
      "model_module": "@jupyter-widgets/controls",
      "model_module_version": "1.5.0",
      "model_name": "HTMLModel",
      "state": {
       "layout": "IPY_MODEL_385ab6ea8d9f401ab85b126425aef694",
       "style": "IPY_MODEL_e8900ffc672f445e8c43d1003454d0fd",
       "value": "<h5>Backend</h5>"
      }
     },
     "d7ef9eb466c449758d9896eece80ad48": {
      "model_module": "@jupyter-widgets/controls",
      "model_module_version": "1.5.0",
      "model_name": "ButtonStyleModel",
      "state": {}
     },
     "d813abd4f19d43f4a5a0dffecb2f433a": {
      "model_module": "@jupyter-widgets/controls",
      "model_module_version": "1.5.0",
      "model_name": "DescriptionStyleModel",
      "state": {
       "description_width": ""
      }
     },
     "d83d94cfb762416e83ae901504be632d": {
      "model_module": "@quantum/ibm-q-lab-widgets",
      "model_module_version": "^1.0.3",
      "model_name": "CircuitComposerModel",
      "state": {
       "_model_module_version": "^1.0.3",
       "_view_module_version": "^1.0.3",
       "circuit": "\"OPENQASM 2.0;\\ninclude \\\"qelib1.inc\\\";\\n\\nqreg q[3];\\ncreg c[3];\\n\\n\"",
       "editable": true,
       "layout": "IPY_MODEL_e7e2f1ca53c2490890d4809d3d272266",
       "qiskit_code_cell_index": -1
      }
     },
     "d85f26eaecff4d26964747f7489a1573": {
      "model_module": "@jupyter-widgets/controls",
      "model_module_version": "1.5.0",
      "model_name": "HTMLModel",
      "state": {
       "layout": "IPY_MODEL_bef9ce11be074a00a12303925868a1fa",
       "style": "IPY_MODEL_e23c8382adf6402bbe6ed5b67d9d6d6e",
       "value": "<h5>Message</h5>"
      }
     },
     "d89af909d9b449f78f7ad0d3992f8dec": {
      "model_module": "@jupyter-widgets/controls",
      "model_module_version": "1.5.0",
      "model_name": "HTMLModel",
      "state": {
       "layout": "IPY_MODEL_5d424631bc2546f7b402aa7e7ccb75ca",
       "style": "IPY_MODEL_6df98145a8614a84b72c65622704b00a",
       "value": "<h5>Job ID</h5>"
      }
     },
     "d9bcdb5e4d5a4e72839d64cbcf40d037": {
      "model_module": "@jupyter-widgets/base",
      "model_module_version": "1.2.0",
      "model_name": "LayoutModel",
      "state": {}
     },
     "d9f4ed545e1e4d67a63d38461a778ecf": {
      "model_module": "@jupyter-widgets/base",
      "model_module_version": "1.2.0",
      "model_name": "LayoutModel",
      "state": {}
     },
     "d9f692203c9244c9ae4672393711ad9f": {
      "model_module": "@jupyter-widgets/controls",
      "model_module_version": "1.5.0",
      "model_name": "HTMLModel",
      "state": {
       "layout": "IPY_MODEL_59af2373b1854b66826e9d1b4752c19a",
       "style": "IPY_MODEL_6aa4a23a6b6d4519b7e4587b09caded8",
       "value": "<p style='font-family: IBM Plex Sans, Arial, Helvetica, sans-serif; font-size: 20px; font-weight: medium;'>Circuit Properties</p>"
      }
     },
     "da762a1b8ae747bd88cfeca2f4f9aa62": {
      "model_module": "@jupyter-widgets/base",
      "model_module_version": "1.2.0",
      "model_name": "LayoutModel",
      "state": {
       "margin": "0px 0px 10px 0px"
      }
     },
     "dbb0f858e4f447f38357cbb52d1d1fd3": {
      "model_module": "@quantum/ibm-q-lab-widgets",
      "model_module_version": "^1.0.3",
      "model_name": "CircuitComposerModel",
      "state": {
       "_model_module_version": "^1.0.3",
       "_view_module_version": "^1.0.3",
       "circuit": "\"OPENQASM 2.0;\\ninclude \\\"qelib1.inc\\\";\\n\\nqreg q[3];\\ncreg c[3];\\n\\n\"",
       "editable": true,
       "layout": "IPY_MODEL_cb2e28b8ce1a470fb9844e83bb73ac68",
       "qiskit_code_cell_index": -1
      }
     },
     "dc3d699c22a749f29a8fb21da21b8f24": {
      "model_module": "@jupyter-widgets/controls",
      "model_module_version": "1.5.0",
      "model_name": "GridBoxModel",
      "state": {
       "children": [
        "IPY_MODEL_efc2400b3cd2435596099265a87e3fe8"
       ],
       "layout": "IPY_MODEL_f8cc3e2120ce4c09a84eea40e9eed074"
      }
     },
     "dd55d56845324b43a32881e7e6333e38": {
      "model_module": "@jupyter-widgets/base",
      "model_module_version": "1.2.0",
      "model_name": "LayoutModel",
      "state": {}
     },
     "df04f5479d67433cb432e45f7a35cecb": {
      "model_module": "@jupyter-widgets/controls",
      "model_module_version": "1.5.0",
      "model_name": "DescriptionStyleModel",
      "state": {
       "description_width": ""
      }
     },
     "df958bfd89d04fc096f9002c8adf0b01": {
      "model_module": "@jupyter-widgets/base",
      "model_module_version": "1.2.0",
      "model_name": "LayoutModel",
      "state": {
       "width": "70px"
      }
     },
     "e02c13655b8749a3b041560f12b70687": {
      "model_module": "@quantum/ibm-q-lab-widgets",
      "model_module_version": "^1.0.3",
      "model_name": "CircuitComposerModel",
      "state": {
       "_model_module_version": "^1.0.3",
       "_view_module_version": "^1.0.3",
       "circuit": "\"OPENQASM 2.0;\\ninclude \\\"qelib1.inc\\\";\\n\\nqreg q29[3];\\ncreg c2[3];\\n\\ncx q29[1],q29[2];\\ncx q29[0],q29[2];\\nccx q29[0],q29[1],q29[2];\"",
       "editable": true,
       "layout": "IPY_MODEL_0ff22eb9feaf477bbc7a94460d34f8ff",
       "qiskit_code_cell_index": -1
      }
     },
     "e12b2829878d4f54b227615b10865be0": {
      "model_module": "@quantum/ibm-q-lab-widgets",
      "model_module_version": "^1.0.3",
      "model_name": "CircuitComposerModel",
      "state": {
       "_model_module_version": "^1.0.3",
       "_view_module_version": "^1.0.3",
       "circuit": "\"OPENQASM 2.0;\\ninclude \\\"qelib1.inc\\\";\\n\\nqreg q[3];\\ncreg c[3];\\n\\n\"",
       "editable": true,
       "layout": "IPY_MODEL_c8955b002d324a4b93bd46aca4240933",
       "qiskit_code_cell_index": -1
      }
     },
     "e143cd6b9bdd4026b13ed57fc89715b5": {
      "model_module": "@jupyter-widgets/controls",
      "model_module_version": "1.5.0",
      "model_name": "ButtonStyleModel",
      "state": {}
     },
     "e1ed78c0731e48229e8a9d93a645fd28": {
      "model_module": "@quantum/ibm-q-lab-widgets",
      "model_module_version": "^1.0.3",
      "model_name": "CircuitComposerModel",
      "state": {
       "_model_module_version": "^1.0.3",
       "_view_module_version": "^1.0.3",
       "circuit": "\"OPENQASM 2.0;\\ninclude \\\"qelib1.inc\\\";\\n\\nqreg q[3];\\ncreg c[3];\\n\\nccx q[0],q[1],q[2];\"",
       "editable": true,
       "layout": "IPY_MODEL_d9bcdb5e4d5a4e72839d64cbcf40d037",
       "qiskit_code_cell_index": -1
      }
     },
     "e23c8382adf6402bbe6ed5b67d9d6d6e": {
      "model_module": "@jupyter-widgets/controls",
      "model_module_version": "1.5.0",
      "model_name": "DescriptionStyleModel",
      "state": {
       "description_width": ""
      }
     },
     "e26c82484e4f45318ab5f789f4a23f82": {
      "model_module": "@jupyter-widgets/base",
      "model_module_version": "1.2.0",
      "model_name": "LayoutModel",
      "state": {
       "width": "145px"
      }
     },
     "e29f6ed0cb8f41cb913d36c9457a2c1b": {
      "model_module": "@jupyter-widgets/base",
      "model_module_version": "1.2.0",
      "model_name": "LayoutModel",
      "state": {
       "margin": "0px 0px 0px 37px",
       "width": "600px"
      }
     },
     "e382101b4a5740cfbac8c74ee2070e6d": {
      "model_module": "@jupyter-widgets/controls",
      "model_module_version": "1.5.0",
      "model_name": "HTMLModel",
      "state": {
       "layout": "IPY_MODEL_3e89aebbd7284b79a0481c5b3284a03c",
       "style": "IPY_MODEL_006a465b0969400c8b27c83965d6e5fd",
       "value": "<h5>Message</h5>"
      }
     },
     "e4356fa47928479fad94f404cb1eb76a": {
      "model_module": "@quantum/ibm-q-lab-widgets",
      "model_module_version": "^1.0.3",
      "model_name": "CircuitComposerModel",
      "state": {
       "_model_module_version": "^1.0.3",
       "_view_module_version": "^1.0.3",
       "circuit": "\"OPENQASM 2.0;\\ninclude \\\"qelib1.inc\\\";\\n\\nqreg q[3];\\ncreg c[1];\\n\\ncx q[1],q[2];\\ncx q[0],q[2];\\nccx q[0],q[1],q[2];\\nmeasure q[2] -> c[0];\"",
       "editable": true,
       "layout": "IPY_MODEL_7ce3d8940b17469e9e285c7670e28900",
       "qiskit_code_cell_index": -1
      }
     },
     "e4526ac078b34ba8a7e6c258e2a288b9": {
      "model_module": "@jupyter-widgets/controls",
      "model_module_version": "1.5.0",
      "model_name": "GridBoxModel",
      "state": {
       "children": [
        "IPY_MODEL_ac9a217eec614a1e812d8e53bee008bc"
       ],
       "layout": "IPY_MODEL_d16b266be6e34e9bb89e98554710b8b0"
      }
     },
     "e458643f1ca9444f854bfbe6e1923944": {
      "model_module": "@jupyter-widgets/controls",
      "model_module_version": "1.5.0",
      "model_name": "DescriptionStyleModel",
      "state": {
       "description_width": ""
      }
     },
     "e47b0f9a91804ea4bb0b55474c5b5af4": {
      "model_module": "@jupyter-widgets/controls",
      "model_module_version": "1.5.0",
      "model_name": "HBoxModel",
      "state": {
       "children": [
        "IPY_MODEL_24c870a8c65440a78e05286f3b64f13f",
        "IPY_MODEL_bd90c585db9348878d7a0d76beaffa66",
        "IPY_MODEL_1690149b711b40619ce096d9bf256b0b",
        "IPY_MODEL_867281371bda41c9a144f55b81f5cb41",
        "IPY_MODEL_51cd6436bd0f4612b7e5a3cd267f5a7f"
       ],
       "layout": "IPY_MODEL_a4954a10292b43efb85baa1d788db3d6"
      }
     },
     "e58ce75f933d4be3bfcac31727c0e302": {
      "model_module": "@jupyter-widgets/controls",
      "model_module_version": "1.5.0",
      "model_name": "HTMLModel",
      "state": {
       "layout": "IPY_MODEL_b7f0e778814b4e98963d09b9e4bf74b0",
       "style": "IPY_MODEL_bf8f3e463caa49e98a914fd74b757d31",
       "value": "<h5>Status</h5>"
      }
     },
     "e5bc9438b0974491a248e55d6fa86515": {
      "model_module": "@jupyter-widgets/base",
      "model_module_version": "1.2.0",
      "model_name": "LayoutModel",
      "state": {
       "margin": "0px 0px 0px 37px",
       "width": "600px"
      }
     },
     "e61dea173c9a4870a47e6a93f3be63b9": {
      "model_module": "@jupyter-widgets/base",
      "model_module_version": "1.2.0",
      "model_name": "LayoutModel",
      "state": {}
     },
     "e63ca0a4b446490daf05d3f795cd346e": {
      "model_module": "@jupyter-widgets/base",
      "model_module_version": "1.2.0",
      "model_name": "LayoutModel",
      "state": {
       "width": "190px"
      }
     },
     "e6dbad990ed34d75859d6d820ea44eea": {
      "model_module": "@jupyter-widgets/base",
      "model_module_version": "1.2.0",
      "model_name": "LayoutModel",
      "state": {
       "width": "190px"
      }
     },
     "e7c83160618343cdaa1e31c63f8b6d31": {
      "model_module": "@quantum/ibm-q-lab-widgets",
      "model_module_version": "^1.0.3",
      "model_name": "CircuitComposerModel",
      "state": {
       "_model_module_version": "^1.0.3",
       "_view_module_version": "^1.0.3",
       "circuit": "\"OPENQASM 2.0;\\ninclude \\\"qelib1.inc\\\";\\n\\nqreg q[3];\\ncreg c[3];\\n\\ncx q[1],q[0];\\ncx q[0],q[1];\\ncx q[1],q[0];\\nrz(pi) q[2];\"",
       "editable": true,
       "layout": "IPY_MODEL_f4e84c75810e4d50ab8af126a25c72b6",
       "qiskit_code_cell_index": -1
      }
     },
     "e7cc84e132ee485d935102b3c198d255": {
      "model_module": "@jupyter-widgets/base",
      "model_module_version": "1.2.0",
      "model_name": "LayoutModel",
      "state": {
       "width": "95px"
      }
     },
     "e7e2f1ca53c2490890d4809d3d272266": {
      "model_module": "@jupyter-widgets/base",
      "model_module_version": "1.2.0",
      "model_name": "LayoutModel",
      "state": {}
     },
     "e80410c2c9264536aef853f7f4964a35": {
      "model_module": "@jupyter-widgets/base",
      "model_module_version": "1.2.0",
      "model_name": "LayoutModel",
      "state": {
       "width": "145px"
      }
     },
     "e8845e95893040278aff985df15467dc": {
      "model_module": "@jupyter-widgets/base",
      "model_module_version": "1.2.0",
      "model_name": "LayoutModel",
      "state": {
       "width": "145px"
      }
     },
     "e8900ffc672f445e8c43d1003454d0fd": {
      "model_module": "@jupyter-widgets/controls",
      "model_module_version": "1.5.0",
      "model_name": "DescriptionStyleModel",
      "state": {
       "description_width": ""
      }
     },
     "e99a25578a3a413ab0b267672b43f72b": {
      "model_module": "@jupyter-widgets/base",
      "model_module_version": "1.2.0",
      "model_name": "LayoutModel",
      "state": {}
     },
     "eaf2aee64d05485aa35ea40fab729616": {
      "model_module": "@jupyter-widgets/controls",
      "model_module_version": "1.5.0",
      "model_name": "DescriptionStyleModel",
      "state": {
       "description_width": ""
      }
     },
     "ebe184443e454b59be0306a688d93a1c": {
      "model_module": "@quantum/ibm-q-lab-widgets",
      "model_module_version": "^1.0.3",
      "model_name": "CircuitComposerModel",
      "state": {
       "_model_module_version": "^1.0.3",
       "_view_module_version": "^1.0.3",
       "circuit": "\"OPENQASM 2.0;\\ninclude \\\"qelib1.inc\\\";\\n\\nqreg q19[3];\\ncreg c0[3];\\n\\ncx q19[1],q19[2];\\ncx q19[0],q19[2];\\nccx q19[0],q19[1],q19[2];\"",
       "editable": true,
       "layout": "IPY_MODEL_d9f4ed545e1e4d67a63d38461a778ecf",
       "qiskit_code_cell_index": -1
      }
     },
     "ec3d6cec43f64d109cce41e91a207abf": {
      "model_module": "@jupyter-widgets/base",
      "model_module_version": "1.2.0",
      "model_name": "LayoutModel",
      "state": {
       "margin": "0px 0px 10px 0px"
      }
     },
     "ec686d0859ce4b9dbe76b1aefb3c04b0": {
      "model_module": "@jupyter-widgets/base",
      "model_module_version": "1.2.0",
      "model_name": "LayoutModel",
      "state": {
       "margin": "0px 0px 0px 37px",
       "width": "600px"
      }
     },
     "ece0b69da4ef42e89e2399b90ef89a51": {
      "model_module": "@jupyter-widgets/base",
      "model_module_version": "1.2.0",
      "model_name": "LayoutModel",
      "state": {}
     },
     "ed2398d7377940a19feadec9738c8911": {
      "model_module": "@jupyter-widgets/base",
      "model_module_version": "1.2.0",
      "model_name": "LayoutModel",
      "state": {
       "width": "95px"
      }
     },
     "ed9909234c0b4720b1ef938213c784b5": {
      "model_module": "@jupyter-widgets/base",
      "model_module_version": "1.2.0",
      "model_name": "LayoutModel",
      "state": {}
     },
     "ede3b422e153430b9b0b630a174ce576": {
      "model_module": "@jupyter-widgets/base",
      "model_module_version": "1.2.0",
      "model_name": "LayoutModel",
      "state": {}
     },
     "ee01cfa5318f49bbb51da895d9cbfe98": {
      "model_module": "@jupyter-widgets/base",
      "model_module_version": "1.2.0",
      "model_name": "LayoutModel",
      "state": {
       "width": "95px"
      }
     },
     "ee045c4854f248bd982c15d878f5f3e1": {
      "model_module": "@quantum/ibm-q-lab-widgets",
      "model_module_version": "^1.0.3",
      "model_name": "CircuitComposerModel",
      "state": {
       "_model_module_version": "^1.0.3",
       "_view_module_version": "^1.0.3",
       "circuit": "\"OPENQASM 2.0;\\ninclude \\\"qelib1.inc\\\";\\n\\nqreg q[3];\\ncreg c[3];\\n\\n\"",
       "editable": true,
       "layout": "IPY_MODEL_5e2164ebdde64440b793779b9188b83d",
       "qiskit_code_cell_index": -1
      }
     },
     "ee7a00dab53244b3bc6664228f3e874d": {
      "model_module": "@jupyter-widgets/controls",
      "model_module_version": "1.5.0",
      "model_name": "GridBoxModel",
      "state": {
       "children": [
        "IPY_MODEL_2eaa8833e44744439a072efced3f32ae"
       ],
       "layout": "IPY_MODEL_2d2ce5a6866c461ba81c12a2707933eb"
      }
     },
     "ef12d0696cbc4f05ab783c9634d5597e": {
      "model_module": "@jupyter-widgets/controls",
      "model_module_version": "1.5.0",
      "model_name": "DescriptionStyleModel",
      "state": {
       "description_width": ""
      }
     },
     "ef20b21a3be842a1932eabbd1d8f78d4": {
      "model_module": "@jupyter-widgets/controls",
      "model_module_version": "1.5.0",
      "model_name": "DescriptionStyleModel",
      "state": {
       "description_width": ""
      }
     },
     "efc2400b3cd2435596099265a87e3fe8": {
      "model_module": "@jupyter-widgets/controls",
      "model_module_version": "1.5.0",
      "model_name": "ButtonModel",
      "state": {
       "button_style": "primary",
       "description": "Clear",
       "layout": "IPY_MODEL_982f6afb37b548e19410dcc592c23d66",
       "style": "IPY_MODEL_d7ef9eb466c449758d9896eece80ad48"
      }
     },
     "f06820c4aec74a3f9973d65f7a6e9aef": {
      "model_module": "@jupyter-widgets/base",
      "model_module_version": "1.2.0",
      "model_name": "LayoutModel",
      "state": {
       "grid_area": "right",
       "padding": "0px 0px 0px 0px",
       "width": "70px"
      }
     },
     "f0d64f6e58414d33b497548bf8504e8a": {
      "model_module": "@jupyter-widgets/base",
      "model_module_version": "1.2.0",
      "model_name": "LayoutModel",
      "state": {}
     },
     "f193048343fd41128afbeb8eca6e7401": {
      "model_module": "@jupyter-widgets/controls",
      "model_module_version": "1.5.0",
      "model_name": "HTMLModel",
      "state": {
       "layout": "IPY_MODEL_26cbbc69c88e4e8b83105bf0cdf77a86",
       "style": "IPY_MODEL_74f24cd3a4464234a81526166562b963",
       "value": "<h5>Message</h5>"
      }
     },
     "f2014f13fe1a4e2784242914d68b5286": {
      "model_module": "@jupyter-widgets/controls",
      "model_module_version": "1.5.0",
      "model_name": "DescriptionStyleModel",
      "state": {
       "description_width": ""
      }
     },
     "f25aea119fc349cab9f22829fd3c47fc": {
      "model_module": "@jupyter-widgets/controls",
      "model_module_version": "1.5.0",
      "model_name": "HTMLModel",
      "state": {
       "layout": "IPY_MODEL_56fb45c8fe2f429e86a11e69e17f6b5c",
       "style": "IPY_MODEL_b2c4aef6b8ca48e289c86f64de5d8657",
       "value": "<h5>Status</h5>"
      }
     },
     "f2a6c5fa72fe4f8faed45ccab979cb03": {
      "model_module": "@jupyter-widgets/controls",
      "model_module_version": "1.5.0",
      "model_name": "DescriptionStyleModel",
      "state": {
       "description_width": ""
      }
     },
     "f41b6aa2f189400e9b216228b90a4ee3": {
      "model_module": "@jupyter-widgets/base",
      "model_module_version": "1.2.0",
      "model_name": "LayoutModel",
      "state": {
       "width": "95px"
      }
     },
     "f4e84c75810e4d50ab8af126a25c72b6": {
      "model_module": "@jupyter-widgets/base",
      "model_module_version": "1.2.0",
      "model_name": "LayoutModel",
      "state": {}
     },
     "f58a7f58e3d948a887ae0e5a112c4793": {
      "model_module": "@jupyter-widgets/controls",
      "model_module_version": "1.5.0",
      "model_name": "DescriptionStyleModel",
      "state": {
       "description_width": ""
      }
     },
     "f5a3d7f450034d3aa136a390f4362e66": {
      "model_module": "@jupyter-widgets/base",
      "model_module_version": "1.2.0",
      "model_name": "LayoutModel",
      "state": {
       "margin": "0px 0px 10px 0px"
      }
     },
     "f62bbcfe06b54122ad83f33297fc140b": {
      "model_module": "@jupyter-widgets/base",
      "model_module_version": "1.2.0",
      "model_name": "LayoutModel",
      "state": {
       "width": "70px"
      }
     },
     "f64858edb52d4e3a9934dcb4eaa0a453": {
      "model_module": "@jupyter-widgets/base",
      "model_module_version": "1.2.0",
      "model_name": "LayoutModel",
      "state": {
       "margin": "0px 0px 10px 0px"
      }
     },
     "f656665ee2a843408b8bff659ada0675": {
      "model_module": "@jupyter-widgets/controls",
      "model_module_version": "1.5.0",
      "model_name": "DescriptionStyleModel",
      "state": {
       "description_width": ""
      }
     },
     "f656da7b0e564e1eb512c2058b0bdc65": {
      "model_module": "@jupyter-widgets/controls",
      "model_module_version": "1.5.0",
      "model_name": "DescriptionStyleModel",
      "state": {
       "description_width": ""
      }
     },
     "f6e003da05d349118f38ae2a64663871": {
      "model_module": "@jupyter-widgets/base",
      "model_module_version": "1.2.0",
      "model_name": "LayoutModel",
      "state": {}
     },
     "f716d34fb3e34c4e9731810376427b3b": {
      "model_module": "@jupyter-widgets/base",
      "model_module_version": "1.2.0",
      "model_name": "LayoutModel",
      "state": {
       "margin": "0px 0px 10px 0px"
      }
     },
     "f81b69eec4564499b601fd0884079b3d": {
      "model_module": "@jupyter-widgets/controls",
      "model_module_version": "1.5.0",
      "model_name": "GridBoxModel",
      "state": {
       "children": [
        "IPY_MODEL_58df896f45dd4fc480852242017408a4"
       ],
       "layout": "IPY_MODEL_414a1068e8f64ea38065b2c17a5219bb"
      }
     },
     "f85491e06e184d8ea92219eabe3d965f": {
      "model_module": "@jupyter-widgets/controls",
      "model_module_version": "1.5.0",
      "model_name": "HTMLModel",
      "state": {
       "layout": "IPY_MODEL_9b2b9391cdc54e7f84bcd80736977d8a",
       "style": "IPY_MODEL_3d62cadf9a5f465d9583cda6d521b504",
       "value": "<h5>Queue</h5>"
      }
     },
     "f85c891265d7425a82cc4602ca1888d5": {
      "model_module": "@jupyter-widgets/controls",
      "model_module_version": "1.5.0",
      "model_name": "DescriptionStyleModel",
      "state": {
       "description_width": ""
      }
     },
     "f8cc3e2120ce4c09a84eea40e9eed074": {
      "model_module": "@jupyter-widgets/base",
      "model_module_version": "1.2.0",
      "model_name": "LayoutModel",
      "state": {
       "grid_template_areas": "\n                                       \". . . . right \"\n                                        ",
       "grid_template_columns": "20% 20% 20% 20% 20%",
       "width": "100%"
      }
     },
     "f92aa752b1a545efae5f89e89db79bff": {
      "model_module": "@jupyter-widgets/controls",
      "model_module_version": "1.5.0",
      "model_name": "HTMLModel",
      "state": {
       "layout": "IPY_MODEL_205d43046c3a467fae0274b728c28fb7",
       "style": "IPY_MODEL_8af40c979d2f4abf8eb79c65190883f4",
       "value": "<h5>Queue</h5>"
      }
     },
     "faab740a976848f08ac890a0120e954c": {
      "model_module": "@jupyter-widgets/base",
      "model_module_version": "1.2.0",
      "model_name": "LayoutModel",
      "state": {}
     },
     "fab3fab980c047b3bf037eec91f17fec": {
      "model_module": "@jupyter-widgets/controls",
      "model_module_version": "1.5.0",
      "model_name": "GridBoxModel",
      "state": {
       "children": [
        "IPY_MODEL_bc06df4c45e541b986a8bdc23fbda3ff"
       ],
       "layout": "IPY_MODEL_6dbddc0ddb0a4ecc9df90c8cfd27fc66"
      }
     },
     "fb4bb909935b4f20b1a5d18b2851389e": {
      "model_module": "@jupyter-widgets/controls",
      "model_module_version": "1.5.0",
      "model_name": "HTMLModel",
      "state": {
       "layout": "IPY_MODEL_f64858edb52d4e3a9934dcb4eaa0a453",
       "style": "IPY_MODEL_be299f6812f34f87a5d2e5aa345c86d4",
       "value": "<p style='font-family: IBM Plex Sans, Arial, Helvetica, sans-serif; font-size: 20px; font-weight: medium;'>Circuit Properties</p>"
      }
     },
     "fc6e67828b47492caa52c2d91c372fe7": {
      "model_module": "@jupyter-widgets/controls",
      "model_module_version": "1.5.0",
      "model_name": "DescriptionStyleModel",
      "state": {
       "description_width": ""
      }
     },
     "fd40314674714d34a9e5d0a27b68a8ae": {
      "model_module": "@quantum/ibm-q-lab-widgets",
      "model_module_version": "^1.0.3",
      "model_name": "CircuitComposerModel",
      "state": {
       "_model_module_version": "^1.0.3",
       "_view_module_version": "^1.0.3",
       "circuit": "\"OPENQASM 2.0;\\ninclude \\\"qelib1.inc\\\";\\n\\nqreg q[3];\\ncreg c[1];\\n\\ncx q[1],q[2];\\ncx q[0],q[2];\\nccx q[0],q[1],q[2];\\nmeasure q[2] -> c[0];\"",
       "editable": true,
       "layout": "IPY_MODEL_adf6da53203d41128e2426688fc2a811",
       "qiskit_code_cell_index": -1
      }
     },
     "fd9e1e3b36b04bf191eb9f11ed9fba6e": {
      "model_module": "@jupyter-widgets/controls",
      "model_module_version": "1.5.0",
      "model_name": "ButtonModel",
      "state": {
       "button_style": "primary",
       "description": "Clear",
       "layout": "IPY_MODEL_c6d3436b35f34d3e9949f934ac549e3f",
       "style": "IPY_MODEL_bb1a35f52d3c480f8a893f487356cefd"
      }
     },
     "fecd0c58b5384bf3b9130de561a09177": {
      "model_module": "@quantum/ibm-q-lab-widgets",
      "model_module_version": "^1.0.3",
      "model_name": "CircuitComposerModel",
      "state": {
       "_model_module_version": "^1.0.3",
       "_view_module_version": "^1.0.3",
       "circuit": "\"OPENQASM 2.0;\\ninclude \\\"qelib1.inc\\\";\\n\\nqreg q[3];\\ncreg c[1];\\n\\ncx q[1],q[2];\\ncx q[0],q[2];\\nccx q[0],q[1],q[2];\\nmeasure q[2] -> c[0];\"",
       "editable": true,
       "layout": "IPY_MODEL_23179b1b37c14621b715b07cddce4ea6",
       "qiskit_code_cell_index": -1
      }
     },
     "ff65bb72e7dd4615a2fd83de47a80910": {
      "model_module": "@jupyter-widgets/base",
      "model_module_version": "1.2.0",
      "model_name": "LayoutModel",
      "state": {
       "width": "145px"
      }
     },
     "ff701b3970a84131991b6d665a19e178": {
      "model_module": "@jupyter-widgets/controls",
      "model_module_version": "1.5.0",
      "model_name": "DescriptionStyleModel",
      "state": {
       "description_width": ""
      }
     },
     "ffa305d128494f9da013230865dda095": {
      "model_module": "@jupyter-widgets/controls",
      "model_module_version": "1.5.0",
      "model_name": "HBoxModel",
      "state": {
       "children": [
        "IPY_MODEL_1f31aa46a28643fbab939ce5970ead46",
        "IPY_MODEL_45c8857a37a24a34ad5810c13d23651b",
        "IPY_MODEL_2066912682fe43fa90445fe370a1da17",
        "IPY_MODEL_8e9c726f02214302bca28d27fcdb997e",
        "IPY_MODEL_cda4d9e419464993bc7ad28f3237ff69"
       ],
       "layout": "IPY_MODEL_4434f9bbf9164c36a5948c834c777739"
      }
     },
     "ffd90e2eb1ea44208c0625eb49218903": {
      "model_module": "@jupyter-widgets/controls",
      "model_module_version": "1.5.0",
      "model_name": "HBoxModel",
      "state": {
       "children": [
        "IPY_MODEL_1b72d96987b74aa880eebf6aabc2a993",
        "IPY_MODEL_332b33d947fe4fe1824bea4d9e54d7fd",
        "IPY_MODEL_59adb0fd062b4416a6869480b9acc0e1",
        "IPY_MODEL_9af0592a04a74f3e9ab218f471927763",
        "IPY_MODEL_791ee719ffcf47699877ff7253a067a3"
       ],
       "layout": "IPY_MODEL_5bfc0f9613df450989a98e0a200d3b2f"
      }
     }
    },
    "version_major": 2,
    "version_minor": 0
   }
  }
 },
 "nbformat": 4,
 "nbformat_minor": 5
}